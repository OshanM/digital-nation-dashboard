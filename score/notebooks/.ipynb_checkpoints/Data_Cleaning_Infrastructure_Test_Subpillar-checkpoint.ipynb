{
 "cells": [
  {
   "cell_type": "code",
   "execution_count": 1,
   "id": "1700f079",
   "metadata": {},
   "outputs": [],
   "source": [
    "import pandas as pd\n",
    "import numpy as np"
   ]
  },
  {
   "cell_type": "code",
   "execution_count": 2,
   "id": "06fe08f5",
   "metadata": {},
   "outputs": [],
   "source": [
    "### Get all the pillar names from the excel"
   ]
  },
  {
   "cell_type": "code",
   "execution_count": 3,
   "id": "82b97b5f",
   "metadata": {},
   "outputs": [],
   "source": [
    "names = pd.read_excel('../../UNDP Digital Assessment Data Framework Filename Matching V7.xlsx')"
   ]
  },
  {
   "cell_type": "code",
   "execution_count": 4,
   "id": "0b14598d",
   "metadata": {},
   "outputs": [],
   "source": [
    "col_names = ['Indicator','check', 'Data Source','Index','Filename','Sub-Pillar']"
   ]
  },
  {
   "cell_type": "code",
   "execution_count": 5,
   "id": "ebb8f4e3",
   "metadata": {},
   "outputs": [],
   "source": [
    "names = names[col_names]"
   ]
  },
  {
   "cell_type": "code",
   "execution_count": 6,
   "id": "1ca8e70a",
   "metadata": {},
   "outputs": [
    {
     "data": {
      "text/html": [
       "<div>\n",
       "<style scoped>\n",
       "    .dataframe tbody tr th:only-of-type {\n",
       "        vertical-align: middle;\n",
       "    }\n",
       "\n",
       "    .dataframe tbody tr th {\n",
       "        vertical-align: top;\n",
       "    }\n",
       "\n",
       "    .dataframe thead th {\n",
       "        text-align: right;\n",
       "    }\n",
       "</style>\n",
       "<table border=\"1\" class=\"dataframe\">\n",
       "  <thead>\n",
       "    <tr style=\"text-align: right;\">\n",
       "      <th></th>\n",
       "      <th>Indicator</th>\n",
       "      <th>check</th>\n",
       "      <th>Data Source</th>\n",
       "      <th>Index</th>\n",
       "      <th>Filename</th>\n",
       "      <th>Sub-Pillar</th>\n",
       "    </tr>\n",
       "  </thead>\n",
       "  <tbody>\n",
       "    <tr>\n",
       "      <th>0</th>\n",
       "      <td>Countries</td>\n",
       "      <td>NaN</td>\n",
       "      <td>UN Statistics Division: List of Countries</td>\n",
       "      <td>False</td>\n",
       "      <td>Countries</td>\n",
       "      <td>NaN</td>\n",
       "    </tr>\n",
       "    <tr>\n",
       "      <th>1</th>\n",
       "      <td>Database of Global Administrative Areas (GADM,...</td>\n",
       "      <td>NaN</td>\n",
       "      <td>NaN</td>\n",
       "      <td>False</td>\n",
       "      <td>NaN</td>\n",
       "      <td>NaN</td>\n",
       "    </tr>\n",
       "    <tr>\n",
       "      <th>2</th>\n",
       "      <td>High Resolution Population Density Maps + Demo...</td>\n",
       "      <td>NaN</td>\n",
       "      <td>NaN</td>\n",
       "      <td>False</td>\n",
       "      <td>NaN</td>\n",
       "      <td>NaN</td>\n",
       "    </tr>\n",
       "    <tr>\n",
       "      <th>3</th>\n",
       "      <td>population density vs openstreetmap object den...</td>\n",
       "      <td>NaN</td>\n",
       "      <td>NaN</td>\n",
       "      <td>False</td>\n",
       "      <td>NaN</td>\n",
       "      <td>NaN</td>\n",
       "    </tr>\n",
       "    <tr>\n",
       "      <th>4</th>\n",
       "      <td>Population Density</td>\n",
       "      <td>Infrastructure</td>\n",
       "      <td>World Bank: World Development Indicators</td>\n",
       "      <td>False</td>\n",
       "      <td>population_density</td>\n",
       "      <td>Connectivity Technology</td>\n",
       "    </tr>\n",
       "  </tbody>\n",
       "</table>\n",
       "</div>"
      ],
      "text/plain": [
       "                                           Indicator           check  \\\n",
       "0                                          Countries             NaN   \n",
       "1  Database of Global Administrative Areas (GADM,...             NaN   \n",
       "2  High Resolution Population Density Maps + Demo...             NaN   \n",
       "3  population density vs openstreetmap object den...             NaN   \n",
       "4                                 Population Density  Infrastructure   \n",
       "\n",
       "                                 Data Source  Index            Filename  \\\n",
       "0  UN Statistics Division: List of Countries  False           Countries   \n",
       "1                                        NaN  False                 NaN   \n",
       "2                                        NaN  False                 NaN   \n",
       "3                                        NaN  False                 NaN   \n",
       "4   World Bank: World Development Indicators  False  population_density   \n",
       "\n",
       "                Sub-Pillar  \n",
       "0                      NaN  \n",
       "1                      NaN  \n",
       "2                      NaN  \n",
       "3                      NaN  \n",
       "4  Connectivity Technology  "
      ]
     },
     "execution_count": 6,
     "metadata": {},
     "output_type": "execute_result"
    }
   ],
   "source": [
    "names.head()"
   ]
  },
  {
   "cell_type": "code",
   "execution_count": 7,
   "id": "28108199",
   "metadata": {},
   "outputs": [],
   "source": [
    "# get all the files per pillar\n",
    "data_stats = names.groupby('check').agg({'Filename':'count','Indicator':'count'})"
   ]
  },
  {
   "cell_type": "code",
   "execution_count": 8,
   "id": "720cfe7c",
   "metadata": {},
   "outputs": [
    {
     "data": {
      "text/html": [
       "<div>\n",
       "<style scoped>\n",
       "    .dataframe tbody tr th:only-of-type {\n",
       "        vertical-align: middle;\n",
       "    }\n",
       "\n",
       "    .dataframe tbody tr th {\n",
       "        vertical-align: top;\n",
       "    }\n",
       "\n",
       "    .dataframe thead th {\n",
       "        text-align: right;\n",
       "    }\n",
       "</style>\n",
       "<table border=\"1\" class=\"dataframe\">\n",
       "  <thead>\n",
       "    <tr style=\"text-align: right;\">\n",
       "      <th></th>\n",
       "      <th>Filename</th>\n",
       "      <th>Indicator</th>\n",
       "    </tr>\n",
       "    <tr>\n",
       "      <th>check</th>\n",
       "      <th></th>\n",
       "      <th></th>\n",
       "    </tr>\n",
       "  </thead>\n",
       "  <tbody>\n",
       "    <tr>\n",
       "      <th>Business</th>\n",
       "      <td>16</td>\n",
       "      <td>25</td>\n",
       "    </tr>\n",
       "    <tr>\n",
       "      <th>Foundations</th>\n",
       "      <td>14</td>\n",
       "      <td>22</td>\n",
       "    </tr>\n",
       "    <tr>\n",
       "      <th>Government</th>\n",
       "      <td>10</td>\n",
       "      <td>15</td>\n",
       "    </tr>\n",
       "    <tr>\n",
       "      <th>Infrastructure</th>\n",
       "      <td>41</td>\n",
       "      <td>52</td>\n",
       "    </tr>\n",
       "    <tr>\n",
       "      <th>People</th>\n",
       "      <td>35</td>\n",
       "      <td>49</td>\n",
       "    </tr>\n",
       "    <tr>\n",
       "      <th>Regulation</th>\n",
       "      <td>5</td>\n",
       "      <td>8</td>\n",
       "    </tr>\n",
       "    <tr>\n",
       "      <th>Strategy</th>\n",
       "      <td>1</td>\n",
       "      <td>1</td>\n",
       "    </tr>\n",
       "  </tbody>\n",
       "</table>\n",
       "</div>"
      ],
      "text/plain": [
       "                Filename  Indicator\n",
       "check                              \n",
       "Business              16         25\n",
       "Foundations           14         22\n",
       "Government            10         15\n",
       "Infrastructure        41         52\n",
       "People                35         49\n",
       "Regulation             5          8\n",
       "Strategy               1          1"
      ]
     },
     "execution_count": 8,
     "metadata": {},
     "output_type": "execute_result"
    }
   ],
   "source": [
    "data_stats"
   ]
  },
  {
   "cell_type": "code",
   "execution_count": 9,
   "id": "92878799",
   "metadata": {},
   "outputs": [],
   "source": [
    "### Infrastructure"
   ]
  },
  {
   "cell_type": "code",
   "execution_count": 10,
   "id": "bad8837c",
   "metadata": {},
   "outputs": [
    {
     "data": {
      "text/html": [
       "<div>\n",
       "<style scoped>\n",
       "    .dataframe tbody tr th:only-of-type {\n",
       "        vertical-align: middle;\n",
       "    }\n",
       "\n",
       "    .dataframe tbody tr th {\n",
       "        vertical-align: top;\n",
       "    }\n",
       "\n",
       "    .dataframe thead th {\n",
       "        text-align: right;\n",
       "    }\n",
       "</style>\n",
       "<table border=\"1\" class=\"dataframe\">\n",
       "  <thead>\n",
       "    <tr style=\"text-align: right;\">\n",
       "      <th></th>\n",
       "      <th>Indicator</th>\n",
       "      <th>check</th>\n",
       "      <th>Data Source</th>\n",
       "      <th>Index</th>\n",
       "      <th>Filename</th>\n",
       "      <th>Sub-Pillar</th>\n",
       "    </tr>\n",
       "  </thead>\n",
       "  <tbody>\n",
       "    <tr>\n",
       "      <th>4</th>\n",
       "      <td>Population Density</td>\n",
       "      <td>Infrastructure</td>\n",
       "      <td>World Bank: World Development Indicators</td>\n",
       "      <td>False</td>\n",
       "      <td>population_density</td>\n",
       "      <td>Connectivity Technology</td>\n",
       "    </tr>\n",
       "    <tr>\n",
       "      <th>5</th>\n",
       "      <td>Broadband Density</td>\n",
       "      <td>Infrastructure</td>\n",
       "      <td>ITU: Digital Development Dashboard</td>\n",
       "      <td>False</td>\n",
       "      <td>ITU_database</td>\n",
       "      <td>Connectivity Technology</td>\n",
       "    </tr>\n",
       "    <tr>\n",
       "      <th>6</th>\n",
       "      <td>% of population covered by internet connectivity</td>\n",
       "      <td>Infrastructure</td>\n",
       "      <td>ITU: Digital Development Dashboard</td>\n",
       "      <td>False</td>\n",
       "      <td>ITU_database</td>\n",
       "      <td>Connectivity Technology</td>\n",
       "    </tr>\n",
       "    <tr>\n",
       "      <th>7</th>\n",
       "      <td>% of population covered by mobile 2G+ data con...</td>\n",
       "      <td>Infrastructure</td>\n",
       "      <td>GSMA: Mobile Connectivity Index</td>\n",
       "      <td>False</td>\n",
       "      <td>countries_mobile_connectivity</td>\n",
       "      <td>Connectivity Technology</td>\n",
       "    </tr>\n",
       "    <tr>\n",
       "      <th>8</th>\n",
       "      <td>% of population covered by mobile 3G+ data con...</td>\n",
       "      <td>Infrastructure</td>\n",
       "      <td>GSMA: Mobile Connectivity Index</td>\n",
       "      <td>False</td>\n",
       "      <td>countries_mobile_connectivity</td>\n",
       "      <td>Connectivity Technology</td>\n",
       "    </tr>\n",
       "    <tr>\n",
       "      <th>9</th>\n",
       "      <td>% of population covered by mobile 4G+ data con...</td>\n",
       "      <td>Infrastructure</td>\n",
       "      <td>GSMA: Mobile Connectivity Index</td>\n",
       "      <td>False</td>\n",
       "      <td>countries_mobile_connectivity</td>\n",
       "      <td>Connectivity Technology</td>\n",
       "    </tr>\n",
       "    <tr>\n",
       "      <th>10</th>\n",
       "      <td>% of population covered by mobile 5G+ data con...</td>\n",
       "      <td>Infrastructure</td>\n",
       "      <td>GSMA: Mobile Connectivity Index</td>\n",
       "      <td>False</td>\n",
       "      <td>countries_mobile_connectivity</td>\n",
       "      <td>Connectivity Technology</td>\n",
       "    </tr>\n",
       "    <tr>\n",
       "      <th>11</th>\n",
       "      <td>Mobile Coverage Maps</td>\n",
       "      <td>Infrastructure</td>\n",
       "      <td>ITU: Digital Development Dashboard</td>\n",
       "      <td>False</td>\n",
       "      <td>ITU_database</td>\n",
       "      <td>Connectivity Technology</td>\n",
       "    </tr>\n",
       "    <tr>\n",
       "      <th>12</th>\n",
       "      <td>Electricity Density</td>\n",
       "      <td>Infrastructure</td>\n",
       "      <td>University of Oxford: Our World in Data</td>\n",
       "      <td>False</td>\n",
       "      <td>electricity_density</td>\n",
       "      <td>Connectivity Technology</td>\n",
       "    </tr>\n",
       "    <tr>\n",
       "      <th>13</th>\n",
       "      <td>% of population covered by electricity</td>\n",
       "      <td>Infrastructure</td>\n",
       "      <td>World Bank: World Development Indicators</td>\n",
       "      <td>False</td>\n",
       "      <td>population_electricity_coverage</td>\n",
       "      <td>Connectivity Technology</td>\n",
       "    </tr>\n",
       "    <tr>\n",
       "      <th>14</th>\n",
       "      <td>Electricity supply quality</td>\n",
       "      <td>Infrastructure</td>\n",
       "      <td>World Economic Forum: Global Competitiveness R...</td>\n",
       "      <td>False</td>\n",
       "      <td>elect_supply_quality</td>\n",
       "      <td>Connectivity Technology</td>\n",
       "    </tr>\n",
       "    <tr>\n",
       "      <th>15</th>\n",
       "      <td>Electricity Environmental Sustainability</td>\n",
       "      <td>Infrastructure</td>\n",
       "      <td>Sustainable Development Report</td>\n",
       "      <td>False</td>\n",
       "      <td>sustainability_index</td>\n",
       "      <td>Connectivity Technology</td>\n",
       "    </tr>\n",
       "    <tr>\n",
       "      <th>17</th>\n",
       "      <td>Cellphone Signal Density</td>\n",
       "      <td>Infrastructure</td>\n",
       "      <td>GSMA: Mobile Connectivity Index</td>\n",
       "      <td>False</td>\n",
       "      <td>mobile_density</td>\n",
       "      <td>Connectivity Technology</td>\n",
       "    </tr>\n",
       "    <tr>\n",
       "      <th>18</th>\n",
       "      <td>Telecommunication Infrastructure Index (TII)</td>\n",
       "      <td>Infrastructure</td>\n",
       "      <td>UN: E-Government Survey</td>\n",
       "      <td>True</td>\n",
       "      <td>e_government_index</td>\n",
       "      <td>Connectivity Technology</td>\n",
       "    </tr>\n",
       "    <tr>\n",
       "      <th>19</th>\n",
       "      <td>GSMA Mobile Connectivity Index</td>\n",
       "      <td>Infrastructure</td>\n",
       "      <td>GSMA: Mobile Connectivity Index</td>\n",
       "      <td>True</td>\n",
       "      <td>countries_mobile_connectivity</td>\n",
       "      <td>Connectivity Technology</td>\n",
       "    </tr>\n",
       "    <tr>\n",
       "      <th>20</th>\n",
       "      <td>Spectrum Allocated to Mobile Providers</td>\n",
       "      <td>Infrastructure</td>\n",
       "      <td>GSMA: Mobile Connectivity Index</td>\n",
       "      <td>False</td>\n",
       "      <td>spectrum_allocated_mobile_providers</td>\n",
       "      <td>Connectivity Technology</td>\n",
       "    </tr>\n",
       "    <tr>\n",
       "      <th>23</th>\n",
       "      <td>Internet Exchange Points (IXPs) map</td>\n",
       "      <td>Infrastructure</td>\n",
       "      <td>Packet Clearing House: Internet Exchange Direc...</td>\n",
       "      <td>False</td>\n",
       "      <td>countries_ixp</td>\n",
       "      <td>Connectivity Technology</td>\n",
       "    </tr>\n",
       "    <tr>\n",
       "      <th>25</th>\n",
       "      <td>ISP Speeds - Mobile</td>\n",
       "      <td>Infrastructure</td>\n",
       "      <td>Ookla: Speedtest Intelligence</td>\n",
       "      <td>False</td>\n",
       "      <td>mobile_speed</td>\n",
       "      <td>Connectivity Technology</td>\n",
       "    </tr>\n",
       "    <tr>\n",
       "      <th>26</th>\n",
       "      <td>Individuals using the Internet (% of population)</td>\n",
       "      <td>Infrastructure</td>\n",
       "      <td>ITU: Digital Development Dashboard</td>\n",
       "      <td>False</td>\n",
       "      <td>ITU_database</td>\n",
       "      <td>Connectivity Technology</td>\n",
       "    </tr>\n",
       "    <tr>\n",
       "      <th>27</th>\n",
       "      <td>Mobile cellular subscriptions (per 100 people)</td>\n",
       "      <td>Infrastructure</td>\n",
       "      <td>ITU: Digital Development Dashboard</td>\n",
       "      <td>False</td>\n",
       "      <td>ITU_database</td>\n",
       "      <td>Connectivity Technology</td>\n",
       "    </tr>\n",
       "    <tr>\n",
       "      <th>28</th>\n",
       "      <td>Average fixed broadband download speeds</td>\n",
       "      <td>Infrastructure</td>\n",
       "      <td>Ookla: Speedtest Intelligence</td>\n",
       "      <td>False</td>\n",
       "      <td>fixed_bdbd_spd_dl_ul</td>\n",
       "      <td>Connectivity Technology</td>\n",
       "    </tr>\n",
       "    <tr>\n",
       "      <th>32</th>\n",
       "      <td>ISP internet download speed average</td>\n",
       "      <td>Infrastructure</td>\n",
       "      <td>Ookla: Speedtest Intelligence</td>\n",
       "      <td>False</td>\n",
       "      <td>internet_speed</td>\n",
       "      <td>Connectivity Technology</td>\n",
       "    </tr>\n",
       "    <tr>\n",
       "      <th>33</th>\n",
       "      <td>Mobile dowload speed at the slowest hour of th...</td>\n",
       "      <td>Infrastructure</td>\n",
       "      <td>GSMA: Mobile Connectivity Index</td>\n",
       "      <td>False</td>\n",
       "      <td>mobile_latency</td>\n",
       "      <td>Connectivity Technology</td>\n",
       "    </tr>\n",
       "    <tr>\n",
       "      <th>34</th>\n",
       "      <td>Mobile download speed average</td>\n",
       "      <td>Infrastructure</td>\n",
       "      <td>Ookla: Speedtest Intelligence</td>\n",
       "      <td>False</td>\n",
       "      <td>mobile_speed</td>\n",
       "      <td>Connectivity Technology</td>\n",
       "    </tr>\n",
       "    <tr>\n",
       "      <th>38</th>\n",
       "      <td>Postal Coverage</td>\n",
       "      <td>Infrastructure</td>\n",
       "      <td>Universal Postal Union: Postal Statistics\\n</td>\n",
       "      <td>False</td>\n",
       "      <td>postal_coverage</td>\n",
       "      <td>Connectivity Technology</td>\n",
       "    </tr>\n",
       "  </tbody>\n",
       "</table>\n",
       "</div>"
      ],
      "text/plain": [
       "                                            Indicator           check  \\\n",
       "4                                  Population Density  Infrastructure   \n",
       "5                                   Broadband Density  Infrastructure   \n",
       "6    % of population covered by internet connectivity  Infrastructure   \n",
       "7   % of population covered by mobile 2G+ data con...  Infrastructure   \n",
       "8   % of population covered by mobile 3G+ data con...  Infrastructure   \n",
       "9   % of population covered by mobile 4G+ data con...  Infrastructure   \n",
       "10  % of population covered by mobile 5G+ data con...  Infrastructure   \n",
       "11                               Mobile Coverage Maps  Infrastructure   \n",
       "12                                Electricity Density  Infrastructure   \n",
       "13             % of population covered by electricity  Infrastructure   \n",
       "14                         Electricity supply quality  Infrastructure   \n",
       "15           Electricity Environmental Sustainability  Infrastructure   \n",
       "17                           Cellphone Signal Density  Infrastructure   \n",
       "18       Telecommunication Infrastructure Index (TII)  Infrastructure   \n",
       "19                    GSMA Mobile Connectivity Index   Infrastructure   \n",
       "20             Spectrum Allocated to Mobile Providers  Infrastructure   \n",
       "23                Internet Exchange Points (IXPs) map  Infrastructure   \n",
       "25                                ISP Speeds - Mobile  Infrastructure   \n",
       "26   Individuals using the Internet (% of population)  Infrastructure   \n",
       "27     Mobile cellular subscriptions (per 100 people)  Infrastructure   \n",
       "28           Average fixed broadband download speeds   Infrastructure   \n",
       "32               ISP internet download speed average   Infrastructure   \n",
       "33  Mobile dowload speed at the slowest hour of th...  Infrastructure   \n",
       "34                     Mobile download speed average   Infrastructure   \n",
       "38                                    Postal Coverage  Infrastructure   \n",
       "\n",
       "                                          Data Source  Index  \\\n",
       "4            World Bank: World Development Indicators  False   \n",
       "5                  ITU: Digital Development Dashboard  False   \n",
       "6                  ITU: Digital Development Dashboard  False   \n",
       "7                     GSMA: Mobile Connectivity Index  False   \n",
       "8                     GSMA: Mobile Connectivity Index  False   \n",
       "9                     GSMA: Mobile Connectivity Index  False   \n",
       "10                    GSMA: Mobile Connectivity Index  False   \n",
       "11                 ITU: Digital Development Dashboard  False   \n",
       "12            University of Oxford: Our World in Data  False   \n",
       "13           World Bank: World Development Indicators  False   \n",
       "14  World Economic Forum: Global Competitiveness R...  False   \n",
       "15                     Sustainable Development Report  False   \n",
       "17                    GSMA: Mobile Connectivity Index  False   \n",
       "18                           UN: E-Government Survey    True   \n",
       "19                    GSMA: Mobile Connectivity Index   True   \n",
       "20                    GSMA: Mobile Connectivity Index  False   \n",
       "23  Packet Clearing House: Internet Exchange Direc...  False   \n",
       "25                      Ookla: Speedtest Intelligence  False   \n",
       "26                 ITU: Digital Development Dashboard  False   \n",
       "27                 ITU: Digital Development Dashboard  False   \n",
       "28                      Ookla: Speedtest Intelligence  False   \n",
       "32                      Ookla: Speedtest Intelligence  False   \n",
       "33                    GSMA: Mobile Connectivity Index  False   \n",
       "34                      Ookla: Speedtest Intelligence  False   \n",
       "38        Universal Postal Union: Postal Statistics\\n  False   \n",
       "\n",
       "                               Filename               Sub-Pillar  \n",
       "4                    population_density  Connectivity Technology  \n",
       "5                          ITU_database  Connectivity Technology  \n",
       "6                          ITU_database  Connectivity Technology  \n",
       "7         countries_mobile_connectivity  Connectivity Technology  \n",
       "8         countries_mobile_connectivity  Connectivity Technology  \n",
       "9         countries_mobile_connectivity  Connectivity Technology  \n",
       "10        countries_mobile_connectivity  Connectivity Technology  \n",
       "11                         ITU_database  Connectivity Technology  \n",
       "12                  electricity_density  Connectivity Technology  \n",
       "13      population_electricity_coverage  Connectivity Technology  \n",
       "14                 elect_supply_quality  Connectivity Technology  \n",
       "15                 sustainability_index  Connectivity Technology  \n",
       "17                       mobile_density  Connectivity Technology  \n",
       "18                   e_government_index  Connectivity Technology  \n",
       "19        countries_mobile_connectivity  Connectivity Technology  \n",
       "20  spectrum_allocated_mobile_providers  Connectivity Technology  \n",
       "23                        countries_ixp  Connectivity Technology  \n",
       "25                         mobile_speed  Connectivity Technology  \n",
       "26                         ITU_database  Connectivity Technology  \n",
       "27                         ITU_database  Connectivity Technology  \n",
       "28                 fixed_bdbd_spd_dl_ul  Connectivity Technology  \n",
       "32                       internet_speed  Connectivity Technology  \n",
       "33                       mobile_latency  Connectivity Technology  \n",
       "34                         mobile_speed  Connectivity Technology  \n",
       "38                      postal_coverage  Connectivity Technology  "
      ]
     },
     "execution_count": 10,
     "metadata": {},
     "output_type": "execute_result"
    }
   ],
   "source": [
    "bnames = names[(names.check=='Infrastructure')&(~names.Filename.isna())]#&(names.Index==False)]\n",
    "bnames.head(25)"
   ]
  },
  {
   "cell_type": "code",
   "execution_count": 11,
   "id": "9fb575e2",
   "metadata": {},
   "outputs": [],
   "source": [
    "# get list of names for all indicators\n",
    "indicators = bnames.Indicator.unique()\n",
    "subpillars = bnames['Sub-Pillar'].unique()"
   ]
  },
  {
   "cell_type": "code",
   "execution_count": 12,
   "id": "c6705d41",
   "metadata": {},
   "outputs": [],
   "source": [
    "# get all file names\n",
    "bfiles = bnames.Filename.unique()"
   ]
  },
  {
   "cell_type": "code",
   "execution_count": 13,
   "id": "b810a370",
   "metadata": {},
   "outputs": [
    {
     "data": {
      "text/plain": [
       "array(['population_density', 'ITU_database',\n",
       "       'countries_mobile_connectivity', 'electricity_density',\n",
       "       'population_electricity_coverage', 'elect_supply_quality',\n",
       "       'sustainability_index', 'mobile_density', 'e_government_index',\n",
       "       'spectrum_allocated_mobile_providers', 'countries_ixp',\n",
       "       'mobile_speed', 'fixed_bdbd_spd_dl_ul', 'internet_speed',\n",
       "       'mobile_latency', 'postal_coverage', 'logistics_performance_index',\n",
       "       'national_cybersecurity_index',\n",
       "       'dice_export_global_cybersecurity_index',\n",
       "       'software_developer_ecosystem_size',\n",
       "       'digital_platform_economy_index', 'migration_skill',\n",
       "       'migration_industry', 'migration_country',\n",
       "       'global_fintech_ranking', 'tech_hubs', 'banking_sector_size',\n",
       "       'angel_investment', 'startup_eco_size',\n",
       "       'international_co_inventions', 'TCdata360'], dtype=object)"
      ]
     },
     "execution_count": 13,
     "metadata": {},
     "output_type": "execute_result"
    }
   ],
   "source": [
    "bfiles"
   ]
  },
  {
   "cell_type": "code",
   "execution_count": 14,
   "id": "b0f68220",
   "metadata": {},
   "outputs": [
    {
     "data": {
      "text/plain": [
       "array(['Connectivity Technology', 'Innovation Ecosystem'], dtype=object)"
      ]
     },
     "execution_count": 14,
     "metadata": {},
     "output_type": "execute_result"
    }
   ],
   "source": [
    "subpillars"
   ]
  },
  {
   "cell_type": "code",
   "execution_count": 15,
   "id": "ab444869",
   "metadata": {},
   "outputs": [],
   "source": [
    "# formula for converting scale\n",
    "def convert_rank(old_value, old_min=1, old_max=7, new_min=1, new_max=6 ):\n",
    "    \"\"\" Convert old scale values scale into new scale values\"\"\"\n",
    "    old_range = old_max - old_min\n",
    "    new_range = new_max - new_min\n",
    "    new_value = (((old_value-old_min)*new_range)/old_range)+new_min\n",
    "    return new_value"
   ]
  },
  {
   "cell_type": "code",
   "execution_count": 32,
   "id": "2ef1ac5f",
   "metadata": {},
   "outputs": [],
   "source": [
    "### 1. Population Density"
   ]
  },
  {
   "cell_type": "code",
   "execution_count": 33,
   "id": "7b2ff335",
   "metadata": {},
   "outputs": [],
   "source": [
    "### 2. Broadband Density"
   ]
  },
  {
   "cell_type": "code",
   "execution_count": 93,
   "id": "5c564421",
   "metadata": {},
   "outputs": [
    {
     "name": "stdout",
     "output_type": "stream",
     "text": [
      "Broadband Density\n",
      "ITU_database\n"
     ]
    },
    {
     "data": {
      "text/html": [
       "<div>\n",
       "<style scoped>\n",
       "    .dataframe tbody tr th:only-of-type {\n",
       "        vertical-align: middle;\n",
       "    }\n",
       "\n",
       "    .dataframe tbody tr th {\n",
       "        vertical-align: top;\n",
       "    }\n",
       "\n",
       "    .dataframe thead th {\n",
       "        text-align: right;\n",
       "    }\n",
       "</style>\n",
       "<table border=\"1\" class=\"dataframe\">\n",
       "  <thead>\n",
       "    <tr style=\"text-align: right;\">\n",
       "      <th></th>\n",
       "      <th>Country</th>\n",
       "      <th>Region</th>\n",
       "      <th>ISO</th>\n",
       "      <th>Indicator name</th>\n",
       "      <th>Year</th>\n",
       "      <th>Value</th>\n",
       "      <th>data_country</th>\n",
       "      <th>data_year</th>\n",
       "    </tr>\n",
       "  </thead>\n",
       "  <tbody>\n",
       "    <tr>\n",
       "      <th>0</th>\n",
       "      <td>Angola</td>\n",
       "      <td>Africa</td>\n",
       "      <td>AGO</td>\n",
       "      <td>Female mobile phone ownership as a % of total ...</td>\n",
       "      <td>2010.0</td>\n",
       "      <td>NaN</td>\n",
       "      <td>NaN</td>\n",
       "      <td>NaN</td>\n",
       "    </tr>\n",
       "    <tr>\n",
       "      <th>1</th>\n",
       "      <td>Benin</td>\n",
       "      <td>Africa</td>\n",
       "      <td>BEN</td>\n",
       "      <td>Female mobile phone ownership as a % of total ...</td>\n",
       "      <td>2010.0</td>\n",
       "      <td>NaN</td>\n",
       "      <td>NaN</td>\n",
       "      <td>NaN</td>\n",
       "    </tr>\n",
       "    <tr>\n",
       "      <th>2</th>\n",
       "      <td>Botswana</td>\n",
       "      <td>Africa</td>\n",
       "      <td>BWA</td>\n",
       "      <td>Female mobile phone ownership as a % of total ...</td>\n",
       "      <td>2010.0</td>\n",
       "      <td>NaN</td>\n",
       "      <td>NaN</td>\n",
       "      <td>NaN</td>\n",
       "    </tr>\n",
       "    <tr>\n",
       "      <th>3</th>\n",
       "      <td>Burkina Faso</td>\n",
       "      <td>Africa</td>\n",
       "      <td>BFA</td>\n",
       "      <td>Female mobile phone ownership as a % of total ...</td>\n",
       "      <td>2010.0</td>\n",
       "      <td>NaN</td>\n",
       "      <td>NaN</td>\n",
       "      <td>NaN</td>\n",
       "    </tr>\n",
       "    <tr>\n",
       "      <th>4</th>\n",
       "      <td>Burundi</td>\n",
       "      <td>Africa</td>\n",
       "      <td>BDI</td>\n",
       "      <td>Female mobile phone ownership as a % of total ...</td>\n",
       "      <td>2010.0</td>\n",
       "      <td>NaN</td>\n",
       "      <td>NaN</td>\n",
       "      <td>NaN</td>\n",
       "    </tr>\n",
       "    <tr>\n",
       "      <th>...</th>\n",
       "      <td>...</td>\n",
       "      <td>...</td>\n",
       "      <td>...</td>\n",
       "      <td>...</td>\n",
       "      <td>...</td>\n",
       "      <td>...</td>\n",
       "      <td>...</td>\n",
       "      <td>...</td>\n",
       "    </tr>\n",
       "    <tr>\n",
       "      <th>47807</th>\n",
       "      <td>Mexico</td>\n",
       "      <td>The Americas</td>\n",
       "      <td>MEX</td>\n",
       "      <td>Individuals using the Internet, total (%)</td>\n",
       "      <td>2020.0</td>\n",
       "      <td>71.970000</td>\n",
       "      <td>NaN</td>\n",
       "      <td>NaN</td>\n",
       "    </tr>\n",
       "    <tr>\n",
       "      <th>47808</th>\n",
       "      <td>Paraguay</td>\n",
       "      <td>The Americas</td>\n",
       "      <td>PRY</td>\n",
       "      <td>Individuals using the Internet, total (%)</td>\n",
       "      <td>2020.0</td>\n",
       "      <td>74.515240</td>\n",
       "      <td>NaN</td>\n",
       "      <td>NaN</td>\n",
       "    </tr>\n",
       "    <tr>\n",
       "      <th>47809</th>\n",
       "      <td>Peru</td>\n",
       "      <td>The Americas</td>\n",
       "      <td>PER</td>\n",
       "      <td>Individuals using the Internet, total (%)</td>\n",
       "      <td>2020.0</td>\n",
       "      <td>65.251799</td>\n",
       "      <td>NaN</td>\n",
       "      <td>NaN</td>\n",
       "    </tr>\n",
       "    <tr>\n",
       "      <th>47810</th>\n",
       "      <td>NaN</td>\n",
       "      <td>NaN</td>\n",
       "      <td>NaN</td>\n",
       "      <td>NaN</td>\n",
       "      <td>NaN</td>\n",
       "      <td>NaN</td>\n",
       "      <td>NaN</td>\n",
       "      <td>NaN</td>\n",
       "    </tr>\n",
       "    <tr>\n",
       "      <th>47811</th>\n",
       "      <td>Source: ITU, Wor​ld Telecommun​ic​ation/ICT In...</td>\n",
       "      <td>NaN</td>\n",
       "      <td>NaN</td>\n",
       "      <td>NaN</td>\n",
       "      <td>NaN</td>\n",
       "      <td>NaN</td>\n",
       "      <td>NaN</td>\n",
       "      <td>NaN</td>\n",
       "    </tr>\n",
       "  </tbody>\n",
       "</table>\n",
       "<p>47812 rows × 8 columns</p>\n",
       "</div>"
      ],
      "text/plain": [
       "                                                 Country        Region  ISO  \\\n",
       "0                                                 Angola        Africa  AGO   \n",
       "1                                                  Benin        Africa  BEN   \n",
       "2                                               Botswana        Africa  BWA   \n",
       "3                                           Burkina Faso        Africa  BFA   \n",
       "4                                                Burundi        Africa  BDI   \n",
       "...                                                  ...           ...  ...   \n",
       "47807                                             Mexico  The Americas  MEX   \n",
       "47808                                           Paraguay  The Americas  PRY   \n",
       "47809                                               Peru  The Americas  PER   \n",
       "47810                                                NaN           NaN  NaN   \n",
       "47811  Source: ITU, Wor​ld Telecommun​ic​ation/ICT In...           NaN  NaN   \n",
       "\n",
       "                                          Indicator name    Year      Value  \\\n",
       "0      Female mobile phone ownership as a % of total ...  2010.0        NaN   \n",
       "1      Female mobile phone ownership as a % of total ...  2010.0        NaN   \n",
       "2      Female mobile phone ownership as a % of total ...  2010.0        NaN   \n",
       "3      Female mobile phone ownership as a % of total ...  2010.0        NaN   \n",
       "4      Female mobile phone ownership as a % of total ...  2010.0        NaN   \n",
       "...                                                  ...     ...        ...   \n",
       "47807          Individuals using the Internet, total (%)  2020.0  71.970000   \n",
       "47808          Individuals using the Internet, total (%)  2020.0  74.515240   \n",
       "47809          Individuals using the Internet, total (%)  2020.0  65.251799   \n",
       "47810                                                NaN     NaN        NaN   \n",
       "47811                                                NaN     NaN        NaN   \n",
       "\n",
       "       data_country  data_year  \n",
       "0               NaN        NaN  \n",
       "1               NaN        NaN  \n",
       "2               NaN        NaN  \n",
       "3               NaN        NaN  \n",
       "4               NaN        NaN  \n",
       "...             ...        ...  \n",
       "47807           NaN        NaN  \n",
       "47808           NaN        NaN  \n",
       "47809           NaN        NaN  \n",
       "47810           NaN        NaN  \n",
       "47811           NaN        NaN  \n",
       "\n",
       "[47812 rows x 8 columns]"
      ]
     },
     "execution_count": 93,
     "metadata": {},
     "output_type": "execute_result"
    }
   ],
   "source": [
    "indicators[1]\n",
    "\n",
    "# load data\n",
    "indicator = indicators[1]\n",
    "print(indicator)\n",
    "bf = bnames[bnames['Indicator']==indicator]['Filename'].values[0]\n",
    "print(bf)\n",
    "\n",
    "df = pd.read_csv('../../processed/{}.csv'.format(bf))\n",
    "df"
   ]
  },
  {
   "cell_type": "code",
   "execution_count": 94,
   "id": "79275c1a",
   "metadata": {},
   "outputs": [
    {
     "data": {
      "text/html": [
       "<div>\n",
       "<style scoped>\n",
       "    .dataframe tbody tr th:only-of-type {\n",
       "        vertical-align: middle;\n",
       "    }\n",
       "\n",
       "    .dataframe tbody tr th {\n",
       "        vertical-align: top;\n",
       "    }\n",
       "\n",
       "    .dataframe thead th {\n",
       "        text-align: right;\n",
       "    }\n",
       "</style>\n",
       "<table border=\"1\" class=\"dataframe\">\n",
       "  <thead>\n",
       "    <tr style=\"text-align: right;\">\n",
       "      <th></th>\n",
       "      <th>Country</th>\n",
       "      <th>Region</th>\n",
       "      <th>ISO</th>\n",
       "      <th>Indicator name</th>\n",
       "      <th>Year</th>\n",
       "      <th>Value</th>\n",
       "      <th>data_country</th>\n",
       "      <th>data_year</th>\n",
       "    </tr>\n",
       "  </thead>\n",
       "  <tbody>\n",
       "    <tr>\n",
       "      <th>36787</th>\n",
       "      <td>Angola</td>\n",
       "      <td>Africa</td>\n",
       "      <td>AGO</td>\n",
       "      <td>Fixed broadband subscriptions per 100 inhabitants</td>\n",
       "      <td>2020.0</td>\n",
       "      <td>0.701662</td>\n",
       "      <td>NaN</td>\n",
       "      <td>NaN</td>\n",
       "    </tr>\n",
       "    <tr>\n",
       "      <th>36788</th>\n",
       "      <td>Benin</td>\n",
       "      <td>Africa</td>\n",
       "      <td>BEN</td>\n",
       "      <td>Fixed broadband subscriptions per 100 inhabitants</td>\n",
       "      <td>2020.0</td>\n",
       "      <td>0.247303</td>\n",
       "      <td>NaN</td>\n",
       "      <td>NaN</td>\n",
       "    </tr>\n",
       "    <tr>\n",
       "      <th>36789</th>\n",
       "      <td>Botswana</td>\n",
       "      <td>Africa</td>\n",
       "      <td>BWA</td>\n",
       "      <td>Fixed broadband subscriptions per 100 inhabitants</td>\n",
       "      <td>2020.0</td>\n",
       "      <td>3.057373</td>\n",
       "      <td>NaN</td>\n",
       "      <td>NaN</td>\n",
       "    </tr>\n",
       "    <tr>\n",
       "      <th>36790</th>\n",
       "      <td>Burkina Faso</td>\n",
       "      <td>Africa</td>\n",
       "      <td>BFA</td>\n",
       "      <td>Fixed broadband subscriptions per 100 inhabitants</td>\n",
       "      <td>2020.0</td>\n",
       "      <td>0.066875</td>\n",
       "      <td>NaN</td>\n",
       "      <td>NaN</td>\n",
       "    </tr>\n",
       "    <tr>\n",
       "      <th>36791</th>\n",
       "      <td>Burundi</td>\n",
       "      <td>Africa</td>\n",
       "      <td>BDI</td>\n",
       "      <td>Fixed broadband subscriptions per 100 inhabitants</td>\n",
       "      <td>2020.0</td>\n",
       "      <td>0.035574</td>\n",
       "      <td>NaN</td>\n",
       "      <td>NaN</td>\n",
       "    </tr>\n",
       "    <tr>\n",
       "      <th>...</th>\n",
       "      <td>...</td>\n",
       "      <td>...</td>\n",
       "      <td>...</td>\n",
       "      <td>...</td>\n",
       "      <td>...</td>\n",
       "      <td>...</td>\n",
       "      <td>...</td>\n",
       "      <td>...</td>\n",
       "    </tr>\n",
       "    <tr>\n",
       "      <th>36978</th>\n",
       "      <td>Suriname</td>\n",
       "      <td>The Americas</td>\n",
       "      <td>SUR</td>\n",
       "      <td>Fixed broadband subscriptions per 100 inhabitants</td>\n",
       "      <td>2020.0</td>\n",
       "      <td>15.728770</td>\n",
       "      <td>NaN</td>\n",
       "      <td>NaN</td>\n",
       "    </tr>\n",
       "    <tr>\n",
       "      <th>36979</th>\n",
       "      <td>Trinidad and Tobago</td>\n",
       "      <td>The Americas</td>\n",
       "      <td>TTO</td>\n",
       "      <td>Fixed broadband subscriptions per 100 inhabitants</td>\n",
       "      <td>2020.0</td>\n",
       "      <td>26.866254</td>\n",
       "      <td>NaN</td>\n",
       "      <td>NaN</td>\n",
       "    </tr>\n",
       "    <tr>\n",
       "      <th>36980</th>\n",
       "      <td>United States</td>\n",
       "      <td>The Americas</td>\n",
       "      <td>USA</td>\n",
       "      <td>Fixed broadband subscriptions per 100 inhabitants</td>\n",
       "      <td>2020.0</td>\n",
       "      <td>36.413908</td>\n",
       "      <td>NaN</td>\n",
       "      <td>NaN</td>\n",
       "    </tr>\n",
       "    <tr>\n",
       "      <th>36981</th>\n",
       "      <td>Uruguay</td>\n",
       "      <td>The Americas</td>\n",
       "      <td>URY</td>\n",
       "      <td>Fixed broadband subscriptions per 100 inhabitants</td>\n",
       "      <td>2020.0</td>\n",
       "      <td>NaN</td>\n",
       "      <td>NaN</td>\n",
       "      <td>NaN</td>\n",
       "    </tr>\n",
       "    <tr>\n",
       "      <th>36982</th>\n",
       "      <td>Venezuela</td>\n",
       "      <td>The Americas</td>\n",
       "      <td>VEN</td>\n",
       "      <td>Fixed broadband subscriptions per 100 inhabitants</td>\n",
       "      <td>2020.0</td>\n",
       "      <td>8.465298</td>\n",
       "      <td>NaN</td>\n",
       "      <td>NaN</td>\n",
       "    </tr>\n",
       "  </tbody>\n",
       "</table>\n",
       "<p>196 rows × 8 columns</p>\n",
       "</div>"
      ],
      "text/plain": [
       "                   Country        Region  ISO  \\\n",
       "36787               Angola        Africa  AGO   \n",
       "36788                Benin        Africa  BEN   \n",
       "36789             Botswana        Africa  BWA   \n",
       "36790         Burkina Faso        Africa  BFA   \n",
       "36791              Burundi        Africa  BDI   \n",
       "...                    ...           ...  ...   \n",
       "36978             Suriname  The Americas  SUR   \n",
       "36979  Trinidad and Tobago  The Americas  TTO   \n",
       "36980        United States  The Americas  USA   \n",
       "36981              Uruguay  The Americas  URY   \n",
       "36982            Venezuela  The Americas  VEN   \n",
       "\n",
       "                                          Indicator name    Year      Value  \\\n",
       "36787  Fixed broadband subscriptions per 100 inhabitants  2020.0   0.701662   \n",
       "36788  Fixed broadband subscriptions per 100 inhabitants  2020.0   0.247303   \n",
       "36789  Fixed broadband subscriptions per 100 inhabitants  2020.0   3.057373   \n",
       "36790  Fixed broadband subscriptions per 100 inhabitants  2020.0   0.066875   \n",
       "36791  Fixed broadband subscriptions per 100 inhabitants  2020.0   0.035574   \n",
       "...                                                  ...     ...        ...   \n",
       "36978  Fixed broadband subscriptions per 100 inhabitants  2020.0  15.728770   \n",
       "36979  Fixed broadband subscriptions per 100 inhabitants  2020.0  26.866254   \n",
       "36980  Fixed broadband subscriptions per 100 inhabitants  2020.0  36.413908   \n",
       "36981  Fixed broadband subscriptions per 100 inhabitants  2020.0        NaN   \n",
       "36982  Fixed broadband subscriptions per 100 inhabitants  2020.0   8.465298   \n",
       "\n",
       "       data_country  data_year  \n",
       "36787           NaN        NaN  \n",
       "36788           NaN        NaN  \n",
       "36789           NaN        NaN  \n",
       "36790           NaN        NaN  \n",
       "36791           NaN        NaN  \n",
       "...             ...        ...  \n",
       "36978           NaN        NaN  \n",
       "36979           NaN        NaN  \n",
       "36980           NaN        NaN  \n",
       "36981           NaN        NaN  \n",
       "36982           NaN        NaN  \n",
       "\n",
       "[196 rows x 8 columns]"
      ]
     },
     "execution_count": 94,
     "metadata": {},
     "output_type": "execute_result"
    }
   ],
   "source": [
    "df = df[(df.Year == 2020)]\n",
    "df = df[(df['Indicator name'] == 'Fixed broadband subscriptions per 100 inhabitants')]\n",
    "df"
   ]
  },
  {
   "cell_type": "code",
   "execution_count": 95,
   "id": "a629d152",
   "metadata": {},
   "outputs": [
    {
     "name": "stdout",
     "output_type": "stream",
     "text": [
      "Connectivity Technology\n"
     ]
    }
   ],
   "source": [
    "subpillars[0]\n",
    "subpillar = subpillars[0]\n",
    "print(subpillar)"
   ]
  },
  {
   "cell_type": "code",
   "execution_count": 97,
   "id": "bcfa88dc",
   "metadata": {},
   "outputs": [],
   "source": [
    "# create standard columns\n",
    "# df.rename(columns={'COUNTRY/ECONOMY':'Country Name'}, inplace=True)\n",
    "df['higher_is_better'] = True\n",
    "df['Indicator'] = indicator\n",
    "df['data_col'] = df['Value']\n",
    "df.rename(columns={'Country':'Country Name'}, inplace=True)\n",
    "df['Sub-Pillar'] = subpillar\n",
    "\n",
    "min_rank = df['data_col'].min()\n",
    "max_rank = df['data_col'].max()\n",
    "\n",
    "# transform 0-1 rank into 1-6\n",
    "df['new_rank_score'] = df['data_col'].apply(lambda row: convert_rank(row,old_min=min_rank,old_max=max_rank))"
   ]
  },
  {
   "cell_type": "code",
   "execution_count": 98,
   "id": "f7d02be4",
   "metadata": {},
   "outputs": [
    {
     "data": {
      "text/html": [
       "<div>\n",
       "<style scoped>\n",
       "    .dataframe tbody tr th:only-of-type {\n",
       "        vertical-align: middle;\n",
       "    }\n",
       "\n",
       "    .dataframe tbody tr th {\n",
       "        vertical-align: top;\n",
       "    }\n",
       "\n",
       "    .dataframe thead th {\n",
       "        text-align: right;\n",
       "    }\n",
       "</style>\n",
       "<table border=\"1\" class=\"dataframe\">\n",
       "  <thead>\n",
       "    <tr style=\"text-align: right;\">\n",
       "      <th></th>\n",
       "      <th>Country Name</th>\n",
       "      <th>Year</th>\n",
       "      <th>Indicator</th>\n",
       "      <th>data_col</th>\n",
       "      <th>new_rank_score</th>\n",
       "      <th>higher_is_better</th>\n",
       "      <th>Sub-Pillar</th>\n",
       "    </tr>\n",
       "  </thead>\n",
       "  <tbody>\n",
       "    <tr>\n",
       "      <th>36787</th>\n",
       "      <td>Angola</td>\n",
       "      <td>2020.0</td>\n",
       "      <td>Broadband Density</td>\n",
       "      <td>0.701662</td>\n",
       "      <td>1.065945</td>\n",
       "      <td>True</td>\n",
       "      <td>Connectivity Technology</td>\n",
       "    </tr>\n",
       "    <tr>\n",
       "      <th>36788</th>\n",
       "      <td>Benin</td>\n",
       "      <td>2020.0</td>\n",
       "      <td>Broadband Density</td>\n",
       "      <td>0.247303</td>\n",
       "      <td>1.023242</td>\n",
       "      <td>True</td>\n",
       "      <td>Connectivity Technology</td>\n",
       "    </tr>\n",
       "    <tr>\n",
       "      <th>36789</th>\n",
       "      <td>Botswana</td>\n",
       "      <td>2020.0</td>\n",
       "      <td>Broadband Density</td>\n",
       "      <td>3.057373</td>\n",
       "      <td>1.287344</td>\n",
       "      <td>True</td>\n",
       "      <td>Connectivity Technology</td>\n",
       "    </tr>\n",
       "    <tr>\n",
       "      <th>36790</th>\n",
       "      <td>Burkina Faso</td>\n",
       "      <td>2020.0</td>\n",
       "      <td>Broadband Density</td>\n",
       "      <td>0.066875</td>\n",
       "      <td>1.006285</td>\n",
       "      <td>True</td>\n",
       "      <td>Connectivity Technology</td>\n",
       "    </tr>\n",
       "    <tr>\n",
       "      <th>36791</th>\n",
       "      <td>Burundi</td>\n",
       "      <td>2020.0</td>\n",
       "      <td>Broadband Density</td>\n",
       "      <td>0.035574</td>\n",
       "      <td>1.003343</td>\n",
       "      <td>True</td>\n",
       "      <td>Connectivity Technology</td>\n",
       "    </tr>\n",
       "    <tr>\n",
       "      <th>...</th>\n",
       "      <td>...</td>\n",
       "      <td>...</td>\n",
       "      <td>...</td>\n",
       "      <td>...</td>\n",
       "      <td>...</td>\n",
       "      <td>...</td>\n",
       "      <td>...</td>\n",
       "    </tr>\n",
       "    <tr>\n",
       "      <th>36978</th>\n",
       "      <td>Suriname</td>\n",
       "      <td>2020.0</td>\n",
       "      <td>Broadband Density</td>\n",
       "      <td>15.728770</td>\n",
       "      <td>2.478250</td>\n",
       "      <td>True</td>\n",
       "      <td>Connectivity Technology</td>\n",
       "    </tr>\n",
       "    <tr>\n",
       "      <th>36979</th>\n",
       "      <td>Trinidad and Tobago</td>\n",
       "      <td>2020.0</td>\n",
       "      <td>Broadband Density</td>\n",
       "      <td>26.866254</td>\n",
       "      <td>3.524993</td>\n",
       "      <td>True</td>\n",
       "      <td>Connectivity Technology</td>\n",
       "    </tr>\n",
       "    <tr>\n",
       "      <th>36980</th>\n",
       "      <td>United States</td>\n",
       "      <td>2020.0</td>\n",
       "      <td>Broadband Density</td>\n",
       "      <td>36.413908</td>\n",
       "      <td>4.422318</td>\n",
       "      <td>True</td>\n",
       "      <td>Connectivity Technology</td>\n",
       "    </tr>\n",
       "    <tr>\n",
       "      <th>36981</th>\n",
       "      <td>Uruguay</td>\n",
       "      <td>2020.0</td>\n",
       "      <td>Broadband Density</td>\n",
       "      <td>NaN</td>\n",
       "      <td>NaN</td>\n",
       "      <td>True</td>\n",
       "      <td>Connectivity Technology</td>\n",
       "    </tr>\n",
       "    <tr>\n",
       "      <th>36982</th>\n",
       "      <td>Venezuela</td>\n",
       "      <td>2020.0</td>\n",
       "      <td>Broadband Density</td>\n",
       "      <td>8.465298</td>\n",
       "      <td>1.795601</td>\n",
       "      <td>True</td>\n",
       "      <td>Connectivity Technology</td>\n",
       "    </tr>\n",
       "  </tbody>\n",
       "</table>\n",
       "<p>196 rows × 7 columns</p>\n",
       "</div>"
      ],
      "text/plain": [
       "              Country Name    Year          Indicator   data_col  \\\n",
       "36787               Angola  2020.0  Broadband Density   0.701662   \n",
       "36788                Benin  2020.0  Broadband Density   0.247303   \n",
       "36789             Botswana  2020.0  Broadband Density   3.057373   \n",
       "36790         Burkina Faso  2020.0  Broadband Density   0.066875   \n",
       "36791              Burundi  2020.0  Broadband Density   0.035574   \n",
       "...                    ...     ...                ...        ...   \n",
       "36978             Suriname  2020.0  Broadband Density  15.728770   \n",
       "36979  Trinidad and Tobago  2020.0  Broadband Density  26.866254   \n",
       "36980        United States  2020.0  Broadband Density  36.413908   \n",
       "36981              Uruguay  2020.0  Broadband Density        NaN   \n",
       "36982            Venezuela  2020.0  Broadband Density   8.465298   \n",
       "\n",
       "       new_rank_score  higher_is_better               Sub-Pillar  \n",
       "36787        1.065945              True  Connectivity Technology  \n",
       "36788        1.023242              True  Connectivity Technology  \n",
       "36789        1.287344              True  Connectivity Technology  \n",
       "36790        1.006285              True  Connectivity Technology  \n",
       "36791        1.003343              True  Connectivity Technology  \n",
       "...               ...               ...                      ...  \n",
       "36978        2.478250              True  Connectivity Technology  \n",
       "36979        3.524993              True  Connectivity Technology  \n",
       "36980        4.422318              True  Connectivity Technology  \n",
       "36981             NaN              True  Connectivity Technology  \n",
       "36982        1.795601              True  Connectivity Technology  \n",
       "\n",
       "[196 rows x 7 columns]"
      ]
     },
     "execution_count": 98,
     "metadata": {},
     "output_type": "execute_result"
    }
   ],
   "source": [
    "df = df[['Country Name', 'Year','Indicator','data_col','new_rank_score','higher_is_better','Sub-Pillar']]\n",
    "df"
   ]
  },
  {
   "cell_type": "code",
   "execution_count": 99,
   "id": "31741950",
   "metadata": {},
   "outputs": [],
   "source": [
    "df.to_csv('../indicator_scores/infrastructure_{}_scores.csv'.format(indicator), index=False)"
   ]
  },
  {
   "cell_type": "code",
   "execution_count": 17,
   "id": "53b0f8d5",
   "metadata": {},
   "outputs": [],
   "source": [
    "### 3. % of population covered by internet connectivity"
   ]
  },
  {
   "cell_type": "code",
   "execution_count": 53,
   "id": "999e08b3",
   "metadata": {},
   "outputs": [
    {
     "name": "stdout",
     "output_type": "stream",
     "text": [
      "% of population covered by internet connectivity\n",
      "ITU_database\n"
     ]
    }
   ],
   "source": [
    "indicators[2]\n",
    "\n",
    "# load data\n",
    "indicator = indicators[2]\n",
    "print(indicator)\n",
    "bf = bnames[bnames['Indicator']==indicator]['Filename'].values[0]\n",
    "print(bf)\n",
    "\n",
    "df = pd.read_csv('../../processed/{}.csv'.format(bf))"
   ]
  },
  {
   "cell_type": "code",
   "execution_count": 54,
   "id": "e83c10d3",
   "metadata": {},
   "outputs": [
    {
     "data": {
      "text/html": [
       "<div>\n",
       "<style scoped>\n",
       "    .dataframe tbody tr th:only-of-type {\n",
       "        vertical-align: middle;\n",
       "    }\n",
       "\n",
       "    .dataframe tbody tr th {\n",
       "        vertical-align: top;\n",
       "    }\n",
       "\n",
       "    .dataframe thead th {\n",
       "        text-align: right;\n",
       "    }\n",
       "</style>\n",
       "<table border=\"1\" class=\"dataframe\">\n",
       "  <thead>\n",
       "    <tr style=\"text-align: right;\">\n",
       "      <th></th>\n",
       "      <th>Country</th>\n",
       "      <th>Region</th>\n",
       "      <th>ISO</th>\n",
       "      <th>Indicator name</th>\n",
       "      <th>Year</th>\n",
       "      <th>Value</th>\n",
       "      <th>data_country</th>\n",
       "      <th>data_year</th>\n",
       "    </tr>\n",
       "  </thead>\n",
       "  <tbody>\n",
       "    <tr>\n",
       "      <th>47744</th>\n",
       "      <td>Mauritius</td>\n",
       "      <td>Africa</td>\n",
       "      <td>MUS</td>\n",
       "      <td>Individuals using the Internet, total (%)</td>\n",
       "      <td>2020.0</td>\n",
       "      <td>64.884904</td>\n",
       "      <td>NaN</td>\n",
       "      <td>NaN</td>\n",
       "    </tr>\n",
       "    <tr>\n",
       "      <th>47745</th>\n",
       "      <td>Uganda</td>\n",
       "      <td>Africa</td>\n",
       "      <td>UGA</td>\n",
       "      <td>Individuals using the Internet, total (%)</td>\n",
       "      <td>2020.0</td>\n",
       "      <td>NaN</td>\n",
       "      <td>NaN</td>\n",
       "      <td>NaN</td>\n",
       "    </tr>\n",
       "    <tr>\n",
       "      <th>47746</th>\n",
       "      <td>Bahrain</td>\n",
       "      <td>Arab States</td>\n",
       "      <td>BHR</td>\n",
       "      <td>Individuals using the Internet, total (%)</td>\n",
       "      <td>2020.0</td>\n",
       "      <td>99.539512</td>\n",
       "      <td>NaN</td>\n",
       "      <td>NaN</td>\n",
       "    </tr>\n",
       "    <tr>\n",
       "      <th>47747</th>\n",
       "      <td>Egypt</td>\n",
       "      <td>Arab States</td>\n",
       "      <td>EGY</td>\n",
       "      <td>Individuals using the Internet, total (%)</td>\n",
       "      <td>2020.0</td>\n",
       "      <td>71.914200</td>\n",
       "      <td>NaN</td>\n",
       "      <td>NaN</td>\n",
       "    </tr>\n",
       "    <tr>\n",
       "      <th>47748</th>\n",
       "      <td>Iraq</td>\n",
       "      <td>Arab States</td>\n",
       "      <td>IRQ</td>\n",
       "      <td>Individuals using the Internet, total (%)</td>\n",
       "      <td>2020.0</td>\n",
       "      <td>NaN</td>\n",
       "      <td>NaN</td>\n",
       "      <td>NaN</td>\n",
       "    </tr>\n",
       "    <tr>\n",
       "      <th>...</th>\n",
       "      <td>...</td>\n",
       "      <td>...</td>\n",
       "      <td>...</td>\n",
       "      <td>...</td>\n",
       "      <td>...</td>\n",
       "      <td>...</td>\n",
       "      <td>...</td>\n",
       "      <td>...</td>\n",
       "    </tr>\n",
       "    <tr>\n",
       "      <th>47805</th>\n",
       "      <td>Bolivia (Plurinational State of)</td>\n",
       "      <td>The Americas</td>\n",
       "      <td>BOL</td>\n",
       "      <td>Individuals using the Internet, total (%)</td>\n",
       "      <td>2020.0</td>\n",
       "      <td>55.139051</td>\n",
       "      <td>NaN</td>\n",
       "      <td>NaN</td>\n",
       "    </tr>\n",
       "    <tr>\n",
       "      <th>47806</th>\n",
       "      <td>Costa Rica</td>\n",
       "      <td>The Americas</td>\n",
       "      <td>CRI</td>\n",
       "      <td>Individuals using the Internet, total (%)</td>\n",
       "      <td>2020.0</td>\n",
       "      <td>80.530186</td>\n",
       "      <td>NaN</td>\n",
       "      <td>NaN</td>\n",
       "    </tr>\n",
       "    <tr>\n",
       "      <th>47807</th>\n",
       "      <td>Mexico</td>\n",
       "      <td>The Americas</td>\n",
       "      <td>MEX</td>\n",
       "      <td>Individuals using the Internet, total (%)</td>\n",
       "      <td>2020.0</td>\n",
       "      <td>71.970000</td>\n",
       "      <td>NaN</td>\n",
       "      <td>NaN</td>\n",
       "    </tr>\n",
       "    <tr>\n",
       "      <th>47808</th>\n",
       "      <td>Paraguay</td>\n",
       "      <td>The Americas</td>\n",
       "      <td>PRY</td>\n",
       "      <td>Individuals using the Internet, total (%)</td>\n",
       "      <td>2020.0</td>\n",
       "      <td>74.515240</td>\n",
       "      <td>NaN</td>\n",
       "      <td>NaN</td>\n",
       "    </tr>\n",
       "    <tr>\n",
       "      <th>47809</th>\n",
       "      <td>Peru</td>\n",
       "      <td>The Americas</td>\n",
       "      <td>PER</td>\n",
       "      <td>Individuals using the Internet, total (%)</td>\n",
       "      <td>2020.0</td>\n",
       "      <td>65.251799</td>\n",
       "      <td>NaN</td>\n",
       "      <td>NaN</td>\n",
       "    </tr>\n",
       "  </tbody>\n",
       "</table>\n",
       "<p>66 rows × 8 columns</p>\n",
       "</div>"
      ],
      "text/plain": [
       "                                Country        Region  ISO  \\\n",
       "47744                         Mauritius        Africa  MUS   \n",
       "47745                            Uganda        Africa  UGA   \n",
       "47746                           Bahrain   Arab States  BHR   \n",
       "47747                             Egypt   Arab States  EGY   \n",
       "47748                              Iraq   Arab States  IRQ   \n",
       "...                                 ...           ...  ...   \n",
       "47805  Bolivia (Plurinational State of)  The Americas  BOL   \n",
       "47806                        Costa Rica  The Americas  CRI   \n",
       "47807                            Mexico  The Americas  MEX   \n",
       "47808                          Paraguay  The Americas  PRY   \n",
       "47809                              Peru  The Americas  PER   \n",
       "\n",
       "                                  Indicator name    Year      Value  \\\n",
       "47744  Individuals using the Internet, total (%)  2020.0  64.884904   \n",
       "47745  Individuals using the Internet, total (%)  2020.0        NaN   \n",
       "47746  Individuals using the Internet, total (%)  2020.0  99.539512   \n",
       "47747  Individuals using the Internet, total (%)  2020.0  71.914200   \n",
       "47748  Individuals using the Internet, total (%)  2020.0        NaN   \n",
       "...                                          ...     ...        ...   \n",
       "47805  Individuals using the Internet, total (%)  2020.0  55.139051   \n",
       "47806  Individuals using the Internet, total (%)  2020.0  80.530186   \n",
       "47807  Individuals using the Internet, total (%)  2020.0  71.970000   \n",
       "47808  Individuals using the Internet, total (%)  2020.0  74.515240   \n",
       "47809  Individuals using the Internet, total (%)  2020.0  65.251799   \n",
       "\n",
       "       data_country  data_year  \n",
       "47744           NaN        NaN  \n",
       "47745           NaN        NaN  \n",
       "47746           NaN        NaN  \n",
       "47747           NaN        NaN  \n",
       "47748           NaN        NaN  \n",
       "...             ...        ...  \n",
       "47805           NaN        NaN  \n",
       "47806           NaN        NaN  \n",
       "47807           NaN        NaN  \n",
       "47808           NaN        NaN  \n",
       "47809           NaN        NaN  \n",
       "\n",
       "[66 rows x 8 columns]"
      ]
     },
     "execution_count": 54,
     "metadata": {},
     "output_type": "execute_result"
    }
   ],
   "source": [
    "df = df[(df.Year == 2019)]\n",
    "df = df[(df['Indicator name']== 'Individuals using the Internet, total (%)')]\n",
    "df"
   ]
  },
  {
   "cell_type": "code",
   "execution_count": 56,
   "id": "ddb89fbe",
   "metadata": {},
   "outputs": [
    {
     "name": "stdout",
     "output_type": "stream",
     "text": [
      "Connectivity Technology\n"
     ]
    }
   ],
   "source": [
    "subpillars[0]\n",
    "subpillar = subpillars[0]\n",
    "print(subpillar)"
   ]
  },
  {
   "cell_type": "code",
   "execution_count": 21,
   "id": "c40fbc45",
   "metadata": {},
   "outputs": [],
   "source": [
    "# create standard columns\n",
    "# df.rename(columns={'COUNTRY/ECONOMY':'Country Name'}, inplace=True)\n",
    "df['higher_is_better'] = True\n",
    "df['Indicator'] = indicator\n",
    "df['data_col'] = df['Value']\n",
    "df.rename(columns={'Country':'Country Name'}, inplace=True)\n",
    "df['Sub-Pillar'] = subpillar\n",
    "\n",
    "min_rank = df['data_col'].min()\n",
    "max_rank = df['data_col'].max()\n",
    "\n",
    "# transform 0-1 rank into 1-6\n",
    "df['new_rank_score'] = df['data_col'].apply(lambda row: convert_rank(row,old_min=min_rank,old_max=max_rank))"
   ]
  },
  {
   "cell_type": "code",
   "execution_count": 22,
   "id": "3500a6a9",
   "metadata": {},
   "outputs": [
    {
     "data": {
      "text/html": [
       "<div>\n",
       "<style scoped>\n",
       "    .dataframe tbody tr th:only-of-type {\n",
       "        vertical-align: middle;\n",
       "    }\n",
       "\n",
       "    .dataframe tbody tr th {\n",
       "        vertical-align: top;\n",
       "    }\n",
       "\n",
       "    .dataframe thead th {\n",
       "        text-align: right;\n",
       "    }\n",
       "</style>\n",
       "<table border=\"1\" class=\"dataframe\">\n",
       "  <thead>\n",
       "    <tr style=\"text-align: right;\">\n",
       "      <th></th>\n",
       "      <th>Country Name</th>\n",
       "      <th>Year</th>\n",
       "      <th>Indicator</th>\n",
       "      <th>data_col</th>\n",
       "      <th>new_rank_score</th>\n",
       "      <th>higher_is_better</th>\n",
       "      <th>Sub-Pillar</th>\n",
       "    </tr>\n",
       "  </thead>\n",
       "  <tbody>\n",
       "    <tr>\n",
       "      <th>47607</th>\n",
       "      <td>Cabo Verde</td>\n",
       "      <td>2019.0</td>\n",
       "      <td>Broadband Density</td>\n",
       "      <td>61.943398</td>\n",
       "      <td>3.715247</td>\n",
       "      <td>True</td>\n",
       "      <td>Connectivity Technology</td>\n",
       "    </tr>\n",
       "    <tr>\n",
       "      <th>47608</th>\n",
       "      <td>Central African Rep.</td>\n",
       "      <td>2019.0</td>\n",
       "      <td>Broadband Density</td>\n",
       "      <td>NaN</td>\n",
       "      <td>NaN</td>\n",
       "      <td>True</td>\n",
       "      <td>Connectivity Technology</td>\n",
       "    </tr>\n",
       "    <tr>\n",
       "      <th>47609</th>\n",
       "      <td>Congo (Rep. of the)</td>\n",
       "      <td>2019.0</td>\n",
       "      <td>Broadband Density</td>\n",
       "      <td>NaN</td>\n",
       "      <td>NaN</td>\n",
       "      <td>True</td>\n",
       "      <td>Connectivity Technology</td>\n",
       "    </tr>\n",
       "    <tr>\n",
       "      <th>47610</th>\n",
       "      <td>Côte d'Ivoire</td>\n",
       "      <td>2019.0</td>\n",
       "      <td>Broadband Density</td>\n",
       "      <td>36.288955</td>\n",
       "      <td>2.162890</td>\n",
       "      <td>True</td>\n",
       "      <td>Connectivity Technology</td>\n",
       "    </tr>\n",
       "    <tr>\n",
       "      <th>47611</th>\n",
       "      <td>Equatorial Guinea</td>\n",
       "      <td>2019.0</td>\n",
       "      <td>Broadband Density</td>\n",
       "      <td>NaN</td>\n",
       "      <td>NaN</td>\n",
       "      <td>True</td>\n",
       "      <td>Connectivity Technology</td>\n",
       "    </tr>\n",
       "    <tr>\n",
       "      <th>...</th>\n",
       "      <td>...</td>\n",
       "      <td>...</td>\n",
       "      <td>...</td>\n",
       "      <td>...</td>\n",
       "      <td>...</td>\n",
       "      <td>...</td>\n",
       "      <td>...</td>\n",
       "    </tr>\n",
       "    <tr>\n",
       "      <th>47739</th>\n",
       "      <td>Saint Vincent and the Grenadines</td>\n",
       "      <td>2019.0</td>\n",
       "      <td>Broadband Density</td>\n",
       "      <td>NaN</td>\n",
       "      <td>NaN</td>\n",
       "      <td>True</td>\n",
       "      <td>Connectivity Technology</td>\n",
       "    </tr>\n",
       "    <tr>\n",
       "      <th>47740</th>\n",
       "      <td>Trinidad and Tobago</td>\n",
       "      <td>2019.0</td>\n",
       "      <td>Broadband Density</td>\n",
       "      <td>NaN</td>\n",
       "      <td>NaN</td>\n",
       "      <td>True</td>\n",
       "      <td>Connectivity Technology</td>\n",
       "    </tr>\n",
       "    <tr>\n",
       "      <th>47741</th>\n",
       "      <td>United States</td>\n",
       "      <td>2019.0</td>\n",
       "      <td>Broadband Density</td>\n",
       "      <td>89.430285</td>\n",
       "      <td>5.378486</td>\n",
       "      <td>True</td>\n",
       "      <td>Connectivity Technology</td>\n",
       "    </tr>\n",
       "    <tr>\n",
       "      <th>47742</th>\n",
       "      <td>Uruguay</td>\n",
       "      <td>2019.0</td>\n",
       "      <td>Broadband Density</td>\n",
       "      <td>83.351534</td>\n",
       "      <td>5.010659</td>\n",
       "      <td>True</td>\n",
       "      <td>Connectivity Technology</td>\n",
       "    </tr>\n",
       "    <tr>\n",
       "      <th>47743</th>\n",
       "      <td>Venezuela</td>\n",
       "      <td>2019.0</td>\n",
       "      <td>Broadband Density</td>\n",
       "      <td>NaN</td>\n",
       "      <td>NaN</td>\n",
       "      <td>True</td>\n",
       "      <td>Connectivity Technology</td>\n",
       "    </tr>\n",
       "  </tbody>\n",
       "</table>\n",
       "<p>137 rows × 7 columns</p>\n",
       "</div>"
      ],
      "text/plain": [
       "                           Country Name    Year          Indicator   data_col  \\\n",
       "47607                        Cabo Verde  2019.0  Broadband Density  61.943398   \n",
       "47608              Central African Rep.  2019.0  Broadband Density        NaN   \n",
       "47609               Congo (Rep. of the)  2019.0  Broadband Density        NaN   \n",
       "47610                     Côte d'Ivoire  2019.0  Broadband Density  36.288955   \n",
       "47611                 Equatorial Guinea  2019.0  Broadband Density        NaN   \n",
       "...                                 ...     ...                ...        ...   \n",
       "47739  Saint Vincent and the Grenadines  2019.0  Broadband Density        NaN   \n",
       "47740               Trinidad and Tobago  2019.0  Broadband Density        NaN   \n",
       "47741                     United States  2019.0  Broadband Density  89.430285   \n",
       "47742                           Uruguay  2019.0  Broadband Density  83.351534   \n",
       "47743                         Venezuela  2019.0  Broadband Density        NaN   \n",
       "\n",
       "       new_rank_score  higher_is_better               Sub-Pillar  \n",
       "47607        3.715247              True  Connectivity Technology  \n",
       "47608             NaN              True  Connectivity Technology  \n",
       "47609             NaN              True  Connectivity Technology  \n",
       "47610        2.162890              True  Connectivity Technology  \n",
       "47611             NaN              True  Connectivity Technology  \n",
       "...               ...               ...                      ...  \n",
       "47739             NaN              True  Connectivity Technology  \n",
       "47740             NaN              True  Connectivity Technology  \n",
       "47741        5.378486              True  Connectivity Technology  \n",
       "47742        5.010659              True  Connectivity Technology  \n",
       "47743             NaN              True  Connectivity Technology  \n",
       "\n",
       "[137 rows x 7 columns]"
      ]
     },
     "execution_count": 22,
     "metadata": {},
     "output_type": "execute_result"
    }
   ],
   "source": [
    "df = df[['Country Name', 'Year','Indicator','data_col','new_rank_score','higher_is_better','Sub-Pillar']]\n",
    "df"
   ]
  },
  {
   "cell_type": "code",
   "execution_count": 31,
   "id": "d8cc3e3d",
   "metadata": {},
   "outputs": [],
   "source": [
    "df.to_csv('../indicator_scores/infrastructure_{}_scores.csv'.format(indicator), index=False)"
   ]
  },
  {
   "cell_type": "code",
   "execution_count": 24,
   "id": "53302f88",
   "metadata": {},
   "outputs": [],
   "source": [
    "### 4. % of population covered by mobile 2G"
   ]
  },
  {
   "cell_type": "code",
   "execution_count": 25,
   "id": "41f62d02",
   "metadata": {},
   "outputs": [
    {
     "data": {
      "text/plain": [
       "'% of population covered by internet connectivity'"
      ]
     },
     "execution_count": 25,
     "metadata": {},
     "output_type": "execute_result"
    }
   ],
   "source": [
    "indicators[3]"
   ]
  },
  {
   "cell_type": "code",
   "execution_count": 26,
   "id": "789c79af",
   "metadata": {},
   "outputs": [
    {
     "name": "stdout",
     "output_type": "stream",
     "text": [
      "% of population covered by internet connectivity\n",
      "ITU_database\n"
     ]
    }
   ],
   "source": [
    "# load data\n",
    "indicator = indicators[3]\n",
    "print(indicator)\n",
    "bf = bnames[bnames['Indicator']==indicator]['Filename'].values[0]\n",
    "print(bf)\n",
    "\n",
    "df = pd.read_csv('../../processed/{}.csv'.format(bf))"
   ]
  },
  {
   "cell_type": "code",
   "execution_count": 27,
   "id": "9504bf09",
   "metadata": {},
   "outputs": [
    {
     "data": {
      "text/html": [
       "<div>\n",
       "<style scoped>\n",
       "    .dataframe tbody tr th:only-of-type {\n",
       "        vertical-align: middle;\n",
       "    }\n",
       "\n",
       "    .dataframe tbody tr th {\n",
       "        vertical-align: top;\n",
       "    }\n",
       "\n",
       "    .dataframe thead th {\n",
       "        text-align: right;\n",
       "    }\n",
       "</style>\n",
       "<table border=\"1\" class=\"dataframe\">\n",
       "  <thead>\n",
       "    <tr style=\"text-align: right;\">\n",
       "      <th></th>\n",
       "      <th>Country</th>\n",
       "      <th>Region</th>\n",
       "      <th>ISO</th>\n",
       "      <th>Indicator name</th>\n",
       "      <th>Year</th>\n",
       "      <th>Value</th>\n",
       "      <th>data_country</th>\n",
       "      <th>data_year</th>\n",
       "    </tr>\n",
       "  </thead>\n",
       "  <tbody>\n",
       "    <tr>\n",
       "      <th>0</th>\n",
       "      <td>Angola</td>\n",
       "      <td>Africa</td>\n",
       "      <td>AGO</td>\n",
       "      <td>Female mobile phone ownership as a % of total ...</td>\n",
       "      <td>2010.0</td>\n",
       "      <td>NaN</td>\n",
       "      <td>NaN</td>\n",
       "      <td>NaN</td>\n",
       "    </tr>\n",
       "    <tr>\n",
       "      <th>1</th>\n",
       "      <td>Benin</td>\n",
       "      <td>Africa</td>\n",
       "      <td>BEN</td>\n",
       "      <td>Female mobile phone ownership as a % of total ...</td>\n",
       "      <td>2010.0</td>\n",
       "      <td>NaN</td>\n",
       "      <td>NaN</td>\n",
       "      <td>NaN</td>\n",
       "    </tr>\n",
       "    <tr>\n",
       "      <th>2</th>\n",
       "      <td>Botswana</td>\n",
       "      <td>Africa</td>\n",
       "      <td>BWA</td>\n",
       "      <td>Female mobile phone ownership as a % of total ...</td>\n",
       "      <td>2010.0</td>\n",
       "      <td>NaN</td>\n",
       "      <td>NaN</td>\n",
       "      <td>NaN</td>\n",
       "    </tr>\n",
       "    <tr>\n",
       "      <th>3</th>\n",
       "      <td>Burkina Faso</td>\n",
       "      <td>Africa</td>\n",
       "      <td>BFA</td>\n",
       "      <td>Female mobile phone ownership as a % of total ...</td>\n",
       "      <td>2010.0</td>\n",
       "      <td>NaN</td>\n",
       "      <td>NaN</td>\n",
       "      <td>NaN</td>\n",
       "    </tr>\n",
       "    <tr>\n",
       "      <th>4</th>\n",
       "      <td>Burundi</td>\n",
       "      <td>Africa</td>\n",
       "      <td>BDI</td>\n",
       "      <td>Female mobile phone ownership as a % of total ...</td>\n",
       "      <td>2010.0</td>\n",
       "      <td>NaN</td>\n",
       "      <td>NaN</td>\n",
       "      <td>NaN</td>\n",
       "    </tr>\n",
       "    <tr>\n",
       "      <th>5</th>\n",
       "      <td>Cabo Verde</td>\n",
       "      <td>Africa</td>\n",
       "      <td>CPV</td>\n",
       "      <td>Female mobile phone ownership as a % of total ...</td>\n",
       "      <td>2010.0</td>\n",
       "      <td>NaN</td>\n",
       "      <td>NaN</td>\n",
       "      <td>NaN</td>\n",
       "    </tr>\n",
       "    <tr>\n",
       "      <th>6</th>\n",
       "      <td>Cameroon</td>\n",
       "      <td>Africa</td>\n",
       "      <td>CMR</td>\n",
       "      <td>Female mobile phone ownership as a % of total ...</td>\n",
       "      <td>2010.0</td>\n",
       "      <td>NaN</td>\n",
       "      <td>NaN</td>\n",
       "      <td>NaN</td>\n",
       "    </tr>\n",
       "    <tr>\n",
       "      <th>7</th>\n",
       "      <td>Central African Rep.</td>\n",
       "      <td>Africa</td>\n",
       "      <td>CAF</td>\n",
       "      <td>Female mobile phone ownership as a % of total ...</td>\n",
       "      <td>2010.0</td>\n",
       "      <td>NaN</td>\n",
       "      <td>NaN</td>\n",
       "      <td>NaN</td>\n",
       "    </tr>\n",
       "    <tr>\n",
       "      <th>8</th>\n",
       "      <td>Chad</td>\n",
       "      <td>Africa</td>\n",
       "      <td>TCD</td>\n",
       "      <td>Female mobile phone ownership as a % of total ...</td>\n",
       "      <td>2010.0</td>\n",
       "      <td>NaN</td>\n",
       "      <td>NaN</td>\n",
       "      <td>NaN</td>\n",
       "    </tr>\n",
       "    <tr>\n",
       "      <th>9</th>\n",
       "      <td>Congo (Rep. of the)</td>\n",
       "      <td>Africa</td>\n",
       "      <td>COG</td>\n",
       "      <td>Female mobile phone ownership as a % of total ...</td>\n",
       "      <td>2010.0</td>\n",
       "      <td>NaN</td>\n",
       "      <td>NaN</td>\n",
       "      <td>NaN</td>\n",
       "    </tr>\n",
       "  </tbody>\n",
       "</table>\n",
       "</div>"
      ],
      "text/plain": [
       "                Country  Region  ISO  \\\n",
       "0                Angola  Africa  AGO   \n",
       "1                 Benin  Africa  BEN   \n",
       "2              Botswana  Africa  BWA   \n",
       "3          Burkina Faso  Africa  BFA   \n",
       "4               Burundi  Africa  BDI   \n",
       "5            Cabo Verde  Africa  CPV   \n",
       "6              Cameroon  Africa  CMR   \n",
       "7  Central African Rep.  Africa  CAF   \n",
       "8                  Chad  Africa  TCD   \n",
       "9   Congo (Rep. of the)  Africa  COG   \n",
       "\n",
       "                                      Indicator name    Year  Value  \\\n",
       "0  Female mobile phone ownership as a % of total ...  2010.0    NaN   \n",
       "1  Female mobile phone ownership as a % of total ...  2010.0    NaN   \n",
       "2  Female mobile phone ownership as a % of total ...  2010.0    NaN   \n",
       "3  Female mobile phone ownership as a % of total ...  2010.0    NaN   \n",
       "4  Female mobile phone ownership as a % of total ...  2010.0    NaN   \n",
       "5  Female mobile phone ownership as a % of total ...  2010.0    NaN   \n",
       "6  Female mobile phone ownership as a % of total ...  2010.0    NaN   \n",
       "7  Female mobile phone ownership as a % of total ...  2010.0    NaN   \n",
       "8  Female mobile phone ownership as a % of total ...  2010.0    NaN   \n",
       "9  Female mobile phone ownership as a % of total ...  2010.0    NaN   \n",
       "\n",
       "   data_country  data_year  \n",
       "0           NaN        NaN  \n",
       "1           NaN        NaN  \n",
       "2           NaN        NaN  \n",
       "3           NaN        NaN  \n",
       "4           NaN        NaN  \n",
       "5           NaN        NaN  \n",
       "6           NaN        NaN  \n",
       "7           NaN        NaN  \n",
       "8           NaN        NaN  \n",
       "9           NaN        NaN  "
      ]
     },
     "execution_count": 27,
     "metadata": {},
     "output_type": "execute_result"
    }
   ],
   "source": [
    "df.head(10)"
   ]
  },
  {
   "cell_type": "code",
   "execution_count": 28,
   "id": "7cf8df20",
   "metadata": {},
   "outputs": [
    {
     "name": "stdout",
     "output_type": "stream",
     "text": [
      "Connectivity Technology\n"
     ]
    }
   ],
   "source": [
    "subpillars[0]\n",
    "subpillar = subpillars[0]\n",
    "print(subpillar)"
   ]
  },
  {
   "cell_type": "code",
   "execution_count": 29,
   "id": "5b1f2cd9",
   "metadata": {},
   "outputs": [],
   "source": [
    "# filter most recent year\n",
    "df = df[(df.Year==2019)]\n"
   ]
  },
  {
   "cell_type": "code",
   "execution_count": 30,
   "id": "8e3e4e36",
   "metadata": {},
   "outputs": [
    {
     "ename": "KeyError",
     "evalue": "'2G Coverage'",
     "output_type": "error",
     "traceback": [
      "\u001b[1;31m---------------------------------------------------------------------------\u001b[0m",
      "\u001b[1;31mKeyError\u001b[0m                                  Traceback (most recent call last)",
      "\u001b[1;32mD:\\Apps\\Anaconda\\lib\\site-packages\\pandas\\core\\indexes\\base.py\u001b[0m in \u001b[0;36mget_loc\u001b[1;34m(self, key, method, tolerance)\u001b[0m\n\u001b[0;32m   3079\u001b[0m             \u001b[1;32mtry\u001b[0m\u001b[1;33m:\u001b[0m\u001b[1;33m\u001b[0m\u001b[1;33m\u001b[0m\u001b[0m\n\u001b[1;32m-> 3080\u001b[1;33m                 \u001b[1;32mreturn\u001b[0m \u001b[0mself\u001b[0m\u001b[1;33m.\u001b[0m\u001b[0m_engine\u001b[0m\u001b[1;33m.\u001b[0m\u001b[0mget_loc\u001b[0m\u001b[1;33m(\u001b[0m\u001b[0mcasted_key\u001b[0m\u001b[1;33m)\u001b[0m\u001b[1;33m\u001b[0m\u001b[1;33m\u001b[0m\u001b[0m\n\u001b[0m\u001b[0;32m   3081\u001b[0m             \u001b[1;32mexcept\u001b[0m \u001b[0mKeyError\u001b[0m \u001b[1;32mas\u001b[0m \u001b[0merr\u001b[0m\u001b[1;33m:\u001b[0m\u001b[1;33m\u001b[0m\u001b[1;33m\u001b[0m\u001b[0m\n",
      "\u001b[1;32mpandas\\_libs\\index.pyx\u001b[0m in \u001b[0;36mpandas._libs.index.IndexEngine.get_loc\u001b[1;34m()\u001b[0m\n",
      "\u001b[1;32mpandas\\_libs\\index.pyx\u001b[0m in \u001b[0;36mpandas._libs.index.IndexEngine.get_loc\u001b[1;34m()\u001b[0m\n",
      "\u001b[1;32mpandas\\_libs\\hashtable_class_helper.pxi\u001b[0m in \u001b[0;36mpandas._libs.hashtable.PyObjectHashTable.get_item\u001b[1;34m()\u001b[0m\n",
      "\u001b[1;32mpandas\\_libs\\hashtable_class_helper.pxi\u001b[0m in \u001b[0;36mpandas._libs.hashtable.PyObjectHashTable.get_item\u001b[1;34m()\u001b[0m\n",
      "\u001b[1;31mKeyError\u001b[0m: '2G Coverage'",
      "\nThe above exception was the direct cause of the following exception:\n",
      "\u001b[1;31mKeyError\u001b[0m                                  Traceback (most recent call last)",
      "\u001b[1;32m<ipython-input-30-9bd7d15d9160>\u001b[0m in \u001b[0;36m<module>\u001b[1;34m\u001b[0m\n\u001b[0;32m      3\u001b[0m \u001b[0mdf\u001b[0m\u001b[1;33m[\u001b[0m\u001b[1;34m'higher_is_better'\u001b[0m\u001b[1;33m]\u001b[0m \u001b[1;33m=\u001b[0m \u001b[1;32mTrue\u001b[0m\u001b[1;33m\u001b[0m\u001b[1;33m\u001b[0m\u001b[0m\n\u001b[0;32m      4\u001b[0m \u001b[0mdf\u001b[0m\u001b[1;33m[\u001b[0m\u001b[1;34m'Indicator'\u001b[0m\u001b[1;33m]\u001b[0m \u001b[1;33m=\u001b[0m \u001b[0mindicator\u001b[0m\u001b[1;33m\u001b[0m\u001b[1;33m\u001b[0m\u001b[0m\n\u001b[1;32m----> 5\u001b[1;33m \u001b[0mdf\u001b[0m\u001b[1;33m[\u001b[0m\u001b[1;34m'data_col'\u001b[0m\u001b[1;33m]\u001b[0m \u001b[1;33m=\u001b[0m \u001b[0mdf\u001b[0m\u001b[1;33m[\u001b[0m\u001b[1;34m'2G Coverage'\u001b[0m\u001b[1;33m]\u001b[0m\u001b[1;33m\u001b[0m\u001b[1;33m\u001b[0m\u001b[0m\n\u001b[0m\u001b[0;32m      6\u001b[0m \u001b[0mdf\u001b[0m\u001b[1;33m[\u001b[0m\u001b[1;34m'Sub-Pillar'\u001b[0m\u001b[1;33m]\u001b[0m \u001b[1;33m=\u001b[0m \u001b[0msubpillar\u001b[0m\u001b[1;33m\u001b[0m\u001b[1;33m\u001b[0m\u001b[0m\n\u001b[0;32m      7\u001b[0m \u001b[1;33m\u001b[0m\u001b[0m\n",
      "\u001b[1;32mD:\\Apps\\Anaconda\\lib\\site-packages\\pandas\\core\\frame.py\u001b[0m in \u001b[0;36m__getitem__\u001b[1;34m(self, key)\u001b[0m\n\u001b[0;32m   3022\u001b[0m             \u001b[1;32mif\u001b[0m \u001b[0mself\u001b[0m\u001b[1;33m.\u001b[0m\u001b[0mcolumns\u001b[0m\u001b[1;33m.\u001b[0m\u001b[0mnlevels\u001b[0m \u001b[1;33m>\u001b[0m \u001b[1;36m1\u001b[0m\u001b[1;33m:\u001b[0m\u001b[1;33m\u001b[0m\u001b[1;33m\u001b[0m\u001b[0m\n\u001b[0;32m   3023\u001b[0m                 \u001b[1;32mreturn\u001b[0m \u001b[0mself\u001b[0m\u001b[1;33m.\u001b[0m\u001b[0m_getitem_multilevel\u001b[0m\u001b[1;33m(\u001b[0m\u001b[0mkey\u001b[0m\u001b[1;33m)\u001b[0m\u001b[1;33m\u001b[0m\u001b[1;33m\u001b[0m\u001b[0m\n\u001b[1;32m-> 3024\u001b[1;33m             \u001b[0mindexer\u001b[0m \u001b[1;33m=\u001b[0m \u001b[0mself\u001b[0m\u001b[1;33m.\u001b[0m\u001b[0mcolumns\u001b[0m\u001b[1;33m.\u001b[0m\u001b[0mget_loc\u001b[0m\u001b[1;33m(\u001b[0m\u001b[0mkey\u001b[0m\u001b[1;33m)\u001b[0m\u001b[1;33m\u001b[0m\u001b[1;33m\u001b[0m\u001b[0m\n\u001b[0m\u001b[0;32m   3025\u001b[0m             \u001b[1;32mif\u001b[0m \u001b[0mis_integer\u001b[0m\u001b[1;33m(\u001b[0m\u001b[0mindexer\u001b[0m\u001b[1;33m)\u001b[0m\u001b[1;33m:\u001b[0m\u001b[1;33m\u001b[0m\u001b[1;33m\u001b[0m\u001b[0m\n\u001b[0;32m   3026\u001b[0m                 \u001b[0mindexer\u001b[0m \u001b[1;33m=\u001b[0m \u001b[1;33m[\u001b[0m\u001b[0mindexer\u001b[0m\u001b[1;33m]\u001b[0m\u001b[1;33m\u001b[0m\u001b[1;33m\u001b[0m\u001b[0m\n",
      "\u001b[1;32mD:\\Apps\\Anaconda\\lib\\site-packages\\pandas\\core\\indexes\\base.py\u001b[0m in \u001b[0;36mget_loc\u001b[1;34m(self, key, method, tolerance)\u001b[0m\n\u001b[0;32m   3080\u001b[0m                 \u001b[1;32mreturn\u001b[0m \u001b[0mself\u001b[0m\u001b[1;33m.\u001b[0m\u001b[0m_engine\u001b[0m\u001b[1;33m.\u001b[0m\u001b[0mget_loc\u001b[0m\u001b[1;33m(\u001b[0m\u001b[0mcasted_key\u001b[0m\u001b[1;33m)\u001b[0m\u001b[1;33m\u001b[0m\u001b[1;33m\u001b[0m\u001b[0m\n\u001b[0;32m   3081\u001b[0m             \u001b[1;32mexcept\u001b[0m \u001b[0mKeyError\u001b[0m \u001b[1;32mas\u001b[0m \u001b[0merr\u001b[0m\u001b[1;33m:\u001b[0m\u001b[1;33m\u001b[0m\u001b[1;33m\u001b[0m\u001b[0m\n\u001b[1;32m-> 3082\u001b[1;33m                 \u001b[1;32mraise\u001b[0m \u001b[0mKeyError\u001b[0m\u001b[1;33m(\u001b[0m\u001b[0mkey\u001b[0m\u001b[1;33m)\u001b[0m \u001b[1;32mfrom\u001b[0m \u001b[0merr\u001b[0m\u001b[1;33m\u001b[0m\u001b[1;33m\u001b[0m\u001b[0m\n\u001b[0m\u001b[0;32m   3083\u001b[0m \u001b[1;33m\u001b[0m\u001b[0m\n\u001b[0;32m   3084\u001b[0m         \u001b[1;32mif\u001b[0m \u001b[0mtolerance\u001b[0m \u001b[1;32mis\u001b[0m \u001b[1;32mnot\u001b[0m \u001b[1;32mNone\u001b[0m\u001b[1;33m:\u001b[0m\u001b[1;33m\u001b[0m\u001b[1;33m\u001b[0m\u001b[0m\n",
      "\u001b[1;31mKeyError\u001b[0m: '2G Coverage'"
     ]
    }
   ],
   "source": [
    "# create standard columns\n",
    "df.rename(columns={'Country':'Country Name'}, inplace=True)\n",
    "df['higher_is_better'] = True\n",
    "df['Indicator'] = indicator\n",
    "df['data_col'] = df['2G Coverage'] \n",
    "df['Sub-Pillar'] = subpillar\n",
    "\n",
    "min_rank = df['data_col'].min()\n",
    "max_rank = df['data_col'].max()\n",
    "\n",
    "# transform 0-1 rank into 1-6\n",
    "df['new_rank_score'] = df['data_col'].apply(lambda row: convert_rank(row,old_min=min_rank,old_max=max_rank))"
   ]
  },
  {
   "cell_type": "code",
   "execution_count": null,
   "id": "3184954d",
   "metadata": {},
   "outputs": [],
   "source": [
    "df = df[['Country Name', 'Year','Indicator','data_col','new_rank_score','higher_is_better','Sub-Pillar']]\n",
    "df"
   ]
  },
  {
   "cell_type": "code",
   "execution_count": null,
   "id": "8757ae02",
   "metadata": {},
   "outputs": [],
   "source": [
    "df.to_csv('../indicator_scores/infrastructure_{}_scores.csv'.format(indicator), index=False)"
   ]
  },
  {
   "cell_type": "code",
   "execution_count": null,
   "id": "f565ffe5",
   "metadata": {},
   "outputs": [],
   "source": [
    "### 5. % of population covered by mobile 3G"
   ]
  },
  {
   "cell_type": "code",
   "execution_count": null,
   "id": "b64b4113",
   "metadata": {},
   "outputs": [],
   "source": [
    "indicators[4]\n",
    "\n",
    "# load data\n",
    "indicator = indicators[4]\n",
    "print(indicator)\n",
    "bf = bnames[bnames['Indicator']==indicator]['Filename'].values[0]\n",
    "print(bf)\n",
    "\n",
    "df = pd.read_csv('../../processed/{}.csv'.format(bf))"
   ]
  },
  {
   "cell_type": "code",
   "execution_count": null,
   "id": "4eeafdcc",
   "metadata": {},
   "outputs": [],
   "source": [
    "df.head(10)"
   ]
  },
  {
   "cell_type": "code",
   "execution_count": null,
   "id": "7c678475",
   "metadata": {},
   "outputs": [],
   "source": [
    "subpillars[0]\n",
    "subpillar = subpillars[0]\n",
    "print(subpillar)"
   ]
  },
  {
   "cell_type": "code",
   "execution_count": null,
   "id": "73ca8fb5",
   "metadata": {},
   "outputs": [],
   "source": [
    "# filter most recent year\n",
    "df = df[(df.Year==2019)]\n",
    "\n",
    "# create standard columns\n",
    "df.rename(columns={'Country':'Country Name'}, inplace=True)\n",
    "df['higher_is_better'] = True\n",
    "df['Indicator'] = indicator\n",
    "df['data_col'] = df['3G Coverage'] \n",
    "df['Sub-Pillar'] = subpillar\n",
    "\n",
    "min_rank = df['data_col'].min()\n",
    "max_rank = df['data_col'].max()\n",
    "\n",
    "# transform 0-1 rank into 1-6\n",
    "df['new_rank_score'] = df['data_col'].apply(lambda row: convert_rank(row,old_min=min_rank,old_max=max_rank))"
   ]
  },
  {
   "cell_type": "code",
   "execution_count": null,
   "id": "5ba49e65",
   "metadata": {},
   "outputs": [],
   "source": [
    "df = df[['Country Name', 'Year','Indicator','data_col','new_rank_score','higher_is_better','Sub-Pillar']]\n",
    "df"
   ]
  },
  {
   "cell_type": "code",
   "execution_count": null,
   "id": "38f830ad",
   "metadata": {},
   "outputs": [],
   "source": [
    "df.to_csv('../indicator_scores/infrastructure_{}_scores.csv'.format(indicator), index=False)"
   ]
  },
  {
   "cell_type": "code",
   "execution_count": null,
   "id": "bb3bd202",
   "metadata": {},
   "outputs": [],
   "source": [
    "### 6. % of population covered by mobile 4G"
   ]
  },
  {
   "cell_type": "code",
   "execution_count": null,
   "id": "e41294d4",
   "metadata": {},
   "outputs": [],
   "source": [
    "indicators[5]\n",
    "\n",
    "# load data\n",
    "indicator = indicators[5]\n",
    "print(indicator)\n",
    "bf = bnames[bnames['Indicator']==indicator]['Filename'].values[0]\n",
    "print(bf)\n",
    "\n",
    "df = pd.read_csv('../../processed/{}.csv'.format(bf))"
   ]
  },
  {
   "cell_type": "code",
   "execution_count": null,
   "id": "f389effe",
   "metadata": {},
   "outputs": [],
   "source": [
    "df.head(10)"
   ]
  },
  {
   "cell_type": "code",
   "execution_count": null,
   "id": "401b67a4",
   "metadata": {},
   "outputs": [],
   "source": [
    "subpillars[0]\n",
    "subpillar = subpillars[0]\n",
    "print(subpillar)"
   ]
  },
  {
   "cell_type": "code",
   "execution_count": null,
   "id": "df354f02",
   "metadata": {},
   "outputs": [],
   "source": [
    "# filter most recent year\n",
    "df = df[(df.Year==2019)]\n",
    "\n",
    "# create standard columns\n",
    "df.rename(columns={'Country':'Country Name'}, inplace=True)\n",
    "df['higher_is_better'] = True\n",
    "df['Indicator'] = indicator\n",
    "df['data_col'] = df['4G Coverage'] \n",
    "df['Sub-Pillar'] = subpillar\n",
    "\n",
    "min_rank = df['data_col'].min()\n",
    "max_rank = df['data_col'].max()\n",
    "\n",
    "# transform 0-1 rank into 1-6\n",
    "df['new_rank_score'] = df['data_col'].apply(lambda row: convert_rank(row,old_min=min_rank,old_max=max_rank))"
   ]
  },
  {
   "cell_type": "code",
   "execution_count": null,
   "id": "957e78ad",
   "metadata": {},
   "outputs": [],
   "source": [
    "df = df[['Country Name', 'Year','Indicator','data_col','new_rank_score','higher_is_better','Sub-Pillar']]\n",
    "df"
   ]
  },
  {
   "cell_type": "code",
   "execution_count": null,
   "id": "32361b6d",
   "metadata": {},
   "outputs": [],
   "source": [
    "df.to_csv('../indicator_scores/infrastructure_{}_scores.csv'.format(indicator), index=False)"
   ]
  },
  {
   "cell_type": "code",
   "execution_count": null,
   "id": "6d70aef4",
   "metadata": {},
   "outputs": [],
   "source": [
    "### 7. % of population covered by mobile 5G"
   ]
  },
  {
   "cell_type": "code",
   "execution_count": null,
   "id": "c2f37fdb",
   "metadata": {},
   "outputs": [],
   "source": [
    "indicators[6]\n",
    "\n",
    "# load data\n",
    "indicator = indicators[6]\n",
    "print(indicator)\n",
    "bf = bnames[bnames['Indicator']==indicator]['Filename'].values[0]\n",
    "print(bf)\n",
    "\n",
    "df = pd.read_csv('../../processed/{}.csv'.format(bf))"
   ]
  },
  {
   "cell_type": "code",
   "execution_count": null,
   "id": "572363fc",
   "metadata": {},
   "outputs": [],
   "source": [
    "df.head(10)"
   ]
  },
  {
   "cell_type": "code",
   "execution_count": null,
   "id": "0a44607b",
   "metadata": {},
   "outputs": [],
   "source": [
    "subpillars[0]\n",
    "subpillar = subpillars[0]\n",
    "print(subpillar)"
   ]
  },
  {
   "cell_type": "code",
   "execution_count": null,
   "id": "963432d6",
   "metadata": {},
   "outputs": [],
   "source": [
    "# filter most recent year\n",
    "df = df[(df.Year==2019)]\n",
    "\n",
    "# create standard columns\n",
    "df.rename(columns={'Country':'Country Name'}, inplace=True)\n",
    "df['higher_is_better'] = True\n",
    "df['Indicator'] = indicator\n",
    "df['data_col'] = df['5G Coverage'] \n",
    "df['Sub-Pillar'] = subpillar\n",
    "\n",
    "min_rank = df['data_col'].min()\n",
    "max_rank = df['data_col'].max()\n",
    "\n",
    "# transform 0-1 rank into 1-6\n",
    "df['new_rank_score'] = df['data_col'].apply(lambda row: convert_rank(row,old_min=min_rank,old_max=max_rank))"
   ]
  },
  {
   "cell_type": "code",
   "execution_count": null,
   "id": "7a9c38bd",
   "metadata": {},
   "outputs": [],
   "source": [
    "df = df[['Country Name', 'Year','Indicator','data_col','new_rank_score','higher_is_better','Sub-Pillar']]\n",
    "df"
   ]
  },
  {
   "cell_type": "code",
   "execution_count": null,
   "id": "03371f74",
   "metadata": {},
   "outputs": [],
   "source": [
    "df.to_csv('../indicator_scores/infrastructure_{}_scores.csv'.format(indicator), index=False)"
   ]
  },
  {
   "cell_type": "code",
   "execution_count": null,
   "id": "10d9ac90",
   "metadata": {},
   "outputs": [],
   "source": [
    "### 8. Mobile Coverage Maps"
   ]
  },
  {
   "cell_type": "code",
   "execution_count": null,
   "id": "2d680ea7",
   "metadata": {},
   "outputs": [],
   "source": [
    "indicators[7]\n",
    "\n",
    "# load data\n",
    "indicator = indicators[7]\n",
    "print(indicator)\n",
    "bf = bnames[bnames['Indicator']==indicator]['Filename'].values[0]\n",
    "print(bf)\n",
    "\n",
    "df = pd.read_csv('../../processed/{}.csv'.format(bf))"
   ]
  },
  {
   "cell_type": "code",
   "execution_count": null,
   "id": "b53fa911",
   "metadata": {},
   "outputs": [],
   "source": [
    "df.head(15)"
   ]
  },
  {
   "cell_type": "code",
   "execution_count": null,
   "id": "d144ceba",
   "metadata": {},
   "outputs": [],
   "source": [
    "subpillars[0]\n",
    "subpillar = subpillars[0]\n",
    "print(subpillar)"
   ]
  },
  {
   "cell_type": "code",
   "execution_count": null,
   "id": "e3840b36",
   "metadata": {},
   "outputs": [],
   "source": [
    "df = df[(df.Year == 2020)]\n",
    "df = df[(df['Indicator name']== 'Mobile-cellular subscriptions per 100 inhabitants')]\n",
    "df"
   ]
  },
  {
   "cell_type": "code",
   "execution_count": null,
   "id": "9aa31646",
   "metadata": {},
   "outputs": [],
   "source": [
    "# create standard columns\n",
    "df.rename(columns={'Country':'Country Name'}, inplace=True)\n",
    "df['higher_is_better'] = True\n",
    "df['Indicator'] = indicator\n",
    "df['data_col'] = df['Value'] \n",
    "df['Sub-Pillar'] = subpillar\n",
    "\n",
    "min_rank = df['data_col'].min()\n",
    "max_rank = df['data_col'].max()\n",
    "\n",
    "# transform 0-1 rank into 1-6\n",
    "df['new_rank_score'] = df['data_col'].apply(lambda row: convert_rank(row,old_min=min_rank,old_max=max_rank))"
   ]
  },
  {
   "cell_type": "code",
   "execution_count": null,
   "id": "3779d6f8",
   "metadata": {},
   "outputs": [],
   "source": [
    "df = df[['Country Name', 'Year','Indicator','data_col','new_rank_score','higher_is_better','Sub-Pillar']]\n",
    "df"
   ]
  },
  {
   "cell_type": "code",
   "execution_count": null,
   "id": "05e14137",
   "metadata": {},
   "outputs": [],
   "source": [
    "df.to_csv('../indicator_scores/infrastructure_{}_scores.csv'.format(indicator), index=False)"
   ]
  },
  {
   "cell_type": "code",
   "execution_count": null,
   "id": "b6c0893b",
   "metadata": {},
   "outputs": [],
   "source": [
    "### 9. Electricity Density"
   ]
  },
  {
   "cell_type": "code",
   "execution_count": null,
   "id": "6dfdbb3c",
   "metadata": {},
   "outputs": [],
   "source": [
    "indicators[8]\n",
    "\n",
    "# load data\n",
    "indicator = indicators[8]\n",
    "print(indicator)\n",
    "bf = bnames[bnames['Indicator']==indicator]['Filename'].values[0]\n",
    "print(bf)\n",
    "\n",
    "df = pd.read_csv('../../processed/{}.csv'.format(bf))"
   ]
  },
  {
   "cell_type": "code",
   "execution_count": null,
   "id": "043c02e2",
   "metadata": {},
   "outputs": [],
   "source": [
    "df.head(20)"
   ]
  },
  {
   "cell_type": "code",
   "execution_count": null,
   "id": "d51ad659",
   "metadata": {},
   "outputs": [],
   "source": [
    "subpillars[0]\n",
    "subpillar = subpillars[0]\n",
    "print(subpillar)"
   ]
  },
  {
   "cell_type": "code",
   "execution_count": null,
   "id": "d8f10ca3",
   "metadata": {},
   "outputs": [],
   "source": [
    "# filter most recent year\n",
    "df = df[(df.year==2019)]"
   ]
  },
  {
   "cell_type": "code",
   "execution_count": null,
   "id": "d038de98",
   "metadata": {},
   "outputs": [],
   "source": [
    "# create standard columns\n",
    "df['higher_is_better'] = True\n",
    "df['Indicator'] = indicator\n",
    "df['data_col'] = df['per_capita_electricity'] \n",
    "df['Sub-Pillar'] = subpillar\n",
    "df['Country Name'] = df['country']\n",
    "df['Year'] = df['year']\n",
    "\n",
    "min_rank = df['data_col'].min()\n",
    "max_rank = df['data_col'].max()\n",
    "\n",
    "# transform 0-1 rank into 1-6\n",
    "df['new_rank_score'] = df['data_col'].apply(lambda row: convert_rank(row,old_min=min_rank,old_max=max_rank))"
   ]
  },
  {
   "cell_type": "code",
   "execution_count": null,
   "id": "f231c229",
   "metadata": {},
   "outputs": [],
   "source": [
    "df = df[['Country Name', 'Year','Indicator','data_col','new_rank_score','higher_is_better','Sub-Pillar']]\n",
    "df"
   ]
  },
  {
   "cell_type": "code",
   "execution_count": null,
   "id": "914fafdf",
   "metadata": {},
   "outputs": [],
   "source": [
    "df.to_csv('../indicator_scores/infrastructure_{}_scores.csv'.format(indicator), index=False)"
   ]
  },
  {
   "cell_type": "code",
   "execution_count": null,
   "id": "eae74b3d",
   "metadata": {},
   "outputs": [],
   "source": [
    "### 10. % of population covered by electricity"
   ]
  },
  {
   "cell_type": "code",
   "execution_count": null,
   "id": "af2344c9",
   "metadata": {},
   "outputs": [],
   "source": [
    "indicators[9]\n",
    "\n",
    "# load data\n",
    "indicator = indicators[9]\n",
    "print(indicator)\n",
    "bf = bnames[bnames['Indicator']==indicator]['Filename'].values[0]\n",
    "print(bf)\n",
    "\n",
    "df = pd.read_csv('../../processed/{}.csv'.format(bf))"
   ]
  },
  {
   "cell_type": "code",
   "execution_count": null,
   "id": "5d395a7b",
   "metadata": {},
   "outputs": [],
   "source": [
    "df.head(15)"
   ]
  },
  {
   "cell_type": "code",
   "execution_count": null,
   "id": "d2979d97",
   "metadata": {},
   "outputs": [],
   "source": [
    "subpillars[0]\n",
    "subpillar = subpillars[0]\n",
    "print(subpillar)"
   ]
  },
  {
   "cell_type": "code",
   "execution_count": null,
   "id": "685cc0ed",
   "metadata": {},
   "outputs": [],
   "source": [
    "# create standard columns\n",
    "df['higher_is_better'] = True\n",
    "df['Indicator'] = indicator\n",
    "df['data_col'] = df['2019'] \n",
    "df['Year'] = 2019\n",
    "df['Sub-Pillar'] = subpillar\n",
    "\n",
    "min_rank = df['data_col'].min()\n",
    "max_rank = df['data_col'].max()\n",
    "\n",
    "# transform 0-1 rank into 1-6\n",
    "df['new_rank_score'] = df['data_col'].apply(lambda row: convert_rank(row,old_min=min_rank,old_max=max_rank))"
   ]
  },
  {
   "cell_type": "code",
   "execution_count": null,
   "id": "6399e138",
   "metadata": {},
   "outputs": [],
   "source": [
    "df = df[['Country Name', 'Year','Indicator','data_col','new_rank_score','higher_is_better','Sub-Pillar']]\n",
    "df\n"
   ]
  },
  {
   "cell_type": "code",
   "execution_count": null,
   "id": "821e8ea3",
   "metadata": {},
   "outputs": [],
   "source": [
    "df.to_csv('../indicator_scores/infrastructure_{}_scores.csv'.format(indicator), index=False)"
   ]
  },
  {
   "cell_type": "code",
   "execution_count": null,
   "id": "ec938a9f",
   "metadata": {},
   "outputs": [],
   "source": [
    "### 11. Electricity Supply Quality"
   ]
  },
  {
   "cell_type": "code",
   "execution_count": null,
   "id": "60c61b5f",
   "metadata": {},
   "outputs": [],
   "source": [
    "indicators[10]\n",
    "\n",
    "# load data\n",
    "indicator = indicators[10]\n",
    "print(indicator)\n",
    "bf = bnames[bnames['Indicator']==indicator]['Filename'].values[0]\n",
    "print(bf)\n",
    "\n",
    "df = pd.read_csv('../../processed/{}.csv'.format(bf))"
   ]
  },
  {
   "cell_type": "code",
   "execution_count": null,
   "id": "4b8d2af9",
   "metadata": {
    "scrolled": true
   },
   "outputs": [],
   "source": [
    "df.head(10)"
   ]
  },
  {
   "cell_type": "code",
   "execution_count": null,
   "id": "bf5e2ba0",
   "metadata": {},
   "outputs": [],
   "source": [
    "subpillars[0]\n",
    "subpillar = subpillars[0]\n",
    "print(subpillar)"
   ]
  },
  {
   "cell_type": "code",
   "execution_count": null,
   "id": "9b0889bf",
   "metadata": {},
   "outputs": [],
   "source": [
    "# create standard columns\n",
    "df['higher_is_better'] = True\n",
    "df['Indicator'] = indicator\n",
    "df['data_col'] = df['SCORE'] \n",
    "df['Year'] = 2019\n",
    "df['Sub-Pillar'] = subpillar\n",
    "df['Country Name'] = df['Country']\n",
    "\n",
    "min_rank = df['data_col'].min()\n",
    "max_rank = df['data_col'].max()\n",
    "\n",
    "# transform 0-1 rank into 1-6\n",
    "df['new_rank_score'] = df['data_col'].apply(lambda row: convert_rank(row,old_min=min_rank,old_max=max_rank))"
   ]
  },
  {
   "cell_type": "code",
   "execution_count": null,
   "id": "a9c7324d",
   "metadata": {},
   "outputs": [],
   "source": [
    "df = df[['Country Name', 'Year','Indicator','data_col','new_rank_score','higher_is_better','Sub-Pillar']]\n",
    "df"
   ]
  },
  {
   "cell_type": "code",
   "execution_count": null,
   "id": "a030befa",
   "metadata": {},
   "outputs": [],
   "source": [
    "df.to_csv('../indicator_scores/infrastructure_{}_scores.csv'.format(indicator), index=False)"
   ]
  },
  {
   "cell_type": "code",
   "execution_count": null,
   "id": "02400ad1",
   "metadata": {},
   "outputs": [],
   "source": [
    "### 12. Electricity Environmental Sustainability"
   ]
  },
  {
   "cell_type": "code",
   "execution_count": null,
   "id": "e8920862",
   "metadata": {},
   "outputs": [],
   "source": [
    "indicators[11]\n",
    "\n",
    "# load data\n",
    "indicator = indicators[11]\n",
    "print(indicator)\n",
    "bf = bnames[bnames['Indicator']==indicator]['Filename'].values[0]\n",
    "print(bf)\n",
    "\n",
    "df = pd.read_csv('../../processed/{}.csv'.format(bf))"
   ]
  },
  {
   "cell_type": "code",
   "execution_count": null,
   "id": "74a1634f",
   "metadata": {},
   "outputs": [],
   "source": [
    "df.head(15)"
   ]
  },
  {
   "cell_type": "code",
   "execution_count": null,
   "id": "f30a702f",
   "metadata": {},
   "outputs": [],
   "source": [
    "subpillars[0]\n",
    "subpillar = subpillars[0]\n",
    "print(subpillar)"
   ]
  },
  {
   "cell_type": "code",
   "execution_count": null,
   "id": "43eb5edf",
   "metadata": {},
   "outputs": [],
   "source": [
    "# create standard columns\n",
    "df.rename(columns={'Country':'Country Name'}, inplace=True)\n",
    "df['higher_is_better'] = True\n",
    "df['Indicator'] = indicator\n",
    "df['data_col'] = df['2021 SDG Index Score'] \n",
    "df['Year'] = 2021\n",
    "df['Sub-Pillar'] = subpillar\n",
    "\n",
    "min_rank = df['data_col'].min()\n",
    "max_rank = df['data_col'].max()\n",
    "\n",
    "# transform 0-1 rank into 1-6\n",
    "df['new_rank_score'] = df['data_col'].apply(lambda row: convert_rank(row,old_min=min_rank,old_max=max_rank))"
   ]
  },
  {
   "cell_type": "code",
   "execution_count": null,
   "id": "4ddc2959",
   "metadata": {},
   "outputs": [],
   "source": [
    "df = df[['Country Name', 'Year','Indicator','data_col','new_rank_score','higher_is_better','Sub-Pillar']]\n",
    "df"
   ]
  },
  {
   "cell_type": "code",
   "execution_count": null,
   "id": "41815eef",
   "metadata": {},
   "outputs": [],
   "source": [
    "df.to_csv('../indicator_scores/infrastructure_{}_scores.csv'.format(indicator), index=False)"
   ]
  },
  {
   "cell_type": "code",
   "execution_count": null,
   "id": "0fb83b05",
   "metadata": {},
   "outputs": [],
   "source": [
    "### 13. Cellphone Signal Density"
   ]
  },
  {
   "cell_type": "code",
   "execution_count": null,
   "id": "7f1b0e7a",
   "metadata": {},
   "outputs": [],
   "source": [
    "indicators[12]\n",
    "\n",
    "# load data\n",
    "indicator = indicators[12]\n",
    "print(indicator)\n",
    "bf = bnames[bnames['Indicator']==indicator]['Filename'].values[0]\n",
    "print(bf)\n",
    "\n",
    "df = pd.read_csv('../../processed/{}.csv'.format(bf))"
   ]
  },
  {
   "cell_type": "code",
   "execution_count": null,
   "id": "87a21c58",
   "metadata": {},
   "outputs": [],
   "source": [
    "df.head(10)"
   ]
  },
  {
   "cell_type": "code",
   "execution_count": null,
   "id": "50509cce",
   "metadata": {},
   "outputs": [],
   "source": [
    "subpillars[0]\n",
    "subpillar = subpillars[0]\n",
    "print(subpillar)"
   ]
  },
  {
   "cell_type": "code",
   "execution_count": null,
   "id": "0d2227ca",
   "metadata": {},
   "outputs": [],
   "source": [
    "df = df[(df.Year == 2019)]\n",
    "\n",
    "# create standard columns\n",
    "df.rename(columns={'Country':'Country Name'}, inplace=True)\n",
    "df['higher_is_better'] = True\n",
    "df['Indicator'] = indicator\n",
    "df['data_col'] = df['Network coverage'] \n",
    "df['Sub-Pillar'] = subpillar\n",
    "\n",
    "min_rank = df['data_col'].min()\n",
    "max_rank = df['data_col'].max()\n",
    "\n",
    "# transform 0-1 rank into 1-6\n",
    "df['new_rank_score'] = df['data_col'].apply(lambda row: convert_rank(row,old_min=min_rank,old_max=max_rank))"
   ]
  },
  {
   "cell_type": "code",
   "execution_count": null,
   "id": "37fb5a3b",
   "metadata": {},
   "outputs": [],
   "source": [
    "df = df[['Country Name', 'Year','Indicator','data_col','new_rank_score','higher_is_better','Sub-Pillar']]\n",
    "df"
   ]
  },
  {
   "cell_type": "code",
   "execution_count": null,
   "id": "9ab59332",
   "metadata": {},
   "outputs": [],
   "source": [
    "df.to_csv('../indicator_scores/infrastructure_{}_scores.csv'.format(indicator), index=False)"
   ]
  },
  {
   "cell_type": "code",
   "execution_count": null,
   "id": "c44107f5",
   "metadata": {},
   "outputs": [],
   "source": [
    "### 14. Telecommunication Infrastructure Index (TII)"
   ]
  },
  {
   "cell_type": "code",
   "execution_count": 58,
   "id": "dd79d3fa",
   "metadata": {
    "scrolled": true
   },
   "outputs": [
    {
     "name": "stdout",
     "output_type": "stream",
     "text": [
      "Telecommunication Infrastructure Index (TII)\n",
      "e_government_index\n"
     ]
    }
   ],
   "source": [
    "indicators[13]\n",
    "\n",
    "# load data\n",
    "indicator = indicators[13]\n",
    "print(indicator)\n",
    "bf = bnames[bnames['Indicator']==indicator]['Filename'].values[0]\n",
    "print(bf)\n",
    "\n",
    "df = pd.read_csv('../../processed/{}.csv'.format(bf))"
   ]
  },
  {
   "cell_type": "code",
   "execution_count": null,
   "id": "7516fda0",
   "metadata": {},
   "outputs": [],
   "source": [
    "df.head(10)"
   ]
  },
  {
   "cell_type": "code",
   "execution_count": null,
   "id": "3d3c6b45",
   "metadata": {},
   "outputs": [],
   "source": [
    "subpillars[0]\n",
    "subpillar = subpillars[0]\n",
    "print(subpillar)"
   ]
  },
  {
   "cell_type": "code",
   "execution_count": null,
   "id": "cbbbc800",
   "metadata": {},
   "outputs": [],
   "source": [
    "# create standard columns\n",
    "# df.rename(columns={'COUNTRY/ECONOMY':'Country Name'}, inplace=True)\n",
    "\n",
    "df['higher_is_better'] = True\n",
    "df['Indicator'] = indicator\n",
    "df['data_col'] = df['Telecommunication Infrastructure Index'] \n",
    "df['Year'] = df['Survey Year']\n",
    "df['Sub-Pillar'] = subpillar\n",
    "\n",
    "min_rank = df['data_col'].min()\n",
    "max_rank = df['data_col'].max()\n",
    "\n",
    "# transform 0-1 rank into 1-6\n",
    "df['new_rank_score'] = df['data_col'].apply(lambda row: convert_rank(row,old_min=min_rank,old_max=max_rank))\n"
   ]
  },
  {
   "cell_type": "code",
   "execution_count": null,
   "id": "1b069fed",
   "metadata": {},
   "outputs": [],
   "source": [
    "df = df[['Country Name', 'Year','Indicator','data_col','new_rank_score','higher_is_better','Sub-Pillar']]\n",
    "df"
   ]
  },
  {
   "cell_type": "code",
   "execution_count": null,
   "id": "84fa6f80",
   "metadata": {},
   "outputs": [],
   "source": [
    "df.to_csv('../indicator_scores/infrastructure_{}_scores.csv'.format(indicator), index=False)"
   ]
  },
  {
   "cell_type": "code",
   "execution_count": null,
   "id": "617888fb",
   "metadata": {},
   "outputs": [],
   "source": [
    "### 15. GSMA Mobile Connectivity Index"
   ]
  },
  {
   "cell_type": "code",
   "execution_count": 57,
   "id": "ec984cc4",
   "metadata": {},
   "outputs": [
    {
     "name": "stdout",
     "output_type": "stream",
     "text": [
      "GSMA Mobile Connectivity Index \n",
      "countries_mobile_connectivity\n"
     ]
    }
   ],
   "source": [
    "indicators[14]\n",
    "\n",
    "# load data\n",
    "indicator = indicators[14]\n",
    "print(indicator)\n",
    "bf = bnames[bnames['Indicator']==indicator]['Filename'].values[0]\n",
    "print(bf)\n",
    "\n",
    "df = pd.read_csv('../../processed/{}.csv'.format(bf))"
   ]
  },
  {
   "cell_type": "code",
   "execution_count": null,
   "id": "363c375f",
   "metadata": {},
   "outputs": [],
   "source": [
    "df.head(10)"
   ]
  },
  {
   "cell_type": "code",
   "execution_count": null,
   "id": "ee9e243e",
   "metadata": {},
   "outputs": [],
   "source": [
    "subpillars[0]\n",
    "subpillar = subpillars[0]\n",
    "print(subpillar)"
   ]
  },
  {
   "cell_type": "code",
   "execution_count": null,
   "id": "cfdd61b9",
   "metadata": {},
   "outputs": [],
   "source": [
    "# filter most recent year\n",
    "df = df[(df.Year==2019)]\n",
    "\n",
    "# create standard columns\n",
    "df.rename(columns={'Country':'Country Name'}, inplace=True)\n",
    "\n",
    "df['higher_is_better'] = True\n",
    "df['Indicator'] = indicator\n",
    "df['data_col'] = df['Index'] \n",
    "df['Sub-Pillar'] = subpillar\n",
    "\n",
    "min_rank = df['data_col'].min()\n",
    "max_rank = df['data_col'].max()\n",
    "\n",
    "# transform 0-1 rank into 1-6\n",
    "df['new_rank_score'] = df['data_col'].apply(lambda row: convert_rank(row,old_min=min_rank,old_max=max_rank))"
   ]
  },
  {
   "cell_type": "code",
   "execution_count": null,
   "id": "236f5d44",
   "metadata": {},
   "outputs": [],
   "source": [
    "df = df[['Country Name', 'Year','Indicator','data_col','new_rank_score','higher_is_better','Sub-Pillar']]\n",
    "df"
   ]
  },
  {
   "cell_type": "code",
   "execution_count": null,
   "id": "bded1ce7",
   "metadata": {},
   "outputs": [],
   "source": [
    "df.to_csv('../indicator_scores/infrastructure_{}_scores.csv'.format(indicator), index=False)"
   ]
  },
  {
   "cell_type": "code",
   "execution_count": null,
   "id": "5da6ca0d",
   "metadata": {},
   "outputs": [],
   "source": [
    "### 16. Spectrum Allocated to Mobile Providers"
   ]
  },
  {
   "cell_type": "code",
   "execution_count": null,
   "id": "3e3f2638",
   "metadata": {},
   "outputs": [],
   "source": [
    "indicators[15]\n",
    "\n",
    "# load data\n",
    "indicator = indicators[15]\n",
    "print(indicator)\n",
    "bf = bnames[bnames['Indicator']==indicator]['Filename'].values[0]\n",
    "print(bf)\n",
    "\n",
    "df = pd.read_csv('../../processed/{}.csv'.format(bf))"
   ]
  },
  {
   "cell_type": "code",
   "execution_count": null,
   "id": "b0d6e66d",
   "metadata": {},
   "outputs": [],
   "source": [
    "df.head(15)"
   ]
  },
  {
   "cell_type": "code",
   "execution_count": null,
   "id": "7d3dc482",
   "metadata": {},
   "outputs": [],
   "source": [
    "subpillars[0]\n",
    "subpillar = subpillars[0]\n",
    "print(subpillar)"
   ]
  },
  {
   "cell_type": "code",
   "execution_count": null,
   "id": "f9bb9371",
   "metadata": {},
   "outputs": [],
   "source": [
    "# filter most recent year\n",
    "df = df[(df.Year==2019)]\n",
    "\n",
    "# create standard columns\n",
    "df.rename(columns={'Country':'Country Name'}, inplace=True)\n",
    "\n",
    "df['higher_is_better'] = True\n",
    "df['Indicator'] = indicator\n",
    "df['data_col'] = df['Spectrum'] \n",
    "df['Sub-Pillar'] = subpillar\n",
    "\n",
    "min_rank = df['data_col'].min()\n",
    "max_rank = df['data_col'].max()\n",
    "\n",
    "# transform 0-1 rank into 1-6\n",
    "df['new_rank_score'] = df['data_col'].apply(lambda row: convert_rank(row,old_min=min_rank,old_max=max_rank))"
   ]
  },
  {
   "cell_type": "code",
   "execution_count": null,
   "id": "1afc9ba6",
   "metadata": {},
   "outputs": [],
   "source": [
    "df = df[['Country Name', 'Year','Indicator','data_col','new_rank_score','higher_is_better','Sub-Pillar']]\n",
    "df"
   ]
  },
  {
   "cell_type": "code",
   "execution_count": null,
   "id": "6caa93af",
   "metadata": {},
   "outputs": [],
   "source": [
    "df.to_csv('../indicator_scores/infrastructure_{}_scores.csv'.format(indicator), index=False)"
   ]
  },
  {
   "cell_type": "code",
   "execution_count": null,
   "id": "01e22381",
   "metadata": {},
   "outputs": [],
   "source": [
    "### 17. Internet Exchange Points (IXPs) "
   ]
  },
  {
   "cell_type": "code",
   "execution_count": 59,
   "id": "354a782c",
   "metadata": {},
   "outputs": [
    {
     "name": "stdout",
     "output_type": "stream",
     "text": [
      "Internet Exchange Points (IXPs) map\n",
      "countries_ixp\n"
     ]
    }
   ],
   "source": [
    "indicators[16]\n",
    "\n",
    "# load data\n",
    "indicator = indicators[16]\n",
    "print(indicator)\n",
    "bf = bnames[bnames['Indicator']==indicator]['Filename'].values[0]\n",
    "print(bf)\n",
    "\n",
    "df = pd.read_csv('../../processed/{}.csv'.format(bf))\n",
    "\n"
   ]
  },
  {
   "cell_type": "code",
   "execution_count": null,
   "id": "32702014",
   "metadata": {},
   "outputs": [],
   "source": [
    "df['Country Name'] = df['Country']\n",
    "df.head(15)"
   ]
  },
  {
   "cell_type": "code",
   "execution_count": null,
   "id": "4493e558",
   "metadata": {},
   "outputs": [],
   "source": [
    "subpillars[0]\n",
    "subpillar = subpillars[0]\n",
    "print(subpillar)"
   ]
  },
  {
   "cell_type": "code",
   "execution_count": null,
   "id": "a20ea337",
   "metadata": {},
   "outputs": [],
   "source": [
    "agg_df = df.groupby('Country Name').agg({'Country':'count'})\n",
    "agg_df"
   ]
  },
  {
   "cell_type": "code",
   "execution_count": null,
   "id": "ad98bd53",
   "metadata": {},
   "outputs": [],
   "source": [
    "# create standard columns\n",
    "# df.rename(columns={'COUNTRY/ECONOMY':'Country Name'}, inplace=True)\n",
    "\n",
    "agg_df['higher_is_better'] = True\n",
    "agg_df['Indicator'] = indicator\n",
    "agg_df['data_col'] = agg_df['Country'] \n",
    "agg_df['Year'] = 2019\n",
    "agg_df['Sub-Pillar'] = subpillar\n",
    "\n",
    "min_rank = agg_df['data_col'].min()\n",
    "max_rank = agg_df['data_col'].max()\n",
    "\n",
    "# transform 0-1 rank into 1-6\n",
    "agg_df['new_rank_score'] = agg_df['data_col'].apply(lambda row: convert_rank(row,old_min=min_rank,old_max=max_rank))"
   ]
  },
  {
   "cell_type": "code",
   "execution_count": null,
   "id": "1020cfe5",
   "metadata": {},
   "outputs": [],
   "source": [
    "agg_df = agg_df[['Year','Indicator','data_col','new_rank_score','higher_is_better','Sub-Pillar']]\n",
    "agg_df"
   ]
  },
  {
   "cell_type": "code",
   "execution_count": null,
   "id": "fa541685",
   "metadata": {},
   "outputs": [],
   "source": [
    "agg_df.to_csv('../indicator_scores/infrastructure_{}_scores.csv'.format(indicator), index=False)"
   ]
  },
  {
   "cell_type": "code",
   "execution_count": null,
   "id": "becf5621",
   "metadata": {},
   "outputs": [],
   "source": [
    "### * 18. ISP Speeds - Mobile"
   ]
  },
  {
   "cell_type": "code",
   "execution_count": 61,
   "id": "64380591",
   "metadata": {},
   "outputs": [
    {
     "name": "stdout",
     "output_type": "stream",
     "text": [
      "ISP Speeds - Mobile\n",
      "mobile_speed\n"
     ]
    }
   ],
   "source": [
    "indicators[17]\n",
    "\n",
    "# load data\n",
    "indicator = indicators[17]\n",
    "print(indicator)\n",
    "bf = bnames[bnames['Indicator']==indicator]['Filename'].values[0]\n",
    "print(bf)\n",
    "\n",
    "df = pd.read_csv('../../processed/{}.csv'.format(bf))"
   ]
  },
  {
   "cell_type": "code",
   "execution_count": null,
   "id": "4d318290",
   "metadata": {},
   "outputs": [],
   "source": [
    "df.head(15)"
   ]
  },
  {
   "cell_type": "code",
   "execution_count": null,
   "id": "ef1d2863",
   "metadata": {},
   "outputs": [],
   "source": [
    "subpillars[0]\n",
    "subpillar = subpillars[0]\n",
    "print(subpillar)"
   ]
  },
  {
   "cell_type": "code",
   "execution_count": null,
   "id": "30556c22",
   "metadata": {},
   "outputs": [],
   "source": [
    "# create standard columns\n",
    "# df.rename(columns={'COUNTRY/ECONOMY':'Country Name'}, inplace=True)\n",
    "\n",
    "df['higher_is_better'] = True\n",
    "df['Indicator'] = indicator\n",
    "df['data_col'] = df['Mbps'] \n",
    "df['Country Name'] = df['Country']\n",
    "df['Sub-Pillar'] = subpillar\n",
    "\n",
    "min_rank = df['data_col'].min()\n",
    "max_rank = df['data_col'].max()\n",
    "\n",
    "# transform 0-1 rank into 1-6\n",
    "df['new_rank_score'] = df['data_col'].apply(lambda row: convert_rank(row,old_min=min_rank,old_max=max_rank))"
   ]
  },
  {
   "cell_type": "code",
   "execution_count": null,
   "id": "8e7be719",
   "metadata": {},
   "outputs": [],
   "source": [
    "df = df[['Country Name', 'Year','Indicator','data_col','new_rank_score','higher_is_better','Sub-Pillar']]\n",
    "df"
   ]
  },
  {
   "cell_type": "code",
   "execution_count": null,
   "id": "7a43113b",
   "metadata": {},
   "outputs": [],
   "source": []
  },
  {
   "cell_type": "code",
   "execution_count": null,
   "id": "b3355e25",
   "metadata": {},
   "outputs": [],
   "source": [
    "### 19. Individuals using the Internet (% of population)"
   ]
  },
  {
   "cell_type": "code",
   "execution_count": 60,
   "id": "ea073d16",
   "metadata": {},
   "outputs": [
    {
     "name": "stdout",
     "output_type": "stream",
     "text": [
      "Individuals using the Internet (% of population)\n",
      "ITU_database\n"
     ]
    }
   ],
   "source": [
    "indicators[18]\n",
    "\n",
    "# load data\n",
    "indicator = indicators[18]\n",
    "print(indicator)\n",
    "bf = bnames[bnames['Indicator']==indicator]['Filename'].values[0]\n",
    "print(bf)\n",
    "\n",
    "df = pd.read_csv('../../processed/{}.csv'.format(bf))"
   ]
  },
  {
   "cell_type": "code",
   "execution_count": null,
   "id": "db96a823",
   "metadata": {},
   "outputs": [],
   "source": [
    "df.head(15)"
   ]
  },
  {
   "cell_type": "code",
   "execution_count": null,
   "id": "d398ce86",
   "metadata": {},
   "outputs": [],
   "source": [
    "subpillars[0]\n",
    "subpillar = subpillars[0]\n",
    "print(subpillar)"
   ]
  },
  {
   "cell_type": "code",
   "execution_count": null,
   "id": "87068a6f",
   "metadata": {},
   "outputs": [],
   "source": [
    "df = df[(df['Indicator name'] == 'Individuals using the Internet, total (%)')]\n",
    "df = df[(df.Year==2019)]\n",
    "df.head(15)"
   ]
  },
  {
   "cell_type": "code",
   "execution_count": null,
   "id": "97ab73ee",
   "metadata": {},
   "outputs": [],
   "source": [
    "# create standard columns\n",
    "# df.rename(columns={'COUNTRY/ECONOMY':'Country Name'}, inplace=True)\n",
    "\n",
    "df['higher_is_better'] = True\n",
    "df['Indicator'] = indicator\n",
    "df['data_col'] = df['Value'] \n",
    "df.rename(columns = {'Country':'Country Name'}, inplace=True)\n",
    "df['Sub-Pillar'] = subpillar\n",
    "\n",
    "min_rank = df['data_col'].min()\n",
    "max_rank = df['data_col'].max()\n",
    "\n",
    "# transform 0-1 rank into 1-6\n",
    "df['new_rank_score'] = df['data_col'].apply(lambda row: convert_rank(row,old_min=min_rank,old_max=max_rank))"
   ]
  },
  {
   "cell_type": "code",
   "execution_count": null,
   "id": "d3cb9f2d",
   "metadata": {},
   "outputs": [],
   "source": [
    "df = df[['Country Name', 'Year','Indicator','data_col','new_rank_score','higher_is_better','Sub-Pillar']]\n",
    "df"
   ]
  },
  {
   "cell_type": "code",
   "execution_count": null,
   "id": "19a7a216",
   "metadata": {},
   "outputs": [],
   "source": [
    "df.to_csv('../indicator_scores/infrastructure_{}_scores.csv'.format(indicator), index=False)"
   ]
  },
  {
   "cell_type": "code",
   "execution_count": null,
   "id": "0727974b",
   "metadata": {},
   "outputs": [],
   "source": [
    "### 20. Mobile-cellular subscriptions per 100 inhabitants"
   ]
  },
  {
   "cell_type": "code",
   "execution_count": 62,
   "id": "42f61ff7",
   "metadata": {},
   "outputs": [
    {
     "name": "stdout",
     "output_type": "stream",
     "text": [
      "Mobile cellular subscriptions (per 100 people)\n",
      "ITU_database\n"
     ]
    }
   ],
   "source": [
    "indicators[19]\n",
    "\n",
    "# load data\n",
    "indicator = indicators[19]\n",
    "print(indicator)\n",
    "bf = bnames[bnames['Indicator']==indicator]['Filename'].values[0]\n",
    "print(bf)\n",
    "\n",
    "df = pd.read_csv('../../processed/{}.csv'.format(bf))\n",
    "\n",
    "# Waiting for internet_speed to be added to the processed folder"
   ]
  },
  {
   "cell_type": "code",
   "execution_count": null,
   "id": "ebce9128",
   "metadata": {},
   "outputs": [],
   "source": [
    "df.head(15)"
   ]
  },
  {
   "cell_type": "code",
   "execution_count": null,
   "id": "ff08361b",
   "metadata": {},
   "outputs": [],
   "source": [
    "subpillars[0]\n",
    "subpillar = subpillars[0]\n",
    "print(subpillar)"
   ]
  },
  {
   "cell_type": "code",
   "execution_count": null,
   "id": "dccfc14e",
   "metadata": {},
   "outputs": [],
   "source": [
    "df = df[(df['Indicator name'] == 'Mobile-cellular subscriptions per 100 inhabitants')]\n",
    "df = df[(df.Year==2020)]\n",
    "df.head(15)"
   ]
  },
  {
   "cell_type": "code",
   "execution_count": null,
   "id": "002c38cf",
   "metadata": {},
   "outputs": [],
   "source": [
    "# create standard columns\n",
    "# df.rename(columns={'COUNTRY/ECONOMY':'Country Name'}, inplace=True)\n",
    "\n",
    "df['higher_is_better'] = True\n",
    "df['Indicator'] = indicator\n",
    "df['data_col'] = df['Value'] \n",
    "df.rename(columns = {'Country':'Country Name'}, inplace=True)\n",
    "df['Sub-Pillar'] = subpillar\n",
    "\n",
    "min_rank = df['data_col'].min()\n",
    "max_rank = df['data_col'].max()\n",
    "\n",
    "# transform 0-1 rank into 1-6\n",
    "df['new_rank_score'] = df['data_col'].apply(lambda row: convert_rank(row,old_min=min_rank,old_max=max_rank))"
   ]
  },
  {
   "cell_type": "code",
   "execution_count": null,
   "id": "75db7436",
   "metadata": {},
   "outputs": [],
   "source": [
    "df = df[['Country Name', 'Year','Indicator','data_col','new_rank_score','higher_is_better','Sub-Pillar']]\n",
    "df"
   ]
  },
  {
   "cell_type": "code",
   "execution_count": null,
   "id": "4bff3976",
   "metadata": {},
   "outputs": [],
   "source": [
    "df.to_csv('../indicator_scores/infrastructure_{}_scores.csv'.format(indicator), index=False)"
   ]
  },
  {
   "cell_type": "code",
   "execution_count": null,
   "id": "ce590200",
   "metadata": {},
   "outputs": [],
   "source": [
    "### 21. * Average fixed broadband download speeds"
   ]
  },
  {
   "cell_type": "code",
   "execution_count": 63,
   "id": "3a77de64",
   "metadata": {},
   "outputs": [
    {
     "name": "stdout",
     "output_type": "stream",
     "text": [
      "Average fixed broadband download speeds \n",
      "fixed_bdbd_spd_dl_ul\n"
     ]
    }
   ],
   "source": [
    "indicators[20]\n",
    "\n",
    "# load data\n",
    "indicator = indicators[20]\n",
    "print(indicator)\n",
    "bf = bnames[bnames['Indicator']==indicator]['Filename'].values[0]\n",
    "print(bf)\n",
    "\n",
    "df = pd.read_csv('../../processed/{}.csv'.format(bf))"
   ]
  },
  {
   "cell_type": "code",
   "execution_count": null,
   "id": "cc971a61",
   "metadata": {},
   "outputs": [],
   "source": [
    "df.head(15)"
   ]
  },
  {
   "cell_type": "code",
   "execution_count": null,
   "id": "1a7faac5",
   "metadata": {},
   "outputs": [],
   "source": [
    "subpillars[0]\n",
    "subpillar = subpillars[0]\n",
    "print(subpillar)"
   ]
  },
  {
   "cell_type": "code",
   "execution_count": null,
   "id": "31656971",
   "metadata": {},
   "outputs": [],
   "source": [
    "# create standard columns\n",
    "\n",
    "df.rename(columns={'Country':'Country Name'}, inplace=True)\n",
    "df['higher_is_better'] = True\n",
    "df['Year'] = 2021\n",
    "df['Indicator'] = indicator\n",
    "df['data_col'] = df['broadband'] \n",
    "df.rename(columns = {'country':'Country Name'}, inplace=True)\n",
    "df['Sub-Pillar'] = subpillar\n",
    "\n",
    "min_rank = df['data_col'].min()\n",
    "max_rank = df['data_col'].max()\n",
    "\n",
    "# transform 0-1 rank into 1-6\n",
    "df['new_rank_score'] = df['data_col'].apply(lambda row: convert_rank(row,old_min=min_rank,old_max=max_rank))"
   ]
  },
  {
   "cell_type": "code",
   "execution_count": null,
   "id": "18d122a2",
   "metadata": {},
   "outputs": [],
   "source": [
    "df = df[['Country Name', 'Year','Indicator','data_col','new_rank_score','higher_is_better','Sub-Pillar']]\n",
    "df"
   ]
  },
  {
   "cell_type": "code",
   "execution_count": null,
   "id": "ed4d5786",
   "metadata": {},
   "outputs": [],
   "source": []
  },
  {
   "cell_type": "code",
   "execution_count": null,
   "id": "1a63b1d7",
   "metadata": {},
   "outputs": [],
   "source": [
    "### 22. ISP internet download speed average"
   ]
  },
  {
   "cell_type": "code",
   "execution_count": 64,
   "id": "0533b3d2",
   "metadata": {},
   "outputs": [
    {
     "name": "stdout",
     "output_type": "stream",
     "text": [
      "ISP internet download speed average \n",
      "internet_speed\n"
     ]
    }
   ],
   "source": [
    "indicators[21]\n",
    "\n",
    "# load data\n",
    "indicator = indicators[21]\n",
    "print(indicator)\n",
    "bf = bnames[bnames['Indicator']==indicator]['Filename'].values[0]\n",
    "print(bf)\n",
    "\n",
    "df = pd.read_csv('../../processed/{}.csv'.format(bf))"
   ]
  },
  {
   "cell_type": "code",
   "execution_count": null,
   "id": "6364d97e",
   "metadata": {},
   "outputs": [],
   "source": [
    "df.head(15)"
   ]
  },
  {
   "cell_type": "code",
   "execution_count": null,
   "id": "0d17ef30",
   "metadata": {},
   "outputs": [],
   "source": [
    "subpillars[0]\n",
    "subpillar = subpillars[0]\n",
    "print(subpillar)"
   ]
  },
  {
   "cell_type": "code",
   "execution_count": null,
   "id": "ad588a51",
   "metadata": {},
   "outputs": [],
   "source": [
    "# create standard columns\n",
    "# df.rename(columns={'COUNTRY/ECONOMY':'Country Name'}, inplace=True)\n",
    "\n",
    "df['higher_is_better'] = True\n",
    "df['Indicator'] = indicator\n",
    "df['data_col'] = df['Download speed (Mbps)'] \n",
    "df['Country Name'] = df['Country']\n",
    "df['Sub-Pillar'] = subpillar\n",
    "\n",
    "min_rank = df['data_col'].min()\n",
    "max_rank = df['data_col'].max()\n",
    "\n",
    "# transform 0-1 rank into 1-6\n",
    "df['new_rank_score'] = df['data_col'].apply(lambda row: convert_rank(row,old_min=min_rank,old_max=max_rank))"
   ]
  },
  {
   "cell_type": "code",
   "execution_count": null,
   "id": "3d4f4b76",
   "metadata": {},
   "outputs": [],
   "source": [
    "df = df[['Country Name', 'Year','Indicator','data_col','new_rank_score','higher_is_better','Sub-Pillar']]\n",
    "df"
   ]
  },
  {
   "cell_type": "code",
   "execution_count": null,
   "id": "da32b210",
   "metadata": {},
   "outputs": [],
   "source": [
    "df.to_csv('../indicator_scores/infrastructure_{}_scores.csv'.format(indicator), index=False)"
   ]
  },
  {
   "cell_type": "code",
   "execution_count": null,
   "id": "b3ac7b72",
   "metadata": {},
   "outputs": [],
   "source": [
    "### 23. Mobile dowload speed at the slowest hour"
   ]
  },
  {
   "cell_type": "code",
   "execution_count": null,
   "id": "0093028d",
   "metadata": {},
   "outputs": [],
   "source": [
    "indicators[22]\n",
    "\n",
    "# load data\n",
    "indicator = indicators[22]\n",
    "print(indicator)\n",
    "bf = bnames[bnames['Indicator']==indicator]['Filename'].values[0]\n",
    "print(bf)\n",
    "\n",
    "df = pd.read_csv('../../processed/{}.csv'.format(bf))"
   ]
  },
  {
   "cell_type": "code",
   "execution_count": null,
   "id": "684d4bd5",
   "metadata": {},
   "outputs": [],
   "source": [
    "subpillars[0]\n",
    "subpillar = subpillars[0]\n",
    "print(subpillar)"
   ]
  },
  {
   "cell_type": "code",
   "execution_count": null,
   "id": "c693772d",
   "metadata": {},
   "outputs": [],
   "source": [
    "# filter most recent year\n",
    "df = df[(df.Year==2019)]\n",
    "\n",
    "# create standard columns\n",
    "# df.rename(columns={'COUNTRY/ECONOMY':'Country Name'}, inplace=True)\n",
    "\n",
    "df['higher_is_better'] = True\n",
    "df['Indicator'] = indicator\n",
    "df['data_col'] = df['Mobile latencies'] \n",
    "df['Country Name'] = df['Country']\n",
    "df['Sub-Pillar'] = subpillar\n",
    "\n",
    "min_rank = df['data_col'].min()\n",
    "max_rank = df['data_col'].max()\n",
    "\n",
    "# transform 0-1 rank into 1-6\n",
    "df['new_rank_score'] = df['data_col'].apply(lambda row: convert_rank(row,old_min=min_rank,old_max=max_rank))\n",
    "\n",
    "\n",
    "# invert since to lower rank is better\n",
    "df['new_rank_score'] = df['new_rank_score'].apply(lambda row: (6-row)+1)"
   ]
  },
  {
   "cell_type": "code",
   "execution_count": null,
   "id": "330ccb6c",
   "metadata": {},
   "outputs": [],
   "source": [
    "df = df[['Country Name', 'Year','Indicator','data_col','new_rank_score','higher_is_better','Sub-Pillar']]\n",
    "df"
   ]
  },
  {
   "cell_type": "code",
   "execution_count": null,
   "id": "3f8b74c9",
   "metadata": {},
   "outputs": [],
   "source": [
    "df.to_csv('../indicator_scores/infrastructure_{}_scores.csv'.format(indicator), index=False)"
   ]
  },
  {
   "cell_type": "code",
   "execution_count": null,
   "id": "69fff9e8",
   "metadata": {},
   "outputs": [],
   "source": [
    "### * 24. Mobile download speed average"
   ]
  },
  {
   "cell_type": "code",
   "execution_count": 65,
   "id": "f4120d56",
   "metadata": {},
   "outputs": [
    {
     "name": "stdout",
     "output_type": "stream",
     "text": [
      "Mobile download speed average \n",
      "mobile_speed\n"
     ]
    }
   ],
   "source": [
    "indicators[23]\n",
    "\n",
    "# load data\n",
    "indicator = indicators[23]\n",
    "print(indicator)\n",
    "bf = bnames[bnames['Indicator']==indicator]['Filename'].values[0]\n",
    "print(bf)\n",
    "\n",
    "df = pd.read_csv('../../processed/{}.csv'.format(bf))\n"
   ]
  },
  {
   "cell_type": "code",
   "execution_count": null,
   "id": "1c74bf12",
   "metadata": {},
   "outputs": [],
   "source": [
    "df.head(15)"
   ]
  },
  {
   "cell_type": "code",
   "execution_count": null,
   "id": "15113e47",
   "metadata": {},
   "outputs": [],
   "source": [
    "subpillars[0]\n",
    "subpillar = subpillars[0]\n",
    "print(subpillar)"
   ]
  },
  {
   "cell_type": "code",
   "execution_count": null,
   "id": "dda77656",
   "metadata": {},
   "outputs": [],
   "source": [
    "# create standard columns\n",
    "# df.rename(columns={'COUNTRY/ECONOMY':'Country Name'}, inplace=True)\n",
    "\n",
    "df['higher_is_better'] = True\n",
    "df['Indicator'] = indicator\n",
    "df['data_col'] = df['Mbps'] \n",
    "df['Country Name'] = df['Country']\n",
    "df['Sub-Pillar'] = subpillar\n",
    "\n",
    "min_rank = df['data_col'].min()\n",
    "max_rank = df['data_col'].max()\n",
    "\n",
    "# transform 0-1 rank into 1-6\n",
    "df['new_rank_score'] = df['data_col'].apply(lambda row: convert_rank(row,old_min=min_rank,old_max=max_rank))"
   ]
  },
  {
   "cell_type": "code",
   "execution_count": null,
   "id": "9bb8cb77",
   "metadata": {},
   "outputs": [],
   "source": [
    "df = df[['Country Name', 'Year','Indicator','data_col','new_rank_score','higher_is_better','Sub-Pillar']]\n",
    "df"
   ]
  },
  {
   "cell_type": "code",
   "execution_count": null,
   "id": "444fb667",
   "metadata": {},
   "outputs": [],
   "source": []
  },
  {
   "cell_type": "code",
   "execution_count": null,
   "id": "841dcf19",
   "metadata": {},
   "outputs": [],
   "source": [
    "### 25. Postal Coverage"
   ]
  },
  {
   "cell_type": "code",
   "execution_count": null,
   "id": "6696e90a",
   "metadata": {},
   "outputs": [],
   "source": [
    "indicators[24]\n",
    "\n",
    "# load data\n",
    "indicator = indicators[24]\n",
    "print(indicator)\n",
    "bf = bnames[bnames['Indicator']==indicator]['Filename'].values[0]\n",
    "print(bf)\n",
    "\n",
    "df = pd.read_csv('../../processed/{}.csv'.format(bf))"
   ]
  },
  {
   "cell_type": "code",
   "execution_count": null,
   "id": "5879d0eb",
   "metadata": {},
   "outputs": [],
   "source": [
    "df['2019'] = df['2019'].replace('ND',np.nan)\n",
    "df['2019'].describe"
   ]
  },
  {
   "cell_type": "code",
   "execution_count": null,
   "id": "2f02eb0f",
   "metadata": {},
   "outputs": [],
   "source": [
    "df.head(15)"
   ]
  },
  {
   "cell_type": "code",
   "execution_count": null,
   "id": "b54dcbe0",
   "metadata": {},
   "outputs": [],
   "source": [
    "subpillars[0]\n",
    "subpillar = subpillars[0]\n",
    "print(subpillar)"
   ]
  },
  {
   "cell_type": "code",
   "execution_count": null,
   "id": "f019bbec",
   "metadata": {},
   "outputs": [],
   "source": [
    "# create standard columns\n",
    "# df.rename(columns={'COUNTRY/ECONOMY':'Country Name'}, inplace=True)\n",
    "\n",
    "df['higher_is_better'] = True\n",
    "df['Year'] = 2019\n",
    "df['Indicator'] = indicator\n",
    "df['data_col'] = df['2019'].astype(float)\n",
    "df['Sub-Pillar'] = subpillar\n",
    "df['Country Name'] = df['Administrations']\n",
    "\n",
    "min_rank = df['data_col'].min()\n",
    "max_rank = df['data_col'].max()\n",
    "\n",
    "# transform 0-1 rank into 1-6\n",
    "df['new_rank_score'] = df['data_col'].apply(lambda row: convert_rank(row,old_min=min_rank,old_max=max_rank))"
   ]
  },
  {
   "cell_type": "code",
   "execution_count": null,
   "id": "756654d8",
   "metadata": {},
   "outputs": [],
   "source": [
    "df = df[['Country Name', 'Year','Indicator','data_col','new_rank_score','higher_is_better','Sub-Pillar']]\n",
    "df"
   ]
  },
  {
   "cell_type": "code",
   "execution_count": null,
   "id": "f4f43dfb",
   "metadata": {},
   "outputs": [],
   "source": [
    "df.to_csv('../indicator_scores/infrastructure_{}_scores.csv'.format(indicator), index=False)"
   ]
  },
  {
   "cell_type": "code",
   "execution_count": null,
   "id": "3e82985a",
   "metadata": {},
   "outputs": [],
   "source": [
    "### 26. Logistics Performance Index (LPI) "
   ]
  },
  {
   "cell_type": "code",
   "execution_count": null,
   "id": "b461a7aa",
   "metadata": {},
   "outputs": [],
   "source": [
    "indicators[25]\n",
    "\n",
    "# load data\n",
    "indicator = indicators[25]\n",
    "print(indicator)\n",
    "bf = bnames[bnames['Indicator']==indicator]['Filename'].values[0]\n",
    "print(bf)\n",
    "\n",
    "df = pd.read_csv('../../processed/{}.csv'.format(bf))"
   ]
  },
  {
   "cell_type": "code",
   "execution_count": null,
   "id": "66d91a97",
   "metadata": {},
   "outputs": [],
   "source": [
    "df.head(15)"
   ]
  },
  {
   "cell_type": "code",
   "execution_count": null,
   "id": "18ed9f24",
   "metadata": {},
   "outputs": [],
   "source": [
    "subpillars[0]\n",
    "subpillar = subpillars[0]\n",
    "print(subpillar)"
   ]
  },
  {
   "cell_type": "code",
   "execution_count": null,
   "id": "f5b2dfed",
   "metadata": {},
   "outputs": [],
   "source": [
    "# create standard columns\n",
    "# df.rename(columns={'COUNTRY/ECONOMY':'Country Name'}, inplace=True)\n",
    "\n",
    "df['higher_is_better'] = True\n",
    "df['Year'] = 2018\n",
    "df['Indicator'] = indicator\n",
    "df['data_col'] = df['score']\n",
    "df.rename(columns={'Country':'Country Name'}, inplace=True)\n",
    "df['Sub-Pillar'] = subpillar\n",
    "\n",
    "min_rank = df['data_col'].min()\n",
    "max_rank = df['data_col'].max()\n",
    "\n",
    "# transform 0-1 rank into 1-6\n",
    "df['new_rank_score'] = df['data_col'].apply(lambda row: convert_rank(row,old_min=min_rank,old_max=max_rank))"
   ]
  },
  {
   "cell_type": "code",
   "execution_count": null,
   "id": "f068b943",
   "metadata": {},
   "outputs": [],
   "source": [
    "df = df[['Country Name', 'Year','Indicator','data_col','new_rank_score','higher_is_better','Sub-Pillar']]\n",
    "df"
   ]
  },
  {
   "cell_type": "code",
   "execution_count": null,
   "id": "1178531e",
   "metadata": {},
   "outputs": [],
   "source": [
    "df.to_csv('../indicator_scores/infrastructure_{}_scores.csv'.format(indicator), index=False)"
   ]
  },
  {
   "cell_type": "code",
   "execution_count": null,
   "id": "1ff8d718",
   "metadata": {},
   "outputs": [],
   "source": [
    "### 27. National cyber security index"
   ]
  },
  {
   "cell_type": "code",
   "execution_count": 66,
   "id": "06512bcf",
   "metadata": {},
   "outputs": [
    {
     "name": "stdout",
     "output_type": "stream",
     "text": [
      "National cyber security index\n",
      "national_cybersecurity_index\n"
     ]
    }
   ],
   "source": [
    "indicators[26]\n",
    "\n",
    "# load data\n",
    "indicator = indicators[26]\n",
    "print(indicator)\n",
    "bf = bnames[bnames['Indicator']==indicator]['Filename'].values[0]\n",
    "print(bf)\n",
    "\n",
    "df = pd.read_csv('../../processed/{}.csv'.format(bf))"
   ]
  },
  {
   "cell_type": "code",
   "execution_count": null,
   "id": "d1686f43",
   "metadata": {},
   "outputs": [],
   "source": [
    "df.head(15)"
   ]
  },
  {
   "cell_type": "code",
   "execution_count": null,
   "id": "ecda491f",
   "metadata": {},
   "outputs": [],
   "source": [
    "subpillars[0]\n",
    "subpillar = subpillars[0]\n",
    "print(subpillar)"
   ]
  },
  {
   "cell_type": "code",
   "execution_count": null,
   "id": "8e727ecf",
   "metadata": {},
   "outputs": [],
   "source": [
    "# create standard columns\n",
    "# df.rename(columns={'COUNTRY/ECONOMY':'Country Name'}, inplace=True)\n",
    "\n",
    "df['higher_is_better'] = True\n",
    "df['Year'] = 2021\n",
    "df['Indicator'] = indicator\n",
    "df['data_col'] = df['National Cyber Security Index']\n",
    "df.rename(columns={'Country':'Country Name'}, inplace=True)\n",
    "df['Sub-Pillar'] = subpillar\n",
    "\n",
    "min_rank = df['data_col'].min()\n",
    "max_rank = df['data_col'].max()\n",
    "\n",
    "# transform 0-1 rank into 1-6\n",
    "df['new_rank_score'] = df['data_col'].apply(lambda row: convert_rank(row,old_min=min_rank,old_max=max_rank))"
   ]
  },
  {
   "cell_type": "code",
   "execution_count": null,
   "id": "44d4cd2a",
   "metadata": {},
   "outputs": [],
   "source": [
    "df = df[['Country Name', 'Year','Indicator','data_col','new_rank_score','higher_is_better','Sub-Pillar']]\n",
    "df"
   ]
  },
  {
   "cell_type": "code",
   "execution_count": null,
   "id": "106f7c86",
   "metadata": {},
   "outputs": [],
   "source": [
    "df.to_csv('../indicator_scores/infrastructure_{}_scores.csv'.format(indicator), index=False)"
   ]
  },
  {
   "cell_type": "code",
   "execution_count": null,
   "id": "b5d25921",
   "metadata": {},
   "outputs": [],
   "source": [
    "### 28. Global Cybersecurity Index (GCI)"
   ]
  },
  {
   "cell_type": "code",
   "execution_count": 67,
   "id": "9cd1ea06",
   "metadata": {},
   "outputs": [
    {
     "name": "stdout",
     "output_type": "stream",
     "text": [
      "Global Cybersecurity Index (GCI)\n",
      "dice_export_global_cybersecurity_index\n"
     ]
    }
   ],
   "source": [
    "indicators[27]\n",
    "\n",
    "# load data\n",
    "indicator = indicators[27]\n",
    "print(indicator)\n",
    "bf = bnames[bnames['Indicator']==indicator]['Filename'].values[0]\n",
    "print(bf)\n",
    "\n",
    "df = pd.read_csv('../../processed/{}.csv'.format(bf))"
   ]
  },
  {
   "cell_type": "code",
   "execution_count": null,
   "id": "bfabb51e",
   "metadata": {},
   "outputs": [],
   "source": [
    "df.head(15)"
   ]
  },
  {
   "cell_type": "code",
   "execution_count": null,
   "id": "ad9dea29",
   "metadata": {},
   "outputs": [],
   "source": [
    "subpillars[0]\n",
    "subpillar = subpillars[0]\n",
    "print(subpillar)"
   ]
  },
  {
   "cell_type": "code",
   "execution_count": null,
   "id": "10ec8dd2",
   "metadata": {},
   "outputs": [],
   "source": [
    "# create standard columns\n",
    "# df.rename(columns={'COUNTRY/ECONOMY':'Country Name'}, inplace=True)\n",
    "\n",
    "df['higher_is_better'] = True\n",
    "df['Year'] = 2020\n",
    "df['Indicator'] = indicator\n",
    "df['data_col'] = df['Score (2020)'] \n",
    "df.rename(columns={'Country':'Country Name'}, inplace=True)\n",
    "df['Sub-Pillar'] = subpillar\n",
    "\n",
    "min_rank = df['data_col'].min()\n",
    "max_rank = df['data_col'].max()\n",
    "\n",
    "# transform 0-1 rank into 1-6\n",
    "df['new_rank_score'] = df['data_col'].apply(lambda row: convert_rank(row,old_min=min_rank,old_max=max_rank))"
   ]
  },
  {
   "cell_type": "code",
   "execution_count": null,
   "id": "e2099e69",
   "metadata": {},
   "outputs": [],
   "source": [
    "df = df[['Country Name', 'Year','Indicator','data_col','new_rank_score','higher_is_better','Sub-Pillar']]\n",
    "df"
   ]
  },
  {
   "cell_type": "code",
   "execution_count": null,
   "id": "e401005d",
   "metadata": {},
   "outputs": [],
   "source": [
    "df.to_csv('../indicator_scores/infrastructure_{}_scores.csv'.format(indicator), index=False)"
   ]
  },
  {
   "cell_type": "code",
   "execution_count": null,
   "id": "721b59db",
   "metadata": {},
   "outputs": [],
   "source": [
    "### 29. Software Developer Ecosystem size"
   ]
  },
  {
   "cell_type": "code",
   "execution_count": null,
   "id": "49f0c1e9",
   "metadata": {},
   "outputs": [],
   "source": [
    "indicators[28]\n",
    "\n",
    "# load data\n",
    "indicator = indicators[28]\n",
    "print(indicator)\n",
    "bf = bnames[bnames['Indicator']==indicator]['Filename'].values[0]\n",
    "print(bf)\n",
    "\n",
    "df = pd.read_csv('../../processed/{}.csv'.format(bf))"
   ]
  },
  {
   "cell_type": "code",
   "execution_count": null,
   "id": "e13c80af",
   "metadata": {},
   "outputs": [],
   "source": [
    "df.head(15)"
   ]
  },
  {
   "cell_type": "code",
   "execution_count": null,
   "id": "1bd09d48",
   "metadata": {},
   "outputs": [],
   "source": [
    "subpillars[1]\n",
    "subpillar = subpillars[1]\n",
    "print(subpillar)"
   ]
  },
  {
   "cell_type": "code",
   "execution_count": null,
   "id": "050e652d",
   "metadata": {},
   "outputs": [],
   "source": [
    "df['higher_is_better'] = True\n",
    "df['Year'] = 2018\n",
    "df['Indicator'] = indicator\n",
    "df['data_col'] = df.iloc[:,[1]]\n",
    "df.rename(columns={'Country':'Country Name'}, inplace=True)\n",
    "df['Sub-Pillar'] = subpillar\n",
    "    \n",
    "min_rank = df['data_col'].min()\n",
    "max_rank = df['data_col'].max()\n",
    "\n",
    "# transform 0-1 rank into 1-6\n",
    "df['new_rank_score'] = df['data_col'].apply(lambda row: convert_rank(row,old_min=min_rank,old_max=max_rank))"
   ]
  },
  {
   "cell_type": "code",
   "execution_count": null,
   "id": "c18241a0",
   "metadata": {},
   "outputs": [],
   "source": [
    "df = df[['Country Name', 'Year','Indicator','data_col','new_rank_score','higher_is_better','Sub-Pillar']]\n",
    "df"
   ]
  },
  {
   "cell_type": "code",
   "execution_count": null,
   "id": "efc2e020",
   "metadata": {},
   "outputs": [],
   "source": [
    "df.to_csv('../indicator_scores/infrastructure_{}_scores.csv'.format(indicator), index=False)"
   ]
  },
  {
   "cell_type": "code",
   "execution_count": null,
   "id": "fb9c360f",
   "metadata": {},
   "outputs": [],
   "source": [
    "### 30. Digital Work Ecosystem size"
   ]
  },
  {
   "cell_type": "code",
   "execution_count": null,
   "id": "efd2c8a9",
   "metadata": {},
   "outputs": [],
   "source": [
    "indicators[29]\n",
    "\n",
    "# load data\n",
    "indicator = indicators[29]\n",
    "print(indicator)\n",
    "bf = bnames[bnames['Indicator']==indicator]['Filename'].values[0]\n",
    "print(bf)\n",
    "\n",
    "df = pd.read_csv('../../processed/{}.csv'.format(bf))"
   ]
  },
  {
   "cell_type": "code",
   "execution_count": null,
   "id": "85fb30f5",
   "metadata": {},
   "outputs": [],
   "source": [
    "df.head(15)"
   ]
  },
  {
   "cell_type": "code",
   "execution_count": null,
   "id": "5b1ef2fa",
   "metadata": {},
   "outputs": [],
   "source": [
    "subpillars[1]\n",
    "subpillar = subpillars[1]\n",
    "print(subpillar)"
   ]
  },
  {
   "cell_type": "code",
   "execution_count": null,
   "id": "62e6dcd8",
   "metadata": {},
   "outputs": [],
   "source": [
    "# create standard columns\n",
    "# df.rename(columns={'COUNTRY/ECONOMY':'Country Name'}, inplace=True)\n",
    "\n",
    "df['higher_is_better'] = False\n",
    "df['Year'] = 2020\n",
    "df['Indicator'] = indicator\n",
    "df['data_col'] = df.iloc[:,[0]].astype(float)\n",
    "df.rename(columns={'Country':'Country Name'}, inplace=True)\n",
    "df['Sub-Pillar'] = subpillar\n",
    "    \n",
    "min_rank = df['data_col'].min()\n",
    "max_rank = df['data_col'].max()\n",
    "\n",
    "# transform 0-1 rank into 1-6\n",
    "df['new_rank_score'] = df['data_col'].apply(lambda row: convert_rank(row,old_min=min_rank,old_max=max_rank))\n",
    "\n",
    "# invert since to lower rank is better\n",
    "df['new_rank_score'] = df['new_rank_score'].apply(lambda row: (6-row)+1)"
   ]
  },
  {
   "cell_type": "code",
   "execution_count": null,
   "id": "16ee36b0",
   "metadata": {},
   "outputs": [],
   "source": [
    "df = df[['Country Name', 'Year','Indicator','data_col','new_rank_score','higher_is_better','Sub-Pillar']]\n",
    "df"
   ]
  },
  {
   "cell_type": "code",
   "execution_count": null,
   "id": "d560969b",
   "metadata": {},
   "outputs": [],
   "source": [
    "df.to_csv('../indicator_scores/infrastructure_{}_scores.csv'.format(indicator), index=False)"
   ]
  },
  {
   "cell_type": "code",
   "execution_count": null,
   "id": "b5676cc8",
   "metadata": {},
   "outputs": [],
   "source": [
    "### 31. Country, Industry, Skill Migration Data (Skill) "
   ]
  },
  {
   "cell_type": "code",
   "execution_count": null,
   "id": "9d442b3c",
   "metadata": {},
   "outputs": [],
   "source": [
    "indicators[30]\n",
    "\n",
    "# load data\n",
    "indicator = indicators[30]\n",
    "print(indicator)\n",
    "bf = bnames[bnames['Indicator']==indicator]['Filename'].values[0]\n",
    "print(bf)\n",
    "\n",
    "df = pd.read_csv('../../processed/{}.csv'.format(bf))"
   ]
  },
  {
   "cell_type": "code",
   "execution_count": null,
   "id": "56a39d59",
   "metadata": {},
   "outputs": [],
   "source": [
    "df.head(15)"
   ]
  },
  {
   "cell_type": "code",
   "execution_count": null,
   "id": "6e561a16",
   "metadata": {},
   "outputs": [],
   "source": [
    "subpillars[1]\n",
    "subpillar = subpillars[1]\n",
    "print(subpillar)"
   ]
  },
  {
   "cell_type": "code",
   "execution_count": null,
   "id": "522ffa62",
   "metadata": {},
   "outputs": [],
   "source": [
    "df['Country Name'] = df.iloc[:,[1]]\n",
    "\n",
    "df_sum = df.groupby('Country Name')[['net_per_10K_2019']].sum()\n",
    "df_sum"
   ]
  },
  {
   "cell_type": "code",
   "execution_count": null,
   "id": "9f0cec61",
   "metadata": {},
   "outputs": [],
   "source": [
    "# create standard columns\n",
    "# df.rename(columns={'COUNTRY/ECONOMY':'Country Name'}, inplace=True)\n",
    "\n",
    "df_sum['higher_is_better'] = True\n",
    "df_sum['Year'] = 2019\n",
    "df_sum['Indicator'] = indicator\n",
    "df_sum['data_col'] = df_sum['net_per_10K_2019']\n",
    "df_sum['Sub-Pillar'] = subpillar\n",
    "\n",
    "min_rank = df_sum['data_col'].min()\n",
    "max_rank = df_sum['data_col'].max()\n",
    "\n",
    "# transform 0-1 rank into 1-6\n",
    "df_sum['new_rank_score'] = df_sum['data_col'].apply(lambda row: convert_rank(row,old_min=min_rank,old_max=max_rank))"
   ]
  },
  {
   "cell_type": "code",
   "execution_count": null,
   "id": "5ccf01c2",
   "metadata": {},
   "outputs": [],
   "source": [
    "df_sum = df_sum[['Year','Indicator','data_col','new_rank_score','higher_is_better','Sub-Pillar']]\n",
    "df_sum"
   ]
  },
  {
   "cell_type": "code",
   "execution_count": null,
   "id": "92b00f03",
   "metadata": {},
   "outputs": [],
   "source": [
    "df_sum.to_csv('../indicator_scores/infrastructure_{}_scores.csv'.format(indicator))"
   ]
  },
  {
   "cell_type": "code",
   "execution_count": null,
   "id": "63528ee9",
   "metadata": {},
   "outputs": [],
   "source": [
    "### 32. Country, Industry, Skill Migration Data (Industry)"
   ]
  },
  {
   "cell_type": "code",
   "execution_count": null,
   "id": "2a403555",
   "metadata": {},
   "outputs": [],
   "source": [
    "indicators[31]\n",
    "\n",
    "# load data\n",
    "indicator = indicators[31]\n",
    "print(indicator)\n",
    "bf = bnames[bnames['Indicator']==indicator]['Filename'].values[0]\n",
    "print(bf)\n",
    "\n",
    "df = pd.read_csv('../../processed/{}.csv'.format(bf))\n"
   ]
  },
  {
   "cell_type": "code",
   "execution_count": null,
   "id": "cc8971dd",
   "metadata": {},
   "outputs": [],
   "source": [
    "df.head(15)"
   ]
  },
  {
   "cell_type": "code",
   "execution_count": null,
   "id": "be8748ec",
   "metadata": {},
   "outputs": [],
   "source": [
    "subpillars[1]\n",
    "subpillar = subpillars[1]\n",
    "print(subpillar)"
   ]
  },
  {
   "cell_type": "code",
   "execution_count": null,
   "id": "da69688e",
   "metadata": {},
   "outputs": [],
   "source": [
    "df['Country Name'] = df.iloc[:,[1]]\n",
    "\n",
    "df_sum = df.groupby('Country Name')[['net_per_10K_2019']].sum()\n",
    "df_sum"
   ]
  },
  {
   "cell_type": "code",
   "execution_count": null,
   "id": "61729b1b",
   "metadata": {},
   "outputs": [],
   "source": [
    "## create standard columns\n",
    "# df.rename(columns={'COUNTRY/ECONOMY':'Country Name'}, inplace=True)\n",
    "\n",
    "df_sum['higher_is_better'] = True\n",
    "df_sum['Year'] = 2019\n",
    "df_sum['Indicator'] = indicator\n",
    "df_sum['data_col'] = df_sum['net_per_10K_2019']\n",
    "df_sum['Sub-Pillar'] = subpillar\n",
    "\n",
    "min_rank = df_sum['data_col'].min()\n",
    "max_rank = df_sum['data_col'].max()\n",
    "\n",
    "# transform 0-1 rank into 1-6\n",
    "df_sum['new_rank_score'] = df_sum['data_col'].apply(lambda row: convert_rank(row,old_min=min_rank,old_max=max_rank))"
   ]
  },
  {
   "cell_type": "code",
   "execution_count": null,
   "id": "80ce44d1",
   "metadata": {},
   "outputs": [],
   "source": [
    "df_sum = df_sum[['Year','Indicator','data_col','new_rank_score','higher_is_better','Sub-Pillar']]\n",
    "df_sum"
   ]
  },
  {
   "cell_type": "code",
   "execution_count": null,
   "id": "69aef59e",
   "metadata": {},
   "outputs": [],
   "source": [
    "df_sum.to_csv('../indicator_scores/infrastructure_{}_scores.csv'.format(indicator))"
   ]
  },
  {
   "cell_type": "code",
   "execution_count": null,
   "id": "c03ad134",
   "metadata": {},
   "outputs": [],
   "source": [
    "### 33. Country, Industry, Skill Migration Data (Nation)"
   ]
  },
  {
   "cell_type": "code",
   "execution_count": null,
   "id": "e38028cf",
   "metadata": {},
   "outputs": [],
   "source": [
    "indicators[32]\n",
    "\n",
    "# load data\n",
    "indicator = indicators[32]\n",
    "print(indicator)\n",
    "bf = bnames[bnames['Indicator']==indicator]['Filename'].values[0]\n",
    "print(bf)\n",
    "\n",
    "df = pd.read_csv('../../processed/{}.csv'.format(bf))"
   ]
  },
  {
   "cell_type": "code",
   "execution_count": null,
   "id": "946a6d29",
   "metadata": {},
   "outputs": [],
   "source": [
    "df.head(15)"
   ]
  },
  {
   "cell_type": "code",
   "execution_count": null,
   "id": "8582cf00",
   "metadata": {},
   "outputs": [],
   "source": [
    "subpillars[1]\n",
    "subpillar = subpillars[1]\n",
    "print(subpillar)"
   ]
  },
  {
   "cell_type": "code",
   "execution_count": null,
   "id": "91f61c4b",
   "metadata": {},
   "outputs": [],
   "source": [
    "df['Country Name'] = df.iloc[:,[1]]\n",
    "\n",
    "df_sum = df.groupby('Country Name')[['net_per_10K_2019']].sum()\n",
    "df_sum"
   ]
  },
  {
   "cell_type": "code",
   "execution_count": null,
   "id": "a32b89e2",
   "metadata": {},
   "outputs": [],
   "source": [
    "## create standard columns\n",
    "# df.rename(columns={'COUNTRY/ECONOMY':'Country Name'}, inplace=True)\n",
    "\n",
    "df_sum['higher_is_better'] = True\n",
    "df_sum['Year'] = 2019\n",
    "df_sum['Indicator'] = indicator\n",
    "df_sum['data_col'] = df_sum['net_per_10K_2019']\n",
    "df_sum ['Sub-Pillar'] = subpillar\n",
    "\n",
    "min_rank = df_sum['data_col'].min()\n",
    "max_rank = df_sum['data_col'].max()\n",
    "\n",
    "# transform 0-1 rank into 1-6\n",
    "df_sum['new_rank_score'] = df_sum['data_col'].apply(lambda row: convert_rank(row,old_min=min_rank,old_max=max_rank))"
   ]
  },
  {
   "cell_type": "code",
   "execution_count": null,
   "id": "2365e917",
   "metadata": {},
   "outputs": [],
   "source": [
    "df_sum = df_sum[['Year','Indicator','data_col','new_rank_score','higher_is_better','Sub-Pillar']]\n",
    "df_sum"
   ]
  },
  {
   "cell_type": "code",
   "execution_count": null,
   "id": "3cc0c864",
   "metadata": {},
   "outputs": [],
   "source": [
    "df_sum.to_csv('../indicator_scores/infrastructure_{}_scores.csv'.format(indicator))"
   ]
  },
  {
   "cell_type": "code",
   "execution_count": null,
   "id": "30478c51",
   "metadata": {},
   "outputs": [],
   "source": [
    "### 34. Digital Finance Ecosystem size"
   ]
  },
  {
   "cell_type": "code",
   "execution_count": null,
   "id": "eaa6b920",
   "metadata": {},
   "outputs": [],
   "source": [
    "indicators[33]\n",
    "\n",
    "# load data\n",
    "indicator = indicators[33]\n",
    "print(indicator)\n",
    "bf = bnames[bnames['Indicator']==indicator]['Filename'].values[0]\n",
    "print(bf)\n",
    "\n",
    "df = pd.read_csv('../../processed/{}.csv'.format(bf))"
   ]
  },
  {
   "cell_type": "code",
   "execution_count": null,
   "id": "11cdd6d1",
   "metadata": {},
   "outputs": [],
   "source": [
    "df.head(15)"
   ]
  },
  {
   "cell_type": "code",
   "execution_count": null,
   "id": "93aa31e4",
   "metadata": {},
   "outputs": [],
   "source": [
    "subpillars[1]\n",
    "subpillar = subpillars[1]\n",
    "print(subpillar)"
   ]
  },
  {
   "cell_type": "code",
   "execution_count": null,
   "id": "28160094",
   "metadata": {},
   "outputs": [],
   "source": [
    "# create standard columns\n",
    "# df.rename(columns={'COUNTRY/ECONOMY':'Country Name'}, inplace=True)\n",
    "\n",
    "df['higher_is_better'] = True\n",
    "df['Year'] = 2021\n",
    "df['Indicator'] = indicator\n",
    "df['data_col'] = df.iloc[:,[2]]\n",
    "df['Country Name'] = df.iloc[:,[1]]\n",
    "df['Sub-Pillar'] = subpillar\n",
    "\n",
    "min_rank = df['data_col'].min()\n",
    "max_rank = df['data_col'].max()\n",
    "\n",
    "# transform 0-1 rank into 1-6\n",
    "df['new_rank_score'] = df['data_col'].apply(lambda row: convert_rank(row,old_min=min_rank,old_max=max_rank))\n",
    "\n",
    "# Have to shorten the column names to see if this works"
   ]
  },
  {
   "cell_type": "code",
   "execution_count": null,
   "id": "be8c6944",
   "metadata": {},
   "outputs": [],
   "source": [
    "df = df[['Country Name', 'Year','Indicator','data_col','new_rank_score','higher_is_better','Sub-Pillar']]\n",
    "df"
   ]
  },
  {
   "cell_type": "code",
   "execution_count": null,
   "id": "d03e3905",
   "metadata": {},
   "outputs": [],
   "source": [
    "df.to_csv('../indicator_scores/infrastructure_{}_scores.csv'.format(indicator))"
   ]
  },
  {
   "cell_type": "code",
   "execution_count": null,
   "id": "f0480bc8",
   "metadata": {},
   "outputs": [],
   "source": [
    "### 36. Tech hubs & spaces size"
   ]
  },
  {
   "cell_type": "code",
   "execution_count": null,
   "id": "e7693ca0",
   "metadata": {},
   "outputs": [],
   "source": [
    "indicators[35]\n",
    "\n",
    "# load data\n",
    "indicator = indicators[35]\n",
    "print(indicator)\n",
    "bf = bnames[bnames['Indicator']==indicator]['Filename'].values[0]\n",
    "print(bf)\n",
    "\n",
    "df = pd.read_csv('../../processed/{}.csv'.format(bf))"
   ]
  },
  {
   "cell_type": "code",
   "execution_count": null,
   "id": "71e2fc56",
   "metadata": {},
   "outputs": [],
   "source": [
    "df.head(15)\n",
    "\n",
    "#There are two problems:\n",
    "#1. The column names need some overhaul (moving the second column to the top and make it the column names)\n",
    "#2. This is a list of cities, not countries, may present probkems later. "
   ]
  },
  {
   "cell_type": "code",
   "execution_count": null,
   "id": "8028b9a2",
   "metadata": {},
   "outputs": [],
   "source": [
    "### 36. Banking Ecosystem size"
   ]
  },
  {
   "cell_type": "code",
   "execution_count": 68,
   "id": "6eb3626e",
   "metadata": {},
   "outputs": [
    {
     "name": "stdout",
     "output_type": "stream",
     "text": [
      "Banking Ecosystem size\n",
      "banking_sector_size\n"
     ]
    }
   ],
   "source": [
    "indicators[35]\n",
    "\n",
    "# load data\n",
    "indicator = indicators[35]\n",
    "print(indicator)\n",
    "bf = bnames[bnames['Indicator']==indicator]['Filename'].values[0]\n",
    "print(bf)\n",
    "\n",
    "df = pd.read_csv('../../processed/{}.csv'.format(bf))"
   ]
  },
  {
   "cell_type": "code",
   "execution_count": null,
   "id": "3898ecbf",
   "metadata": {
    "scrolled": true
   },
   "outputs": [],
   "source": [
    "df.head(15)"
   ]
  },
  {
   "cell_type": "code",
   "execution_count": null,
   "id": "8564eda1",
   "metadata": {},
   "outputs": [],
   "source": [
    "subpillars[1]\n",
    "subpillar = subpillars[1]\n",
    "print(subpillar)"
   ]
  },
  {
   "cell_type": "code",
   "execution_count": null,
   "id": "55e34e19",
   "metadata": {},
   "outputs": [],
   "source": [
    "# create standard columns\n",
    "# df.rename(columns={'COUNTRY/ECONOMY':'Country Name'}, inplace=True)\n",
    "\n",
    "df['higher_is_better'] = True\n",
    "df['Year'] = 2017\n",
    "df['Indicator'] = indicator\n",
    "df['data_col'] = df['Bank assets, percent of GDP, 2017']\n",
    "df.rename(columns={'Country':'Country Name'}, inplace=True)\n",
    "df['Sub-Pillar'] = subpillar\n",
    "\n",
    "min_rank = df['data_col'].min()\n",
    "max_rank = df['data_col'].max()\n",
    "\n",
    "# transform 0-1 rank into 1-6\n",
    "df['new_rank_score'] = df['data_col'].apply(lambda row: convert_rank(row,old_min=min_rank,old_max=max_rank))"
   ]
  },
  {
   "cell_type": "code",
   "execution_count": null,
   "id": "23f3a0cb",
   "metadata": {},
   "outputs": [],
   "source": [
    "df = df[['Country Name', 'Year','Indicator','data_col','new_rank_score','higher_is_better','Sub-Pillar']]\n",
    "df\n"
   ]
  },
  {
   "cell_type": "code",
   "execution_count": null,
   "id": "a34cab9c",
   "metadata": {},
   "outputs": [],
   "source": [
    "df.to_csv('../indicator_scores/infrastructure_{}_scores.csv'.format(indicator), index=False)"
   ]
  },
  {
   "cell_type": "code",
   "execution_count": null,
   "id": "e5025c17",
   "metadata": {},
   "outputs": [],
   "source": [
    "### 37. Angel Ecosystem size"
   ]
  },
  {
   "cell_type": "code",
   "execution_count": null,
   "id": "2f4ee1d1",
   "metadata": {},
   "outputs": [],
   "source": [
    "indicators[36]\n",
    "\n",
    "# load data\n",
    "indicator = indicators[36]\n",
    "print(indicator)\n",
    "bf = bnames[bnames['Indicator']==indicator]['Filename'].values[0]\n",
    "print(bf)\n",
    "\n",
    "df = pd.read_csv('../../processed/{}.csv'.format(bf))"
   ]
  },
  {
   "cell_type": "code",
   "execution_count": null,
   "id": "85136754",
   "metadata": {},
   "outputs": [],
   "source": [
    "df.head(15)"
   ]
  },
  {
   "cell_type": "code",
   "execution_count": null,
   "id": "170188ab",
   "metadata": {},
   "outputs": [],
   "source": [
    "subpillars[1]\n",
    "subpillar = subpillars[1]\n",
    "print(subpillar)"
   ]
  },
  {
   "cell_type": "code",
   "execution_count": null,
   "id": "cd0d5ee9",
   "metadata": {},
   "outputs": [],
   "source": [
    "# create standard columns\n",
    "# df.rename(columns={'COUNTRY/ECONOMY':'Country Name'}, inplace=True)\n",
    "\n",
    "df['higher_is_better'] = True\n",
    "df['Year'] = 2019\n",
    "df['Indicator'] = indicator\n",
    "df['data_col'] = df['Business angel investments (in million Euros)']\n",
    "df.rename(columns={'Country':'Country Name'}, inplace=True)\n",
    "df['Sub-Pillar'] = subpillar\n",
    "\n",
    "min_rank = df['data_col'].min()\n",
    "max_rank = df['data_col'].max()\n",
    "\n",
    "# transform 0-1 rank into 1-6\n",
    "df['new_rank_score'] = df['data_col'].apply(lambda row: convert_rank(row,old_min=min_rank,old_max=max_rank))"
   ]
  },
  {
   "cell_type": "code",
   "execution_count": null,
   "id": "21764c58",
   "metadata": {},
   "outputs": [],
   "source": [
    "df = df[['Country Name', 'Year','Indicator','data_col','new_rank_score','higher_is_better','Sub-Pillar']]\n",
    "df\n",
    "\n",
    "# Okay but there are only EU countries"
   ]
  },
  {
   "cell_type": "code",
   "execution_count": null,
   "id": "c3d9cd1e",
   "metadata": {},
   "outputs": [],
   "source": [
    "df.to_csv('../indicator_scores/infrastructure_{}_scores.csv'.format(indicator), index=False)"
   ]
  },
  {
   "cell_type": "code",
   "execution_count": null,
   "id": "bed6c54f",
   "metadata": {},
   "outputs": [],
   "source": [
    "### 38. Startup Ecosystem size"
   ]
  },
  {
   "cell_type": "code",
   "execution_count": null,
   "id": "094c01a9",
   "metadata": {},
   "outputs": [],
   "source": [
    "indicators[37]\n",
    "\n",
    "# load data\n",
    "indicator = indicators[37]\n",
    "print(indicator)\n",
    "bf = bnames[bnames['Indicator']==indicator]['Filename'].values[0]\n",
    "print(bf)\n",
    "\n",
    "df = pd.read_csv('../../processed/{}.csv'.format(bf))"
   ]
  },
  {
   "cell_type": "code",
   "execution_count": null,
   "id": "bdaa12d4",
   "metadata": {},
   "outputs": [],
   "source": [
    "df.head(15)\n",
    "\n",
    "# This is a list of cities, not countries, wonder if it will work "
   ]
  },
  {
   "cell_type": "code",
   "execution_count": 69,
   "id": "e44c5a02",
   "metadata": {},
   "outputs": [
    {
     "name": "stdout",
     "output_type": "stream",
     "text": [
      "Venture Ecosystem size\n",
      "startup_eco_size\n"
     ]
    }
   ],
   "source": [
    "### 39. Venture Ecosystem size\n",
    "\n",
    "indicators[38]\n",
    "\n",
    "# load data\n",
    "indicator = indicators[38]\n",
    "print(indicator)\n",
    "bf = bnames[bnames['Indicator']==indicator]['Filename'].values[0]\n",
    "print(bf)\n",
    "\n",
    "df = pd.read_csv('../../processed/{}.csv'.format(bf))"
   ]
  },
  {
   "cell_type": "code",
   "execution_count": null,
   "id": "0c2b80f9",
   "metadata": {},
   "outputs": [],
   "source": [
    "df.head(15)\n",
    "\n",
    "# Similar to the previous one"
   ]
  },
  {
   "cell_type": "code",
   "execution_count": null,
   "id": "b76a8343",
   "metadata": {},
   "outputs": [],
   "source": [
    "### 40. International Co-Inventions"
   ]
  },
  {
   "cell_type": "code",
   "execution_count": 70,
   "id": "b0d30c67",
   "metadata": {},
   "outputs": [
    {
     "name": "stdout",
     "output_type": "stream",
     "text": [
      "International Co-Inventions\n",
      "international_co_inventions\n"
     ]
    }
   ],
   "source": [
    "indicators[39]\n",
    "\n",
    "# load data\n",
    "indicator = indicators[39]\n",
    "print(indicator)\n",
    "bf = bnames[bnames['Indicator']==indicator]['Filename'].values[0]\n",
    "print(bf)\n",
    "\n",
    "df = pd.read_csv('../../processed/{}.csv'.format(bf))"
   ]
  },
  {
   "cell_type": "code",
   "execution_count": null,
   "id": "96d9444d",
   "metadata": {},
   "outputs": [],
   "source": [
    "df.head(15)"
   ]
  },
  {
   "cell_type": "code",
   "execution_count": null,
   "id": "9367c4aa",
   "metadata": {},
   "outputs": [],
   "source": [
    "subpillars[1]\n",
    "subpillar = subpillars[1]\n",
    "print(subpillar)"
   ]
  },
  {
   "cell_type": "code",
   "execution_count": null,
   "id": "7e3bcd14",
   "metadata": {},
   "outputs": [],
   "source": [
    "# filter most recent year and global value\n",
    "df = df[(df.Time==2017)]\n",
    "df = df[(df.Country!='World')]\n",
    "df ['Country Name'] = df ['Country']\n",
    "df"
   ]
  },
  {
   "cell_type": "code",
   "execution_count": null,
   "id": "4e8c79ca",
   "metadata": {},
   "outputs": [],
   "source": [
    "# Create summarization\n",
    "df_sum = df.groupby('Country Name')[['Value']].sum()\n",
    "df_sum"
   ]
  },
  {
   "cell_type": "code",
   "execution_count": null,
   "id": "f0d10f25",
   "metadata": {},
   "outputs": [],
   "source": [
    "# create standard columns\n",
    "# df.rename(columns={'COUNTRY/ECONOMY':'Country Name'}, inplace=True)\n",
    "\n",
    "df_sum['higher_is_better'] = True\n",
    "df_sum['Year'] = 2017\n",
    "df_sum['Indicator'] = indicator\n",
    "df_sum['data_col'] = df_sum.iloc[:,[0]]\n",
    "df_sum['Sub-Pillar'] = subpillar\n",
    "\n",
    "min_rank = df_sum['data_col'].min()\n",
    "max_rank = df_sum['data_col'].max()\n",
    "\n",
    "# transform 0-1 rank into 1-6\n",
    "df_sum['new_rank_score'] = df_sum['data_col'].apply(lambda row: convert_rank(row,old_min=min_rank,old_max=max_rank))"
   ]
  },
  {
   "cell_type": "code",
   "execution_count": null,
   "id": "9b24fe8d",
   "metadata": {},
   "outputs": [],
   "source": [
    "df_sum = df_sum[['Year','Indicator','data_col','new_rank_score','higher_is_better','Sub-Pillar']]\n",
    "df_sum\n",
    "# Okay but the data is too general with many missing countries"
   ]
  },
  {
   "cell_type": "code",
   "execution_count": null,
   "id": "c04d26a6",
   "metadata": {},
   "outputs": [],
   "source": [
    "df_sum.to_csv('../indicator_scores/infrastructure_{}_scores.csv'.format(indicator))"
   ]
  },
  {
   "cell_type": "code",
   "execution_count": null,
   "id": "7f45bab7",
   "metadata": {},
   "outputs": [],
   "source": [
    "### Score Aggregating"
   ]
  },
  {
   "cell_type": "code",
   "execution_count": null,
   "id": "9e141c17",
   "metadata": {},
   "outputs": [],
   "source": [
    "import os"
   ]
  },
  {
   "cell_type": "code",
   "execution_count": null,
   "id": "e41e9a2a",
   "metadata": {},
   "outputs": [],
   "source": [
    "# get list of files in scores folder\n",
    "scores = os.listdir('../indicator_scores/')\n",
    "scores = [s for s in scores if s.startswith('infrastructure')]"
   ]
  },
  {
   "cell_type": "code",
   "execution_count": null,
   "id": "a5924de4",
   "metadata": {},
   "outputs": [],
   "source": [
    "scores"
   ]
  },
  {
   "cell_type": "code",
   "execution_count": null,
   "id": "69e67457",
   "metadata": {},
   "outputs": [],
   "source": [
    "# create a dataframe that concatenates all these file into one table\n",
    "df = pd.concat([pd.read_csv('../indicator_scores/{}'.format(s)) for s in scores])    "
   ]
  },
  {
   "cell_type": "code",
   "execution_count": null,
   "id": "1507527c",
   "metadata": {},
   "outputs": [],
   "source": [
    "df"
   ]
  },
  {
   "cell_type": "code",
   "execution_count": null,
   "id": "cdf69306",
   "metadata": {},
   "outputs": [],
   "source": [
    "# Data cleaning\n",
    "df['new_rank_score'] = df['new_rank_score'].fillna(0)\n",
    "df.sort_values(by=['Country Name'], ascending=True, inplace=True)\n",
    "df.reset_index(drop=True, inplace=True)\n",
    "\n",
    "# remove trailing whitespaces from country name\n",
    "df['Country Name'] = df['Country Name'].str.strip()\n",
    "df['Country Name'] = df['Country Name'].str.strip('**')\n",
    "df['Country Name'] = df['Country Name'].str.strip('*')\n",
    "\n",
    "\n",
    "# Replace values that are not truly country names with nan\n",
    "df['Country Name'] = df['Country Name'].replace('n.a. : non avalaible',np.nan)\n",
    "df['Country Name'] = df['Country Name'].replace('nan',np.nan)\n",
    "df['Country Name'] = df['Country Name'].replace('Not classified',np.nan)\n",
    "df['Country Name'] = df['Country Name'].replace('Source :',np.nan)\n",
    "df['Country Name'] = df['Country Name'].replace('© Copyright Enerdata. Reproduction and diffusion prohibited (web, photocopy, intranet...) without written permission.',np.nan)\n",
    "\n",
    "# Dropping the columns having NaN/NaT values\n",
    "df = df[df['Country Name'].notna()]\n",
    "\n",
    "\n",
    "df['Country Name'] = df['Country Name'].astype(str, errors = 'ignore')\n",
    "\n"
   ]
  },
  {
   "cell_type": "code",
   "execution_count": null,
   "id": "5774d3ad",
   "metadata": {},
   "outputs": [],
   "source": [
    "df.info()"
   ]
  },
  {
   "cell_type": "code",
   "execution_count": null,
   "id": "1cf107ba",
   "metadata": {},
   "outputs": [],
   "source": [
    "df.head(15)"
   ]
  },
  {
   "cell_type": "code",
   "execution_count": null,
   "id": "a447a5ef",
   "metadata": {},
   "outputs": [],
   "source": [
    "sorted(df['Country Name'].unique().tolist())"
   ]
  },
  {
   "cell_type": "code",
   "execution_count": null,
   "id": "c7bbdf1e",
   "metadata": {},
   "outputs": [],
   "source": [
    "df.head(15)"
   ]
  },
  {
   "cell_type": "code",
   "execution_count": null,
   "id": "2a33e6c4",
   "metadata": {},
   "outputs": [],
   "source": [
    "# average indicator scores per country\n",
    "agg_df = df.groupby(['Country Name']).agg({'new_rank_score':'mean','data_col':'count'})"
   ]
  },
  {
   "cell_type": "code",
   "execution_count": null,
   "id": "9acd0096",
   "metadata": {},
   "outputs": [],
   "source": [
    "agg_df.columns = ['agg_score', 'count_source' ]"
   ]
  },
  {
   "cell_type": "code",
   "execution_count": null,
   "id": "d15d0d0d",
   "metadata": {},
   "outputs": [],
   "source": [
    "max_number_sources = agg_df.describe()['count_source']['max']"
   ]
  },
  {
   "cell_type": "code",
   "execution_count": null,
   "id": "e10bdf88",
   "metadata": {},
   "outputs": [],
   "source": [
    "agg_df['agg_score_wt'] = agg_df['agg_score']*(agg_df['count_source']/max_number_sources)"
   ]
  },
  {
   "cell_type": "code",
   "execution_count": null,
   "id": "fa3ff3f3",
   "metadata": {},
   "outputs": [],
   "source": [
    "agg_df.sort_values(by='agg_score', ascending=False, inplace=True)"
   ]
  },
  {
   "cell_type": "code",
   "execution_count": null,
   "id": "ead2eea2",
   "metadata": {},
   "outputs": [],
   "source": [
    "agg_df.head(25)"
   ]
  },
  {
   "cell_type": "code",
   "execution_count": null,
   "id": "a8327e1f",
   "metadata": {},
   "outputs": [],
   "source": [
    "agg_df.to_csv('../pillar_scores/infrastructure_scores_v0.csv')"
   ]
  },
  {
   "cell_type": "code",
   "execution_count": null,
   "id": "b4e98735",
   "metadata": {},
   "outputs": [],
   "source": [
    "### Score Aggregating by Subpillars"
   ]
  },
  {
   "cell_type": "code",
   "execution_count": null,
   "id": "a56938b4",
   "metadata": {},
   "outputs": [],
   "source": [
    "df.insert(0,'Pillar','Infrastructure')\n",
    "df\n",
    "\n",
    "# remove trailing whitespaces from country name\n",
    "df['Country Name'] = df['Country Name'].str.strip()\n",
    "df['Country Name'] = df['Country Name'].str.strip('**')\n",
    "df['Country Name'] = df['Country Name'].str.strip('*')"
   ]
  },
  {
   "cell_type": "code",
   "execution_count": null,
   "id": "92c2fb9c",
   "metadata": {},
   "outputs": [],
   "source": [
    "sub_df = df.groupby(['Pillar','Sub-Pillar','Country Name']).agg({'new_rank_score':'mean','data_col':'count'})"
   ]
  },
  {
   "cell_type": "code",
   "execution_count": null,
   "id": "24937251",
   "metadata": {},
   "outputs": [],
   "source": [
    "sub_df.columns = ['agg_score', 'count_source' ]"
   ]
  },
  {
   "cell_type": "code",
   "execution_count": null,
   "id": "4fc06665",
   "metadata": {},
   "outputs": [],
   "source": [
    "max_number_sources = sub_df.describe()['count_source']['max']"
   ]
  },
  {
   "cell_type": "code",
   "execution_count": null,
   "id": "99542af1",
   "metadata": {},
   "outputs": [],
   "source": [
    "sub_df['agg_score_wt'] = sub_df['agg_score']*(sub_df['count_source']/max_number_sources)"
   ]
  },
  {
   "cell_type": "code",
   "execution_count": null,
   "id": "5769aaaa",
   "metadata": {},
   "outputs": [],
   "source": [
    "sub_df.to_csv('../subpillar_score/infrastructure_scores_subpillar_v0.csv')"
   ]
  }
 ],
 "metadata": {
  "kernelspec": {
   "display_name": "Python 3",
   "language": "python",
   "name": "python3"
  },
  "language_info": {
   "codemirror_mode": {
    "name": "ipython",
    "version": 3
   },
   "file_extension": ".py",
   "mimetype": "text/x-python",
   "name": "python",
   "nbconvert_exporter": "python",
   "pygments_lexer": "ipython3",
   "version": "3.8.8"
  }
 },
 "nbformat": 4,
 "nbformat_minor": 5
}
