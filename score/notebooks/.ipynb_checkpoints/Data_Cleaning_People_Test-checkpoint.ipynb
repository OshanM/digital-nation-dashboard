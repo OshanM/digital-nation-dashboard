{
 "cells": [
  {
   "cell_type": "code",
   "execution_count": 23,
   "id": "78c2e031",
   "metadata": {},
   "outputs": [],
   "source": [
    "import pandas as pd\n",
    "import numpy as np"
   ]
  },
  {
   "cell_type": "code",
   "execution_count": 2,
   "id": "5cd43849",
   "metadata": {},
   "outputs": [],
   "source": [
    "### Get all the pillar names from the excel"
   ]
  },
  {
   "cell_type": "code",
   "execution_count": 24,
   "id": "2e030b14",
   "metadata": {},
   "outputs": [],
   "source": [
    "names = pd.read_excel('../../UNDP Digital Assessment Data Framework Filename Matching V7.xlsx')"
   ]
  },
  {
   "cell_type": "code",
   "execution_count": 25,
   "id": "9bbcf412",
   "metadata": {},
   "outputs": [],
   "source": [
    "col_names = ['Indicator','check', 'Data Source','Index','Filename']"
   ]
  },
  {
   "cell_type": "code",
   "execution_count": 26,
   "id": "df30a6c2",
   "metadata": {},
   "outputs": [],
   "source": [
    "names = names[col_names]"
   ]
  },
  {
   "cell_type": "code",
   "execution_count": 27,
   "id": "ad9b77f4",
   "metadata": {},
   "outputs": [
    {
     "data": {
      "text/html": [
       "<div>\n",
       "<style scoped>\n",
       "    .dataframe tbody tr th:only-of-type {\n",
       "        vertical-align: middle;\n",
       "    }\n",
       "\n",
       "    .dataframe tbody tr th {\n",
       "        vertical-align: top;\n",
       "    }\n",
       "\n",
       "    .dataframe thead th {\n",
       "        text-align: right;\n",
       "    }\n",
       "</style>\n",
       "<table border=\"1\" class=\"dataframe\">\n",
       "  <thead>\n",
       "    <tr style=\"text-align: right;\">\n",
       "      <th></th>\n",
       "      <th>Indicator</th>\n",
       "      <th>check</th>\n",
       "      <th>Data Source</th>\n",
       "      <th>Index</th>\n",
       "      <th>Filename</th>\n",
       "    </tr>\n",
       "  </thead>\n",
       "  <tbody>\n",
       "    <tr>\n",
       "      <th>0</th>\n",
       "      <td>Countries</td>\n",
       "      <td>NaN</td>\n",
       "      <td>United Nations</td>\n",
       "      <td>False</td>\n",
       "      <td>Countries</td>\n",
       "    </tr>\n",
       "    <tr>\n",
       "      <th>1</th>\n",
       "      <td>Database of Global Administrative Areas (GADM,...</td>\n",
       "      <td>NaN</td>\n",
       "      <td>GADM maps and data</td>\n",
       "      <td>False</td>\n",
       "      <td>NaN</td>\n",
       "    </tr>\n",
       "    <tr>\n",
       "      <th>2</th>\n",
       "      <td>High Resolution Population Density Maps + Demo...</td>\n",
       "      <td>NaN</td>\n",
       "      <td>Facebook</td>\n",
       "      <td>False</td>\n",
       "      <td>NaN</td>\n",
       "    </tr>\n",
       "    <tr>\n",
       "      <th>3</th>\n",
       "      <td>population density vs openstreetmap object den...</td>\n",
       "      <td>NaN</td>\n",
       "      <td>Kontur</td>\n",
       "      <td>False</td>\n",
       "      <td>NaN</td>\n",
       "    </tr>\n",
       "    <tr>\n",
       "      <th>4</th>\n",
       "      <td>Population Density</td>\n",
       "      <td>Infrastructure</td>\n",
       "      <td>World Bank</td>\n",
       "      <td>False</td>\n",
       "      <td>population_density</td>\n",
       "    </tr>\n",
       "  </tbody>\n",
       "</table>\n",
       "</div>"
      ],
      "text/plain": [
       "                                           Indicator           check  \\\n",
       "0                                          Countries             NaN   \n",
       "1  Database of Global Administrative Areas (GADM,...             NaN   \n",
       "2  High Resolution Population Density Maps + Demo...             NaN   \n",
       "3  population density vs openstreetmap object den...             NaN   \n",
       "4                                 Population Density  Infrastructure   \n",
       "\n",
       "          Data Source  Index            Filename  \n",
       "0      United Nations  False           Countries  \n",
       "1  GADM maps and data  False                 NaN  \n",
       "2            Facebook  False                 NaN  \n",
       "3              Kontur  False                 NaN  \n",
       "4          World Bank  False  population_density  "
      ]
     },
     "execution_count": 27,
     "metadata": {},
     "output_type": "execute_result"
    }
   ],
   "source": [
    "names.head()"
   ]
  },
  {
   "cell_type": "code",
   "execution_count": 28,
   "id": "daf6459f",
   "metadata": {},
   "outputs": [],
   "source": [
    "# get all the files per pillar\n",
    "data_stats = names.groupby('check').agg({'Filename':'count','Indicator':'count'})"
   ]
  },
  {
   "cell_type": "code",
   "execution_count": 29,
   "id": "e8bdec17",
   "metadata": {},
   "outputs": [
    {
     "data": {
      "text/html": [
       "<div>\n",
       "<style scoped>\n",
       "    .dataframe tbody tr th:only-of-type {\n",
       "        vertical-align: middle;\n",
       "    }\n",
       "\n",
       "    .dataframe tbody tr th {\n",
       "        vertical-align: top;\n",
       "    }\n",
       "\n",
       "    .dataframe thead th {\n",
       "        text-align: right;\n",
       "    }\n",
       "</style>\n",
       "<table border=\"1\" class=\"dataframe\">\n",
       "  <thead>\n",
       "    <tr style=\"text-align: right;\">\n",
       "      <th></th>\n",
       "      <th>Filename</th>\n",
       "      <th>Indicator</th>\n",
       "    </tr>\n",
       "    <tr>\n",
       "      <th>check</th>\n",
       "      <th></th>\n",
       "      <th></th>\n",
       "    </tr>\n",
       "  </thead>\n",
       "  <tbody>\n",
       "    <tr>\n",
       "      <th>Business</th>\n",
       "      <td>20</td>\n",
       "      <td>25</td>\n",
       "    </tr>\n",
       "    <tr>\n",
       "      <th>Foundations</th>\n",
       "      <td>9</td>\n",
       "      <td>12</td>\n",
       "    </tr>\n",
       "    <tr>\n",
       "      <th>Government</th>\n",
       "      <td>11</td>\n",
       "      <td>15</td>\n",
       "    </tr>\n",
       "    <tr>\n",
       "      <th>Infrastructure</th>\n",
       "      <td>45</td>\n",
       "      <td>48</td>\n",
       "    </tr>\n",
       "    <tr>\n",
       "      <th>People</th>\n",
       "      <td>38</td>\n",
       "      <td>46</td>\n",
       "    </tr>\n",
       "    <tr>\n",
       "      <th>Regulation</th>\n",
       "      <td>6</td>\n",
       "      <td>7</td>\n",
       "    </tr>\n",
       "    <tr>\n",
       "      <th>Strategy</th>\n",
       "      <td>1</td>\n",
       "      <td>1</td>\n",
       "    </tr>\n",
       "  </tbody>\n",
       "</table>\n",
       "</div>"
      ],
      "text/plain": [
       "                Filename  Indicator\n",
       "check                              \n",
       "Business              20         25\n",
       "Foundations            9         12\n",
       "Government            11         15\n",
       "Infrastructure        45         48\n",
       "People                38         46\n",
       "Regulation             6          7\n",
       "Strategy               1          1"
      ]
     },
     "execution_count": 29,
     "metadata": {},
     "output_type": "execute_result"
    }
   ],
   "source": [
    "data_stats"
   ]
  },
  {
   "cell_type": "code",
   "execution_count": 9,
   "id": "52deb3aa",
   "metadata": {},
   "outputs": [],
   "source": [
    "### People"
   ]
  },
  {
   "cell_type": "code",
   "execution_count": 30,
   "id": "2b1799d9",
   "metadata": {},
   "outputs": [
    {
     "data": {
      "text/html": [
       "<div>\n",
       "<style scoped>\n",
       "    .dataframe tbody tr th:only-of-type {\n",
       "        vertical-align: middle;\n",
       "    }\n",
       "\n",
       "    .dataframe tbody tr th {\n",
       "        vertical-align: top;\n",
       "    }\n",
       "\n",
       "    .dataframe thead th {\n",
       "        text-align: right;\n",
       "    }\n",
       "</style>\n",
       "<table border=\"1\" class=\"dataframe\">\n",
       "  <thead>\n",
       "    <tr style=\"text-align: right;\">\n",
       "      <th></th>\n",
       "      <th>Indicator</th>\n",
       "      <th>check</th>\n",
       "      <th>Data Source</th>\n",
       "      <th>Index</th>\n",
       "      <th>Filename</th>\n",
       "    </tr>\n",
       "  </thead>\n",
       "  <tbody>\n",
       "    <tr>\n",
       "      <th>99</th>\n",
       "      <td>Human Capital Index (HCI)</td>\n",
       "      <td>People</td>\n",
       "      <td>DESA</td>\n",
       "      <td>True</td>\n",
       "      <td>e_government_index</td>\n",
       "    </tr>\n",
       "    <tr>\n",
       "      <th>100</th>\n",
       "      <td>% of population using internet (all)</td>\n",
       "      <td>People</td>\n",
       "      <td>ITU</td>\n",
       "      <td>False</td>\n",
       "      <td>ITU_database</td>\n",
       "    </tr>\n",
       "    <tr>\n",
       "      <th>101</th>\n",
       "      <td>% of population using internet (female)</td>\n",
       "      <td>People</td>\n",
       "      <td>ITU</td>\n",
       "      <td>False</td>\n",
       "      <td>ITU_database</td>\n",
       "    </tr>\n",
       "    <tr>\n",
       "      <th>102</th>\n",
       "      <td>% of population using internet (male)</td>\n",
       "      <td>People</td>\n",
       "      <td>ITU</td>\n",
       "      <td>False</td>\n",
       "      <td>ITU_database</td>\n",
       "    </tr>\n",
       "    <tr>\n",
       "      <th>103</th>\n",
       "      <td>SDG 4.4 Digital literacy data</td>\n",
       "      <td>People</td>\n",
       "      <td>UNESCO</td>\n",
       "      <td>False</td>\n",
       "      <td>SDG_digital_literacy_data</td>\n",
       "    </tr>\n",
       "    <tr>\n",
       "      <th>104</th>\n",
       "      <td>UNDP Human Development Index (HDI)</td>\n",
       "      <td>People</td>\n",
       "      <td>UNDP</td>\n",
       "      <td>True</td>\n",
       "      <td>undp_human_developmnt</td>\n",
       "    </tr>\n",
       "    <tr>\n",
       "      <th>105</th>\n",
       "      <td>Facebook Social Connectedness Index</td>\n",
       "      <td>People</td>\n",
       "      <td>Facebook</td>\n",
       "      <td>True</td>\n",
       "      <td>fb_social_connectedness</td>\n",
       "    </tr>\n",
       "    <tr>\n",
       "      <th>106</th>\n",
       "      <td>Share of individuals using the Internet to int...</td>\n",
       "      <td>People</td>\n",
       "      <td>OECD</td>\n",
       "      <td>False</td>\n",
       "      <td>population_interacting_public_officials</td>\n",
       "    </tr>\n",
       "    <tr>\n",
       "      <th>107</th>\n",
       "      <td>Level of satisfaction for online public servic...</td>\n",
       "      <td>People</td>\n",
       "      <td>Boston Consulting Group/SalesForce</td>\n",
       "      <td>False</td>\n",
       "      <td>digital_public_service_use</td>\n",
       "    </tr>\n",
       "    <tr>\n",
       "      <th>108</th>\n",
       "      <td>Number of mobile apps available in national la...</td>\n",
       "      <td>People</td>\n",
       "      <td>GSMA Mobile Connectivity Index</td>\n",
       "      <td>False</td>\n",
       "      <td>apps_in_national_language</td>\n",
       "    </tr>\n",
       "    <tr>\n",
       "      <th>109</th>\n",
       "      <td>Device Addiction (time of use on internet / on...</td>\n",
       "      <td>People</td>\n",
       "      <td>Statista/DataReportal; Hootsuite; We Are Social\\n</td>\n",
       "      <td>False</td>\n",
       "      <td>time_spent_online</td>\n",
       "    </tr>\n",
       "    <tr>\n",
       "      <th>110</th>\n",
       "      <td>Gross National Wellbeing</td>\n",
       "      <td>People</td>\n",
       "      <td>Portulans Institute</td>\n",
       "      <td>TRUE</td>\n",
       "      <td>happiness_score</td>\n",
       "    </tr>\n",
       "    <tr>\n",
       "      <th>112</th>\n",
       "      <td>% of internet users who own cryptocurrency</td>\n",
       "      <td>People</td>\n",
       "      <td>Statista</td>\n",
       "      <td>False</td>\n",
       "      <td>cryptocurrency_adoption</td>\n",
       "    </tr>\n",
       "    <tr>\n",
       "      <th>115</th>\n",
       "      <td>Percentage of individuals not buying online du...</td>\n",
       "      <td>People</td>\n",
       "      <td>OECD</td>\n",
       "      <td>False</td>\n",
       "      <td>not_buying_online_concern_about_returning</td>\n",
       "    </tr>\n",
       "    <tr>\n",
       "      <th>116</th>\n",
       "      <td>Percentage of individuals not buying online du...</td>\n",
       "      <td>People</td>\n",
       "      <td>OECD</td>\n",
       "      <td>False</td>\n",
       "      <td>not_buying_online_concern_about_security</td>\n",
       "    </tr>\n",
       "    <tr>\n",
       "      <th>117</th>\n",
       "      <td>E-waste generated, kilograms per inhabitant</td>\n",
       "      <td>People</td>\n",
       "      <td>UNU UNITAR</td>\n",
       "      <td>True</td>\n",
       "      <td>ewaste_per_inhabitant</td>\n",
       "    </tr>\n",
       "    <tr>\n",
       "      <th>118</th>\n",
       "      <td>Automation-led unemployment</td>\n",
       "      <td>People</td>\n",
       "      <td>McKinsey Global Institute</td>\n",
       "      <td>False</td>\n",
       "      <td>automation_led_unemployment</td>\n",
       "    </tr>\n",
       "    <tr>\n",
       "      <th>122</th>\n",
       "      <td>Cyberbullying</td>\n",
       "      <td>People</td>\n",
       "      <td>IPSOS</td>\n",
       "      <td>False</td>\n",
       "      <td>cyberbullying_rate</td>\n",
       "    </tr>\n",
       "    <tr>\n",
       "      <th>126</th>\n",
       "      <td>Global Wellbeing Initiative (World Happiness I...</td>\n",
       "      <td>People</td>\n",
       "      <td>World Happiness Report</td>\n",
       "      <td>TRUE</td>\n",
       "      <td>global_wellbeing_initiative</td>\n",
       "    </tr>\n",
       "    <tr>\n",
       "      <th>127</th>\n",
       "      <td>Financial Inclusiveness</td>\n",
       "      <td>People</td>\n",
       "      <td>World Bank</td>\n",
       "      <td>TRUE</td>\n",
       "      <td>financial_inclusiveness</td>\n",
       "    </tr>\n",
       "    <tr>\n",
       "      <th>128</th>\n",
       "      <td>E-commerce activity (% of individuals buying o...</td>\n",
       "      <td>People</td>\n",
       "      <td>Portulans Institute</td>\n",
       "      <td>False</td>\n",
       "      <td>individuals_buying_online_frequency</td>\n",
       "    </tr>\n",
       "    <tr>\n",
       "      <th>129</th>\n",
       "      <td>E-commerce activity (Types of goods and servic...</td>\n",
       "      <td>People</td>\n",
       "      <td>Statista/Salesforce Research\\n\\n</td>\n",
       "      <td>False</td>\n",
       "      <td>e-commerce_activity</td>\n",
       "    </tr>\n",
       "    <tr>\n",
       "      <th>130</th>\n",
       "      <td>Top Visited websites</td>\n",
       "      <td>People</td>\n",
       "      <td>Data Reportal</td>\n",
       "      <td>False</td>\n",
       "      <td>top_sites</td>\n",
       "    </tr>\n",
       "    <tr>\n",
       "      <th>131</th>\n",
       "      <td>Top YouTube Searches</td>\n",
       "      <td>People</td>\n",
       "      <td>Data Reportal</td>\n",
       "      <td>False</td>\n",
       "      <td>youtube_searches</td>\n",
       "    </tr>\n",
       "    <tr>\n",
       "      <th>132</th>\n",
       "      <td>Top Google searches</td>\n",
       "      <td>People</td>\n",
       "      <td>Data Reportal</td>\n",
       "      <td>False</td>\n",
       "      <td>google_trends</td>\n",
       "    </tr>\n",
       "    <tr>\n",
       "      <th>133</th>\n",
       "      <td>Internet Usage</td>\n",
       "      <td>People</td>\n",
       "      <td>ITU</td>\n",
       "      <td>False</td>\n",
       "      <td>ITU_database</td>\n",
       "    </tr>\n",
       "    <tr>\n",
       "      <th>134</th>\n",
       "      <td>Households with a computer and with Internet a...</td>\n",
       "      <td>People</td>\n",
       "      <td>ITU</td>\n",
       "      <td>False</td>\n",
       "      <td>ITU_database</td>\n",
       "    </tr>\n",
       "    <tr>\n",
       "      <th>135</th>\n",
       "      <td>% of population using Facebook</td>\n",
       "      <td>People</td>\n",
       "      <td>World Population Review</td>\n",
       "      <td>False</td>\n",
       "      <td>FB_users</td>\n",
       "    </tr>\n",
       "    <tr>\n",
       "      <th>136</th>\n",
       "      <td>Gender gap for social media use</td>\n",
       "      <td>People</td>\n",
       "      <td>GSMA Mobile Connectivity Index</td>\n",
       "      <td>False</td>\n",
       "      <td>gender_gaps</td>\n",
       "    </tr>\n",
       "    <tr>\n",
       "      <th>137</th>\n",
       "      <td>% of population using digital financial services</td>\n",
       "      <td>People</td>\n",
       "      <td>World Bank</td>\n",
       "      <td>False</td>\n",
       "      <td>population_digital_financial_services</td>\n",
       "    </tr>\n",
       "    <tr>\n",
       "      <th>138</th>\n",
       "      <td>Mobile Broadband Pricing (pre-paid)</td>\n",
       "      <td>People</td>\n",
       "      <td>Alliance for Affordable Internet</td>\n",
       "      <td>False</td>\n",
       "      <td>mobile_broadband_pricing</td>\n",
       "    </tr>\n",
       "    <tr>\n",
       "      <th>139</th>\n",
       "      <td>Tax as % of total cost of mobile ownership</td>\n",
       "      <td>People</td>\n",
       "      <td>GSMA Mobile Connectivity Index</td>\n",
       "      <td>False</td>\n",
       "      <td>tax_percent_mobile_ownership</td>\n",
       "    </tr>\n",
       "    <tr>\n",
       "      <th>140</th>\n",
       "      <td>% of population with a SIM card</td>\n",
       "      <td>People</td>\n",
       "      <td>ITU</td>\n",
       "      <td>False</td>\n",
       "      <td>ITU_database</td>\n",
       "    </tr>\n",
       "    <tr>\n",
       "      <th>141</th>\n",
       "      <td>% of population with a smartphone</td>\n",
       "      <td>People</td>\n",
       "      <td>Statista/Newzoo</td>\n",
       "      <td>False</td>\n",
       "      <td>population_with_smartphones</td>\n",
       "    </tr>\n",
       "    <tr>\n",
       "      <th>142</th>\n",
       "      <td>Gender gap in internet usage</td>\n",
       "      <td>People</td>\n",
       "      <td>ITU</td>\n",
       "      <td>False</td>\n",
       "      <td>ITU_database</td>\n",
       "    </tr>\n",
       "    <tr>\n",
       "      <th>143</th>\n",
       "      <td>Gender gap in mobile usage</td>\n",
       "      <td>People</td>\n",
       "      <td>GSMA Mobile Connectivity Index</td>\n",
       "      <td>False</td>\n",
       "      <td>gender_gaps</td>\n",
       "    </tr>\n",
       "    <tr>\n",
       "      <th>144</th>\n",
       "      <td>Mobile Device Penetration</td>\n",
       "      <td>People</td>\n",
       "      <td>GSMA Mobile Connectivity Index</td>\n",
       "      <td>False</td>\n",
       "      <td>countries_mobile_connectivity</td>\n",
       "    </tr>\n",
       "    <tr>\n",
       "      <th>145</th>\n",
       "      <td>Mobile Device Penetration (female)</td>\n",
       "      <td>People</td>\n",
       "      <td>GSMA Mobile Connectivity Index</td>\n",
       "      <td>False</td>\n",
       "      <td>gender_gaps</td>\n",
       "    </tr>\n",
       "  </tbody>\n",
       "</table>\n",
       "</div>"
      ],
      "text/plain": [
       "                                             Indicator   check  \\\n",
       "99                           Human Capital Index (HCI)  People   \n",
       "100               % of population using internet (all)  People   \n",
       "101            % of population using internet (female)  People   \n",
       "102              % of population using internet (male)  People   \n",
       "103                      SDG 4.4 Digital literacy data  People   \n",
       "104                UNDP Human Development Index (HDI)   People   \n",
       "105                Facebook Social Connectedness Index  People   \n",
       "106  Share of individuals using the Internet to int...  People   \n",
       "107  Level of satisfaction for online public servic...  People   \n",
       "108  Number of mobile apps available in national la...  People   \n",
       "109  Device Addiction (time of use on internet / on...  People   \n",
       "110                           Gross National Wellbeing  People   \n",
       "112         % of internet users who own cryptocurrency  People   \n",
       "115  Percentage of individuals not buying online du...  People   \n",
       "116  Percentage of individuals not buying online du...  People   \n",
       "117        E-waste generated, kilograms per inhabitant  People   \n",
       "118                        Automation-led unemployment  People   \n",
       "122                                      Cyberbullying  People   \n",
       "126  Global Wellbeing Initiative (World Happiness I...  People   \n",
       "127                            Financial Inclusiveness  People   \n",
       "128  E-commerce activity (% of individuals buying o...  People   \n",
       "129  E-commerce activity (Types of goods and servic...  People   \n",
       "130                               Top Visited websites  People   \n",
       "131                               Top YouTube Searches  People   \n",
       "132                                Top Google searches  People   \n",
       "133                                     Internet Usage  People   \n",
       "134  Households with a computer and with Internet a...  People   \n",
       "135                     % of population using Facebook  People   \n",
       "136                    Gender gap for social media use  People   \n",
       "137   % of population using digital financial services  People   \n",
       "138                Mobile Broadband Pricing (pre-paid)  People   \n",
       "139         Tax as % of total cost of mobile ownership  People   \n",
       "140                    % of population with a SIM card  People   \n",
       "141                  % of population with a smartphone  People   \n",
       "142                       Gender gap in internet usage  People   \n",
       "143                         Gender gap in mobile usage  People   \n",
       "144                          Mobile Device Penetration  People   \n",
       "145                 Mobile Device Penetration (female)  People   \n",
       "\n",
       "                                           Data Source  Index  \\\n",
       "99                                                DESA   True   \n",
       "100                                                ITU  False   \n",
       "101                                                ITU  False   \n",
       "102                                                ITU  False   \n",
       "103                                             UNESCO  False   \n",
       "104                                               UNDP   True   \n",
       "105                                           Facebook   True   \n",
       "106                                               OECD  False   \n",
       "107                 Boston Consulting Group/SalesForce  False   \n",
       "108                     GSMA Mobile Connectivity Index  False   \n",
       "109  Statista/DataReportal; Hootsuite; We Are Social\\n  False   \n",
       "110                                Portulans Institute  TRUE    \n",
       "112                                           Statista  False   \n",
       "115                                               OECD  False   \n",
       "116                                               OECD  False   \n",
       "117                                         UNU UNITAR   True   \n",
       "118                          McKinsey Global Institute  False   \n",
       "122                                              IPSOS  False   \n",
       "126                             World Happiness Report  TRUE    \n",
       "127                                         World Bank  TRUE    \n",
       "128                                Portulans Institute  False   \n",
       "129                   Statista/Salesforce Research\\n\\n  False   \n",
       "130                                      Data Reportal  False   \n",
       "131                                      Data Reportal  False   \n",
       "132                                      Data Reportal  False   \n",
       "133                                                ITU  False   \n",
       "134                                                ITU  False   \n",
       "135                            World Population Review  False   \n",
       "136                     GSMA Mobile Connectivity Index  False   \n",
       "137                                         World Bank  False   \n",
       "138                   Alliance for Affordable Internet  False   \n",
       "139                     GSMA Mobile Connectivity Index  False   \n",
       "140                                                ITU  False   \n",
       "141                                    Statista/Newzoo  False   \n",
       "142                                                ITU  False   \n",
       "143                     GSMA Mobile Connectivity Index  False   \n",
       "144                     GSMA Mobile Connectivity Index  False   \n",
       "145                     GSMA Mobile Connectivity Index  False   \n",
       "\n",
       "                                      Filename  \n",
       "99                          e_government_index  \n",
       "100                               ITU_database  \n",
       "101                               ITU_database  \n",
       "102                               ITU_database  \n",
       "103                  SDG_digital_literacy_data  \n",
       "104                      undp_human_developmnt  \n",
       "105                    fb_social_connectedness  \n",
       "106    population_interacting_public_officials  \n",
       "107                 digital_public_service_use  \n",
       "108                  apps_in_national_language  \n",
       "109                          time_spent_online  \n",
       "110                            happiness_score  \n",
       "112                    cryptocurrency_adoption  \n",
       "115  not_buying_online_concern_about_returning  \n",
       "116   not_buying_online_concern_about_security  \n",
       "117                      ewaste_per_inhabitant  \n",
       "118                automation_led_unemployment  \n",
       "122                         cyberbullying_rate  \n",
       "126               global_wellbeing_initiative   \n",
       "127                   financial_inclusiveness   \n",
       "128        individuals_buying_online_frequency  \n",
       "129                        e-commerce_activity  \n",
       "130                                  top_sites  \n",
       "131                           youtube_searches  \n",
       "132                              google_trends  \n",
       "133                               ITU_database  \n",
       "134                               ITU_database  \n",
       "135                                   FB_users  \n",
       "136                                gender_gaps  \n",
       "137      population_digital_financial_services  \n",
       "138                   mobile_broadband_pricing  \n",
       "139               tax_percent_mobile_ownership  \n",
       "140                               ITU_database  \n",
       "141                population_with_smartphones  \n",
       "142                               ITU_database  \n",
       "143                                gender_gaps  \n",
       "144              countries_mobile_connectivity  \n",
       "145                                gender_gaps  "
      ]
     },
     "execution_count": 30,
     "metadata": {},
     "output_type": "execute_result"
    }
   ],
   "source": [
    "bnames = names[(names.check=='People')&(~names.Filename.isna())]#&(names.Index==False)]\n",
    "bnames"
   ]
  },
  {
   "cell_type": "code",
   "execution_count": 31,
   "id": "722a3631",
   "metadata": {},
   "outputs": [],
   "source": [
    "# get list of names for all indicators\n",
    "indicators = bnames.Indicator.unique()"
   ]
  },
  {
   "cell_type": "code",
   "execution_count": 32,
   "id": "36cccf35",
   "metadata": {},
   "outputs": [],
   "source": [
    "# get all file names\n",
    "bfiles = bnames.Filename.unique()"
   ]
  },
  {
   "cell_type": "code",
   "execution_count": 33,
   "id": "48cfdfc8",
   "metadata": {},
   "outputs": [
    {
     "data": {
      "text/plain": [
       "array(['e_government_index', 'ITU_database', 'SDG_digital_literacy_data',\n",
       "       'undp_human_developmnt', 'fb_social_connectedness',\n",
       "       'population_interacting_public_officials',\n",
       "       'digital_public_service_use', 'apps_in_national_language',\n",
       "       'time_spent_online', 'happiness_score', 'cryptocurrency_adoption',\n",
       "       'not_buying_online_concern_about_returning',\n",
       "       'not_buying_online_concern_about_security',\n",
       "       'ewaste_per_inhabitant', 'automation_led_unemployment',\n",
       "       'cyberbullying_rate', 'global_wellbeing_initiative ',\n",
       "       'financial_inclusiveness ', 'individuals_buying_online_frequency',\n",
       "       'e-commerce_activity', 'top_sites', 'youtube_searches',\n",
       "       'google_trends', 'FB_users', 'gender_gaps',\n",
       "       'population_digital_financial_services',\n",
       "       'mobile_broadband_pricing', 'tax_percent_mobile_ownership',\n",
       "       'population_with_smartphones', 'countries_mobile_connectivity'],\n",
       "      dtype=object)"
      ]
     },
     "execution_count": 33,
     "metadata": {},
     "output_type": "execute_result"
    }
   ],
   "source": [
    "bfiles"
   ]
  },
  {
   "cell_type": "code",
   "execution_count": 34,
   "id": "81fb8b56",
   "metadata": {},
   "outputs": [],
   "source": [
    "# formula for converting scale\n",
    "def convert_rank(old_value, old_min=1, old_max=7, new_min=1, new_max=6 ):\n",
    "    \"\"\" Convert old scale values scale into new scale values\"\"\"\n",
    "    old_range = old_max - old_min\n",
    "    new_range = new_max - new_min\n",
    "    new_value = (((old_value-old_min)*new_range)/old_range)+new_min\n",
    "    return new_value"
   ]
  },
  {
   "cell_type": "code",
   "execution_count": 15,
   "id": "14d11655",
   "metadata": {},
   "outputs": [],
   "source": [
    "### 1. Human Capital Index (HCI)"
   ]
  },
  {
   "cell_type": "code",
   "execution_count": 35,
   "id": "d82b3771",
   "metadata": {},
   "outputs": [
    {
     "name": "stdout",
     "output_type": "stream",
     "text": [
      "Human Capital Index (HCI)\n",
      "e_government_index\n"
     ]
    }
   ],
   "source": [
    "indicators[0]\n",
    "\n",
    "# load data\n",
    "indicator = indicators[0]\n",
    "print(indicator)\n",
    "bf = bnames[bnames['Indicator']==indicator]['Filename'].values[0]\n",
    "print(bf)\n",
    "\n",
    "df = pd.read_csv('../../processed/{}.csv'.format(bf))"
   ]
  },
  {
   "cell_type": "code",
   "execution_count": 36,
   "id": "9e8b3e4d",
   "metadata": {},
   "outputs": [
    {
     "data": {
      "text/html": [
       "<div>\n",
       "<style scoped>\n",
       "    .dataframe tbody tr th:only-of-type {\n",
       "        vertical-align: middle;\n",
       "    }\n",
       "\n",
       "    .dataframe tbody tr th {\n",
       "        vertical-align: top;\n",
       "    }\n",
       "\n",
       "    .dataframe thead th {\n",
       "        text-align: right;\n",
       "    }\n",
       "</style>\n",
       "<table border=\"1\" class=\"dataframe\">\n",
       "  <thead>\n",
       "    <tr style=\"text-align: right;\">\n",
       "      <th></th>\n",
       "      <th>Survey Year</th>\n",
       "      <th>Country Name</th>\n",
       "      <th>E-Government Rank</th>\n",
       "      <th>E-Government Index</th>\n",
       "      <th>E-Participation Index</th>\n",
       "      <th>Online Service Index</th>\n",
       "      <th>Human Capital Index</th>\n",
       "      <th>Telecommunication Infrastructure Index</th>\n",
       "    </tr>\n",
       "  </thead>\n",
       "  <tbody>\n",
       "    <tr>\n",
       "      <th>0</th>\n",
       "      <td>2020</td>\n",
       "      <td>Iraq</td>\n",
       "      <td>143</td>\n",
       "      <td>0.4360</td>\n",
       "      <td>0.3095</td>\n",
       "      <td>0.3353</td>\n",
       "      <td>0.4358</td>\n",
       "      <td>0.5370</td>\n",
       "    </tr>\n",
       "    <tr>\n",
       "      <th>1</th>\n",
       "      <td>2020</td>\n",
       "      <td>Ireland</td>\n",
       "      <td>27</td>\n",
       "      <td>0.8433</td>\n",
       "      <td>0.8571</td>\n",
       "      <td>0.7706</td>\n",
       "      <td>0.9494</td>\n",
       "      <td>0.8100</td>\n",
       "    </tr>\n",
       "    <tr>\n",
       "      <th>2</th>\n",
       "      <td>2020</td>\n",
       "      <td>Israel</td>\n",
       "      <td>30</td>\n",
       "      <td>0.8361</td>\n",
       "      <td>0.7143</td>\n",
       "      <td>0.7471</td>\n",
       "      <td>0.8924</td>\n",
       "      <td>0.8689</td>\n",
       "    </tr>\n",
       "    <tr>\n",
       "      <th>3</th>\n",
       "      <td>2020</td>\n",
       "      <td>Italy</td>\n",
       "      <td>37</td>\n",
       "      <td>0.8231</td>\n",
       "      <td>0.8214</td>\n",
       "      <td>0.8294</td>\n",
       "      <td>0.8466</td>\n",
       "      <td>0.7932</td>\n",
       "    </tr>\n",
       "    <tr>\n",
       "      <th>4</th>\n",
       "      <td>2020</td>\n",
       "      <td>Jamaica</td>\n",
       "      <td>114</td>\n",
       "      <td>0.5392</td>\n",
       "      <td>0.3690</td>\n",
       "      <td>0.3882</td>\n",
       "      <td>0.7142</td>\n",
       "      <td>0.5151</td>\n",
       "    </tr>\n",
       "    <tr>\n",
       "      <th>5</th>\n",
       "      <td>2020</td>\n",
       "      <td>Japan</td>\n",
       "      <td>14</td>\n",
       "      <td>0.8989</td>\n",
       "      <td>0.9881</td>\n",
       "      <td>0.9059</td>\n",
       "      <td>0.8684</td>\n",
       "      <td>0.9223</td>\n",
       "    </tr>\n",
       "    <tr>\n",
       "      <th>6</th>\n",
       "      <td>2020</td>\n",
       "      <td>Jordan</td>\n",
       "      <td>117</td>\n",
       "      <td>0.5309</td>\n",
       "      <td>0.3333</td>\n",
       "      <td>0.3588</td>\n",
       "      <td>0.6800</td>\n",
       "      <td>0.5540</td>\n",
       "    </tr>\n",
       "    <tr>\n",
       "      <th>7</th>\n",
       "      <td>2020</td>\n",
       "      <td>Kazakhstan</td>\n",
       "      <td>29</td>\n",
       "      <td>0.8375</td>\n",
       "      <td>0.8810</td>\n",
       "      <td>0.9235</td>\n",
       "      <td>0.8866</td>\n",
       "      <td>0.7024</td>\n",
       "    </tr>\n",
       "    <tr>\n",
       "      <th>8</th>\n",
       "      <td>2020</td>\n",
       "      <td>Kenya</td>\n",
       "      <td>116</td>\n",
       "      <td>0.5326</td>\n",
       "      <td>0.5952</td>\n",
       "      <td>0.6765</td>\n",
       "      <td>0.5812</td>\n",
       "      <td>0.3402</td>\n",
       "    </tr>\n",
       "    <tr>\n",
       "      <th>9</th>\n",
       "      <td>2020</td>\n",
       "      <td>Kiribati</td>\n",
       "      <td>145</td>\n",
       "      <td>0.4320</td>\n",
       "      <td>0.5595</td>\n",
       "      <td>0.4941</td>\n",
       "      <td>0.6778</td>\n",
       "      <td>0.1241</td>\n",
       "    </tr>\n",
       "  </tbody>\n",
       "</table>\n",
       "</div>"
      ],
      "text/plain": [
       "   Survey Year Country Name  E-Government Rank  E-Government Index  \\\n",
       "0         2020        Iraq                 143              0.4360   \n",
       "1         2020     Ireland                  27              0.8433   \n",
       "2         2020      Israel                  30              0.8361   \n",
       "3         2020       Italy                  37              0.8231   \n",
       "4         2020     Jamaica                 114              0.5392   \n",
       "5         2020       Japan                  14              0.8989   \n",
       "6         2020      Jordan                 117              0.5309   \n",
       "7         2020  Kazakhstan                  29              0.8375   \n",
       "8         2020       Kenya                 116              0.5326   \n",
       "9         2020    Kiribati                 145              0.4320   \n",
       "\n",
       "   E-Participation Index  Online Service Index  Human Capital Index  \\\n",
       "0                 0.3095                0.3353               0.4358   \n",
       "1                 0.8571                0.7706               0.9494   \n",
       "2                 0.7143                0.7471               0.8924   \n",
       "3                 0.8214                0.8294               0.8466   \n",
       "4                 0.3690                0.3882               0.7142   \n",
       "5                 0.9881                0.9059               0.8684   \n",
       "6                 0.3333                0.3588               0.6800   \n",
       "7                 0.8810                0.9235               0.8866   \n",
       "8                 0.5952                0.6765               0.5812   \n",
       "9                 0.5595                0.4941               0.6778   \n",
       "\n",
       "   Telecommunication Infrastructure Index  \n",
       "0                                  0.5370  \n",
       "1                                  0.8100  \n",
       "2                                  0.8689  \n",
       "3                                  0.7932  \n",
       "4                                  0.5151  \n",
       "5                                  0.9223  \n",
       "6                                  0.5540  \n",
       "7                                  0.7024  \n",
       "8                                  0.3402  \n",
       "9                                  0.1241  "
      ]
     },
     "execution_count": 36,
     "metadata": {},
     "output_type": "execute_result"
    }
   ],
   "source": [
    "df.head(10)"
   ]
  },
  {
   "cell_type": "code",
   "execution_count": 18,
   "id": "67cd4a98",
   "metadata": {},
   "outputs": [],
   "source": [
    "# create standard columns\n",
    "# df.rename(columns={'COUNTRY/ECONOMY':'Country Name'}, inplace=True)\n",
    "df['higher_is_better'] = True\n",
    "df['Indicator'] = indicator\n",
    "df['data_col'] = df['Human Capital Index'] \n",
    "df['Year'] = df['Survey Year']\n",
    "\n",
    "min_rank = df['data_col'].min()\n",
    "max_rank = df['data_col'].max()\n",
    "\n",
    "# transform 0-1 rank into 1-6\n",
    "df['new_rank_score'] = df['data_col'].apply(lambda row: convert_rank(row,old_min=min_rank,old_max=max_rank))"
   ]
  },
  {
   "cell_type": "code",
   "execution_count": 19,
   "id": "b68be2a0",
   "metadata": {},
   "outputs": [
    {
     "data": {
      "text/html": [
       "<div>\n",
       "<style scoped>\n",
       "    .dataframe tbody tr th:only-of-type {\n",
       "        vertical-align: middle;\n",
       "    }\n",
       "\n",
       "    .dataframe tbody tr th {\n",
       "        vertical-align: top;\n",
       "    }\n",
       "\n",
       "    .dataframe thead th {\n",
       "        text-align: right;\n",
       "    }\n",
       "</style>\n",
       "<table border=\"1\" class=\"dataframe\">\n",
       "  <thead>\n",
       "    <tr style=\"text-align: right;\">\n",
       "      <th></th>\n",
       "      <th>Country Name</th>\n",
       "      <th>Year</th>\n",
       "      <th>Indicator</th>\n",
       "      <th>data_col</th>\n",
       "      <th>new_rank_score</th>\n",
       "      <th>higher_is_better</th>\n",
       "    </tr>\n",
       "  </thead>\n",
       "  <tbody>\n",
       "    <tr>\n",
       "      <th>0</th>\n",
       "      <td>Iraq</td>\n",
       "      <td>2020</td>\n",
       "      <td>Human Capital Index (HCI)</td>\n",
       "      <td>0.4358</td>\n",
       "      <td>3.1790</td>\n",
       "      <td>True</td>\n",
       "    </tr>\n",
       "    <tr>\n",
       "      <th>1</th>\n",
       "      <td>Ireland</td>\n",
       "      <td>2020</td>\n",
       "      <td>Human Capital Index (HCI)</td>\n",
       "      <td>0.9494</td>\n",
       "      <td>5.7470</td>\n",
       "      <td>True</td>\n",
       "    </tr>\n",
       "    <tr>\n",
       "      <th>2</th>\n",
       "      <td>Israel</td>\n",
       "      <td>2020</td>\n",
       "      <td>Human Capital Index (HCI)</td>\n",
       "      <td>0.8924</td>\n",
       "      <td>5.4620</td>\n",
       "      <td>True</td>\n",
       "    </tr>\n",
       "    <tr>\n",
       "      <th>3</th>\n",
       "      <td>Italy</td>\n",
       "      <td>2020</td>\n",
       "      <td>Human Capital Index (HCI)</td>\n",
       "      <td>0.8466</td>\n",
       "      <td>5.2330</td>\n",
       "      <td>True</td>\n",
       "    </tr>\n",
       "    <tr>\n",
       "      <th>4</th>\n",
       "      <td>Jamaica</td>\n",
       "      <td>2020</td>\n",
       "      <td>Human Capital Index (HCI)</td>\n",
       "      <td>0.7142</td>\n",
       "      <td>4.5710</td>\n",
       "      <td>True</td>\n",
       "    </tr>\n",
       "    <tr>\n",
       "      <th>5</th>\n",
       "      <td>Japan</td>\n",
       "      <td>2020</td>\n",
       "      <td>Human Capital Index (HCI)</td>\n",
       "      <td>0.8684</td>\n",
       "      <td>5.3420</td>\n",
       "      <td>True</td>\n",
       "    </tr>\n",
       "    <tr>\n",
       "      <th>6</th>\n",
       "      <td>Jordan</td>\n",
       "      <td>2020</td>\n",
       "      <td>Human Capital Index (HCI)</td>\n",
       "      <td>0.6800</td>\n",
       "      <td>4.4000</td>\n",
       "      <td>True</td>\n",
       "    </tr>\n",
       "    <tr>\n",
       "      <th>7</th>\n",
       "      <td>Kazakhstan</td>\n",
       "      <td>2020</td>\n",
       "      <td>Human Capital Index (HCI)</td>\n",
       "      <td>0.8866</td>\n",
       "      <td>5.4330</td>\n",
       "      <td>True</td>\n",
       "    </tr>\n",
       "    <tr>\n",
       "      <th>8</th>\n",
       "      <td>Kenya</td>\n",
       "      <td>2020</td>\n",
       "      <td>Human Capital Index (HCI)</td>\n",
       "      <td>0.5812</td>\n",
       "      <td>3.9060</td>\n",
       "      <td>True</td>\n",
       "    </tr>\n",
       "    <tr>\n",
       "      <th>9</th>\n",
       "      <td>Kiribati</td>\n",
       "      <td>2020</td>\n",
       "      <td>Human Capital Index (HCI)</td>\n",
       "      <td>0.6778</td>\n",
       "      <td>4.3890</td>\n",
       "      <td>True</td>\n",
       "    </tr>\n",
       "    <tr>\n",
       "      <th>10</th>\n",
       "      <td>Kuwait</td>\n",
       "      <td>2020</td>\n",
       "      <td>Human Capital Index (HCI)</td>\n",
       "      <td>0.7470</td>\n",
       "      <td>4.7350</td>\n",
       "      <td>True</td>\n",
       "    </tr>\n",
       "    <tr>\n",
       "      <th>11</th>\n",
       "      <td>Kyrgyzstan</td>\n",
       "      <td>2020</td>\n",
       "      <td>Human Capital Index (HCI)</td>\n",
       "      <td>0.7873</td>\n",
       "      <td>4.9365</td>\n",
       "      <td>True</td>\n",
       "    </tr>\n",
       "    <tr>\n",
       "      <th>12</th>\n",
       "      <td>Lao People's Democratic Republic</td>\n",
       "      <td>2020</td>\n",
       "      <td>Human Capital Index (HCI)</td>\n",
       "      <td>0.5539</td>\n",
       "      <td>3.7695</td>\n",
       "      <td>True</td>\n",
       "    </tr>\n",
       "    <tr>\n",
       "      <th>13</th>\n",
       "      <td>Latvia</td>\n",
       "      <td>2020</td>\n",
       "      <td>Human Capital Index (HCI)</td>\n",
       "      <td>0.9172</td>\n",
       "      <td>5.5860</td>\n",
       "      <td>True</td>\n",
       "    </tr>\n",
       "    <tr>\n",
       "      <th>14</th>\n",
       "      <td>Lebanon</td>\n",
       "      <td>2020</td>\n",
       "      <td>Human Capital Index (HCI)</td>\n",
       "      <td>0.6567</td>\n",
       "      <td>4.2835</td>\n",
       "      <td>True</td>\n",
       "    </tr>\n",
       "  </tbody>\n",
       "</table>\n",
       "</div>"
      ],
      "text/plain": [
       "                         Country Name  Year                  Indicator  \\\n",
       "0                               Iraq   2020  Human Capital Index (HCI)   \n",
       "1                            Ireland   2020  Human Capital Index (HCI)   \n",
       "2                             Israel   2020  Human Capital Index (HCI)   \n",
       "3                              Italy   2020  Human Capital Index (HCI)   \n",
       "4                            Jamaica   2020  Human Capital Index (HCI)   \n",
       "5                              Japan   2020  Human Capital Index (HCI)   \n",
       "6                             Jordan   2020  Human Capital Index (HCI)   \n",
       "7                         Kazakhstan   2020  Human Capital Index (HCI)   \n",
       "8                              Kenya   2020  Human Capital Index (HCI)   \n",
       "9                           Kiribati   2020  Human Capital Index (HCI)   \n",
       "10                            Kuwait   2020  Human Capital Index (HCI)   \n",
       "11                        Kyrgyzstan   2020  Human Capital Index (HCI)   \n",
       "12  Lao People's Democratic Republic   2020  Human Capital Index (HCI)   \n",
       "13                            Latvia   2020  Human Capital Index (HCI)   \n",
       "14                           Lebanon   2020  Human Capital Index (HCI)   \n",
       "\n",
       "    data_col  new_rank_score  higher_is_better  \n",
       "0     0.4358          3.1790              True  \n",
       "1     0.9494          5.7470              True  \n",
       "2     0.8924          5.4620              True  \n",
       "3     0.8466          5.2330              True  \n",
       "4     0.7142          4.5710              True  \n",
       "5     0.8684          5.3420              True  \n",
       "6     0.6800          4.4000              True  \n",
       "7     0.8866          5.4330              True  \n",
       "8     0.5812          3.9060              True  \n",
       "9     0.6778          4.3890              True  \n",
       "10    0.7470          4.7350              True  \n",
       "11    0.7873          4.9365              True  \n",
       "12    0.5539          3.7695              True  \n",
       "13    0.9172          5.5860              True  \n",
       "14    0.6567          4.2835              True  "
      ]
     },
     "execution_count": 19,
     "metadata": {},
     "output_type": "execute_result"
    }
   ],
   "source": [
    "df[['Country Name','Year','Indicator','data_col','new_rank_score','higher_is_better']].head(15)"
   ]
  },
  {
   "cell_type": "code",
   "execution_count": 20,
   "id": "9198840e",
   "metadata": {},
   "outputs": [],
   "source": [
    "### 2. % of population using internet (all)"
   ]
  },
  {
   "cell_type": "code",
   "execution_count": 40,
   "id": "5e21dad7",
   "metadata": {},
   "outputs": [
    {
     "name": "stdout",
     "output_type": "stream",
     "text": [
      "% of population using internet (all)\n",
      "ITU_database\n"
     ]
    },
    {
     "ename": "FileNotFoundError",
     "evalue": "[Errno 2] No such file or directory: '../../processed/ITU_database.xlsx'",
     "output_type": "error",
     "traceback": [
      "\u001b[1;31m---------------------------------------------------------------------------\u001b[0m",
      "\u001b[1;31mFileNotFoundError\u001b[0m                         Traceback (most recent call last)",
      "\u001b[1;32m<ipython-input-40-937f312dd591>\u001b[0m in \u001b[0;36m<module>\u001b[1;34m\u001b[0m\n\u001b[0;32m      7\u001b[0m \u001b[0mprint\u001b[0m\u001b[1;33m(\u001b[0m\u001b[0mbf\u001b[0m\u001b[1;33m)\u001b[0m\u001b[1;33m\u001b[0m\u001b[1;33m\u001b[0m\u001b[0m\n\u001b[0;32m      8\u001b[0m \u001b[1;33m\u001b[0m\u001b[0m\n\u001b[1;32m----> 9\u001b[1;33m \u001b[0mdf\u001b[0m \u001b[1;33m=\u001b[0m \u001b[0mpd\u001b[0m\u001b[1;33m.\u001b[0m\u001b[0mread_excel\u001b[0m\u001b[1;33m(\u001b[0m\u001b[1;34m'../../processed/{}.xlsx'\u001b[0m\u001b[1;33m.\u001b[0m\u001b[0mformat\u001b[0m\u001b[1;33m(\u001b[0m\u001b[0mbf\u001b[0m\u001b[1;33m)\u001b[0m\u001b[1;33m)\u001b[0m\u001b[1;33m\u001b[0m\u001b[1;33m\u001b[0m\u001b[0m\n\u001b[0m",
      "\u001b[1;32mD:\\Apps\\Anaconda\\lib\\site-packages\\pandas\\util\\_decorators.py\u001b[0m in \u001b[0;36mwrapper\u001b[1;34m(*args, **kwargs)\u001b[0m\n\u001b[0;32m    297\u001b[0m                 )\n\u001b[0;32m    298\u001b[0m                 \u001b[0mwarnings\u001b[0m\u001b[1;33m.\u001b[0m\u001b[0mwarn\u001b[0m\u001b[1;33m(\u001b[0m\u001b[0mmsg\u001b[0m\u001b[1;33m,\u001b[0m \u001b[0mFutureWarning\u001b[0m\u001b[1;33m,\u001b[0m \u001b[0mstacklevel\u001b[0m\u001b[1;33m=\u001b[0m\u001b[0mstacklevel\u001b[0m\u001b[1;33m)\u001b[0m\u001b[1;33m\u001b[0m\u001b[1;33m\u001b[0m\u001b[0m\n\u001b[1;32m--> 299\u001b[1;33m             \u001b[1;32mreturn\u001b[0m \u001b[0mfunc\u001b[0m\u001b[1;33m(\u001b[0m\u001b[1;33m*\u001b[0m\u001b[0margs\u001b[0m\u001b[1;33m,\u001b[0m \u001b[1;33m**\u001b[0m\u001b[0mkwargs\u001b[0m\u001b[1;33m)\u001b[0m\u001b[1;33m\u001b[0m\u001b[1;33m\u001b[0m\u001b[0m\n\u001b[0m\u001b[0;32m    300\u001b[0m \u001b[1;33m\u001b[0m\u001b[0m\n\u001b[0;32m    301\u001b[0m         \u001b[1;32mreturn\u001b[0m \u001b[0mwrapper\u001b[0m\u001b[1;33m\u001b[0m\u001b[1;33m\u001b[0m\u001b[0m\n",
      "\u001b[1;32mD:\\Apps\\Anaconda\\lib\\site-packages\\pandas\\io\\excel\\_base.py\u001b[0m in \u001b[0;36mread_excel\u001b[1;34m(io, sheet_name, header, names, index_col, usecols, squeeze, dtype, engine, converters, true_values, false_values, skiprows, nrows, na_values, keep_default_na, na_filter, verbose, parse_dates, date_parser, thousands, comment, skipfooter, convert_float, mangle_dupe_cols, storage_options)\u001b[0m\n\u001b[0;32m    334\u001b[0m     \u001b[1;32mif\u001b[0m \u001b[1;32mnot\u001b[0m \u001b[0misinstance\u001b[0m\u001b[1;33m(\u001b[0m\u001b[0mio\u001b[0m\u001b[1;33m,\u001b[0m \u001b[0mExcelFile\u001b[0m\u001b[1;33m)\u001b[0m\u001b[1;33m:\u001b[0m\u001b[1;33m\u001b[0m\u001b[1;33m\u001b[0m\u001b[0m\n\u001b[0;32m    335\u001b[0m         \u001b[0mshould_close\u001b[0m \u001b[1;33m=\u001b[0m \u001b[1;32mTrue\u001b[0m\u001b[1;33m\u001b[0m\u001b[1;33m\u001b[0m\u001b[0m\n\u001b[1;32m--> 336\u001b[1;33m         \u001b[0mio\u001b[0m \u001b[1;33m=\u001b[0m \u001b[0mExcelFile\u001b[0m\u001b[1;33m(\u001b[0m\u001b[0mio\u001b[0m\u001b[1;33m,\u001b[0m \u001b[0mstorage_options\u001b[0m\u001b[1;33m=\u001b[0m\u001b[0mstorage_options\u001b[0m\u001b[1;33m,\u001b[0m \u001b[0mengine\u001b[0m\u001b[1;33m=\u001b[0m\u001b[0mengine\u001b[0m\u001b[1;33m)\u001b[0m\u001b[1;33m\u001b[0m\u001b[1;33m\u001b[0m\u001b[0m\n\u001b[0m\u001b[0;32m    337\u001b[0m     \u001b[1;32melif\u001b[0m \u001b[0mengine\u001b[0m \u001b[1;32mand\u001b[0m \u001b[0mengine\u001b[0m \u001b[1;33m!=\u001b[0m \u001b[0mio\u001b[0m\u001b[1;33m.\u001b[0m\u001b[0mengine\u001b[0m\u001b[1;33m:\u001b[0m\u001b[1;33m\u001b[0m\u001b[1;33m\u001b[0m\u001b[0m\n\u001b[0;32m    338\u001b[0m         raise ValueError(\n",
      "\u001b[1;32mD:\\Apps\\Anaconda\\lib\\site-packages\\pandas\\io\\excel\\_base.py\u001b[0m in \u001b[0;36m__init__\u001b[1;34m(self, path_or_buffer, engine, storage_options)\u001b[0m\n\u001b[0;32m   1069\u001b[0m                 \u001b[0mext\u001b[0m \u001b[1;33m=\u001b[0m \u001b[1;34m\"xls\"\u001b[0m\u001b[1;33m\u001b[0m\u001b[1;33m\u001b[0m\u001b[0m\n\u001b[0;32m   1070\u001b[0m             \u001b[1;32melse\u001b[0m\u001b[1;33m:\u001b[0m\u001b[1;33m\u001b[0m\u001b[1;33m\u001b[0m\u001b[0m\n\u001b[1;32m-> 1071\u001b[1;33m                 ext = inspect_excel_format(\n\u001b[0m\u001b[0;32m   1072\u001b[0m                     \u001b[0mcontent\u001b[0m\u001b[1;33m=\u001b[0m\u001b[0mpath_or_buffer\u001b[0m\u001b[1;33m,\u001b[0m \u001b[0mstorage_options\u001b[0m\u001b[1;33m=\u001b[0m\u001b[0mstorage_options\u001b[0m\u001b[1;33m\u001b[0m\u001b[1;33m\u001b[0m\u001b[0m\n\u001b[0;32m   1073\u001b[0m                 )\n",
      "\u001b[1;32mD:\\Apps\\Anaconda\\lib\\site-packages\\pandas\\io\\excel\\_base.py\u001b[0m in \u001b[0;36minspect_excel_format\u001b[1;34m(path, content, storage_options)\u001b[0m\n\u001b[0;32m    947\u001b[0m     \u001b[1;32massert\u001b[0m \u001b[0mcontent_or_path\u001b[0m \u001b[1;32mis\u001b[0m \u001b[1;32mnot\u001b[0m \u001b[1;32mNone\u001b[0m\u001b[1;33m\u001b[0m\u001b[1;33m\u001b[0m\u001b[0m\n\u001b[0;32m    948\u001b[0m \u001b[1;33m\u001b[0m\u001b[0m\n\u001b[1;32m--> 949\u001b[1;33m     with get_handle(\n\u001b[0m\u001b[0;32m    950\u001b[0m         \u001b[0mcontent_or_path\u001b[0m\u001b[1;33m,\u001b[0m \u001b[1;34m\"rb\"\u001b[0m\u001b[1;33m,\u001b[0m \u001b[0mstorage_options\u001b[0m\u001b[1;33m=\u001b[0m\u001b[0mstorage_options\u001b[0m\u001b[1;33m,\u001b[0m \u001b[0mis_text\u001b[0m\u001b[1;33m=\u001b[0m\u001b[1;32mFalse\u001b[0m\u001b[1;33m\u001b[0m\u001b[1;33m\u001b[0m\u001b[0m\n\u001b[0;32m    951\u001b[0m     ) as handle:\n",
      "\u001b[1;32mD:\\Apps\\Anaconda\\lib\\site-packages\\pandas\\io\\common.py\u001b[0m in \u001b[0;36mget_handle\u001b[1;34m(path_or_buf, mode, encoding, compression, memory_map, is_text, errors, storage_options)\u001b[0m\n\u001b[0;32m    649\u001b[0m         \u001b[1;32melse\u001b[0m\u001b[1;33m:\u001b[0m\u001b[1;33m\u001b[0m\u001b[1;33m\u001b[0m\u001b[0m\n\u001b[0;32m    650\u001b[0m             \u001b[1;31m# Binary mode\u001b[0m\u001b[1;33m\u001b[0m\u001b[1;33m\u001b[0m\u001b[1;33m\u001b[0m\u001b[0m\n\u001b[1;32m--> 651\u001b[1;33m             \u001b[0mhandle\u001b[0m \u001b[1;33m=\u001b[0m \u001b[0mopen\u001b[0m\u001b[1;33m(\u001b[0m\u001b[0mhandle\u001b[0m\u001b[1;33m,\u001b[0m \u001b[0mioargs\u001b[0m\u001b[1;33m.\u001b[0m\u001b[0mmode\u001b[0m\u001b[1;33m)\u001b[0m\u001b[1;33m\u001b[0m\u001b[1;33m\u001b[0m\u001b[0m\n\u001b[0m\u001b[0;32m    652\u001b[0m         \u001b[0mhandles\u001b[0m\u001b[1;33m.\u001b[0m\u001b[0mappend\u001b[0m\u001b[1;33m(\u001b[0m\u001b[0mhandle\u001b[0m\u001b[1;33m)\u001b[0m\u001b[1;33m\u001b[0m\u001b[1;33m\u001b[0m\u001b[0m\n\u001b[0;32m    653\u001b[0m \u001b[1;33m\u001b[0m\u001b[0m\n",
      "\u001b[1;31mFileNotFoundError\u001b[0m: [Errno 2] No such file or directory: '../../processed/ITU_database.xlsx'"
     ]
    }
   ],
   "source": [
    "indicators[1]\n",
    "\n",
    "# load data\n",
    "indicator = indicators[1]\n",
    "print(indicator)\n",
    "bf = bnames[bnames['Indicator']==indicator]['Filename'].values[0]\n",
    "print(bf)\n",
    "\n",
    "df = pd.read_excel('../../processed/{}.xlsx'.format(bf))"
   ]
  },
  {
   "cell_type": "code",
   "execution_count": null,
   "id": "f1ae55bd",
   "metadata": {},
   "outputs": [],
   "source": [
    "### 3. % of population using internet (female)"
   ]
  },
  {
   "cell_type": "code",
   "execution_count": 38,
   "id": "64a347df",
   "metadata": {},
   "outputs": [
    {
     "name": "stdout",
     "output_type": "stream",
     "text": [
      "% of population using internet (female)\n",
      "ITU_database\n"
     ]
    },
    {
     "ename": "FileNotFoundError",
     "evalue": "[Errno 2] No such file or directory: '../../processed/ITU_database.csv'",
     "output_type": "error",
     "traceback": [
      "\u001b[1;31m---------------------------------------------------------------------------\u001b[0m",
      "\u001b[1;31mFileNotFoundError\u001b[0m                         Traceback (most recent call last)",
      "\u001b[1;32m<ipython-input-38-91c83eedb488>\u001b[0m in \u001b[0;36m<module>\u001b[1;34m\u001b[0m\n\u001b[0;32m      7\u001b[0m \u001b[0mprint\u001b[0m\u001b[1;33m(\u001b[0m\u001b[0mbf\u001b[0m\u001b[1;33m)\u001b[0m\u001b[1;33m\u001b[0m\u001b[1;33m\u001b[0m\u001b[0m\n\u001b[0;32m      8\u001b[0m \u001b[1;33m\u001b[0m\u001b[0m\n\u001b[1;32m----> 9\u001b[1;33m \u001b[0mdf\u001b[0m \u001b[1;33m=\u001b[0m \u001b[0mpd\u001b[0m\u001b[1;33m.\u001b[0m\u001b[0mread_csv\u001b[0m\u001b[1;33m(\u001b[0m\u001b[1;34m'../../processed/{}.csv'\u001b[0m\u001b[1;33m.\u001b[0m\u001b[0mformat\u001b[0m\u001b[1;33m(\u001b[0m\u001b[0mbf\u001b[0m\u001b[1;33m)\u001b[0m\u001b[1;33m)\u001b[0m\u001b[1;33m\u001b[0m\u001b[1;33m\u001b[0m\u001b[0m\n\u001b[0m",
      "\u001b[1;32mD:\\Apps\\Anaconda\\lib\\site-packages\\pandas\\io\\parsers.py\u001b[0m in \u001b[0;36mread_csv\u001b[1;34m(filepath_or_buffer, sep, delimiter, header, names, index_col, usecols, squeeze, prefix, mangle_dupe_cols, dtype, engine, converters, true_values, false_values, skipinitialspace, skiprows, skipfooter, nrows, na_values, keep_default_na, na_filter, verbose, skip_blank_lines, parse_dates, infer_datetime_format, keep_date_col, date_parser, dayfirst, cache_dates, iterator, chunksize, compression, thousands, decimal, lineterminator, quotechar, quoting, doublequote, escapechar, comment, encoding, dialect, error_bad_lines, warn_bad_lines, delim_whitespace, low_memory, memory_map, float_precision, storage_options)\u001b[0m\n\u001b[0;32m    608\u001b[0m     \u001b[0mkwds\u001b[0m\u001b[1;33m.\u001b[0m\u001b[0mupdate\u001b[0m\u001b[1;33m(\u001b[0m\u001b[0mkwds_defaults\u001b[0m\u001b[1;33m)\u001b[0m\u001b[1;33m\u001b[0m\u001b[1;33m\u001b[0m\u001b[0m\n\u001b[0;32m    609\u001b[0m \u001b[1;33m\u001b[0m\u001b[0m\n\u001b[1;32m--> 610\u001b[1;33m     \u001b[1;32mreturn\u001b[0m \u001b[0m_read\u001b[0m\u001b[1;33m(\u001b[0m\u001b[0mfilepath_or_buffer\u001b[0m\u001b[1;33m,\u001b[0m \u001b[0mkwds\u001b[0m\u001b[1;33m)\u001b[0m\u001b[1;33m\u001b[0m\u001b[1;33m\u001b[0m\u001b[0m\n\u001b[0m\u001b[0;32m    611\u001b[0m \u001b[1;33m\u001b[0m\u001b[0m\n\u001b[0;32m    612\u001b[0m \u001b[1;33m\u001b[0m\u001b[0m\n",
      "\u001b[1;32mD:\\Apps\\Anaconda\\lib\\site-packages\\pandas\\io\\parsers.py\u001b[0m in \u001b[0;36m_read\u001b[1;34m(filepath_or_buffer, kwds)\u001b[0m\n\u001b[0;32m    460\u001b[0m \u001b[1;33m\u001b[0m\u001b[0m\n\u001b[0;32m    461\u001b[0m     \u001b[1;31m# Create the parser.\u001b[0m\u001b[1;33m\u001b[0m\u001b[1;33m\u001b[0m\u001b[1;33m\u001b[0m\u001b[0m\n\u001b[1;32m--> 462\u001b[1;33m     \u001b[0mparser\u001b[0m \u001b[1;33m=\u001b[0m \u001b[0mTextFileReader\u001b[0m\u001b[1;33m(\u001b[0m\u001b[0mfilepath_or_buffer\u001b[0m\u001b[1;33m,\u001b[0m \u001b[1;33m**\u001b[0m\u001b[0mkwds\u001b[0m\u001b[1;33m)\u001b[0m\u001b[1;33m\u001b[0m\u001b[1;33m\u001b[0m\u001b[0m\n\u001b[0m\u001b[0;32m    463\u001b[0m \u001b[1;33m\u001b[0m\u001b[0m\n\u001b[0;32m    464\u001b[0m     \u001b[1;32mif\u001b[0m \u001b[0mchunksize\u001b[0m \u001b[1;32mor\u001b[0m \u001b[0miterator\u001b[0m\u001b[1;33m:\u001b[0m\u001b[1;33m\u001b[0m\u001b[1;33m\u001b[0m\u001b[0m\n",
      "\u001b[1;32mD:\\Apps\\Anaconda\\lib\\site-packages\\pandas\\io\\parsers.py\u001b[0m in \u001b[0;36m__init__\u001b[1;34m(self, f, engine, **kwds)\u001b[0m\n\u001b[0;32m    817\u001b[0m             \u001b[0mself\u001b[0m\u001b[1;33m.\u001b[0m\u001b[0moptions\u001b[0m\u001b[1;33m[\u001b[0m\u001b[1;34m\"has_index_names\"\u001b[0m\u001b[1;33m]\u001b[0m \u001b[1;33m=\u001b[0m \u001b[0mkwds\u001b[0m\u001b[1;33m[\u001b[0m\u001b[1;34m\"has_index_names\"\u001b[0m\u001b[1;33m]\u001b[0m\u001b[1;33m\u001b[0m\u001b[1;33m\u001b[0m\u001b[0m\n\u001b[0;32m    818\u001b[0m \u001b[1;33m\u001b[0m\u001b[0m\n\u001b[1;32m--> 819\u001b[1;33m         \u001b[0mself\u001b[0m\u001b[1;33m.\u001b[0m\u001b[0m_engine\u001b[0m \u001b[1;33m=\u001b[0m \u001b[0mself\u001b[0m\u001b[1;33m.\u001b[0m\u001b[0m_make_engine\u001b[0m\u001b[1;33m(\u001b[0m\u001b[0mself\u001b[0m\u001b[1;33m.\u001b[0m\u001b[0mengine\u001b[0m\u001b[1;33m)\u001b[0m\u001b[1;33m\u001b[0m\u001b[1;33m\u001b[0m\u001b[0m\n\u001b[0m\u001b[0;32m    820\u001b[0m \u001b[1;33m\u001b[0m\u001b[0m\n\u001b[0;32m    821\u001b[0m     \u001b[1;32mdef\u001b[0m \u001b[0mclose\u001b[0m\u001b[1;33m(\u001b[0m\u001b[0mself\u001b[0m\u001b[1;33m)\u001b[0m\u001b[1;33m:\u001b[0m\u001b[1;33m\u001b[0m\u001b[1;33m\u001b[0m\u001b[0m\n",
      "\u001b[1;32mD:\\Apps\\Anaconda\\lib\\site-packages\\pandas\\io\\parsers.py\u001b[0m in \u001b[0;36m_make_engine\u001b[1;34m(self, engine)\u001b[0m\n\u001b[0;32m   1048\u001b[0m             )\n\u001b[0;32m   1049\u001b[0m         \u001b[1;31m# error: Too many arguments for \"ParserBase\"\u001b[0m\u001b[1;33m\u001b[0m\u001b[1;33m\u001b[0m\u001b[1;33m\u001b[0m\u001b[0m\n\u001b[1;32m-> 1050\u001b[1;33m         \u001b[1;32mreturn\u001b[0m \u001b[0mmapping\u001b[0m\u001b[1;33m[\u001b[0m\u001b[0mengine\u001b[0m\u001b[1;33m]\u001b[0m\u001b[1;33m(\u001b[0m\u001b[0mself\u001b[0m\u001b[1;33m.\u001b[0m\u001b[0mf\u001b[0m\u001b[1;33m,\u001b[0m \u001b[1;33m**\u001b[0m\u001b[0mself\u001b[0m\u001b[1;33m.\u001b[0m\u001b[0moptions\u001b[0m\u001b[1;33m)\u001b[0m  \u001b[1;31m# type: ignore[call-arg]\u001b[0m\u001b[1;33m\u001b[0m\u001b[1;33m\u001b[0m\u001b[0m\n\u001b[0m\u001b[0;32m   1051\u001b[0m \u001b[1;33m\u001b[0m\u001b[0m\n\u001b[0;32m   1052\u001b[0m     \u001b[1;32mdef\u001b[0m \u001b[0m_failover_to_python\u001b[0m\u001b[1;33m(\u001b[0m\u001b[0mself\u001b[0m\u001b[1;33m)\u001b[0m\u001b[1;33m:\u001b[0m\u001b[1;33m\u001b[0m\u001b[1;33m\u001b[0m\u001b[0m\n",
      "\u001b[1;32mD:\\Apps\\Anaconda\\lib\\site-packages\\pandas\\io\\parsers.py\u001b[0m in \u001b[0;36m__init__\u001b[1;34m(self, src, **kwds)\u001b[0m\n\u001b[0;32m   1865\u001b[0m \u001b[1;33m\u001b[0m\u001b[0m\n\u001b[0;32m   1866\u001b[0m         \u001b[1;31m# open handles\u001b[0m\u001b[1;33m\u001b[0m\u001b[1;33m\u001b[0m\u001b[1;33m\u001b[0m\u001b[0m\n\u001b[1;32m-> 1867\u001b[1;33m         \u001b[0mself\u001b[0m\u001b[1;33m.\u001b[0m\u001b[0m_open_handles\u001b[0m\u001b[1;33m(\u001b[0m\u001b[0msrc\u001b[0m\u001b[1;33m,\u001b[0m \u001b[0mkwds\u001b[0m\u001b[1;33m)\u001b[0m\u001b[1;33m\u001b[0m\u001b[1;33m\u001b[0m\u001b[0m\n\u001b[0m\u001b[0;32m   1868\u001b[0m         \u001b[1;32massert\u001b[0m \u001b[0mself\u001b[0m\u001b[1;33m.\u001b[0m\u001b[0mhandles\u001b[0m \u001b[1;32mis\u001b[0m \u001b[1;32mnot\u001b[0m \u001b[1;32mNone\u001b[0m\u001b[1;33m\u001b[0m\u001b[1;33m\u001b[0m\u001b[0m\n\u001b[0;32m   1869\u001b[0m         \u001b[1;32mfor\u001b[0m \u001b[0mkey\u001b[0m \u001b[1;32min\u001b[0m \u001b[1;33m(\u001b[0m\u001b[1;34m\"storage_options\"\u001b[0m\u001b[1;33m,\u001b[0m \u001b[1;34m\"encoding\"\u001b[0m\u001b[1;33m,\u001b[0m \u001b[1;34m\"memory_map\"\u001b[0m\u001b[1;33m,\u001b[0m \u001b[1;34m\"compression\"\u001b[0m\u001b[1;33m)\u001b[0m\u001b[1;33m:\u001b[0m\u001b[1;33m\u001b[0m\u001b[1;33m\u001b[0m\u001b[0m\n",
      "\u001b[1;32mD:\\Apps\\Anaconda\\lib\\site-packages\\pandas\\io\\parsers.py\u001b[0m in \u001b[0;36m_open_handles\u001b[1;34m(self, src, kwds)\u001b[0m\n\u001b[0;32m   1360\u001b[0m         \u001b[0mLet\u001b[0m \u001b[0mthe\u001b[0m \u001b[0mreaders\u001b[0m \u001b[0mopen\u001b[0m \u001b[0mIOHanldes\u001b[0m \u001b[0mafter\u001b[0m \u001b[0mthey\u001b[0m \u001b[0mare\u001b[0m \u001b[0mdone\u001b[0m \u001b[1;32mwith\u001b[0m \u001b[0mtheir\u001b[0m \u001b[0mpotential\u001b[0m \u001b[0mraises\u001b[0m\u001b[1;33m.\u001b[0m\u001b[1;33m\u001b[0m\u001b[1;33m\u001b[0m\u001b[0m\n\u001b[0;32m   1361\u001b[0m         \"\"\"\n\u001b[1;32m-> 1362\u001b[1;33m         self.handles = get_handle(\n\u001b[0m\u001b[0;32m   1363\u001b[0m             \u001b[0msrc\u001b[0m\u001b[1;33m,\u001b[0m\u001b[1;33m\u001b[0m\u001b[1;33m\u001b[0m\u001b[0m\n\u001b[0;32m   1364\u001b[0m             \u001b[1;34m\"r\"\u001b[0m\u001b[1;33m,\u001b[0m\u001b[1;33m\u001b[0m\u001b[1;33m\u001b[0m\u001b[0m\n",
      "\u001b[1;32mD:\\Apps\\Anaconda\\lib\\site-packages\\pandas\\io\\common.py\u001b[0m in \u001b[0;36mget_handle\u001b[1;34m(path_or_buf, mode, encoding, compression, memory_map, is_text, errors, storage_options)\u001b[0m\n\u001b[0;32m    640\u001b[0m                 \u001b[0merrors\u001b[0m \u001b[1;33m=\u001b[0m \u001b[1;34m\"replace\"\u001b[0m\u001b[1;33m\u001b[0m\u001b[1;33m\u001b[0m\u001b[0m\n\u001b[0;32m    641\u001b[0m             \u001b[1;31m# Encoding\u001b[0m\u001b[1;33m\u001b[0m\u001b[1;33m\u001b[0m\u001b[1;33m\u001b[0m\u001b[0m\n\u001b[1;32m--> 642\u001b[1;33m             handle = open(\n\u001b[0m\u001b[0;32m    643\u001b[0m                 \u001b[0mhandle\u001b[0m\u001b[1;33m,\u001b[0m\u001b[1;33m\u001b[0m\u001b[1;33m\u001b[0m\u001b[0m\n\u001b[0;32m    644\u001b[0m                 \u001b[0mioargs\u001b[0m\u001b[1;33m.\u001b[0m\u001b[0mmode\u001b[0m\u001b[1;33m,\u001b[0m\u001b[1;33m\u001b[0m\u001b[1;33m\u001b[0m\u001b[0m\n",
      "\u001b[1;31mFileNotFoundError\u001b[0m: [Errno 2] No such file or directory: '../../processed/ITU_database.csv'"
     ]
    }
   ],
   "source": [
    "indicators[2]\n",
    "\n",
    "# load data\n",
    "indicator = indicators[2]\n",
    "print(indicator)\n",
    "bf = bnames[bnames['Indicator']==indicator]['Filename'].values[0]\n",
    "print(bf)\n",
    "\n",
    "df = pd.read_csv('../../processed/{}.csv'.format(bf))"
   ]
  },
  {
   "cell_type": "code",
   "execution_count": null,
   "id": "a9e2685e",
   "metadata": {},
   "outputs": [],
   "source": [
    "df.head(10)\n",
    "\n",
    "# Must convert the string in the dataset to float"
   ]
  },
  {
   "cell_type": "code",
   "execution_count": null,
   "id": "b857d9ec",
   "metadata": {},
   "outputs": [],
   "source": [
    "# create standard columns\n",
    "# df.rename(columns={'COUNTRY/ECONOMY':'Country Name'}, inplace=True)\n",
    "df['higher_is_better'] = True\n",
    "df['Indicator'] = indicator\n",
    "df['data_col'] = df['Female'].to_numeric\n",
    "df['Country Name'] = df['Economy name']\n",
    "df['Year'] = df['year']\n",
    "\n",
    "min_rank = df['data_col'].min()\n",
    "max_rank = df['data_col'].max()\n",
    "\n",
    "# transform 0-1 rank into 1-6\n",
    "df['new_rank_score'] = df['data_col'].apply(lambda row: convert_rank(row,old_min=min_rank,old_max=max_rank))"
   ]
  },
  {
   "cell_type": "code",
   "execution_count": null,
   "id": "96bb0be0",
   "metadata": {},
   "outputs": [],
   "source": [
    "df[['Country Name', 'Year','Indicator','data_col','new_rank_score','higher_is_better']].head(20)"
   ]
  },
  {
   "cell_type": "code",
   "execution_count": null,
   "id": "3b5261e2",
   "metadata": {},
   "outputs": [],
   "source": [
    "### 4. % of population using internet (male)"
   ]
  },
  {
   "cell_type": "code",
   "execution_count": 39,
   "id": "882efd93",
   "metadata": {},
   "outputs": [
    {
     "name": "stdout",
     "output_type": "stream",
     "text": [
      "% of population using internet (male)\n",
      "ITU_database\n"
     ]
    },
    {
     "ename": "FileNotFoundError",
     "evalue": "[Errno 2] No such file or directory: '../../processed/ITU_database.csv'",
     "output_type": "error",
     "traceback": [
      "\u001b[1;31m---------------------------------------------------------------------------\u001b[0m",
      "\u001b[1;31mFileNotFoundError\u001b[0m                         Traceback (most recent call last)",
      "\u001b[1;32m<ipython-input-39-3ed3a3c7c044>\u001b[0m in \u001b[0;36m<module>\u001b[1;34m\u001b[0m\n\u001b[0;32m      7\u001b[0m \u001b[0mprint\u001b[0m\u001b[1;33m(\u001b[0m\u001b[0mbf\u001b[0m\u001b[1;33m)\u001b[0m\u001b[1;33m\u001b[0m\u001b[1;33m\u001b[0m\u001b[0m\n\u001b[0;32m      8\u001b[0m \u001b[1;33m\u001b[0m\u001b[0m\n\u001b[1;32m----> 9\u001b[1;33m \u001b[0mdf\u001b[0m \u001b[1;33m=\u001b[0m \u001b[0mpd\u001b[0m\u001b[1;33m.\u001b[0m\u001b[0mread_csv\u001b[0m\u001b[1;33m(\u001b[0m\u001b[1;34m'../../processed/{}.csv'\u001b[0m\u001b[1;33m.\u001b[0m\u001b[0mformat\u001b[0m\u001b[1;33m(\u001b[0m\u001b[0mbf\u001b[0m\u001b[1;33m)\u001b[0m\u001b[1;33m)\u001b[0m\u001b[1;33m\u001b[0m\u001b[1;33m\u001b[0m\u001b[0m\n\u001b[0m",
      "\u001b[1;32mD:\\Apps\\Anaconda\\lib\\site-packages\\pandas\\io\\parsers.py\u001b[0m in \u001b[0;36mread_csv\u001b[1;34m(filepath_or_buffer, sep, delimiter, header, names, index_col, usecols, squeeze, prefix, mangle_dupe_cols, dtype, engine, converters, true_values, false_values, skipinitialspace, skiprows, skipfooter, nrows, na_values, keep_default_na, na_filter, verbose, skip_blank_lines, parse_dates, infer_datetime_format, keep_date_col, date_parser, dayfirst, cache_dates, iterator, chunksize, compression, thousands, decimal, lineterminator, quotechar, quoting, doublequote, escapechar, comment, encoding, dialect, error_bad_lines, warn_bad_lines, delim_whitespace, low_memory, memory_map, float_precision, storage_options)\u001b[0m\n\u001b[0;32m    608\u001b[0m     \u001b[0mkwds\u001b[0m\u001b[1;33m.\u001b[0m\u001b[0mupdate\u001b[0m\u001b[1;33m(\u001b[0m\u001b[0mkwds_defaults\u001b[0m\u001b[1;33m)\u001b[0m\u001b[1;33m\u001b[0m\u001b[1;33m\u001b[0m\u001b[0m\n\u001b[0;32m    609\u001b[0m \u001b[1;33m\u001b[0m\u001b[0m\n\u001b[1;32m--> 610\u001b[1;33m     \u001b[1;32mreturn\u001b[0m \u001b[0m_read\u001b[0m\u001b[1;33m(\u001b[0m\u001b[0mfilepath_or_buffer\u001b[0m\u001b[1;33m,\u001b[0m \u001b[0mkwds\u001b[0m\u001b[1;33m)\u001b[0m\u001b[1;33m\u001b[0m\u001b[1;33m\u001b[0m\u001b[0m\n\u001b[0m\u001b[0;32m    611\u001b[0m \u001b[1;33m\u001b[0m\u001b[0m\n\u001b[0;32m    612\u001b[0m \u001b[1;33m\u001b[0m\u001b[0m\n",
      "\u001b[1;32mD:\\Apps\\Anaconda\\lib\\site-packages\\pandas\\io\\parsers.py\u001b[0m in \u001b[0;36m_read\u001b[1;34m(filepath_or_buffer, kwds)\u001b[0m\n\u001b[0;32m    460\u001b[0m \u001b[1;33m\u001b[0m\u001b[0m\n\u001b[0;32m    461\u001b[0m     \u001b[1;31m# Create the parser.\u001b[0m\u001b[1;33m\u001b[0m\u001b[1;33m\u001b[0m\u001b[1;33m\u001b[0m\u001b[0m\n\u001b[1;32m--> 462\u001b[1;33m     \u001b[0mparser\u001b[0m \u001b[1;33m=\u001b[0m \u001b[0mTextFileReader\u001b[0m\u001b[1;33m(\u001b[0m\u001b[0mfilepath_or_buffer\u001b[0m\u001b[1;33m,\u001b[0m \u001b[1;33m**\u001b[0m\u001b[0mkwds\u001b[0m\u001b[1;33m)\u001b[0m\u001b[1;33m\u001b[0m\u001b[1;33m\u001b[0m\u001b[0m\n\u001b[0m\u001b[0;32m    463\u001b[0m \u001b[1;33m\u001b[0m\u001b[0m\n\u001b[0;32m    464\u001b[0m     \u001b[1;32mif\u001b[0m \u001b[0mchunksize\u001b[0m \u001b[1;32mor\u001b[0m \u001b[0miterator\u001b[0m\u001b[1;33m:\u001b[0m\u001b[1;33m\u001b[0m\u001b[1;33m\u001b[0m\u001b[0m\n",
      "\u001b[1;32mD:\\Apps\\Anaconda\\lib\\site-packages\\pandas\\io\\parsers.py\u001b[0m in \u001b[0;36m__init__\u001b[1;34m(self, f, engine, **kwds)\u001b[0m\n\u001b[0;32m    817\u001b[0m             \u001b[0mself\u001b[0m\u001b[1;33m.\u001b[0m\u001b[0moptions\u001b[0m\u001b[1;33m[\u001b[0m\u001b[1;34m\"has_index_names\"\u001b[0m\u001b[1;33m]\u001b[0m \u001b[1;33m=\u001b[0m \u001b[0mkwds\u001b[0m\u001b[1;33m[\u001b[0m\u001b[1;34m\"has_index_names\"\u001b[0m\u001b[1;33m]\u001b[0m\u001b[1;33m\u001b[0m\u001b[1;33m\u001b[0m\u001b[0m\n\u001b[0;32m    818\u001b[0m \u001b[1;33m\u001b[0m\u001b[0m\n\u001b[1;32m--> 819\u001b[1;33m         \u001b[0mself\u001b[0m\u001b[1;33m.\u001b[0m\u001b[0m_engine\u001b[0m \u001b[1;33m=\u001b[0m \u001b[0mself\u001b[0m\u001b[1;33m.\u001b[0m\u001b[0m_make_engine\u001b[0m\u001b[1;33m(\u001b[0m\u001b[0mself\u001b[0m\u001b[1;33m.\u001b[0m\u001b[0mengine\u001b[0m\u001b[1;33m)\u001b[0m\u001b[1;33m\u001b[0m\u001b[1;33m\u001b[0m\u001b[0m\n\u001b[0m\u001b[0;32m    820\u001b[0m \u001b[1;33m\u001b[0m\u001b[0m\n\u001b[0;32m    821\u001b[0m     \u001b[1;32mdef\u001b[0m \u001b[0mclose\u001b[0m\u001b[1;33m(\u001b[0m\u001b[0mself\u001b[0m\u001b[1;33m)\u001b[0m\u001b[1;33m:\u001b[0m\u001b[1;33m\u001b[0m\u001b[1;33m\u001b[0m\u001b[0m\n",
      "\u001b[1;32mD:\\Apps\\Anaconda\\lib\\site-packages\\pandas\\io\\parsers.py\u001b[0m in \u001b[0;36m_make_engine\u001b[1;34m(self, engine)\u001b[0m\n\u001b[0;32m   1048\u001b[0m             )\n\u001b[0;32m   1049\u001b[0m         \u001b[1;31m# error: Too many arguments for \"ParserBase\"\u001b[0m\u001b[1;33m\u001b[0m\u001b[1;33m\u001b[0m\u001b[1;33m\u001b[0m\u001b[0m\n\u001b[1;32m-> 1050\u001b[1;33m         \u001b[1;32mreturn\u001b[0m \u001b[0mmapping\u001b[0m\u001b[1;33m[\u001b[0m\u001b[0mengine\u001b[0m\u001b[1;33m]\u001b[0m\u001b[1;33m(\u001b[0m\u001b[0mself\u001b[0m\u001b[1;33m.\u001b[0m\u001b[0mf\u001b[0m\u001b[1;33m,\u001b[0m \u001b[1;33m**\u001b[0m\u001b[0mself\u001b[0m\u001b[1;33m.\u001b[0m\u001b[0moptions\u001b[0m\u001b[1;33m)\u001b[0m  \u001b[1;31m# type: ignore[call-arg]\u001b[0m\u001b[1;33m\u001b[0m\u001b[1;33m\u001b[0m\u001b[0m\n\u001b[0m\u001b[0;32m   1051\u001b[0m \u001b[1;33m\u001b[0m\u001b[0m\n\u001b[0;32m   1052\u001b[0m     \u001b[1;32mdef\u001b[0m \u001b[0m_failover_to_python\u001b[0m\u001b[1;33m(\u001b[0m\u001b[0mself\u001b[0m\u001b[1;33m)\u001b[0m\u001b[1;33m:\u001b[0m\u001b[1;33m\u001b[0m\u001b[1;33m\u001b[0m\u001b[0m\n",
      "\u001b[1;32mD:\\Apps\\Anaconda\\lib\\site-packages\\pandas\\io\\parsers.py\u001b[0m in \u001b[0;36m__init__\u001b[1;34m(self, src, **kwds)\u001b[0m\n\u001b[0;32m   1865\u001b[0m \u001b[1;33m\u001b[0m\u001b[0m\n\u001b[0;32m   1866\u001b[0m         \u001b[1;31m# open handles\u001b[0m\u001b[1;33m\u001b[0m\u001b[1;33m\u001b[0m\u001b[1;33m\u001b[0m\u001b[0m\n\u001b[1;32m-> 1867\u001b[1;33m         \u001b[0mself\u001b[0m\u001b[1;33m.\u001b[0m\u001b[0m_open_handles\u001b[0m\u001b[1;33m(\u001b[0m\u001b[0msrc\u001b[0m\u001b[1;33m,\u001b[0m \u001b[0mkwds\u001b[0m\u001b[1;33m)\u001b[0m\u001b[1;33m\u001b[0m\u001b[1;33m\u001b[0m\u001b[0m\n\u001b[0m\u001b[0;32m   1868\u001b[0m         \u001b[1;32massert\u001b[0m \u001b[0mself\u001b[0m\u001b[1;33m.\u001b[0m\u001b[0mhandles\u001b[0m \u001b[1;32mis\u001b[0m \u001b[1;32mnot\u001b[0m \u001b[1;32mNone\u001b[0m\u001b[1;33m\u001b[0m\u001b[1;33m\u001b[0m\u001b[0m\n\u001b[0;32m   1869\u001b[0m         \u001b[1;32mfor\u001b[0m \u001b[0mkey\u001b[0m \u001b[1;32min\u001b[0m \u001b[1;33m(\u001b[0m\u001b[1;34m\"storage_options\"\u001b[0m\u001b[1;33m,\u001b[0m \u001b[1;34m\"encoding\"\u001b[0m\u001b[1;33m,\u001b[0m \u001b[1;34m\"memory_map\"\u001b[0m\u001b[1;33m,\u001b[0m \u001b[1;34m\"compression\"\u001b[0m\u001b[1;33m)\u001b[0m\u001b[1;33m:\u001b[0m\u001b[1;33m\u001b[0m\u001b[1;33m\u001b[0m\u001b[0m\n",
      "\u001b[1;32mD:\\Apps\\Anaconda\\lib\\site-packages\\pandas\\io\\parsers.py\u001b[0m in \u001b[0;36m_open_handles\u001b[1;34m(self, src, kwds)\u001b[0m\n\u001b[0;32m   1360\u001b[0m         \u001b[0mLet\u001b[0m \u001b[0mthe\u001b[0m \u001b[0mreaders\u001b[0m \u001b[0mopen\u001b[0m \u001b[0mIOHanldes\u001b[0m \u001b[0mafter\u001b[0m \u001b[0mthey\u001b[0m \u001b[0mare\u001b[0m \u001b[0mdone\u001b[0m \u001b[1;32mwith\u001b[0m \u001b[0mtheir\u001b[0m \u001b[0mpotential\u001b[0m \u001b[0mraises\u001b[0m\u001b[1;33m.\u001b[0m\u001b[1;33m\u001b[0m\u001b[1;33m\u001b[0m\u001b[0m\n\u001b[0;32m   1361\u001b[0m         \"\"\"\n\u001b[1;32m-> 1362\u001b[1;33m         self.handles = get_handle(\n\u001b[0m\u001b[0;32m   1363\u001b[0m             \u001b[0msrc\u001b[0m\u001b[1;33m,\u001b[0m\u001b[1;33m\u001b[0m\u001b[1;33m\u001b[0m\u001b[0m\n\u001b[0;32m   1364\u001b[0m             \u001b[1;34m\"r\"\u001b[0m\u001b[1;33m,\u001b[0m\u001b[1;33m\u001b[0m\u001b[1;33m\u001b[0m\u001b[0m\n",
      "\u001b[1;32mD:\\Apps\\Anaconda\\lib\\site-packages\\pandas\\io\\common.py\u001b[0m in \u001b[0;36mget_handle\u001b[1;34m(path_or_buf, mode, encoding, compression, memory_map, is_text, errors, storage_options)\u001b[0m\n\u001b[0;32m    640\u001b[0m                 \u001b[0merrors\u001b[0m \u001b[1;33m=\u001b[0m \u001b[1;34m\"replace\"\u001b[0m\u001b[1;33m\u001b[0m\u001b[1;33m\u001b[0m\u001b[0m\n\u001b[0;32m    641\u001b[0m             \u001b[1;31m# Encoding\u001b[0m\u001b[1;33m\u001b[0m\u001b[1;33m\u001b[0m\u001b[1;33m\u001b[0m\u001b[0m\n\u001b[1;32m--> 642\u001b[1;33m             handle = open(\n\u001b[0m\u001b[0;32m    643\u001b[0m                 \u001b[0mhandle\u001b[0m\u001b[1;33m,\u001b[0m\u001b[1;33m\u001b[0m\u001b[1;33m\u001b[0m\u001b[0m\n\u001b[0;32m    644\u001b[0m                 \u001b[0mioargs\u001b[0m\u001b[1;33m.\u001b[0m\u001b[0mmode\u001b[0m\u001b[1;33m,\u001b[0m\u001b[1;33m\u001b[0m\u001b[1;33m\u001b[0m\u001b[0m\n",
      "\u001b[1;31mFileNotFoundError\u001b[0m: [Errno 2] No such file or directory: '../../processed/ITU_database.csv'"
     ]
    }
   ],
   "source": [
    "indicators[3]\n",
    "\n",
    "# load data\n",
    "indicator = indicators[3]\n",
    "print(indicator)\n",
    "bf = bnames[bnames['Indicator']==indicator]['Filename'].values[0]\n",
    "print(bf)\n",
    "\n",
    "df = pd.read_csv('../../processed/{}.csv'.format(bf))"
   ]
  },
  {
   "cell_type": "code",
   "execution_count": null,
   "id": "96fd455e",
   "metadata": {},
   "outputs": [],
   "source": [
    "df.head(10)\n",
    "\n",
    "# Must convert the string in the dataset to float"
   ]
  },
  {
   "cell_type": "code",
   "execution_count": null,
   "id": "aa634418",
   "metadata": {},
   "outputs": [],
   "source": [
    "### 5. SDG 4.4 Digital literacy data"
   ]
  },
  {
   "cell_type": "code",
   "execution_count": null,
   "id": "31ad85d5",
   "metadata": {},
   "outputs": [],
   "source": [
    "indicators[4]\n",
    "\n",
    "# load data\n",
    "indicator = indicators[4]\n",
    "print(indicator)\n",
    "bf = bnames[bnames['Indicator']==indicator]['Filename'].values[0]\n",
    "print(bf)\n",
    "\n",
    "df = pd.read_csv('../../processed/{}.csv'.format(bf))\n",
    "\n",
    "# The indicators are all jumbled, need to unclutter this"
   ]
  },
  {
   "cell_type": "code",
   "execution_count": null,
   "id": "82459460",
   "metadata": {},
   "outputs": [],
   "source": [
    "df.head(15)"
   ]
  },
  {
   "cell_type": "code",
   "execution_count": null,
   "id": "6d25ae30",
   "metadata": {},
   "outputs": [],
   "source": [
    "\n",
    "\n",
    "# create standard columns\n",
    "# df.rename(columns={'COUNTRY/ECONOMY':'Country Name'}, inplace=True)\n",
    "df['higher_is_better'] = True\n",
    "df['Indicator'] = indicator\n",
    "df['data_col'] = df['Value']\n",
    "df['Country Name'] = df['Country']\n",
    "df['Year'] = df['Time']\n",
    "\n",
    "min_rank = df['data_col'].min()\n",
    "max_rank = df['data_col'].max()\n",
    "\n",
    "# transform 0-1 rank into 1-6\n",
    "df['new_rank_score'] = df['data_col'].apply(lambda row: convert_rank(row,old_min=min_rank,old_max=max_rank))"
   ]
  },
  {
   "cell_type": "code",
   "execution_count": null,
   "id": "2c3896dc",
   "metadata": {},
   "outputs": [],
   "source": []
  },
  {
   "cell_type": "code",
   "execution_count": 41,
   "id": "b8632136",
   "metadata": {},
   "outputs": [],
   "source": [
    "### 6. UNDP Human Development Index (HDI)"
   ]
  },
  {
   "cell_type": "code",
   "execution_count": 44,
   "id": "bd353d40",
   "metadata": {},
   "outputs": [
    {
     "name": "stdout",
     "output_type": "stream",
     "text": [
      "UNDP Human Development Index (HDI) \n",
      "undp_human_developmnt\n"
     ]
    },
    {
     "ename": "FileNotFoundError",
     "evalue": "[Errno 2] No such file or directory: '../../processed/undp_human_developmnt.xlsx'",
     "output_type": "error",
     "traceback": [
      "\u001b[1;31m---------------------------------------------------------------------------\u001b[0m",
      "\u001b[1;31mFileNotFoundError\u001b[0m                         Traceback (most recent call last)",
      "\u001b[1;32m<ipython-input-44-7e264d8fef56>\u001b[0m in \u001b[0;36m<module>\u001b[1;34m\u001b[0m\n\u001b[0;32m      7\u001b[0m \u001b[0mprint\u001b[0m\u001b[1;33m(\u001b[0m\u001b[0mbf\u001b[0m\u001b[1;33m)\u001b[0m\u001b[1;33m\u001b[0m\u001b[1;33m\u001b[0m\u001b[0m\n\u001b[0;32m      8\u001b[0m \u001b[1;33m\u001b[0m\u001b[0m\n\u001b[1;32m----> 9\u001b[1;33m \u001b[0mdf\u001b[0m \u001b[1;33m=\u001b[0m \u001b[0mpd\u001b[0m\u001b[1;33m.\u001b[0m\u001b[0mread_excel\u001b[0m\u001b[1;33m(\u001b[0m\u001b[1;34m'../../processed/{}.xlsx'\u001b[0m\u001b[1;33m.\u001b[0m\u001b[0mformat\u001b[0m\u001b[1;33m(\u001b[0m\u001b[0mbf\u001b[0m\u001b[1;33m)\u001b[0m\u001b[1;33m)\u001b[0m\u001b[1;33m\u001b[0m\u001b[1;33m\u001b[0m\u001b[0m\n\u001b[0m",
      "\u001b[1;32mD:\\Apps\\Anaconda\\lib\\site-packages\\pandas\\util\\_decorators.py\u001b[0m in \u001b[0;36mwrapper\u001b[1;34m(*args, **kwargs)\u001b[0m\n\u001b[0;32m    297\u001b[0m                 )\n\u001b[0;32m    298\u001b[0m                 \u001b[0mwarnings\u001b[0m\u001b[1;33m.\u001b[0m\u001b[0mwarn\u001b[0m\u001b[1;33m(\u001b[0m\u001b[0mmsg\u001b[0m\u001b[1;33m,\u001b[0m \u001b[0mFutureWarning\u001b[0m\u001b[1;33m,\u001b[0m \u001b[0mstacklevel\u001b[0m\u001b[1;33m=\u001b[0m\u001b[0mstacklevel\u001b[0m\u001b[1;33m)\u001b[0m\u001b[1;33m\u001b[0m\u001b[1;33m\u001b[0m\u001b[0m\n\u001b[1;32m--> 299\u001b[1;33m             \u001b[1;32mreturn\u001b[0m \u001b[0mfunc\u001b[0m\u001b[1;33m(\u001b[0m\u001b[1;33m*\u001b[0m\u001b[0margs\u001b[0m\u001b[1;33m,\u001b[0m \u001b[1;33m**\u001b[0m\u001b[0mkwargs\u001b[0m\u001b[1;33m)\u001b[0m\u001b[1;33m\u001b[0m\u001b[1;33m\u001b[0m\u001b[0m\n\u001b[0m\u001b[0;32m    300\u001b[0m \u001b[1;33m\u001b[0m\u001b[0m\n\u001b[0;32m    301\u001b[0m         \u001b[1;32mreturn\u001b[0m \u001b[0mwrapper\u001b[0m\u001b[1;33m\u001b[0m\u001b[1;33m\u001b[0m\u001b[0m\n",
      "\u001b[1;32mD:\\Apps\\Anaconda\\lib\\site-packages\\pandas\\io\\excel\\_base.py\u001b[0m in \u001b[0;36mread_excel\u001b[1;34m(io, sheet_name, header, names, index_col, usecols, squeeze, dtype, engine, converters, true_values, false_values, skiprows, nrows, na_values, keep_default_na, na_filter, verbose, parse_dates, date_parser, thousands, comment, skipfooter, convert_float, mangle_dupe_cols, storage_options)\u001b[0m\n\u001b[0;32m    334\u001b[0m     \u001b[1;32mif\u001b[0m \u001b[1;32mnot\u001b[0m \u001b[0misinstance\u001b[0m\u001b[1;33m(\u001b[0m\u001b[0mio\u001b[0m\u001b[1;33m,\u001b[0m \u001b[0mExcelFile\u001b[0m\u001b[1;33m)\u001b[0m\u001b[1;33m:\u001b[0m\u001b[1;33m\u001b[0m\u001b[1;33m\u001b[0m\u001b[0m\n\u001b[0;32m    335\u001b[0m         \u001b[0mshould_close\u001b[0m \u001b[1;33m=\u001b[0m \u001b[1;32mTrue\u001b[0m\u001b[1;33m\u001b[0m\u001b[1;33m\u001b[0m\u001b[0m\n\u001b[1;32m--> 336\u001b[1;33m         \u001b[0mio\u001b[0m \u001b[1;33m=\u001b[0m \u001b[0mExcelFile\u001b[0m\u001b[1;33m(\u001b[0m\u001b[0mio\u001b[0m\u001b[1;33m,\u001b[0m \u001b[0mstorage_options\u001b[0m\u001b[1;33m=\u001b[0m\u001b[0mstorage_options\u001b[0m\u001b[1;33m,\u001b[0m \u001b[0mengine\u001b[0m\u001b[1;33m=\u001b[0m\u001b[0mengine\u001b[0m\u001b[1;33m)\u001b[0m\u001b[1;33m\u001b[0m\u001b[1;33m\u001b[0m\u001b[0m\n\u001b[0m\u001b[0;32m    337\u001b[0m     \u001b[1;32melif\u001b[0m \u001b[0mengine\u001b[0m \u001b[1;32mand\u001b[0m \u001b[0mengine\u001b[0m \u001b[1;33m!=\u001b[0m \u001b[0mio\u001b[0m\u001b[1;33m.\u001b[0m\u001b[0mengine\u001b[0m\u001b[1;33m:\u001b[0m\u001b[1;33m\u001b[0m\u001b[1;33m\u001b[0m\u001b[0m\n\u001b[0;32m    338\u001b[0m         raise ValueError(\n",
      "\u001b[1;32mD:\\Apps\\Anaconda\\lib\\site-packages\\pandas\\io\\excel\\_base.py\u001b[0m in \u001b[0;36m__init__\u001b[1;34m(self, path_or_buffer, engine, storage_options)\u001b[0m\n\u001b[0;32m   1069\u001b[0m                 \u001b[0mext\u001b[0m \u001b[1;33m=\u001b[0m \u001b[1;34m\"xls\"\u001b[0m\u001b[1;33m\u001b[0m\u001b[1;33m\u001b[0m\u001b[0m\n\u001b[0;32m   1070\u001b[0m             \u001b[1;32melse\u001b[0m\u001b[1;33m:\u001b[0m\u001b[1;33m\u001b[0m\u001b[1;33m\u001b[0m\u001b[0m\n\u001b[1;32m-> 1071\u001b[1;33m                 ext = inspect_excel_format(\n\u001b[0m\u001b[0;32m   1072\u001b[0m                     \u001b[0mcontent\u001b[0m\u001b[1;33m=\u001b[0m\u001b[0mpath_or_buffer\u001b[0m\u001b[1;33m,\u001b[0m \u001b[0mstorage_options\u001b[0m\u001b[1;33m=\u001b[0m\u001b[0mstorage_options\u001b[0m\u001b[1;33m\u001b[0m\u001b[1;33m\u001b[0m\u001b[0m\n\u001b[0;32m   1073\u001b[0m                 )\n",
      "\u001b[1;32mD:\\Apps\\Anaconda\\lib\\site-packages\\pandas\\io\\excel\\_base.py\u001b[0m in \u001b[0;36minspect_excel_format\u001b[1;34m(path, content, storage_options)\u001b[0m\n\u001b[0;32m    947\u001b[0m     \u001b[1;32massert\u001b[0m \u001b[0mcontent_or_path\u001b[0m \u001b[1;32mis\u001b[0m \u001b[1;32mnot\u001b[0m \u001b[1;32mNone\u001b[0m\u001b[1;33m\u001b[0m\u001b[1;33m\u001b[0m\u001b[0m\n\u001b[0;32m    948\u001b[0m \u001b[1;33m\u001b[0m\u001b[0m\n\u001b[1;32m--> 949\u001b[1;33m     with get_handle(\n\u001b[0m\u001b[0;32m    950\u001b[0m         \u001b[0mcontent_or_path\u001b[0m\u001b[1;33m,\u001b[0m \u001b[1;34m\"rb\"\u001b[0m\u001b[1;33m,\u001b[0m \u001b[0mstorage_options\u001b[0m\u001b[1;33m=\u001b[0m\u001b[0mstorage_options\u001b[0m\u001b[1;33m,\u001b[0m \u001b[0mis_text\u001b[0m\u001b[1;33m=\u001b[0m\u001b[1;32mFalse\u001b[0m\u001b[1;33m\u001b[0m\u001b[1;33m\u001b[0m\u001b[0m\n\u001b[0;32m    951\u001b[0m     ) as handle:\n",
      "\u001b[1;32mD:\\Apps\\Anaconda\\lib\\site-packages\\pandas\\io\\common.py\u001b[0m in \u001b[0;36mget_handle\u001b[1;34m(path_or_buf, mode, encoding, compression, memory_map, is_text, errors, storage_options)\u001b[0m\n\u001b[0;32m    649\u001b[0m         \u001b[1;32melse\u001b[0m\u001b[1;33m:\u001b[0m\u001b[1;33m\u001b[0m\u001b[1;33m\u001b[0m\u001b[0m\n\u001b[0;32m    650\u001b[0m             \u001b[1;31m# Binary mode\u001b[0m\u001b[1;33m\u001b[0m\u001b[1;33m\u001b[0m\u001b[1;33m\u001b[0m\u001b[0m\n\u001b[1;32m--> 651\u001b[1;33m             \u001b[0mhandle\u001b[0m \u001b[1;33m=\u001b[0m \u001b[0mopen\u001b[0m\u001b[1;33m(\u001b[0m\u001b[0mhandle\u001b[0m\u001b[1;33m,\u001b[0m \u001b[0mioargs\u001b[0m\u001b[1;33m.\u001b[0m\u001b[0mmode\u001b[0m\u001b[1;33m)\u001b[0m\u001b[1;33m\u001b[0m\u001b[1;33m\u001b[0m\u001b[0m\n\u001b[0m\u001b[0;32m    652\u001b[0m         \u001b[0mhandles\u001b[0m\u001b[1;33m.\u001b[0m\u001b[0mappend\u001b[0m\u001b[1;33m(\u001b[0m\u001b[0mhandle\u001b[0m\u001b[1;33m)\u001b[0m\u001b[1;33m\u001b[0m\u001b[1;33m\u001b[0m\u001b[0m\n\u001b[0;32m    653\u001b[0m \u001b[1;33m\u001b[0m\u001b[0m\n",
      "\u001b[1;31mFileNotFoundError\u001b[0m: [Errno 2] No such file or directory: '../../processed/undp_human_developmnt.xlsx'"
     ]
    }
   ],
   "source": [
    "indicators[5]\n",
    "\n",
    "# load data\n",
    "indicator = indicators[5]\n",
    "print(indicator)\n",
    "bf = bnames[bnames['Indicator']==indicator]['Filename'].values[0]\n",
    "print(bf)\n",
    "\n",
    "df = pd.read_excel('../../processed/{}.xlsx'.format(bf))"
   ]
  },
  {
   "cell_type": "code",
   "execution_count": 43,
   "id": "b4567edd",
   "metadata": {},
   "outputs": [
    {
     "data": {
      "text/html": [
       "<div>\n",
       "<style scoped>\n",
       "    .dataframe tbody tr th:only-of-type {\n",
       "        vertical-align: middle;\n",
       "    }\n",
       "\n",
       "    .dataframe tbody tr th {\n",
       "        vertical-align: top;\n",
       "    }\n",
       "\n",
       "    .dataframe thead th {\n",
       "        text-align: right;\n",
       "    }\n",
       "</style>\n",
       "<table border=\"1\" class=\"dataframe\">\n",
       "  <thead>\n",
       "    <tr style=\"text-align: right;\">\n",
       "      <th></th>\n",
       "      <th>Table 6. Multidimensional Poverty Index: developing countries</th>\n",
       "      <th>Unnamed: 1</th>\n",
       "      <th>data_country</th>\n",
       "      <th>data_year</th>\n",
       "    </tr>\n",
       "  </thead>\n",
       "  <tbody>\n",
       "    <tr>\n",
       "      <th>0</th>\n",
       "      <td>NaN</td>\n",
       "      <td>NaN</td>\n",
       "      <td>NaN</td>\n",
       "      <td>NaN</td>\n",
       "    </tr>\n",
       "    <tr>\n",
       "      <th>1</th>\n",
       "      <td>Human development indicators</td>\n",
       "      <td>NaN</td>\n",
       "      <td>NaN</td>\n",
       "      <td>NaN</td>\n",
       "    </tr>\n",
       "    <tr>\n",
       "      <th>2</th>\n",
       "      <td>Table 7. Population trends</td>\n",
       "      <td>NaN</td>\n",
       "      <td>NaN</td>\n",
       "      <td>NaN</td>\n",
       "    </tr>\n",
       "    <tr>\n",
       "      <th>3</th>\n",
       "      <td>Table 8. Health outcomes</td>\n",
       "      <td>NaN</td>\n",
       "      <td>NaN</td>\n",
       "      <td>NaN</td>\n",
       "    </tr>\n",
       "    <tr>\n",
       "      <th>4</th>\n",
       "      <td>Table 9. Education achievements</td>\n",
       "      <td>NaN</td>\n",
       "      <td>NaN</td>\n",
       "      <td>NaN</td>\n",
       "    </tr>\n",
       "    <tr>\n",
       "      <th>5</th>\n",
       "      <td>Table 10. National income and composition of r...</td>\n",
       "      <td>NaN</td>\n",
       "      <td>NaN</td>\n",
       "      <td>NaN</td>\n",
       "    </tr>\n",
       "    <tr>\n",
       "      <th>6</th>\n",
       "      <td>Table 11. Work and employment</td>\n",
       "      <td>NaN</td>\n",
       "      <td>NaN</td>\n",
       "      <td>NaN</td>\n",
       "    </tr>\n",
       "    <tr>\n",
       "      <th>7</th>\n",
       "      <td>Table 12. Human security</td>\n",
       "      <td>NaN</td>\n",
       "      <td>NaN</td>\n",
       "      <td>NaN</td>\n",
       "    </tr>\n",
       "    <tr>\n",
       "      <th>8</th>\n",
       "      <td>Table 13. Human and capital mobility</td>\n",
       "      <td>NaN</td>\n",
       "      <td>NaN</td>\n",
       "      <td>NaN</td>\n",
       "    </tr>\n",
       "    <tr>\n",
       "      <th>9</th>\n",
       "      <td>Table 14. Supplementary indicators: perception...</td>\n",
       "      <td>NaN</td>\n",
       "      <td>NaN</td>\n",
       "      <td>NaN</td>\n",
       "    </tr>\n",
       "    <tr>\n",
       "      <th>10</th>\n",
       "      <td>Table 15. Status of fundamental human rights t...</td>\n",
       "      <td>NaN</td>\n",
       "      <td>NaN</td>\n",
       "      <td>NaN</td>\n",
       "    </tr>\n",
       "    <tr>\n",
       "      <th>11</th>\n",
       "      <td>NaN</td>\n",
       "      <td>NaN</td>\n",
       "      <td>NaN</td>\n",
       "      <td>NaN</td>\n",
       "    </tr>\n",
       "    <tr>\n",
       "      <th>12</th>\n",
       "      <td>Human development dashboards</td>\n",
       "      <td>NaN</td>\n",
       "      <td>NaN</td>\n",
       "      <td>NaN</td>\n",
       "    </tr>\n",
       "    <tr>\n",
       "      <th>13</th>\n",
       "      <td>Dashboard 1. Quality of human development</td>\n",
       "      <td>NaN</td>\n",
       "      <td>NaN</td>\n",
       "      <td>NaN</td>\n",
       "    </tr>\n",
       "    <tr>\n",
       "      <th>14</th>\n",
       "      <td>Dashboard 2. Life-course gender gap</td>\n",
       "      <td>NaN</td>\n",
       "      <td>NaN</td>\n",
       "      <td>NaN</td>\n",
       "    </tr>\n",
       "  </tbody>\n",
       "</table>\n",
       "</div>"
      ],
      "text/plain": [
       "   Table 6. Multidimensional Poverty Index: developing countries  Unnamed: 1  \\\n",
       "0                                                 NaN                    NaN   \n",
       "1                        Human development indicators                    NaN   \n",
       "2                          Table 7. Population trends                    NaN   \n",
       "3                            Table 8. Health outcomes                    NaN   \n",
       "4                     Table 9. Education achievements                    NaN   \n",
       "5   Table 10. National income and composition of r...                    NaN   \n",
       "6                       Table 11. Work and employment                    NaN   \n",
       "7                            Table 12. Human security                    NaN   \n",
       "8                Table 13. Human and capital mobility                    NaN   \n",
       "9   Table 14. Supplementary indicators: perception...                    NaN   \n",
       "10  Table 15. Status of fundamental human rights t...                    NaN   \n",
       "11                                                NaN                    NaN   \n",
       "12                       Human development dashboards                    NaN   \n",
       "13          Dashboard 1. Quality of human development                    NaN   \n",
       "14                Dashboard 2. Life-course gender gap                    NaN   \n",
       "\n",
       "    data_country  data_year  \n",
       "0            NaN        NaN  \n",
       "1            NaN        NaN  \n",
       "2            NaN        NaN  \n",
       "3            NaN        NaN  \n",
       "4            NaN        NaN  \n",
       "5            NaN        NaN  \n",
       "6            NaN        NaN  \n",
       "7            NaN        NaN  \n",
       "8            NaN        NaN  \n",
       "9            NaN        NaN  \n",
       "10           NaN        NaN  \n",
       "11           NaN        NaN  \n",
       "12           NaN        NaN  \n",
       "13           NaN        NaN  \n",
       "14           NaN        NaN  "
      ]
     },
     "execution_count": 43,
     "metadata": {},
     "output_type": "execute_result"
    }
   ],
   "source": [
    "df.head(15)\n",
    "# Need to move the top row down\n",
    "# Maybe something is wrong with the link although the one in data manifest works perfectly"
   ]
  },
  {
   "cell_type": "code",
   "execution_count": null,
   "id": "fd77c588",
   "metadata": {},
   "outputs": [],
   "source": [
    "### 7. Facebook Social Connectedness Index"
   ]
  },
  {
   "cell_type": "code",
   "execution_count": null,
   "id": "4912076a",
   "metadata": {
    "scrolled": true
   },
   "outputs": [],
   "source": [
    "indicators[6]\n",
    "\n",
    "# load data\n",
    "indicator = indicators[6]\n",
    "print(indicator)\n",
    "bf = bnames[bnames['Indicator']==indicator]['Filename'].values[0]\n",
    "print(bf)\n",
    "\n",
    "df = pd.read_csv('../../processed/{}.csv'.format(bf))"
   ]
  },
  {
   "cell_type": "code",
   "execution_count": null,
   "id": "c62a705b",
   "metadata": {},
   "outputs": [],
   "source": [
    "df.head(25)"
   ]
  },
  {
   "cell_type": "code",
   "execution_count": null,
   "id": "61a9661d",
   "metadata": {},
   "outputs": [],
   "source": [
    "# create standard columns\n",
    "# df.rename(columns={'COUNTRY/ECONOMY':'Country Name'}, inplace=True)\n",
    "df['higher_is_better'] = True\n",
    "df['Indicator'] = indicator\n",
    "df['data_col'] = df['scaled_sci'] \n",
    "df['Country Name'] = df['fr_loc']\n",
    "\n",
    "min_rank = df['data_col'].min()\n",
    "max_rank = df['data_col'].max()\n",
    "\n",
    "# transform 0-1 rank into 1-6\n",
    "df['new_rank_score'] = df['data_col'].apply(lambda row: convert_rank(row,old_min=min_rank,old_max=max_rank))"
   ]
  },
  {
   "cell_type": "code",
   "execution_count": null,
   "id": "e93c0e06",
   "metadata": {},
   "outputs": [],
   "source": [
    "df[['Country Name','Indicator','data_col','new_rank_score','higher_is_better']].head(30)\n",
    "\n",
    "# Need to find a way to convert ISO codes to full country names"
   ]
  },
  {
   "cell_type": "code",
   "execution_count": null,
   "id": "4a0c1492",
   "metadata": {},
   "outputs": [],
   "source": [
    "### 8. Share of individuals using the Internet to interact with officials"
   ]
  },
  {
   "cell_type": "code",
   "execution_count": null,
   "id": "14553826",
   "metadata": {},
   "outputs": [],
   "source": [
    "indicators[7]\n",
    "\n",
    "# load data\n",
    "indicator = indicators[7]\n",
    "print(indicator)\n",
    "bf = bnames[bnames['Indicator']==indicator]['Filename'].values[0]\n",
    "print(bf)\n",
    "\n",
    "df = pd.read_csv('../../processed/{}.csv'.format(bf))"
   ]
  },
  {
   "cell_type": "code",
   "execution_count": null,
   "id": "de59fdbd",
   "metadata": {},
   "outputs": [],
   "source": [
    "df.head(15)"
   ]
  },
  {
   "cell_type": "code",
   "execution_count": null,
   "id": "f0a1a088",
   "metadata": {},
   "outputs": [],
   "source": [
    "# filter most recent year\n",
    "df = df[(df.Time==2019)]\n",
    "df = df[(df.Indicator=='Individuals using the Internet for visiting or interacting with public authorities websites - last 12 m (%)')]\n",
    "\n",
    "# create standard columns\n",
    "# df.rename(columns={'COUNTRY/ECONOMY':'Country Name'}, inplace=True)\n",
    "df['higher_is_better'] = True\n",
    "df['Indicator'] = indicator\n",
    "df['data_col'] = df['Value'] \n",
    "df['Year'] = df['Time']\n",
    "df['Country Name'] = df['Country']\n",
    "\n",
    "min_rank = df['data_col'].min()\n",
    "max_rank = df['data_col'].max()\n",
    "\n",
    "# transform 0-1 rank into 1-6\n",
    "df['new_rank_score'] = df['data_col'].apply(lambda row: convert_rank(row,old_min=min_rank,old_max=max_rank))"
   ]
  },
  {
   "cell_type": "code",
   "execution_count": null,
   "id": "da79adeb",
   "metadata": {},
   "outputs": [],
   "source": [
    "df[['Country Name', 'Year','Indicator','data_col','new_rank_score','higher_is_better']].head(20)\n"
   ]
  },
  {
   "cell_type": "code",
   "execution_count": null,
   "id": "22d880df",
   "metadata": {},
   "outputs": [],
   "source": [
    "### 9. Level of satisfaction for online public service"
   ]
  },
  {
   "cell_type": "code",
   "execution_count": null,
   "id": "0c03d87d",
   "metadata": {},
   "outputs": [],
   "source": [
    "indicators[8]\n",
    "\n",
    "# load data\n",
    "indicator = indicators[8]\n",
    "print(indicator)\n",
    "bf = bnames[bnames['Indicator']==indicator]['Filename'].values[0]\n",
    "print(bf)\n",
    "\n",
    "df = pd.read_csv('../../processed/{}.csv'.format(bf))"
   ]
  },
  {
   "cell_type": "code",
   "execution_count": null,
   "id": "2e41253f",
   "metadata": {},
   "outputs": [],
   "source": [
    "df.head(10)"
   ]
  },
  {
   "cell_type": "code",
   "execution_count": null,
   "id": "13a03b9d",
   "metadata": {},
   "outputs": [],
   "source": [
    "# create standard columns\n",
    "# df.rename(columns={'COUNTRY/ECONOMY':'Country Name'}, inplace=True)\n",
    "df['higher_is_better'] = True\n",
    "df['Indicator'] = indicator\n",
    "df['data_col'] = df['Net Perception (%)'] \n",
    "df['Year'] = 2020\n",
    "df['Country Name'] = df['Country']\n",
    "\n",
    "min_rank = df['data_col'].min()\n",
    "max_rank = df['data_col'].max()\n",
    "\n",
    "# transform 0-1 rank into 1-6\n",
    "df['new_rank_score'] = df['data_col'].apply(lambda row: convert_rank(row,old_min=min_rank,old_max=max_rank))\n",
    "\n",
    "# Need to replace the % mark "
   ]
  },
  {
   "cell_type": "code",
   "execution_count": null,
   "id": "2ba13aab",
   "metadata": {},
   "outputs": [],
   "source": [
    "df[['Country Name', 'Year','Indicator','data_col','new_rank_score','higher_is_better']].head(20)"
   ]
  },
  {
   "cell_type": "code",
   "execution_count": null,
   "id": "3b3ed351",
   "metadata": {},
   "outputs": [],
   "source": [
    "### 10. Number of mobile apps available in national language"
   ]
  },
  {
   "cell_type": "code",
   "execution_count": null,
   "id": "4d6c67d1",
   "metadata": {},
   "outputs": [],
   "source": [
    "indicators[9]\n",
    "\n",
    "# load data\n",
    "indicator = indicators[9]\n",
    "print(indicator)\n",
    "bf = bnames[bnames['Indicator']==indicator]['Filename'].values[0]\n",
    "print(bf)\n",
    "\n",
    "df = pd.read_csv('../../processed/{}.csv'.format(bf))"
   ]
  },
  {
   "cell_type": "code",
   "execution_count": null,
   "id": "19c0abcd",
   "metadata": {},
   "outputs": [],
   "source": [
    "df.head(15)"
   ]
  },
  {
   "cell_type": "code",
   "execution_count": null,
   "id": "1bd3961a",
   "metadata": {},
   "outputs": [],
   "source": [
    "# filter most recent year and global value\n",
    "df = df[(df.Year==2019)]\n",
    "\n",
    "# create standard columns\n",
    "# df.rename(columns={'COUNTRY/ECONOMY':'Country Name'}, inplace=True)\n",
    "df['higher_is_better'] = True\n",
    "df['Indicator'] = indicator\n",
    "df['data_col'] = df['Number of apps in national language'] \n",
    "df['Country Name'] = df['Country']\n",
    "\n",
    "min_rank = df['data_col'].min()\n",
    "max_rank = df['data_col'].max()\n",
    "\n",
    "# transform 0-1 rank into 1-6\n",
    "df['new_rank_score'] = df['data_col'].apply(lambda row: convert_rank(row,old_min=min_rank,old_max=max_rank))"
   ]
  },
  {
   "cell_type": "code",
   "execution_count": null,
   "id": "66310f01",
   "metadata": {},
   "outputs": [],
   "source": [
    "df[['Country Name', 'Year','Indicator','data_col','new_rank_score','higher_is_better']].head(20)"
   ]
  },
  {
   "cell_type": "code",
   "execution_count": null,
   "id": "473d39f7",
   "metadata": {},
   "outputs": [],
   "source": [
    "### 11. Device Addiction (time of use on internet)"
   ]
  },
  {
   "cell_type": "code",
   "execution_count": null,
   "id": "590100c2",
   "metadata": {},
   "outputs": [],
   "source": [
    "indicators[10]\n",
    "\n",
    "# load data\n",
    "indicator = indicators[10]\n",
    "print(indicator)\n",
    "bf = bnames[bnames['Indicator']==indicator]['Filename'].values[0]\n",
    "print(bf)\n",
    "\n",
    "df = pd.read_csv('../../processed/{}.csv'.format(bf))"
   ]
  },
  {
   "cell_type": "code",
   "execution_count": null,
   "id": "e5602bfa",
   "metadata": {},
   "outputs": [],
   "source": [
    "df.head(15)\n",
    "\n",
    "# Need to move the row further down"
   ]
  },
  {
   "cell_type": "code",
   "execution_count": null,
   "id": "b51f0932",
   "metadata": {},
   "outputs": [],
   "source": [
    "# create standard columns\n",
    "# df.rename(columns={'COUNTRY/ECONOMY':'Country Name'}, inplace=True)\n",
    "df['higher_is_better'] = True\n",
    "df['Indicator'] = indicator\n",
    "df['data_col'] = df['Average daily time spent using the internet by online users worldwide as of 3rd quarter 2020, by region (in hours.minutes)'] \n",
    "df['Country Name'] = df['Country']\n",
    "df['Year'] = 2020\n",
    "\n",
    "min_rank = df['data_col'].min()\n",
    "max_rank = df['data_col'].max()\n",
    "\n",
    "# transform 0-1 rank into 1-6\n",
    "df['new_rank_score'] = df['data_col'].apply(lambda row: convert_rank(row,old_min=min_rank,old_max=max_rank))"
   ]
  },
  {
   "cell_type": "code",
   "execution_count": null,
   "id": "cad260ba",
   "metadata": {},
   "outputs": [],
   "source": [
    "df[['Country Name', 'Year','Indicator','data_col','new_rank_score','higher_is_better']].head(20)"
   ]
  },
  {
   "cell_type": "code",
   "execution_count": null,
   "id": "b2d5def8",
   "metadata": {},
   "outputs": [],
   "source": [
    "### 12. Gross National Wellbeing"
   ]
  },
  {
   "cell_type": "code",
   "execution_count": null,
   "id": "58701116",
   "metadata": {},
   "outputs": [],
   "source": [
    "indicators[11]\n",
    "\n",
    "# load data\n",
    "indicator = indicators[11]\n",
    "print(indicator)\n",
    "bf = bnames[bnames['Indicator']==indicator]['Filename'].values[0]\n",
    "print(bf)\n",
    "\n",
    "df = pd.read_csv('../../processed/{}.csv'.format(bf))\n",
    "\n",
    "# happiness_score is missing looks like the problem is in a redundant space before it in the filename matching"
   ]
  },
  {
   "cell_type": "code",
   "execution_count": null,
   "id": "4e27842f",
   "metadata": {},
   "outputs": [],
   "source": [
    "df.head(15)"
   ]
  },
  {
   "cell_type": "code",
   "execution_count": null,
   "id": "154d358f",
   "metadata": {},
   "outputs": [],
   "source": [
    "# create standard columns\n",
    "# df.rename(columns={'COUNTRY/ECONOMY':'Country Name'}, inplace=True)\n",
    "df['higher_is_better'] = True\n",
    "df['Indicator'] = indicator\n",
    "df['data_col'] = df['VALUE'] \n",
    "df['Country Name'] = df['COUNTRY/ECONOMY']\n",
    "df['Year'] = 2019\n",
    "\n",
    "min_rank = df['data_col'].min()\n",
    "max_rank = df['data_col'].max()\n",
    "\n",
    "# transform 0-1 rank into 1-6\n",
    "df['new_rank_score'] = df['data_col'].apply(lambda row: convert_rank(row,old_min=min_rank,old_max=max_rank))"
   ]
  },
  {
   "cell_type": "code",
   "execution_count": null,
   "id": "c51fe389",
   "metadata": {},
   "outputs": [],
   "source": [
    "df[['Country Name', 'Year','Indicator','data_col','new_rank_score','higher_is_better']].head(20)"
   ]
  },
  {
   "cell_type": "code",
   "execution_count": null,
   "id": "45631b47",
   "metadata": {},
   "outputs": [],
   "source": [
    "# create standard columns\n",
    "# df.rename(columns={'COUNTRY/ECONOMY':'Country Name'}, inplace=True)\n",
    "df['higher_is_better'] = True\n",
    "df['Indicator'] = indicator\n",
    "df['data_col'] = df['Average daily time spent using the internet by online users worldwide as of 3rd quarter 2020, by region (in hours.minutes)'] \n",
    "df['Country Name'] = df['Country']\n",
    "df['Year'] = 2020\n",
    "\n",
    "min_rank = df['data_col'].min()\n",
    "max_rank = df['data_col'].max()\n",
    "\n",
    "# transform 0-1 rank into 1-6\n",
    "df['new_rank_score'] = df['data_col'].apply(lambda row: convert_rank(row,old_min=min_rank,old_max=max_rank))"
   ]
  },
  {
   "cell_type": "code",
   "execution_count": null,
   "id": "9626dc11",
   "metadata": {},
   "outputs": [],
   "source": [
    "### 13. % of internet users who own cryptocurrency"
   ]
  },
  {
   "cell_type": "code",
   "execution_count": null,
   "id": "0b7e4461",
   "metadata": {},
   "outputs": [],
   "source": [
    "indicators[12]\n",
    "\n",
    "# load data\n",
    "indicator = indicators[12]\n",
    "print(indicator)\n",
    "bf = bnames[bnames['Indicator']==indicator]['Filename'].values[0]\n",
    "print(bf)\n",
    "\n",
    "df = pd.read_csv('../../processed/{}.csv'.format(bf))"
   ]
  },
  {
   "cell_type": "code",
   "execution_count": null,
   "id": "df6300c7",
   "metadata": {},
   "outputs": [],
   "source": [
    "df.head(15)"
   ]
  },
  {
   "cell_type": "code",
   "execution_count": null,
   "id": "22e7a022",
   "metadata": {},
   "outputs": [],
   "source": [
    "# create standard columns\n",
    "# df.rename(columns={'COUNTRY/ECONOMY':'Country Name'}, inplace=True)\n",
    "df['higher_is_better'] = True\n",
    "df['Indicator'] = indicator\n",
    "df['data_col'] = df['Share of respondents who indicated they either owned or used cryptocurrencies in 55 countries worldwide in 2020'] \n",
    "df['Country Name'] = df['Country']\n",
    "df['Year'] = 2020\n",
    "\n",
    "min_rank = df['data_col'].min()\n",
    "max_rank = df['data_col'].max()\n",
    "\n",
    "# transform 0-1 rank into 1-6\n",
    "df['new_rank_score'] = df['data_col'].apply(lambda row: convert_rank(row,old_min=min_rank,old_max=max_rank))"
   ]
  },
  {
   "cell_type": "code",
   "execution_count": null,
   "id": "5f760522",
   "metadata": {},
   "outputs": [],
   "source": [
    "df[['Country Name', 'Year','Indicator','data_col','new_rank_score','higher_is_better']].head(20)"
   ]
  },
  {
   "cell_type": "code",
   "execution_count": null,
   "id": "225ccb90",
   "metadata": {},
   "outputs": [],
   "source": [
    "### 14. Percentage of individuals not buying online due to concerns about returning products"
   ]
  },
  {
   "cell_type": "code",
   "execution_count": null,
   "id": "919498ca",
   "metadata": {},
   "outputs": [],
   "source": [
    "indicators[13]\n",
    "\n",
    "# load data\n",
    "indicator = indicators[13]\n",
    "print(indicator)\n",
    "bf = bnames[bnames['Indicator']==indicator]['Filename'].values[0]\n",
    "print(bf)\n",
    "\n",
    "df = pd.read_csv('../../processed/{}.csv'.format(bf))"
   ]
  },
  {
   "cell_type": "code",
   "execution_count": null,
   "id": "b0753520",
   "metadata": {},
   "outputs": [],
   "source": [
    "df.head(15)"
   ]
  },
  {
   "cell_type": "code",
   "execution_count": null,
   "id": "f9186595",
   "metadata": {},
   "outputs": [],
   "source": [
    "# filter most recent year and global value\n",
    "df = df[(df.Time==2019)]\n",
    "df = df[(df.Scope =='All individuals (aged 16-74)')]\n",
    "\n",
    "# create standard columns\n",
    "# df.rename(columns={'COUNTRY/ECONOMY':'Country Name'}, inplace=True)\n",
    "df['higher_is_better'] = False\n",
    "df['Indicator'] = indicator\n",
    "df['data_col'] = df['Value'] \n",
    "df['Year'] = df['Time']\n",
    "df['Country Name'] = df['Country']\n",
    "\n",
    "min_rank = df['data_col'].min()\n",
    "max_rank = df['data_col'].max()\n",
    "\n",
    "# convert 1-190 rank into 1-6\n",
    "df['new_rank_score'] = df['data_col'].apply(lambda row: convert_rank(row, old_min=min_rank,old_max=max_rank))\n",
    "\n",
    "# invert since to put as higher is  better\n",
    "df['new_rank_score'] = df['new_rank_score'].apply(lambda row: (6-row)+1)"
   ]
  },
  {
   "cell_type": "code",
   "execution_count": null,
   "id": "6eb46653",
   "metadata": {},
   "outputs": [],
   "source": [
    "df[['Country Name', 'Year','Indicator','data_col','new_rank_score','higher_is_better']].head(20)"
   ]
  },
  {
   "cell_type": "code",
   "execution_count": null,
   "id": "ee2166d7",
   "metadata": {},
   "outputs": [],
   "source": [
    "### 15. Percentage of individuals not buying online due to payment security concerns"
   ]
  },
  {
   "cell_type": "code",
   "execution_count": null,
   "id": "bea44c56",
   "metadata": {},
   "outputs": [],
   "source": [
    "indicators[14]\n",
    "\n",
    "# load data\n",
    "indicator = indicators[14]\n",
    "print(indicator)\n",
    "bf = bnames[bnames['Indicator']==indicator]['Filename'].values[0]\n",
    "print(bf)\n",
    "\n",
    "df = pd.read_csv('../../processed/{}.csv'.format(bf))"
   ]
  },
  {
   "cell_type": "code",
   "execution_count": null,
   "id": "1d1b543f",
   "metadata": {},
   "outputs": [],
   "source": [
    "df.head(15)"
   ]
  },
  {
   "cell_type": "code",
   "execution_count": null,
   "id": "34527a25",
   "metadata": {},
   "outputs": [],
   "source": [
    "# filter most recent year and global value\n",
    "df = df[(df.Time==2019)]\n",
    "df = df[(df.Scope =='All individuals (aged 16-74)')]\n",
    "\n",
    "# create standard columns\n",
    "# df.rename(columns={'COUNTRY/ECONOMY':'Country Name'}, inplace=True)\n",
    "df['higher_is_better'] = False\n",
    "df['Indicator'] = indicator\n",
    "df['data_col'] = df['Value'] \n",
    "df['Year'] = df['Time']\n",
    "df['Country Name'] = df['Country']\n",
    "\n",
    "min_rank = df['data_col'].min()\n",
    "max_rank = df['data_col'].max()\n",
    "\n",
    "# convert 1-190 rank into 1-6\n",
    "df['new_rank_score'] = df['data_col'].apply(lambda row: convert_rank(row, old_min=min_rank,old_max=max_rank))\n",
    "\n",
    "# invert since to put as higher is  better\n",
    "df['new_rank_score'] = df['new_rank_score'].apply(lambda row: (6-row)+1)"
   ]
  },
  {
   "cell_type": "code",
   "execution_count": null,
   "id": "531f8382",
   "metadata": {},
   "outputs": [],
   "source": [
    "df[['Country Name', 'Year','Indicator','data_col','new_rank_score','higher_is_better']].head(20)"
   ]
  },
  {
   "cell_type": "code",
   "execution_count": null,
   "id": "c61653c3",
   "metadata": {},
   "outputs": [],
   "source": [
    "### 16. E-waste generated, kilograms per inhabitant"
   ]
  },
  {
   "cell_type": "code",
   "execution_count": null,
   "id": "ddbff490",
   "metadata": {},
   "outputs": [],
   "source": [
    "indicators[15]\n",
    "\n",
    "# load data\n",
    "indicator = indicators[15]\n",
    "print(indicator)\n",
    "bf = bnames[bnames['Indicator']==indicator]['Filename'].values[0]\n",
    "print(bf)\n",
    "\n",
    "df = pd.read_csv('../../processed/{}.csv'.format(bf))"
   ]
  },
  {
   "cell_type": "code",
   "execution_count": null,
   "id": "649dda19",
   "metadata": {},
   "outputs": [],
   "source": [
    "df.head(15)"
   ]
  },
  {
   "cell_type": "code",
   "execution_count": null,
   "id": "b8d267e6",
   "metadata": {},
   "outputs": [],
   "source": [
    "# create standard columns\n",
    "# df.rename(columns={'COUNTRY/ECONOMY':'Country Name'}, inplace=True)\n",
    "df['higher_is_better'] = True\n",
    "df['Indicator'] = indicator\n",
    "# Use special_waste_e_waste_tons_year times one thousand and divde by total population\n",
    "df['data_col'] = df['special_waste_e_waste_tons_year']*1000/df['population_population_number_of_people'] \n",
    "df['Year'] = 2021\n",
    "df['Country Name'] = df['country_name']\n",
    "\n",
    "min_rank = df['data_col'].min()\n",
    "max_rank = df['data_col'].max()\n",
    "\n",
    "# convert 1-190 rank into 1-6\n",
    "df['new_rank_score'] = df['data_col'].apply(lambda row: convert_rank(row, old_min=min_rank,old_max=max_rank))"
   ]
  },
  {
   "cell_type": "code",
   "execution_count": null,
   "id": "c6f3c9cd",
   "metadata": {},
   "outputs": [],
   "source": [
    "df[['Country Name', 'Year','Indicator','data_col','new_rank_score','higher_is_better']].head(20)"
   ]
  },
  {
   "cell_type": "code",
   "execution_count": null,
   "id": "ea94f87b",
   "metadata": {},
   "outputs": [],
   "source": [
    "### 17. Automation-led unemployment"
   ]
  },
  {
   "cell_type": "code",
   "execution_count": null,
   "id": "b3494474",
   "metadata": {},
   "outputs": [],
   "source": [
    "indicators[16]\n",
    "\n",
    "# load data\n",
    "indicator = indicators[16]\n",
    "print(indicator)\n",
    "bf = bnames[bnames['Indicator']==indicator]['Filename'].values[0]\n",
    "print(bf)\n",
    "\n",
    "df = pd.read_csv('../../processed/{}.csv'.format(bf))"
   ]
  },
  {
   "cell_type": "code",
   "execution_count": null,
   "id": "accf12ed",
   "metadata": {},
   "outputs": [],
   "source": [
    "df.head(15)"
   ]
  },
  {
   "cell_type": "code",
   "execution_count": null,
   "id": "a518e5bb",
   "metadata": {},
   "outputs": [],
   "source": [
    "# create standard columns\n",
    "# df.rename(columns={'COUNTRY/ECONOMY':'Country Name'}, inplace=True)\n",
    "df['higher_is_better'] = True\n",
    "df['Indicator'] = indicator\n",
    "df['data_col'] = df['Potential Rate of Automation (%)'] \n",
    "df['Year'] = 2018\n",
    "df['Country Name'] = df['Country']\n",
    "\n",
    "min_rank = df['data_col'].min()\n",
    "max_rank = df['data_col'].max()\n",
    "\n",
    "# convert 1-190 rank into 1-6\n",
    "df['new_rank_score'] = df['data_col'].apply(lambda row: convert_rank(row, old_min=min_rank,old_max=max_rank))"
   ]
  },
  {
   "cell_type": "code",
   "execution_count": null,
   "id": "a083e2ff",
   "metadata": {},
   "outputs": [],
   "source": [
    "df[['Country Name', 'Year','Indicator','data_col','new_rank_score','higher_is_better']].head(20)"
   ]
  },
  {
   "cell_type": "code",
   "execution_count": null,
   "id": "a6e3e50c",
   "metadata": {},
   "outputs": [],
   "source": [
    "### 18. Cyberbullying"
   ]
  },
  {
   "cell_type": "code",
   "execution_count": null,
   "id": "3448fd7e",
   "metadata": {},
   "outputs": [],
   "source": [
    "indicators[17]\n",
    "\n",
    "# load data\n",
    "indicator = indicators[17]\n",
    "print(indicator)\n",
    "bf = bnames[bnames['Indicator']==indicator]['Filename'].values[0]\n",
    "print(bf)\n",
    "\n",
    "df = pd.read_csv('../../processed/{}.csv'.format(bf))"
   ]
  },
  {
   "cell_type": "code",
   "execution_count": null,
   "id": "5c370dbb",
   "metadata": {},
   "outputs": [],
   "source": [
    "df.head(15)\n",
    "\n",
    "# Need to move the top row down further"
   ]
  },
  {
   "cell_type": "code",
   "execution_count": null,
   "id": "496c71ad",
   "metadata": {},
   "outputs": [],
   "source": [
    "# create standard columns\n",
    "# df.rename(columns={'COUNTRY/ECONOMY':'Country Name'}, inplace=True)\n",
    "df['higher_is_better'] = True\n",
    "df['Indicator'] = indicator\n",
    "df['data_col'] = df['2018'] \n",
    "df['Year'] = 2018\n",
    "df['Country Name'] = df['Country']\n",
    "\n",
    "min_rank = df['data_col'].min()\n",
    "max_rank = df['data_col'].max()\n",
    "\n",
    "# convert 1-190 rank into 1-6\n",
    "df['new_rank_score'] = df['data_col'].apply(lambda row: convert_rank(row, old_min=min_rank,old_max=max_rank))\n",
    "\n",
    "# invert since to put as higher is  better\n",
    "df['new_rank_score'] = df['new_rank_score'].apply(lambda row: (6-row)+1)"
   ]
  },
  {
   "cell_type": "code",
   "execution_count": null,
   "id": "e3434aa9",
   "metadata": {},
   "outputs": [],
   "source": [
    "df[['Country Name', 'Year','Indicator','data_col','new_rank_score','higher_is_better']].head(20)"
   ]
  },
  {
   "cell_type": "code",
   "execution_count": null,
   "id": "94b5deda",
   "metadata": {},
   "outputs": [],
   "source": [
    "### 19. Global Wellbeing Initiative"
   ]
  },
  {
   "cell_type": "code",
   "execution_count": null,
   "id": "78535894",
   "metadata": {},
   "outputs": [],
   "source": [
    "indicators[18]\n",
    "\n",
    "# load data\n",
    "indicator = indicators[18]\n",
    "print(indicator)\n",
    "bf = bnames[bnames['Indicator']==indicator]['Filename'].values[0]\n",
    "print(bf)\n",
    "\n",
    "df = pd.read_csv('../../processed/{}.csv'.format(bf))\n",
    "\n",
    "# Strange the global_wellbeing_initiative is clearly in the data manifest and the link works well \n",
    "# but it has not been moved to the processed folder"
   ]
  },
  {
   "cell_type": "code",
   "execution_count": null,
   "id": "7f2ffe75",
   "metadata": {},
   "outputs": [],
   "source": [
    "### 20. Financial Inclusiveness"
   ]
  },
  {
   "cell_type": "code",
   "execution_count": null,
   "id": "d6dcaa56",
   "metadata": {},
   "outputs": [],
   "source": [
    "indicators[19]\n",
    "\n",
    "# load data\n",
    "indicator = indicators[19]\n",
    "print(indicator)\n",
    "bf = bnames[bnames['Indicator']==indicator]['Filename'].values[0]\n",
    "print(bf)\n",
    "\n",
    "\n",
    "df = pd.read_csv('../../processed/{}.csv'.format(bf))\n",
    "# Strange the global_wellbeing_initiative is clearly in the data manifest and the link works well \n",
    "# but it has not been moved to the processed folder"
   ]
  },
  {
   "cell_type": "code",
   "execution_count": null,
   "id": "2f96b985",
   "metadata": {},
   "outputs": [],
   "source": [
    "### 21. E-commerce activity (% of individuals buying online and frequency)"
   ]
  },
  {
   "cell_type": "code",
   "execution_count": null,
   "id": "a7cab316",
   "metadata": {},
   "outputs": [],
   "source": [
    "indicators[20]\n",
    "\n",
    "# load data\n",
    "indicator = indicators[20]\n",
    "print(indicator)\n",
    "bf = bnames[bnames['Indicator']==indicator]['Filename'].values[0]\n",
    "print(bf)\n",
    "\n",
    "df = pd.read_csv('../../processed/{}.csv'.format(bf))\n",
    "\n",
    "# Added _ between spaces to see if this changes anything"
   ]
  },
  {
   "cell_type": "code",
   "execution_count": null,
   "id": "83914dd2",
   "metadata": {},
   "outputs": [],
   "source": [
    "df.head(15)\n",
    "\n",
    "# Move the top row down further"
   ]
  },
  {
   "cell_type": "code",
   "execution_count": null,
   "id": "536e0928",
   "metadata": {},
   "outputs": [],
   "source": [
    "# create standard columns\n",
    "# df.rename(columns={'COUNTRY/ECONOMY':'Country Name'}, inplace=True)\n",
    "df['higher_is_better'] = True\n",
    "df['Indicator'] = indicator\n",
    "df['data_col'] = df['Potential Rate of Automation (%)'] \n",
    "df['Year'] = 2018\n",
    "df['Country Name'] = df['Country']\n",
    "\n",
    "min_rank = df['data_col'].min()\n",
    "max_rank = df['data_col'].max()\n",
    "\n",
    "# convert 1-190 rank into 1-6\n",
    "df['new_rank_score'] = df['data_col'].apply(lambda row: convert_rank(row, old_min=min_rank,old_max=max_rank))"
   ]
  },
  {
   "cell_type": "code",
   "execution_count": null,
   "id": "e9592d3f",
   "metadata": {},
   "outputs": [],
   "source": [
    "### 22. E-commerce activity (Types of goods and services purchased online) "
   ]
  },
  {
   "cell_type": "code",
   "execution_count": null,
   "id": "87860b51",
   "metadata": {},
   "outputs": [],
   "source": [
    "indicators[21]\n",
    "\n",
    "# load data\n",
    "indicator = indicators[21]\n",
    "print(indicator)\n",
    "bf = bnames[bnames['Indicator']==indicator]['Filename'].values[0]\n",
    "print(bf)\n",
    "\n",
    "df = pd.read_csv('../../processed/{}.csv'.format(bf))\n",
    "\n",
    "# Move the top row down further\n",
    "# This is a list of categories, wonder if it will do"
   ]
  },
  {
   "cell_type": "code",
   "execution_count": null,
   "id": "e8ac8bee",
   "metadata": {},
   "outputs": [],
   "source": [
    "df.head(15)"
   ]
  },
  {
   "cell_type": "code",
   "execution_count": null,
   "id": "00d8bc09",
   "metadata": {},
   "outputs": [],
   "source": [
    "### 23. Top Visited websites"
   ]
  },
  {
   "cell_type": "code",
   "execution_count": null,
   "id": "766e38ad",
   "metadata": {},
   "outputs": [],
   "source": [
    "indicators[22]\n",
    "\n",
    "# load data\n",
    "indicator = indicators[22]\n",
    "print(indicator)\n",
    "bf = bnames[bnames['Indicator']==indicator]['Filename'].values[0]\n",
    "print(bf)\n",
    "\n",
    "df = pd.read_csv('../../processed/{}.csv'.format(bf))"
   ]
  },
  {
   "cell_type": "code",
   "execution_count": null,
   "id": "863e65bd",
   "metadata": {},
   "outputs": [],
   "source": [
    "df.head(15)"
   ]
  },
  {
   "cell_type": "code",
   "execution_count": null,
   "id": "047a6e48",
   "metadata": {},
   "outputs": [],
   "source": [
    "### 24. Top YouTube Searches"
   ]
  },
  {
   "cell_type": "code",
   "execution_count": null,
   "id": "415525a4",
   "metadata": {},
   "outputs": [],
   "source": [
    "indicators[23]\n",
    "\n",
    "# load data\n",
    "indicator = indicators[23]\n",
    "print(indicator)\n",
    "bf = bnames[bnames['Indicator']==indicator]['Filename'].values[0]\n",
    "print(bf)\n",
    "\n",
    "df = pd.read_csv('../../processed/{}.csv'.format(bf))"
   ]
  },
  {
   "cell_type": "code",
   "execution_count": null,
   "id": "226dcae3",
   "metadata": {},
   "outputs": [],
   "source": [
    "df.head(15)"
   ]
  },
  {
   "cell_type": "code",
   "execution_count": null,
   "id": "0897218b",
   "metadata": {},
   "outputs": [],
   "source": [
    "### 25. Top Google searches"
   ]
  },
  {
   "cell_type": "code",
   "execution_count": null,
   "id": "758b8717",
   "metadata": {},
   "outputs": [],
   "source": [
    "indicators[24]\n",
    "\n",
    "# load data\n",
    "indicator = indicators[24]\n",
    "print(indicator)\n",
    "bf = bnames[bnames['Indicator']==indicator]['Filename'].values[0]\n",
    "print(bf)\n",
    "\n",
    "df = pd.read_csv('../../processed/{}.csv'.format(bf))"
   ]
  },
  {
   "cell_type": "code",
   "execution_count": null,
   "id": "873e3378",
   "metadata": {},
   "outputs": [],
   "source": [
    "df.head(15)"
   ]
  },
  {
   "cell_type": "code",
   "execution_count": null,
   "id": "221af3b4",
   "metadata": {},
   "outputs": [],
   "source": [
    "### 26. Internet Usage"
   ]
  },
  {
   "cell_type": "code",
   "execution_count": null,
   "id": "781adea4",
   "metadata": {},
   "outputs": [],
   "source": [
    "indicators[25]\n",
    "\n",
    "# load data\n",
    "indicator = indicators[25]\n",
    "print(indicator)\n",
    "bf = bnames[bnames['Indicator']==indicator]['Filename'].values[0]\n",
    "print(bf)\n",
    "\n",
    "df = pd.read_csv('../../processed/{}.csv'.format(bf))"
   ]
  },
  {
   "cell_type": "code",
   "execution_count": null,
   "id": "268f474d",
   "metadata": {},
   "outputs": [],
   "source": [
    "df.head(15)"
   ]
  },
  {
   "cell_type": "code",
   "execution_count": null,
   "id": "0c720ba6",
   "metadata": {},
   "outputs": [],
   "source": [
    "# create standard columns\n",
    "# df.rename(columns={'COUNTRY/ECONOMY':'Country Name'}, inplace=True)\n",
    "df['higher_is_better'] = True\n",
    "df['Indicator'] = indicator\n",
    "df['data_col'] = df['2019_value'] \n",
    "df['Year'] = 2019\n",
    "df['Country Name'] = df['ShortName']\n",
    "\n",
    "min_rank = df['data_col'].min()\n",
    "max_rank = df['data_col'].max()\n",
    "\n",
    "# convert 1-190 rank into 1-6\n",
    "df['new_rank_score'] = df['data_col'].apply(lambda row: convert_rank(row, old_min=min_rank,old_max=max_rank))"
   ]
  },
  {
   "cell_type": "code",
   "execution_count": null,
   "id": "62794cd7",
   "metadata": {},
   "outputs": [],
   "source": [
    "df[['Country Name','Year','data_col','new_rank_score','higher_is_better']].head(15)"
   ]
  },
  {
   "cell_type": "code",
   "execution_count": null,
   "id": "e515d345",
   "metadata": {},
   "outputs": [],
   "source": [
    "### 27. Households with a computer and with Internet Access"
   ]
  },
  {
   "cell_type": "code",
   "execution_count": null,
   "id": "fb867e74",
   "metadata": {},
   "outputs": [],
   "source": [
    "indicators[26]\n",
    "\n",
    "# load data\n",
    "indicator = indicators[26]\n",
    "print(indicator)\n",
    "bf = bnames[bnames['Indicator']==indicator]['Filename'].values[0]\n",
    "print(bf)\n",
    "\n",
    "df = pd.read_csv('../../processed/{}.csv'.format(bf))"
   ]
  },
  {
   "cell_type": "code",
   "execution_count": null,
   "id": "06d6f511",
   "metadata": {},
   "outputs": [],
   "source": [
    "df.head(15)\n",
    "\n",
    "# have to replace 'No data' with blank"
   ]
  },
  {
   "cell_type": "code",
   "execution_count": null,
   "id": "3e62a0ec",
   "metadata": {},
   "outputs": [],
   "source": [
    "# create standard columns\n",
    "# df.rename(columns={'COUNTRY/ECONOMY':'Country Name'}, inplace=True)\n",
    "df['higher_is_better'] = True\n",
    "df['Indicator'] = indicator\n",
    "df['data_col'] = df['2016'] \n",
    "df['Year'] = 2016\n",
    "df['Country Name'] = df['Country']\n",
    "\n",
    "min_rank = df['data_col'].min()\n",
    "max_rank = df['data_col'].max()\n",
    "\n",
    "# transform 0-1 rank into 1-6\n",
    "df['new_rank_score'] = df['data_col'].apply(lambda row: convert_rank(row,old_min=min_rank,old_max=max_rank))"
   ]
  },
  {
   "cell_type": "code",
   "execution_count": null,
   "id": "a107d780",
   "metadata": {},
   "outputs": [],
   "source": [
    "df[['Country Name','Year','Indicator','data_col','new_rank_score','higher_is_better']].head(15)"
   ]
  },
  {
   "cell_type": "code",
   "execution_count": null,
   "id": "f261ae08",
   "metadata": {},
   "outputs": [],
   "source": [
    "### 28. % of population using Facebook"
   ]
  },
  {
   "cell_type": "code",
   "execution_count": null,
   "id": "f6a29d73",
   "metadata": {},
   "outputs": [],
   "source": [
    "indicators[27]\n",
    "\n",
    "# load data\n",
    "indicator = indicators[27]\n",
    "print(indicator)\n",
    "bf = bnames[bnames['Indicator']==indicator]['Filename'].values[0]\n",
    "print(bf)\n",
    "\n",
    "df = pd.read_csv('../../processed/{}.csv'.format(bf))"
   ]
  },
  {
   "cell_type": "code",
   "execution_count": null,
   "id": "d8075fe6",
   "metadata": {},
   "outputs": [],
   "source": [
    "df.head(15)"
   ]
  },
  {
   "cell_type": "code",
   "execution_count": null,
   "id": "d6387085",
   "metadata": {},
   "outputs": [],
   "source": [
    "# create standard columns\n",
    "# df.rename(columns={'COUNTRY/ECONOMY':'Country Name'}, inplace=True)\n",
    "df['higher_is_better'] = True\n",
    "df['Indicator'] = indicator\n",
    "df['data_col'] = df['Percentage of Facebook Users'] \n",
    "df['Year'] = 2021\n",
    "df['Country Name'] = df['Country']\n",
    "\n",
    "min_rank = df['data_col'].min()\n",
    "max_rank = df['data_col'].max()\n",
    "\n",
    "# transform 0-1 rank into 1-6\n",
    "df['new_rank_score'] = df['data_col'].apply(lambda row: convert_rank(row,old_min=min_rank,old_max=max_rank))"
   ]
  },
  {
   "cell_type": "code",
   "execution_count": null,
   "id": "64cdff4a",
   "metadata": {},
   "outputs": [],
   "source": [
    "df[['Country Name','Year','Indicator','data_col','new_rank_score','higher_is_better']].head(15)"
   ]
  },
  {
   "cell_type": "code",
   "execution_count": null,
   "id": "2f329101",
   "metadata": {},
   "outputs": [],
   "source": [
    "### 29. Gender gap for social media use"
   ]
  },
  {
   "cell_type": "code",
   "execution_count": null,
   "id": "83b119aa",
   "metadata": {},
   "outputs": [],
   "source": [
    "indicators[28]\n",
    "\n",
    "# load data\n",
    "indicator = indicators[28]\n",
    "print(indicator)\n",
    "bf = bnames[bnames['Indicator']==indicator]['Filename'].values[0]\n",
    "print(bf)\n",
    "\n",
    "df = pd.read_csv('../../processed/{}.csv'.format(bf))"
   ]
  },
  {
   "cell_type": "code",
   "execution_count": null,
   "id": "41eabb1c",
   "metadata": {},
   "outputs": [],
   "source": [
    "df.head(15)"
   ]
  },
  {
   "cell_type": "code",
   "execution_count": null,
   "id": "05afc2c8",
   "metadata": {},
   "outputs": [],
   "source": [
    "df = df[df.Year==2019]\n",
    "\n",
    "# create standard columns\n",
    "# df.rename(columns={'COUNTRY/ECONOMY':'Country Name'}, inplace=True)\n",
    "df['higher_is_better'] = True\n",
    "df['Indicator'] = indicator\n",
    "df['data_col'] = df['Gender gap in social media use'] \n",
    "df['Country Name'] = df['Country']\n",
    "\n",
    "min_rank = df['data_col'].min()\n",
    "max_rank = df['data_col'].max()\n",
    "\n",
    "# transform 0-1 rank into 1-6\n",
    "df['new_rank_score'] = df['data_col'].apply(lambda row: convert_rank(row,old_min=min_rank,old_max=max_rank))"
   ]
  },
  {
   "cell_type": "code",
   "execution_count": null,
   "id": "8abd541a",
   "metadata": {},
   "outputs": [],
   "source": [
    "df[['Country Name','Year','Indicator','data_col','new_rank_score','higher_is_better']].head(15)"
   ]
  },
  {
   "cell_type": "code",
   "execution_count": null,
   "id": "f758414c",
   "metadata": {},
   "outputs": [],
   "source": [
    "### 30. % of population using digital financial services"
   ]
  },
  {
   "cell_type": "code",
   "execution_count": null,
   "id": "36cbdd52",
   "metadata": {},
   "outputs": [],
   "source": [
    "indicators[29]\n",
    "\n",
    "# load data\n",
    "indicator = indicators[29]\n",
    "print(indicator)\n",
    "bf = bnames[bnames['Indicator']==indicator]['Filename'].values[0]\n",
    "print(bf)\n",
    "\n",
    "df = pd.read_csv('../../processed/{}.csv'.format(bf))"
   ]
  },
  {
   "cell_type": "code",
   "execution_count": null,
   "id": "4560f4d2",
   "metadata": {},
   "outputs": [],
   "source": [
    "df.head(15)\n",
    "\n",
    "# May have to convert the data to csv file as the original file is missing many important columns"
   ]
  },
  {
   "cell_type": "code",
   "execution_count": null,
   "id": "e6264db5",
   "metadata": {},
   "outputs": [],
   "source": [
    "### 31. Mobile Broadband Pricing (pre-paid)"
   ]
  },
  {
   "cell_type": "code",
   "execution_count": null,
   "id": "a82a04b6",
   "metadata": {},
   "outputs": [],
   "source": [
    "indicators[30]\n",
    "\n",
    "# load data\n",
    "indicator = indicators[30]\n",
    "print(indicator)\n",
    "bf = bnames[bnames['Indicator']==indicator]['Filename'].values[0]\n",
    "print(bf)\n",
    "\n",
    "df = pd.read_csv('../../processed/{}.csv'.format(bf))\n",
    "\n",
    "# File not found despite its presence in the personal repo and the data manifest"
   ]
  },
  {
   "cell_type": "code",
   "execution_count": null,
   "id": "03939d04",
   "metadata": {},
   "outputs": [],
   "source": [
    "### 32. Tax as % of total cost of mobile ownership"
   ]
  },
  {
   "cell_type": "code",
   "execution_count": null,
   "id": "e8aac8ae",
   "metadata": {},
   "outputs": [],
   "source": [
    "indicators[31]\n",
    "\n",
    "# load data\n",
    "indicator = indicators[31]\n",
    "print(indicator)\n",
    "bf = bnames[bnames['Indicator']==indicator]['Filename'].values[0]\n",
    "print(bf)\n",
    "\n",
    "df = pd.read_csv('../../processed/{}.csv'.format(bf))"
   ]
  },
  {
   "cell_type": "code",
   "execution_count": null,
   "id": "c3edbb28",
   "metadata": {},
   "outputs": [],
   "source": [
    "df.head(15)"
   ]
  },
  {
   "cell_type": "code",
   "execution_count": null,
   "id": "4343c8a6",
   "metadata": {},
   "outputs": [],
   "source": [
    "df = df[df.Year==2019]\n",
    "\n",
    "# create standard columns\n",
    "# df.rename(columns={'COUNTRY/ECONOMY':'Country Name'}, inplace=True)\n",
    "df['higher_is_better'] = False\n",
    "df['Indicator'] = indicator\n",
    "df['data_col'] = df['Tax as a % of TCMO'] \n",
    "df['Country Name'] = df['Country']\n",
    "\n",
    "min_rank = df['data_col'].min()\n",
    "max_rank = df['data_col'].max()\n",
    "\n",
    "# transform 0-1 rank into 1-6\n",
    "df['new_rank_score'] = df['data_col'].apply(lambda row: convert_rank(row,old_min=min_rank,old_max=max_rank))\n",
    "\n",
    "# invert since to put as higher is  better\n",
    "df['new_rank_score'] = df['new_rank_score'].apply(lambda row: (6-row)+1)"
   ]
  },
  {
   "cell_type": "code",
   "execution_count": null,
   "id": "0a743a47",
   "metadata": {},
   "outputs": [],
   "source": [
    "df[['Country Name','Year','Indicator','data_col','new_rank_score','higher_is_better']].head(15)"
   ]
  },
  {
   "cell_type": "code",
   "execution_count": null,
   "id": "6442d55d",
   "metadata": {},
   "outputs": [],
   "source": [
    "### 33. % of population with a SIM card"
   ]
  },
  {
   "cell_type": "code",
   "execution_count": null,
   "id": "c1d612ec",
   "metadata": {},
   "outputs": [],
   "source": [
    "indicators[32]\n",
    "\n",
    "# load data\n",
    "indicator = indicators[32]\n",
    "print(indicator)\n",
    "bf = bnames[bnames['Indicator']==indicator]['Filename'].values[0]\n",
    "print(bf)\n",
    "\n",
    "df = pd.read_csv('../../processed/{}.csv'.format(bf))\n",
    "\n",
    "# File not found despite its presence in the personal repo and the data manifest"
   ]
  },
  {
   "cell_type": "code",
   "execution_count": null,
   "id": "3fdd4d80",
   "metadata": {},
   "outputs": [],
   "source": [
    "### 34. % of population with a smartphone"
   ]
  },
  {
   "cell_type": "code",
   "execution_count": null,
   "id": "46e4d4ad",
   "metadata": {},
   "outputs": [],
   "source": [
    "indicators[33]\n",
    "\n",
    "# load data\n",
    "indicator = indicators[33]\n",
    "print(indicator)\n",
    "bf = bnames[bnames['Indicator']==indicator]['Filename'].values[0]\n",
    "print(bf)\n",
    "\n",
    "df = pd.read_csv('../../processed/{}.csv'.format(bf))"
   ]
  },
  {
   "cell_type": "code",
   "execution_count": null,
   "id": "49b2e15f",
   "metadata": {},
   "outputs": [],
   "source": [
    "df.head(15)"
   ]
  },
  {
   "cell_type": "code",
   "execution_count": null,
   "id": "cd44bf5c",
   "metadata": {},
   "outputs": [],
   "source": [
    "# create standard columns\n",
    "# df.rename(columns={'COUNTRY/ECONOMY':'Country Name'}, inplace=True)\n",
    "df['higher_is_better'] = True\n",
    "df['Indicator'] = indicator\n",
    "df['data_col'] = df['Smartphone Penetration'] \n",
    "df['Country Name'] = df['Country']\n",
    "\n",
    "min_rank = df['data_col'].min()\n",
    "max_rank = df['data_col'].max()\n",
    "\n",
    "# transform 0-1 rank into 1-6\n",
    "df['new_rank_score'] = df['data_col'].apply(lambda row: convert_rank(row,old_min=min_rank,old_max=max_rank))\n",
    "\n",
    "# Must delete the % mark in the fourth column"
   ]
  },
  {
   "cell_type": "code",
   "execution_count": null,
   "id": "54a6980b",
   "metadata": {},
   "outputs": [],
   "source": [
    "### 35. Gender gap in internet usage"
   ]
  },
  {
   "cell_type": "code",
   "execution_count": null,
   "id": "5f37afc3",
   "metadata": {},
   "outputs": [],
   "source": [
    "indicators[34]\n",
    "\n",
    "# load data\n",
    "indicator = indicators[34]\n",
    "print(indicator)\n",
    "bf = bnames[bnames['Indicator']==indicator]['Filename'].values[0]\n",
    "print(bf)\n",
    "\n",
    "df = pd.read_csv('../../processed/{}.csv'.format(bf))"
   ]
  },
  {
   "cell_type": "code",
   "execution_count": null,
   "id": "1af38099",
   "metadata": {},
   "outputs": [],
   "source": [
    "df.head(15)\n",
    "\n",
    "# The problem with the data base is that it has ... in the Male and Female columns, making it string columns, not numerical\n",
    "# This will present problems when trying to calculate ranking"
   ]
  },
  {
   "cell_type": "code",
   "execution_count": null,
   "id": "46610be8",
   "metadata": {},
   "outputs": [],
   "source": [
    "### 36. Gender gap in mobile usage"
   ]
  },
  {
   "cell_type": "code",
   "execution_count": null,
   "id": "41cb9261",
   "metadata": {},
   "outputs": [],
   "source": [
    "indicators[35]\n",
    "\n",
    "# load data\n",
    "indicator = indicators[35]\n",
    "print(indicator)\n",
    "bf = bnames[bnames['Indicator']==indicator]['Filename'].values[0]\n",
    "print(bf)\n",
    "\n",
    "df = pd.read_csv('../../processed/{}.csv'.format(bf))"
   ]
  },
  {
   "cell_type": "code",
   "execution_count": null,
   "id": "ae7e6314",
   "metadata": {},
   "outputs": [],
   "source": [
    "df.head(15)"
   ]
  },
  {
   "cell_type": "code",
   "execution_count": null,
   "id": "480f9dfb",
   "metadata": {},
   "outputs": [],
   "source": [
    "df = df[(df.Year==2019)]\n",
    "\n",
    "# create standard columns\n",
    "# df.rename(columns={'COUNTRY/ECONOMY':'Country Name'}, inplace=True)\n",
    "df['higher_is_better'] = True\n",
    "df['Indicator'] = indicator\n",
    "df['data_col'] = df['Gender gap in mobile ownership'] \n",
    "df['Country Name'] = df['Country']\n",
    "\n",
    "min_rank = df['data_col'].min()\n",
    "max_rank = df['data_col'].max()\n",
    "\n",
    "# transform 0-1 rank into 1-6\n",
    "df['new_rank_score'] = df['data_col'].apply(lambda row: convert_rank(row,old_min=min_rank,old_max=max_rank))"
   ]
  },
  {
   "cell_type": "code",
   "execution_count": null,
   "id": "6f427187",
   "metadata": {},
   "outputs": [],
   "source": [
    "df[['Country Name','Year','Indicator','data_col','new_rank_score','higher_is_better']].head(15)"
   ]
  },
  {
   "cell_type": "code",
   "execution_count": null,
   "id": "10aa996f",
   "metadata": {},
   "outputs": [],
   "source": [
    "### 37. Mobile Device Penetration"
   ]
  },
  {
   "cell_type": "code",
   "execution_count": null,
   "id": "eb2cfc24",
   "metadata": {},
   "outputs": [],
   "source": [
    "indicators[36]\n",
    "\n",
    "# load data\n",
    "indicator = indicators[36]\n",
    "print(indicator)\n",
    "bf = bnames[bnames['Indicator']==indicator]['Filename'].values[0]\n",
    "print(bf)\n",
    "\n",
    "df = pd.read_csv('../../processed/{}.csv'.format(bf))\n"
   ]
  },
  {
   "cell_type": "code",
   "execution_count": null,
   "id": "d520e1dd",
   "metadata": {},
   "outputs": [],
   "source": [
    "df.head(15)"
   ]
  },
  {
   "cell_type": "code",
   "execution_count": null,
   "id": "f11565e0",
   "metadata": {},
   "outputs": [],
   "source": [
    "df = df[(df.Year==2019)]\n",
    "\n",
    "# create standard columns\n",
    "# df.rename(columns={'COUNTRY/ECONOMY':'Country Name'}, inplace=True)\n",
    "df['higher_is_better'] = True\n",
    "df['Indicator'] = indicator\n",
    "df['data_col'] = df['Mobile Ownership'] \n",
    "df['Country Name'] = df['Country']\n",
    "\n",
    "min_rank = df['data_col'].min()\n",
    "max_rank = df['data_col'].max()\n",
    "\n",
    "# transform 0-1 rank into 1-6\n",
    "df['new_rank_score'] = df['data_col'].apply(lambda row: convert_rank(row,old_min=min_rank,old_max=max_rank))"
   ]
  },
  {
   "cell_type": "code",
   "execution_count": null,
   "id": "f6838307",
   "metadata": {},
   "outputs": [],
   "source": [
    "df[['Country Name','Year','Indicator','data_col','new_rank_score','higher_is_better']].head(15)"
   ]
  },
  {
   "cell_type": "code",
   "execution_count": null,
   "id": "0aef0b89",
   "metadata": {},
   "outputs": [],
   "source": [
    "### 38. Mobile Device Penetration (female)"
   ]
  },
  {
   "cell_type": "code",
   "execution_count": null,
   "id": "54597c03",
   "metadata": {},
   "outputs": [],
   "source": [
    "indicators[37]\n",
    "\n",
    "# load data\n",
    "indicator = indicators[37]\n",
    "print(indicator)\n",
    "bf = bnames[bnames['Indicator']==indicator]['Filename'].values[0]\n",
    "print(bf)\n",
    "\n",
    "df = pd.read_csv('../../processed/{}.csv'.format(bf))\n"
   ]
  },
  {
   "cell_type": "code",
   "execution_count": null,
   "id": "008fa1ec",
   "metadata": {},
   "outputs": [],
   "source": [
    "df.head(15)"
   ]
  },
  {
   "cell_type": "code",
   "execution_count": null,
   "id": "62322363",
   "metadata": {},
   "outputs": [],
   "source": [
    "df = df[(df.Year==2019)]\n",
    "\n",
    "# create standard columns\n",
    "# df.rename(columns={'COUNTRY/ECONOMY':'Country Name'}, inplace=True)\n",
    "df['higher_is_better'] = True\n",
    "df['Indicator'] = indicator\n",
    "df['data_col'] = df['Gender gap in mobile ownership'] \n",
    "df['Country Name'] = df['Country']\n",
    "\n",
    "min_rank = df['data_col'].min()\n",
    "max_rank = df['data_col'].max()\n",
    "\n",
    "# transform 0-1 rank into 1-6\n",
    "df['new_rank_score'] = df['data_col'].apply(lambda row: convert_rank(row,old_min=min_rank,old_max=max_rank))"
   ]
  },
  {
   "cell_type": "code",
   "execution_count": null,
   "id": "c2741580",
   "metadata": {},
   "outputs": [],
   "source": [
    "df[['Country Name','Year','Indicator','data_col','new_rank_score','higher_is_better']].head(15)"
   ]
  }
 ],
 "metadata": {
  "kernelspec": {
   "display_name": "Python 3",
   "language": "python",
   "name": "python3"
  },
  "language_info": {
   "codemirror_mode": {
    "name": "ipython",
    "version": 3
   },
   "file_extension": ".py",
   "mimetype": "text/x-python",
   "name": "python",
   "nbconvert_exporter": "python",
   "pygments_lexer": "ipython3",
   "version": "3.8.8"
  }
 },
 "nbformat": 4,
 "nbformat_minor": 5
}
