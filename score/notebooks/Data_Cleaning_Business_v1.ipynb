{
 "cells": [
  {
   "cell_type": "code",
   "execution_count": 1,
   "id": "9ce23384",
   "metadata": {},
   "outputs": [],
   "source": [
    "import pandas as pd\n",
    "import numpy as np"
   ]
  },
  {
   "cell_type": "markdown",
   "id": "c96db34f",
   "metadata": {},
   "source": [
    "### Get all the pillar names from the excel"
   ]
  },
  {
   "cell_type": "code",
   "execution_count": 2,
   "id": "e815555b",
   "metadata": {},
   "outputs": [],
   "source": [
    "names = pd.read_excel('../../UNDP Digital Assessment Data Framework Filename Matching V7.xlsx')"
   ]
  },
  {
   "cell_type": "code",
   "execution_count": 3,
   "id": "2142903d",
   "metadata": {},
   "outputs": [],
   "source": [
    "col_names = ['Indicator','check', 'Data Source','Index','Filename']"
   ]
  },
  {
   "cell_type": "code",
   "execution_count": 4,
   "id": "b0b45960",
   "metadata": {},
   "outputs": [],
   "source": [
    "names = names[col_names]"
   ]
  },
  {
   "cell_type": "code",
   "execution_count": 5,
   "id": "8cf26ff3",
   "metadata": {},
   "outputs": [
    {
     "data": {
      "text/html": [
       "<div>\n",
       "<style scoped>\n",
       "    .dataframe tbody tr th:only-of-type {\n",
       "        vertical-align: middle;\n",
       "    }\n",
       "\n",
       "    .dataframe tbody tr th {\n",
       "        vertical-align: top;\n",
       "    }\n",
       "\n",
       "    .dataframe thead th {\n",
       "        text-align: right;\n",
       "    }\n",
       "</style>\n",
       "<table border=\"1\" class=\"dataframe\">\n",
       "  <thead>\n",
       "    <tr style=\"text-align: right;\">\n",
       "      <th></th>\n",
       "      <th>Indicator</th>\n",
       "      <th>check</th>\n",
       "      <th>Data Source</th>\n",
       "      <th>Index</th>\n",
       "      <th>Filename</th>\n",
       "    </tr>\n",
       "  </thead>\n",
       "  <tbody>\n",
       "    <tr>\n",
       "      <th>0</th>\n",
       "      <td>Countries</td>\n",
       "      <td>NaN</td>\n",
       "      <td>United Nations</td>\n",
       "      <td>False</td>\n",
       "      <td>Countries</td>\n",
       "    </tr>\n",
       "    <tr>\n",
       "      <th>1</th>\n",
       "      <td>Database of Global Administrative Areas (GADM,...</td>\n",
       "      <td>NaN</td>\n",
       "      <td>GADM maps and data</td>\n",
       "      <td>False</td>\n",
       "      <td>NaN</td>\n",
       "    </tr>\n",
       "    <tr>\n",
       "      <th>2</th>\n",
       "      <td>High Resolution Population Density Maps + Demo...</td>\n",
       "      <td>NaN</td>\n",
       "      <td>Facebook</td>\n",
       "      <td>False</td>\n",
       "      <td>NaN</td>\n",
       "    </tr>\n",
       "    <tr>\n",
       "      <th>3</th>\n",
       "      <td>population density vs openstreetmap object den...</td>\n",
       "      <td>NaN</td>\n",
       "      <td>Kontur</td>\n",
       "      <td>False</td>\n",
       "      <td>NaN</td>\n",
       "    </tr>\n",
       "    <tr>\n",
       "      <th>4</th>\n",
       "      <td>Population Density</td>\n",
       "      <td>Infrastructure</td>\n",
       "      <td>World Bank</td>\n",
       "      <td>False</td>\n",
       "      <td>population_density</td>\n",
       "    </tr>\n",
       "  </tbody>\n",
       "</table>\n",
       "</div>"
      ],
      "text/plain": [
       "                                           Indicator           check  \\\n",
       "0                                          Countries             NaN   \n",
       "1  Database of Global Administrative Areas (GADM,...             NaN   \n",
       "2  High Resolution Population Density Maps + Demo...             NaN   \n",
       "3  population density vs openstreetmap object den...             NaN   \n",
       "4                                 Population Density  Infrastructure   \n",
       "\n",
       "          Data Source  Index            Filename  \n",
       "0      United Nations  False           Countries  \n",
       "1  GADM maps and data  False                 NaN  \n",
       "2            Facebook  False                 NaN  \n",
       "3              Kontur  False                 NaN  \n",
       "4          World Bank  False  population_density  "
      ]
     },
     "execution_count": 5,
     "metadata": {},
     "output_type": "execute_result"
    }
   ],
   "source": [
    "names.head()"
   ]
  },
  {
   "cell_type": "code",
   "execution_count": 6,
   "id": "b9a6ee78",
   "metadata": {},
   "outputs": [],
   "source": [
    "# get all the files per pillar\n",
    "data_stats = names.groupby('check').agg({'Filename':'count','Indicator':'count'})"
   ]
  },
  {
   "cell_type": "code",
   "execution_count": 7,
   "id": "6ffc5386",
   "metadata": {},
   "outputs": [
    {
     "data": {
      "text/html": [
       "<div>\n",
       "<style scoped>\n",
       "    .dataframe tbody tr th:only-of-type {\n",
       "        vertical-align: middle;\n",
       "    }\n",
       "\n",
       "    .dataframe tbody tr th {\n",
       "        vertical-align: top;\n",
       "    }\n",
       "\n",
       "    .dataframe thead th {\n",
       "        text-align: right;\n",
       "    }\n",
       "</style>\n",
       "<table border=\"1\" class=\"dataframe\">\n",
       "  <thead>\n",
       "    <tr style=\"text-align: right;\">\n",
       "      <th></th>\n",
       "      <th>Filename</th>\n",
       "      <th>Indicator</th>\n",
       "    </tr>\n",
       "    <tr>\n",
       "      <th>check</th>\n",
       "      <th></th>\n",
       "      <th></th>\n",
       "    </tr>\n",
       "  </thead>\n",
       "  <tbody>\n",
       "    <tr>\n",
       "      <th>Business</th>\n",
       "      <td>20</td>\n",
       "      <td>25</td>\n",
       "    </tr>\n",
       "    <tr>\n",
       "      <th>Foundations</th>\n",
       "      <td>9</td>\n",
       "      <td>12</td>\n",
       "    </tr>\n",
       "    <tr>\n",
       "      <th>Government</th>\n",
       "      <td>10</td>\n",
       "      <td>15</td>\n",
       "    </tr>\n",
       "    <tr>\n",
       "      <th>Infrastructure</th>\n",
       "      <td>39</td>\n",
       "      <td>48</td>\n",
       "    </tr>\n",
       "    <tr>\n",
       "      <th>People</th>\n",
       "      <td>39</td>\n",
       "      <td>47</td>\n",
       "    </tr>\n",
       "    <tr>\n",
       "      <th>Regulation</th>\n",
       "      <td>6</td>\n",
       "      <td>7</td>\n",
       "    </tr>\n",
       "    <tr>\n",
       "      <th>Strategy</th>\n",
       "      <td>1</td>\n",
       "      <td>1</td>\n",
       "    </tr>\n",
       "  </tbody>\n",
       "</table>\n",
       "</div>"
      ],
      "text/plain": [
       "                Filename  Indicator\n",
       "check                              \n",
       "Business              20         25\n",
       "Foundations            9         12\n",
       "Government            10         15\n",
       "Infrastructure        39         48\n",
       "People                39         47\n",
       "Regulation             6          7\n",
       "Strategy               1          1"
      ]
     },
     "execution_count": 7,
     "metadata": {},
     "output_type": "execute_result"
    }
   ],
   "source": [
    "data_stats"
   ]
  },
  {
   "cell_type": "markdown",
   "id": "306435b6",
   "metadata": {},
   "source": [
    "### Business"
   ]
  },
  {
   "cell_type": "code",
   "execution_count": 8,
   "id": "dc3fd79b",
   "metadata": {},
   "outputs": [],
   "source": [
    "bnames = names[(names.check=='Business')&(~names.Filename.isna())]#&(names.Index==False)]"
   ]
  },
  {
   "cell_type": "code",
   "execution_count": 9,
   "id": "5b48a7f4",
   "metadata": {
    "scrolled": true
   },
   "outputs": [
    {
     "data": {
      "text/html": [
       "<div>\n",
       "<style scoped>\n",
       "    .dataframe tbody tr th:only-of-type {\n",
       "        vertical-align: middle;\n",
       "    }\n",
       "\n",
       "    .dataframe tbody tr th {\n",
       "        vertical-align: top;\n",
       "    }\n",
       "\n",
       "    .dataframe thead th {\n",
       "        text-align: right;\n",
       "    }\n",
       "</style>\n",
       "<table border=\"1\" class=\"dataframe\">\n",
       "  <thead>\n",
       "    <tr style=\"text-align: right;\">\n",
       "      <th></th>\n",
       "      <th>Indicator</th>\n",
       "      <th>check</th>\n",
       "      <th>Data Source</th>\n",
       "      <th>Index</th>\n",
       "      <th>Filename</th>\n",
       "    </tr>\n",
       "  </thead>\n",
       "  <tbody>\n",
       "    <tr>\n",
       "      <th>75</th>\n",
       "      <td>UNCTAD Business-to-Consumer (B2C) E-commerce I...</td>\n",
       "      <td>Business</td>\n",
       "      <td>UNCTAD/World Bank</td>\n",
       "      <td>True</td>\n",
       "      <td>b2c_ecommerse_idx</td>\n",
       "    </tr>\n",
       "    <tr>\n",
       "      <th>76</th>\n",
       "      <td>Networking Services (Spend, IT Forecast Data)</td>\n",
       "      <td>Business</td>\n",
       "      <td>Portulans Institute</td>\n",
       "      <td>TRUE</td>\n",
       "      <td>network_readiness_index</td>\n",
       "    </tr>\n",
       "    <tr>\n",
       "      <th>77</th>\n",
       "      <td>ICT goods exports</td>\n",
       "      <td>Business</td>\n",
       "      <td>UNCTAD</td>\n",
       "      <td>False</td>\n",
       "      <td>ict_goods</td>\n",
       "    </tr>\n",
       "    <tr>\n",
       "      <th>78</th>\n",
       "      <td>ICT goods imports</td>\n",
       "      <td>Business</td>\n",
       "      <td>UNCTAD</td>\n",
       "      <td>False</td>\n",
       "      <td>ict_goods</td>\n",
       "    </tr>\n",
       "    <tr>\n",
       "      <th>79</th>\n",
       "      <td>ICT service exports</td>\n",
       "      <td>Business</td>\n",
       "      <td>UNCTAD</td>\n",
       "      <td>False</td>\n",
       "      <td>ict_services</td>\n",
       "    </tr>\n",
       "    <tr>\n",
       "      <th>80</th>\n",
       "      <td>ICT service imports</td>\n",
       "      <td>Business</td>\n",
       "      <td>UNCTAD</td>\n",
       "      <td>False</td>\n",
       "      <td>ict_services</td>\n",
       "    </tr>\n",
       "    <tr>\n",
       "      <th>81</th>\n",
       "      <td>Cloud Services (Spend, IT Forecast Data)</td>\n",
       "      <td>Business</td>\n",
       "      <td>Statista/Business Software Alliance</td>\n",
       "      <td>TRUE</td>\n",
       "      <td>cloud_services</td>\n",
       "    </tr>\n",
       "    <tr>\n",
       "      <th>82</th>\n",
       "      <td>ICT task-intensive jobs as a percentage of tot...</td>\n",
       "      <td>Business</td>\n",
       "      <td>OECD</td>\n",
       "      <td>False</td>\n",
       "      <td>ICT_proportion</td>\n",
       "    </tr>\n",
       "    <tr>\n",
       "      <th>85</th>\n",
       "      <td>Share of business with internet</td>\n",
       "      <td>Business</td>\n",
       "      <td>OECD</td>\n",
       "      <td>False</td>\n",
       "      <td>business_internet</td>\n",
       "    </tr>\n",
       "    <tr>\n",
       "      <th>86</th>\n",
       "      <td>Share of businesses with broadband</td>\n",
       "      <td>Business</td>\n",
       "      <td>World Bank</td>\n",
       "      <td>False</td>\n",
       "      <td>business_broadband</td>\n",
       "    </tr>\n",
       "    <tr>\n",
       "      <th>87</th>\n",
       "      <td>Share of businesses with online presence</td>\n",
       "      <td>Business</td>\n",
       "      <td>Portulans Institute</td>\n",
       "      <td>False</td>\n",
       "      <td>share_of_businesses_online_presence</td>\n",
       "    </tr>\n",
       "    <tr>\n",
       "      <th>88</th>\n",
       "      <td>Size of gig economy (% of GDP)</td>\n",
       "      <td>Business</td>\n",
       "      <td>Portulans Institute</td>\n",
       "      <td>False</td>\n",
       "      <td>prevalance_gig_economy</td>\n",
       "    </tr>\n",
       "    <tr>\n",
       "      <th>89</th>\n",
       "      <td>Size of digital economy (% of transactions)</td>\n",
       "      <td>Business</td>\n",
       "      <td>Portulans Institute</td>\n",
       "      <td>False</td>\n",
       "      <td>size_digital_economy</td>\n",
       "    </tr>\n",
       "    <tr>\n",
       "      <th>90</th>\n",
       "      <td>Venture Capital Availability</td>\n",
       "      <td>Business</td>\n",
       "      <td>World Bank</td>\n",
       "      <td>TRUE</td>\n",
       "      <td>venture_cap_avail</td>\n",
       "    </tr>\n",
       "    <tr>\n",
       "      <th>92</th>\n",
       "      <td>Strength of Legal Rights</td>\n",
       "      <td>Business</td>\n",
       "      <td>World Bank</td>\n",
       "      <td>TRUE</td>\n",
       "      <td>legal_rights_strength</td>\n",
       "    </tr>\n",
       "    <tr>\n",
       "      <th>93</th>\n",
       "      <td>Time to Start a Business</td>\n",
       "      <td>Business</td>\n",
       "      <td>World Bank</td>\n",
       "      <td>False</td>\n",
       "      <td>time_start_bus</td>\n",
       "    </tr>\n",
       "    <tr>\n",
       "      <th>94</th>\n",
       "      <td>Ease of Doing Business</td>\n",
       "      <td>Business</td>\n",
       "      <td>World Bank</td>\n",
       "      <td>TRUE</td>\n",
       "      <td>ease_doing_bus</td>\n",
       "    </tr>\n",
       "    <tr>\n",
       "      <th>97</th>\n",
       "      <td>Ease of finding skilled employees</td>\n",
       "      <td>Business</td>\n",
       "      <td>World Bank</td>\n",
       "      <td>TRUE</td>\n",
       "      <td>ease_of_finding_skilled_employees</td>\n",
       "    </tr>\n",
       "    <tr>\n",
       "      <th>98</th>\n",
       "      <td>Amount invested into startups yearly from priv...</td>\n",
       "      <td>Business</td>\n",
       "      <td>OECD</td>\n",
       "      <td>False</td>\n",
       "      <td>start_up_investment</td>\n",
       "    </tr>\n",
       "    <tr>\n",
       "      <th>111</th>\n",
       "      <td>Doing Business Index</td>\n",
       "      <td>Business</td>\n",
       "      <td>World Bank</td>\n",
       "      <td>True</td>\n",
       "      <td>doing_bus_idx</td>\n",
       "    </tr>\n",
       "  </tbody>\n",
       "</table>\n",
       "</div>"
      ],
      "text/plain": [
       "                                             Indicator     check  \\\n",
       "75   UNCTAD Business-to-Consumer (B2C) E-commerce I...  Business   \n",
       "76       Networking Services (Spend, IT Forecast Data)  Business   \n",
       "77                                  ICT goods exports   Business   \n",
       "78                                  ICT goods imports   Business   \n",
       "79                                ICT service exports   Business   \n",
       "80                                 ICT service imports  Business   \n",
       "81            Cloud Services (Spend, IT Forecast Data)  Business   \n",
       "82   ICT task-intensive jobs as a percentage of tot...  Business   \n",
       "85                     Share of business with internet  Business   \n",
       "86                  Share of businesses with broadband  Business   \n",
       "87            Share of businesses with online presence  Business   \n",
       "88                      Size of gig economy (% of GDP)  Business   \n",
       "89         Size of digital economy (% of transactions)  Business   \n",
       "90                        Venture Capital Availability  Business   \n",
       "92                            Strength of Legal Rights  Business   \n",
       "93                            Time to Start a Business  Business   \n",
       "94                              Ease of Doing Business  Business   \n",
       "97                   Ease of finding skilled employees  Business   \n",
       "98   Amount invested into startups yearly from priv...  Business   \n",
       "111                               Doing Business Index  Business   \n",
       "\n",
       "                             Data Source  Index  \\\n",
       "75                     UNCTAD/World Bank   True   \n",
       "76                   Portulans Institute  TRUE    \n",
       "77                                UNCTAD  False   \n",
       "78                                UNCTAD  False   \n",
       "79                                UNCTAD  False   \n",
       "80                                UNCTAD  False   \n",
       "81   Statista/Business Software Alliance  TRUE    \n",
       "82                                  OECD  False   \n",
       "85                                  OECD  False   \n",
       "86                            World Bank  False   \n",
       "87                   Portulans Institute  False   \n",
       "88                   Portulans Institute  False   \n",
       "89                   Portulans Institute  False   \n",
       "90                            World Bank  TRUE    \n",
       "92                            World Bank  TRUE    \n",
       "93                            World Bank  False   \n",
       "94                            World Bank  TRUE    \n",
       "97                            World Bank  TRUE    \n",
       "98                                  OECD  False   \n",
       "111                           World Bank   True   \n",
       "\n",
       "                                Filename  \n",
       "75                     b2c_ecommerse_idx  \n",
       "76               network_readiness_index  \n",
       "77                             ict_goods  \n",
       "78                             ict_goods  \n",
       "79                          ict_services  \n",
       "80                          ict_services  \n",
       "81                        cloud_services  \n",
       "82                        ICT_proportion  \n",
       "85                     business_internet  \n",
       "86                    business_broadband  \n",
       "87   share_of_businesses_online_presence  \n",
       "88                prevalance_gig_economy  \n",
       "89                  size_digital_economy  \n",
       "90                     venture_cap_avail  \n",
       "92                 legal_rights_strength  \n",
       "93                        time_start_bus  \n",
       "94                        ease_doing_bus  \n",
       "97     ease_of_finding_skilled_employees  \n",
       "98                   start_up_investment  \n",
       "111                        doing_bus_idx  "
      ]
     },
     "execution_count": 9,
     "metadata": {},
     "output_type": "execute_result"
    }
   ],
   "source": [
    "bnames.head(25)"
   ]
  },
  {
   "cell_type": "code",
   "execution_count": 10,
   "id": "ddc7767f",
   "metadata": {},
   "outputs": [],
   "source": [
    "# get list of names for all indicators\n",
    "indicators = bnames.Indicator.unique()"
   ]
  },
  {
   "cell_type": "code",
   "execution_count": 11,
   "id": "113d598a",
   "metadata": {},
   "outputs": [],
   "source": [
    "# get all file names\n",
    "bfiles = bnames.Filename.unique()"
   ]
  },
  {
   "cell_type": "code",
   "execution_count": 12,
   "id": "ac23f5f6",
   "metadata": {},
   "outputs": [
    {
     "data": {
      "text/plain": [
       "array(['b2c_ecommerse_idx', 'network_readiness_index', 'ict_goods',\n",
       "       'ict_services', 'cloud_services', 'ICT_proportion',\n",
       "       'business_internet', 'business_broadband',\n",
       "       'share_of_businesses_online_presence', 'prevalance_gig_economy',\n",
       "       'size_digital_economy', 'venture_cap_avail',\n",
       "       'legal_rights_strength', 'time_start_bus', 'ease_doing_bus',\n",
       "       'ease_of_finding_skilled_employees', 'start_up_investment',\n",
       "       'doing_bus_idx'], dtype=object)"
      ]
     },
     "execution_count": 12,
     "metadata": {},
     "output_type": "execute_result"
    }
   ],
   "source": [
    "bfiles"
   ]
  },
  {
   "cell_type": "code",
   "execution_count": 13,
   "id": "6cc00c41",
   "metadata": {
    "scrolled": true
   },
   "outputs": [],
   "source": [
    "# ls digital-readiness-assessment-main/processed/"
   ]
  },
  {
   "cell_type": "code",
   "execution_count": 14,
   "id": "fe3d6891",
   "metadata": {},
   "outputs": [],
   "source": [
    "##ict_goods and services not in process data"
   ]
  },
  {
   "cell_type": "code",
   "execution_count": 15,
   "id": "2485ce77",
   "metadata": {},
   "outputs": [],
   "source": [
    "# formula for converting scale\n",
    "def convert_rank(old_value, old_min=1, old_max=7, new_min=1, new_max=6 ):\n",
    "    \"\"\" Convert old scale values scale into new scale values\"\"\"\n",
    "    old_range = old_max - old_min\n",
    "    new_range = new_max - new_min\n",
    "    new_value = (((old_value-old_min)*new_range)/old_range)+new_min\n",
    "    return new_value"
   ]
  },
  {
   "cell_type": "markdown",
   "id": "7cac36ce",
   "metadata": {},
   "source": [
    "### 1. 'UNCTAD Business-to-Consumer (B2C) E-commerce Index'"
   ]
  },
  {
   "cell_type": "code",
   "execution_count": 16,
   "id": "e9e9f62f",
   "metadata": {},
   "outputs": [
    {
     "data": {
      "text/plain": [
       "'UNCTAD Business-to-Consumer (B2C) E-commerce Index'"
      ]
     },
     "execution_count": 16,
     "metadata": {},
     "output_type": "execute_result"
    }
   ],
   "source": [
    "indicators[0]"
   ]
  },
  {
   "cell_type": "code",
   "execution_count": 17,
   "id": "120e6f01",
   "metadata": {},
   "outputs": [
    {
     "name": "stdout",
     "output_type": "stream",
     "text": [
      "UNCTAD Business-to-Consumer (B2C) E-commerce Index\n",
      "b2c_ecommerse_idx\n"
     ]
    }
   ],
   "source": [
    "# load data\n",
    "indicator = indicators[0]\n",
    "print(indicator)\n",
    "bf = bnames[bnames['Indicator']==indicator]['Filename'].values[0]\n",
    "print(bf)\n",
    "\n",
    "df = pd.read_csv('../../processed/{}.csv'.format(bf))"
   ]
  },
  {
   "cell_type": "code",
   "execution_count": 18,
   "id": "b1a1c940",
   "metadata": {},
   "outputs": [
    {
     "data": {
      "text/plain": [
       "array(['Country rank and value in the UNCTAD B2C E-commerce Index'],\n",
       "      dtype=object)"
      ]
     },
     "execution_count": 18,
     "metadata": {},
     "output_type": "execute_result"
    }
   ],
   "source": [
    "df.Indicator.unique()"
   ]
  },
  {
   "cell_type": "code",
   "execution_count": 19,
   "id": "8de08f6e",
   "metadata": {},
   "outputs": [
    {
     "data": {
      "text/html": [
       "<div>\n",
       "<style scoped>\n",
       "    .dataframe tbody tr th:only-of-type {\n",
       "        vertical-align: middle;\n",
       "    }\n",
       "\n",
       "    .dataframe tbody tr th {\n",
       "        vertical-align: top;\n",
       "    }\n",
       "\n",
       "    .dataframe thead th {\n",
       "        text-align: right;\n",
       "    }\n",
       "</style>\n",
       "<table border=\"1\" class=\"dataframe\">\n",
       "  <thead>\n",
       "    <tr style=\"text-align: right;\">\n",
       "      <th></th>\n",
       "      <th>2015</th>\n",
       "      <th>2016</th>\n",
       "      <th>2017</th>\n",
       "      <th>Country ISO3</th>\n",
       "      <th>Country Name</th>\n",
       "      <th>Indicator Id</th>\n",
       "      <th>Indicator</th>\n",
       "      <th>Subindicator Type</th>\n",
       "    </tr>\n",
       "  </thead>\n",
       "  <tbody>\n",
       "    <tr>\n",
       "      <th>0</th>\n",
       "      <td>14.1</td>\n",
       "      <td>17.0</td>\n",
       "      <td>NaN</td>\n",
       "      <td>AFG</td>\n",
       "      <td>Afghanistan</td>\n",
       "      <td>24717</td>\n",
       "      <td>Country rank and value in the UNCTAD B2C E-com...</td>\n",
       "      <td>Value</td>\n",
       "    </tr>\n",
       "    <tr>\n",
       "      <th>1</th>\n",
       "      <td>NaN</td>\n",
       "      <td>130.0</td>\n",
       "      <td>132.0</td>\n",
       "      <td>AFG</td>\n",
       "      <td>Afghanistan</td>\n",
       "      <td>24718</td>\n",
       "      <td>Country rank and value in the UNCTAD B2C E-com...</td>\n",
       "      <td>Rank</td>\n",
       "    </tr>\n",
       "    <tr>\n",
       "      <th>2</th>\n",
       "      <td>21.1</td>\n",
       "      <td>29.0</td>\n",
       "      <td>NaN</td>\n",
       "      <td>AGO</td>\n",
       "      <td>Angola</td>\n",
       "      <td>24717</td>\n",
       "      <td>Country rank and value in the UNCTAD B2C E-com...</td>\n",
       "      <td>Value</td>\n",
       "    </tr>\n",
       "    <tr>\n",
       "      <th>3</th>\n",
       "      <td>NaN</td>\n",
       "      <td>113.0</td>\n",
       "      <td>113.0</td>\n",
       "      <td>AGO</td>\n",
       "      <td>Angola</td>\n",
       "      <td>24718</td>\n",
       "      <td>Country rank and value in the UNCTAD B2C E-com...</td>\n",
       "      <td>Rank</td>\n",
       "    </tr>\n",
       "    <tr>\n",
       "      <th>4</th>\n",
       "      <td>51.0</td>\n",
       "      <td>62.0</td>\n",
       "      <td>NaN</td>\n",
       "      <td>ALB</td>\n",
       "      <td>Albania</td>\n",
       "      <td>24717</td>\n",
       "      <td>Country rank and value in the UNCTAD B2C E-com...</td>\n",
       "      <td>Value</td>\n",
       "    </tr>\n",
       "  </tbody>\n",
       "</table>\n",
       "</div>"
      ],
      "text/plain": [
       "   2015   2016   2017 Country ISO3 Country Name  Indicator Id  \\\n",
       "0  14.1   17.0    NaN          AFG  Afghanistan         24717   \n",
       "1   NaN  130.0  132.0          AFG  Afghanistan         24718   \n",
       "2  21.1   29.0    NaN          AGO       Angola         24717   \n",
       "3   NaN  113.0  113.0          AGO       Angola         24718   \n",
       "4  51.0   62.0    NaN          ALB      Albania         24717   \n",
       "\n",
       "                                           Indicator Subindicator Type  \n",
       "0  Country rank and value in the UNCTAD B2C E-com...             Value  \n",
       "1  Country rank and value in the UNCTAD B2C E-com...              Rank  \n",
       "2  Country rank and value in the UNCTAD B2C E-com...             Value  \n",
       "3  Country rank and value in the UNCTAD B2C E-com...              Rank  \n",
       "4  Country rank and value in the UNCTAD B2C E-com...             Value  "
      ]
     },
     "execution_count": 19,
     "metadata": {},
     "output_type": "execute_result"
    }
   ],
   "source": [
    "df.head()"
   ]
  },
  {
   "cell_type": "code",
   "execution_count": 20,
   "id": "85e89b29",
   "metadata": {},
   "outputs": [
    {
     "data": {
      "text/plain": [
       "array(['Value', 'Rank'], dtype=object)"
      ]
     },
     "execution_count": 20,
     "metadata": {},
     "output_type": "execute_result"
    }
   ],
   "source": [
    "# two sub indicators per country\n",
    "df['Subindicator Type'].unique()"
   ]
  },
  {
   "cell_type": "code",
   "execution_count": 21,
   "id": "154210bf",
   "metadata": {},
   "outputs": [],
   "source": [
    "# list of columns with data\n",
    "value_cols = ['2015','2016','2017']"
   ]
  },
  {
   "cell_type": "code",
   "execution_count": 22,
   "id": "304c3594",
   "metadata": {},
   "outputs": [
    {
     "name": "stdout",
     "output_type": "stream",
     "text": [
      "<class 'pandas.core.frame.DataFrame'>\n",
      "Int64Index: 147 entries, 0 to 292\n",
      "Data columns (total 8 columns):\n",
      " #   Column             Non-Null Count  Dtype  \n",
      "---  ------             --------------  -----  \n",
      " 0   2015               137 non-null    float64\n",
      " 1   2016               136 non-null    float64\n",
      " 2   2017               0 non-null      float64\n",
      " 3   Country ISO3       147 non-null    object \n",
      " 4   Country Name       147 non-null    object \n",
      " 5   Indicator Id       147 non-null    int64  \n",
      " 6   Indicator          147 non-null    object \n",
      " 7   Subindicator Type  147 non-null    object \n",
      "dtypes: float64(3), int64(1), object(4)\n",
      "memory usage: 10.3+ KB\n"
     ]
    }
   ],
   "source": [
    "# value doesn't have data for 2017\n",
    "df[df['Subindicator Type']=='Value'].info()"
   ]
  },
  {
   "cell_type": "code",
   "execution_count": 23,
   "id": "30f77692",
   "metadata": {},
   "outputs": [
    {
     "data": {
      "text/html": [
       "<div>\n",
       "<style scoped>\n",
       "    .dataframe tbody tr th:only-of-type {\n",
       "        vertical-align: middle;\n",
       "    }\n",
       "\n",
       "    .dataframe tbody tr th {\n",
       "        vertical-align: top;\n",
       "    }\n",
       "\n",
       "    .dataframe thead th {\n",
       "        text-align: right;\n",
       "    }\n",
       "</style>\n",
       "<table border=\"1\" class=\"dataframe\">\n",
       "  <thead>\n",
       "    <tr style=\"text-align: right;\">\n",
       "      <th></th>\n",
       "      <th>2015</th>\n",
       "      <th>2016</th>\n",
       "      <th>2017</th>\n",
       "      <th>Indicator Id</th>\n",
       "    </tr>\n",
       "  </thead>\n",
       "  <tbody>\n",
       "    <tr>\n",
       "      <th>count</th>\n",
       "      <td>137.000000</td>\n",
       "      <td>136.000000</td>\n",
       "      <td>0.0</td>\n",
       "      <td>147.0</td>\n",
       "    </tr>\n",
       "    <tr>\n",
       "      <th>mean</th>\n",
       "      <td>47.151095</td>\n",
       "      <td>53.713382</td>\n",
       "      <td>NaN</td>\n",
       "      <td>24717.0</td>\n",
       "    </tr>\n",
       "    <tr>\n",
       "      <th>std</th>\n",
       "      <td>22.978008</td>\n",
       "      <td>26.604495</td>\n",
       "      <td>NaN</td>\n",
       "      <td>0.0</td>\n",
       "    </tr>\n",
       "    <tr>\n",
       "      <th>min</th>\n",
       "      <td>6.500000</td>\n",
       "      <td>3.000000</td>\n",
       "      <td>NaN</td>\n",
       "      <td>24717.0</td>\n",
       "    </tr>\n",
       "    <tr>\n",
       "      <th>25%</th>\n",
       "      <td>28.700000</td>\n",
       "      <td>32.000000</td>\n",
       "      <td>NaN</td>\n",
       "      <td>24717.0</td>\n",
       "    </tr>\n",
       "    <tr>\n",
       "      <th>50%</th>\n",
       "      <td>47.200000</td>\n",
       "      <td>53.000000</td>\n",
       "      <td>NaN</td>\n",
       "      <td>24717.0</td>\n",
       "    </tr>\n",
       "    <tr>\n",
       "      <th>75%</th>\n",
       "      <td>65.200000</td>\n",
       "      <td>78.250000</td>\n",
       "      <td>NaN</td>\n",
       "      <td>24717.0</td>\n",
       "    </tr>\n",
       "    <tr>\n",
       "      <th>max</th>\n",
       "      <td>89.700000</td>\n",
       "      <td>96.500000</td>\n",
       "      <td>NaN</td>\n",
       "      <td>24717.0</td>\n",
       "    </tr>\n",
       "  </tbody>\n",
       "</table>\n",
       "</div>"
      ],
      "text/plain": [
       "             2015        2016  2017  Indicator Id\n",
       "count  137.000000  136.000000   0.0         147.0\n",
       "mean    47.151095   53.713382   NaN       24717.0\n",
       "std     22.978008   26.604495   NaN           0.0\n",
       "min      6.500000    3.000000   NaN       24717.0\n",
       "25%     28.700000   32.000000   NaN       24717.0\n",
       "50%     47.200000   53.000000   NaN       24717.0\n",
       "75%     65.200000   78.250000   NaN       24717.0\n",
       "max     89.700000   96.500000   NaN       24717.0"
      ]
     },
     "execution_count": 23,
     "metadata": {},
     "output_type": "execute_result"
    }
   ],
   "source": [
    "df[df['Subindicator Type']=='Value'].describe()"
   ]
  },
  {
   "cell_type": "code",
   "execution_count": 24,
   "id": "62895f00",
   "metadata": {},
   "outputs": [
    {
     "name": "stdout",
     "output_type": "stream",
     "text": [
      "<class 'pandas.core.frame.DataFrame'>\n",
      "Int64Index: 147 entries, 1 to 293\n",
      "Data columns (total 8 columns):\n",
      " #   Column             Non-Null Count  Dtype  \n",
      "---  ------             --------------  -----  \n",
      " 0   2015               0 non-null      float64\n",
      " 1   2016               137 non-null    float64\n",
      " 2   2017               136 non-null    float64\n",
      " 3   Country ISO3       147 non-null    object \n",
      " 4   Country Name       147 non-null    object \n",
      " 5   Indicator Id       147 non-null    int64  \n",
      " 6   Indicator          147 non-null    object \n",
      " 7   Subindicator Type  147 non-null    object \n",
      "dtypes: float64(3), int64(1), object(4)\n",
      "memory usage: 10.3+ KB\n"
     ]
    }
   ],
   "source": [
    "# Rank does have 2017 data\n",
    "df[df['Subindicator Type']=='Rank'].info()"
   ]
  },
  {
   "cell_type": "code",
   "execution_count": 25,
   "id": "bfe11c13",
   "metadata": {},
   "outputs": [
    {
     "data": {
      "text/html": [
       "<div>\n",
       "<style scoped>\n",
       "    .dataframe tbody tr th:only-of-type {\n",
       "        vertical-align: middle;\n",
       "    }\n",
       "\n",
       "    .dataframe tbody tr th {\n",
       "        vertical-align: top;\n",
       "    }\n",
       "\n",
       "    .dataframe thead th {\n",
       "        text-align: right;\n",
       "    }\n",
       "</style>\n",
       "<table border=\"1\" class=\"dataframe\">\n",
       "  <thead>\n",
       "    <tr style=\"text-align: right;\">\n",
       "      <th></th>\n",
       "      <th>2015</th>\n",
       "      <th>2016</th>\n",
       "      <th>2017</th>\n",
       "      <th>Indicator Id</th>\n",
       "    </tr>\n",
       "  </thead>\n",
       "  <tbody>\n",
       "    <tr>\n",
       "      <th>count</th>\n",
       "      <td>0.0</td>\n",
       "      <td>137.000000</td>\n",
       "      <td>136.000000</td>\n",
       "      <td>147.0</td>\n",
       "    </tr>\n",
       "    <tr>\n",
       "      <th>mean</th>\n",
       "      <td>NaN</td>\n",
       "      <td>69.000000</td>\n",
       "      <td>73.066176</td>\n",
       "      <td>24718.0</td>\n",
       "    </tr>\n",
       "    <tr>\n",
       "      <th>std</th>\n",
       "      <td>NaN</td>\n",
       "      <td>39.692569</td>\n",
       "      <td>41.872682</td>\n",
       "      <td>0.0</td>\n",
       "    </tr>\n",
       "    <tr>\n",
       "      <th>min</th>\n",
       "      <td>NaN</td>\n",
       "      <td>1.000000</td>\n",
       "      <td>1.000000</td>\n",
       "      <td>24718.0</td>\n",
       "    </tr>\n",
       "    <tr>\n",
       "      <th>25%</th>\n",
       "      <td>NaN</td>\n",
       "      <td>35.000000</td>\n",
       "      <td>36.750000</td>\n",
       "      <td>24718.0</td>\n",
       "    </tr>\n",
       "    <tr>\n",
       "      <th>50%</th>\n",
       "      <td>NaN</td>\n",
       "      <td>69.000000</td>\n",
       "      <td>72.500000</td>\n",
       "      <td>24718.0</td>\n",
       "    </tr>\n",
       "    <tr>\n",
       "      <th>75%</th>\n",
       "      <td>NaN</td>\n",
       "      <td>103.000000</td>\n",
       "      <td>110.250000</td>\n",
       "      <td>24718.0</td>\n",
       "    </tr>\n",
       "    <tr>\n",
       "      <th>max</th>\n",
       "      <td>NaN</td>\n",
       "      <td>137.000000</td>\n",
       "      <td>144.000000</td>\n",
       "      <td>24718.0</td>\n",
       "    </tr>\n",
       "  </tbody>\n",
       "</table>\n",
       "</div>"
      ],
      "text/plain": [
       "       2015        2016        2017  Indicator Id\n",
       "count   0.0  137.000000  136.000000         147.0\n",
       "mean    NaN   69.000000   73.066176       24718.0\n",
       "std     NaN   39.692569   41.872682           0.0\n",
       "min     NaN    1.000000    1.000000       24718.0\n",
       "25%     NaN   35.000000   36.750000       24718.0\n",
       "50%     NaN   69.000000   72.500000       24718.0\n",
       "75%     NaN  103.000000  110.250000       24718.0\n",
       "max     NaN  137.000000  144.000000       24718.0"
      ]
     },
     "execution_count": 25,
     "metadata": {},
     "output_type": "execute_result"
    }
   ],
   "source": [
    "df[df['Subindicator Type']=='Rank'].describe()"
   ]
  },
  {
   "cell_type": "markdown",
   "id": "ff0d4c11",
   "metadata": {},
   "source": [
    "Going to use the rank column for now since it has more recent data"
   ]
  },
  {
   "cell_type": "code",
   "execution_count": 26,
   "id": "73db887a",
   "metadata": {},
   "outputs": [],
   "source": [
    "df_rank = df[df['Subindicator Type']=='Rank'].copy()"
   ]
  },
  {
   "cell_type": "code",
   "execution_count": 27,
   "id": "9e4b127c",
   "metadata": {},
   "outputs": [],
   "source": [
    "# convert rank into 1-6 - in order to get most recent data \n",
    "df_rank['data_col'] = df_rank['2017'] \n",
    "\n",
    "min_rank = df_rank['data_col'].min()\n",
    "max_rank = df_rank['data_col'].max()\n",
    "\n",
    "# transform 1-147 rank into 1-6\n",
    "df_rank['new_rank_score'] = df_rank['data_col'].apply(lambda row: convert_rank(row,old_min=min_rank,old_max=max_rank))\n",
    "\n",
    "# need to invert score since higher rank is not better \n",
    "df_rank['new_rank_score'] = (6-df_rank['new_rank_score'])+1"
   ]
  },
  {
   "cell_type": "code",
   "execution_count": 28,
   "id": "c317fa59",
   "metadata": {},
   "outputs": [],
   "source": [
    "# prep output\n",
    "\n",
    "df_rank.rename(columns={'Country ISO3':'Country Code'}, inplace=True)\n",
    "\n",
    "df_rank['higher_is_better'] = True\n",
    "\n",
    "\n",
    "# output scores to csv\n",
    "df_rank[['Country Code', 'Country Name','Indicator','data_col','new_rank_score','higher_is_better']].to_csv('../indicator_scores/{}_scores.csv'.format(bf), index=False)"
   ]
  },
  {
   "cell_type": "code",
   "execution_count": 29,
   "id": "7f2814dd",
   "metadata": {},
   "outputs": [
    {
     "data": {
      "text/html": [
       "<div>\n",
       "<style scoped>\n",
       "    .dataframe tbody tr th:only-of-type {\n",
       "        vertical-align: middle;\n",
       "    }\n",
       "\n",
       "    .dataframe tbody tr th {\n",
       "        vertical-align: top;\n",
       "    }\n",
       "\n",
       "    .dataframe thead th {\n",
       "        text-align: right;\n",
       "    }\n",
       "</style>\n",
       "<table border=\"1\" class=\"dataframe\">\n",
       "  <thead>\n",
       "    <tr style=\"text-align: right;\">\n",
       "      <th></th>\n",
       "      <th>Country Code</th>\n",
       "      <th>Country Name</th>\n",
       "      <th>Indicator</th>\n",
       "      <th>data_col</th>\n",
       "      <th>new_rank_score</th>\n",
       "      <th>higher_is_better</th>\n",
       "    </tr>\n",
       "  </thead>\n",
       "  <tbody>\n",
       "    <tr>\n",
       "      <th>1</th>\n",
       "      <td>AFG</td>\n",
       "      <td>Afghanistan</td>\n",
       "      <td>Country rank and value in the UNCTAD B2C E-com...</td>\n",
       "      <td>132.0</td>\n",
       "      <td>1.419580</td>\n",
       "      <td>True</td>\n",
       "    </tr>\n",
       "    <tr>\n",
       "      <th>3</th>\n",
       "      <td>AGO</td>\n",
       "      <td>Angola</td>\n",
       "      <td>Country rank and value in the UNCTAD B2C E-com...</td>\n",
       "      <td>113.0</td>\n",
       "      <td>2.083916</td>\n",
       "      <td>True</td>\n",
       "    </tr>\n",
       "    <tr>\n",
       "      <th>5</th>\n",
       "      <td>ALB</td>\n",
       "      <td>Albania</td>\n",
       "      <td>Country rank and value in the UNCTAD B2C E-com...</td>\n",
       "      <td>59.0</td>\n",
       "      <td>3.972028</td>\n",
       "      <td>True</td>\n",
       "    </tr>\n",
       "    <tr>\n",
       "      <th>7</th>\n",
       "      <td>ARE</td>\n",
       "      <td>United Arab Emirates</td>\n",
       "      <td>Country rank and value in the UNCTAD B2C E-com...</td>\n",
       "      <td>23.0</td>\n",
       "      <td>5.230769</td>\n",
       "      <td>True</td>\n",
       "    </tr>\n",
       "    <tr>\n",
       "      <th>9</th>\n",
       "      <td>ARG</td>\n",
       "      <td>Argentina</td>\n",
       "      <td>Country rank and value in the UNCTAD B2C E-com...</td>\n",
       "      <td>81.0</td>\n",
       "      <td>3.202797</td>\n",
       "      <td>True</td>\n",
       "    </tr>\n",
       "    <tr>\n",
       "      <th>11</th>\n",
       "      <td>ARM</td>\n",
       "      <td>Armenia</td>\n",
       "      <td>Country rank and value in the UNCTAD B2C E-com...</td>\n",
       "      <td>78.0</td>\n",
       "      <td>3.307692</td>\n",
       "      <td>True</td>\n",
       "    </tr>\n",
       "    <tr>\n",
       "      <th>13</th>\n",
       "      <td>AUS</td>\n",
       "      <td>Australia</td>\n",
       "      <td>Country rank and value in the UNCTAD B2C E-com...</td>\n",
       "      <td>14.0</td>\n",
       "      <td>5.545455</td>\n",
       "      <td>True</td>\n",
       "    </tr>\n",
       "    <tr>\n",
       "      <th>15</th>\n",
       "      <td>AUT</td>\n",
       "      <td>Austria</td>\n",
       "      <td>Country rank and value in the UNCTAD B2C E-com...</td>\n",
       "      <td>17.0</td>\n",
       "      <td>5.440559</td>\n",
       "      <td>True</td>\n",
       "    </tr>\n",
       "    <tr>\n",
       "      <th>17</th>\n",
       "      <td>AZE</td>\n",
       "      <td>Azerbaijan</td>\n",
       "      <td>Country rank and value in the UNCTAD B2C E-com...</td>\n",
       "      <td>68.0</td>\n",
       "      <td>3.657343</td>\n",
       "      <td>True</td>\n",
       "    </tr>\n",
       "    <tr>\n",
       "      <th>19</th>\n",
       "      <td>BDI</td>\n",
       "      <td>Burundi</td>\n",
       "      <td>Country rank and value in the UNCTAD B2C E-com...</td>\n",
       "      <td>140.0</td>\n",
       "      <td>1.139860</td>\n",
       "      <td>True</td>\n",
       "    </tr>\n",
       "    <tr>\n",
       "      <th>21</th>\n",
       "      <td>BEL</td>\n",
       "      <td>Belgium</td>\n",
       "      <td>Country rank and value in the UNCTAD B2C E-com...</td>\n",
       "      <td>22.0</td>\n",
       "      <td>5.265734</td>\n",
       "      <td>True</td>\n",
       "    </tr>\n",
       "    <tr>\n",
       "      <th>23</th>\n",
       "      <td>BEN</td>\n",
       "      <td>Benin</td>\n",
       "      <td>Country rank and value in the UNCTAD B2C E-com...</td>\n",
       "      <td>138.0</td>\n",
       "      <td>1.209790</td>\n",
       "      <td>True</td>\n",
       "    </tr>\n",
       "    <tr>\n",
       "      <th>25</th>\n",
       "      <td>BFA</td>\n",
       "      <td>Burkina Faso</td>\n",
       "      <td>Country rank and value in the UNCTAD B2C E-com...</td>\n",
       "      <td>128.0</td>\n",
       "      <td>1.559441</td>\n",
       "      <td>True</td>\n",
       "    </tr>\n",
       "    <tr>\n",
       "      <th>27</th>\n",
       "      <td>BGD</td>\n",
       "      <td>Bangladesh</td>\n",
       "      <td>Country rank and value in the UNCTAD B2C E-com...</td>\n",
       "      <td>103.0</td>\n",
       "      <td>2.433566</td>\n",
       "      <td>True</td>\n",
       "    </tr>\n",
       "    <tr>\n",
       "      <th>29</th>\n",
       "      <td>BGR</td>\n",
       "      <td>Bulgaria</td>\n",
       "      <td>Country rank and value in the UNCTAD B2C E-com...</td>\n",
       "      <td>50.0</td>\n",
       "      <td>4.286713</td>\n",
       "      <td>True</td>\n",
       "    </tr>\n",
       "  </tbody>\n",
       "</table>\n",
       "</div>"
      ],
      "text/plain": [
       "   Country Code          Country Name  \\\n",
       "1           AFG           Afghanistan   \n",
       "3           AGO                Angola   \n",
       "5           ALB               Albania   \n",
       "7           ARE  United Arab Emirates   \n",
       "9           ARG             Argentina   \n",
       "11          ARM               Armenia   \n",
       "13          AUS             Australia   \n",
       "15          AUT               Austria   \n",
       "17          AZE            Azerbaijan   \n",
       "19          BDI               Burundi   \n",
       "21          BEL               Belgium   \n",
       "23          BEN                 Benin   \n",
       "25          BFA          Burkina Faso   \n",
       "27          BGD            Bangladesh   \n",
       "29          BGR              Bulgaria   \n",
       "\n",
       "                                            Indicator  data_col  \\\n",
       "1   Country rank and value in the UNCTAD B2C E-com...     132.0   \n",
       "3   Country rank and value in the UNCTAD B2C E-com...     113.0   \n",
       "5   Country rank and value in the UNCTAD B2C E-com...      59.0   \n",
       "7   Country rank and value in the UNCTAD B2C E-com...      23.0   \n",
       "9   Country rank and value in the UNCTAD B2C E-com...      81.0   \n",
       "11  Country rank and value in the UNCTAD B2C E-com...      78.0   \n",
       "13  Country rank and value in the UNCTAD B2C E-com...      14.0   \n",
       "15  Country rank and value in the UNCTAD B2C E-com...      17.0   \n",
       "17  Country rank and value in the UNCTAD B2C E-com...      68.0   \n",
       "19  Country rank and value in the UNCTAD B2C E-com...     140.0   \n",
       "21  Country rank and value in the UNCTAD B2C E-com...      22.0   \n",
       "23  Country rank and value in the UNCTAD B2C E-com...     138.0   \n",
       "25  Country rank and value in the UNCTAD B2C E-com...     128.0   \n",
       "27  Country rank and value in the UNCTAD B2C E-com...     103.0   \n",
       "29  Country rank and value in the UNCTAD B2C E-com...      50.0   \n",
       "\n",
       "    new_rank_score  higher_is_better  \n",
       "1         1.419580              True  \n",
       "3         2.083916              True  \n",
       "5         3.972028              True  \n",
       "7         5.230769              True  \n",
       "9         3.202797              True  \n",
       "11        3.307692              True  \n",
       "13        5.545455              True  \n",
       "15        5.440559              True  \n",
       "17        3.657343              True  \n",
       "19        1.139860              True  \n",
       "21        5.265734              True  \n",
       "23        1.209790              True  \n",
       "25        1.559441              True  \n",
       "27        2.433566              True  \n",
       "29        4.286713              True  "
      ]
     },
     "execution_count": 29,
     "metadata": {},
     "output_type": "execute_result"
    }
   ],
   "source": [
    "df_rank[['Country Code', 'Country Name','Indicator','data_col','new_rank_score','higher_is_better']].head(15)\n"
   ]
  },
  {
   "cell_type": "markdown",
   "id": "ddce2144",
   "metadata": {},
   "source": [
    "## 2. Networking Services (Spend, IT Forecast Data)\n"
   ]
  },
  {
   "cell_type": "code",
   "execution_count": 30,
   "id": "5b050cf4",
   "metadata": {},
   "outputs": [
    {
     "name": "stdout",
     "output_type": "stream",
     "text": [
      "Networking Services (Spend, IT Forecast Data)\n",
      "network_readiness_index\n"
     ]
    }
   ],
   "source": [
    "indicator = indicators[1]\n",
    "print(indicator)\n",
    "bf = bnames[bnames['Indicator']==indicator]['Filename'].values[0]\n",
    "print(bf)\n",
    "\n",
    "df = pd.read_csv('../../processed/{}.csv'.format(bf))"
   ]
  },
  {
   "cell_type": "code",
   "execution_count": 31,
   "id": "bf5a4ed7",
   "metadata": {},
   "outputs": [],
   "source": [
    "# no DATE associated wiht the data"
   ]
  },
  {
   "cell_type": "code",
   "execution_count": 32,
   "id": "a6648924",
   "metadata": {
    "scrolled": true
   },
   "outputs": [
    {
     "data": {
      "text/html": [
       "<div>\n",
       "<style scoped>\n",
       "    .dataframe tbody tr th:only-of-type {\n",
       "        vertical-align: middle;\n",
       "    }\n",
       "\n",
       "    .dataframe tbody tr th {\n",
       "        vertical-align: top;\n",
       "    }\n",
       "\n",
       "    .dataframe thead th {\n",
       "        text-align: right;\n",
       "    }\n",
       "</style>\n",
       "<table border=\"1\" class=\"dataframe\">\n",
       "  <thead>\n",
       "    <tr style=\"text-align: right;\">\n",
       "      <th></th>\n",
       "      <th>Rank</th>\n",
       "      <th>Country</th>\n",
       "      <th>Score</th>\n",
       "      <th>Income Group</th>\n",
       "      <th>Region</th>\n",
       "    </tr>\n",
       "  </thead>\n",
       "  <tbody>\n",
       "    <tr>\n",
       "      <th>0</th>\n",
       "      <td>1</td>\n",
       "      <td>Sweden</td>\n",
       "      <td>82.75</td>\n",
       "      <td>High-income</td>\n",
       "      <td>Europe</td>\n",
       "    </tr>\n",
       "    <tr>\n",
       "      <th>1</th>\n",
       "      <td>2</td>\n",
       "      <td>Denmark</td>\n",
       "      <td>82.19</td>\n",
       "      <td>High-income</td>\n",
       "      <td>Europe</td>\n",
       "    </tr>\n",
       "    <tr>\n",
       "      <th>2</th>\n",
       "      <td>3</td>\n",
       "      <td>Singapore</td>\n",
       "      <td>81.39</td>\n",
       "      <td>High-income</td>\n",
       "      <td>Asia &amp; Pacific</td>\n",
       "    </tr>\n",
       "    <tr>\n",
       "      <th>3</th>\n",
       "      <td>4</td>\n",
       "      <td>Netherlands</td>\n",
       "      <td>81.37</td>\n",
       "      <td>High-income</td>\n",
       "      <td>Europe</td>\n",
       "    </tr>\n",
       "    <tr>\n",
       "      <th>4</th>\n",
       "      <td>5</td>\n",
       "      <td>Switzerland</td>\n",
       "      <td>80.41</td>\n",
       "      <td>High-income</td>\n",
       "      <td>Europe</td>\n",
       "    </tr>\n",
       "    <tr>\n",
       "      <th>5</th>\n",
       "      <td>6</td>\n",
       "      <td>Finland</td>\n",
       "      <td>80.16</td>\n",
       "      <td>High-income</td>\n",
       "      <td>Europe</td>\n",
       "    </tr>\n",
       "    <tr>\n",
       "      <th>6</th>\n",
       "      <td>7</td>\n",
       "      <td>Norway</td>\n",
       "      <td>79.39</td>\n",
       "      <td>High-income</td>\n",
       "      <td>Europe</td>\n",
       "    </tr>\n",
       "    <tr>\n",
       "      <th>7</th>\n",
       "      <td>8</td>\n",
       "      <td>United States</td>\n",
       "      <td>78.91</td>\n",
       "      <td>High-income</td>\n",
       "      <td>The Americas</td>\n",
       "    </tr>\n",
       "    <tr>\n",
       "      <th>8</th>\n",
       "      <td>9</td>\n",
       "      <td>Germany</td>\n",
       "      <td>77.48</td>\n",
       "      <td>High-income</td>\n",
       "      <td>Europe</td>\n",
       "    </tr>\n",
       "    <tr>\n",
       "      <th>9</th>\n",
       "      <td>10</td>\n",
       "      <td>United Kingdom</td>\n",
       "      <td>76.27</td>\n",
       "      <td>High-income</td>\n",
       "      <td>Europe</td>\n",
       "    </tr>\n",
       "    <tr>\n",
       "      <th>10</th>\n",
       "      <td>11</td>\n",
       "      <td>Luxembourg</td>\n",
       "      <td>75.27</td>\n",
       "      <td>High-income</td>\n",
       "      <td>Europe</td>\n",
       "    </tr>\n",
       "    <tr>\n",
       "      <th>11</th>\n",
       "      <td>12</td>\n",
       "      <td>Australia</td>\n",
       "      <td>75.09</td>\n",
       "      <td>High-income</td>\n",
       "      <td>Asia &amp; Pacific</td>\n",
       "    </tr>\n",
       "    <tr>\n",
       "      <th>12</th>\n",
       "      <td>13</td>\n",
       "      <td>Canada</td>\n",
       "      <td>74.92</td>\n",
       "      <td>High-income</td>\n",
       "      <td>The Americas</td>\n",
       "    </tr>\n",
       "    <tr>\n",
       "      <th>13</th>\n",
       "      <td>14</td>\n",
       "      <td>Korea, Rep.</td>\n",
       "      <td>74.60</td>\n",
       "      <td>High-income</td>\n",
       "      <td>Asia &amp; Pacific</td>\n",
       "    </tr>\n",
       "    <tr>\n",
       "      <th>14</th>\n",
       "      <td>15</td>\n",
       "      <td>Japan</td>\n",
       "      <td>73.54</td>\n",
       "      <td>High-income</td>\n",
       "      <td>Asia &amp; Pacific</td>\n",
       "    </tr>\n",
       "    <tr>\n",
       "      <th>15</th>\n",
       "      <td>16</td>\n",
       "      <td>New Zealand</td>\n",
       "      <td>73.27</td>\n",
       "      <td>High-income</td>\n",
       "      <td>Asia &amp; Pacific</td>\n",
       "    </tr>\n",
       "  </tbody>\n",
       "</table>\n",
       "</div>"
      ],
      "text/plain": [
       "    Rank          Country  Score  Income Group           Region\n",
       "0      1          Sweden   82.75  High-income           Europe \n",
       "1      2         Denmark   82.19  High-income           Europe \n",
       "2      3       Singapore   81.39  High-income   Asia & Pacific \n",
       "3      4     Netherlands   81.37  High-income           Europe \n",
       "4      5     Switzerland   80.41  High-income           Europe \n",
       "5      6         Finland   80.16  High-income           Europe \n",
       "6      7          Norway   79.39  High-income           Europe \n",
       "7      8   United States   78.91  High-income     The Americas \n",
       "8      9         Germany   77.48  High-income           Europe \n",
       "9     10  United Kingdom   76.27  High-income            Europe\n",
       "10    11      Luxembourg   75.27  High-income           Europe \n",
       "11    12       Australia   75.09  High-income   Asia & Pacific \n",
       "12    13          Canada   74.92  High-income     The Americas \n",
       "13    14     Korea, Rep.   74.60  High-income   Asia & Pacific \n",
       "14    15           Japan   73.54  High-income   Asia & Pacific \n",
       "15    16     New Zealand   73.27  High-income   Asia & Pacific "
      ]
     },
     "execution_count": 32,
     "metadata": {},
     "output_type": "execute_result"
    }
   ],
   "source": [
    "df.head(16)"
   ]
  },
  {
   "cell_type": "code",
   "execution_count": 33,
   "id": "917c6a52",
   "metadata": {},
   "outputs": [],
   "source": [
    "# going to use the  score column since this is already an Index"
   ]
  },
  {
   "cell_type": "code",
   "execution_count": 34,
   "id": "1eccf4ba",
   "metadata": {},
   "outputs": [],
   "source": [
    "# convert rank into 1-6 - in order to get most recent data \n",
    "df['data_col'] = df['Score'] \n",
    "\n",
    "# going to assume index is between 1-100 but not 100% sure\n",
    "min_rank = 1 #df['data_col'].min()\n",
    "max_rank = 100 #df['data_col'].max()\n",
    "\n",
    "# transform 1-100 rank into 1-6\n",
    "df['new_rank_score'] = df['data_col'].apply(lambda row: convert_rank(row,old_min=min_rank,old_max=max_rank))\n",
    "\n",
    "# need to invert score since higher rank is not better \n",
    "# df['new_rank_score'] = (6-df['new_rank_score'])+1"
   ]
  },
  {
   "cell_type": "code",
   "execution_count": 35,
   "id": "68370dc7",
   "metadata": {},
   "outputs": [],
   "source": [
    "# prepare output\n",
    "df.rename(columns={'Country':'Country Name'}, inplace=True)\n",
    "df['Indicator'] = indicator\n",
    "df['higher_is_better'] = True\n",
    "\n",
    "df[['Country Name','Indicator','data_col','new_rank_score','higher_is_better']].head(15)\n",
    "\n",
    "\n",
    "# output scores to csv\n",
    "df[['Country Name','Indicator','data_col','new_rank_score','higher_is_better']].to_csv('../indicator_scores/{}_scores.csv'.format(bf), index=False)"
   ]
  },
  {
   "cell_type": "markdown",
   "id": "288d740f",
   "metadata": {},
   "source": [
    "## 3. ICT Services Imports"
   ]
  },
  {
   "cell_type": "code",
   "execution_count": 36,
   "id": "5e772306",
   "metadata": {},
   "outputs": [
    {
     "name": "stdout",
     "output_type": "stream",
     "text": [
      "ICT goods exports \n",
      "ict_goods\n"
     ]
    }
   ],
   "source": [
    "indicator = indicators[2]\n",
    "print(indicator)\n",
    "bf = bnames[bnames['Indicator']==indicator]['Filename'].values[0]\n",
    "print(bf)\n",
    "\n",
    "df = pd.read_csv('../../processed/{}.csv'.format(bf))"
   ]
  },
  {
   "cell_type": "markdown",
   "id": "b18b96ca",
   "metadata": {},
   "source": [
    "The *ICT goods* file is actually *ICT services* data. Label is incorrect."
   ]
  },
  {
   "cell_type": "code",
   "execution_count": 37,
   "id": "01013890",
   "metadata": {},
   "outputs": [
    {
     "data": {
      "text/html": [
       "<div>\n",
       "<style scoped>\n",
       "    .dataframe tbody tr th:only-of-type {\n",
       "        vertical-align: middle;\n",
       "    }\n",
       "\n",
       "    .dataframe tbody tr th {\n",
       "        vertical-align: top;\n",
       "    }\n",
       "\n",
       "    .dataframe thead th {\n",
       "        text-align: right;\n",
       "    }\n",
       "</style>\n",
       "<table border=\"1\" class=\"dataframe\">\n",
       "  <thead>\n",
       "    <tr style=\"text-align: right;\">\n",
       "      <th></th>\n",
       "      <th>Year</th>\n",
       "      <th>Economy</th>\n",
       "      <th>Economy Label</th>\n",
       "      <th>Partner</th>\n",
       "      <th>Partner Label</th>\n",
       "      <th>Flow</th>\n",
       "      <th>Flow Label</th>\n",
       "      <th>IctProductCategory</th>\n",
       "      <th>IctProductCategory Label</th>\n",
       "      <th>Percentage of total merchandise trade</th>\n",
       "      <th>Percentage of total merchandise trade Footnote</th>\n",
       "    </tr>\n",
       "  </thead>\n",
       "  <tbody>\n",
       "    <tr>\n",
       "      <th>0</th>\n",
       "      <td>2000</td>\n",
       "      <td>0</td>\n",
       "      <td>World</td>\n",
       "      <td>0</td>\n",
       "      <td>World</td>\n",
       "      <td>1</td>\n",
       "      <td>Imports</td>\n",
       "      <td>ICT00</td>\n",
       "      <td>Total ICT goods</td>\n",
       "      <td>16.05745</td>\n",
       "      <td>NaN</td>\n",
       "    </tr>\n",
       "    <tr>\n",
       "      <th>1</th>\n",
       "      <td>2000</td>\n",
       "      <td>0</td>\n",
       "      <td>World</td>\n",
       "      <td>0</td>\n",
       "      <td>World</td>\n",
       "      <td>2</td>\n",
       "      <td>Exports</td>\n",
       "      <td>ICT00</td>\n",
       "      <td>Total ICT goods</td>\n",
       "      <td>16.02220</td>\n",
       "      <td>NaN</td>\n",
       "    </tr>\n",
       "    <tr>\n",
       "      <th>2</th>\n",
       "      <td>2000</td>\n",
       "      <td>0</td>\n",
       "      <td>World</td>\n",
       "      <td>0</td>\n",
       "      <td>World</td>\n",
       "      <td>3</td>\n",
       "      <td>Re-exports</td>\n",
       "      <td>ICT00</td>\n",
       "      <td>Total ICT goods</td>\n",
       "      <td>29.61627</td>\n",
       "      <td>NaN</td>\n",
       "    </tr>\n",
       "    <tr>\n",
       "      <th>3</th>\n",
       "      <td>2000</td>\n",
       "      <td>0</td>\n",
       "      <td>World</td>\n",
       "      <td>0</td>\n",
       "      <td>World</td>\n",
       "      <td>24</td>\n",
       "      <td>Re-imports</td>\n",
       "      <td>ICT00</td>\n",
       "      <td>Total ICT goods</td>\n",
       "      <td>31.78913</td>\n",
       "      <td>NaN</td>\n",
       "    </tr>\n",
       "    <tr>\n",
       "      <th>4</th>\n",
       "      <td>2000</td>\n",
       "      <td>8</td>\n",
       "      <td>Albania</td>\n",
       "      <td>0</td>\n",
       "      <td>World</td>\n",
       "      <td>1</td>\n",
       "      <td>Imports</td>\n",
       "      <td>ICT00</td>\n",
       "      <td>Total ICT goods</td>\n",
       "      <td>3.33276</td>\n",
       "      <td>NaN</td>\n",
       "    </tr>\n",
       "  </tbody>\n",
       "</table>\n",
       "</div>"
      ],
      "text/plain": [
       "   Year  Economy Economy Label  Partner Partner Label  Flow  Flow Label  \\\n",
       "0  2000        0         World        0         World     1     Imports   \n",
       "1  2000        0         World        0         World     2     Exports   \n",
       "2  2000        0         World        0         World     3  Re-exports   \n",
       "3  2000        0         World        0         World    24  Re-imports   \n",
       "4  2000        8       Albania        0         World     1     Imports   \n",
       "\n",
       "  IctProductCategory IctProductCategory Label  \\\n",
       "0              ICT00          Total ICT goods   \n",
       "1              ICT00          Total ICT goods   \n",
       "2              ICT00          Total ICT goods   \n",
       "3              ICT00          Total ICT goods   \n",
       "4              ICT00          Total ICT goods   \n",
       "\n",
       "   Percentage of total merchandise trade  \\\n",
       "0                               16.05745   \n",
       "1                               16.02220   \n",
       "2                               29.61627   \n",
       "3                               31.78913   \n",
       "4                                3.33276   \n",
       "\n",
       "  Percentage of total merchandise trade Footnote  \n",
       "0                                            NaN  \n",
       "1                                            NaN  \n",
       "2                                            NaN  \n",
       "3                                            NaN  \n",
       "4                                            NaN  "
      ]
     },
     "execution_count": 37,
     "metadata": {},
     "output_type": "execute_result"
    }
   ],
   "source": [
    "df.head()"
   ]
  },
  {
   "cell_type": "code",
   "execution_count": 38,
   "id": "d8effb11",
   "metadata": {
    "scrolled": true
   },
   "outputs": [],
   "source": [
    "dcol = 'Percentage of total merchandise trade'\n",
    "indicol = 'IctProductCategory Label'\n",
    "cname = 'Economy Label'\n",
    "\n",
    "# filter most recent year and imports\n",
    "df = df[(df.Year==2019)&(df['Flow Label']=='Imports')]\n",
    "\n",
    "# create the standard columns\n",
    "df['higher_is_better'] = True\n",
    "df['Indicator'] =  df[indicol]+' '+ df['Flow Label']\n",
    "df['Country Name'] = df[cname]\n",
    "# df['2019 [YR2019]'] = df['2019 [YR2019]'].astype(float)\n",
    "df['data_col'] = df[dcol]\n",
    "\n",
    "\n",
    "# convert 1-100 %  into 1-6\n",
    "df['new_rank_score'] = df['data_col'].apply(lambda row: convert_rank(row, old_min=0,old_max=100))\n",
    "\n",
    "df.sort_values(by='new_rank_score', ascending=False)\n",
    "\n",
    "# prepare output\n",
    "df = df[['Country Name', 'Indicator', 'data_col', 'new_rank_score','higher_is_better']]\n",
    "\n",
    "# output scores\n",
    "df.to_csv('../indicator_scores/{}_scores.csv'.format(bf+'_imports'), index=False)"
   ]
  },
  {
   "cell_type": "code",
   "execution_count": 39,
   "id": "af4d24dc",
   "metadata": {},
   "outputs": [
    {
     "data": {
      "text/html": [
       "<div>\n",
       "<style scoped>\n",
       "    .dataframe tbody tr th:only-of-type {\n",
       "        vertical-align: middle;\n",
       "    }\n",
       "\n",
       "    .dataframe tbody tr th {\n",
       "        vertical-align: top;\n",
       "    }\n",
       "\n",
       "    .dataframe thead th {\n",
       "        text-align: right;\n",
       "    }\n",
       "</style>\n",
       "<table border=\"1\" class=\"dataframe\">\n",
       "  <thead>\n",
       "    <tr style=\"text-align: right;\">\n",
       "      <th></th>\n",
       "      <th>Country Name</th>\n",
       "      <th>Indicator</th>\n",
       "      <th>data_col</th>\n",
       "      <th>new_rank_score</th>\n",
       "      <th>higher_is_better</th>\n",
       "    </tr>\n",
       "  </thead>\n",
       "  <tbody>\n",
       "    <tr>\n",
       "      <th>21134</th>\n",
       "      <td>World</td>\n",
       "      <td>Total ICT goods Imports</td>\n",
       "      <td>13.36253</td>\n",
       "      <td>1.668127</td>\n",
       "      <td>True</td>\n",
       "    </tr>\n",
       "    <tr>\n",
       "      <th>21138</th>\n",
       "      <td>Antigua and Barbuda</td>\n",
       "      <td>Total ICT goods Imports</td>\n",
       "      <td>3.57755</td>\n",
       "      <td>1.178878</td>\n",
       "      <td>True</td>\n",
       "    </tr>\n",
       "    <tr>\n",
       "      <th>21141</th>\n",
       "      <td>Azerbaijan</td>\n",
       "      <td>Total ICT goods Imports</td>\n",
       "      <td>3.94651</td>\n",
       "      <td>1.197326</td>\n",
       "      <td>True</td>\n",
       "    </tr>\n",
       "    <tr>\n",
       "      <th>21143</th>\n",
       "      <td>Argentina</td>\n",
       "      <td>Total ICT goods Imports</td>\n",
       "      <td>8.09647</td>\n",
       "      <td>1.404824</td>\n",
       "      <td>True</td>\n",
       "    </tr>\n",
       "    <tr>\n",
       "      <th>21146</th>\n",
       "      <td>Australia</td>\n",
       "      <td>Total ICT goods Imports</td>\n",
       "      <td>10.35458</td>\n",
       "      <td>1.517729</td>\n",
       "      <td>True</td>\n",
       "    </tr>\n",
       "    <tr>\n",
       "      <th>21149</th>\n",
       "      <td>Austria</td>\n",
       "      <td>Total ICT goods Imports</td>\n",
       "      <td>5.23378</td>\n",
       "      <td>1.261689</td>\n",
       "      <td>True</td>\n",
       "    </tr>\n",
       "    <tr>\n",
       "      <th>21151</th>\n",
       "      <td>Armenia</td>\n",
       "      <td>Total ICT goods Imports</td>\n",
       "      <td>5.21115</td>\n",
       "      <td>1.260557</td>\n",
       "      <td>True</td>\n",
       "    </tr>\n",
       "    <tr>\n",
       "      <th>21155</th>\n",
       "      <td>Barbados</td>\n",
       "      <td>Total ICT goods Imports</td>\n",
       "      <td>3.08026</td>\n",
       "      <td>1.154013</td>\n",
       "      <td>True</td>\n",
       "    </tr>\n",
       "    <tr>\n",
       "      <th>21157</th>\n",
       "      <td>Belgium</td>\n",
       "      <td>Total ICT goods Imports</td>\n",
       "      <td>3.36165</td>\n",
       "      <td>1.168083</td>\n",
       "      <td>True</td>\n",
       "    </tr>\n",
       "    <tr>\n",
       "      <th>21159</th>\n",
       "      <td>Bermuda</td>\n",
       "      <td>Total ICT goods Imports</td>\n",
       "      <td>2.02207</td>\n",
       "      <td>1.101104</td>\n",
       "      <td>True</td>\n",
       "    </tr>\n",
       "    <tr>\n",
       "      <th>21161</th>\n",
       "      <td>Bosnia and Herzegovina</td>\n",
       "      <td>Total ICT goods Imports</td>\n",
       "      <td>2.82787</td>\n",
       "      <td>1.141393</td>\n",
       "      <td>True</td>\n",
       "    </tr>\n",
       "    <tr>\n",
       "      <th>21163</th>\n",
       "      <td>Botswana</td>\n",
       "      <td>Total ICT goods Imports</td>\n",
       "      <td>2.92941</td>\n",
       "      <td>1.146470</td>\n",
       "      <td>True</td>\n",
       "    </tr>\n",
       "    <tr>\n",
       "      <th>21166</th>\n",
       "      <td>Brazil</td>\n",
       "      <td>Total ICT goods Imports</td>\n",
       "      <td>9.02468</td>\n",
       "      <td>1.451234</td>\n",
       "      <td>True</td>\n",
       "    </tr>\n",
       "    <tr>\n",
       "      <th>21169</th>\n",
       "      <td>Belize</td>\n",
       "      <td>Total ICT goods Imports</td>\n",
       "      <td>3.13291</td>\n",
       "      <td>1.156645</td>\n",
       "      <td>True</td>\n",
       "    </tr>\n",
       "    <tr>\n",
       "      <th>21172</th>\n",
       "      <td>Brunei Darussalam</td>\n",
       "      <td>Total ICT goods Imports</td>\n",
       "      <td>2.09483</td>\n",
       "      <td>1.104742</td>\n",
       "      <td>True</td>\n",
       "    </tr>\n",
       "  </tbody>\n",
       "</table>\n",
       "</div>"
      ],
      "text/plain": [
       "                 Country Name                Indicator  data_col  \\\n",
       "21134                   World  Total ICT goods Imports  13.36253   \n",
       "21138     Antigua and Barbuda  Total ICT goods Imports   3.57755   \n",
       "21141              Azerbaijan  Total ICT goods Imports   3.94651   \n",
       "21143               Argentina  Total ICT goods Imports   8.09647   \n",
       "21146               Australia  Total ICT goods Imports  10.35458   \n",
       "21149                 Austria  Total ICT goods Imports   5.23378   \n",
       "21151                 Armenia  Total ICT goods Imports   5.21115   \n",
       "21155                Barbados  Total ICT goods Imports   3.08026   \n",
       "21157                 Belgium  Total ICT goods Imports   3.36165   \n",
       "21159                 Bermuda  Total ICT goods Imports   2.02207   \n",
       "21161  Bosnia and Herzegovina  Total ICT goods Imports   2.82787   \n",
       "21163                Botswana  Total ICT goods Imports   2.92941   \n",
       "21166                  Brazil  Total ICT goods Imports   9.02468   \n",
       "21169                  Belize  Total ICT goods Imports   3.13291   \n",
       "21172       Brunei Darussalam  Total ICT goods Imports   2.09483   \n",
       "\n",
       "       new_rank_score  higher_is_better  \n",
       "21134        1.668127              True  \n",
       "21138        1.178878              True  \n",
       "21141        1.197326              True  \n",
       "21143        1.404824              True  \n",
       "21146        1.517729              True  \n",
       "21149        1.261689              True  \n",
       "21151        1.260557              True  \n",
       "21155        1.154013              True  \n",
       "21157        1.168083              True  \n",
       "21159        1.101104              True  \n",
       "21161        1.141393              True  \n",
       "21163        1.146470              True  \n",
       "21166        1.451234              True  \n",
       "21169        1.156645              True  \n",
       "21172        1.104742              True  "
      ]
     },
     "execution_count": 39,
     "metadata": {},
     "output_type": "execute_result"
    }
   ],
   "source": [
    "df.head(15)"
   ]
  },
  {
   "cell_type": "markdown",
   "id": "a09e01ef",
   "metadata": {},
   "source": [
    "## 4. ICT Services Exports"
   ]
  },
  {
   "cell_type": "code",
   "execution_count": 40,
   "id": "ccb6d2ff",
   "metadata": {},
   "outputs": [
    {
     "name": "stdout",
     "output_type": "stream",
     "text": [
      "ICT goods imports \n",
      "ict_goods\n"
     ]
    }
   ],
   "source": [
    "indicator = indicators[3]\n",
    "print(indicator)\n",
    "bf = bnames[bnames['Indicator']==indicator]['Filename'].values[0]\n",
    "print(bf)\n",
    "\n",
    "df = pd.read_csv('../../processed/{}.csv'.format(bf))"
   ]
  },
  {
   "cell_type": "markdown",
   "id": "1d221c1a",
   "metadata": {},
   "source": [
    "The *ICT goods* file is actually *ICT services* data. Label is incorrect."
   ]
  },
  {
   "cell_type": "code",
   "execution_count": 41,
   "id": "04f073a6",
   "metadata": {
    "scrolled": true
   },
   "outputs": [
    {
     "ename": "KeyError",
     "evalue": "'Category Label'",
     "output_type": "error",
     "traceback": [
      "\u001b[1;31m---------------------------------------------------------------------------\u001b[0m",
      "\u001b[1;31mKeyError\u001b[0m                                  Traceback (most recent call last)",
      "\u001b[1;32mD:\\Apps\\Anaconda\\lib\\site-packages\\pandas\\core\\indexes\\base.py\u001b[0m in \u001b[0;36mget_loc\u001b[1;34m(self, key, method, tolerance)\u001b[0m\n\u001b[0;32m   3079\u001b[0m             \u001b[1;32mtry\u001b[0m\u001b[1;33m:\u001b[0m\u001b[1;33m\u001b[0m\u001b[1;33m\u001b[0m\u001b[0m\n\u001b[1;32m-> 3080\u001b[1;33m                 \u001b[1;32mreturn\u001b[0m \u001b[0mself\u001b[0m\u001b[1;33m.\u001b[0m\u001b[0m_engine\u001b[0m\u001b[1;33m.\u001b[0m\u001b[0mget_loc\u001b[0m\u001b[1;33m(\u001b[0m\u001b[0mcasted_key\u001b[0m\u001b[1;33m)\u001b[0m\u001b[1;33m\u001b[0m\u001b[1;33m\u001b[0m\u001b[0m\n\u001b[0m\u001b[0;32m   3081\u001b[0m             \u001b[1;32mexcept\u001b[0m \u001b[0mKeyError\u001b[0m \u001b[1;32mas\u001b[0m \u001b[0merr\u001b[0m\u001b[1;33m:\u001b[0m\u001b[1;33m\u001b[0m\u001b[1;33m\u001b[0m\u001b[0m\n",
      "\u001b[1;32mpandas\\_libs\\index.pyx\u001b[0m in \u001b[0;36mpandas._libs.index.IndexEngine.get_loc\u001b[1;34m()\u001b[0m\n",
      "\u001b[1;32mpandas\\_libs\\index.pyx\u001b[0m in \u001b[0;36mpandas._libs.index.IndexEngine.get_loc\u001b[1;34m()\u001b[0m\n",
      "\u001b[1;32mpandas\\_libs\\hashtable_class_helper.pxi\u001b[0m in \u001b[0;36mpandas._libs.hashtable.PyObjectHashTable.get_item\u001b[1;34m()\u001b[0m\n",
      "\u001b[1;32mpandas\\_libs\\hashtable_class_helper.pxi\u001b[0m in \u001b[0;36mpandas._libs.hashtable.PyObjectHashTable.get_item\u001b[1;34m()\u001b[0m\n",
      "\u001b[1;31mKeyError\u001b[0m: 'Category Label'",
      "\nThe above exception was the direct cause of the following exception:\n",
      "\u001b[1;31mKeyError\u001b[0m                                  Traceback (most recent call last)",
      "\u001b[1;32m<ipython-input-41-04f3b370f38c>\u001b[0m in \u001b[0;36m<module>\u001b[1;34m\u001b[0m\n\u001b[0;32m      8\u001b[0m \u001b[1;31m# create standard columns\u001b[0m\u001b[1;33m\u001b[0m\u001b[1;33m\u001b[0m\u001b[1;33m\u001b[0m\u001b[0m\n\u001b[0;32m      9\u001b[0m \u001b[0mdf\u001b[0m\u001b[1;33m[\u001b[0m\u001b[1;34m'higher_is_better'\u001b[0m\u001b[1;33m]\u001b[0m \u001b[1;33m=\u001b[0m \u001b[1;32mTrue\u001b[0m\u001b[1;33m\u001b[0m\u001b[1;33m\u001b[0m\u001b[0m\n\u001b[1;32m---> 10\u001b[1;33m \u001b[0mdf\u001b[0m\u001b[1;33m[\u001b[0m\u001b[1;34m'Indicator'\u001b[0m\u001b[1;33m]\u001b[0m \u001b[1;33m=\u001b[0m  \u001b[0mdf\u001b[0m\u001b[1;33m[\u001b[0m\u001b[0mindicol\u001b[0m\u001b[1;33m]\u001b[0m\u001b[1;33m+\u001b[0m\u001b[1;34m' '\u001b[0m\u001b[1;33m+\u001b[0m \u001b[0mdf\u001b[0m\u001b[1;33m[\u001b[0m\u001b[1;34m'Flow Label'\u001b[0m\u001b[1;33m]\u001b[0m\u001b[1;33m\u001b[0m\u001b[1;33m\u001b[0m\u001b[0m\n\u001b[0m\u001b[0;32m     11\u001b[0m \u001b[0mdf\u001b[0m\u001b[1;33m[\u001b[0m\u001b[1;34m'Country Name'\u001b[0m\u001b[1;33m]\u001b[0m \u001b[1;33m=\u001b[0m \u001b[0mdf\u001b[0m\u001b[1;33m[\u001b[0m\u001b[0mcname\u001b[0m\u001b[1;33m]\u001b[0m\u001b[1;33m\u001b[0m\u001b[1;33m\u001b[0m\u001b[0m\n\u001b[0;32m     12\u001b[0m \u001b[1;31m# df['2019 [YR2019]'] = df['2019 [YR2019]'].astype(float)\u001b[0m\u001b[1;33m\u001b[0m\u001b[1;33m\u001b[0m\u001b[1;33m\u001b[0m\u001b[0m\n",
      "\u001b[1;32mD:\\Apps\\Anaconda\\lib\\site-packages\\pandas\\core\\frame.py\u001b[0m in \u001b[0;36m__getitem__\u001b[1;34m(self, key)\u001b[0m\n\u001b[0;32m   3022\u001b[0m             \u001b[1;32mif\u001b[0m \u001b[0mself\u001b[0m\u001b[1;33m.\u001b[0m\u001b[0mcolumns\u001b[0m\u001b[1;33m.\u001b[0m\u001b[0mnlevels\u001b[0m \u001b[1;33m>\u001b[0m \u001b[1;36m1\u001b[0m\u001b[1;33m:\u001b[0m\u001b[1;33m\u001b[0m\u001b[1;33m\u001b[0m\u001b[0m\n\u001b[0;32m   3023\u001b[0m                 \u001b[1;32mreturn\u001b[0m \u001b[0mself\u001b[0m\u001b[1;33m.\u001b[0m\u001b[0m_getitem_multilevel\u001b[0m\u001b[1;33m(\u001b[0m\u001b[0mkey\u001b[0m\u001b[1;33m)\u001b[0m\u001b[1;33m\u001b[0m\u001b[1;33m\u001b[0m\u001b[0m\n\u001b[1;32m-> 3024\u001b[1;33m             \u001b[0mindexer\u001b[0m \u001b[1;33m=\u001b[0m \u001b[0mself\u001b[0m\u001b[1;33m.\u001b[0m\u001b[0mcolumns\u001b[0m\u001b[1;33m.\u001b[0m\u001b[0mget_loc\u001b[0m\u001b[1;33m(\u001b[0m\u001b[0mkey\u001b[0m\u001b[1;33m)\u001b[0m\u001b[1;33m\u001b[0m\u001b[1;33m\u001b[0m\u001b[0m\n\u001b[0m\u001b[0;32m   3025\u001b[0m             \u001b[1;32mif\u001b[0m \u001b[0mis_integer\u001b[0m\u001b[1;33m(\u001b[0m\u001b[0mindexer\u001b[0m\u001b[1;33m)\u001b[0m\u001b[1;33m:\u001b[0m\u001b[1;33m\u001b[0m\u001b[1;33m\u001b[0m\u001b[0m\n\u001b[0;32m   3026\u001b[0m                 \u001b[0mindexer\u001b[0m \u001b[1;33m=\u001b[0m \u001b[1;33m[\u001b[0m\u001b[0mindexer\u001b[0m\u001b[1;33m]\u001b[0m\u001b[1;33m\u001b[0m\u001b[1;33m\u001b[0m\u001b[0m\n",
      "\u001b[1;32mD:\\Apps\\Anaconda\\lib\\site-packages\\pandas\\core\\indexes\\base.py\u001b[0m in \u001b[0;36mget_loc\u001b[1;34m(self, key, method, tolerance)\u001b[0m\n\u001b[0;32m   3080\u001b[0m                 \u001b[1;32mreturn\u001b[0m \u001b[0mself\u001b[0m\u001b[1;33m.\u001b[0m\u001b[0m_engine\u001b[0m\u001b[1;33m.\u001b[0m\u001b[0mget_loc\u001b[0m\u001b[1;33m(\u001b[0m\u001b[0mcasted_key\u001b[0m\u001b[1;33m)\u001b[0m\u001b[1;33m\u001b[0m\u001b[1;33m\u001b[0m\u001b[0m\n\u001b[0;32m   3081\u001b[0m             \u001b[1;32mexcept\u001b[0m \u001b[0mKeyError\u001b[0m \u001b[1;32mas\u001b[0m \u001b[0merr\u001b[0m\u001b[1;33m:\u001b[0m\u001b[1;33m\u001b[0m\u001b[1;33m\u001b[0m\u001b[0m\n\u001b[1;32m-> 3082\u001b[1;33m                 \u001b[1;32mraise\u001b[0m \u001b[0mKeyError\u001b[0m\u001b[1;33m(\u001b[0m\u001b[0mkey\u001b[0m\u001b[1;33m)\u001b[0m \u001b[1;32mfrom\u001b[0m \u001b[0merr\u001b[0m\u001b[1;33m\u001b[0m\u001b[1;33m\u001b[0m\u001b[0m\n\u001b[0m\u001b[0;32m   3083\u001b[0m \u001b[1;33m\u001b[0m\u001b[0m\n\u001b[0;32m   3084\u001b[0m         \u001b[1;32mif\u001b[0m \u001b[0mtolerance\u001b[0m \u001b[1;32mis\u001b[0m \u001b[1;32mnot\u001b[0m \u001b[1;32mNone\u001b[0m\u001b[1;33m:\u001b[0m\u001b[1;33m\u001b[0m\u001b[1;33m\u001b[0m\u001b[0m\n",
      "\u001b[1;31mKeyError\u001b[0m: 'Category Label'"
     ]
    }
   ],
   "source": [
    "dcol = 'Percentage of total trade in services'\n",
    "indicol = 'Category Label'\n",
    "cname = 'Economy Label'\n",
    "\n",
    "# filter most recent year\n",
    "df = df[(df.Year==2019)&(df['Flow Label']=='Exports')]\n",
    "\n",
    "# create standard columns\n",
    "df['higher_is_better'] = True\n",
    "df['Indicator'] =  df[indicol]+' '+ df['Flow Label']\n",
    "df['Country Name'] = df[cname]\n",
    "# df['2019 [YR2019]'] = df['2019 [YR2019]'].astype(float)\n",
    "df['data_col'] = df[dcol]\n",
    "\n",
    "\n",
    "# convert 1-100 %  into 1-6\n",
    "df['new_rank_score'] = df['data_col'].apply(lambda row: convert_rank(row, old_min=0,old_max=100))\n",
    "\n",
    "df.sort_values(by='new_rank_score', ascending=False)\n",
    "\n",
    "# prepare output\n",
    "df = df[['Country Name', 'Indicator', 'data_col', 'new_rank_score','higher_is_better']]\n",
    "\n",
    "# output scores\n",
    "df.to_csv('../indicator_scores/{}_scores.csv'.format(bf+'_exports'), index=False)"
   ]
  },
  {
   "cell_type": "markdown",
   "id": "ba8969c8",
   "metadata": {},
   "source": [
    "## 5. ICT Goods Exports"
   ]
  },
  {
   "cell_type": "code",
   "execution_count": null,
   "id": "d3a596f0",
   "metadata": {},
   "outputs": [],
   "source": [
    "indicator = indicators[4]\n",
    "print(indicator)\n",
    "bf = bnames[bnames['Indicator']==indicator]['Filename'].values[0]\n",
    "print(bf)\n",
    "\n",
    "df = pd.read_csv('../../processed/{}.csv'.format(bf))"
   ]
  },
  {
   "cell_type": "code",
   "execution_count": null,
   "id": "fa38e81f",
   "metadata": {
    "scrolled": true
   },
   "outputs": [],
   "source": [
    "df[(df.Year==2019)&(df['Flow Label']=='Exports')].sort_values(by=dcol, ascending=False)"
   ]
  },
  {
   "cell_type": "code",
   "execution_count": null,
   "id": "b40eed0c",
   "metadata": {},
   "outputs": [],
   "source": [
    "dcol = 'Percentage of total merchandise trade'\n",
    "indicol = 'IctProductCategory Label'\n",
    "cname = 'Economy Label'\n",
    "\n",
    "# filter most recent year and exports\n",
    "df = df[(df.Year==2019)&(df['Flow Label']=='Exports')]\n",
    "\n",
    "# create standard columns\n",
    "df['higher_is_better'] = True\n",
    "df['Indicator'] =  df[indicol]+' '+ df['Flow Label']\n",
    "df['Country Name'] = df[cname]\n",
    "# df['2019 [YR2019]'] = df['2019 [YR2019]'].astype(float)\n",
    "df['data_col'] = df[dcol]\n",
    "\n",
    "\n",
    "# convert 1-100 %  into 1-6\n",
    "df['new_rank_score'] = df['data_col'].apply(lambda row: convert_rank(row, old_min=0,old_max=100))\n",
    "\n",
    "df.sort_values(by='new_rank_score', ascending=False)\n",
    "\n",
    "# prepare output\n",
    "df = df[['Country Name', 'Indicator', 'data_col', 'new_rank_score','higher_is_better']]\n",
    "\n",
    "# output scores\n",
    "df.to_csv('../indicator_scores/{}_scores.csv'.format(bf+'_exports'), index=False)"
   ]
  },
  {
   "cell_type": "code",
   "execution_count": null,
   "id": "8780e731",
   "metadata": {},
   "outputs": [],
   "source": [
    "df.head()"
   ]
  },
  {
   "cell_type": "markdown",
   "id": "3f8b8d92",
   "metadata": {},
   "source": [
    "## 6. ICT Goods Imports"
   ]
  },
  {
   "cell_type": "code",
   "execution_count": null,
   "id": "c7aa2705",
   "metadata": {},
   "outputs": [],
   "source": [
    "indicator = indicators[5]\n",
    "print(indicator)\n",
    "bf = bnames[bnames['Indicator']==indicator]['Filename'].values[0]\n",
    "print(bf)\n",
    "\n",
    "df = pd.read_csv('../../processed/{}.csv'.format(bf))"
   ]
  },
  {
   "cell_type": "code",
   "execution_count": null,
   "id": "55091eda",
   "metadata": {},
   "outputs": [],
   "source": [
    "df.head()"
   ]
  },
  {
   "cell_type": "code",
   "execution_count": null,
   "id": "b871284d",
   "metadata": {},
   "outputs": [],
   "source": [
    "dcol = 'Percentage of total merchandise trade'\n",
    "indicol = 'IctProductCategory Label'\n",
    "cname = 'Economy Label'\n",
    "\n",
    "# filter most recent year and exports\n",
    "df = df[(df.Year==2019)&(df['Flow Label']=='Imports')]\n",
    "\n",
    "# create standard columns\n",
    "df['higher_is_better'] = True\n",
    "df['Indicator'] =  df[indicol]+' '+ df['Flow Label']\n",
    "df['Country Name'] = df[cname]\n",
    "# df['2019 [YR2019]'] = df['2019 [YR2019]'].astype(float)\n",
    "df['data_col'] = df[dcol]\n",
    "\n",
    "\n",
    "# convert 1-100 %  into 1-6\n",
    "df['new_rank_score'] = df['data_col'].apply(lambda row: convert_rank(row, old_min=0,old_max=100))\n",
    "\n",
    "df.sort_values(by='new_rank_score', ascending=False)\n",
    "\n",
    "# prepare output\n",
    "df = df[['Country Name', 'Indicator', 'data_col', 'new_rank_score','higher_is_better']]\n",
    "\n",
    "# output scores\n",
    "df.to_csv('../indicator_scores/{}_scores.csv'.format(bf+'_imports'), index=False)"
   ]
  },
  {
   "cell_type": "markdown",
   "id": "ec87a3e6",
   "metadata": {},
   "source": [
    "Question: do we want to use imports or exports?"
   ]
  },
  {
   "cell_type": "markdown",
   "id": "8f71f672",
   "metadata": {},
   "source": [
    "## 7. Cloud Services (Spend, IT Forecast Data)\n"
   ]
  },
  {
   "cell_type": "code",
   "execution_count": null,
   "id": "30d4ec71",
   "metadata": {},
   "outputs": [],
   "source": [
    "indicator = indicators[6]\n",
    "print(indicator)\n",
    "bf = bnames[bnames['Indicator']==indicator]['Filename'].values[0]\n",
    "print(bf)\n",
    "\n",
    "df = pd.read_csv('../../processed/{}.csv'.format(bf))"
   ]
  },
  {
   "cell_type": "code",
   "execution_count": null,
   "id": "c815a353",
   "metadata": {},
   "outputs": [],
   "source": [
    "# remove nulls\n",
    "df = df.dropna()"
   ]
  },
  {
   "cell_type": "code",
   "execution_count": null,
   "id": "db80a11c",
   "metadata": {},
   "outputs": [],
   "source": [
    "# prepare standard columns\n",
    "df['data_col'] = df['Unnamed: 1'].astype(float)\n",
    "df['Indicator'] = indicator\n",
    "df['higher_is_better'] = True"
   ]
  },
  {
   "cell_type": "code",
   "execution_count": null,
   "id": "f333af1e",
   "metadata": {},
   "outputs": [],
   "source": [
    "# create country name column\n",
    "df['Country Name'] = df['Cloud computing policy environment by category - country ranking 2018']"
   ]
  },
  {
   "cell_type": "code",
   "execution_count": null,
   "id": "6cf4bacf",
   "metadata": {},
   "outputs": [],
   "source": [
    "min_rank = 1\n",
    "max_rank = df['Country Name'].nunique()"
   ]
  },
  {
   "cell_type": "code",
   "execution_count": null,
   "id": "9f3e714a",
   "metadata": {},
   "outputs": [],
   "source": [
    "# transform 1-24 rank into 1-6\n",
    "df['new_rank_score'] = df['data_col'].apply(lambda row: convert_rank(row,old_min=min_rank,old_max=max_rank))\n",
    "\n",
    "# need to invert score since higher rank is not better \n",
    "# df['new_rank_score'] = (6-df['new_rank_score'])+1"
   ]
  },
  {
   "cell_type": "code",
   "execution_count": null,
   "id": "53a4864e",
   "metadata": {},
   "outputs": [],
   "source": [
    "# prepare output\n",
    "df.sort_values(by='new_rank_score', ascending=False)\n",
    "\n",
    "# prepare output\n",
    "df = df[['Country Name', 'Indicator', 'data_col', 'new_rank_score','higher_is_better']]\n",
    "\n",
    "# output scores\n",
    "df.to_csv('../indicator_scores/{}_scores.csv'.format(bf), index=False)"
   ]
  },
  {
   "cell_type": "markdown",
   "id": "d5e41c8a",
   "metadata": {},
   "source": [
    "## 8. ICT task-intensive jobs as a percentage of total employment"
   ]
  },
  {
   "cell_type": "code",
   "execution_count": null,
   "id": "5f97a510",
   "metadata": {},
   "outputs": [],
   "source": [
    "indicator = indicators[7]\n",
    "print(indicator)\n",
    "bf = bnames[bnames['Indicator']==indicator]['Filename'].values[0]\n",
    "print(bf)\n",
    "\n",
    "df = pd.read_csv('../../processed/{}.csv'.format(bf))"
   ]
  },
  {
   "cell_type": "code",
   "execution_count": null,
   "id": "ffdf36e3",
   "metadata": {},
   "outputs": [],
   "source": [
    "df.head()"
   ]
  },
  {
   "cell_type": "code",
   "execution_count": null,
   "id": "e73d71da",
   "metadata": {},
   "outputs": [],
   "source": [
    "df[(df['Time']==2018)&(df['Information and communication technologies']=='ICT-intensive')].sort_values(by='Value', ascending=False)"
   ]
  },
  {
   "cell_type": "code",
   "execution_count": null,
   "id": "b871348e",
   "metadata": {},
   "outputs": [],
   "source": [
    "# bnames"
   ]
  },
  {
   "cell_type": "code",
   "execution_count": null,
   "id": "e128158d",
   "metadata": {},
   "outputs": [],
   "source": [
    "df['Information and communication technologies'].unique()"
   ]
  },
  {
   "cell_type": "code",
   "execution_count": null,
   "id": "aabcc0b8",
   "metadata": {},
   "outputs": [],
   "source": [
    "df.Sex.unique()"
   ]
  },
  {
   "cell_type": "code",
   "execution_count": null,
   "id": "6dd4defa",
   "metadata": {},
   "outputs": [],
   "source": [
    "# convert to correct types\n",
    "df['Value'] = df['Value'].astype(float)"
   ]
  },
  {
   "cell_type": "code",
   "execution_count": null,
   "id": "bc08bf1a",
   "metadata": {},
   "outputs": [],
   "source": [
    "df['Value'].describe()"
   ]
  },
  {
   "cell_type": "code",
   "execution_count": null,
   "id": "584015da",
   "metadata": {},
   "outputs": [],
   "source": [
    "# filter on relevant years\n",
    "df = df[(df['Time']==2017)&(df['Information and communication technologies']=='ICT-intensive')]\n",
    "\n",
    "# convert rank into 1-6 - in order to get most recent data \n",
    "df['data_col'] = df['Value'] \n",
    "\n",
    "# going to assume index is between 1-100 but not 100% sure\n",
    "min_rank = 0 #df['data_col'].min()\n",
    "max_rank = 100 #df['data_col'].max()\n",
    "\n",
    "# transform 1-147 rank into 1-6\n",
    "df['new_rank_score'] = df['data_col'].apply(lambda row: convert_rank(row,old_min=min_rank,old_max=max_rank))\n",
    "\n",
    "# need to invert score since higher rank is not better \n",
    "# df['new_rank_score'] = (6-df['new_rank_score'])+1\n",
    "\n",
    "# df_rank[['Country ISO3', 'Country Name','Indicator','data_col','new_rank_score']].head()\n",
    "\n",
    "df.rename(columns={'Country':'Country Name'}, inplace=True)\n",
    "df['Indicator'] = indicator\n",
    "df['higher_is_better'] = True\n",
    "\n",
    "df[['Country Name','Indicator','data_col','new_rank_score','higher_is_better']].head(15)\n",
    "\n",
    "\n",
    "# output scores to csv\n",
    "df[['Country Name','Indicator','data_col','new_rank_score','higher_is_better']].to_csv('../indicator_scores/{}_scores.csv'.format(bf), index=False)"
   ]
  },
  {
   "cell_type": "markdown",
   "id": "2c78f53a",
   "metadata": {},
   "source": [
    "## 9. Share of business with internet"
   ]
  },
  {
   "cell_type": "code",
   "execution_count": null,
   "id": "51083ed6",
   "metadata": {
    "scrolled": true
   },
   "outputs": [],
   "source": [
    "indicator = indicators[8]\n",
    "print(indicator)\n",
    "bf = bnames[bnames['Indicator']==indicator]['Filename'].values[0]\n",
    "print(bf)\n",
    "\n",
    "df = pd.read_csv('../../processed/{}.csv'.format(bf))"
   ]
  },
  {
   "cell_type": "markdown",
   "id": "19bcabe8",
   "metadata": {},
   "source": [
    "## 10. Share of businesses with broadband"
   ]
  },
  {
   "cell_type": "code",
   "execution_count": null,
   "id": "3b534b39",
   "metadata": {
    "scrolled": true
   },
   "outputs": [],
   "source": [
    "indicator = indicators[9]\n",
    "print(indicator)\n",
    "bf = bnames[bnames['Indicator']==indicator]['Filename'].values[0]\n",
    "print(bf)\n",
    "\n",
    "df = pd.read_csv('../../processed/{}.csv'.format(bf))"
   ]
  },
  {
   "cell_type": "markdown",
   "id": "1cbe13aa",
   "metadata": {},
   "source": [
    "No data found"
   ]
  },
  {
   "cell_type": "markdown",
   "id": "0c4fbb18",
   "metadata": {},
   "source": [
    "## 11. Share of businesses with online presence"
   ]
  },
  {
   "cell_type": "code",
   "execution_count": null,
   "id": "4f8c1f50",
   "metadata": {},
   "outputs": [],
   "source": [
    "indicator = indicators[10]\n",
    "print(indicator)\n",
    "bf = bnames[bnames['Indicator']==indicator]['Filename'].values[0]\n",
    "print(bf)\n",
    "\n",
    "df = pd.read_csv('../../processed/{}.csv'.format(bf))"
   ]
  },
  {
   "cell_type": "code",
   "execution_count": null,
   "id": "44903557",
   "metadata": {},
   "outputs": [],
   "source": [
    "df['Unnamed: 1'].unique()"
   ]
  },
  {
   "cell_type": "markdown",
   "id": "331fdbd7",
   "metadata": {},
   "source": [
    " No data in the file"
   ]
  },
  {
   "cell_type": "markdown",
   "id": "5b77f5e8",
   "metadata": {},
   "source": [
    "## 12. Share of businesses with online presence"
   ]
  },
  {
   "cell_type": "code",
   "execution_count": null,
   "id": "10a20542",
   "metadata": {},
   "outputs": [],
   "source": [
    "indicator = indicators[11]\n",
    "print(indicator)\n",
    "bf = bnames[bnames['Indicator']==indicator]['Filename'].values[0]\n",
    "print(bf)\n",
    "\n",
    "df = pd.read_csv('../../processed/{}.csv'.format(bf))"
   ]
  },
  {
   "cell_type": "code",
   "execution_count": null,
   "id": "ae7ab489",
   "metadata": {},
   "outputs": [],
   "source": [
    "df.iloc[0,0]"
   ]
  },
  {
   "cell_type": "code",
   "execution_count": null,
   "id": "0a1c96ef",
   "metadata": {},
   "outputs": [],
   "source": [
    "df.head()"
   ]
  },
  {
   "cell_type": "markdown",
   "id": "bb0681c3",
   "metadata": {},
   "source": [
    "### No country mapping"
   ]
  },
  {
   "cell_type": "markdown",
   "id": "4689cd7e",
   "metadata": {},
   "source": [
    "## 13. Size of digital economy (% of transactions)\n"
   ]
  },
  {
   "cell_type": "code",
   "execution_count": null,
   "id": "fd07539b",
   "metadata": {},
   "outputs": [],
   "source": [
    "indicator = indicators[12]\n",
    "print(indicator)\n",
    "bf = bnames[bnames['Indicator']==indicator]['Filename'].values[0]\n",
    "print(bf)\n",
    "\n",
    "df = pd.read_csv('../../processed/{}.csv'.format(bf))"
   ]
  },
  {
   "cell_type": "code",
   "execution_count": null,
   "id": "9cc710a9",
   "metadata": {},
   "outputs": [],
   "source": [
    "df\n"
   ]
  },
  {
   "cell_type": "markdown",
   "id": "3e5e01ce",
   "metadata": {},
   "source": [
    "No Country Data"
   ]
  },
  {
   "cell_type": "markdown",
   "id": "58221b7e",
   "metadata": {},
   "source": [
    "## 14. Venture Capital Availability\n"
   ]
  },
  {
   "cell_type": "code",
   "execution_count": null,
   "id": "aa98e4ee",
   "metadata": {},
   "outputs": [],
   "source": [
    "indicator = indicators[13]\n",
    "print(indicator)\n",
    "bf = bnames[bnames['Indicator']==indicator]['Filename'].values[0]\n",
    "print(bf)\n",
    "\n",
    "df = pd.read_csv('../../processed/{}.csv'.format(bf))"
   ]
  },
  {
   "cell_type": "code",
   "execution_count": null,
   "id": "a56ea7ca",
   "metadata": {},
   "outputs": [],
   "source": [
    "df.info()"
   ]
  },
  {
   "cell_type": "markdown",
   "id": "cce5db7b",
   "metadata": {},
   "source": [
    "#### What fields should we use?"
   ]
  },
  {
   "cell_type": "code",
   "execution_count": null,
   "id": "93182717",
   "metadata": {
    "scrolled": true
   },
   "outputs": [],
   "source": [
    "df.Indicator.unique()  \n",
    "# relavent indicator is:        'Venture capital availability, 1-7 (best)', id 529"
   ]
  },
  {
   "cell_type": "code",
   "execution_count": null,
   "id": "fb49409d",
   "metadata": {},
   "outputs": [],
   "source": [
    "df[df.Indicator=='Venture capital availability, 1-7 (best)']\n",
    "\n",
    "# there are two indicator subtypes: Index and Rank\n",
    "df[df.Indicator=='Venture capital availability, 1-7 (best)']['Subindicator Type'].unique()\n"
   ]
  },
  {
   "cell_type": "code",
   "execution_count": null,
   "id": "821f7a5c",
   "metadata": {},
   "outputs": [],
   "source": [
    "df['data_col'] = df['2019']#.apply(lambda row: convert_rank(row))"
   ]
  },
  {
   "cell_type": "code",
   "execution_count": null,
   "id": "2b0577ca",
   "metadata": {},
   "outputs": [],
   "source": [
    "# create two data frames for each subtype\n",
    "df_rank = df[(df.Indicator=='Venture capital availability, 1-7 (best)')&(df['Subindicator Type']=='Rank')]\n",
    "df_index = df[(df.Indicator=='Venture capital availability, 1-7 (best)')&(df['Subindicator Type']=='Index 1-7 (best)')]"
   ]
  },
  {
   "cell_type": "code",
   "execution_count": null,
   "id": "079bcbaa",
   "metadata": {},
   "outputs": [],
   "source": [
    "df_index.head()"
   ]
  },
  {
   "cell_type": "code",
   "execution_count": null,
   "id": "9f39535a",
   "metadata": {},
   "outputs": [],
   "source": [
    "df_rank.head()"
   ]
  },
  {
   "cell_type": "code",
   "execution_count": null,
   "id": "c5e0e9d3",
   "metadata": {},
   "outputs": [],
   "source": [
    "# 152 countries in data\n",
    "df_rank['Country Name'].nunique()"
   ]
  },
  {
   "cell_type": "code",
   "execution_count": null,
   "id": "607be66c",
   "metadata": {},
   "outputs": [],
   "source": [
    "# list of columns with data\n",
    "value_cols = ['2007-2008', '2008-2009', '2009-2010',\n",
    "       '2010-2011', '2011-2012', '2012-2013', '2013-2014', '2014-2015',\n",
    "       '2015-2016', '2016-2017', '2017-2018', '2017', '2018', '2019']"
   ]
  },
  {
   "cell_type": "code",
   "execution_count": null,
   "id": "8339194f",
   "metadata": {},
   "outputs": [],
   "source": [
    "# quick snapshot of dataframes\n",
    "df_rank[value_cols].describe()"
   ]
  },
  {
   "cell_type": "code",
   "execution_count": null,
   "id": "a425225a",
   "metadata": {},
   "outputs": [],
   "source": [
    "# index values have no 2019 data\n",
    "df_index[value_cols].describe()"
   ]
  },
  {
   "cell_type": "markdown",
   "id": "8a94ddaa",
   "metadata": {},
   "source": [
    "Two datasets, 1 rank (1-140ish per year), 1 index (1-7).  \n",
    "Index is normally prefered but doesn't have data for 2019.  \n",
    "Will use rank for this reason. Transformation should be the approx the same."
   ]
  },
  {
   "cell_type": "code",
   "execution_count": null,
   "id": "0955ee4c",
   "metadata": {},
   "outputs": [],
   "source": [
    "df_rank.data_col.describe()"
   ]
  },
  {
   "cell_type": "code",
   "execution_count": null,
   "id": "576d4717",
   "metadata": {},
   "outputs": [],
   "source": [
    "# transform 1-141 rank into 1-6\n",
    "min_rank = df_rank.data_col.min()\n",
    "max_rank = df_rank.data_col.max()\n",
    "df_rank['new_rank_score'] = df_rank['data_col'].apply(lambda row: convert_rank(row,old_min=min_rank,old_max=max_rank))"
   ]
  },
  {
   "cell_type": "code",
   "execution_count": null,
   "id": "2a70f151",
   "metadata": {},
   "outputs": [],
   "source": [
    "# need to invert score since higher rank is not better \n",
    "df_rank['new_rank_score'] = (6-df_rank['new_rank_score'])+1"
   ]
  },
  {
   "cell_type": "markdown",
   "id": "3795dac5",
   "metadata": {},
   "source": [
    "###### Going to test how rank and index conversions compare.  "
   ]
  },
  {
   "cell_type": "markdown",
   "id": "5ddce569",
   "metadata": {},
   "source": [
    "Unlike index scores, Rank scores don't necessarily have equal weightings as you go up. E.g. the difference betwee ranks 15-16 is not the same as ranks 17-18. But for our conversion we will have to treat them as equal, so I am keen to see how this affects results compared to the index scores.  \n",
    "To do this I construct a simple test example of an older data column 2007-2008"
   ]
  },
  {
   "cell_type": "code",
   "execution_count": null,
   "id": "6895bf88",
   "metadata": {},
   "outputs": [],
   "source": [
    "df_rank['2007-2008'].describe()"
   ]
  },
  {
   "cell_type": "code",
   "execution_count": null,
   "id": "dcf0a00d",
   "metadata": {},
   "outputs": [],
   "source": [
    "# convert rank into 1-6\n",
    "df_rank['test0'] = df_rank['2007-2008'].apply(lambda row: convert_rank(row, 1, 130))\n",
    "df_rank['test0'] = (6-df_rank['test0'])+1"
   ]
  },
  {
   "cell_type": "code",
   "execution_count": null,
   "id": "1a13bb51",
   "metadata": {},
   "outputs": [],
   "source": [
    "df_index['test0'] = df_index['2007-2008'].apply(lambda row: convert_rank(row, 1, 7))"
   ]
  },
  {
   "cell_type": "code",
   "execution_count": null,
   "id": "7a19c758",
   "metadata": {},
   "outputs": [],
   "source": [
    "new_df = df_index[['test0','Country Name']].merge(df_rank[['test0','Country Name']], suffixes=['index','rank'],on='Country Name')"
   ]
  },
  {
   "cell_type": "code",
   "execution_count": null,
   "id": "3f9c7665",
   "metadata": {},
   "outputs": [],
   "source": [
    "new_df.corr()"
   ]
  },
  {
   "cell_type": "markdown",
   "id": "6bb0a7cc",
   "metadata": {},
   "source": [
    "The two are correlated enough to not dramatically impact results. But could be worth revising in the future when there is more recent index data."
   ]
  },
  {
   "cell_type": "markdown",
   "id": "04fde1fa",
   "metadata": {},
   "source": [
    "#### Prepare Output"
   ]
  },
  {
   "cell_type": "code",
   "execution_count": null,
   "id": "2aad3aee",
   "metadata": {},
   "outputs": [],
   "source": [
    "df_rank[['Country ISO3', 'Country Name','Indicator','data_col','new_rank_score']].head()\n",
    "\n",
    "df_rank.rename(columns={'Country ISO3':'Country Code'}, inplace=True)\n",
    "\n",
    "df_rank['higher_is_better'] = True\n",
    "\n",
    "df_rank[['Country Code', 'Country Name','Indicator','data_col','new_rank_score','higher_is_better']].head(15)\n",
    "\n"
   ]
  },
  {
   "cell_type": "code",
   "execution_count": null,
   "id": "7b0afd48",
   "metadata": {},
   "outputs": [],
   "source": [
    "\n",
    "# output scores to csv\n",
    "df_rank[['Country Code', 'Country Name','Indicator','data_col','new_rank_score','higher_is_better']].to_csv('../indicator_scores/{}_scores.csv'.format(bf), index=False)"
   ]
  },
  {
   "cell_type": "markdown",
   "id": "d4762c77",
   "metadata": {},
   "source": [
    "### 15. Legal Rights Strength"
   ]
  },
  {
   "cell_type": "code",
   "execution_count": null,
   "id": "17e574e4",
   "metadata": {},
   "outputs": [],
   "source": [
    "indicator = indicators[14]\n",
    "print(indicator)\n",
    "bf = bnames[bnames['Indicator']==indicator]['Filename'].values[0]\n",
    "print(bf)\n",
    "\n",
    "df = pd.read_csv('../../processed/{}.csv'.format(bf))"
   ]
  },
  {
   "cell_type": "code",
   "execution_count": null,
   "id": "72dfa1b9",
   "metadata": {},
   "outputs": [],
   "source": [
    "df.info()"
   ]
  },
  {
   "cell_type": "markdown",
   "id": "5a70379b",
   "metadata": {},
   "source": [
    "#### Find Relevant Columns"
   ]
  },
  {
   "cell_type": "code",
   "execution_count": null,
   "id": "38bb9bef",
   "metadata": {},
   "outputs": [],
   "source": [
    "df['Series Name'].unique()"
   ]
  },
  {
   "cell_type": "code",
   "execution_count": null,
   "id": "4230b34a",
   "metadata": {},
   "outputs": [],
   "source": [
    "# remove unwanted rows\n",
    "df = df[~df['Series Code'].isna()]\n",
    "df = df.replace('..', np.nan)"
   ]
  },
  {
   "cell_type": "code",
   "execution_count": null,
   "id": "63fccb73",
   "metadata": {},
   "outputs": [],
   "source": [
    "df.loc[0][0]"
   ]
  },
  {
   "cell_type": "code",
   "execution_count": null,
   "id": "af37d792",
   "metadata": {},
   "outputs": [],
   "source": [
    "df.head()"
   ]
  },
  {
   "cell_type": "code",
   "execution_count": null,
   "id": "a7ac0723",
   "metadata": {},
   "outputs": [],
   "source": [
    "df.columns"
   ]
  },
  {
   "cell_type": "code",
   "execution_count": null,
   "id": "a73a24c6",
   "metadata": {},
   "outputs": [],
   "source": [
    "# clean data\n",
    "df = df.replace('..', np.nan)\n",
    "\n",
    "df[['1990 [YR1990]', '2000 [YR2000]', '2011 [YR2011]', '2012 [YR2012]',\n",
    "       '2013 [YR2013]', '2014 [YR2014]', '2015 [YR2015]', '2016 [YR2016]',\n",
    "       '2017 [YR2017]', '2018 [YR2018]', '2019 [YR2019]', '2020 [YR2020]']] = df[['1990 [YR1990]', '2000 [YR2000]', '2011 [YR2011]', '2012 [YR2012]',\n",
    "       '2013 [YR2013]', '2014 [YR2014]', '2015 [YR2015]', '2016 [YR2016]',\n",
    "       '2017 [YR2017]', '2018 [YR2018]', '2019 [YR2019]', '2020 [YR2020]']].astype(float)"
   ]
  },
  {
   "cell_type": "code",
   "execution_count": null,
   "id": "e663571b",
   "metadata": {},
   "outputs": [],
   "source": [
    "df.info()"
   ]
  },
  {
   "cell_type": "code",
   "execution_count": null,
   "id": "2241bc0f",
   "metadata": {},
   "outputs": [],
   "source": [
    "# keep only most recent value\n",
    "df = df[['Series Name', 'Series Code', 'Country Name', 'Country Code','2019 [YR2019]']]\n",
    "\n",
    "df['higher_is_better'] = True\n",
    "df['Indicator'] = df['Series Name']\n",
    "df['data_col'] = df['2019 [YR2019]']\n"
   ]
  },
  {
   "cell_type": "markdown",
   "id": "9f0e13e7",
   "metadata": {},
   "source": [
    "#### Convert Scales"
   ]
  },
  {
   "cell_type": "code",
   "execution_count": null,
   "id": "74be1647",
   "metadata": {},
   "outputs": [],
   "source": [
    "# convert 0-12 rank into 1-6\n",
    "df['new_rank_score'] = df['data_col'].apply(lambda row: convert_rank(row, old_min=0,old_max=12))"
   ]
  },
  {
   "cell_type": "code",
   "execution_count": null,
   "id": "642143ba",
   "metadata": {
    "scrolled": true
   },
   "outputs": [],
   "source": [
    "df.head(16)"
   ]
  },
  {
   "cell_type": "code",
   "execution_count": null,
   "id": "3ae41663",
   "metadata": {},
   "outputs": [],
   "source": [
    "df.columns"
   ]
  },
  {
   "cell_type": "markdown",
   "id": "2b19b66d",
   "metadata": {},
   "source": [
    "#### Prepare Output"
   ]
  },
  {
   "cell_type": "code",
   "execution_count": null,
   "id": "162579d5",
   "metadata": {},
   "outputs": [],
   "source": [
    "df = df[['Country Name', 'Country Code','Indicator', 'data_col', 'new_rank_score','higher_is_better']]\n",
    "df.sort_values(by='new_rank_score', ascending=False).head(16)"
   ]
  },
  {
   "cell_type": "code",
   "execution_count": null,
   "id": "6080b1b8",
   "metadata": {},
   "outputs": [],
   "source": [
    "# output scores\n",
    "df.to_csv('../indicator_scores/{}_scores.csv'.format(bf), index=False)"
   ]
  },
  {
   "cell_type": "markdown",
   "id": "bcef5e80",
   "metadata": {},
   "source": [
    "### 16. Time to start business\n"
   ]
  },
  {
   "cell_type": "markdown",
   "id": "ab495ca2",
   "metadata": {},
   "source": [
    "#### Load Data"
   ]
  },
  {
   "cell_type": "code",
   "execution_count": null,
   "id": "b972b823",
   "metadata": {},
   "outputs": [],
   "source": [
    "indicator = indicators[15]\n",
    "print(indicator)\n",
    "bf = bnames[bnames['Indicator']==indicator]['Filename'].values[0]\n",
    "print(bf)\n",
    "\n",
    "df = pd.read_csv('../../processed/{}.csv'.format(bf))"
   ]
  },
  {
   "cell_type": "code",
   "execution_count": null,
   "id": "38a92207",
   "metadata": {},
   "outputs": [],
   "source": [
    "# remove unwanted rows\n",
    "df = df[~df['Series Code'].isna()]\n",
    "df = df.replace('..', np.nan)"
   ]
  },
  {
   "cell_type": "code",
   "execution_count": null,
   "id": "ec4e8609",
   "metadata": {},
   "outputs": [],
   "source": [
    "df[['1990 [YR1990]', '2000 [YR2000]', '2011 [YR2011]', '2012 [YR2012]',\n",
    "       '2013 [YR2013]', '2014 [YR2014]', '2015 [YR2015]', '2016 [YR2016]',\n",
    "       '2017 [YR2017]', '2018 [YR2018]', '2019 [YR2019]', '2020 [YR2020]']] = df[['1990 [YR1990]', '2000 [YR2000]', '2011 [YR2011]', '2012 [YR2012]',\n",
    "       '2013 [YR2013]', '2014 [YR2014]', '2015 [YR2015]', '2016 [YR2016]',\n",
    "       '2017 [YR2017]', '2018 [YR2018]', '2019 [YR2019]', '2020 [YR2020]']].astype(float)"
   ]
  },
  {
   "cell_type": "code",
   "execution_count": null,
   "id": "93180ca5",
   "metadata": {},
   "outputs": [],
   "source": [
    "df.info()"
   ]
  },
  {
   "cell_type": "code",
   "execution_count": null,
   "id": "3db3ccd3",
   "metadata": {},
   "outputs": [],
   "source": [
    "# keep only most recent value\n",
    "df = df[['Series Name', 'Series Code', 'Country Name', 'Country Code','2019 [YR2019]']]\n",
    "\n",
    "df['higher_is_better'] = True\n",
    "df['Indicator'] = df['Series Name']\n",
    "df['data_col'] = df['2019 [YR2019]']\n"
   ]
  },
  {
   "cell_type": "code",
   "execution_count": null,
   "id": "459c9952",
   "metadata": {},
   "outputs": [],
   "source": [
    "df.head()"
   ]
  },
  {
   "cell_type": "code",
   "execution_count": null,
   "id": "787ef5bb",
   "metadata": {},
   "outputs": [],
   "source": [
    "def map_days_to_scores(number):\n",
    "    if number<=2:\n",
    "        return 4\n",
    "    if number <6 and number>2:\n",
    "        return 3\n",
    "    elif number >=6 and number <11:\n",
    "        return 2\n",
    "    elif number >=11:\n",
    "        return 1"
   ]
  },
  {
   "cell_type": "code",
   "execution_count": null,
   "id": "9bef07cd",
   "metadata": {},
   "outputs": [],
   "source": [
    "# map days to scores \n",
    "df['data_col'] = df['data_col'].apply(map_days_to_scores)"
   ]
  },
  {
   "cell_type": "code",
   "execution_count": null,
   "id": "072c4f9f",
   "metadata": {},
   "outputs": [],
   "source": [
    "# convert 1-3 rank into 1-6\n",
    "df['new_rank_score'] = df['data_col'].apply(lambda row: convert_rank(row, old_min=1,old_max=4))"
   ]
  },
  {
   "cell_type": "code",
   "execution_count": null,
   "id": "bf0fe9c0",
   "metadata": {},
   "outputs": [],
   "source": [
    "df.head()"
   ]
  },
  {
   "cell_type": "code",
   "execution_count": null,
   "id": "6fa1fedf",
   "metadata": {},
   "outputs": [],
   "source": [
    "df[df['2019 [YR2019]']<3]"
   ]
  },
  {
   "cell_type": "code",
   "execution_count": null,
   "id": "841d9e3c",
   "metadata": {},
   "outputs": [],
   "source": [
    "df['2019 [YR2019]'].describe()"
   ]
  },
  {
   "cell_type": "code",
   "execution_count": null,
   "id": "5eb53cd4",
   "metadata": {},
   "outputs": [],
   "source": [
    "df = df[['Country Name', 'Country Code','Indicator', 'data_col', 'new_rank_score','higher_is_better']]\n",
    "df.sort_values(by='new_rank_score', ascending=False).head(16)"
   ]
  },
  {
   "cell_type": "markdown",
   "id": "e18813d0",
   "metadata": {},
   "source": [
    "#### Prepare Output"
   ]
  },
  {
   "cell_type": "code",
   "execution_count": null,
   "id": "178eb0e4",
   "metadata": {},
   "outputs": [],
   "source": [
    "bf"
   ]
  },
  {
   "cell_type": "code",
   "execution_count": null,
   "id": "6d6e0d84",
   "metadata": {},
   "outputs": [],
   "source": [
    "# output scores\n",
    "df.to_csv('../indicator_scores/{}_scores.csv'.format(bf), index=False)"
   ]
  },
  {
   "cell_type": "markdown",
   "id": "470676bf",
   "metadata": {},
   "source": [
    "### 17. Ease doing business\n"
   ]
  },
  {
   "cell_type": "markdown",
   "id": "5bb734ce",
   "metadata": {},
   "source": [
    "#### Load Data"
   ]
  },
  {
   "cell_type": "code",
   "execution_count": null,
   "id": "f9248740",
   "metadata": {},
   "outputs": [],
   "source": [
    "indicator = indicators[16]\n",
    "print(indicator)\n",
    "bf = bnames[bnames['Indicator']==indicator]['Filename'].values[0]\n",
    "print(bf)\n",
    "\n",
    "df = pd.read_csv('../../processed/{}.csv'.format(bf))"
   ]
  },
  {
   "cell_type": "code",
   "execution_count": null,
   "id": "8c6fd471",
   "metadata": {},
   "outputs": [],
   "source": [
    "# remove unwanted rows\n",
    "df = df.replace('..', np.nan)\n",
    "df = df[~df['Series Code'].isna()]\n"
   ]
  },
  {
   "cell_type": "code",
   "execution_count": null,
   "id": "2115847e",
   "metadata": {},
   "outputs": [],
   "source": [
    "df['Series Name'].unique()"
   ]
  },
  {
   "cell_type": "code",
   "execution_count": null,
   "id": "a37e6f5e",
   "metadata": {
    "scrolled": true
   },
   "outputs": [],
   "source": [
    "df.info()"
   ]
  },
  {
   "cell_type": "code",
   "execution_count": null,
   "id": "ca3098b9",
   "metadata": {},
   "outputs": [],
   "source": [
    "# keep only most recent value\n",
    "df = df[['Series Name', 'Series Code', 'Country Name', 'Country Code','2019 [YR2019]']]\n",
    "\n",
    "# df['higher_is_better'] = False\n",
    "df['Indicator'] = df['Series Name']\n",
    "df['2019 [YR2019]'] = df['2019 [YR2019]'].astype(float)\n",
    "df['data_col'] = df['2019 [YR2019]']\n",
    "# df['data_norm'] = df['data_norm'] = (df.data_col - df.data_col.mean())/df.data_col.std()"
   ]
  },
  {
   "cell_type": "code",
   "execution_count": null,
   "id": "09fe2296",
   "metadata": {},
   "outputs": [],
   "source": [
    "rank_min = df.data_col.min()\n",
    "rank_max = df.data_col.max()"
   ]
  },
  {
   "cell_type": "code",
   "execution_count": null,
   "id": "a868494e",
   "metadata": {},
   "outputs": [],
   "source": [
    "rank_min, rank_max"
   ]
  },
  {
   "cell_type": "code",
   "execution_count": null,
   "id": "0290d8b8",
   "metadata": {},
   "outputs": [],
   "source": [
    "# convert 1-190 rank into 1-6\n",
    "df['new_rank_score'] = df['data_col'].apply(lambda row: convert_rank(row, old_min=rank_min,old_max=rank_max))"
   ]
  },
  {
   "cell_type": "code",
   "execution_count": null,
   "id": "16c31aea",
   "metadata": {},
   "outputs": [],
   "source": [
    "# invert since to put as higher is  better\n",
    "df['new_rank_score'] = df['new_rank_score'].apply(lambda row: (6-row)+1)"
   ]
  },
  {
   "cell_type": "code",
   "execution_count": null,
   "id": "ce942e22",
   "metadata": {
    "scrolled": true
   },
   "outputs": [],
   "source": [
    "df.sort_values(by='new_rank_score', ascending=False).head(16)"
   ]
  },
  {
   "cell_type": "code",
   "execution_count": null,
   "id": "b016f0d8",
   "metadata": {},
   "outputs": [],
   "source": [
    "df['higher_is_better'] = True\n"
   ]
  },
  {
   "cell_type": "markdown",
   "id": "13eed981",
   "metadata": {},
   "source": [
    "#### Prepare Output"
   ]
  },
  {
   "cell_type": "code",
   "execution_count": null,
   "id": "fe5fd9e5",
   "metadata": {},
   "outputs": [],
   "source": [
    "df = df[['Country Name', 'Country Code','Indicator', 'data_col', 'new_rank_score','higher_is_better']]\n",
    "\n",
    "# output scores\n",
    "df.to_csv('../indicator_scores/{}_scores.csv'.format(bf), index=False)"
   ]
  },
  {
   "cell_type": "markdown",
   "id": "08a578f2",
   "metadata": {},
   "source": [
    "## 18. Ease of finding skilled employees"
   ]
  },
  {
   "cell_type": "code",
   "execution_count": null,
   "id": "251900ed",
   "metadata": {},
   "outputs": [],
   "source": [
    "indicator = indicators[17]\n",
    "print(indicator)\n",
    "bf = bnames[bnames['Indicator']==indicator]['Filename'].values[0]\n",
    "print(bf)\n",
    "\n",
    "df = pd.read_csv('../../processed/{}.csv'.format(bf))"
   ]
  },
  {
   "cell_type": "code",
   "execution_count": null,
   "id": "dd6ad6f7",
   "metadata": {},
   "outputs": [],
   "source": [
    "df.head()"
   ]
  },
  {
   "cell_type": "code",
   "execution_count": null,
   "id": "3d774d2e",
   "metadata": {},
   "outputs": [],
   "source": [
    "values = ['2017','2018','2019']"
   ]
  },
  {
   "cell_type": "code",
   "execution_count": null,
   "id": "89697228",
   "metadata": {},
   "outputs": [],
   "source": [
    "df = df.replace('No data', np.nan)"
   ]
  },
  {
   "cell_type": "code",
   "execution_count": null,
   "id": "7997e389",
   "metadata": {},
   "outputs": [],
   "source": [
    "df[values] = df[values].astype(float)"
   ]
  },
  {
   "cell_type": "code",
   "execution_count": null,
   "id": "4e0ea6e2",
   "metadata": {},
   "outputs": [],
   "source": [
    "df.head()"
   ]
  },
  {
   "cell_type": "code",
   "execution_count": null,
   "id": "be90d752",
   "metadata": {},
   "outputs": [],
   "source": [
    "df[values].describe()"
   ]
  },
  {
   "cell_type": "code",
   "execution_count": null,
   "id": "e0dba85c",
   "metadata": {},
   "outputs": [],
   "source": [
    "# create standard columns\n",
    "df['data_col'] = df['2019']\n",
    "df['new_rank_score'] = df['data_col']\n",
    "df['higher_is_better'] = True\n",
    "df['Indicator'] = indicator\n",
    "\n",
    "\n",
    "df.rename(columns={'Country':'Country Name'}, inplace=True)\n",
    "\n",
    "\n",
    "df[['Country Name','Indicator','data_col','new_rank_score','higher_is_better']].head(15)\n",
    "\n",
    "\n",
    "# output scores to csv\n",
    "df[['Country Name','Indicator','data_col','new_rank_score','higher_is_better']].to_csv('../indicator_scores/{}_scores.csv'.format(bf), index=False)"
   ]
  },
  {
   "cell_type": "markdown",
   "id": "610dc247",
   "metadata": {},
   "source": [
    "## 19. Amount invested into startups yearly from private, public, blended sources (respectively)\n"
   ]
  },
  {
   "cell_type": "code",
   "execution_count": null,
   "id": "bccc038e",
   "metadata": {
    "scrolled": true
   },
   "outputs": [],
   "source": [
    "indicator = indicators[18]\n",
    "print(indicator)\n",
    "bf = bnames[bnames['Indicator']==indicator]['Filename'].values[0]\n",
    "print(bf)\n",
    "\n",
    "df = pd.read_csv('../../processed/{}.csv'.format(bf))"
   ]
  },
  {
   "cell_type": "markdown",
   "id": "4d3c4d38",
   "metadata": {},
   "source": [
    "No data"
   ]
  },
  {
   "cell_type": "markdown",
   "id": "b1096916",
   "metadata": {},
   "source": [
    "## 20. Doing Business Index\n"
   ]
  },
  {
   "cell_type": "code",
   "execution_count": null,
   "id": "3231c21a",
   "metadata": {},
   "outputs": [],
   "source": [
    "indicator = indicators[19]\n",
    "print(indicator)\n",
    "bf = bnames[bnames['Indicator']==indicator]['Filename'].values[0]\n",
    "print(bf)\n",
    "\n",
    "df = pd.read_csv('../../processed/{}.csv'.format(bf))"
   ]
  },
  {
   "cell_type": "code",
   "execution_count": null,
   "id": "c485b2f4",
   "metadata": {},
   "outputs": [],
   "source": [
    "bnames"
   ]
  },
  {
   "cell_type": "code",
   "execution_count": null,
   "id": "056d5a0c",
   "metadata": {},
   "outputs": [],
   "source": [
    "df"
   ]
  },
  {
   "cell_type": "markdown",
   "id": "02280b65",
   "metadata": {},
   "source": [
    "### Score Aggregating"
   ]
  },
  {
   "cell_type": "code",
   "execution_count": null,
   "id": "220335c0",
   "metadata": {},
   "outputs": [],
   "source": [
    "import os\n"
   ]
  },
  {
   "cell_type": "code",
   "execution_count": null,
   "id": "f3753c27",
   "metadata": {},
   "outputs": [],
   "source": [
    "# get list of files in scores folder\n",
    "scores = os.listdir('../indicator_scores/')"
   ]
  },
  {
   "cell_type": "code",
   "execution_count": null,
   "id": "51ea0642",
   "metadata": {},
   "outputs": [],
   "source": [
    "scores"
   ]
  },
  {
   "cell_type": "code",
   "execution_count": null,
   "id": "3806c94c",
   "metadata": {},
   "outputs": [],
   "source": [
    "# create a dataframe that concatenates all these file into one table\n",
    "df = pd.concat([pd.read_csv('../indicator_scores/{}'.format(s)) for s in scores])    "
   ]
  },
  {
   "cell_type": "code",
   "execution_count": null,
   "id": "b5cdda5d",
   "metadata": {},
   "outputs": [],
   "source": [
    "df"
   ]
  },
  {
   "cell_type": "code",
   "execution_count": null,
   "id": "02316c75",
   "metadata": {},
   "outputs": [],
   "source": [
    "# Data cleaning\n",
    "df['new_rank_score'] = df['new_rank_score'].fillna(0)\n",
    "df.sort_values(by=['Country Name'], ascending=True, inplace=True)\n",
    "df.reset_index(drop=True, inplace=True)"
   ]
  },
  {
   "cell_type": "code",
   "execution_count": null,
   "id": "b3ec1dd2",
   "metadata": {},
   "outputs": [],
   "source": [
    "df.info()"
   ]
  },
  {
   "cell_type": "code",
   "execution_count": null,
   "id": "0278fea3",
   "metadata": {},
   "outputs": [],
   "source": [
    "df"
   ]
  },
  {
   "cell_type": "code",
   "execution_count": null,
   "id": "6415b25b",
   "metadata": {},
   "outputs": [],
   "source": [
    "df.head(15)"
   ]
  },
  {
   "cell_type": "code",
   "execution_count": null,
   "id": "608db49c",
   "metadata": {},
   "outputs": [],
   "source": [
    "df.describe()"
   ]
  },
  {
   "cell_type": "code",
   "execution_count": null,
   "id": "b2888382",
   "metadata": {},
   "outputs": [],
   "source": [
    "# checking country names\n",
    "sorted(df['Country Name'].unique().tolist())"
   ]
  },
  {
   "cell_type": "code",
   "execution_count": null,
   "id": "2e9f8099",
   "metadata": {},
   "outputs": [],
   "source": [
    "# remove trailing whitespaces from country name\n",
    "df['Country Name'] = df['Country Name'].str.strip()\n"
   ]
  },
  {
   "cell_type": "code",
   "execution_count": null,
   "id": "dc6b3806",
   "metadata": {},
   "outputs": [],
   "source": [
    "# checking country names\n",
    "sorted(df['Country Name'].unique().tolist())"
   ]
  },
  {
   "cell_type": "code",
   "execution_count": null,
   "id": "140f2e4d",
   "metadata": {},
   "outputs": [],
   "source": [
    "# average indicator scores per country\n",
    "agg_df = df.groupby(['Country Name']).agg({'new_rank_score':'mean','data_col':'count'})"
   ]
  },
  {
   "cell_type": "code",
   "execution_count": null,
   "id": "1b9d3aab",
   "metadata": {},
   "outputs": [],
   "source": [
    "agg_df.columns = ['agg_score', 'count_source' ]"
   ]
  },
  {
   "cell_type": "code",
   "execution_count": null,
   "id": "2762eedc",
   "metadata": {},
   "outputs": [],
   "source": [
    "max_number_sources = agg_df.describe()['count_source']['max']"
   ]
  },
  {
   "cell_type": "code",
   "execution_count": null,
   "id": "99a6cb0a",
   "metadata": {},
   "outputs": [],
   "source": [
    "agg_df['agg_score_wt'] = agg_df['agg_score']*(agg_df['count_source']/max_number_sources)"
   ]
  },
  {
   "cell_type": "code",
   "execution_count": null,
   "id": "0e02b603",
   "metadata": {},
   "outputs": [],
   "source": [
    "agg_df.sort_values(by='agg_score', ascending=False, inplace=True)"
   ]
  },
  {
   "cell_type": "code",
   "execution_count": null,
   "id": "afca90e6",
   "metadata": {},
   "outputs": [],
   "source": [
    "agg_df.head(25)"
   ]
  },
  {
   "cell_type": "code",
   "execution_count": null,
   "id": "9686516a",
   "metadata": {},
   "outputs": [],
   "source": [
    "agg_df.to_csv('../pillar_scores/business_scores_v0.csv')"
   ]
  },
  {
   "cell_type": "code",
   "execution_count": null,
   "id": "359a6333",
   "metadata": {},
   "outputs": [],
   "source": []
  }
 ],
 "metadata": {
  "kernelspec": {
   "display_name": "Python 3",
   "language": "python",
   "name": "python3"
  },
  "language_info": {
   "codemirror_mode": {
    "name": "ipython",
    "version": 3
   },
   "file_extension": ".py",
   "mimetype": "text/x-python",
   "name": "python",
   "nbconvert_exporter": "python",
   "pygments_lexer": "ipython3",
   "version": "3.8.8"
  },
  "toc": {
   "base_numbering": 1,
   "nav_menu": {},
   "number_sections": false,
   "sideBar": false,
   "skip_h1_title": false,
   "title_cell": "Table of Contents",
   "title_sidebar": "Contents",
   "toc_cell": false,
   "toc_position": {},
   "toc_section_display": false,
   "toc_window_display": false
  }
 },
 "nbformat": 4,
 "nbformat_minor": 5
}
