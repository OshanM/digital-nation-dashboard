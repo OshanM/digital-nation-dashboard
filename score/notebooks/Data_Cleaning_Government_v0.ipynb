{
 "cells": [
  {
   "cell_type": "code",
   "execution_count": 1,
   "id": "9ce23384",
   "metadata": {},
   "outputs": [],
   "source": [
    "import pandas as pd\n",
    "import numpy as np\n",
    "\n"
   ]
  },
  {
   "cell_type": "markdown",
   "id": "c96db34f",
   "metadata": {},
   "source": [
    "### Get all the pillar names from the excel"
   ]
  },
  {
   "cell_type": "code",
   "execution_count": 2,
   "id": "4eaa2a82",
   "metadata": {},
   "outputs": [
    {
     "name": "stderr",
     "output_type": "stream",
     "text": [
      "Invalid switch - \"..\".\n"
     ]
    }
   ],
   "source": [
    "ls ../.."
   ]
  },
  {
   "cell_type": "code",
   "execution_count": 48,
   "id": "e815555b",
   "metadata": {},
   "outputs": [],
   "source": [
    "names = pd.read_excel('../../UNDP Digital Assessment Data Framework Filename Matching V7.xlsx')"
   ]
  },
  {
   "cell_type": "code",
   "execution_count": 49,
   "id": "2142903d",
   "metadata": {},
   "outputs": [],
   "source": [
    "col_names = ['Indicator','check', 'Data Source','Index','Filename']"
   ]
  },
  {
   "cell_type": "code",
   "execution_count": 50,
   "id": "b0b45960",
   "metadata": {},
   "outputs": [],
   "source": [
    "names = names[col_names]"
   ]
  },
  {
   "cell_type": "code",
   "execution_count": 51,
   "id": "8cf26ff3",
   "metadata": {},
   "outputs": [
    {
     "data": {
      "text/html": [
       "<div>\n",
       "<style scoped>\n",
       "    .dataframe tbody tr th:only-of-type {\n",
       "        vertical-align: middle;\n",
       "    }\n",
       "\n",
       "    .dataframe tbody tr th {\n",
       "        vertical-align: top;\n",
       "    }\n",
       "\n",
       "    .dataframe thead th {\n",
       "        text-align: right;\n",
       "    }\n",
       "</style>\n",
       "<table border=\"1\" class=\"dataframe\">\n",
       "  <thead>\n",
       "    <tr style=\"text-align: right;\">\n",
       "      <th></th>\n",
       "      <th>Indicator</th>\n",
       "      <th>check</th>\n",
       "      <th>Data Source</th>\n",
       "      <th>Index</th>\n",
       "      <th>Filename</th>\n",
       "    </tr>\n",
       "  </thead>\n",
       "  <tbody>\n",
       "    <tr>\n",
       "      <th>0</th>\n",
       "      <td>Countries</td>\n",
       "      <td>NaN</td>\n",
       "      <td>United Nations</td>\n",
       "      <td>False</td>\n",
       "      <td>Countries</td>\n",
       "    </tr>\n",
       "    <tr>\n",
       "      <th>1</th>\n",
       "      <td>Database of Global Administrative Areas (GADM,...</td>\n",
       "      <td>NaN</td>\n",
       "      <td>GADM maps and data</td>\n",
       "      <td>False</td>\n",
       "      <td>NaN</td>\n",
       "    </tr>\n",
       "    <tr>\n",
       "      <th>2</th>\n",
       "      <td>High Resolution Population Density Maps + Demo...</td>\n",
       "      <td>NaN</td>\n",
       "      <td>Facebook</td>\n",
       "      <td>False</td>\n",
       "      <td>NaN</td>\n",
       "    </tr>\n",
       "    <tr>\n",
       "      <th>3</th>\n",
       "      <td>population density vs openstreetmap object den...</td>\n",
       "      <td>NaN</td>\n",
       "      <td>Kontur</td>\n",
       "      <td>False</td>\n",
       "      <td>NaN</td>\n",
       "    </tr>\n",
       "    <tr>\n",
       "      <th>4</th>\n",
       "      <td>Population Density</td>\n",
       "      <td>Infrastructure</td>\n",
       "      <td>World Bank</td>\n",
       "      <td>False</td>\n",
       "      <td>population_density</td>\n",
       "    </tr>\n",
       "  </tbody>\n",
       "</table>\n",
       "</div>"
      ],
      "text/plain": [
       "                                           Indicator           check  \\\n",
       "0                                          Countries             NaN   \n",
       "1  Database of Global Administrative Areas (GADM,...             NaN   \n",
       "2  High Resolution Population Density Maps + Demo...             NaN   \n",
       "3  population density vs openstreetmap object den...             NaN   \n",
       "4                                 Population Density  Infrastructure   \n",
       "\n",
       "          Data Source  Index            Filename  \n",
       "0      United Nations  False           Countries  \n",
       "1  GADM maps and data  False                 NaN  \n",
       "2            Facebook  False                 NaN  \n",
       "3              Kontur  False                 NaN  \n",
       "4          World Bank  False  population_density  "
      ]
     },
     "execution_count": 51,
     "metadata": {},
     "output_type": "execute_result"
    }
   ],
   "source": [
    "names.head()"
   ]
  },
  {
   "cell_type": "code",
   "execution_count": 52,
   "id": "b9a6ee78",
   "metadata": {},
   "outputs": [],
   "source": [
    "# get all the files per pillar\n",
    "data_stats = names.groupby('check').agg({'Filename':'count','Indicator':'count'})"
   ]
  },
  {
   "cell_type": "code",
   "execution_count": 53,
   "id": "6ffc5386",
   "metadata": {},
   "outputs": [
    {
     "data": {
      "text/html": [
       "<div>\n",
       "<style scoped>\n",
       "    .dataframe tbody tr th:only-of-type {\n",
       "        vertical-align: middle;\n",
       "    }\n",
       "\n",
       "    .dataframe tbody tr th {\n",
       "        vertical-align: top;\n",
       "    }\n",
       "\n",
       "    .dataframe thead th {\n",
       "        text-align: right;\n",
       "    }\n",
       "</style>\n",
       "<table border=\"1\" class=\"dataframe\">\n",
       "  <thead>\n",
       "    <tr style=\"text-align: right;\">\n",
       "      <th></th>\n",
       "      <th>Filename</th>\n",
       "      <th>Indicator</th>\n",
       "    </tr>\n",
       "    <tr>\n",
       "      <th>check</th>\n",
       "      <th></th>\n",
       "      <th></th>\n",
       "    </tr>\n",
       "  </thead>\n",
       "  <tbody>\n",
       "    <tr>\n",
       "      <th>Business</th>\n",
       "      <td>20</td>\n",
       "      <td>25</td>\n",
       "    </tr>\n",
       "    <tr>\n",
       "      <th>Foundations</th>\n",
       "      <td>9</td>\n",
       "      <td>12</td>\n",
       "    </tr>\n",
       "    <tr>\n",
       "      <th>Government</th>\n",
       "      <td>11</td>\n",
       "      <td>15</td>\n",
       "    </tr>\n",
       "    <tr>\n",
       "      <th>Infrastructure</th>\n",
       "      <td>45</td>\n",
       "      <td>48</td>\n",
       "    </tr>\n",
       "    <tr>\n",
       "      <th>People</th>\n",
       "      <td>38</td>\n",
       "      <td>46</td>\n",
       "    </tr>\n",
       "    <tr>\n",
       "      <th>Regulation</th>\n",
       "      <td>6</td>\n",
       "      <td>7</td>\n",
       "    </tr>\n",
       "    <tr>\n",
       "      <th>Strategy</th>\n",
       "      <td>1</td>\n",
       "      <td>1</td>\n",
       "    </tr>\n",
       "  </tbody>\n",
       "</table>\n",
       "</div>"
      ],
      "text/plain": [
       "                Filename  Indicator\n",
       "check                              \n",
       "Business              20         25\n",
       "Foundations            9         12\n",
       "Government            11         15\n",
       "Infrastructure        45         48\n",
       "People                38         46\n",
       "Regulation             6          7\n",
       "Strategy               1          1"
      ]
     },
     "execution_count": 53,
     "metadata": {},
     "output_type": "execute_result"
    }
   ],
   "source": [
    "data_stats"
   ]
  },
  {
   "cell_type": "markdown",
   "id": "306435b6",
   "metadata": {},
   "source": [
    "### Foundations"
   ]
  },
  {
   "cell_type": "code",
   "execution_count": 54,
   "id": "dc3fd79b",
   "metadata": {},
   "outputs": [],
   "source": [
    "bnames = names[(names.check=='Government')&(~names.Filename.isna())]#&(names.Index==False)]"
   ]
  },
  {
   "cell_type": "code",
   "execution_count": 55,
   "id": "5b48a7f4",
   "metadata": {
    "scrolled": true
   },
   "outputs": [
    {
     "data": {
      "text/html": [
       "<div>\n",
       "<style scoped>\n",
       "    .dataframe tbody tr th:only-of-type {\n",
       "        vertical-align: middle;\n",
       "    }\n",
       "\n",
       "    .dataframe tbody tr th {\n",
       "        vertical-align: top;\n",
       "    }\n",
       "\n",
       "    .dataframe thead th {\n",
       "        text-align: right;\n",
       "    }\n",
       "</style>\n",
       "<table border=\"1\" class=\"dataframe\">\n",
       "  <thead>\n",
       "    <tr style=\"text-align: right;\">\n",
       "      <th></th>\n",
       "      <th>Indicator</th>\n",
       "      <th>check</th>\n",
       "      <th>Data Source</th>\n",
       "      <th>Index</th>\n",
       "      <th>Filename</th>\n",
       "    </tr>\n",
       "  </thead>\n",
       "  <tbody>\n",
       "    <tr>\n",
       "      <th>53</th>\n",
       "      <td>Online-Service-Index (OSI)</td>\n",
       "      <td>Government</td>\n",
       "      <td>DESA</td>\n",
       "      <td>True</td>\n",
       "      <td>e_government_index</td>\n",
       "    </tr>\n",
       "    <tr>\n",
       "      <th>54</th>\n",
       "      <td>E-Participation index</td>\n",
       "      <td>Government</td>\n",
       "      <td>DESA</td>\n",
       "      <td>True</td>\n",
       "      <td>e_government_index</td>\n",
       "    </tr>\n",
       "    <tr>\n",
       "      <th>55</th>\n",
       "      <td>Use of public services online (% of services o...</td>\n",
       "      <td>Government</td>\n",
       "      <td>Boston Consulting Group/SalesForce</td>\n",
       "      <td>False</td>\n",
       "      <td>digital_public_service_use</td>\n",
       "    </tr>\n",
       "    <tr>\n",
       "      <th>56</th>\n",
       "      <td>What is the % change of government digitizing ...</td>\n",
       "      <td>Government</td>\n",
       "      <td>World Bank</td>\n",
       "      <td>TRUE</td>\n",
       "      <td>Egov_strategy</td>\n",
       "    </tr>\n",
       "    <tr>\n",
       "      <th>57</th>\n",
       "      <td>Security incidents (# of relevant issues)</td>\n",
       "      <td>Government</td>\n",
       "      <td>SPECOPS/CSIS</td>\n",
       "      <td>False</td>\n",
       "      <td>cyber_attacks</td>\n",
       "    </tr>\n",
       "    <tr>\n",
       "      <th>58</th>\n",
       "      <td>ICT investment as a percentage of GDP</td>\n",
       "      <td>Government</td>\n",
       "      <td>OECD</td>\n",
       "      <td>False</td>\n",
       "      <td>ICT_Investment</td>\n",
       "    </tr>\n",
       "    <tr>\n",
       "      <th>59</th>\n",
       "      <td>R&amp;D spending (% of GDP)</td>\n",
       "      <td>Government</td>\n",
       "      <td>World Bank</td>\n",
       "      <td>False</td>\n",
       "      <td>RD_Percentage_GDP</td>\n",
       "    </tr>\n",
       "    <tr>\n",
       "      <th>60</th>\n",
       "      <td>Evidence of digital strategies in/across Minst...</td>\n",
       "      <td>Government</td>\n",
       "      <td>World Bank</td>\n",
       "      <td>False</td>\n",
       "      <td>Egov_strategy</td>\n",
       "    </tr>\n",
       "    <tr>\n",
       "      <th>62</th>\n",
       "      <td>Evidence of focus on vulnerable groups</td>\n",
       "      <td>Government</td>\n",
       "      <td>World Bank</td>\n",
       "      <td>False</td>\n",
       "      <td>Egov_strategy</td>\n",
       "    </tr>\n",
       "    <tr>\n",
       "      <th>65</th>\n",
       "      <td>% of digital skills certifications / training ...</td>\n",
       "      <td>Government</td>\n",
       "      <td>Coursera</td>\n",
       "      <td>False</td>\n",
       "      <td>digital_skill_level</td>\n",
       "    </tr>\n",
       "    <tr>\n",
       "      <th>66</th>\n",
       "      <td>% of government encrypted web traffic</td>\n",
       "      <td>Government</td>\n",
       "      <td>Cloudflare</td>\n",
       "      <td>False</td>\n",
       "      <td>gov_encrypted_traffic</td>\n",
       "    </tr>\n",
       "  </tbody>\n",
       "</table>\n",
       "</div>"
      ],
      "text/plain": [
       "                                            Indicator       check  \\\n",
       "53                         Online-Service-Index (OSI)  Government   \n",
       "54                              E-Participation index  Government   \n",
       "55  Use of public services online (% of services o...  Government   \n",
       "56  What is the % change of government digitizing ...  Government   \n",
       "57          Security incidents (# of relevant issues)  Government   \n",
       "58              ICT investment as a percentage of GDP  Government   \n",
       "59                            R&D spending (% of GDP)  Government   \n",
       "60  Evidence of digital strategies in/across Minst...  Government   \n",
       "62             Evidence of focus on vulnerable groups  Government   \n",
       "65  % of digital skills certifications / training ...  Government   \n",
       "66              % of government encrypted web traffic  Government   \n",
       "\n",
       "                           Data Source  Index                    Filename  \n",
       "53                                DESA   True          e_government_index  \n",
       "54                                DESA   True          e_government_index  \n",
       "55  Boston Consulting Group/SalesForce  False  digital_public_service_use  \n",
       "56                          World Bank  TRUE                Egov_strategy  \n",
       "57                        SPECOPS/CSIS  False               cyber_attacks  \n",
       "58                                OECD  False              ICT_Investment  \n",
       "59                          World Bank  False           RD_Percentage_GDP  \n",
       "60                          World Bank  False               Egov_strategy  \n",
       "62                          World Bank  False               Egov_strategy  \n",
       "65                            Coursera  False         digital_skill_level  \n",
       "66                          Cloudflare  False       gov_encrypted_traffic  "
      ]
     },
     "execution_count": 55,
     "metadata": {},
     "output_type": "execute_result"
    }
   ],
   "source": [
    "bnames.head(25)"
   ]
  },
  {
   "cell_type": "code",
   "execution_count": 11,
   "id": "ddc7767f",
   "metadata": {},
   "outputs": [],
   "source": [
    "# get list of names for all indicators\n",
    "indicators = bnames.Indicator.unique()"
   ]
  },
  {
   "cell_type": "code",
   "execution_count": 12,
   "id": "113d598a",
   "metadata": {},
   "outputs": [],
   "source": [
    "# get all file names\n",
    "bfiles = bnames.Filename.unique()"
   ]
  },
  {
   "cell_type": "code",
   "execution_count": 13,
   "id": "ac23f5f6",
   "metadata": {},
   "outputs": [
    {
     "data": {
      "text/plain": [
       "array(['e_government_index', 'digital_public_service_use',\n",
       "       'Egov_strategy', 'cyber_attacks', 'ICT_Investment',\n",
       "       'RD_Percentage_GDP', 'digital_skill_level',\n",
       "       'gov_encrypted_traffic'], dtype=object)"
      ]
     },
     "execution_count": 13,
     "metadata": {},
     "output_type": "execute_result"
    }
   ],
   "source": [
    "bfiles"
   ]
  },
  {
   "cell_type": "code",
   "execution_count": 14,
   "id": "2485ce77",
   "metadata": {},
   "outputs": [],
   "source": [
    "# formula for converting scale\n",
    "def convert_rank(old_value, old_min=1, old_max=7, new_min=1, new_max=6 ):\n",
    "    \"\"\" Convert old scale values scale into new scale values\"\"\"\n",
    "    old_range = old_max - old_min\n",
    "    new_range = new_max - new_min\n",
    "    new_value = (((old_value-old_min)*new_range)/old_range)+new_min\n",
    "    return new_value"
   ]
  },
  {
   "cell_type": "markdown",
   "id": "7cac36ce",
   "metadata": {},
   "source": [
    "### 1. Digital payments penetration"
   ]
  },
  {
   "cell_type": "code",
   "execution_count": 33,
   "id": "e9e9f62f",
   "metadata": {},
   "outputs": [
    {
     "data": {
      "text/plain": [
       "'Online-Service-Index (OSI)'"
      ]
     },
     "execution_count": 33,
     "metadata": {},
     "output_type": "execute_result"
    }
   ],
   "source": [
    "indicators[0]"
   ]
  },
  {
   "cell_type": "code",
   "execution_count": 16,
   "id": "120e6f01",
   "metadata": {},
   "outputs": [
    {
     "name": "stdout",
     "output_type": "stream",
     "text": [
      "Online-Service-Index (OSI)\n",
      "e_government_index\n"
     ]
    }
   ],
   "source": [
    "# load data\n",
    "indicator = indicators[0]\n",
    "print(indicator)\n",
    "bf = bnames[bnames['Indicator']==indicator]['Filename'].values[0]\n",
    "print(bf)\n",
    "\n",
    "df = pd.read_csv('../../processed/{}.csv'.format(bf))"
   ]
  },
  {
   "cell_type": "code",
   "execution_count": 17,
   "id": "9f277dc5",
   "metadata": {},
   "outputs": [
    {
     "data": {
      "text/html": [
       "<div>\n",
       "<style scoped>\n",
       "    .dataframe tbody tr th:only-of-type {\n",
       "        vertical-align: middle;\n",
       "    }\n",
       "\n",
       "    .dataframe tbody tr th {\n",
       "        vertical-align: top;\n",
       "    }\n",
       "\n",
       "    .dataframe thead th {\n",
       "        text-align: right;\n",
       "    }\n",
       "</style>\n",
       "<table border=\"1\" class=\"dataframe\">\n",
       "  <thead>\n",
       "    <tr style=\"text-align: right;\">\n",
       "      <th></th>\n",
       "      <th>Survey Year</th>\n",
       "      <th>Country Name</th>\n",
       "      <th>E-Government Rank</th>\n",
       "      <th>E-Government Index</th>\n",
       "      <th>E-Participation Index</th>\n",
       "      <th>Online Service Index</th>\n",
       "      <th>Human Capital Index</th>\n",
       "      <th>Telecommunication Infrastructure Index</th>\n",
       "    </tr>\n",
       "  </thead>\n",
       "  <tbody>\n",
       "    <tr>\n",
       "      <th>0</th>\n",
       "      <td>2020</td>\n",
       "      <td>Iraq</td>\n",
       "      <td>143</td>\n",
       "      <td>0.4360</td>\n",
       "      <td>0.3095</td>\n",
       "      <td>0.3353</td>\n",
       "      <td>0.4358</td>\n",
       "      <td>0.5370</td>\n",
       "    </tr>\n",
       "    <tr>\n",
       "      <th>1</th>\n",
       "      <td>2020</td>\n",
       "      <td>Ireland</td>\n",
       "      <td>27</td>\n",
       "      <td>0.8433</td>\n",
       "      <td>0.8571</td>\n",
       "      <td>0.7706</td>\n",
       "      <td>0.9494</td>\n",
       "      <td>0.8100</td>\n",
       "    </tr>\n",
       "    <tr>\n",
       "      <th>2</th>\n",
       "      <td>2020</td>\n",
       "      <td>Israel</td>\n",
       "      <td>30</td>\n",
       "      <td>0.8361</td>\n",
       "      <td>0.7143</td>\n",
       "      <td>0.7471</td>\n",
       "      <td>0.8924</td>\n",
       "      <td>0.8689</td>\n",
       "    </tr>\n",
       "    <tr>\n",
       "      <th>3</th>\n",
       "      <td>2020</td>\n",
       "      <td>Italy</td>\n",
       "      <td>37</td>\n",
       "      <td>0.8231</td>\n",
       "      <td>0.8214</td>\n",
       "      <td>0.8294</td>\n",
       "      <td>0.8466</td>\n",
       "      <td>0.7932</td>\n",
       "    </tr>\n",
       "    <tr>\n",
       "      <th>4</th>\n",
       "      <td>2020</td>\n",
       "      <td>Jamaica</td>\n",
       "      <td>114</td>\n",
       "      <td>0.5392</td>\n",
       "      <td>0.3690</td>\n",
       "      <td>0.3882</td>\n",
       "      <td>0.7142</td>\n",
       "      <td>0.5151</td>\n",
       "    </tr>\n",
       "  </tbody>\n",
       "</table>\n",
       "</div>"
      ],
      "text/plain": [
       "   Survey Year Country Name  E-Government Rank  E-Government Index  \\\n",
       "0         2020        Iraq                 143              0.4360   \n",
       "1         2020     Ireland                  27              0.8433   \n",
       "2         2020      Israel                  30              0.8361   \n",
       "3         2020       Italy                  37              0.8231   \n",
       "4         2020     Jamaica                 114              0.5392   \n",
       "\n",
       "   E-Participation Index  Online Service Index  Human Capital Index  \\\n",
       "0                 0.3095                0.3353               0.4358   \n",
       "1                 0.8571                0.7706               0.9494   \n",
       "2                 0.7143                0.7471               0.8924   \n",
       "3                 0.8214                0.8294               0.8466   \n",
       "4                 0.3690                0.3882               0.7142   \n",
       "\n",
       "   Telecommunication Infrastructure Index  \n",
       "0                                  0.5370  \n",
       "1                                  0.8100  \n",
       "2                                  0.8689  \n",
       "3                                  0.7932  \n",
       "4                                  0.5151  "
      ]
     },
     "execution_count": 17,
     "metadata": {},
     "output_type": "execute_result"
    }
   ],
   "source": [
    "df.head()"
   ]
  },
  {
   "cell_type": "code",
   "execution_count": 18,
   "id": "c1d7685f",
   "metadata": {},
   "outputs": [
    {
     "data": {
      "text/plain": [
       "2020    193\n",
       "Name: Survey Year, dtype: int64"
      ]
     },
     "execution_count": 18,
     "metadata": {},
     "output_type": "execute_result"
    }
   ],
   "source": [
    "# all data from 2020\n",
    "df['Survey Year'].value_counts()"
   ]
  },
  {
   "cell_type": "code",
   "execution_count": 19,
   "id": "efc64104",
   "metadata": {},
   "outputs": [
    {
     "data": {
      "text/html": [
       "<div>\n",
       "<style scoped>\n",
       "    .dataframe tbody tr th:only-of-type {\n",
       "        vertical-align: middle;\n",
       "    }\n",
       "\n",
       "    .dataframe tbody tr th {\n",
       "        vertical-align: top;\n",
       "    }\n",
       "\n",
       "    .dataframe thead th {\n",
       "        text-align: right;\n",
       "    }\n",
       "</style>\n",
       "<table border=\"1\" class=\"dataframe\">\n",
       "  <thead>\n",
       "    <tr style=\"text-align: right;\">\n",
       "      <th></th>\n",
       "      <th>Survey Year</th>\n",
       "      <th>E-Government Rank</th>\n",
       "      <th>E-Government Index</th>\n",
       "      <th>E-Participation Index</th>\n",
       "      <th>Online Service Index</th>\n",
       "      <th>Human Capital Index</th>\n",
       "      <th>Telecommunication Infrastructure Index</th>\n",
       "    </tr>\n",
       "  </thead>\n",
       "  <tbody>\n",
       "    <tr>\n",
       "      <th>count</th>\n",
       "      <td>193.0</td>\n",
       "      <td>193.000000</td>\n",
       "      <td>193.000000</td>\n",
       "      <td>193.000000</td>\n",
       "      <td>193.000000</td>\n",
       "      <td>193.000000</td>\n",
       "      <td>193.000000</td>\n",
       "    </tr>\n",
       "    <tr>\n",
       "      <th>mean</th>\n",
       "      <td>2020.0</td>\n",
       "      <td>97.000000</td>\n",
       "      <td>0.598767</td>\n",
       "      <td>0.567723</td>\n",
       "      <td>0.561961</td>\n",
       "      <td>0.687992</td>\n",
       "      <td>0.546354</td>\n",
       "    </tr>\n",
       "    <tr>\n",
       "      <th>std</th>\n",
       "      <td>0.0</td>\n",
       "      <td>55.858452</td>\n",
       "      <td>0.214869</td>\n",
       "      <td>0.259592</td>\n",
       "      <td>0.249874</td>\n",
       "      <td>0.194440</td>\n",
       "      <td>0.259358</td>\n",
       "    </tr>\n",
       "    <tr>\n",
       "      <th>min</th>\n",
       "      <td>2020.0</td>\n",
       "      <td>1.000000</td>\n",
       "      <td>0.087500</td>\n",
       "      <td>0.000000</td>\n",
       "      <td>0.000000</td>\n",
       "      <td>0.000000</td>\n",
       "      <td>0.000000</td>\n",
       "    </tr>\n",
       "    <tr>\n",
       "      <th>25%</th>\n",
       "      <td>2020.0</td>\n",
       "      <td>49.000000</td>\n",
       "      <td>0.432000</td>\n",
       "      <td>0.357100</td>\n",
       "      <td>0.352900</td>\n",
       "      <td>0.559900</td>\n",
       "      <td>0.349600</td>\n",
       "    </tr>\n",
       "    <tr>\n",
       "      <th>50%</th>\n",
       "      <td>2020.0</td>\n",
       "      <td>97.000000</td>\n",
       "      <td>0.612900</td>\n",
       "      <td>0.571400</td>\n",
       "      <td>0.576500</td>\n",
       "      <td>0.739500</td>\n",
       "      <td>0.566900</td>\n",
       "    </tr>\n",
       "    <tr>\n",
       "      <th>75%</th>\n",
       "      <td>2020.0</td>\n",
       "      <td>145.000000</td>\n",
       "      <td>0.779800</td>\n",
       "      <td>0.797600</td>\n",
       "      <td>0.764700</td>\n",
       "      <td>0.841400</td>\n",
       "      <td>0.772300</td>\n",
       "    </tr>\n",
       "    <tr>\n",
       "      <th>max</th>\n",
       "      <td>2020.0</td>\n",
       "      <td>193.000000</td>\n",
       "      <td>0.975800</td>\n",
       "      <td>1.000000</td>\n",
       "      <td>1.000000</td>\n",
       "      <td>1.000000</td>\n",
       "      <td>1.000000</td>\n",
       "    </tr>\n",
       "  </tbody>\n",
       "</table>\n",
       "</div>"
      ],
      "text/plain": [
       "       Survey Year  E-Government Rank  E-Government Index  \\\n",
       "count        193.0         193.000000          193.000000   \n",
       "mean        2020.0          97.000000            0.598767   \n",
       "std            0.0          55.858452            0.214869   \n",
       "min         2020.0           1.000000            0.087500   \n",
       "25%         2020.0          49.000000            0.432000   \n",
       "50%         2020.0          97.000000            0.612900   \n",
       "75%         2020.0         145.000000            0.779800   \n",
       "max         2020.0         193.000000            0.975800   \n",
       "\n",
       "       E-Participation Index  Online Service Index  Human Capital Index  \\\n",
       "count             193.000000            193.000000           193.000000   \n",
       "mean                0.567723              0.561961             0.687992   \n",
       "std                 0.259592              0.249874             0.194440   \n",
       "min                 0.000000              0.000000             0.000000   \n",
       "25%                 0.357100              0.352900             0.559900   \n",
       "50%                 0.571400              0.576500             0.739500   \n",
       "75%                 0.797600              0.764700             0.841400   \n",
       "max                 1.000000              1.000000             1.000000   \n",
       "\n",
       "       Telecommunication Infrastructure Index  \n",
       "count                              193.000000  \n",
       "mean                                 0.546354  \n",
       "std                                  0.259358  \n",
       "min                                  0.000000  \n",
       "25%                                  0.349600  \n",
       "50%                                  0.566900  \n",
       "75%                                  0.772300  \n",
       "max                                  1.000000  "
      ]
     },
     "execution_count": 19,
     "metadata": {},
     "output_type": "execute_result"
    }
   ],
   "source": [
    "# score looks like the one to use\n",
    "df.describe()"
   ]
  },
  {
   "cell_type": "code",
   "execution_count": 20,
   "id": "b1a1c940",
   "metadata": {},
   "outputs": [],
   "source": [
    "# df.Indicator.unique()"
   ]
  },
  {
   "cell_type": "code",
   "execution_count": 21,
   "id": "9e4b127c",
   "metadata": {},
   "outputs": [],
   "source": [
    "# create standard columns\n",
    "# df.rename(columns={'COUNTRY/ECONOMY':'Country Name'}, inplace=True)\n",
    "df['higher_is_better'] = True\n",
    "df['Indicator'] = indicator\n",
    "df['data_col'] = df['Online Service Index'] \n",
    "\n",
    "\n",
    "min_rank = df['data_col'].min()\n",
    "max_rank = df['data_col'].max()\n",
    "\n",
    "# transform 0-1 rank into 1-6\n",
    "df['new_rank_score'] = df['data_col'].apply(lambda row: convert_rank(row,old_min=min_rank,old_max=max_rank))\n",
    "\n"
   ]
  },
  {
   "cell_type": "code",
   "execution_count": 22,
   "id": "c317fa59",
   "metadata": {},
   "outputs": [],
   "source": [
    "\n",
    "# output scores to csv\n",
    "df[['Country Name','Indicator','data_col','new_rank_score','higher_is_better']].to_csv('../indicator_scores/government_{}_scores.csv'.format(bf), index=False)"
   ]
  },
  {
   "cell_type": "code",
   "execution_count": 23,
   "id": "7f2814dd",
   "metadata": {},
   "outputs": [
    {
     "data": {
      "text/html": [
       "<div>\n",
       "<style scoped>\n",
       "    .dataframe tbody tr th:only-of-type {\n",
       "        vertical-align: middle;\n",
       "    }\n",
       "\n",
       "    .dataframe tbody tr th {\n",
       "        vertical-align: top;\n",
       "    }\n",
       "\n",
       "    .dataframe thead th {\n",
       "        text-align: right;\n",
       "    }\n",
       "</style>\n",
       "<table border=\"1\" class=\"dataframe\">\n",
       "  <thead>\n",
       "    <tr style=\"text-align: right;\">\n",
       "      <th></th>\n",
       "      <th>Country Name</th>\n",
       "      <th>Indicator</th>\n",
       "      <th>data_col</th>\n",
       "      <th>new_rank_score</th>\n",
       "      <th>higher_is_better</th>\n",
       "    </tr>\n",
       "  </thead>\n",
       "  <tbody>\n",
       "    <tr>\n",
       "      <th>0</th>\n",
       "      <td>Iraq</td>\n",
       "      <td>Online-Service-Index (OSI)</td>\n",
       "      <td>0.3353</td>\n",
       "      <td>2.6765</td>\n",
       "      <td>True</td>\n",
       "    </tr>\n",
       "    <tr>\n",
       "      <th>1</th>\n",
       "      <td>Ireland</td>\n",
       "      <td>Online-Service-Index (OSI)</td>\n",
       "      <td>0.7706</td>\n",
       "      <td>4.8530</td>\n",
       "      <td>True</td>\n",
       "    </tr>\n",
       "    <tr>\n",
       "      <th>2</th>\n",
       "      <td>Israel</td>\n",
       "      <td>Online-Service-Index (OSI)</td>\n",
       "      <td>0.7471</td>\n",
       "      <td>4.7355</td>\n",
       "      <td>True</td>\n",
       "    </tr>\n",
       "    <tr>\n",
       "      <th>3</th>\n",
       "      <td>Italy</td>\n",
       "      <td>Online-Service-Index (OSI)</td>\n",
       "      <td>0.8294</td>\n",
       "      <td>5.1470</td>\n",
       "      <td>True</td>\n",
       "    </tr>\n",
       "    <tr>\n",
       "      <th>4</th>\n",
       "      <td>Jamaica</td>\n",
       "      <td>Online-Service-Index (OSI)</td>\n",
       "      <td>0.3882</td>\n",
       "      <td>2.9410</td>\n",
       "      <td>True</td>\n",
       "    </tr>\n",
       "    <tr>\n",
       "      <th>5</th>\n",
       "      <td>Japan</td>\n",
       "      <td>Online-Service-Index (OSI)</td>\n",
       "      <td>0.9059</td>\n",
       "      <td>5.5295</td>\n",
       "      <td>True</td>\n",
       "    </tr>\n",
       "    <tr>\n",
       "      <th>6</th>\n",
       "      <td>Jordan</td>\n",
       "      <td>Online-Service-Index (OSI)</td>\n",
       "      <td>0.3588</td>\n",
       "      <td>2.7940</td>\n",
       "      <td>True</td>\n",
       "    </tr>\n",
       "    <tr>\n",
       "      <th>7</th>\n",
       "      <td>Kazakhstan</td>\n",
       "      <td>Online-Service-Index (OSI)</td>\n",
       "      <td>0.9235</td>\n",
       "      <td>5.6175</td>\n",
       "      <td>True</td>\n",
       "    </tr>\n",
       "    <tr>\n",
       "      <th>8</th>\n",
       "      <td>Kenya</td>\n",
       "      <td>Online-Service-Index (OSI)</td>\n",
       "      <td>0.6765</td>\n",
       "      <td>4.3825</td>\n",
       "      <td>True</td>\n",
       "    </tr>\n",
       "    <tr>\n",
       "      <th>9</th>\n",
       "      <td>Kiribati</td>\n",
       "      <td>Online-Service-Index (OSI)</td>\n",
       "      <td>0.4941</td>\n",
       "      <td>3.4705</td>\n",
       "      <td>True</td>\n",
       "    </tr>\n",
       "    <tr>\n",
       "      <th>10</th>\n",
       "      <td>Kuwait</td>\n",
       "      <td>Online-Service-Index (OSI)</td>\n",
       "      <td>0.8412</td>\n",
       "      <td>5.2060</td>\n",
       "      <td>True</td>\n",
       "    </tr>\n",
       "    <tr>\n",
       "      <th>11</th>\n",
       "      <td>Kyrgyzstan</td>\n",
       "      <td>Online-Service-Index (OSI)</td>\n",
       "      <td>0.6471</td>\n",
       "      <td>4.2355</td>\n",
       "      <td>True</td>\n",
       "    </tr>\n",
       "    <tr>\n",
       "      <th>12</th>\n",
       "      <td>Lao People's Democratic Republic</td>\n",
       "      <td>Online-Service-Index (OSI)</td>\n",
       "      <td>0.1941</td>\n",
       "      <td>1.9705</td>\n",
       "      <td>True</td>\n",
       "    </tr>\n",
       "    <tr>\n",
       "      <th>13</th>\n",
       "      <td>Latvia</td>\n",
       "      <td>Online-Service-Index (OSI)</td>\n",
       "      <td>0.5824</td>\n",
       "      <td>3.9120</td>\n",
       "      <td>True</td>\n",
       "    </tr>\n",
       "    <tr>\n",
       "      <th>14</th>\n",
       "      <td>Lebanon</td>\n",
       "      <td>Online-Service-Index (OSI)</td>\n",
       "      <td>0.4176</td>\n",
       "      <td>3.0880</td>\n",
       "      <td>True</td>\n",
       "    </tr>\n",
       "  </tbody>\n",
       "</table>\n",
       "</div>"
      ],
      "text/plain": [
       "                         Country Name                   Indicator  data_col  \\\n",
       "0                               Iraq   Online-Service-Index (OSI)    0.3353   \n",
       "1                            Ireland   Online-Service-Index (OSI)    0.7706   \n",
       "2                             Israel   Online-Service-Index (OSI)    0.7471   \n",
       "3                              Italy   Online-Service-Index (OSI)    0.8294   \n",
       "4                            Jamaica   Online-Service-Index (OSI)    0.3882   \n",
       "5                              Japan   Online-Service-Index (OSI)    0.9059   \n",
       "6                             Jordan   Online-Service-Index (OSI)    0.3588   \n",
       "7                         Kazakhstan   Online-Service-Index (OSI)    0.9235   \n",
       "8                              Kenya   Online-Service-Index (OSI)    0.6765   \n",
       "9                           Kiribati   Online-Service-Index (OSI)    0.4941   \n",
       "10                            Kuwait   Online-Service-Index (OSI)    0.8412   \n",
       "11                        Kyrgyzstan   Online-Service-Index (OSI)    0.6471   \n",
       "12  Lao People's Democratic Republic   Online-Service-Index (OSI)    0.1941   \n",
       "13                            Latvia   Online-Service-Index (OSI)    0.5824   \n",
       "14                           Lebanon   Online-Service-Index (OSI)    0.4176   \n",
       "\n",
       "    new_rank_score  higher_is_better  \n",
       "0           2.6765              True  \n",
       "1           4.8530              True  \n",
       "2           4.7355              True  \n",
       "3           5.1470              True  \n",
       "4           2.9410              True  \n",
       "5           5.5295              True  \n",
       "6           2.7940              True  \n",
       "7           5.6175              True  \n",
       "8           4.3825              True  \n",
       "9           3.4705              True  \n",
       "10          5.2060              True  \n",
       "11          4.2355              True  \n",
       "12          1.9705              True  \n",
       "13          3.9120              True  \n",
       "14          3.0880              True  "
      ]
     },
     "execution_count": 23,
     "metadata": {},
     "output_type": "execute_result"
    }
   ],
   "source": [
    "df[['Country Name','Indicator','data_col','new_rank_score','higher_is_better']].head(15)\n"
   ]
  },
  {
   "cell_type": "markdown",
   "id": "ddce2144",
   "metadata": {},
   "source": [
    "## 2. E-Participation index\n"
   ]
  },
  {
   "cell_type": "code",
   "execution_count": 34,
   "id": "5b050cf4",
   "metadata": {},
   "outputs": [
    {
     "name": "stdout",
     "output_type": "stream",
     "text": [
      "E-Participation index\n",
      "e_government_index\n"
     ]
    }
   ],
   "source": [
    "indicator = indicators[1]\n",
    "print(indicator)\n",
    "bf = bnames[bnames['Indicator']==indicator]['Filename'].values[0]\n",
    "print(bf)\n",
    "\n",
    "df = pd.read_csv('../../processed/{}.csv'.format(bf))"
   ]
  },
  {
   "cell_type": "code",
   "execution_count": 25,
   "id": "bbc458d4",
   "metadata": {},
   "outputs": [
    {
     "data": {
      "text/html": [
       "<div>\n",
       "<style scoped>\n",
       "    .dataframe tbody tr th:only-of-type {\n",
       "        vertical-align: middle;\n",
       "    }\n",
       "\n",
       "    .dataframe tbody tr th {\n",
       "        vertical-align: top;\n",
       "    }\n",
       "\n",
       "    .dataframe thead th {\n",
       "        text-align: right;\n",
       "    }\n",
       "</style>\n",
       "<table border=\"1\" class=\"dataframe\">\n",
       "  <thead>\n",
       "    <tr style=\"text-align: right;\">\n",
       "      <th></th>\n",
       "      <th>Survey Year</th>\n",
       "      <th>Country Name</th>\n",
       "      <th>E-Government Rank</th>\n",
       "      <th>E-Government Index</th>\n",
       "      <th>E-Participation Index</th>\n",
       "      <th>Online Service Index</th>\n",
       "      <th>Human Capital Index</th>\n",
       "      <th>Telecommunication Infrastructure Index</th>\n",
       "    </tr>\n",
       "  </thead>\n",
       "  <tbody>\n",
       "    <tr>\n",
       "      <th>0</th>\n",
       "      <td>2020</td>\n",
       "      <td>Iraq</td>\n",
       "      <td>143</td>\n",
       "      <td>0.4360</td>\n",
       "      <td>0.3095</td>\n",
       "      <td>0.3353</td>\n",
       "      <td>0.4358</td>\n",
       "      <td>0.5370</td>\n",
       "    </tr>\n",
       "    <tr>\n",
       "      <th>1</th>\n",
       "      <td>2020</td>\n",
       "      <td>Ireland</td>\n",
       "      <td>27</td>\n",
       "      <td>0.8433</td>\n",
       "      <td>0.8571</td>\n",
       "      <td>0.7706</td>\n",
       "      <td>0.9494</td>\n",
       "      <td>0.8100</td>\n",
       "    </tr>\n",
       "    <tr>\n",
       "      <th>2</th>\n",
       "      <td>2020</td>\n",
       "      <td>Israel</td>\n",
       "      <td>30</td>\n",
       "      <td>0.8361</td>\n",
       "      <td>0.7143</td>\n",
       "      <td>0.7471</td>\n",
       "      <td>0.8924</td>\n",
       "      <td>0.8689</td>\n",
       "    </tr>\n",
       "    <tr>\n",
       "      <th>3</th>\n",
       "      <td>2020</td>\n",
       "      <td>Italy</td>\n",
       "      <td>37</td>\n",
       "      <td>0.8231</td>\n",
       "      <td>0.8214</td>\n",
       "      <td>0.8294</td>\n",
       "      <td>0.8466</td>\n",
       "      <td>0.7932</td>\n",
       "    </tr>\n",
       "    <tr>\n",
       "      <th>4</th>\n",
       "      <td>2020</td>\n",
       "      <td>Jamaica</td>\n",
       "      <td>114</td>\n",
       "      <td>0.5392</td>\n",
       "      <td>0.3690</td>\n",
       "      <td>0.3882</td>\n",
       "      <td>0.7142</td>\n",
       "      <td>0.5151</td>\n",
       "    </tr>\n",
       "  </tbody>\n",
       "</table>\n",
       "</div>"
      ],
      "text/plain": [
       "   Survey Year Country Name  E-Government Rank  E-Government Index  \\\n",
       "0         2020        Iraq                 143              0.4360   \n",
       "1         2020     Ireland                  27              0.8433   \n",
       "2         2020      Israel                  30              0.8361   \n",
       "3         2020       Italy                  37              0.8231   \n",
       "4         2020     Jamaica                 114              0.5392   \n",
       "\n",
       "   E-Participation Index  Online Service Index  Human Capital Index  \\\n",
       "0                 0.3095                0.3353               0.4358   \n",
       "1                 0.8571                0.7706               0.9494   \n",
       "2                 0.7143                0.7471               0.8924   \n",
       "3                 0.8214                0.8294               0.8466   \n",
       "4                 0.3690                0.3882               0.7142   \n",
       "\n",
       "   Telecommunication Infrastructure Index  \n",
       "0                                  0.5370  \n",
       "1                                  0.8100  \n",
       "2                                  0.8689  \n",
       "3                                  0.7932  \n",
       "4                                  0.5151  "
      ]
     },
     "execution_count": 25,
     "metadata": {},
     "output_type": "execute_result"
    }
   ],
   "source": [
    "df.head()"
   ]
  },
  {
   "cell_type": "code",
   "execution_count": 26,
   "id": "9ad40f64",
   "metadata": {},
   "outputs": [
    {
     "data": {
      "text/plain": [
       "array([2020], dtype=int64)"
      ]
     },
     "execution_count": 26,
     "metadata": {},
     "output_type": "execute_result"
    }
   ],
   "source": [
    "df['Survey Year'].unique()"
   ]
  },
  {
   "cell_type": "code",
   "execution_count": 27,
   "id": "bf5a4ed7",
   "metadata": {},
   "outputs": [],
   "source": [
    "# create standard columns\n",
    "# df.rename(columns={'COUNTRY/ECONOMY':'Country Name'}, inplace=True)\n",
    "df['higher_is_better'] = True\n",
    "df['Indicator'] = indicator\n",
    "df['data_col'] = df['E-Participation Index'] \n",
    "\n",
    "\n",
    "min_rank = df['data_col'].min()\n",
    "max_rank = df['data_col'].max()\n",
    "\n",
    "# transform 0-1 rank into 1-6\n",
    "df['new_rank_score'] = df['data_col'].apply(lambda row: convert_rank(row,old_min=min_rank,old_max=max_rank))\n",
    "\n",
    "\n",
    "# output scores to csv\n",
    "df[['Country Name','Indicator','data_col','new_rank_score','higher_is_better']].to_csv('../indicator_scores/government_{}_scores.csv'.format(bf), index=False)"
   ]
  },
  {
   "cell_type": "markdown",
   "id": "288d740f",
   "metadata": {},
   "source": [
    "## 3. Use of public services online (% of services online, penetration, frequency of use)\n"
   ]
  },
  {
   "cell_type": "code",
   "execution_count": 35,
   "id": "5e772306",
   "metadata": {},
   "outputs": [
    {
     "name": "stdout",
     "output_type": "stream",
     "text": [
      "Use of public services online (% of services online, penetration, frequency of use)\n",
      "digital_public_service_use\n"
     ]
    }
   ],
   "source": [
    "indicator = indicators[2]\n",
    "print(indicator)\n",
    "bf = bnames[bnames['Indicator']==indicator]['Filename'].values[0]\n",
    "print(bf)\n",
    "\n",
    "df = pd.read_csv('../../processed/{}.csv'.format(bf))"
   ]
  },
  {
   "cell_type": "code",
   "execution_count": 29,
   "id": "4465f959",
   "metadata": {},
   "outputs": [],
   "source": [
    "# drop first row\n",
    "df = df.iloc[1: , :]"
   ]
  },
  {
   "cell_type": "code",
   "execution_count": 30,
   "id": "4f9bbb4e",
   "metadata": {},
   "outputs": [
    {
     "name": "stdout",
     "output_type": "stream",
     "text": [
      "<class 'pandas.core.frame.DataFrame'>\n",
      "RangeIndex: 31 entries, 1 to 31\n",
      "Data columns (total 2 columns):\n",
      " #   Column              Non-Null Count  Dtype \n",
      "---  ------              --------------  ----- \n",
      " 0   Country             31 non-null     object\n",
      " 1   Net Perception (%)  31 non-null     int64 \n",
      "dtypes: int64(1), object(1)\n",
      "memory usage: 628.0+ bytes\n"
     ]
    }
   ],
   "source": [
    "df.info()"
   ]
  },
  {
   "cell_type": "code",
   "execution_count": 36,
   "id": "01013890",
   "metadata": {},
   "outputs": [
    {
     "data": {
      "text/html": [
       "<div>\n",
       "<style scoped>\n",
       "    .dataframe tbody tr th:only-of-type {\n",
       "        vertical-align: middle;\n",
       "    }\n",
       "\n",
       "    .dataframe tbody tr th {\n",
       "        vertical-align: top;\n",
       "    }\n",
       "\n",
       "    .dataframe thead th {\n",
       "        text-align: right;\n",
       "    }\n",
       "</style>\n",
       "<table border=\"1\" class=\"dataframe\">\n",
       "  <thead>\n",
       "    <tr style=\"text-align: right;\">\n",
       "      <th></th>\n",
       "      <th>Country</th>\n",
       "      <th>Net Perception (%)</th>\n",
       "    </tr>\n",
       "  </thead>\n",
       "  <tbody>\n",
       "    <tr>\n",
       "      <th>0</th>\n",
       "      <td>Estonia</td>\n",
       "      <td>67</td>\n",
       "    </tr>\n",
       "    <tr>\n",
       "      <th>1</th>\n",
       "      <td>UAE</td>\n",
       "      <td>61</td>\n",
       "    </tr>\n",
       "    <tr>\n",
       "      <th>2</th>\n",
       "      <td>Saudi Arabia</td>\n",
       "      <td>59</td>\n",
       "    </tr>\n",
       "    <tr>\n",
       "      <th>3</th>\n",
       "      <td>Singapore</td>\n",
       "      <td>54</td>\n",
       "    </tr>\n",
       "    <tr>\n",
       "      <th>4</th>\n",
       "      <td>China</td>\n",
       "      <td>53</td>\n",
       "    </tr>\n",
       "    <tr>\n",
       "      <th>5</th>\n",
       "      <td>New Zealand</td>\n",
       "      <td>52</td>\n",
       "    </tr>\n",
       "    <tr>\n",
       "      <th>6</th>\n",
       "      <td>Netherlands</td>\n",
       "      <td>51</td>\n",
       "    </tr>\n",
       "    <tr>\n",
       "      <th>7</th>\n",
       "      <td>Qatar</td>\n",
       "      <td>51</td>\n",
       "    </tr>\n",
       "    <tr>\n",
       "      <th>8</th>\n",
       "      <td>Canada</td>\n",
       "      <td>40</td>\n",
       "    </tr>\n",
       "    <tr>\n",
       "      <th>9</th>\n",
       "      <td>Denmark</td>\n",
       "      <td>48</td>\n",
       "    </tr>\n",
       "    <tr>\n",
       "      <th>10</th>\n",
       "      <td>India</td>\n",
       "      <td>45</td>\n",
       "    </tr>\n",
       "    <tr>\n",
       "      <th>11</th>\n",
       "      <td>France</td>\n",
       "      <td>43</td>\n",
       "    </tr>\n",
       "    <tr>\n",
       "      <th>12</th>\n",
       "      <td>UK</td>\n",
       "      <td>42</td>\n",
       "    </tr>\n",
       "    <tr>\n",
       "      <th>13</th>\n",
       "      <td>Sweden</td>\n",
       "      <td>41</td>\n",
       "    </tr>\n",
       "    <tr>\n",
       "      <th>14</th>\n",
       "      <td>Australia</td>\n",
       "      <td>40</td>\n",
       "    </tr>\n",
       "  </tbody>\n",
       "</table>\n",
       "</div>"
      ],
      "text/plain": [
       "          Country  Net Perception (%)\n",
       "0        Estonia                   67\n",
       "1            UAE                   61\n",
       "2   Saudi Arabia                   59\n",
       "3       Singapore                  54\n",
       "4          China                   53\n",
       "5    New Zealand                   52\n",
       "6    Netherlands                   51\n",
       "7          Qatar                   51\n",
       "8         Canada                   40\n",
       "9         Denmark                  48\n",
       "10         India                   45\n",
       "11        France                   43\n",
       "12             UK                  42\n",
       "13         Sweden                  41\n",
       "14      Australia                  40"
      ]
     },
     "execution_count": 36,
     "metadata": {},
     "output_type": "execute_result"
    }
   ],
   "source": [
    "df.head(15)"
   ]
  },
  {
   "cell_type": "code",
   "execution_count": 32,
   "id": "4ec3f6a9",
   "metadata": {},
   "outputs": [
    {
     "ename": "KeyError",
     "evalue": "'Unnamed: 1'",
     "output_type": "error",
     "traceback": [
      "\u001b[1;31m---------------------------------------------------------------------------\u001b[0m",
      "\u001b[1;31mKeyError\u001b[0m                                  Traceback (most recent call last)",
      "\u001b[1;32mD:\\Apps\\Anaconda\\lib\\site-packages\\pandas\\core\\indexes\\base.py\u001b[0m in \u001b[0;36mget_loc\u001b[1;34m(self, key, method, tolerance)\u001b[0m\n\u001b[0;32m   3079\u001b[0m             \u001b[1;32mtry\u001b[0m\u001b[1;33m:\u001b[0m\u001b[1;33m\u001b[0m\u001b[1;33m\u001b[0m\u001b[0m\n\u001b[1;32m-> 3080\u001b[1;33m                 \u001b[1;32mreturn\u001b[0m \u001b[0mself\u001b[0m\u001b[1;33m.\u001b[0m\u001b[0m_engine\u001b[0m\u001b[1;33m.\u001b[0m\u001b[0mget_loc\u001b[0m\u001b[1;33m(\u001b[0m\u001b[0mcasted_key\u001b[0m\u001b[1;33m)\u001b[0m\u001b[1;33m\u001b[0m\u001b[1;33m\u001b[0m\u001b[0m\n\u001b[0m\u001b[0;32m   3081\u001b[0m             \u001b[1;32mexcept\u001b[0m \u001b[0mKeyError\u001b[0m \u001b[1;32mas\u001b[0m \u001b[0merr\u001b[0m\u001b[1;33m:\u001b[0m\u001b[1;33m\u001b[0m\u001b[1;33m\u001b[0m\u001b[0m\n",
      "\u001b[1;32mpandas\\_libs\\index.pyx\u001b[0m in \u001b[0;36mpandas._libs.index.IndexEngine.get_loc\u001b[1;34m()\u001b[0m\n",
      "\u001b[1;32mpandas\\_libs\\index.pyx\u001b[0m in \u001b[0;36mpandas._libs.index.IndexEngine.get_loc\u001b[1;34m()\u001b[0m\n",
      "\u001b[1;32mpandas\\_libs\\hashtable_class_helper.pxi\u001b[0m in \u001b[0;36mpandas._libs.hashtable.PyObjectHashTable.get_item\u001b[1;34m()\u001b[0m\n",
      "\u001b[1;32mpandas\\_libs\\hashtable_class_helper.pxi\u001b[0m in \u001b[0;36mpandas._libs.hashtable.PyObjectHashTable.get_item\u001b[1;34m()\u001b[0m\n",
      "\u001b[1;31mKeyError\u001b[0m: 'Unnamed: 1'",
      "\nThe above exception was the direct cause of the following exception:\n",
      "\u001b[1;31mKeyError\u001b[0m                                  Traceback (most recent call last)",
      "\u001b[1;32m<ipython-input-32-c075828c901c>\u001b[0m in \u001b[0;36m<module>\u001b[1;34m\u001b[0m\n\u001b[0;32m      1\u001b[0m \u001b[1;31m# clean data to remove % and convert to float\u001b[0m\u001b[1;33m\u001b[0m\u001b[1;33m\u001b[0m\u001b[1;33m\u001b[0m\u001b[0m\n\u001b[1;32m----> 2\u001b[1;33m \u001b[0mdf\u001b[0m\u001b[1;33m[\u001b[0m\u001b[1;34m'Unnamed: 1'\u001b[0m\u001b[1;33m]\u001b[0m \u001b[1;33m=\u001b[0m \u001b[0mdf\u001b[0m\u001b[1;33m[\u001b[0m\u001b[1;34m'Unnamed: 1'\u001b[0m\u001b[1;33m]\u001b[0m\u001b[1;33m.\u001b[0m\u001b[0mstr\u001b[0m\u001b[1;33m.\u001b[0m\u001b[0mreplace\u001b[0m\u001b[1;33m(\u001b[0m\u001b[1;34m'%'\u001b[0m\u001b[1;33m,\u001b[0m\u001b[1;34m''\u001b[0m\u001b[1;33m)\u001b[0m\u001b[1;33m\u001b[0m\u001b[1;33m\u001b[0m\u001b[0m\n\u001b[0m\u001b[0;32m      3\u001b[0m \u001b[1;33m\u001b[0m\u001b[0m\n\u001b[0;32m      4\u001b[0m \u001b[0mdf\u001b[0m\u001b[1;33m[\u001b[0m\u001b[1;34m'Unnamed: 1'\u001b[0m\u001b[1;33m]\u001b[0m \u001b[1;33m=\u001b[0m \u001b[0mdf\u001b[0m\u001b[1;33m[\u001b[0m\u001b[1;34m'Unnamed: 1'\u001b[0m\u001b[1;33m]\u001b[0m\u001b[1;33m.\u001b[0m\u001b[0mastype\u001b[0m\u001b[1;33m(\u001b[0m\u001b[0mfloat\u001b[0m\u001b[1;33m)\u001b[0m\u001b[1;33m\u001b[0m\u001b[1;33m\u001b[0m\u001b[0m\n",
      "\u001b[1;32mD:\\Apps\\Anaconda\\lib\\site-packages\\pandas\\core\\frame.py\u001b[0m in \u001b[0;36m__getitem__\u001b[1;34m(self, key)\u001b[0m\n\u001b[0;32m   3022\u001b[0m             \u001b[1;32mif\u001b[0m \u001b[0mself\u001b[0m\u001b[1;33m.\u001b[0m\u001b[0mcolumns\u001b[0m\u001b[1;33m.\u001b[0m\u001b[0mnlevels\u001b[0m \u001b[1;33m>\u001b[0m \u001b[1;36m1\u001b[0m\u001b[1;33m:\u001b[0m\u001b[1;33m\u001b[0m\u001b[1;33m\u001b[0m\u001b[0m\n\u001b[0;32m   3023\u001b[0m                 \u001b[1;32mreturn\u001b[0m \u001b[0mself\u001b[0m\u001b[1;33m.\u001b[0m\u001b[0m_getitem_multilevel\u001b[0m\u001b[1;33m(\u001b[0m\u001b[0mkey\u001b[0m\u001b[1;33m)\u001b[0m\u001b[1;33m\u001b[0m\u001b[1;33m\u001b[0m\u001b[0m\n\u001b[1;32m-> 3024\u001b[1;33m             \u001b[0mindexer\u001b[0m \u001b[1;33m=\u001b[0m \u001b[0mself\u001b[0m\u001b[1;33m.\u001b[0m\u001b[0mcolumns\u001b[0m\u001b[1;33m.\u001b[0m\u001b[0mget_loc\u001b[0m\u001b[1;33m(\u001b[0m\u001b[0mkey\u001b[0m\u001b[1;33m)\u001b[0m\u001b[1;33m\u001b[0m\u001b[1;33m\u001b[0m\u001b[0m\n\u001b[0m\u001b[0;32m   3025\u001b[0m             \u001b[1;32mif\u001b[0m \u001b[0mis_integer\u001b[0m\u001b[1;33m(\u001b[0m\u001b[0mindexer\u001b[0m\u001b[1;33m)\u001b[0m\u001b[1;33m:\u001b[0m\u001b[1;33m\u001b[0m\u001b[1;33m\u001b[0m\u001b[0m\n\u001b[0;32m   3026\u001b[0m                 \u001b[0mindexer\u001b[0m \u001b[1;33m=\u001b[0m \u001b[1;33m[\u001b[0m\u001b[0mindexer\u001b[0m\u001b[1;33m]\u001b[0m\u001b[1;33m\u001b[0m\u001b[1;33m\u001b[0m\u001b[0m\n",
      "\u001b[1;32mD:\\Apps\\Anaconda\\lib\\site-packages\\pandas\\core\\indexes\\base.py\u001b[0m in \u001b[0;36mget_loc\u001b[1;34m(self, key, method, tolerance)\u001b[0m\n\u001b[0;32m   3080\u001b[0m                 \u001b[1;32mreturn\u001b[0m \u001b[0mself\u001b[0m\u001b[1;33m.\u001b[0m\u001b[0m_engine\u001b[0m\u001b[1;33m.\u001b[0m\u001b[0mget_loc\u001b[0m\u001b[1;33m(\u001b[0m\u001b[0mcasted_key\u001b[0m\u001b[1;33m)\u001b[0m\u001b[1;33m\u001b[0m\u001b[1;33m\u001b[0m\u001b[0m\n\u001b[0;32m   3081\u001b[0m             \u001b[1;32mexcept\u001b[0m \u001b[0mKeyError\u001b[0m \u001b[1;32mas\u001b[0m \u001b[0merr\u001b[0m\u001b[1;33m:\u001b[0m\u001b[1;33m\u001b[0m\u001b[1;33m\u001b[0m\u001b[0m\n\u001b[1;32m-> 3082\u001b[1;33m                 \u001b[1;32mraise\u001b[0m \u001b[0mKeyError\u001b[0m\u001b[1;33m(\u001b[0m\u001b[0mkey\u001b[0m\u001b[1;33m)\u001b[0m \u001b[1;32mfrom\u001b[0m \u001b[0merr\u001b[0m\u001b[1;33m\u001b[0m\u001b[1;33m\u001b[0m\u001b[0m\n\u001b[0m\u001b[0;32m   3083\u001b[0m \u001b[1;33m\u001b[0m\u001b[0m\n\u001b[0;32m   3084\u001b[0m         \u001b[1;32mif\u001b[0m \u001b[0mtolerance\u001b[0m \u001b[1;32mis\u001b[0m \u001b[1;32mnot\u001b[0m \u001b[1;32mNone\u001b[0m\u001b[1;33m:\u001b[0m\u001b[1;33m\u001b[0m\u001b[1;33m\u001b[0m\u001b[0m\n",
      "\u001b[1;31mKeyError\u001b[0m: 'Unnamed: 1'"
     ]
    }
   ],
   "source": [
    "# clean data to remove % and convert to float\n",
    "df['Unnamed: 1'] = df['Unnamed: 1'].str.replace('%','')\n",
    "\n",
    "df['Unnamed: 1'] = df['Unnamed: 1'].astype(float)"
   ]
  },
  {
   "cell_type": "code",
   "execution_count": null,
   "id": "691820a3",
   "metadata": {},
   "outputs": [],
   "source": [
    "# create the standard columns\n",
    "df['higher_is_better'] = True\n",
    "df['Indicator'] =  indicator\n",
    "df['Country Name'] = df['Net perception that needs are being met by digital services']\n",
    "# df['2019 [YR2019]'] = df['2019 [YR2019]'].astype(float)\n",
    "df['data_col'] = df['Unnamed: 1']"
   ]
  },
  {
   "cell_type": "code",
   "execution_count": null,
   "id": "0ed52016",
   "metadata": {},
   "outputs": [],
   "source": [
    "# convert 1-100 %  into 1-6\n",
    "min_rank = df['data_col'].min()\n",
    "max_rank = df['data_col'].max()\n",
    "df['new_rank_score'] = df['data_col'].apply(lambda row: convert_rank(row, old_min=min_rank,old_max=max_rank))\n",
    "\n",
    "df.sort_values(by='new_rank_score', ascending=False)\n",
    "\n",
    "# prepare output\n",
    "df = df[['Country Name', 'Indicator', 'data_col', 'new_rank_score','higher_is_better']]\n",
    "\n",
    "# output scores\n",
    "df.to_csv('../indicator_scores/government_{}_scores.csv'.format(bf), index=False)"
   ]
  },
  {
   "cell_type": "code",
   "execution_count": null,
   "id": "f35835a2",
   "metadata": {
    "scrolled": true
   },
   "outputs": [],
   "source": [
    "df.describe()"
   ]
  },
  {
   "cell_type": "markdown",
   "id": "a09e01ef",
   "metadata": {},
   "source": [
    "## 4. What is the % change of government digitizing public services?\n",
    "\n"
   ]
  },
  {
   "cell_type": "code",
   "execution_count": 37,
   "id": "ccb6d2ff",
   "metadata": {},
   "outputs": [
    {
     "name": "stdout",
     "output_type": "stream",
     "text": [
      "What is the % change of government digitizing public services?\n",
      "Egov_strategy\n"
     ]
    }
   ],
   "source": [
    "indicator = indicators[3]\n",
    "print(indicator)\n",
    "bf = bnames[bnames['Indicator']==indicator]['Filename'].values[0]\n",
    "print(bf)\n",
    "\n",
    "df = pd.read_csv('../../processed/{}.csv'.format(bf))"
   ]
  },
  {
   "cell_type": "code",
   "execution_count": null,
   "id": "dba1b47f",
   "metadata": {},
   "outputs": [],
   "source": [
    "df.head()"
   ]
  },
  {
   "cell_type": "code",
   "execution_count": null,
   "id": "414dcddd",
   "metadata": {},
   "outputs": [],
   "source": [
    "df['GTMI > Correlation of indicators (without standardization)'].unique()"
   ]
  },
  {
   "cell_type": "code",
   "execution_count": null,
   "id": "a20e658a",
   "metadata": {},
   "outputs": [],
   "source": [
    "df[['GovTech Index','data_country','data_year']].head()"
   ]
  },
  {
   "cell_type": "code",
   "execution_count": null,
   "id": "39afe5b1",
   "metadata": {},
   "outputs": [],
   "source": [
    "df.columns.tolist()"
   ]
  },
  {
   "cell_type": "code",
   "execution_count": null,
   "id": "50690f1f",
   "metadata": {},
   "outputs": [],
   "source": [
    "df[['data_country', 'data_year']].info()"
   ]
  },
  {
   "cell_type": "code",
   "execution_count": null,
   "id": "04f073a6",
   "metadata": {
    "scrolled": true
   },
   "outputs": [],
   "source": [
    "# dcol = 'Percentage of total trade in services'\n",
    "# indicol = 'Category Label'\n",
    "# cname = 'Economy Label'\n",
    "\n",
    "# # filter most recent year\n",
    "# df = df[(df.Year==2019)&(df['Flow Label']=='Exports')]\n",
    "\n",
    "# # create standard columns\n",
    "# df['higher_is_better'] = True\n",
    "# df['Indicator'] =  df[indicol]+' '+ df['Flow Label']\n",
    "# df['Country Name'] = df[cname]\n",
    "# # df['2019 [YR2019]'] = df['2019 [YR2019]'].astype(float)\n",
    "# df['data_col'] = df[dcol]\n",
    "\n",
    "\n",
    "# # convert 1-100 %  into 1-6\n",
    "# df['new_rank_score'] = df['data_col'].apply(lambda row: convert_rank(row, old_min=0,old_max=100))\n",
    "\n",
    "# df.sort_values(by='new_rank_score', ascending=False)\n",
    "\n",
    "# # prepare output\n",
    "# df = df[['Country Name', 'Indicator', 'data_col', 'new_rank_score','higher_is_better']]\n",
    "\n",
    "# # output scores\n",
    "# df.to_csv('../indicator_scores/{}_scores.csv'.format(bf+'_exports'), index=False)"
   ]
  },
  {
   "cell_type": "markdown",
   "id": "ba8969c8",
   "metadata": {},
   "source": [
    "## 5. Security incidents (# of relevant issues)\n",
    "\n"
   ]
  },
  {
   "cell_type": "code",
   "execution_count": 38,
   "id": "d3a596f0",
   "metadata": {},
   "outputs": [
    {
     "name": "stdout",
     "output_type": "stream",
     "text": [
      "Security incidents (# of relevant issues)\n",
      "cyber_attacks\n"
     ]
    }
   ],
   "source": [
    "indicator = indicators[4]\n",
    "print(indicator)\n",
    "bf = bnames[bnames['Indicator']==indicator]['Filename'].values[0]\n",
    "print(bf)\n",
    "\n",
    "df = pd.read_csv('../../processed/{}.csv'.format(bf))"
   ]
  },
  {
   "cell_type": "code",
   "execution_count": null,
   "id": "96c54b82",
   "metadata": {},
   "outputs": [],
   "source": [
    "df['Country Characteristics'].unique()"
   ]
  },
  {
   "cell_type": "code",
   "execution_count": null,
   "id": "b2b3d383",
   "metadata": {},
   "outputs": [],
   "source": [
    "df.head()"
   ]
  },
  {
   "cell_type": "code",
   "execution_count": null,
   "id": "db93ca8c",
   "metadata": {},
   "outputs": [],
   "source": [
    "# create a rank from the number of attacks fields\n",
    "df['data_rank'] = df['Number of Significant Cyberattacks (2006-2020)'].rank(method='max')"
   ]
  },
  {
   "cell_type": "code",
   "execution_count": null,
   "id": "cbd78835",
   "metadata": {},
   "outputs": [],
   "source": [
    "df.data_rank.max()"
   ]
  },
  {
   "cell_type": "code",
   "execution_count": null,
   "id": "8a839ae3",
   "metadata": {},
   "outputs": [],
   "source": [
    "# create standard columns\n",
    "df.rename(columns={'Country':'Country Name'}, inplace=True)\n",
    "df['higher_is_better'] = True\n",
    "df['Indicator'] = indicator\n",
    "df['data_col'] = df['data_rank'] \n",
    "\n",
    "\n",
    "min_rank = df['data_col'].min()\n",
    "max_rank = df['data_col'].max()\n",
    "\n",
    "# transform 1-20 rank into 1-6\n",
    "df['new_rank_score'] = df['data_col'].apply(lambda row: convert_rank(row,old_min=min_rank,old_max=max_rank))\n",
    "\n",
    "# need to invert since higher rank is not better\n",
    "df['new_rank_score'] = (6-df['new_rank_score'])+1\n",
    "\n",
    "# output scores to csv\n",
    "df[['Country Name','Indicator','data_col','new_rank_score','higher_is_better']].to_csv('../indicator_scores/government_{}_scores.csv'.format(bf), index=False)"
   ]
  },
  {
   "cell_type": "code",
   "execution_count": null,
   "id": "b9c9fb1b",
   "metadata": {},
   "outputs": [],
   "source": [
    "df"
   ]
  },
  {
   "cell_type": "markdown",
   "id": "3f8b8d92",
   "metadata": {},
   "source": [
    "## 6. ICT investment as a percentage of GDP\n"
   ]
  },
  {
   "cell_type": "code",
   "execution_count": 39,
   "id": "c7aa2705",
   "metadata": {},
   "outputs": [
    {
     "name": "stdout",
     "output_type": "stream",
     "text": [
      "ICT investment as a percentage of GDP\n",
      "ICT_Investment\n"
     ]
    }
   ],
   "source": [
    "indicator = indicators[5]\n",
    "print(indicator)\n",
    "bf = bnames[bnames['Indicator']==indicator]['Filename'].values[0]\n",
    "print(bf)\n",
    "\n",
    "df = pd.read_csv('../../processed/{}.csv'.format(bf))"
   ]
  },
  {
   "cell_type": "code",
   "execution_count": null,
   "id": "c9f1d0df",
   "metadata": {},
   "outputs": [],
   "source": [
    "df.info()"
   ]
  },
  {
   "cell_type": "code",
   "execution_count": null,
   "id": "55091eda",
   "metadata": {},
   "outputs": [],
   "source": [
    "df.head()"
   ]
  },
  {
   "cell_type": "code",
   "execution_count": null,
   "id": "18082239",
   "metadata": {},
   "outputs": [],
   "source": [
    "df.SUBJECT.unique()"
   ]
  },
  {
   "cell_type": "code",
   "execution_count": null,
   "id": "67e82abf",
   "metadata": {},
   "outputs": [],
   "source": [
    "df.TIME.max()"
   ]
  },
  {
   "cell_type": "code",
   "execution_count": null,
   "id": "b1faa243",
   "metadata": {},
   "outputs": [],
   "source": [
    "df.Value.describe()"
   ]
  },
  {
   "cell_type": "code",
   "execution_count": null,
   "id": "b871284d",
   "metadata": {},
   "outputs": [],
   "source": [
    "dcol = 'Value'\n",
    "indicol = indicator\n",
    "cname = 'LOCATION'\n",
    "\n",
    "# filter most recent year\n",
    "df = df[(df.TIME==2010)]\n",
    "\n",
    "# create standard columns\n",
    "df['higher_is_better'] = True\n",
    "df['Indicator'] =  indicator\n",
    "df['Country Code'] = df[cname]\n",
    "# # df['2019 [YR2019]'] = df['2019 [YR2019]'].astype(float)\n",
    "df['data_col'] = df[dcol]\n",
    "\n",
    "min_rank = df['data_col'].min()\n",
    "max_rank = df['data_col'].max()\n",
    "\n",
    "# transform 1-20 rank into 1-6\n",
    "df['new_rank_score'] = df['data_col'].apply(lambda row: convert_rank(row,old_min=min_rank,old_max=max_rank))\n",
    "\n",
    "# df.sort_values(by='new_rank_score', ascending=False)\n",
    "\n",
    "# # prepare output\n",
    "df = df[['Country Code', 'Indicator', 'data_col', 'new_rank_score','higher_is_better']]\n",
    "\n",
    "# # output scores\n",
    "df.to_csv('../indicator_scores/government{}_scores.csv'.format(bf), index=False)"
   ]
  },
  {
   "cell_type": "code",
   "execution_count": null,
   "id": "8b1448fa",
   "metadata": {},
   "outputs": [],
   "source": [
    "df"
   ]
  },
  {
   "cell_type": "markdown",
   "id": "8f71f672",
   "metadata": {},
   "source": [
    "## 7. R&D spending (% of GDP)\n",
    "\n",
    "\n"
   ]
  },
  {
   "cell_type": "code",
   "execution_count": 40,
   "id": "30d4ec71",
   "metadata": {
    "scrolled": true
   },
   "outputs": [
    {
     "name": "stdout",
     "output_type": "stream",
     "text": [
      "R&D spending (% of GDP)\n",
      "RD_Percentage_GDP\n"
     ]
    },
    {
     "ename": "FileNotFoundError",
     "evalue": "[Errno 2] No such file or directory: '../../processed/RD_Percentage_GDP.csv'",
     "output_type": "error",
     "traceback": [
      "\u001b[1;31m---------------------------------------------------------------------------\u001b[0m",
      "\u001b[1;31mFileNotFoundError\u001b[0m                         Traceback (most recent call last)",
      "\u001b[1;32m<ipython-input-40-2b1396f3969f>\u001b[0m in \u001b[0;36m<module>\u001b[1;34m\u001b[0m\n\u001b[0;32m      4\u001b[0m \u001b[0mprint\u001b[0m\u001b[1;33m(\u001b[0m\u001b[0mbf\u001b[0m\u001b[1;33m)\u001b[0m\u001b[1;33m\u001b[0m\u001b[1;33m\u001b[0m\u001b[0m\n\u001b[0;32m      5\u001b[0m \u001b[1;33m\u001b[0m\u001b[0m\n\u001b[1;32m----> 6\u001b[1;33m \u001b[0mdf\u001b[0m \u001b[1;33m=\u001b[0m \u001b[0mpd\u001b[0m\u001b[1;33m.\u001b[0m\u001b[0mread_csv\u001b[0m\u001b[1;33m(\u001b[0m\u001b[1;34m'../../processed/{}.csv'\u001b[0m\u001b[1;33m.\u001b[0m\u001b[0mformat\u001b[0m\u001b[1;33m(\u001b[0m\u001b[0mbf\u001b[0m\u001b[1;33m)\u001b[0m\u001b[1;33m)\u001b[0m\u001b[1;33m\u001b[0m\u001b[1;33m\u001b[0m\u001b[0m\n\u001b[0m",
      "\u001b[1;32mD:\\Apps\\Anaconda\\lib\\site-packages\\pandas\\io\\parsers.py\u001b[0m in \u001b[0;36mread_csv\u001b[1;34m(filepath_or_buffer, sep, delimiter, header, names, index_col, usecols, squeeze, prefix, mangle_dupe_cols, dtype, engine, converters, true_values, false_values, skipinitialspace, skiprows, skipfooter, nrows, na_values, keep_default_na, na_filter, verbose, skip_blank_lines, parse_dates, infer_datetime_format, keep_date_col, date_parser, dayfirst, cache_dates, iterator, chunksize, compression, thousands, decimal, lineterminator, quotechar, quoting, doublequote, escapechar, comment, encoding, dialect, error_bad_lines, warn_bad_lines, delim_whitespace, low_memory, memory_map, float_precision, storage_options)\u001b[0m\n\u001b[0;32m    608\u001b[0m     \u001b[0mkwds\u001b[0m\u001b[1;33m.\u001b[0m\u001b[0mupdate\u001b[0m\u001b[1;33m(\u001b[0m\u001b[0mkwds_defaults\u001b[0m\u001b[1;33m)\u001b[0m\u001b[1;33m\u001b[0m\u001b[1;33m\u001b[0m\u001b[0m\n\u001b[0;32m    609\u001b[0m \u001b[1;33m\u001b[0m\u001b[0m\n\u001b[1;32m--> 610\u001b[1;33m     \u001b[1;32mreturn\u001b[0m \u001b[0m_read\u001b[0m\u001b[1;33m(\u001b[0m\u001b[0mfilepath_or_buffer\u001b[0m\u001b[1;33m,\u001b[0m \u001b[0mkwds\u001b[0m\u001b[1;33m)\u001b[0m\u001b[1;33m\u001b[0m\u001b[1;33m\u001b[0m\u001b[0m\n\u001b[0m\u001b[0;32m    611\u001b[0m \u001b[1;33m\u001b[0m\u001b[0m\n\u001b[0;32m    612\u001b[0m \u001b[1;33m\u001b[0m\u001b[0m\n",
      "\u001b[1;32mD:\\Apps\\Anaconda\\lib\\site-packages\\pandas\\io\\parsers.py\u001b[0m in \u001b[0;36m_read\u001b[1;34m(filepath_or_buffer, kwds)\u001b[0m\n\u001b[0;32m    460\u001b[0m \u001b[1;33m\u001b[0m\u001b[0m\n\u001b[0;32m    461\u001b[0m     \u001b[1;31m# Create the parser.\u001b[0m\u001b[1;33m\u001b[0m\u001b[1;33m\u001b[0m\u001b[1;33m\u001b[0m\u001b[0m\n\u001b[1;32m--> 462\u001b[1;33m     \u001b[0mparser\u001b[0m \u001b[1;33m=\u001b[0m \u001b[0mTextFileReader\u001b[0m\u001b[1;33m(\u001b[0m\u001b[0mfilepath_or_buffer\u001b[0m\u001b[1;33m,\u001b[0m \u001b[1;33m**\u001b[0m\u001b[0mkwds\u001b[0m\u001b[1;33m)\u001b[0m\u001b[1;33m\u001b[0m\u001b[1;33m\u001b[0m\u001b[0m\n\u001b[0m\u001b[0;32m    463\u001b[0m \u001b[1;33m\u001b[0m\u001b[0m\n\u001b[0;32m    464\u001b[0m     \u001b[1;32mif\u001b[0m \u001b[0mchunksize\u001b[0m \u001b[1;32mor\u001b[0m \u001b[0miterator\u001b[0m\u001b[1;33m:\u001b[0m\u001b[1;33m\u001b[0m\u001b[1;33m\u001b[0m\u001b[0m\n",
      "\u001b[1;32mD:\\Apps\\Anaconda\\lib\\site-packages\\pandas\\io\\parsers.py\u001b[0m in \u001b[0;36m__init__\u001b[1;34m(self, f, engine, **kwds)\u001b[0m\n\u001b[0;32m    817\u001b[0m             \u001b[0mself\u001b[0m\u001b[1;33m.\u001b[0m\u001b[0moptions\u001b[0m\u001b[1;33m[\u001b[0m\u001b[1;34m\"has_index_names\"\u001b[0m\u001b[1;33m]\u001b[0m \u001b[1;33m=\u001b[0m \u001b[0mkwds\u001b[0m\u001b[1;33m[\u001b[0m\u001b[1;34m\"has_index_names\"\u001b[0m\u001b[1;33m]\u001b[0m\u001b[1;33m\u001b[0m\u001b[1;33m\u001b[0m\u001b[0m\n\u001b[0;32m    818\u001b[0m \u001b[1;33m\u001b[0m\u001b[0m\n\u001b[1;32m--> 819\u001b[1;33m         \u001b[0mself\u001b[0m\u001b[1;33m.\u001b[0m\u001b[0m_engine\u001b[0m \u001b[1;33m=\u001b[0m \u001b[0mself\u001b[0m\u001b[1;33m.\u001b[0m\u001b[0m_make_engine\u001b[0m\u001b[1;33m(\u001b[0m\u001b[0mself\u001b[0m\u001b[1;33m.\u001b[0m\u001b[0mengine\u001b[0m\u001b[1;33m)\u001b[0m\u001b[1;33m\u001b[0m\u001b[1;33m\u001b[0m\u001b[0m\n\u001b[0m\u001b[0;32m    820\u001b[0m \u001b[1;33m\u001b[0m\u001b[0m\n\u001b[0;32m    821\u001b[0m     \u001b[1;32mdef\u001b[0m \u001b[0mclose\u001b[0m\u001b[1;33m(\u001b[0m\u001b[0mself\u001b[0m\u001b[1;33m)\u001b[0m\u001b[1;33m:\u001b[0m\u001b[1;33m\u001b[0m\u001b[1;33m\u001b[0m\u001b[0m\n",
      "\u001b[1;32mD:\\Apps\\Anaconda\\lib\\site-packages\\pandas\\io\\parsers.py\u001b[0m in \u001b[0;36m_make_engine\u001b[1;34m(self, engine)\u001b[0m\n\u001b[0;32m   1048\u001b[0m             )\n\u001b[0;32m   1049\u001b[0m         \u001b[1;31m# error: Too many arguments for \"ParserBase\"\u001b[0m\u001b[1;33m\u001b[0m\u001b[1;33m\u001b[0m\u001b[1;33m\u001b[0m\u001b[0m\n\u001b[1;32m-> 1050\u001b[1;33m         \u001b[1;32mreturn\u001b[0m \u001b[0mmapping\u001b[0m\u001b[1;33m[\u001b[0m\u001b[0mengine\u001b[0m\u001b[1;33m]\u001b[0m\u001b[1;33m(\u001b[0m\u001b[0mself\u001b[0m\u001b[1;33m.\u001b[0m\u001b[0mf\u001b[0m\u001b[1;33m,\u001b[0m \u001b[1;33m**\u001b[0m\u001b[0mself\u001b[0m\u001b[1;33m.\u001b[0m\u001b[0moptions\u001b[0m\u001b[1;33m)\u001b[0m  \u001b[1;31m# type: ignore[call-arg]\u001b[0m\u001b[1;33m\u001b[0m\u001b[1;33m\u001b[0m\u001b[0m\n\u001b[0m\u001b[0;32m   1051\u001b[0m \u001b[1;33m\u001b[0m\u001b[0m\n\u001b[0;32m   1052\u001b[0m     \u001b[1;32mdef\u001b[0m \u001b[0m_failover_to_python\u001b[0m\u001b[1;33m(\u001b[0m\u001b[0mself\u001b[0m\u001b[1;33m)\u001b[0m\u001b[1;33m:\u001b[0m\u001b[1;33m\u001b[0m\u001b[1;33m\u001b[0m\u001b[0m\n",
      "\u001b[1;32mD:\\Apps\\Anaconda\\lib\\site-packages\\pandas\\io\\parsers.py\u001b[0m in \u001b[0;36m__init__\u001b[1;34m(self, src, **kwds)\u001b[0m\n\u001b[0;32m   1865\u001b[0m \u001b[1;33m\u001b[0m\u001b[0m\n\u001b[0;32m   1866\u001b[0m         \u001b[1;31m# open handles\u001b[0m\u001b[1;33m\u001b[0m\u001b[1;33m\u001b[0m\u001b[1;33m\u001b[0m\u001b[0m\n\u001b[1;32m-> 1867\u001b[1;33m         \u001b[0mself\u001b[0m\u001b[1;33m.\u001b[0m\u001b[0m_open_handles\u001b[0m\u001b[1;33m(\u001b[0m\u001b[0msrc\u001b[0m\u001b[1;33m,\u001b[0m \u001b[0mkwds\u001b[0m\u001b[1;33m)\u001b[0m\u001b[1;33m\u001b[0m\u001b[1;33m\u001b[0m\u001b[0m\n\u001b[0m\u001b[0;32m   1868\u001b[0m         \u001b[1;32massert\u001b[0m \u001b[0mself\u001b[0m\u001b[1;33m.\u001b[0m\u001b[0mhandles\u001b[0m \u001b[1;32mis\u001b[0m \u001b[1;32mnot\u001b[0m \u001b[1;32mNone\u001b[0m\u001b[1;33m\u001b[0m\u001b[1;33m\u001b[0m\u001b[0m\n\u001b[0;32m   1869\u001b[0m         \u001b[1;32mfor\u001b[0m \u001b[0mkey\u001b[0m \u001b[1;32min\u001b[0m \u001b[1;33m(\u001b[0m\u001b[1;34m\"storage_options\"\u001b[0m\u001b[1;33m,\u001b[0m \u001b[1;34m\"encoding\"\u001b[0m\u001b[1;33m,\u001b[0m \u001b[1;34m\"memory_map\"\u001b[0m\u001b[1;33m,\u001b[0m \u001b[1;34m\"compression\"\u001b[0m\u001b[1;33m)\u001b[0m\u001b[1;33m:\u001b[0m\u001b[1;33m\u001b[0m\u001b[1;33m\u001b[0m\u001b[0m\n",
      "\u001b[1;32mD:\\Apps\\Anaconda\\lib\\site-packages\\pandas\\io\\parsers.py\u001b[0m in \u001b[0;36m_open_handles\u001b[1;34m(self, src, kwds)\u001b[0m\n\u001b[0;32m   1360\u001b[0m         \u001b[0mLet\u001b[0m \u001b[0mthe\u001b[0m \u001b[0mreaders\u001b[0m \u001b[0mopen\u001b[0m \u001b[0mIOHanldes\u001b[0m \u001b[0mafter\u001b[0m \u001b[0mthey\u001b[0m \u001b[0mare\u001b[0m \u001b[0mdone\u001b[0m \u001b[1;32mwith\u001b[0m \u001b[0mtheir\u001b[0m \u001b[0mpotential\u001b[0m \u001b[0mraises\u001b[0m\u001b[1;33m.\u001b[0m\u001b[1;33m\u001b[0m\u001b[1;33m\u001b[0m\u001b[0m\n\u001b[0;32m   1361\u001b[0m         \"\"\"\n\u001b[1;32m-> 1362\u001b[1;33m         self.handles = get_handle(\n\u001b[0m\u001b[0;32m   1363\u001b[0m             \u001b[0msrc\u001b[0m\u001b[1;33m,\u001b[0m\u001b[1;33m\u001b[0m\u001b[1;33m\u001b[0m\u001b[0m\n\u001b[0;32m   1364\u001b[0m             \u001b[1;34m\"r\"\u001b[0m\u001b[1;33m,\u001b[0m\u001b[1;33m\u001b[0m\u001b[1;33m\u001b[0m\u001b[0m\n",
      "\u001b[1;32mD:\\Apps\\Anaconda\\lib\\site-packages\\pandas\\io\\common.py\u001b[0m in \u001b[0;36mget_handle\u001b[1;34m(path_or_buf, mode, encoding, compression, memory_map, is_text, errors, storage_options)\u001b[0m\n\u001b[0;32m    640\u001b[0m                 \u001b[0merrors\u001b[0m \u001b[1;33m=\u001b[0m \u001b[1;34m\"replace\"\u001b[0m\u001b[1;33m\u001b[0m\u001b[1;33m\u001b[0m\u001b[0m\n\u001b[0;32m    641\u001b[0m             \u001b[1;31m# Encoding\u001b[0m\u001b[1;33m\u001b[0m\u001b[1;33m\u001b[0m\u001b[1;33m\u001b[0m\u001b[0m\n\u001b[1;32m--> 642\u001b[1;33m             handle = open(\n\u001b[0m\u001b[0;32m    643\u001b[0m                 \u001b[0mhandle\u001b[0m\u001b[1;33m,\u001b[0m\u001b[1;33m\u001b[0m\u001b[1;33m\u001b[0m\u001b[0m\n\u001b[0;32m    644\u001b[0m                 \u001b[0mioargs\u001b[0m\u001b[1;33m.\u001b[0m\u001b[0mmode\u001b[0m\u001b[1;33m,\u001b[0m\u001b[1;33m\u001b[0m\u001b[1;33m\u001b[0m\u001b[0m\n",
      "\u001b[1;31mFileNotFoundError\u001b[0m: [Errno 2] No such file or directory: '../../processed/RD_Percentage_GDP.csv'"
     ]
    }
   ],
   "source": [
    "indicator = indicators[6]\n",
    "print(indicator)\n",
    "bf = bnames[bnames['Indicator']==indicator]['Filename'].values[0]\n",
    "print(bf)\n",
    "\n",
    "df = pd.read_csv('../../processed/{}.csv'.format(bf))"
   ]
  },
  {
   "cell_type": "code",
   "execution_count": null,
   "id": "0c1700cd",
   "metadata": {},
   "outputs": [],
   "source": [
    "df.head()"
   ]
  },
  {
   "cell_type": "code",
   "execution_count": null,
   "id": "9f3e714a",
   "metadata": {},
   "outputs": [],
   "source": [
    "# min_rank = 1\n",
    "# max_rank = df['Country Name'].nunique()\n",
    "\n",
    "# # transform 1-24 rank into 1-6\n",
    "# df['new_rank_score'] = df['data_col'].apply(lambda row: convert_rank(row,old_min=min_rank,old_max=max_rank))\n",
    "\n",
    "# # need to invert score since higher rank is not better \n",
    "# # df['new_rank_score'] = (6-df['new_rank_score'])+1"
   ]
  },
  {
   "cell_type": "code",
   "execution_count": null,
   "id": "53a4864e",
   "metadata": {},
   "outputs": [],
   "source": [
    "# # prepare output\n",
    "# df.sort_values(by='new_rank_score', ascending=False)\n",
    "\n",
    "# # prepare output\n",
    "# df = df[['Country Name', 'Indicator', 'data_col', 'new_rank_score','higher_is_better']]\n",
    "\n",
    "# # output scores\n",
    "# df.to_csv('../indicator_scores/{}_scores.csv'.format(bf), index=False)"
   ]
  },
  {
   "cell_type": "markdown",
   "id": "d5e41c8a",
   "metadata": {},
   "source": [
    "## 8. Evidence of digital strategies in/across Minstries\n",
    "\n"
   ]
  },
  {
   "cell_type": "code",
   "execution_count": 41,
   "id": "5f97a510",
   "metadata": {},
   "outputs": [
    {
     "name": "stdout",
     "output_type": "stream",
     "text": [
      "Evidence of digital strategies in/across Minstries\n",
      "Egov_strategy\n"
     ]
    }
   ],
   "source": [
    "indicator = indicators[7]\n",
    "print(indicator)\n",
    "bf = bnames[bnames['Indicator']==indicator]['Filename'].values[0]\n",
    "print(bf)\n",
    "\n",
    "df = pd.read_csv('../../processed/{}.csv'.format(bf))"
   ]
  },
  {
   "cell_type": "code",
   "execution_count": null,
   "id": "ffdf36e3",
   "metadata": {},
   "outputs": [],
   "source": [
    "df.head()"
   ]
  },
  {
   "cell_type": "code",
   "execution_count": null,
   "id": "584015da",
   "metadata": {},
   "outputs": [],
   "source": [
    "# # filter on relevant years\n",
    "# df = df[(df['Time']==2017)&(df['Information and communication technologies']=='ICT-intensive')]\n",
    "\n",
    "# # convert rank into 1-6 - in order to get most recent data \n",
    "# df['data_col'] = df['Value'] \n",
    "\n",
    "# # going to assume index is between 1-100 but not 100% sure\n",
    "# min_rank = 0 #df['data_col'].min()\n",
    "# max_rank = 100 #df['data_col'].max()\n",
    "\n",
    "# # transform 1-147 rank into 1-6\n",
    "# df['new_rank_score'] = df['data_col'].apply(lambda row: convert_rank(row,old_min=min_rank,old_max=max_rank))\n",
    "\n",
    "# # need to invert score since higher rank is not better \n",
    "# # df['new_rank_score'] = (6-df['new_rank_score'])+1\n",
    "\n",
    "# # df_rank[['Country ISO3', 'Country Name','Indicator','data_col','new_rank_score']].head()\n",
    "\n",
    "# df.rename(columns={'Country':'Country Name'}, inplace=True)\n",
    "# df['Indicator'] = indicator\n",
    "# df['higher_is_better'] = True\n",
    "\n",
    "# df[['Country Name','Indicator','data_col','new_rank_score','higher_is_better']].head(15)\n",
    "\n",
    "\n",
    "# # output scores to csv\n",
    "# df[['Country Name','Indicator','data_col','new_rank_score','higher_is_better']].to_csv('../indicator_scores/{}_scores.csv'.format(bf), index=False)"
   ]
  },
  {
   "cell_type": "markdown",
   "id": "2c78f53a",
   "metadata": {},
   "source": [
    "## 9. Evidence of focus on vulnerable groups\n"
   ]
  },
  {
   "cell_type": "code",
   "execution_count": null,
   "id": "51083ed6",
   "metadata": {
    "scrolled": true
   },
   "outputs": [],
   "source": [
    "indicator = indicators[8]\n",
    "print(indicator)\n",
    "bf = bnames[bnames['Indicator']==indicator]['Filename'].values[0]\n",
    "print(bf)\n",
    "\n",
    "df = pd.read_csv('../../processed/{}.csv'.format(bf))"
   ]
  },
  {
   "cell_type": "code",
   "execution_count": null,
   "id": "e85dee80",
   "metadata": {},
   "outputs": [],
   "source": [
    "df.head()"
   ]
  },
  {
   "cell_type": "markdown",
   "id": "0a0a5995",
   "metadata": {},
   "source": [
    "## 10. % of digital skills certifications / training courses completed\n"
   ]
  },
  {
   "cell_type": "code",
   "execution_count": 42,
   "id": "fab0dff5",
   "metadata": {},
   "outputs": [
    {
     "name": "stdout",
     "output_type": "stream",
     "text": [
      "% of digital skills certifications / training courses completed\n",
      "digital_skill_level\n"
     ]
    }
   ],
   "source": [
    "indicator = indicators[9]\n",
    "print(indicator)\n",
    "bf = bnames[bnames['Indicator']==indicator]['Filename'].values[0]\n",
    "print(bf)\n",
    "\n",
    "df = pd.read_csv('../../processed/{}.csv'.format(bf))"
   ]
  },
  {
   "cell_type": "code",
   "execution_count": null,
   "id": "eac84e07",
   "metadata": {},
   "outputs": [],
   "source": [
    "df"
   ]
  },
  {
   "cell_type": "code",
   "execution_count": null,
   "id": "f29e74ff",
   "metadata": {},
   "outputs": [],
   "source": [
    "dcol = 'Global Rank'\n",
    "indicol = indicator\n",
    "cname = 'Country and Region'\n",
    "\n",
    "# filter most recent year\n",
    "# df = df[(df.TIME==2010)]\n",
    "\n",
    "# create standard columns\n",
    "df['higher_is_better'] = True\n",
    "df['Indicator'] =  indicator\n",
    "df['Country Name'] = df[cname]\n",
    "# # df['2019 [YR2019]'] = df['2019 [YR2019]'].astype(float)\n",
    "df['data_col'] = df[dcol]\n",
    "\n",
    "min_rank = df['data_col'].min()\n",
    "max_rank = df['data_col'].max()\n",
    "\n",
    "# transform 1-20 rank into 1-6\n",
    "df['new_rank_score'] = df['data_col'].apply(lambda row: convert_rank(row,old_min=min_rank,old_max=max_rank))\n",
    "\n",
    "# # need to invert score since higher rank is not better \n",
    "df['new_rank_score'] = (6-df['new_rank_score'])+1\n",
    "\n",
    "df.sort_values(by='new_rank_score', ascending=False)\n",
    "\n",
    "# # prepare output\n",
    "df = df[['Country Name', 'Indicator', 'data_col', 'new_rank_score','higher_is_better']]\n",
    "\n",
    "# # output scores\n",
    "df.to_csv('../indicator_scores/government{}_scores.csv'.format(bf), index=False)"
   ]
  },
  {
   "cell_type": "code",
   "execution_count": null,
   "id": "1a5c3680",
   "metadata": {},
   "outputs": [],
   "source": [
    "df"
   ]
  },
  {
   "cell_type": "markdown",
   "id": "17270bde",
   "metadata": {},
   "source": [
    "## 11. % of government encrypted web traffic\n"
   ]
  },
  {
   "cell_type": "code",
   "execution_count": 46,
   "id": "0960fe11",
   "metadata": {},
   "outputs": [
    {
     "name": "stdout",
     "output_type": "stream",
     "text": [
      "% of government encrypted web traffic\n",
      "gov_encrypted_traffic\n"
     ]
    }
   ],
   "source": [
    "indicator = indicators[10]\n",
    "print(indicator)\n",
    "bf = bnames[bnames['Indicator']==indicator]['Filename'].values[0]\n",
    "print(bf)\n",
    "\n",
    "df = pd.read_csv('../../processed/{}.csv'.format(bf))"
   ]
  },
  {
   "cell_type": "code",
   "execution_count": null,
   "id": "2b1a1292",
   "metadata": {},
   "outputs": [],
   "source": [
    "df.columns"
   ]
  },
  {
   "cell_type": "code",
   "execution_count": 47,
   "id": "368d73ef",
   "metadata": {},
   "outputs": [
    {
     "data": {
      "text/html": [
       "<div>\n",
       "<style scoped>\n",
       "    .dataframe tbody tr th:only-of-type {\n",
       "        vertical-align: middle;\n",
       "    }\n",
       "\n",
       "    .dataframe tbody tr th {\n",
       "        vertical-align: top;\n",
       "    }\n",
       "\n",
       "    .dataframe thead th {\n",
       "        text-align: right;\n",
       "    }\n",
       "</style>\n",
       "<table border=\"1\" class=\"dataframe\">\n",
       "  <thead>\n",
       "    <tr style=\"text-align: right;\">\n",
       "      <th></th>\n",
       "      <th>0</th>\n",
       "      <th>1</th>\n",
       "      <th>2</th>\n",
       "      <th>3</th>\n",
       "      <th>7</th>\n",
       "      <th>29</th>\n",
       "      <th>31</th>\n",
       "      <th>53</th>\n",
       "      <th>66</th>\n",
       "      <th>82</th>\n",
       "      <th>...</th>\n",
       "      <th>149.171.126.6</th>\n",
       "      <th>udp</th>\n",
       "      <th>CON</th>\n",
       "      <th>0.001055</th>\n",
       "      <th>dns</th>\n",
       "      <th>500473.9375</th>\n",
       "      <th>621800.9375</th>\n",
       "      <th>0.017</th>\n",
       "      <th>0.013</th>\n",
       "      <th>Unnamed: 24</th>\n",
       "    </tr>\n",
       "  </thead>\n",
       "  <tbody>\n",
       "    <tr>\n",
       "      <th>0</th>\n",
       "      <td>0</td>\n",
       "      <td>2</td>\n",
       "      <td>4</td>\n",
       "      <td>3</td>\n",
       "      <td>4</td>\n",
       "      <td>29</td>\n",
       "      <td>31</td>\n",
       "      <td>1024</td>\n",
       "      <td>132</td>\n",
       "      <td>76</td>\n",
       "      <td>...</td>\n",
       "      <td>149.171.126.9</td>\n",
       "      <td>udp</td>\n",
       "      <td>CON</td>\n",
       "      <td>0.036133</td>\n",
       "      <td>-</td>\n",
       "      <td>87676.08594</td>\n",
       "      <td>50480.17188</td>\n",
       "      <td>7.005</td>\n",
       "      <td>7.564333</td>\n",
       "      <td>NaN</td>\n",
       "    </tr>\n",
       "    <tr>\n",
       "      <th>1</th>\n",
       "      <td>0</td>\n",
       "      <td>1</td>\n",
       "      <td>2</td>\n",
       "      <td>2</td>\n",
       "      <td>8</td>\n",
       "      <td>29</td>\n",
       "      <td>31</td>\n",
       "      <td>53</td>\n",
       "      <td>73</td>\n",
       "      <td>89</td>\n",
       "      <td>...</td>\n",
       "      <td>149.171.126.7</td>\n",
       "      <td>udp</td>\n",
       "      <td>CON</td>\n",
       "      <td>0.001119</td>\n",
       "      <td>dns</td>\n",
       "      <td>521894.53130</td>\n",
       "      <td>636282.37500</td>\n",
       "      <td>0.017</td>\n",
       "      <td>0.013000</td>\n",
       "      <td>NaN</td>\n",
       "    </tr>\n",
       "    <tr>\n",
       "      <th>2</th>\n",
       "      <td>0</td>\n",
       "      <td>1</td>\n",
       "      <td>2</td>\n",
       "      <td>1</td>\n",
       "      <td>9</td>\n",
       "      <td>29</td>\n",
       "      <td>31</td>\n",
       "      <td>53</td>\n",
       "      <td>66</td>\n",
       "      <td>82</td>\n",
       "      <td>...</td>\n",
       "      <td>149.171.126.5</td>\n",
       "      <td>udp</td>\n",
       "      <td>CON</td>\n",
       "      <td>0.001209</td>\n",
       "      <td>dns</td>\n",
       "      <td>436724.56250</td>\n",
       "      <td>542597.18750</td>\n",
       "      <td>0.043</td>\n",
       "      <td>0.014000</td>\n",
       "      <td>NaN</td>\n",
       "    </tr>\n",
       "    <tr>\n",
       "      <th>3</th>\n",
       "      <td>0</td>\n",
       "      <td>1</td>\n",
       "      <td>2</td>\n",
       "      <td>1</td>\n",
       "      <td>9</td>\n",
       "      <td>29</td>\n",
       "      <td>31</td>\n",
       "      <td>53</td>\n",
       "      <td>73</td>\n",
       "      <td>89</td>\n",
       "      <td>...</td>\n",
       "      <td>149.171.126.0</td>\n",
       "      <td>udp</td>\n",
       "      <td>CON</td>\n",
       "      <td>0.001169</td>\n",
       "      <td>dns</td>\n",
       "      <td>499572.25000</td>\n",
       "      <td>609067.56250</td>\n",
       "      <td>0.005</td>\n",
       "      <td>0.003000</td>\n",
       "      <td>NaN</td>\n",
       "    </tr>\n",
       "    <tr>\n",
       "      <th>4</th>\n",
       "      <td>0</td>\n",
       "      <td>2</td>\n",
       "      <td>4</td>\n",
       "      <td>3</td>\n",
       "      <td>4</td>\n",
       "      <td>29</td>\n",
       "      <td>31</td>\n",
       "      <td>111</td>\n",
       "      <td>142</td>\n",
       "      <td>78</td>\n",
       "      <td>...</td>\n",
       "      <td>149.171.126.9</td>\n",
       "      <td>udp</td>\n",
       "      <td>CON</td>\n",
       "      <td>0.078339</td>\n",
       "      <td>-</td>\n",
       "      <td>43503.23438</td>\n",
       "      <td>23896.14258</td>\n",
       "      <td>21.003</td>\n",
       "      <td>24.315000</td>\n",
       "      <td>NaN</td>\n",
       "    </tr>\n",
       "  </tbody>\n",
       "</table>\n",
       "<p>5 rows × 25 columns</p>\n",
       "</div>"
      ],
      "text/plain": [
       "   0  1  2  3  7  29  31    53   66  82  ...  149.171.126.6  udp  CON  \\\n",
       "0  0  2  4  3  4  29  31  1024  132  76  ...  149.171.126.9  udp  CON   \n",
       "1  0  1  2  2  8  29  31    53   73  89  ...  149.171.126.7  udp  CON   \n",
       "2  0  1  2  1  9  29  31    53   66  82  ...  149.171.126.5  udp  CON   \n",
       "3  0  1  2  1  9  29  31    53   73  89  ...  149.171.126.0  udp  CON   \n",
       "4  0  2  4  3  4  29  31   111  142  78  ...  149.171.126.9  udp  CON   \n",
       "\n",
       "   0.001055  dns   500473.9375   621800.9375   0.017      0.013 Unnamed: 24  \n",
       "0  0.036133    -   87676.08594   50480.17188   7.005   7.564333         NaN  \n",
       "1  0.001119  dns  521894.53130  636282.37500   0.017   0.013000         NaN  \n",
       "2  0.001209  dns  436724.56250  542597.18750   0.043   0.014000         NaN  \n",
       "3  0.001169  dns  499572.25000  609067.56250   0.005   0.003000         NaN  \n",
       "4  0.078339    -   43503.23438   23896.14258  21.003  24.315000         NaN  \n",
       "\n",
       "[5 rows x 25 columns]"
      ]
     },
     "execution_count": 47,
     "metadata": {},
     "output_type": "execute_result"
    }
   ],
   "source": [
    "df.head()"
   ]
  },
  {
   "cell_type": "code",
   "execution_count": null,
   "id": "f212fa0d",
   "metadata": {},
   "outputs": [],
   "source": [
    "bnames"
   ]
  },
  {
   "cell_type": "markdown",
   "id": "689a8fa7",
   "metadata": {},
   "source": [
    "## 12. % of country encrypted web traffic"
   ]
  },
  {
   "cell_type": "code",
   "execution_count": 44,
   "id": "11e09a3a",
   "metadata": {
    "scrolled": true
   },
   "outputs": [
    {
     "ename": "IndexError",
     "evalue": "index 11 is out of bounds for axis 0 with size 11",
     "output_type": "error",
     "traceback": [
      "\u001b[1;31m---------------------------------------------------------------------------\u001b[0m",
      "\u001b[1;31mIndexError\u001b[0m                                Traceback (most recent call last)",
      "\u001b[1;32m<ipython-input-44-549290ccdddc>\u001b[0m in \u001b[0;36m<module>\u001b[1;34m\u001b[0m\n\u001b[1;32m----> 1\u001b[1;33m \u001b[0mindicator\u001b[0m \u001b[1;33m=\u001b[0m \u001b[0mindicators\u001b[0m\u001b[1;33m[\u001b[0m\u001b[1;36m11\u001b[0m\u001b[1;33m]\u001b[0m\u001b[1;33m\u001b[0m\u001b[1;33m\u001b[0m\u001b[0m\n\u001b[0m\u001b[0;32m      2\u001b[0m \u001b[0mprint\u001b[0m\u001b[1;33m(\u001b[0m\u001b[0mindicator\u001b[0m\u001b[1;33m)\u001b[0m\u001b[1;33m\u001b[0m\u001b[1;33m\u001b[0m\u001b[0m\n\u001b[0;32m      3\u001b[0m \u001b[0mbf\u001b[0m \u001b[1;33m=\u001b[0m \u001b[0mbnames\u001b[0m\u001b[1;33m[\u001b[0m\u001b[0mbnames\u001b[0m\u001b[1;33m[\u001b[0m\u001b[1;34m'Indicator'\u001b[0m\u001b[1;33m]\u001b[0m\u001b[1;33m==\u001b[0m\u001b[0mindicator\u001b[0m\u001b[1;33m]\u001b[0m\u001b[1;33m[\u001b[0m\u001b[1;34m'Filename'\u001b[0m\u001b[1;33m]\u001b[0m\u001b[1;33m.\u001b[0m\u001b[0mvalues\u001b[0m\u001b[1;33m[\u001b[0m\u001b[1;36m0\u001b[0m\u001b[1;33m]\u001b[0m\u001b[1;33m\u001b[0m\u001b[1;33m\u001b[0m\u001b[0m\n\u001b[0;32m      4\u001b[0m \u001b[0mprint\u001b[0m\u001b[1;33m(\u001b[0m\u001b[0mbf\u001b[0m\u001b[1;33m)\u001b[0m\u001b[1;33m\u001b[0m\u001b[1;33m\u001b[0m\u001b[0m\n\u001b[0;32m      5\u001b[0m \u001b[1;33m\u001b[0m\u001b[0m\n",
      "\u001b[1;31mIndexError\u001b[0m: index 11 is out of bounds for axis 0 with size 11"
     ]
    }
   ],
   "source": [
    "indicator = indicators[11]\n",
    "print(indicator)\n",
    "bf = bnames[bnames['Indicator']==indicator]['Filename'].values[0]\n",
    "print(bf)\n",
    "\n",
    "df = pd.read_csv('../../processed/{}.csv'.format(bf))"
   ]
  },
  {
   "cell_type": "markdown",
   "id": "02280b65",
   "metadata": {},
   "source": [
    "### Score Aggregating"
   ]
  },
  {
   "cell_type": "code",
   "execution_count": null,
   "id": "220335c0",
   "metadata": {},
   "outputs": [],
   "source": [
    "import os\n"
   ]
  },
  {
   "cell_type": "code",
   "execution_count": null,
   "id": "f3753c27",
   "metadata": {},
   "outputs": [],
   "source": [
    "# get list of files in scores folder\n",
    "scores = os.listdir('../indicator_scores/')\n",
    "scores = [s for s in scores if s.startswith('government')]"
   ]
  },
  {
   "cell_type": "code",
   "execution_count": null,
   "id": "51ea0642",
   "metadata": {},
   "outputs": [],
   "source": [
    "scores"
   ]
  },
  {
   "cell_type": "code",
   "execution_count": null,
   "id": "3806c94c",
   "metadata": {},
   "outputs": [],
   "source": [
    "# create a dataframe that concatenates all these file into one table\n",
    "df = pd.concat([pd.read_csv('../indicator_scores/{}'.format(s)) for s in scores])    "
   ]
  },
  {
   "cell_type": "code",
   "execution_count": null,
   "id": "b5cdda5d",
   "metadata": {},
   "outputs": [],
   "source": [
    "df"
   ]
  },
  {
   "cell_type": "code",
   "execution_count": null,
   "id": "02316c75",
   "metadata": {},
   "outputs": [],
   "source": [
    "# Data cleaning\n",
    "df['new_rank_score'] = df['new_rank_score'].fillna(0)\n",
    "df.sort_values(by=['Country Name'], ascending=True, inplace=True)\n",
    "df.reset_index(drop=True, inplace=True)"
   ]
  },
  {
   "cell_type": "code",
   "execution_count": null,
   "id": "b3ec1dd2",
   "metadata": {},
   "outputs": [],
   "source": [
    "df.info()"
   ]
  },
  {
   "cell_type": "code",
   "execution_count": null,
   "id": "6415b25b",
   "metadata": {},
   "outputs": [],
   "source": [
    "df.head(15)"
   ]
  },
  {
   "cell_type": "code",
   "execution_count": null,
   "id": "608db49c",
   "metadata": {},
   "outputs": [],
   "source": [
    "df.describe()"
   ]
  },
  {
   "cell_type": "code",
   "execution_count": null,
   "id": "b2888382",
   "metadata": {},
   "outputs": [],
   "source": [
    "# checking country names\n",
    "# sorted(df['Country Name'].unique().tolist())"
   ]
  },
  {
   "cell_type": "code",
   "execution_count": null,
   "id": "2e9f8099",
   "metadata": {},
   "outputs": [],
   "source": [
    "# remove trailing whitespaces from country name\n",
    "df['Country Name'] = df['Country Name'].str.strip()\n"
   ]
  },
  {
   "cell_type": "code",
   "execution_count": null,
   "id": "d71da337",
   "metadata": {},
   "outputs": [],
   "source": [
    "df.head()"
   ]
  },
  {
   "cell_type": "code",
   "execution_count": null,
   "id": "dc6b3806",
   "metadata": {},
   "outputs": [],
   "source": [
    "# checking country names\n",
    "# sorted(df['Country Name'].unique().tolist())"
   ]
  },
  {
   "cell_type": "code",
   "execution_count": null,
   "id": "140f2e4d",
   "metadata": {},
   "outputs": [],
   "source": [
    "# average indicator scores per country\n",
    "agg_df = df.groupby(['Country Name']).agg({'new_rank_score':'mean','data_col':'count'})"
   ]
  },
  {
   "cell_type": "code",
   "execution_count": null,
   "id": "1b9d3aab",
   "metadata": {},
   "outputs": [],
   "source": [
    "agg_df.columns = ['agg_score', 'count_source' ]"
   ]
  },
  {
   "cell_type": "code",
   "execution_count": null,
   "id": "2762eedc",
   "metadata": {},
   "outputs": [],
   "source": [
    "max_number_sources = agg_df.describe()['count_source']['max']"
   ]
  },
  {
   "cell_type": "code",
   "execution_count": null,
   "id": "99a6cb0a",
   "metadata": {},
   "outputs": [],
   "source": [
    "agg_df['agg_score_wt'] = agg_df['agg_score']*(agg_df['count_source']/max_number_sources)"
   ]
  },
  {
   "cell_type": "code",
   "execution_count": null,
   "id": "0e02b603",
   "metadata": {},
   "outputs": [],
   "source": [
    "agg_df.sort_values(by='agg_score', ascending=False, inplace=True)"
   ]
  },
  {
   "cell_type": "code",
   "execution_count": null,
   "id": "afca90e6",
   "metadata": {},
   "outputs": [],
   "source": [
    "agg_df.head(25)"
   ]
  },
  {
   "cell_type": "code",
   "execution_count": null,
   "id": "9686516a",
   "metadata": {},
   "outputs": [],
   "source": [
    "agg_df.to_csv('../pillar_scores/government_scores_v0.csv')"
   ]
  },
  {
   "cell_type": "code",
   "execution_count": null,
   "id": "359a6333",
   "metadata": {},
   "outputs": [],
   "source": []
  }
 ],
 "metadata": {
  "kernelspec": {
   "display_name": "Python 3",
   "language": "python",
   "name": "python3"
  },
  "language_info": {
   "codemirror_mode": {
    "name": "ipython",
    "version": 3
   },
   "file_extension": ".py",
   "mimetype": "text/x-python",
   "name": "python",
   "nbconvert_exporter": "python",
   "pygments_lexer": "ipython3",
   "version": "3.8.8"
  },
  "toc": {
   "base_numbering": 1,
   "nav_menu": {},
   "number_sections": false,
   "sideBar": false,
   "skip_h1_title": false,
   "title_cell": "Table of Contents",
   "title_sidebar": "Contents",
   "toc_cell": false,
   "toc_position": {},
   "toc_section_display": false,
   "toc_window_display": false
  }
 },
 "nbformat": 4,
 "nbformat_minor": 5
}
