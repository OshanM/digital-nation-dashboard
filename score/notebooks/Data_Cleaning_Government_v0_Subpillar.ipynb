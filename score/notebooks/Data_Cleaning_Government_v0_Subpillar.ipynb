{
 "cells": [
  {
   "cell_type": "code",
   "execution_count": 1,
   "id": "9ce23384",
   "metadata": {},
   "outputs": [],
   "source": [
    "import pandas as pd\n",
    "import numpy as np"
   ]
  },
  {
   "cell_type": "markdown",
   "id": "c96db34f",
   "metadata": {},
   "source": [
    "### Get all the pillar names from the excel"
   ]
  },
  {
   "cell_type": "code",
   "execution_count": 2,
   "id": "e815555b",
   "metadata": {},
   "outputs": [],
   "source": [
    "names = pd.read_excel('../../UNDP Digital Assessment Data Framework Filename Matching V7.xlsx')"
   ]
  },
  {
   "cell_type": "code",
   "execution_count": 3,
   "id": "2142903d",
   "metadata": {},
   "outputs": [],
   "source": [
    "col_names = ['Indicator','check', 'Data Source','Data Link','Index','Filename','Sub-Pillar']"
   ]
  },
  {
   "cell_type": "code",
   "execution_count": 4,
   "id": "b0b45960",
   "metadata": {},
   "outputs": [],
   "source": [
    "names = names[col_names]"
   ]
  },
  {
   "cell_type": "code",
   "execution_count": 5,
   "id": "8cf26ff3",
   "metadata": {},
   "outputs": [
    {
     "data": {
      "text/html": [
       "<div>\n",
       "<style scoped>\n",
       "    .dataframe tbody tr th:only-of-type {\n",
       "        vertical-align: middle;\n",
       "    }\n",
       "\n",
       "    .dataframe tbody tr th {\n",
       "        vertical-align: top;\n",
       "    }\n",
       "\n",
       "    .dataframe thead th {\n",
       "        text-align: right;\n",
       "    }\n",
       "</style>\n",
       "<table border=\"1\" class=\"dataframe\">\n",
       "  <thead>\n",
       "    <tr style=\"text-align: right;\">\n",
       "      <th></th>\n",
       "      <th>Indicator</th>\n",
       "      <th>check</th>\n",
       "      <th>Data Source</th>\n",
       "      <th>Data Link</th>\n",
       "      <th>Index</th>\n",
       "      <th>Filename</th>\n",
       "      <th>Sub-Pillar</th>\n",
       "    </tr>\n",
       "  </thead>\n",
       "  <tbody>\n",
       "    <tr>\n",
       "      <th>0</th>\n",
       "      <td>Countries</td>\n",
       "      <td>NaN</td>\n",
       "      <td>UN Statistics Division: List of Countries</td>\n",
       "      <td>https://unstats.un.org</td>\n",
       "      <td>False</td>\n",
       "      <td>Countries</td>\n",
       "      <td>NaN</td>\n",
       "    </tr>\n",
       "    <tr>\n",
       "      <th>1</th>\n",
       "      <td>Database of Global Administrative Areas (GADM,...</td>\n",
       "      <td>NaN</td>\n",
       "      <td>NaN</td>\n",
       "      <td>https://gadm.org</td>\n",
       "      <td>False</td>\n",
       "      <td>NaN</td>\n",
       "      <td>NaN</td>\n",
       "    </tr>\n",
       "    <tr>\n",
       "      <th>2</th>\n",
       "      <td>High Resolution Population Density Maps + Demo...</td>\n",
       "      <td>NaN</td>\n",
       "      <td>NaN</td>\n",
       "      <td>NaN</td>\n",
       "      <td>False</td>\n",
       "      <td>NaN</td>\n",
       "      <td>NaN</td>\n",
       "    </tr>\n",
       "    <tr>\n",
       "      <th>3</th>\n",
       "      <td>population density vs openstreetmap object den...</td>\n",
       "      <td>NaN</td>\n",
       "      <td>NaN</td>\n",
       "      <td>NaN</td>\n",
       "      <td>False</td>\n",
       "      <td>NaN</td>\n",
       "      <td>NaN</td>\n",
       "    </tr>\n",
       "    <tr>\n",
       "      <th>4</th>\n",
       "      <td>Population Density</td>\n",
       "      <td>Infrastructure</td>\n",
       "      <td>World Bank: World Development Indicators</td>\n",
       "      <td>https://datacatalog.worldbank.org</td>\n",
       "      <td>False</td>\n",
       "      <td>population_density</td>\n",
       "      <td>Connectivity Technology</td>\n",
       "    </tr>\n",
       "  </tbody>\n",
       "</table>\n",
       "</div>"
      ],
      "text/plain": [
       "                                           Indicator           check  \\\n",
       "0                                          Countries             NaN   \n",
       "1  Database of Global Administrative Areas (GADM,...             NaN   \n",
       "2  High Resolution Population Density Maps + Demo...             NaN   \n",
       "3  population density vs openstreetmap object den...             NaN   \n",
       "4                                 Population Density  Infrastructure   \n",
       "\n",
       "                                 Data Source  \\\n",
       "0  UN Statistics Division: List of Countries   \n",
       "1                                        NaN   \n",
       "2                                        NaN   \n",
       "3                                        NaN   \n",
       "4   World Bank: World Development Indicators   \n",
       "\n",
       "                           Data Link  Index            Filename  \\\n",
       "0             https://unstats.un.org  False           Countries   \n",
       "1                   https://gadm.org  False                 NaN   \n",
       "2                                NaN  False                 NaN   \n",
       "3                                NaN  False                 NaN   \n",
       "4  https://datacatalog.worldbank.org  False  population_density   \n",
       "\n",
       "                Sub-Pillar  \n",
       "0                      NaN  \n",
       "1                      NaN  \n",
       "2                      NaN  \n",
       "3                      NaN  \n",
       "4  Connectivity Technology  "
      ]
     },
     "execution_count": 5,
     "metadata": {},
     "output_type": "execute_result"
    }
   ],
   "source": [
    "names.head()"
   ]
  },
  {
   "cell_type": "code",
   "execution_count": 6,
   "id": "b9a6ee78",
   "metadata": {},
   "outputs": [],
   "source": [
    "# get all the files per pillar\n",
    "data_stats = names.groupby('check').agg({'Filename':'count','Indicator':'count'})"
   ]
  },
  {
   "cell_type": "code",
   "execution_count": 7,
   "id": "6ffc5386",
   "metadata": {
    "scrolled": true
   },
   "outputs": [
    {
     "data": {
      "text/html": [
       "<div>\n",
       "<style scoped>\n",
       "    .dataframe tbody tr th:only-of-type {\n",
       "        vertical-align: middle;\n",
       "    }\n",
       "\n",
       "    .dataframe tbody tr th {\n",
       "        vertical-align: top;\n",
       "    }\n",
       "\n",
       "    .dataframe thead th {\n",
       "        text-align: right;\n",
       "    }\n",
       "</style>\n",
       "<table border=\"1\" class=\"dataframe\">\n",
       "  <thead>\n",
       "    <tr style=\"text-align: right;\">\n",
       "      <th></th>\n",
       "      <th>Filename</th>\n",
       "      <th>Indicator</th>\n",
       "    </tr>\n",
       "    <tr>\n",
       "      <th>check</th>\n",
       "      <th></th>\n",
       "      <th></th>\n",
       "    </tr>\n",
       "  </thead>\n",
       "  <tbody>\n",
       "    <tr>\n",
       "      <th>Business</th>\n",
       "      <td>18</td>\n",
       "      <td>27</td>\n",
       "    </tr>\n",
       "    <tr>\n",
       "      <th>Foundations</th>\n",
       "      <td>13</td>\n",
       "      <td>22</td>\n",
       "    </tr>\n",
       "    <tr>\n",
       "      <th>Government</th>\n",
       "      <td>10</td>\n",
       "      <td>15</td>\n",
       "    </tr>\n",
       "    <tr>\n",
       "      <th>Infrastructure</th>\n",
       "      <td>47</td>\n",
       "      <td>58</td>\n",
       "    </tr>\n",
       "    <tr>\n",
       "      <th>People</th>\n",
       "      <td>35</td>\n",
       "      <td>49</td>\n",
       "    </tr>\n",
       "    <tr>\n",
       "      <th>Regulation</th>\n",
       "      <td>5</td>\n",
       "      <td>8</td>\n",
       "    </tr>\n",
       "    <tr>\n",
       "      <th>Strategy</th>\n",
       "      <td>1</td>\n",
       "      <td>1</td>\n",
       "    </tr>\n",
       "  </tbody>\n",
       "</table>\n",
       "</div>"
      ],
      "text/plain": [
       "                Filename  Indicator\n",
       "check                              \n",
       "Business              18         27\n",
       "Foundations           13         22\n",
       "Government            10         15\n",
       "Infrastructure        47         58\n",
       "People                35         49\n",
       "Regulation             5          8\n",
       "Strategy               1          1"
      ]
     },
     "execution_count": 7,
     "metadata": {},
     "output_type": "execute_result"
    }
   ],
   "source": [
    "data_stats"
   ]
  },
  {
   "cell_type": "markdown",
   "id": "306435b6",
   "metadata": {},
   "source": [
    "### Government"
   ]
  },
  {
   "cell_type": "code",
   "execution_count": 8,
   "id": "dc3fd79b",
   "metadata": {},
   "outputs": [],
   "source": [
    "bnames = names[(names.check=='Government')&(~names.Filename.isna())]#&(names.Index==False)]"
   ]
  },
  {
   "cell_type": "code",
   "execution_count": 9,
   "id": "5b48a7f4",
   "metadata": {
    "scrolled": true
   },
   "outputs": [
    {
     "data": {
      "text/html": [
       "<div>\n",
       "<style scoped>\n",
       "    .dataframe tbody tr th:only-of-type {\n",
       "        vertical-align: middle;\n",
       "    }\n",
       "\n",
       "    .dataframe tbody tr th {\n",
       "        vertical-align: top;\n",
       "    }\n",
       "\n",
       "    .dataframe thead th {\n",
       "        text-align: right;\n",
       "    }\n",
       "</style>\n",
       "<table border=\"1\" class=\"dataframe\">\n",
       "  <thead>\n",
       "    <tr style=\"text-align: right;\">\n",
       "      <th></th>\n",
       "      <th>Indicator</th>\n",
       "      <th>check</th>\n",
       "      <th>Data Source</th>\n",
       "      <th>Data Link</th>\n",
       "      <th>Index</th>\n",
       "      <th>Filename</th>\n",
       "      <th>Sub-Pillar</th>\n",
       "    </tr>\n",
       "  </thead>\n",
       "  <tbody>\n",
       "    <tr>\n",
       "      <th>63</th>\n",
       "      <td>Online-Service-Index (OSI)</td>\n",
       "      <td>Government</td>\n",
       "      <td>UN: E-Government Survey</td>\n",
       "      <td>https://publicadministration.un.org/egovkb</td>\n",
       "      <td>True</td>\n",
       "      <td>e_government_index</td>\n",
       "      <td>Digital Public Services</td>\n",
       "    </tr>\n",
       "    <tr>\n",
       "      <th>64</th>\n",
       "      <td>E-Participation index</td>\n",
       "      <td>Government</td>\n",
       "      <td>UN: E-Government Survey</td>\n",
       "      <td>https://publicadministration.un.org/egovkb</td>\n",
       "      <td>True</td>\n",
       "      <td>e_government_index</td>\n",
       "      <td>Digital Public Services</td>\n",
       "    </tr>\n",
       "    <tr>\n",
       "      <th>65</th>\n",
       "      <td>Use of public services online (% of services o...</td>\n",
       "      <td>Government</td>\n",
       "      <td>Boston Consulting Group/Salesforce: The Global...</td>\n",
       "      <td>https://www.salesforce.com</td>\n",
       "      <td>False</td>\n",
       "      <td>digital_public_service_use</td>\n",
       "      <td>Digital Public Services</td>\n",
       "    </tr>\n",
       "    <tr>\n",
       "      <th>66</th>\n",
       "      <td>Security incidents (# of relevant issues)</td>\n",
       "      <td>Government</td>\n",
       "      <td>SPECOPS</td>\n",
       "      <td>https://specopssoft.com</td>\n",
       "      <td>False</td>\n",
       "      <td>cyber_attacks</td>\n",
       "      <td>Digital Public Services</td>\n",
       "    </tr>\n",
       "    <tr>\n",
       "      <th>67</th>\n",
       "      <td>What is the % change of government digitizing ...</td>\n",
       "      <td>Government</td>\n",
       "      <td>World Bank: GovTech Dataset</td>\n",
       "      <td>https://datacatalog.worldbank.org</td>\n",
       "      <td>TRUE</td>\n",
       "      <td>Egov_strategy</td>\n",
       "      <td>Digital Public Services</td>\n",
       "    </tr>\n",
       "    <tr>\n",
       "      <th>68</th>\n",
       "      <td>R&amp;D spending (% of GDP)</td>\n",
       "      <td>Government</td>\n",
       "      <td>World Bank: World Development Indicators</td>\n",
       "      <td>https://datacatalog.worldbank.org</td>\n",
       "      <td>False</td>\n",
       "      <td>RD_Percentage_GDP</td>\n",
       "      <td>Funding and procurement</td>\n",
       "    </tr>\n",
       "    <tr>\n",
       "      <th>69</th>\n",
       "      <td>ICT investment as a percentage of GDP</td>\n",
       "      <td>Government</td>\n",
       "      <td>OECD: Going Digital Toolkit</td>\n",
       "      <td>https://data.oecd.org</td>\n",
       "      <td>False</td>\n",
       "      <td>ICT_Investment</td>\n",
       "      <td>Funding and procurement</td>\n",
       "    </tr>\n",
       "    <tr>\n",
       "      <th>71</th>\n",
       "      <td>Evidence of digital strategies in/across Minis...</td>\n",
       "      <td>Government</td>\n",
       "      <td>World Bank: GovTech Dataset</td>\n",
       "      <td>https://datacatalog.worldbank.org</td>\n",
       "      <td>False</td>\n",
       "      <td>Egov_strategy</td>\n",
       "      <td>Funding and procurement</td>\n",
       "    </tr>\n",
       "    <tr>\n",
       "      <th>72</th>\n",
       "      <td>Evidence of focus on vulnerable groups</td>\n",
       "      <td>Government</td>\n",
       "      <td>World Bank: GovTech Dataset</td>\n",
       "      <td>https://datacatalog.worldbank.org</td>\n",
       "      <td>False</td>\n",
       "      <td>Egov_strategy</td>\n",
       "      <td>Leadership and coordination</td>\n",
       "    </tr>\n",
       "    <tr>\n",
       "      <th>75</th>\n",
       "      <td>% of digital skills certifications / training ...</td>\n",
       "      <td>Government</td>\n",
       "      <td>Coursera: Global Skills Reports</td>\n",
       "      <td>https://www.coursera.org/skills-reports/global</td>\n",
       "      <td>False</td>\n",
       "      <td>digital_skill_level</td>\n",
       "      <td>Capabilities</td>\n",
       "    </tr>\n",
       "  </tbody>\n",
       "</table>\n",
       "</div>"
      ],
      "text/plain": [
       "                                            Indicator       check  \\\n",
       "63                         Online-Service-Index (OSI)  Government   \n",
       "64                              E-Participation index  Government   \n",
       "65  Use of public services online (% of services o...  Government   \n",
       "66          Security incidents (# of relevant issues)  Government   \n",
       "67  What is the % change of government digitizing ...  Government   \n",
       "68                            R&D spending (% of GDP)  Government   \n",
       "69              ICT investment as a percentage of GDP  Government   \n",
       "71  Evidence of digital strategies in/across Minis...  Government   \n",
       "72             Evidence of focus on vulnerable groups  Government   \n",
       "75  % of digital skills certifications / training ...  Government   \n",
       "\n",
       "                                          Data Source  \\\n",
       "63                            UN: E-Government Survey   \n",
       "64                            UN: E-Government Survey   \n",
       "65  Boston Consulting Group/Salesforce: The Global...   \n",
       "66                                            SPECOPS   \n",
       "67                        World Bank: GovTech Dataset   \n",
       "68           World Bank: World Development Indicators   \n",
       "69                        OECD: Going Digital Toolkit   \n",
       "71                        World Bank: GovTech Dataset   \n",
       "72                        World Bank: GovTech Dataset   \n",
       "75                    Coursera: Global Skills Reports   \n",
       "\n",
       "                                         Data Link  Index  \\\n",
       "63      https://publicadministration.un.org/egovkb   True   \n",
       "64      https://publicadministration.un.org/egovkb   True   \n",
       "65                      https://www.salesforce.com  False   \n",
       "66                         https://specopssoft.com  False   \n",
       "67               https://datacatalog.worldbank.org  TRUE    \n",
       "68               https://datacatalog.worldbank.org  False   \n",
       "69                           https://data.oecd.org  False   \n",
       "71               https://datacatalog.worldbank.org  False   \n",
       "72               https://datacatalog.worldbank.org  False   \n",
       "75  https://www.coursera.org/skills-reports/global  False   \n",
       "\n",
       "                      Filename                   Sub-Pillar  \n",
       "63          e_government_index      Digital Public Services  \n",
       "64          e_government_index      Digital Public Services  \n",
       "65  digital_public_service_use      Digital Public Services  \n",
       "66               cyber_attacks      Digital Public Services  \n",
       "67               Egov_strategy      Digital Public Services  \n",
       "68           RD_Percentage_GDP      Funding and procurement  \n",
       "69              ICT_Investment      Funding and procurement  \n",
       "71               Egov_strategy      Funding and procurement  \n",
       "72               Egov_strategy  Leadership and coordination  \n",
       "75         digital_skill_level                 Capabilities  "
      ]
     },
     "execution_count": 9,
     "metadata": {},
     "output_type": "execute_result"
    }
   ],
   "source": [
    "bnames.head(25)"
   ]
  },
  {
   "cell_type": "code",
   "execution_count": 10,
   "id": "ddc7767f",
   "metadata": {},
   "outputs": [],
   "source": [
    "# get list of names for all indicators\n",
    "indicators = bnames.Indicator.unique()\n",
    "subpillars = bnames['Sub-Pillar'].unique()"
   ]
  },
  {
   "cell_type": "code",
   "execution_count": 11,
   "id": "113d598a",
   "metadata": {},
   "outputs": [],
   "source": [
    "# get all file names\n",
    "bfiles = bnames.Filename.unique()"
   ]
  },
  {
   "cell_type": "code",
   "execution_count": 12,
   "id": "ac23f5f6",
   "metadata": {},
   "outputs": [
    {
     "data": {
      "text/plain": [
       "array(['e_government_index', 'digital_public_service_use',\n",
       "       'cyber_attacks', 'Egov_strategy', 'RD_Percentage_GDP',\n",
       "       'ICT_Investment', 'digital_skill_level'], dtype=object)"
      ]
     },
     "execution_count": 12,
     "metadata": {},
     "output_type": "execute_result"
    }
   ],
   "source": [
    "bfiles"
   ]
  },
  {
   "cell_type": "code",
   "execution_count": 13,
   "id": "85d90782",
   "metadata": {},
   "outputs": [
    {
     "data": {
      "text/plain": [
       "array(['Digital Public Services', 'Funding and procurement',\n",
       "       'Leadership and coordination', 'Capabilities'], dtype=object)"
      ]
     },
     "execution_count": 13,
     "metadata": {},
     "output_type": "execute_result"
    }
   ],
   "source": [
    "subpillars"
   ]
  },
  {
   "cell_type": "code",
   "execution_count": 14,
   "id": "2485ce77",
   "metadata": {},
   "outputs": [],
   "source": [
    "# formula for converting scale 0-100\n",
    "def convert_rank(old_value, old_min=0, old_max=100, new_min=1, new_max=6 ):\n",
    "    \"\"\" Convert old scale values scale into new scale values\"\"\"\n",
    "    old_range = old_max - old_min\n",
    "    new_range = new_max - new_min\n",
    "    new_value = (((old_value-old_min)*new_range)/old_range)+new_min\n",
    "    return new_value"
   ]
  },
  {
   "cell_type": "code",
   "execution_count": 15,
   "id": "ad6e2958",
   "metadata": {},
   "outputs": [],
   "source": [
    "# formula for converting scale 0-1\n",
    "def convert_rank_b(old_value, old_min=0, old_max=1, new_min=1, new_max=6 ):\n",
    "    \"\"\" Convert old scale values scale into new scale values\"\"\"\n",
    "    old_range = old_max - old_min\n",
    "    new_range = new_max - new_min\n",
    "    new_value = (((old_value-old_min)*new_range)/old_range)+new_min\n",
    "    return new_value"
   ]
  },
  {
   "cell_type": "code",
   "execution_count": null,
   "id": "afc90119",
   "metadata": {},
   "outputs": [],
   "source": []
  },
  {
   "cell_type": "markdown",
   "id": "7cac36ce",
   "metadata": {},
   "source": [
    "### 1. Online-Service-Index (OSI)"
   ]
  },
  {
   "cell_type": "code",
   "execution_count": 16,
   "id": "e9e9f62f",
   "metadata": {},
   "outputs": [
    {
     "data": {
      "text/plain": [
       "'Online-Service-Index (OSI)'"
      ]
     },
     "execution_count": 16,
     "metadata": {},
     "output_type": "execute_result"
    }
   ],
   "source": [
    "indicators[0]"
   ]
  },
  {
   "cell_type": "code",
   "execution_count": 17,
   "id": "120e6f01",
   "metadata": {},
   "outputs": [
    {
     "name": "stdout",
     "output_type": "stream",
     "text": [
      "Online-Service-Index (OSI)\n",
      "e_government_index\n"
     ]
    }
   ],
   "source": [
    "# load data\n",
    "indicator = indicators[0]\n",
    "print(indicator)\n",
    "bf = bnames[bnames['Indicator']==indicator]['Filename'].values[0]\n",
    "print(bf)\n",
    "\n",
    "df = pd.read_csv('../../processed/{}.csv'.format(bf))"
   ]
  },
  {
   "cell_type": "code",
   "execution_count": 18,
   "id": "54dd6677",
   "metadata": {},
   "outputs": [
    {
     "name": "stdout",
     "output_type": "stream",
     "text": [
      "Digital Public Services\n"
     ]
    }
   ],
   "source": [
    "subpillars[0]\n",
    "subpillar = subpillars[0]\n",
    "print(subpillar)"
   ]
  },
  {
   "cell_type": "code",
   "execution_count": 19,
   "id": "9f277dc5",
   "metadata": {},
   "outputs": [
    {
     "data": {
      "text/html": [
       "<div>\n",
       "<style scoped>\n",
       "    .dataframe tbody tr th:only-of-type {\n",
       "        vertical-align: middle;\n",
       "    }\n",
       "\n",
       "    .dataframe tbody tr th {\n",
       "        vertical-align: top;\n",
       "    }\n",
       "\n",
       "    .dataframe thead th {\n",
       "        text-align: right;\n",
       "    }\n",
       "</style>\n",
       "<table border=\"1\" class=\"dataframe\">\n",
       "  <thead>\n",
       "    <tr style=\"text-align: right;\">\n",
       "      <th></th>\n",
       "      <th>Survey Year</th>\n",
       "      <th>Country Name</th>\n",
       "      <th>E-Government Rank</th>\n",
       "      <th>E-Government Index</th>\n",
       "      <th>E-Participation Index</th>\n",
       "      <th>Online Service Index</th>\n",
       "      <th>Human Capital Index</th>\n",
       "      <th>Telecommunication Infrastructure Index</th>\n",
       "    </tr>\n",
       "  </thead>\n",
       "  <tbody>\n",
       "    <tr>\n",
       "      <th>0</th>\n",
       "      <td>2020</td>\n",
       "      <td>Iraq</td>\n",
       "      <td>143</td>\n",
       "      <td>0.4360</td>\n",
       "      <td>0.3095</td>\n",
       "      <td>0.3353</td>\n",
       "      <td>0.4358</td>\n",
       "      <td>0.5370</td>\n",
       "    </tr>\n",
       "    <tr>\n",
       "      <th>1</th>\n",
       "      <td>2020</td>\n",
       "      <td>Ireland</td>\n",
       "      <td>27</td>\n",
       "      <td>0.8433</td>\n",
       "      <td>0.8571</td>\n",
       "      <td>0.7706</td>\n",
       "      <td>0.9494</td>\n",
       "      <td>0.8100</td>\n",
       "    </tr>\n",
       "    <tr>\n",
       "      <th>2</th>\n",
       "      <td>2020</td>\n",
       "      <td>Israel</td>\n",
       "      <td>30</td>\n",
       "      <td>0.8361</td>\n",
       "      <td>0.7143</td>\n",
       "      <td>0.7471</td>\n",
       "      <td>0.8924</td>\n",
       "      <td>0.8689</td>\n",
       "    </tr>\n",
       "    <tr>\n",
       "      <th>3</th>\n",
       "      <td>2020</td>\n",
       "      <td>Italy</td>\n",
       "      <td>37</td>\n",
       "      <td>0.8231</td>\n",
       "      <td>0.8214</td>\n",
       "      <td>0.8294</td>\n",
       "      <td>0.8466</td>\n",
       "      <td>0.7932</td>\n",
       "    </tr>\n",
       "    <tr>\n",
       "      <th>4</th>\n",
       "      <td>2020</td>\n",
       "      <td>Jamaica</td>\n",
       "      <td>114</td>\n",
       "      <td>0.5392</td>\n",
       "      <td>0.3690</td>\n",
       "      <td>0.3882</td>\n",
       "      <td>0.7142</td>\n",
       "      <td>0.5151</td>\n",
       "    </tr>\n",
       "  </tbody>\n",
       "</table>\n",
       "</div>"
      ],
      "text/plain": [
       "   Survey Year Country Name  E-Government Rank  E-Government Index  \\\n",
       "0         2020        Iraq                 143              0.4360   \n",
       "1         2020     Ireland                  27              0.8433   \n",
       "2         2020      Israel                  30              0.8361   \n",
       "3         2020       Italy                  37              0.8231   \n",
       "4         2020     Jamaica                 114              0.5392   \n",
       "\n",
       "   E-Participation Index  Online Service Index  Human Capital Index  \\\n",
       "0                 0.3095                0.3353               0.4358   \n",
       "1                 0.8571                0.7706               0.9494   \n",
       "2                 0.7143                0.7471               0.8924   \n",
       "3                 0.8214                0.8294               0.8466   \n",
       "4                 0.3690                0.3882               0.7142   \n",
       "\n",
       "   Telecommunication Infrastructure Index  \n",
       "0                                  0.5370  \n",
       "1                                  0.8100  \n",
       "2                                  0.8689  \n",
       "3                                  0.7932  \n",
       "4                                  0.5151  "
      ]
     },
     "execution_count": 19,
     "metadata": {},
     "output_type": "execute_result"
    }
   ],
   "source": [
    "df.head()"
   ]
  },
  {
   "cell_type": "code",
   "execution_count": 20,
   "id": "c1d7685f",
   "metadata": {},
   "outputs": [
    {
     "data": {
      "text/plain": [
       "2020    193\n",
       "Name: Survey Year, dtype: int64"
      ]
     },
     "execution_count": 20,
     "metadata": {},
     "output_type": "execute_result"
    }
   ],
   "source": [
    "# all data from 2020\n",
    "df['Survey Year'].value_counts()"
   ]
  },
  {
   "cell_type": "code",
   "execution_count": 21,
   "id": "efc64104",
   "metadata": {},
   "outputs": [
    {
     "data": {
      "text/html": [
       "<div>\n",
       "<style scoped>\n",
       "    .dataframe tbody tr th:only-of-type {\n",
       "        vertical-align: middle;\n",
       "    }\n",
       "\n",
       "    .dataframe tbody tr th {\n",
       "        vertical-align: top;\n",
       "    }\n",
       "\n",
       "    .dataframe thead th {\n",
       "        text-align: right;\n",
       "    }\n",
       "</style>\n",
       "<table border=\"1\" class=\"dataframe\">\n",
       "  <thead>\n",
       "    <tr style=\"text-align: right;\">\n",
       "      <th></th>\n",
       "      <th>Survey Year</th>\n",
       "      <th>E-Government Rank</th>\n",
       "      <th>E-Government Index</th>\n",
       "      <th>E-Participation Index</th>\n",
       "      <th>Online Service Index</th>\n",
       "      <th>Human Capital Index</th>\n",
       "      <th>Telecommunication Infrastructure Index</th>\n",
       "    </tr>\n",
       "  </thead>\n",
       "  <tbody>\n",
       "    <tr>\n",
       "      <th>count</th>\n",
       "      <td>193.0</td>\n",
       "      <td>193.000000</td>\n",
       "      <td>193.000000</td>\n",
       "      <td>193.000000</td>\n",
       "      <td>193.000000</td>\n",
       "      <td>193.000000</td>\n",
       "      <td>193.000000</td>\n",
       "    </tr>\n",
       "    <tr>\n",
       "      <th>mean</th>\n",
       "      <td>2020.0</td>\n",
       "      <td>97.000000</td>\n",
       "      <td>0.598767</td>\n",
       "      <td>0.567723</td>\n",
       "      <td>0.561961</td>\n",
       "      <td>0.687992</td>\n",
       "      <td>0.546354</td>\n",
       "    </tr>\n",
       "    <tr>\n",
       "      <th>std</th>\n",
       "      <td>0.0</td>\n",
       "      <td>55.858452</td>\n",
       "      <td>0.214869</td>\n",
       "      <td>0.259592</td>\n",
       "      <td>0.249874</td>\n",
       "      <td>0.194440</td>\n",
       "      <td>0.259358</td>\n",
       "    </tr>\n",
       "    <tr>\n",
       "      <th>min</th>\n",
       "      <td>2020.0</td>\n",
       "      <td>1.000000</td>\n",
       "      <td>0.087500</td>\n",
       "      <td>0.000000</td>\n",
       "      <td>0.000000</td>\n",
       "      <td>0.000000</td>\n",
       "      <td>0.000000</td>\n",
       "    </tr>\n",
       "    <tr>\n",
       "      <th>25%</th>\n",
       "      <td>2020.0</td>\n",
       "      <td>49.000000</td>\n",
       "      <td>0.432000</td>\n",
       "      <td>0.357100</td>\n",
       "      <td>0.352900</td>\n",
       "      <td>0.559900</td>\n",
       "      <td>0.349600</td>\n",
       "    </tr>\n",
       "    <tr>\n",
       "      <th>50%</th>\n",
       "      <td>2020.0</td>\n",
       "      <td>97.000000</td>\n",
       "      <td>0.612900</td>\n",
       "      <td>0.571400</td>\n",
       "      <td>0.576500</td>\n",
       "      <td>0.739500</td>\n",
       "      <td>0.566900</td>\n",
       "    </tr>\n",
       "    <tr>\n",
       "      <th>75%</th>\n",
       "      <td>2020.0</td>\n",
       "      <td>145.000000</td>\n",
       "      <td>0.779800</td>\n",
       "      <td>0.797600</td>\n",
       "      <td>0.764700</td>\n",
       "      <td>0.841400</td>\n",
       "      <td>0.772300</td>\n",
       "    </tr>\n",
       "    <tr>\n",
       "      <th>max</th>\n",
       "      <td>2020.0</td>\n",
       "      <td>193.000000</td>\n",
       "      <td>0.975800</td>\n",
       "      <td>1.000000</td>\n",
       "      <td>1.000000</td>\n",
       "      <td>1.000000</td>\n",
       "      <td>1.000000</td>\n",
       "    </tr>\n",
       "  </tbody>\n",
       "</table>\n",
       "</div>"
      ],
      "text/plain": [
       "       Survey Year  E-Government Rank  E-Government Index  \\\n",
       "count        193.0         193.000000          193.000000   \n",
       "mean        2020.0          97.000000            0.598767   \n",
       "std            0.0          55.858452            0.214869   \n",
       "min         2020.0           1.000000            0.087500   \n",
       "25%         2020.0          49.000000            0.432000   \n",
       "50%         2020.0          97.000000            0.612900   \n",
       "75%         2020.0         145.000000            0.779800   \n",
       "max         2020.0         193.000000            0.975800   \n",
       "\n",
       "       E-Participation Index  Online Service Index  Human Capital Index  \\\n",
       "count             193.000000            193.000000           193.000000   \n",
       "mean                0.567723              0.561961             0.687992   \n",
       "std                 0.259592              0.249874             0.194440   \n",
       "min                 0.000000              0.000000             0.000000   \n",
       "25%                 0.357100              0.352900             0.559900   \n",
       "50%                 0.571400              0.576500             0.739500   \n",
       "75%                 0.797600              0.764700             0.841400   \n",
       "max                 1.000000              1.000000             1.000000   \n",
       "\n",
       "       Telecommunication Infrastructure Index  \n",
       "count                              193.000000  \n",
       "mean                                 0.546354  \n",
       "std                                  0.259358  \n",
       "min                                  0.000000  \n",
       "25%                                  0.349600  \n",
       "50%                                  0.566900  \n",
       "75%                                  0.772300  \n",
       "max                                  1.000000  "
      ]
     },
     "execution_count": 21,
     "metadata": {},
     "output_type": "execute_result"
    }
   ],
   "source": [
    "# score looks like the one to use\n",
    "df.describe()"
   ]
  },
  {
   "cell_type": "code",
   "execution_count": 22,
   "id": "b1a1c940",
   "metadata": {},
   "outputs": [],
   "source": [
    "# df.Indicator.unique()"
   ]
  },
  {
   "cell_type": "code",
   "execution_count": 23,
   "id": "9e4b127c",
   "metadata": {},
   "outputs": [],
   "source": [
    "# create standard columns\n",
    "# df.rename(columns={'COUNTRY/ECONOMY':'Country Name'}, inplace=True)\n",
    "df['higher_is_better'] = True\n",
    "df['Indicator'] = indicator\n",
    "df['data_col'] = df['Online Service Index'] \n",
    "df['Year'] = df['Survey Year']\n",
    "df['Sub-Pillar'] = subpillar\n",
    "\n",
    "min_rank = df['data_col'].min()\n",
    "max_rank = df['data_col'].max()\n",
    "\n",
    "# transform 0-1 rank into 1-6\n",
    "df['new_rank_score'] = df['data_col'].apply(lambda row: convert_rank_b(row,old_min=min_rank,old_max=max_rank))\n",
    "\n"
   ]
  },
  {
   "cell_type": "code",
   "execution_count": 24,
   "id": "c317fa59",
   "metadata": {},
   "outputs": [
    {
     "data": {
      "text/html": [
       "<div>\n",
       "<style scoped>\n",
       "    .dataframe tbody tr th:only-of-type {\n",
       "        vertical-align: middle;\n",
       "    }\n",
       "\n",
       "    .dataframe tbody tr th {\n",
       "        vertical-align: top;\n",
       "    }\n",
       "\n",
       "    .dataframe thead th {\n",
       "        text-align: right;\n",
       "    }\n",
       "</style>\n",
       "<table border=\"1\" class=\"dataframe\">\n",
       "  <thead>\n",
       "    <tr style=\"text-align: right;\">\n",
       "      <th></th>\n",
       "      <th>Country Name</th>\n",
       "      <th>Year</th>\n",
       "      <th>Indicator</th>\n",
       "      <th>data_col</th>\n",
       "      <th>new_rank_score</th>\n",
       "      <th>higher_is_better</th>\n",
       "      <th>Sub-Pillar</th>\n",
       "    </tr>\n",
       "  </thead>\n",
       "  <tbody>\n",
       "    <tr>\n",
       "      <th>0</th>\n",
       "      <td>Iraq</td>\n",
       "      <td>2020</td>\n",
       "      <td>Online-Service-Index (OSI)</td>\n",
       "      <td>0.3353</td>\n",
       "      <td>2.6765</td>\n",
       "      <td>True</td>\n",
       "      <td>Digital Public Services</td>\n",
       "    </tr>\n",
       "    <tr>\n",
       "      <th>1</th>\n",
       "      <td>Ireland</td>\n",
       "      <td>2020</td>\n",
       "      <td>Online-Service-Index (OSI)</td>\n",
       "      <td>0.7706</td>\n",
       "      <td>4.8530</td>\n",
       "      <td>True</td>\n",
       "      <td>Digital Public Services</td>\n",
       "    </tr>\n",
       "    <tr>\n",
       "      <th>2</th>\n",
       "      <td>Israel</td>\n",
       "      <td>2020</td>\n",
       "      <td>Online-Service-Index (OSI)</td>\n",
       "      <td>0.7471</td>\n",
       "      <td>4.7355</td>\n",
       "      <td>True</td>\n",
       "      <td>Digital Public Services</td>\n",
       "    </tr>\n",
       "    <tr>\n",
       "      <th>3</th>\n",
       "      <td>Italy</td>\n",
       "      <td>2020</td>\n",
       "      <td>Online-Service-Index (OSI)</td>\n",
       "      <td>0.8294</td>\n",
       "      <td>5.1470</td>\n",
       "      <td>True</td>\n",
       "      <td>Digital Public Services</td>\n",
       "    </tr>\n",
       "    <tr>\n",
       "      <th>4</th>\n",
       "      <td>Jamaica</td>\n",
       "      <td>2020</td>\n",
       "      <td>Online-Service-Index (OSI)</td>\n",
       "      <td>0.3882</td>\n",
       "      <td>2.9410</td>\n",
       "      <td>True</td>\n",
       "      <td>Digital Public Services</td>\n",
       "    </tr>\n",
       "    <tr>\n",
       "      <th>...</th>\n",
       "      <td>...</td>\n",
       "      <td>...</td>\n",
       "      <td>...</td>\n",
       "      <td>...</td>\n",
       "      <td>...</td>\n",
       "      <td>...</td>\n",
       "      <td>...</td>\n",
       "    </tr>\n",
       "    <tr>\n",
       "      <th>188</th>\n",
       "      <td>Senegal</td>\n",
       "      <td>2020</td>\n",
       "      <td>Online-Service-Index (OSI)</td>\n",
       "      <td>0.4941</td>\n",
       "      <td>3.4705</td>\n",
       "      <td>True</td>\n",
       "      <td>Digital Public Services</td>\n",
       "    </tr>\n",
       "    <tr>\n",
       "      <th>189</th>\n",
       "      <td>Serbia</td>\n",
       "      <td>2020</td>\n",
       "      <td>Online-Service-Index (OSI)</td>\n",
       "      <td>0.7941</td>\n",
       "      <td>4.9705</td>\n",
       "      <td>True</td>\n",
       "      <td>Digital Public Services</td>\n",
       "    </tr>\n",
       "    <tr>\n",
       "      <th>190</th>\n",
       "      <td>Seychelles</td>\n",
       "      <td>2020</td>\n",
       "      <td>Online-Service-Index (OSI)</td>\n",
       "      <td>0.6176</td>\n",
       "      <td>4.0880</td>\n",
       "      <td>True</td>\n",
       "      <td>Digital Public Services</td>\n",
       "    </tr>\n",
       "    <tr>\n",
       "      <th>191</th>\n",
       "      <td>Singapore</td>\n",
       "      <td>2020</td>\n",
       "      <td>Online-Service-Index (OSI)</td>\n",
       "      <td>0.9647</td>\n",
       "      <td>5.8235</td>\n",
       "      <td>True</td>\n",
       "      <td>Digital Public Services</td>\n",
       "    </tr>\n",
       "    <tr>\n",
       "      <th>192</th>\n",
       "      <td>Slovakia</td>\n",
       "      <td>2020</td>\n",
       "      <td>Online-Service-Index (OSI)</td>\n",
       "      <td>0.7176</td>\n",
       "      <td>4.5880</td>\n",
       "      <td>True</td>\n",
       "      <td>Digital Public Services</td>\n",
       "    </tr>\n",
       "  </tbody>\n",
       "</table>\n",
       "<p>193 rows × 7 columns</p>\n",
       "</div>"
      ],
      "text/plain": [
       "    Country Name  Year                   Indicator  data_col  new_rank_score  \\\n",
       "0          Iraq   2020  Online-Service-Index (OSI)    0.3353          2.6765   \n",
       "1       Ireland   2020  Online-Service-Index (OSI)    0.7706          4.8530   \n",
       "2        Israel   2020  Online-Service-Index (OSI)    0.7471          4.7355   \n",
       "3         Italy   2020  Online-Service-Index (OSI)    0.8294          5.1470   \n",
       "4       Jamaica   2020  Online-Service-Index (OSI)    0.3882          2.9410   \n",
       "..           ...   ...                         ...       ...             ...   \n",
       "188     Senegal   2020  Online-Service-Index (OSI)    0.4941          3.4705   \n",
       "189       Serbia  2020  Online-Service-Index (OSI)    0.7941          4.9705   \n",
       "190  Seychelles   2020  Online-Service-Index (OSI)    0.6176          4.0880   \n",
       "191   Singapore   2020  Online-Service-Index (OSI)    0.9647          5.8235   \n",
       "192    Slovakia   2020  Online-Service-Index (OSI)    0.7176          4.5880   \n",
       "\n",
       "     higher_is_better               Sub-Pillar  \n",
       "0                True  Digital Public Services  \n",
       "1                True  Digital Public Services  \n",
       "2                True  Digital Public Services  \n",
       "3                True  Digital Public Services  \n",
       "4                True  Digital Public Services  \n",
       "..                ...                      ...  \n",
       "188              True  Digital Public Services  \n",
       "189              True  Digital Public Services  \n",
       "190              True  Digital Public Services  \n",
       "191              True  Digital Public Services  \n",
       "192              True  Digital Public Services  \n",
       "\n",
       "[193 rows x 7 columns]"
      ]
     },
     "execution_count": 24,
     "metadata": {},
     "output_type": "execute_result"
    }
   ],
   "source": [
    "df = df[['Country Name', 'Year','Indicator','data_col','new_rank_score','higher_is_better','Sub-Pillar']]\n",
    "df"
   ]
  },
  {
   "cell_type": "code",
   "execution_count": 25,
   "id": "7f2814dd",
   "metadata": {},
   "outputs": [],
   "source": [
    "# output scores\n",
    "df.to_csv('../indicator_scores/government_{}_scores.csv'.format(indicator))"
   ]
  },
  {
   "cell_type": "markdown",
   "id": "ddce2144",
   "metadata": {},
   "source": [
    "## 2. E-Participation index\n"
   ]
  },
  {
   "cell_type": "code",
   "execution_count": 26,
   "id": "5b050cf4",
   "metadata": {},
   "outputs": [
    {
     "name": "stdout",
     "output_type": "stream",
     "text": [
      "E-Participation index\n",
      "e_government_index\n"
     ]
    }
   ],
   "source": [
    "indicator = indicators[1]\n",
    "print(indicator)\n",
    "bf = bnames[bnames['Indicator']==indicator]['Filename'].values[0]\n",
    "print(bf)\n",
    "\n",
    "df = pd.read_csv('../../processed/{}.csv'.format(bf))"
   ]
  },
  {
   "cell_type": "code",
   "execution_count": 27,
   "id": "bbc458d4",
   "metadata": {},
   "outputs": [
    {
     "data": {
      "text/html": [
       "<div>\n",
       "<style scoped>\n",
       "    .dataframe tbody tr th:only-of-type {\n",
       "        vertical-align: middle;\n",
       "    }\n",
       "\n",
       "    .dataframe tbody tr th {\n",
       "        vertical-align: top;\n",
       "    }\n",
       "\n",
       "    .dataframe thead th {\n",
       "        text-align: right;\n",
       "    }\n",
       "</style>\n",
       "<table border=\"1\" class=\"dataframe\">\n",
       "  <thead>\n",
       "    <tr style=\"text-align: right;\">\n",
       "      <th></th>\n",
       "      <th>Survey Year</th>\n",
       "      <th>Country Name</th>\n",
       "      <th>E-Government Rank</th>\n",
       "      <th>E-Government Index</th>\n",
       "      <th>E-Participation Index</th>\n",
       "      <th>Online Service Index</th>\n",
       "      <th>Human Capital Index</th>\n",
       "      <th>Telecommunication Infrastructure Index</th>\n",
       "    </tr>\n",
       "  </thead>\n",
       "  <tbody>\n",
       "    <tr>\n",
       "      <th>0</th>\n",
       "      <td>2020</td>\n",
       "      <td>Iraq</td>\n",
       "      <td>143</td>\n",
       "      <td>0.4360</td>\n",
       "      <td>0.3095</td>\n",
       "      <td>0.3353</td>\n",
       "      <td>0.4358</td>\n",
       "      <td>0.5370</td>\n",
       "    </tr>\n",
       "    <tr>\n",
       "      <th>1</th>\n",
       "      <td>2020</td>\n",
       "      <td>Ireland</td>\n",
       "      <td>27</td>\n",
       "      <td>0.8433</td>\n",
       "      <td>0.8571</td>\n",
       "      <td>0.7706</td>\n",
       "      <td>0.9494</td>\n",
       "      <td>0.8100</td>\n",
       "    </tr>\n",
       "    <tr>\n",
       "      <th>2</th>\n",
       "      <td>2020</td>\n",
       "      <td>Israel</td>\n",
       "      <td>30</td>\n",
       "      <td>0.8361</td>\n",
       "      <td>0.7143</td>\n",
       "      <td>0.7471</td>\n",
       "      <td>0.8924</td>\n",
       "      <td>0.8689</td>\n",
       "    </tr>\n",
       "    <tr>\n",
       "      <th>3</th>\n",
       "      <td>2020</td>\n",
       "      <td>Italy</td>\n",
       "      <td>37</td>\n",
       "      <td>0.8231</td>\n",
       "      <td>0.8214</td>\n",
       "      <td>0.8294</td>\n",
       "      <td>0.8466</td>\n",
       "      <td>0.7932</td>\n",
       "    </tr>\n",
       "    <tr>\n",
       "      <th>4</th>\n",
       "      <td>2020</td>\n",
       "      <td>Jamaica</td>\n",
       "      <td>114</td>\n",
       "      <td>0.5392</td>\n",
       "      <td>0.3690</td>\n",
       "      <td>0.3882</td>\n",
       "      <td>0.7142</td>\n",
       "      <td>0.5151</td>\n",
       "    </tr>\n",
       "  </tbody>\n",
       "</table>\n",
       "</div>"
      ],
      "text/plain": [
       "   Survey Year Country Name  E-Government Rank  E-Government Index  \\\n",
       "0         2020        Iraq                 143              0.4360   \n",
       "1         2020     Ireland                  27              0.8433   \n",
       "2         2020      Israel                  30              0.8361   \n",
       "3         2020       Italy                  37              0.8231   \n",
       "4         2020     Jamaica                 114              0.5392   \n",
       "\n",
       "   E-Participation Index  Online Service Index  Human Capital Index  \\\n",
       "0                 0.3095                0.3353               0.4358   \n",
       "1                 0.8571                0.7706               0.9494   \n",
       "2                 0.7143                0.7471               0.8924   \n",
       "3                 0.8214                0.8294               0.8466   \n",
       "4                 0.3690                0.3882               0.7142   \n",
       "\n",
       "   Telecommunication Infrastructure Index  \n",
       "0                                  0.5370  \n",
       "1                                  0.8100  \n",
       "2                                  0.8689  \n",
       "3                                  0.7932  \n",
       "4                                  0.5151  "
      ]
     },
     "execution_count": 27,
     "metadata": {},
     "output_type": "execute_result"
    }
   ],
   "source": [
    "df.head()"
   ]
  },
  {
   "cell_type": "code",
   "execution_count": 28,
   "id": "0c0e671c",
   "metadata": {},
   "outputs": [
    {
     "name": "stdout",
     "output_type": "stream",
     "text": [
      "Digital Public Services\n"
     ]
    }
   ],
   "source": [
    "subpillars[0]\n",
    "subpillar = subpillars[0]\n",
    "print(subpillar)"
   ]
  },
  {
   "cell_type": "code",
   "execution_count": 29,
   "id": "9ad40f64",
   "metadata": {},
   "outputs": [
    {
     "data": {
      "text/plain": [
       "array([2020], dtype=int64)"
      ]
     },
     "execution_count": 29,
     "metadata": {},
     "output_type": "execute_result"
    }
   ],
   "source": [
    "df['Survey Year'].unique()"
   ]
  },
  {
   "cell_type": "code",
   "execution_count": 30,
   "id": "bf5a4ed7",
   "metadata": {},
   "outputs": [],
   "source": [
    "# create standard columns\n",
    "# df.rename(columns={'COUNTRY/ECONOMY':'Country Name'}, inplace=True)\n",
    "df['higher_is_better'] = True\n",
    "df['Indicator'] = indicator\n",
    "df['data_col'] = df.iloc[:,4]\n",
    "df['Year'] = df['Survey Year']\n",
    "df['Sub-Pillar'] = subpillar\n",
    "\n",
    "min_rank = df['data_col'].min()\n",
    "max_rank = df['data_col'].max()\n",
    "\n",
    "# transform 0-1 rank into 1-6\n",
    "df['new_rank_score'] = df['data_col'].apply(lambda row: convert_rank_b(row,old_min=min_rank,old_max=max_rank))\n"
   ]
  },
  {
   "cell_type": "code",
   "execution_count": 31,
   "id": "7b1c3213",
   "metadata": {},
   "outputs": [
    {
     "data": {
      "text/html": [
       "<div>\n",
       "<style scoped>\n",
       "    .dataframe tbody tr th:only-of-type {\n",
       "        vertical-align: middle;\n",
       "    }\n",
       "\n",
       "    .dataframe tbody tr th {\n",
       "        vertical-align: top;\n",
       "    }\n",
       "\n",
       "    .dataframe thead th {\n",
       "        text-align: right;\n",
       "    }\n",
       "</style>\n",
       "<table border=\"1\" class=\"dataframe\">\n",
       "  <thead>\n",
       "    <tr style=\"text-align: right;\">\n",
       "      <th></th>\n",
       "      <th>Country Name</th>\n",
       "      <th>Year</th>\n",
       "      <th>Indicator</th>\n",
       "      <th>data_col</th>\n",
       "      <th>new_rank_score</th>\n",
       "      <th>higher_is_better</th>\n",
       "      <th>Sub-Pillar</th>\n",
       "    </tr>\n",
       "  </thead>\n",
       "  <tbody>\n",
       "    <tr>\n",
       "      <th>0</th>\n",
       "      <td>Iraq</td>\n",
       "      <td>2020</td>\n",
       "      <td>E-Participation index</td>\n",
       "      <td>0.3095</td>\n",
       "      <td>2.5475</td>\n",
       "      <td>True</td>\n",
       "      <td>Digital Public Services</td>\n",
       "    </tr>\n",
       "    <tr>\n",
       "      <th>1</th>\n",
       "      <td>Ireland</td>\n",
       "      <td>2020</td>\n",
       "      <td>E-Participation index</td>\n",
       "      <td>0.8571</td>\n",
       "      <td>5.2855</td>\n",
       "      <td>True</td>\n",
       "      <td>Digital Public Services</td>\n",
       "    </tr>\n",
       "    <tr>\n",
       "      <th>2</th>\n",
       "      <td>Israel</td>\n",
       "      <td>2020</td>\n",
       "      <td>E-Participation index</td>\n",
       "      <td>0.7143</td>\n",
       "      <td>4.5715</td>\n",
       "      <td>True</td>\n",
       "      <td>Digital Public Services</td>\n",
       "    </tr>\n",
       "    <tr>\n",
       "      <th>3</th>\n",
       "      <td>Italy</td>\n",
       "      <td>2020</td>\n",
       "      <td>E-Participation index</td>\n",
       "      <td>0.8214</td>\n",
       "      <td>5.1070</td>\n",
       "      <td>True</td>\n",
       "      <td>Digital Public Services</td>\n",
       "    </tr>\n",
       "    <tr>\n",
       "      <th>4</th>\n",
       "      <td>Jamaica</td>\n",
       "      <td>2020</td>\n",
       "      <td>E-Participation index</td>\n",
       "      <td>0.3690</td>\n",
       "      <td>2.8450</td>\n",
       "      <td>True</td>\n",
       "      <td>Digital Public Services</td>\n",
       "    </tr>\n",
       "    <tr>\n",
       "      <th>...</th>\n",
       "      <td>...</td>\n",
       "      <td>...</td>\n",
       "      <td>...</td>\n",
       "      <td>...</td>\n",
       "      <td>...</td>\n",
       "      <td>...</td>\n",
       "      <td>...</td>\n",
       "    </tr>\n",
       "    <tr>\n",
       "      <th>188</th>\n",
       "      <td>Senegal</td>\n",
       "      <td>2020</td>\n",
       "      <td>E-Participation index</td>\n",
       "      <td>0.4405</td>\n",
       "      <td>3.2025</td>\n",
       "      <td>True</td>\n",
       "      <td>Digital Public Services</td>\n",
       "    </tr>\n",
       "    <tr>\n",
       "      <th>189</th>\n",
       "      <td>Serbia</td>\n",
       "      <td>2020</td>\n",
       "      <td>E-Participation index</td>\n",
       "      <td>0.8214</td>\n",
       "      <td>5.1070</td>\n",
       "      <td>True</td>\n",
       "      <td>Digital Public Services</td>\n",
       "    </tr>\n",
       "    <tr>\n",
       "      <th>190</th>\n",
       "      <td>Seychelles</td>\n",
       "      <td>2020</td>\n",
       "      <td>E-Participation index</td>\n",
       "      <td>0.5714</td>\n",
       "      <td>3.8570</td>\n",
       "      <td>True</td>\n",
       "      <td>Digital Public Services</td>\n",
       "    </tr>\n",
       "    <tr>\n",
       "      <th>191</th>\n",
       "      <td>Singapore</td>\n",
       "      <td>2020</td>\n",
       "      <td>E-Participation index</td>\n",
       "      <td>0.9762</td>\n",
       "      <td>5.8810</td>\n",
       "      <td>True</td>\n",
       "      <td>Digital Public Services</td>\n",
       "    </tr>\n",
       "    <tr>\n",
       "      <th>192</th>\n",
       "      <td>Slovakia</td>\n",
       "      <td>2020</td>\n",
       "      <td>E-Participation index</td>\n",
       "      <td>0.7024</td>\n",
       "      <td>4.5120</td>\n",
       "      <td>True</td>\n",
       "      <td>Digital Public Services</td>\n",
       "    </tr>\n",
       "  </tbody>\n",
       "</table>\n",
       "<p>193 rows × 7 columns</p>\n",
       "</div>"
      ],
      "text/plain": [
       "    Country Name  Year              Indicator  data_col  new_rank_score  \\\n",
       "0          Iraq   2020  E-Participation index    0.3095          2.5475   \n",
       "1       Ireland   2020  E-Participation index    0.8571          5.2855   \n",
       "2        Israel   2020  E-Participation index    0.7143          4.5715   \n",
       "3         Italy   2020  E-Participation index    0.8214          5.1070   \n",
       "4       Jamaica   2020  E-Participation index    0.3690          2.8450   \n",
       "..           ...   ...                    ...       ...             ...   \n",
       "188     Senegal   2020  E-Participation index    0.4405          3.2025   \n",
       "189       Serbia  2020  E-Participation index    0.8214          5.1070   \n",
       "190  Seychelles   2020  E-Participation index    0.5714          3.8570   \n",
       "191   Singapore   2020  E-Participation index    0.9762          5.8810   \n",
       "192    Slovakia   2020  E-Participation index    0.7024          4.5120   \n",
       "\n",
       "     higher_is_better               Sub-Pillar  \n",
       "0                True  Digital Public Services  \n",
       "1                True  Digital Public Services  \n",
       "2                True  Digital Public Services  \n",
       "3                True  Digital Public Services  \n",
       "4                True  Digital Public Services  \n",
       "..                ...                      ...  \n",
       "188              True  Digital Public Services  \n",
       "189              True  Digital Public Services  \n",
       "190              True  Digital Public Services  \n",
       "191              True  Digital Public Services  \n",
       "192              True  Digital Public Services  \n",
       "\n",
       "[193 rows x 7 columns]"
      ]
     },
     "execution_count": 31,
     "metadata": {},
     "output_type": "execute_result"
    }
   ],
   "source": [
    "df = df[['Country Name', 'Year','Indicator','data_col','new_rank_score','higher_is_better','Sub-Pillar']]\n",
    "df"
   ]
  },
  {
   "cell_type": "code",
   "execution_count": 32,
   "id": "92242a6f",
   "metadata": {},
   "outputs": [],
   "source": [
    "# output scores\n",
    "df.to_csv('../indicator_scores/government_{}_scores.csv'.format(indicator))"
   ]
  },
  {
   "cell_type": "markdown",
   "id": "288d740f",
   "metadata": {},
   "source": [
    "## 3. Use of public services online (% of services online, penetration, frequency of use)\n"
   ]
  },
  {
   "cell_type": "code",
   "execution_count": 33,
   "id": "5e772306",
   "metadata": {},
   "outputs": [
    {
     "name": "stdout",
     "output_type": "stream",
     "text": [
      "Use of public services online (% of services online, penetration, frequency of use)\n",
      "digital_public_service_use\n"
     ]
    }
   ],
   "source": [
    "indicator = indicators[2]\n",
    "print(indicator)\n",
    "bf = bnames[bnames['Indicator']==indicator]['Filename'].values[0]\n",
    "print(bf)\n",
    "\n",
    "df = pd.read_csv('../../processed/{}.csv'.format(bf))"
   ]
  },
  {
   "cell_type": "code",
   "execution_count": 34,
   "id": "4465f959",
   "metadata": {},
   "outputs": [],
   "source": [
    "# drop first row\n",
    "df = df.iloc[1: , :]"
   ]
  },
  {
   "cell_type": "code",
   "execution_count": 35,
   "id": "4f9bbb4e",
   "metadata": {},
   "outputs": [
    {
     "name": "stdout",
     "output_type": "stream",
     "text": [
      "<class 'pandas.core.frame.DataFrame'>\n",
      "RangeIndex: 35 entries, 1 to 35\n",
      "Data columns (total 2 columns):\n",
      " #   Column                 Non-Null Count  Dtype  \n",
      "---  ------                 --------------  -----  \n",
      " 0   Country Name           35 non-null     object \n",
      " 1   User Satisfaction (%)  35 non-null     float64\n",
      "dtypes: float64(1), object(1)\n",
      "memory usage: 692.0+ bytes\n"
     ]
    }
   ],
   "source": [
    "df.info()"
   ]
  },
  {
   "cell_type": "code",
   "execution_count": 36,
   "id": "01013890",
   "metadata": {},
   "outputs": [
    {
     "data": {
      "text/html": [
       "<div>\n",
       "<style scoped>\n",
       "    .dataframe tbody tr th:only-of-type {\n",
       "        vertical-align: middle;\n",
       "    }\n",
       "\n",
       "    .dataframe tbody tr th {\n",
       "        vertical-align: top;\n",
       "    }\n",
       "\n",
       "    .dataframe thead th {\n",
       "        text-align: right;\n",
       "    }\n",
       "</style>\n",
       "<table border=\"1\" class=\"dataframe\">\n",
       "  <thead>\n",
       "    <tr style=\"text-align: right;\">\n",
       "      <th></th>\n",
       "      <th>Country Name</th>\n",
       "      <th>User Satisfaction (%)</th>\n",
       "    </tr>\n",
       "  </thead>\n",
       "  <tbody>\n",
       "    <tr>\n",
       "      <th>1</th>\n",
       "      <td>India</td>\n",
       "      <td>86.1</td>\n",
       "    </tr>\n",
       "    <tr>\n",
       "      <th>2</th>\n",
       "      <td>Saudi Arabia</td>\n",
       "      <td>84.2</td>\n",
       "    </tr>\n",
       "    <tr>\n",
       "      <th>3</th>\n",
       "      <td>China</td>\n",
       "      <td>81.8</td>\n",
       "    </tr>\n",
       "    <tr>\n",
       "      <th>4</th>\n",
       "      <td>Singapore</td>\n",
       "      <td>80.9</td>\n",
       "    </tr>\n",
       "    <tr>\n",
       "      <th>5</th>\n",
       "      <td>France</td>\n",
       "      <td>79.1</td>\n",
       "    </tr>\n",
       "    <tr>\n",
       "      <th>6</th>\n",
       "      <td>Chile</td>\n",
       "      <td>78.3</td>\n",
       "    </tr>\n",
       "    <tr>\n",
       "      <th>7</th>\n",
       "      <td>Hong Kong</td>\n",
       "      <td>76.6</td>\n",
       "    </tr>\n",
       "    <tr>\n",
       "      <th>8</th>\n",
       "      <td>Kenya</td>\n",
       "      <td>76.1</td>\n",
       "    </tr>\n",
       "    <tr>\n",
       "      <th>9</th>\n",
       "      <td>Poland</td>\n",
       "      <td>75.2</td>\n",
       "    </tr>\n",
       "    <tr>\n",
       "      <th>10</th>\n",
       "      <td>Australia</td>\n",
       "      <td>74.5</td>\n",
       "    </tr>\n",
       "    <tr>\n",
       "      <th>11</th>\n",
       "      <td>Estonia</td>\n",
       "      <td>74.3</td>\n",
       "    </tr>\n",
       "    <tr>\n",
       "      <th>12</th>\n",
       "      <td>Indonesia</td>\n",
       "      <td>73.8</td>\n",
       "    </tr>\n",
       "    <tr>\n",
       "      <th>13</th>\n",
       "      <td>Qatar</td>\n",
       "      <td>72.7</td>\n",
       "    </tr>\n",
       "    <tr>\n",
       "      <th>14</th>\n",
       "      <td>United Kingdom</td>\n",
       "      <td>72.0</td>\n",
       "    </tr>\n",
       "    <tr>\n",
       "      <th>15</th>\n",
       "      <td>New Zealand</td>\n",
       "      <td>71.9</td>\n",
       "    </tr>\n",
       "  </tbody>\n",
       "</table>\n",
       "</div>"
      ],
      "text/plain": [
       "      Country Name  User Satisfaction (%)\n",
       "1            India                   86.1\n",
       "2     Saudi Arabia                   84.2\n",
       "3            China                   81.8\n",
       "4        Singapore                   80.9\n",
       "5           France                   79.1\n",
       "6            Chile                   78.3\n",
       "7        Hong Kong                   76.6\n",
       "8            Kenya                   76.1\n",
       "9           Poland                   75.2\n",
       "10       Australia                   74.5\n",
       "11         Estonia                   74.3\n",
       "12       Indonesia                   73.8\n",
       "13           Qatar                   72.7\n",
       "14  United Kingdom                   72.0\n",
       "15     New Zealand                   71.9"
      ]
     },
     "execution_count": 36,
     "metadata": {},
     "output_type": "execute_result"
    }
   ],
   "source": [
    "df.head(15)"
   ]
  },
  {
   "cell_type": "code",
   "execution_count": 37,
   "id": "4a46608e",
   "metadata": {},
   "outputs": [
    {
     "name": "stdout",
     "output_type": "stream",
     "text": [
      "Digital Public Services\n"
     ]
    }
   ],
   "source": [
    "subpillars[0]\n",
    "subpillar = subpillars[0]\n",
    "print(subpillar)"
   ]
  },
  {
   "cell_type": "code",
   "execution_count": 38,
   "id": "691820a3",
   "metadata": {},
   "outputs": [],
   "source": [
    "# create the standard columns\n",
    "df['higher_is_better'] = True\n",
    "df['Indicator'] =  indicator\n",
    "# df['2019 [YR2019]'] = df['2019 [YR2019]'].astype(float)\n",
    "df['data_col'] = df['User Satisfaction (%)']\n",
    "df['Year'] = 2020\n",
    "df['Sub-Pillar'] = subpillar"
   ]
  },
  {
   "cell_type": "code",
   "execution_count": 39,
   "id": "0ed52016",
   "metadata": {},
   "outputs": [],
   "source": [
    "# convert 1-100 %  into 1-6\n",
    "min_rank = df['data_col'].min()\n",
    "max_rank = df['data_col'].max()\n",
    "df['new_rank_score'] = df['data_col'].apply(lambda row: convert_rank(row, old_min=0,old_max=100))\n",
    "\n",
    "df.sort_values(by='new_rank_score', ascending=False)\n",
    "\n",
    "# prepare output\n",
    "df = df[['Country Name', 'Year','Indicator','data_col','new_rank_score','higher_is_better','Sub-Pillar']]\n",
    "\n",
    "# output scores\n",
    "df.to_csv('../indicator_scores/government_{}_scores.csv'.format(indicator), index=False)"
   ]
  },
  {
   "cell_type": "code",
   "execution_count": 40,
   "id": "f35835a2",
   "metadata": {
    "scrolled": true
   },
   "outputs": [
    {
     "data": {
      "text/html": [
       "<div>\n",
       "<style scoped>\n",
       "    .dataframe tbody tr th:only-of-type {\n",
       "        vertical-align: middle;\n",
       "    }\n",
       "\n",
       "    .dataframe tbody tr th {\n",
       "        vertical-align: top;\n",
       "    }\n",
       "\n",
       "    .dataframe thead th {\n",
       "        text-align: right;\n",
       "    }\n",
       "</style>\n",
       "<table border=\"1\" class=\"dataframe\">\n",
       "  <thead>\n",
       "    <tr style=\"text-align: right;\">\n",
       "      <th></th>\n",
       "      <th>Country Name</th>\n",
       "      <th>Year</th>\n",
       "      <th>Indicator</th>\n",
       "      <th>data_col</th>\n",
       "      <th>new_rank_score</th>\n",
       "      <th>higher_is_better</th>\n",
       "      <th>Sub-Pillar</th>\n",
       "    </tr>\n",
       "  </thead>\n",
       "  <tbody>\n",
       "    <tr>\n",
       "      <th>1</th>\n",
       "      <td>India</td>\n",
       "      <td>2020</td>\n",
       "      <td>Use of public services online (% of services o...</td>\n",
       "      <td>86.1</td>\n",
       "      <td>5.305</td>\n",
       "      <td>True</td>\n",
       "      <td>Digital Public Services</td>\n",
       "    </tr>\n",
       "    <tr>\n",
       "      <th>2</th>\n",
       "      <td>Saudi Arabia</td>\n",
       "      <td>2020</td>\n",
       "      <td>Use of public services online (% of services o...</td>\n",
       "      <td>84.2</td>\n",
       "      <td>5.210</td>\n",
       "      <td>True</td>\n",
       "      <td>Digital Public Services</td>\n",
       "    </tr>\n",
       "    <tr>\n",
       "      <th>3</th>\n",
       "      <td>China</td>\n",
       "      <td>2020</td>\n",
       "      <td>Use of public services online (% of services o...</td>\n",
       "      <td>81.8</td>\n",
       "      <td>5.090</td>\n",
       "      <td>True</td>\n",
       "      <td>Digital Public Services</td>\n",
       "    </tr>\n",
       "    <tr>\n",
       "      <th>4</th>\n",
       "      <td>Singapore</td>\n",
       "      <td>2020</td>\n",
       "      <td>Use of public services online (% of services o...</td>\n",
       "      <td>80.9</td>\n",
       "      <td>5.045</td>\n",
       "      <td>True</td>\n",
       "      <td>Digital Public Services</td>\n",
       "    </tr>\n",
       "    <tr>\n",
       "      <th>5</th>\n",
       "      <td>France</td>\n",
       "      <td>2020</td>\n",
       "      <td>Use of public services online (% of services o...</td>\n",
       "      <td>79.1</td>\n",
       "      <td>4.955</td>\n",
       "      <td>True</td>\n",
       "      <td>Digital Public Services</td>\n",
       "    </tr>\n",
       "    <tr>\n",
       "      <th>6</th>\n",
       "      <td>Chile</td>\n",
       "      <td>2020</td>\n",
       "      <td>Use of public services online (% of services o...</td>\n",
       "      <td>78.3</td>\n",
       "      <td>4.915</td>\n",
       "      <td>True</td>\n",
       "      <td>Digital Public Services</td>\n",
       "    </tr>\n",
       "    <tr>\n",
       "      <th>7</th>\n",
       "      <td>Hong Kong</td>\n",
       "      <td>2020</td>\n",
       "      <td>Use of public services online (% of services o...</td>\n",
       "      <td>76.6</td>\n",
       "      <td>4.830</td>\n",
       "      <td>True</td>\n",
       "      <td>Digital Public Services</td>\n",
       "    </tr>\n",
       "    <tr>\n",
       "      <th>8</th>\n",
       "      <td>Kenya</td>\n",
       "      <td>2020</td>\n",
       "      <td>Use of public services online (% of services o...</td>\n",
       "      <td>76.1</td>\n",
       "      <td>4.805</td>\n",
       "      <td>True</td>\n",
       "      <td>Digital Public Services</td>\n",
       "    </tr>\n",
       "    <tr>\n",
       "      <th>9</th>\n",
       "      <td>Poland</td>\n",
       "      <td>2020</td>\n",
       "      <td>Use of public services online (% of services o...</td>\n",
       "      <td>75.2</td>\n",
       "      <td>4.760</td>\n",
       "      <td>True</td>\n",
       "      <td>Digital Public Services</td>\n",
       "    </tr>\n",
       "    <tr>\n",
       "      <th>10</th>\n",
       "      <td>Australia</td>\n",
       "      <td>2020</td>\n",
       "      <td>Use of public services online (% of services o...</td>\n",
       "      <td>74.5</td>\n",
       "      <td>4.725</td>\n",
       "      <td>True</td>\n",
       "      <td>Digital Public Services</td>\n",
       "    </tr>\n",
       "    <tr>\n",
       "      <th>11</th>\n",
       "      <td>Estonia</td>\n",
       "      <td>2020</td>\n",
       "      <td>Use of public services online (% of services o...</td>\n",
       "      <td>74.3</td>\n",
       "      <td>4.715</td>\n",
       "      <td>True</td>\n",
       "      <td>Digital Public Services</td>\n",
       "    </tr>\n",
       "    <tr>\n",
       "      <th>12</th>\n",
       "      <td>Indonesia</td>\n",
       "      <td>2020</td>\n",
       "      <td>Use of public services online (% of services o...</td>\n",
       "      <td>73.8</td>\n",
       "      <td>4.690</td>\n",
       "      <td>True</td>\n",
       "      <td>Digital Public Services</td>\n",
       "    </tr>\n",
       "    <tr>\n",
       "      <th>13</th>\n",
       "      <td>Qatar</td>\n",
       "      <td>2020</td>\n",
       "      <td>Use of public services online (% of services o...</td>\n",
       "      <td>72.7</td>\n",
       "      <td>4.635</td>\n",
       "      <td>True</td>\n",
       "      <td>Digital Public Services</td>\n",
       "    </tr>\n",
       "    <tr>\n",
       "      <th>14</th>\n",
       "      <td>United Kingdom</td>\n",
       "      <td>2020</td>\n",
       "      <td>Use of public services online (% of services o...</td>\n",
       "      <td>72.0</td>\n",
       "      <td>4.600</td>\n",
       "      <td>True</td>\n",
       "      <td>Digital Public Services</td>\n",
       "    </tr>\n",
       "    <tr>\n",
       "      <th>15</th>\n",
       "      <td>New Zealand</td>\n",
       "      <td>2020</td>\n",
       "      <td>Use of public services online (% of services o...</td>\n",
       "      <td>71.9</td>\n",
       "      <td>4.595</td>\n",
       "      <td>True</td>\n",
       "      <td>Digital Public Services</td>\n",
       "    </tr>\n",
       "  </tbody>\n",
       "</table>\n",
       "</div>"
      ],
      "text/plain": [
       "      Country Name  Year                                          Indicator  \\\n",
       "1            India  2020  Use of public services online (% of services o...   \n",
       "2     Saudi Arabia  2020  Use of public services online (% of services o...   \n",
       "3            China  2020  Use of public services online (% of services o...   \n",
       "4        Singapore  2020  Use of public services online (% of services o...   \n",
       "5           France  2020  Use of public services online (% of services o...   \n",
       "6            Chile  2020  Use of public services online (% of services o...   \n",
       "7        Hong Kong  2020  Use of public services online (% of services o...   \n",
       "8            Kenya  2020  Use of public services online (% of services o...   \n",
       "9           Poland  2020  Use of public services online (% of services o...   \n",
       "10       Australia  2020  Use of public services online (% of services o...   \n",
       "11         Estonia  2020  Use of public services online (% of services o...   \n",
       "12       Indonesia  2020  Use of public services online (% of services o...   \n",
       "13           Qatar  2020  Use of public services online (% of services o...   \n",
       "14  United Kingdom  2020  Use of public services online (% of services o...   \n",
       "15     New Zealand  2020  Use of public services online (% of services o...   \n",
       "\n",
       "    data_col  new_rank_score  higher_is_better               Sub-Pillar  \n",
       "1       86.1           5.305              True  Digital Public Services  \n",
       "2       84.2           5.210              True  Digital Public Services  \n",
       "3       81.8           5.090              True  Digital Public Services  \n",
       "4       80.9           5.045              True  Digital Public Services  \n",
       "5       79.1           4.955              True  Digital Public Services  \n",
       "6       78.3           4.915              True  Digital Public Services  \n",
       "7       76.6           4.830              True  Digital Public Services  \n",
       "8       76.1           4.805              True  Digital Public Services  \n",
       "9       75.2           4.760              True  Digital Public Services  \n",
       "10      74.5           4.725              True  Digital Public Services  \n",
       "11      74.3           4.715              True  Digital Public Services  \n",
       "12      73.8           4.690              True  Digital Public Services  \n",
       "13      72.7           4.635              True  Digital Public Services  \n",
       "14      72.0           4.600              True  Digital Public Services  \n",
       "15      71.9           4.595              True  Digital Public Services  "
      ]
     },
     "execution_count": 40,
     "metadata": {},
     "output_type": "execute_result"
    }
   ],
   "source": [
    "df.head(15)"
   ]
  },
  {
   "cell_type": "markdown",
   "id": "a09e01ef",
   "metadata": {},
   "source": [
    "## 4. Security incidents (# of relevant issues)\n",
    "\n"
   ]
  },
  {
   "cell_type": "code",
   "execution_count": 41,
   "id": "ccb6d2ff",
   "metadata": {},
   "outputs": [
    {
     "name": "stdout",
     "output_type": "stream",
     "text": [
      "Security incidents (# of relevant issues)\n",
      "cyber_attacks\n"
     ]
    }
   ],
   "source": [
    "indicator = indicators[3]\n",
    "print(indicator)\n",
    "bf = bnames[bnames['Indicator']==indicator]['Filename'].values[0]\n",
    "print(bf)\n",
    "\n",
    "df = pd.read_csv('../../processed/{}.csv'.format(bf))"
   ]
  },
  {
   "cell_type": "code",
   "execution_count": 42,
   "id": "dba1b47f",
   "metadata": {},
   "outputs": [
    {
     "data": {
      "text/html": [
       "<div>\n",
       "<style scoped>\n",
       "    .dataframe tbody tr th:only-of-type {\n",
       "        vertical-align: middle;\n",
       "    }\n",
       "\n",
       "    .dataframe tbody tr th {\n",
       "        vertical-align: top;\n",
       "    }\n",
       "\n",
       "    .dataframe thead th {\n",
       "        text-align: right;\n",
       "    }\n",
       "</style>\n",
       "<table border=\"1\" class=\"dataframe\">\n",
       "  <thead>\n",
       "    <tr style=\"text-align: right;\">\n",
       "      <th></th>\n",
       "      <th>Country</th>\n",
       "      <th>Number of Significant Cyberattacks (2006-2020)</th>\n",
       "    </tr>\n",
       "  </thead>\n",
       "  <tbody>\n",
       "    <tr>\n",
       "      <th>0</th>\n",
       "      <td>United States</td>\n",
       "      <td>156</td>\n",
       "    </tr>\n",
       "    <tr>\n",
       "      <th>1</th>\n",
       "      <td>United Kingdom</td>\n",
       "      <td>47</td>\n",
       "    </tr>\n",
       "    <tr>\n",
       "      <th>2</th>\n",
       "      <td>India</td>\n",
       "      <td>23</td>\n",
       "    </tr>\n",
       "    <tr>\n",
       "      <th>3</th>\n",
       "      <td>Germany</td>\n",
       "      <td>21</td>\n",
       "    </tr>\n",
       "    <tr>\n",
       "      <th>4</th>\n",
       "      <td>South Korea</td>\n",
       "      <td>18</td>\n",
       "    </tr>\n",
       "  </tbody>\n",
       "</table>\n",
       "</div>"
      ],
      "text/plain": [
       "          Country  Number of Significant Cyberattacks (2006-2020)\n",
       "0   United States                                             156\n",
       "1  United Kingdom                                              47\n",
       "2           India                                              23\n",
       "3         Germany                                              21\n",
       "4     South Korea                                              18"
      ]
     },
     "execution_count": 42,
     "metadata": {},
     "output_type": "execute_result"
    }
   ],
   "source": [
    "df.head()"
   ]
  },
  {
   "cell_type": "code",
   "execution_count": 43,
   "id": "39afe5b1",
   "metadata": {},
   "outputs": [],
   "source": [
    "# create a rank from the number of attacks fields\n",
    "df['data_rank'] = df['Number of Significant Cyberattacks (2006-2020)'].rank(method='max')"
   ]
  },
  {
   "cell_type": "code",
   "execution_count": 44,
   "id": "f3b67302",
   "metadata": {},
   "outputs": [
    {
     "name": "stdout",
     "output_type": "stream",
     "text": [
      "Digital Public Services\n"
     ]
    }
   ],
   "source": [
    "subpillars[0]\n",
    "subpillar = subpillars[0]\n",
    "print(subpillar)"
   ]
  },
  {
   "cell_type": "code",
   "execution_count": 45,
   "id": "735538b1",
   "metadata": {},
   "outputs": [
    {
     "data": {
      "text/html": [
       "<div>\n",
       "<style scoped>\n",
       "    .dataframe tbody tr th:only-of-type {\n",
       "        vertical-align: middle;\n",
       "    }\n",
       "\n",
       "    .dataframe tbody tr th {\n",
       "        vertical-align: top;\n",
       "    }\n",
       "\n",
       "    .dataframe thead th {\n",
       "        text-align: right;\n",
       "    }\n",
       "</style>\n",
       "<table border=\"1\" class=\"dataframe\">\n",
       "  <thead>\n",
       "    <tr style=\"text-align: right;\">\n",
       "      <th></th>\n",
       "      <th>Country Name</th>\n",
       "      <th>Year</th>\n",
       "      <th>Indicator</th>\n",
       "      <th>data_col</th>\n",
       "      <th>new_rank_score</th>\n",
       "      <th>higher_is_better</th>\n",
       "      <th>Sub-Pillar</th>\n",
       "    </tr>\n",
       "  </thead>\n",
       "  <tbody>\n",
       "    <tr>\n",
       "      <th>0</th>\n",
       "      <td>United States</td>\n",
       "      <td>2020</td>\n",
       "      <td>Security incidents (# of relevant issues)</td>\n",
       "      <td>20.0</td>\n",
       "      <td>1.000000</td>\n",
       "      <td>True</td>\n",
       "      <td>Digital Public Services</td>\n",
       "    </tr>\n",
       "    <tr>\n",
       "      <th>1</th>\n",
       "      <td>United Kingdom</td>\n",
       "      <td>2020</td>\n",
       "      <td>Security incidents (# of relevant issues)</td>\n",
       "      <td>19.0</td>\n",
       "      <td>1.263158</td>\n",
       "      <td>True</td>\n",
       "      <td>Digital Public Services</td>\n",
       "    </tr>\n",
       "    <tr>\n",
       "      <th>2</th>\n",
       "      <td>India</td>\n",
       "      <td>2020</td>\n",
       "      <td>Security incidents (# of relevant issues)</td>\n",
       "      <td>18.0</td>\n",
       "      <td>1.526316</td>\n",
       "      <td>True</td>\n",
       "      <td>Digital Public Services</td>\n",
       "    </tr>\n",
       "    <tr>\n",
       "      <th>3</th>\n",
       "      <td>Germany</td>\n",
       "      <td>2020</td>\n",
       "      <td>Security incidents (# of relevant issues)</td>\n",
       "      <td>17.0</td>\n",
       "      <td>1.789474</td>\n",
       "      <td>True</td>\n",
       "      <td>Digital Public Services</td>\n",
       "    </tr>\n",
       "    <tr>\n",
       "      <th>4</th>\n",
       "      <td>South Korea</td>\n",
       "      <td>2020</td>\n",
       "      <td>Security incidents (# of relevant issues)</td>\n",
       "      <td>16.0</td>\n",
       "      <td>2.052632</td>\n",
       "      <td>True</td>\n",
       "      <td>Digital Public Services</td>\n",
       "    </tr>\n",
       "    <tr>\n",
       "      <th>5</th>\n",
       "      <td>Australia</td>\n",
       "      <td>2020</td>\n",
       "      <td>Security incidents (# of relevant issues)</td>\n",
       "      <td>15.0</td>\n",
       "      <td>2.315789</td>\n",
       "      <td>True</td>\n",
       "      <td>Digital Public Services</td>\n",
       "    </tr>\n",
       "    <tr>\n",
       "      <th>6</th>\n",
       "      <td>Ukraine</td>\n",
       "      <td>2020</td>\n",
       "      <td>Security incidents (# of relevant issues)</td>\n",
       "      <td>15.0</td>\n",
       "      <td>2.315789</td>\n",
       "      <td>True</td>\n",
       "      <td>Digital Public Services</td>\n",
       "    </tr>\n",
       "    <tr>\n",
       "      <th>7</th>\n",
       "      <td>China</td>\n",
       "      <td>2020</td>\n",
       "      <td>Security incidents (# of relevant issues)</td>\n",
       "      <td>13.0</td>\n",
       "      <td>2.842105</td>\n",
       "      <td>True</td>\n",
       "      <td>Digital Public Services</td>\n",
       "    </tr>\n",
       "    <tr>\n",
       "      <th>8</th>\n",
       "      <td>Iran</td>\n",
       "      <td>2020</td>\n",
       "      <td>Security incidents (# of relevant issues)</td>\n",
       "      <td>13.0</td>\n",
       "      <td>2.842105</td>\n",
       "      <td>True</td>\n",
       "      <td>Digital Public Services</td>\n",
       "    </tr>\n",
       "    <tr>\n",
       "      <th>9</th>\n",
       "      <td>Saudi Arabia</td>\n",
       "      <td>2020</td>\n",
       "      <td>Security incidents (# of relevant issues)</td>\n",
       "      <td>13.0</td>\n",
       "      <td>2.842105</td>\n",
       "      <td>True</td>\n",
       "      <td>Digital Public Services</td>\n",
       "    </tr>\n",
       "    <tr>\n",
       "      <th>10</th>\n",
       "      <td>Japan</td>\n",
       "      <td>2020</td>\n",
       "      <td>Security incidents (# of relevant issues)</td>\n",
       "      <td>10.0</td>\n",
       "      <td>3.631579</td>\n",
       "      <td>True</td>\n",
       "      <td>Digital Public Services</td>\n",
       "    </tr>\n",
       "    <tr>\n",
       "      <th>11</th>\n",
       "      <td>Canada</td>\n",
       "      <td>2020</td>\n",
       "      <td>Security incidents (# of relevant issues)</td>\n",
       "      <td>9.0</td>\n",
       "      <td>3.894737</td>\n",
       "      <td>True</td>\n",
       "      <td>Digital Public Services</td>\n",
       "    </tr>\n",
       "    <tr>\n",
       "      <th>12</th>\n",
       "      <td>France</td>\n",
       "      <td>2020</td>\n",
       "      <td>Security incidents (# of relevant issues)</td>\n",
       "      <td>8.0</td>\n",
       "      <td>4.157895</td>\n",
       "      <td>True</td>\n",
       "      <td>Digital Public Services</td>\n",
       "    </tr>\n",
       "    <tr>\n",
       "      <th>13</th>\n",
       "      <td>Israel</td>\n",
       "      <td>2020</td>\n",
       "      <td>Security incidents (# of relevant issues)</td>\n",
       "      <td>8.0</td>\n",
       "      <td>4.157895</td>\n",
       "      <td>True</td>\n",
       "      <td>Digital Public Services</td>\n",
       "    </tr>\n",
       "    <tr>\n",
       "      <th>14</th>\n",
       "      <td>Pakistan</td>\n",
       "      <td>2020</td>\n",
       "      <td>Security incidents (# of relevant issues)</td>\n",
       "      <td>6.0</td>\n",
       "      <td>4.684211</td>\n",
       "      <td>True</td>\n",
       "      <td>Digital Public Services</td>\n",
       "    </tr>\n",
       "  </tbody>\n",
       "</table>\n",
       "</div>"
      ],
      "text/plain": [
       "      Country Name  Year                                  Indicator  data_col  \\\n",
       "0    United States  2020  Security incidents (# of relevant issues)      20.0   \n",
       "1   United Kingdom  2020  Security incidents (# of relevant issues)      19.0   \n",
       "2            India  2020  Security incidents (# of relevant issues)      18.0   \n",
       "3          Germany  2020  Security incidents (# of relevant issues)      17.0   \n",
       "4      South Korea  2020  Security incidents (# of relevant issues)      16.0   \n",
       "5        Australia  2020  Security incidents (# of relevant issues)      15.0   \n",
       "6          Ukraine  2020  Security incidents (# of relevant issues)      15.0   \n",
       "7            China  2020  Security incidents (# of relevant issues)      13.0   \n",
       "8             Iran  2020  Security incidents (# of relevant issues)      13.0   \n",
       "9     Saudi Arabia  2020  Security incidents (# of relevant issues)      13.0   \n",
       "10           Japan  2020  Security incidents (# of relevant issues)      10.0   \n",
       "11          Canada  2020  Security incidents (# of relevant issues)       9.0   \n",
       "12          France  2020  Security incidents (# of relevant issues)       8.0   \n",
       "13          Israel  2020  Security incidents (# of relevant issues)       8.0   \n",
       "14        Pakistan  2020  Security incidents (# of relevant issues)       6.0   \n",
       "\n",
       "    new_rank_score  higher_is_better               Sub-Pillar  \n",
       "0         1.000000              True  Digital Public Services  \n",
       "1         1.263158              True  Digital Public Services  \n",
       "2         1.526316              True  Digital Public Services  \n",
       "3         1.789474              True  Digital Public Services  \n",
       "4         2.052632              True  Digital Public Services  \n",
       "5         2.315789              True  Digital Public Services  \n",
       "6         2.315789              True  Digital Public Services  \n",
       "7         2.842105              True  Digital Public Services  \n",
       "8         2.842105              True  Digital Public Services  \n",
       "9         2.842105              True  Digital Public Services  \n",
       "10        3.631579              True  Digital Public Services  \n",
       "11        3.894737              True  Digital Public Services  \n",
       "12        4.157895              True  Digital Public Services  \n",
       "13        4.157895              True  Digital Public Services  \n",
       "14        4.684211              True  Digital Public Services  "
      ]
     },
     "execution_count": 45,
     "metadata": {},
     "output_type": "execute_result"
    }
   ],
   "source": [
    "# create standard columns\n",
    "df.rename(columns={'Country':'Country Name'}, inplace=True)\n",
    "df['higher_is_better'] = True\n",
    "df['Indicator'] = indicator\n",
    "df['data_col'] = df['data_rank']\n",
    "df['Year'] = 2020\n",
    "df['Sub-Pillar'] = subpillar\n",
    "\n",
    "min_rank = df['data_col'].min()\n",
    "max_rank = df['data_col'].max()\n",
    "\n",
    "# transform 1-20 rank into 1-6\n",
    "df['new_rank_score'] = df['data_col'].apply(lambda row: convert_rank(row,old_min=min_rank,old_max=max_rank))\n",
    "\n",
    "# need to invert since higher rank is not better\n",
    "df['new_rank_score'] = (6-df['new_rank_score'])+1\n",
    "\n",
    "# # prepare output\n",
    "df = df[['Country Name', 'Year','Indicator','data_col','new_rank_score','higher_is_better','Sub-Pillar']]\n",
    "\n",
    "df.head(15)"
   ]
  },
  {
   "cell_type": "code",
   "execution_count": 46,
   "id": "da4ea388",
   "metadata": {},
   "outputs": [],
   "source": [
    "# # output scores\n",
    "df.to_csv('../indicator_scores/government_{}_scores.csv'.format(indicator), index=False)"
   ]
  },
  {
   "cell_type": "markdown",
   "id": "ba8969c8",
   "metadata": {},
   "source": [
    "## 5. What is the % change of government digitizing public services?\n",
    "\n"
   ]
  },
  {
   "cell_type": "code",
   "execution_count": 47,
   "id": "d3a596f0",
   "metadata": {},
   "outputs": [
    {
     "name": "stdout",
     "output_type": "stream",
     "text": [
      "What is the % change of government digitizing public services?\n",
      "Egov_strategy\n"
     ]
    }
   ],
   "source": [
    "indicator = indicators[4]\n",
    "print(indicator)\n",
    "bf = bnames[bnames['Indicator']==indicator]['Filename'].values[0]\n",
    "print(bf)\n",
    "\n",
    "df = pd.read_csv('../../processed/{}.csv'.format(bf))"
   ]
  },
  {
   "cell_type": "code",
   "execution_count": 48,
   "id": "b2b3d383",
   "metadata": {},
   "outputs": [
    {
     "data": {
      "text/html": [
       "<div>\n",
       "<style scoped>\n",
       "    .dataframe tbody tr th:only-of-type {\n",
       "        vertical-align: middle;\n",
       "    }\n",
       "\n",
       "    .dataframe tbody tr th {\n",
       "        vertical-align: top;\n",
       "    }\n",
       "\n",
       "    .dataframe thead th {\n",
       "        text-align: right;\n",
       "    }\n",
       "</style>\n",
       "<table border=\"1\" class=\"dataframe\">\n",
       "  <thead>\n",
       "    <tr style=\"text-align: right;\">\n",
       "      <th></th>\n",
       "      <th>#</th>\n",
       "      <th>Flag</th>\n",
       "      <th>Code</th>\n",
       "      <th>Cnum</th>\n",
       "      <th>Economy</th>\n",
       "      <th>Level</th>\n",
       "      <th>Population</th>\n",
       "      <th>GNI</th>\n",
       "      <th>GNIPC</th>\n",
       "      <th>e-Government</th>\n",
       "      <th>...</th>\n",
       "      <th>NGTI-1</th>\n",
       "      <th>NGTI-2</th>\n",
       "      <th>NGTI-3</th>\n",
       "      <th>NGTI-4</th>\n",
       "      <th>GTI-1</th>\n",
       "      <th>GTI-2</th>\n",
       "      <th>GTI-3</th>\n",
       "      <th>GTI-4</th>\n",
       "      <th>data_country</th>\n",
       "      <th>data_year</th>\n",
       "    </tr>\n",
       "  </thead>\n",
       "  <tbody>\n",
       "    <tr>\n",
       "      <th>0</th>\n",
       "      <td>1</td>\n",
       "      <td>NaN</td>\n",
       "      <td>AFG</td>\n",
       "      <td>4.0</td>\n",
       "      <td>Afghanistan</td>\n",
       "      <td>LIC</td>\n",
       "      <td>38,928</td>\n",
       "      <td>20,726</td>\n",
       "      <td>540</td>\n",
       "      <td>https://mcit.gov.af/node/6938</td>\n",
       "      <td>...</td>\n",
       "      <td>0.69</td>\n",
       "      <td>0.52</td>\n",
       "      <td>0.31</td>\n",
       "      <td>0.62</td>\n",
       "      <td>-0.09</td>\n",
       "      <td>-0.34</td>\n",
       "      <td>0.02</td>\n",
       "      <td>-0.12</td>\n",
       "      <td>NaN</td>\n",
       "      <td>NaN</td>\n",
       "    </tr>\n",
       "    <tr>\n",
       "      <th>1</th>\n",
       "      <td>2</td>\n",
       "      <td>NaN</td>\n",
       "      <td>ALB</td>\n",
       "      <td>8.0</td>\n",
       "      <td>Albania</td>\n",
       "      <td>UMIC</td>\n",
       "      <td>2,878</td>\n",
       "      <td>14,949</td>\n",
       "      <td>5,240</td>\n",
       "      <td>https://e-albania.al/</td>\n",
       "      <td>...</td>\n",
       "      <td>0.81</td>\n",
       "      <td>0.78</td>\n",
       "      <td>0.60</td>\n",
       "      <td>0.77</td>\n",
       "      <td>0.29</td>\n",
       "      <td>0.62</td>\n",
       "      <td>0.74</td>\n",
       "      <td>0.26</td>\n",
       "      <td>NaN</td>\n",
       "      <td>NaN</td>\n",
       "    </tr>\n",
       "    <tr>\n",
       "      <th>2</th>\n",
       "      <td>3</td>\n",
       "      <td>NaN</td>\n",
       "      <td>DZA</td>\n",
       "      <td>12.0</td>\n",
       "      <td>Algeria</td>\n",
       "      <td>LMIC</td>\n",
       "      <td>43,851</td>\n",
       "      <td>170,722</td>\n",
       "      <td>3,970</td>\n",
       "      <td>https://www.mpttn.gov.dz/ar/content/%D8%A7%D9%...</td>\n",
       "      <td>...</td>\n",
       "      <td>0.73</td>\n",
       "      <td>0.46</td>\n",
       "      <td>0.02</td>\n",
       "      <td>0.60</td>\n",
       "      <td>0.06</td>\n",
       "      <td>-0.56</td>\n",
       "      <td>-0.68</td>\n",
       "      <td>-0.15</td>\n",
       "      <td>NaN</td>\n",
       "      <td>NaN</td>\n",
       "    </tr>\n",
       "    <tr>\n",
       "      <th>3</th>\n",
       "      <td>4</td>\n",
       "      <td>NaN</td>\n",
       "      <td>ADO</td>\n",
       "      <td>20.0</td>\n",
       "      <td>Andorra</td>\n",
       "      <td>HIC</td>\n",
       "      <td>77</td>\n",
       "      <td>3,154</td>\n",
       "      <td>40,886</td>\n",
       "      <td>http://www.govern.ad</td>\n",
       "      <td>...</td>\n",
       "      <td>0.63</td>\n",
       "      <td>0.60</td>\n",
       "      <td>0.05</td>\n",
       "      <td>0.13</td>\n",
       "      <td>-0.28</td>\n",
       "      <td>-0.06</td>\n",
       "      <td>-0.62</td>\n",
       "      <td>-1.32</td>\n",
       "      <td>NaN</td>\n",
       "      <td>NaN</td>\n",
       "    </tr>\n",
       "    <tr>\n",
       "      <th>4</th>\n",
       "      <td>5</td>\n",
       "      <td>NaN</td>\n",
       "      <td>AGO</td>\n",
       "      <td>24.0</td>\n",
       "      <td>Angola</td>\n",
       "      <td>LMIC</td>\n",
       "      <td>32,866</td>\n",
       "      <td>97,005</td>\n",
       "      <td>3,050</td>\n",
       "      <td>http://www.governo.gov.ao</td>\n",
       "      <td>...</td>\n",
       "      <td>0.68</td>\n",
       "      <td>0.69</td>\n",
       "      <td>0.21</td>\n",
       "      <td>0.61</td>\n",
       "      <td>-0.12</td>\n",
       "      <td>0.27</td>\n",
       "      <td>-0.23</td>\n",
       "      <td>-0.13</td>\n",
       "      <td>NaN</td>\n",
       "      <td>NaN</td>\n",
       "    </tr>\n",
       "  </tbody>\n",
       "</table>\n",
       "<p>5 rows × 332 columns</p>\n",
       "</div>"
      ],
      "text/plain": [
       "   # Flag Code  Cnum      Economy Level Population      GNI   GNIPC  \\\n",
       "0  1  NaN  AFG   4.0  Afghanistan   LIC     38,928   20,726     540   \n",
       "1  2  NaN  ALB   8.0      Albania  UMIC      2,878   14,949   5,240   \n",
       "2  3  NaN  DZA  12.0      Algeria  LMIC     43,851  170,722   3,970   \n",
       "3  4  NaN  ADO  20.0      Andorra   HIC         77    3,154  40,886   \n",
       "4  5  NaN  AGO  24.0       Angola  LMIC     32,866   97,005   3,050   \n",
       "\n",
       "                                        e-Government  ... NGTI-1 NGTI-2  \\\n",
       "0                      https://mcit.gov.af/node/6938  ...   0.69   0.52   \n",
       "1                              https://e-albania.al/  ...   0.81   0.78   \n",
       "2  https://www.mpttn.gov.dz/ar/content/%D8%A7%D9%...  ...   0.73   0.46   \n",
       "3                               http://www.govern.ad  ...   0.63   0.60   \n",
       "4                          http://www.governo.gov.ao  ...   0.68   0.69   \n",
       "\n",
       "  NGTI-3 NGTI-4 GTI-1 GTI-2  GTI-3  GTI-4 data_country data_year  \n",
       "0   0.31   0.62 -0.09 -0.34   0.02  -0.12          NaN       NaN  \n",
       "1   0.60   0.77  0.29  0.62   0.74   0.26          NaN       NaN  \n",
       "2   0.02   0.60  0.06 -0.56  -0.68  -0.15          NaN       NaN  \n",
       "3   0.05   0.13 -0.28 -0.06  -0.62  -1.32          NaN       NaN  \n",
       "4   0.21   0.61 -0.12  0.27  -0.23  -0.13          NaN       NaN  \n",
       "\n",
       "[5 rows x 332 columns]"
      ]
     },
     "execution_count": 48,
     "metadata": {},
     "output_type": "execute_result"
    }
   ],
   "source": [
    "df.head()"
   ]
  },
  {
   "cell_type": "code",
   "execution_count": 49,
   "id": "db93ca8c",
   "metadata": {},
   "outputs": [
    {
     "ename": "ValueError",
     "evalue": "Columns must be same length as key",
     "output_type": "error",
     "traceback": [
      "\u001b[1;31m---------------------------------------------------------------------------\u001b[0m",
      "\u001b[1;31mValueError\u001b[0m                                Traceback (most recent call last)",
      "\u001b[1;32mC:\\Users\\OKRSTU~1\\AppData\\Local\\Temp/ipykernel_12696/1838411011.py\u001b[0m in \u001b[0;36m<module>\u001b[1;34m\u001b[0m\n\u001b[0;32m      4\u001b[0m \u001b[1;31m# Drop the superfluous rows by dropping na\u001b[0m\u001b[1;33m\u001b[0m\u001b[1;33m\u001b[0m\u001b[1;33m\u001b[0m\u001b[0m\n\u001b[0;32m      5\u001b[0m \u001b[0mdf\u001b[0m \u001b[1;33m=\u001b[0m \u001b[0mdf\u001b[0m\u001b[1;33m[\u001b[0m\u001b[0mpd\u001b[0m\u001b[1;33m.\u001b[0m\u001b[0mto_numeric\u001b[0m\u001b[1;33m(\u001b[0m\u001b[0mdf\u001b[0m\u001b[1;33m[\u001b[0m\u001b[1;34m'#'\u001b[0m\u001b[1;33m]\u001b[0m\u001b[1;33m,\u001b[0m \u001b[0merrors\u001b[0m\u001b[1;33m=\u001b[0m\u001b[1;34m'coerce'\u001b[0m\u001b[1;33m)\u001b[0m\u001b[1;33m.\u001b[0m\u001b[0mnotnull\u001b[0m\u001b[1;33m(\u001b[0m\u001b[1;33m)\u001b[0m\u001b[1;33m]\u001b[0m\u001b[1;33m\u001b[0m\u001b[1;33m\u001b[0m\u001b[0m\n\u001b[1;32m----> 6\u001b[1;33m \u001b[0mdf\u001b[0m\u001b[1;33m[\u001b[0m\u001b[1;34m'#'\u001b[0m\u001b[1;33m]\u001b[0m \u001b[1;33m=\u001b[0m \u001b[0mdf\u001b[0m\u001b[1;33m[\u001b[0m\u001b[0mdf\u001b[0m\u001b[1;33m[\u001b[0m\u001b[1;34m'#'\u001b[0m\u001b[1;33m]\u001b[0m\u001b[1;33m.\u001b[0m\u001b[0mnotna\u001b[0m\u001b[1;33m(\u001b[0m\u001b[1;33m)\u001b[0m\u001b[1;33m]\u001b[0m\u001b[1;33m\u001b[0m\u001b[1;33m\u001b[0m\u001b[0m\n\u001b[0m\u001b[0;32m      7\u001b[0m \u001b[1;33m\u001b[0m\u001b[0m\n\u001b[0;32m      8\u001b[0m \u001b[1;31m# Must convert data in the DPL column into float\u001b[0m\u001b[1;33m\u001b[0m\u001b[1;33m\u001b[0m\u001b[1;33m\u001b[0m\u001b[0m\n",
      "\u001b[1;32m~\\Anaconda3\\lib\\site-packages\\pandas\\core\\frame.py\u001b[0m in \u001b[0;36m__setitem__\u001b[1;34m(self, key, value)\u001b[0m\n\u001b[0;32m   3600\u001b[0m             \u001b[0mself\u001b[0m\u001b[1;33m.\u001b[0m\u001b[0m_setitem_array\u001b[0m\u001b[1;33m(\u001b[0m\u001b[0mkey\u001b[0m\u001b[1;33m,\u001b[0m \u001b[0mvalue\u001b[0m\u001b[1;33m)\u001b[0m\u001b[1;33m\u001b[0m\u001b[1;33m\u001b[0m\u001b[0m\n\u001b[0;32m   3601\u001b[0m         \u001b[1;32melif\u001b[0m \u001b[0misinstance\u001b[0m\u001b[1;33m(\u001b[0m\u001b[0mvalue\u001b[0m\u001b[1;33m,\u001b[0m \u001b[0mDataFrame\u001b[0m\u001b[1;33m)\u001b[0m\u001b[1;33m:\u001b[0m\u001b[1;33m\u001b[0m\u001b[1;33m\u001b[0m\u001b[0m\n\u001b[1;32m-> 3602\u001b[1;33m             \u001b[0mself\u001b[0m\u001b[1;33m.\u001b[0m\u001b[0m_set_item_frame_value\u001b[0m\u001b[1;33m(\u001b[0m\u001b[0mkey\u001b[0m\u001b[1;33m,\u001b[0m \u001b[0mvalue\u001b[0m\u001b[1;33m)\u001b[0m\u001b[1;33m\u001b[0m\u001b[1;33m\u001b[0m\u001b[0m\n\u001b[0m\u001b[0;32m   3603\u001b[0m         elif (\n\u001b[0;32m   3604\u001b[0m             \u001b[0mis_list_like\u001b[0m\u001b[1;33m(\u001b[0m\u001b[0mvalue\u001b[0m\u001b[1;33m)\u001b[0m\u001b[1;33m\u001b[0m\u001b[1;33m\u001b[0m\u001b[0m\n",
      "\u001b[1;32m~\\Anaconda3\\lib\\site-packages\\pandas\\core\\frame.py\u001b[0m in \u001b[0;36m_set_item_frame_value\u001b[1;34m(self, key, value)\u001b[0m\n\u001b[0;32m   3727\u001b[0m             \u001b[0mlen_cols\u001b[0m \u001b[1;33m=\u001b[0m \u001b[1;36m1\u001b[0m \u001b[1;32mif\u001b[0m \u001b[0mis_scalar\u001b[0m\u001b[1;33m(\u001b[0m\u001b[0mcols\u001b[0m\u001b[1;33m)\u001b[0m \u001b[1;32melse\u001b[0m \u001b[0mlen\u001b[0m\u001b[1;33m(\u001b[0m\u001b[0mcols\u001b[0m\u001b[1;33m)\u001b[0m\u001b[1;33m\u001b[0m\u001b[1;33m\u001b[0m\u001b[0m\n\u001b[0;32m   3728\u001b[0m             \u001b[1;32mif\u001b[0m \u001b[0mlen_cols\u001b[0m \u001b[1;33m!=\u001b[0m \u001b[0mlen\u001b[0m\u001b[1;33m(\u001b[0m\u001b[0mvalue\u001b[0m\u001b[1;33m.\u001b[0m\u001b[0mcolumns\u001b[0m\u001b[1;33m)\u001b[0m\u001b[1;33m:\u001b[0m\u001b[1;33m\u001b[0m\u001b[1;33m\u001b[0m\u001b[0m\n\u001b[1;32m-> 3729\u001b[1;33m                 \u001b[1;32mraise\u001b[0m \u001b[0mValueError\u001b[0m\u001b[1;33m(\u001b[0m\u001b[1;34m\"Columns must be same length as key\"\u001b[0m\u001b[1;33m)\u001b[0m\u001b[1;33m\u001b[0m\u001b[1;33m\u001b[0m\u001b[0m\n\u001b[0m\u001b[0;32m   3730\u001b[0m \u001b[1;33m\u001b[0m\u001b[0m\n\u001b[0;32m   3731\u001b[0m             \u001b[1;31m# align right-hand-side columns if self.columns\u001b[0m\u001b[1;33m\u001b[0m\u001b[1;33m\u001b[0m\u001b[1;33m\u001b[0m\u001b[0m\n",
      "\u001b[1;31mValueError\u001b[0m: Columns must be same length as key"
     ]
    }
   ],
   "source": [
    "# Must limit the database to the first 206 rows, the remaining rows do not contain any useful information\n",
    "df = df.iloc[0:205,:]\n",
    "\n",
    "# Drop the superfluous rows by dropping na\n",
    "df = df[pd.to_numeric(df['#'], errors='coerce').notnull()]\n",
    "df['#'] = df[df['#'].notna()]\n",
    "\n",
    "# Must convert data in the DPL column into float\n",
    "df['CGSI'] = df['CGSI'].replace('-',np.nan)\n",
    "df['CGSI'] = df['CGSI'].astype(float, errors = 'ignore')"
   ]
  },
  {
   "cell_type": "code",
   "execution_count": null,
   "id": "cbd78835",
   "metadata": {},
   "outputs": [],
   "source": [
    "subpillars[0]\n",
    "subpillar = subpillars[0]\n",
    "print(subpillar)"
   ]
  },
  {
   "cell_type": "code",
   "execution_count": null,
   "id": "0c903e3c",
   "metadata": {},
   "outputs": [],
   "source": [
    "df['higher_is_better'] = True\n",
    "df['Indicator'] = indicator\n",
    "df['data_col'] = df['CGSI']\n",
    "df['Country Name'] = df['Economy']\n",
    "df['Year'] = 2020\n",
    "df['Sub-Pillar'] = subpillar\n",
    "\n",
    "min_rank = df['data_col'].min()\n",
    "max_rank = df['data_col'].max()\n",
    "\n",
    "# transform 0-1 rank into 1-6\n",
    "df['new_rank_score'] = df['data_col'].apply(lambda row: convert_rank(row,old_min=min_rank,old_max=max_rank))"
   ]
  },
  {
   "cell_type": "code",
   "execution_count": null,
   "id": "8a839ae3",
   "metadata": {},
   "outputs": [],
   "source": [
    "df = df[['Country Name', 'Year','Indicator','data_col','new_rank_score','higher_is_better','Sub-Pillar']]\n",
    "df.head(15)"
   ]
  },
  {
   "cell_type": "code",
   "execution_count": null,
   "id": "b9c9fb1b",
   "metadata": {},
   "outputs": [],
   "source": [
    "# output scores\n"
   ]
  },
  {
   "cell_type": "code",
   "execution_count": null,
   "id": "5ff1ad4f",
   "metadata": {},
   "outputs": [],
   "source": [
    "## 6. R&D spending (% of GDP)"
   ]
  },
  {
   "cell_type": "code",
   "execution_count": null,
   "id": "caff1ea5",
   "metadata": {},
   "outputs": [],
   "source": [
    "indicator = indicators[5]\n",
    "print(indicator)\n",
    "bf = bnames[bnames['Indicator']==indicator]['Filename'].values[0]\n",
    "print(bf)\n",
    "\n",
    "df = pd.read_csv('../../processed/{}.csv'.format(bf))"
   ]
  },
  {
   "cell_type": "code",
   "execution_count": null,
   "id": "338e30af",
   "metadata": {},
   "outputs": [],
   "source": [
    "df.info()"
   ]
  },
  {
   "cell_type": "code",
   "execution_count": null,
   "id": "8b9ec7e6",
   "metadata": {},
   "outputs": [],
   "source": [
    "df.head()"
   ]
  },
  {
   "cell_type": "code",
   "execution_count": null,
   "id": "4eb38415",
   "metadata": {},
   "outputs": [],
   "source": [
    "# create standard columns\n",
    "df['higher_is_better'] = True\n",
    "df['Indicator'] = indicator\n",
    "df['data_col'] = df['2018'] \n",
    "df['Sub-Pillar'] = subpillar\n",
    "df['Year'] = 2018\n",
    "\n",
    "min_rank = df['data_col'].min()\n",
    "max_rank = df['data_col'].max()\n",
    "\n",
    "# transform 0-1 rank into 1-6\n",
    "df['new_rank_score'] = df['data_col'].apply(lambda row: convert_rank(row,old_min=min_rank,old_max=max_rank))"
   ]
  },
  {
   "cell_type": "code",
   "execution_count": null,
   "id": "0bc1b4d8",
   "metadata": {},
   "outputs": [],
   "source": [
    "df = df[['Country Name', 'Year','Indicator','data_col','new_rank_score','higher_is_better','Sub-Pillar']]\n",
    "df"
   ]
  },
  {
   "cell_type": "code",
   "execution_count": null,
   "id": "f1f34cd8",
   "metadata": {},
   "outputs": [],
   "source": [
    "df.to_csv('../indicator_scores/government_{}_scores.csv'.format(indicator), index=False)"
   ]
  },
  {
   "cell_type": "markdown",
   "id": "3f8b8d92",
   "metadata": {},
   "source": [
    "## 7. ICT investment as a percentage of GDP\n"
   ]
  },
  {
   "cell_type": "code",
   "execution_count": null,
   "id": "c7aa2705",
   "metadata": {},
   "outputs": [],
   "source": [
    "indicator = indicators[6]\n",
    "print(indicator)\n",
    "bf = bnames[bnames['Indicator']==indicator]['Filename'].values[0]\n",
    "print(bf)\n",
    "\n",
    "df = pd.read_csv('../../processed/{}.csv'.format(bf))"
   ]
  },
  {
   "cell_type": "code",
   "execution_count": null,
   "id": "c9f1d0df",
   "metadata": {},
   "outputs": [],
   "source": [
    "df.info()"
   ]
  },
  {
   "cell_type": "code",
   "execution_count": null,
   "id": "55091eda",
   "metadata": {},
   "outputs": [],
   "source": [
    "df.head()"
   ]
  },
  {
   "cell_type": "code",
   "execution_count": null,
   "id": "18082239",
   "metadata": {},
   "outputs": [],
   "source": [
    "df.SUBJECT.unique()"
   ]
  },
  {
   "cell_type": "code",
   "execution_count": null,
   "id": "67e82abf",
   "metadata": {},
   "outputs": [],
   "source": [
    "df.TIME.max()"
   ]
  },
  {
   "cell_type": "code",
   "execution_count": null,
   "id": "b1faa243",
   "metadata": {},
   "outputs": [],
   "source": [
    "df.Value.describe()"
   ]
  },
  {
   "cell_type": "code",
   "execution_count": null,
   "id": "59d6e27c",
   "metadata": {},
   "outputs": [],
   "source": [
    "subpillars[1]\n",
    "subpillar = subpillars[1]\n",
    "print(subpillar)"
   ]
  },
  {
   "cell_type": "code",
   "execution_count": null,
   "id": "b871284d",
   "metadata": {},
   "outputs": [],
   "source": [
    "dcol = 'Value'\n",
    "indicol = indicator\n",
    "cname = 'Country Name'\n",
    "\n",
    "# filter most recent year\n",
    "df = df[(df.TIME==2010)]\n",
    "\n",
    "# create standard columns\n",
    "df['higher_is_better'] = True\n",
    "df['Indicator'] =  indicator\n",
    "df['Country Name'] = df[cname]\n",
    "# # df['2019 [YR2019]'] = df['2019 [YR2019]'].astype(float)\n",
    "df['data_col'] = df[dcol]\n",
    "df['Sub-Pillar'] = subpillar\n",
    "df['Year'] = 2010\n",
    "\n",
    "min_rank = df['data_col'].min()\n",
    "max_rank = df['data_col'].max()\n",
    "\n",
    "# transform 1-20 rank into 1-6\n",
    "df['new_rank_score'] = df['data_col'].apply(lambda row: convert_rank(row,old_min=min_rank,old_max=max_rank))\n",
    "\n",
    "# df.sort_values(by='new_rank_score', ascending=False)\n",
    "\n",
    "# # prepare output\n",
    "df = df[['Country Name', 'Year','Indicator','data_col','new_rank_score','higher_is_better','Sub-Pillar']]\n",
    "\n",
    "# # output scores\n",
    "df.to_csv('../indicator_scores/government_{}_scores.csv'.format(indicator), index=False)"
   ]
  },
  {
   "cell_type": "code",
   "execution_count": null,
   "id": "8b1448fa",
   "metadata": {},
   "outputs": [],
   "source": [
    "df"
   ]
  },
  {
   "cell_type": "markdown",
   "id": "d5e41c8a",
   "metadata": {},
   "source": [
    "## 8. Evidence of digital strategies in/across Ministries\n",
    "\n"
   ]
  },
  {
   "cell_type": "code",
   "execution_count": null,
   "id": "5f97a510",
   "metadata": {},
   "outputs": [],
   "source": [
    "indicator = indicators[7]\n",
    "print(indicator)\n",
    "bf = bnames[bnames['Indicator']==indicator]['Filename'].values[0]\n",
    "print(bf)\n",
    "\n",
    "df = pd.read_csv('../../processed/{}.csv'.format(bf))"
   ]
  },
  {
   "cell_type": "code",
   "execution_count": null,
   "id": "ffdf36e3",
   "metadata": {},
   "outputs": [],
   "source": [
    "df.head()"
   ]
  },
  {
   "cell_type": "code",
   "execution_count": null,
   "id": "996abb59",
   "metadata": {},
   "outputs": [],
   "source": [
    "# Must limit the database to the first 206 rows, the remaining rows do not contain any useful information\n",
    "df = df.iloc[0:205,:]\n",
    "\n",
    "# Drop the superfluous rows by dropping na\n",
    "df = df[pd.to_numeric(df['#'], errors='coerce').notnull()]\n",
    "df['#'] = df[df['#'].notna()]\n",
    "\n",
    "# Must convert data in the DPL column into float\n",
    "df['DG St'] = df['DG St'].replace('-',np.nan)\n",
    "df['DG St'] = df['DG St'].astype(float, errors = 'ignore')"
   ]
  },
  {
   "cell_type": "code",
   "execution_count": null,
   "id": "bd2986e2",
   "metadata": {},
   "outputs": [],
   "source": [
    "subpillars[1]\n",
    "subpillar = subpillars[1]\n",
    "print(subpillar)"
   ]
  },
  {
   "cell_type": "code",
   "execution_count": null,
   "id": "c29162bf",
   "metadata": {},
   "outputs": [],
   "source": [
    "df['higher_is_better'] = True\n",
    "df['Indicator'] = indicator\n",
    "df['data_col'] = df['DG St']\n",
    "df['Country Name'] = df['Economy']\n",
    "df['Year'] = 2020\n",
    "df['Sub-Pillar'] = subpillar\n",
    "\n",
    "min_rank = df['data_col'].min()\n",
    "max_rank = df['data_col'].max()\n",
    "\n",
    "max_rank"
   ]
  },
  {
   "cell_type": "code",
   "execution_count": null,
   "id": "82eeb717",
   "metadata": {},
   "outputs": [],
   "source": [
    "# transform 0-1 rank into 1-6\n",
    "df['new_rank_score'] = df['data_col'].apply(lambda row: convert_rank(row,old_min=min_rank,old_max=max_rank))"
   ]
  },
  {
   "cell_type": "code",
   "execution_count": null,
   "id": "41441f20",
   "metadata": {},
   "outputs": [],
   "source": [
    "df = df[['Country Name', 'Year','Indicator','data_col','new_rank_score','higher_is_better','Sub-Pillar']]\n",
    "df.head(15)"
   ]
  },
  {
   "cell_type": "code",
   "execution_count": null,
   "id": "8d1fb8b6",
   "metadata": {},
   "outputs": [],
   "source": [
    "# # output scores\n"
   ]
  },
  {
   "cell_type": "markdown",
   "id": "2c78f53a",
   "metadata": {},
   "source": [
    "## 9. Evidence of focus on vulnerable groups\n"
   ]
  },
  {
   "cell_type": "code",
   "execution_count": null,
   "id": "51083ed6",
   "metadata": {
    "scrolled": true
   },
   "outputs": [],
   "source": [
    "indicator = indicators[8]\n",
    "print(indicator)\n",
    "bf = bnames[bnames['Indicator']==indicator]['Filename'].values[0]\n",
    "print(bf)\n",
    "\n",
    "df = pd.read_csv('../../processed/{}.csv'.format(bf))\n",
    "\n",
    "df = df.iloc[1:,:]"
   ]
  },
  {
   "cell_type": "code",
   "execution_count": null,
   "id": "e85dee80",
   "metadata": {},
   "outputs": [],
   "source": [
    "df.head()"
   ]
  },
  {
   "cell_type": "code",
   "execution_count": null,
   "id": "05059332",
   "metadata": {},
   "outputs": [],
   "source": [
    "# Must limit the database to the first 206 rows, the remaining rows do not contain any useful information\n",
    "df = df.iloc[0:205,:]\n",
    "\n",
    "# Drop the superfluous rows by dropping na\n",
    "df = df[pd.to_numeric(df['#'], errors='coerce').notnull()]\n",
    "df['#'] = df[df['#'].notna()]\n",
    "\n",
    "# Must convert data in the DPL column into float\n",
    "df['WoG'] = df['WoG'].replace('-',np.nan)\n",
    "df['WoG'] = df['WoG'].astype(float, errors = 'ignore')"
   ]
  },
  {
   "cell_type": "code",
   "execution_count": null,
   "id": "2c5545a7",
   "metadata": {},
   "outputs": [],
   "source": [
    "df['WoG'].describe"
   ]
  },
  {
   "cell_type": "code",
   "execution_count": null,
   "id": "1c07d7f8",
   "metadata": {},
   "outputs": [],
   "source": [
    "subpillars[2]\n",
    "subpillar = subpillars[2]\n",
    "print(subpillar)"
   ]
  },
  {
   "cell_type": "code",
   "execution_count": null,
   "id": "eb526726",
   "metadata": {},
   "outputs": [],
   "source": [
    "df['higher_is_better'] = True\n",
    "df['Indicator'] = indicator\n",
    "df['data_col'] = df['WoG']\n",
    "df['Country Name'] = df['Economy']\n",
    "df['Year'] = 2020\n",
    "df['Sub-Pillar'] = subpillar\n",
    "\n",
    "min_rank = df['data_col'].min()\n",
    "max_rank = df['data_col'].max()\n",
    "\n",
    "max_rank"
   ]
  },
  {
   "cell_type": "code",
   "execution_count": null,
   "id": "4e66c5a9",
   "metadata": {},
   "outputs": [],
   "source": [
    "# transform 0-1 rank into 1-6\n",
    "df['new_rank_score'] = df['data_col'].apply(lambda row: convert_rank(row,old_min= -0.03,old_max=0.09))"
   ]
  },
  {
   "cell_type": "code",
   "execution_count": null,
   "id": "27ec4334",
   "metadata": {},
   "outputs": [],
   "source": [
    "df = df[['Country Name', 'Year','Indicator','data_col','new_rank_score','higher_is_better','Sub-Pillar']]\n",
    "df"
   ]
  },
  {
   "cell_type": "code",
   "execution_count": null,
   "id": "160f1e8b",
   "metadata": {},
   "outputs": [],
   "source": []
  },
  {
   "cell_type": "markdown",
   "id": "0a0a5995",
   "metadata": {},
   "source": [
    "## 10. % of digital skills certifications / training courses completed\n"
   ]
  },
  {
   "cell_type": "code",
   "execution_count": null,
   "id": "fab0dff5",
   "metadata": {},
   "outputs": [],
   "source": [
    "indicator = indicators[9]\n",
    "print(indicator)\n",
    "bf = bnames[bnames['Indicator']==indicator]['Filename'].values[0]\n",
    "print(bf)\n",
    "\n",
    "df = pd.read_csv('../../processed/{}.csv'.format(bf))"
   ]
  },
  {
   "cell_type": "code",
   "execution_count": null,
   "id": "eac84e07",
   "metadata": {},
   "outputs": [],
   "source": [
    "df"
   ]
  },
  {
   "cell_type": "code",
   "execution_count": null,
   "id": "6d0215dc",
   "metadata": {},
   "outputs": [],
   "source": [
    "subpillars[3]\n",
    "subpillar = subpillars[3]\n",
    "print(subpillar)"
   ]
  },
  {
   "cell_type": "code",
   "execution_count": null,
   "id": "f29e74ff",
   "metadata": {},
   "outputs": [],
   "source": [
    "dcol = 'Global Rank'\n",
    "indicol = indicator\n",
    "cname = 'Country and Region'\n",
    "\n",
    "# filter most recent year\n",
    "# df = df[(df.TIME==2010)]\n",
    "\n",
    "# create standard columns\n",
    "df['higher_is_better'] = True\n",
    "df['Indicator'] =  indicator\n",
    "df['Country Name'] = df[cname]\n",
    "# # df['2019 [YR2019]'] = df['2019 [YR2019]'].astype(float)\n",
    "df['data_col'] = df[dcol]\n",
    "df['Sub-Pillar'] = subpillar\n",
    "\n",
    "min_rank = df['data_col'].min()\n",
    "max_rank = df['data_col'].max()\n",
    "\n",
    "# transform 1-20 rank into 1-6\n",
    "df['new_rank_score'] = df['data_col'].apply(lambda row: convert_rank(row,old_min=min_rank,old_max=max_rank))\n",
    "\n",
    "# # need to invert score since higher rank is not better \n",
    "df['new_rank_score'] = (6-df['new_rank_score'])+1\n",
    "\n",
    "df.sort_values(by='new_rank_score', ascending=False)\n",
    "\n",
    "# # prepare output\n",
    "df = df[['Country Name', 'Year','Indicator','data_col','new_rank_score','higher_is_better','Sub-Pillar']]\n",
    "\n",
    "# # output scores\n",
    "df.to_csv('../indicator_scores/government_ percentage digital skills certifications_scores.csv'.format(indicator), index=False)"
   ]
  },
  {
   "cell_type": "code",
   "execution_count": null,
   "id": "1a5c3680",
   "metadata": {},
   "outputs": [],
   "source": [
    "df"
   ]
  },
  {
   "cell_type": "markdown",
   "id": "02280b65",
   "metadata": {},
   "source": [
    "### Score Aggregating"
   ]
  },
  {
   "cell_type": "code",
   "execution_count": null,
   "id": "220335c0",
   "metadata": {},
   "outputs": [],
   "source": [
    "import os\n"
   ]
  },
  {
   "cell_type": "code",
   "execution_count": null,
   "id": "f3753c27",
   "metadata": {},
   "outputs": [],
   "source": [
    "# get list of files in scores folder\n",
    "scores = os.listdir('../indicator_scores/')\n",
    "scores = [s for s in scores if s.startswith('government')]"
   ]
  },
  {
   "cell_type": "code",
   "execution_count": null,
   "id": "51ea0642",
   "metadata": {},
   "outputs": [],
   "source": [
    "scores"
   ]
  },
  {
   "cell_type": "code",
   "execution_count": null,
   "id": "3806c94c",
   "metadata": {},
   "outputs": [],
   "source": [
    "# create a dataframe that concatenates all these file into one table\n",
    "df = pd.concat([pd.read_csv('../indicator_scores/{}'.format(s)) for s in scores])    "
   ]
  },
  {
   "cell_type": "code",
   "execution_count": null,
   "id": "b5cdda5d",
   "metadata": {},
   "outputs": [],
   "source": [
    "df"
   ]
  },
  {
   "cell_type": "code",
   "execution_count": null,
   "id": "02316c75",
   "metadata": {},
   "outputs": [],
   "source": [
    "# Data cleaning\n",
    "df['new_rank_score'] = df['new_rank_score'].fillna(0)\n",
    "df.sort_values(by=['Country Name'], ascending=True, inplace=True)\n",
    "df.reset_index(drop=True, inplace=True)"
   ]
  },
  {
   "cell_type": "code",
   "execution_count": null,
   "id": "b3ec1dd2",
   "metadata": {},
   "outputs": [],
   "source": [
    "df.info()"
   ]
  },
  {
   "cell_type": "code",
   "execution_count": null,
   "id": "6415b25b",
   "metadata": {},
   "outputs": [],
   "source": [
    "df.head(15)"
   ]
  },
  {
   "cell_type": "code",
   "execution_count": null,
   "id": "608db49c",
   "metadata": {},
   "outputs": [],
   "source": [
    "df.describe()"
   ]
  },
  {
   "cell_type": "code",
   "execution_count": null,
   "id": "b2888382",
   "metadata": {},
   "outputs": [],
   "source": [
    "# checking country names\n",
    "# sorted(df['Country Name'].unique().tolist())"
   ]
  },
  {
   "cell_type": "code",
   "execution_count": null,
   "id": "2e9f8099",
   "metadata": {},
   "outputs": [],
   "source": [
    "# remove trailing whitespaces from country name\n",
    "df['Country Name'] = df['Country Name'].str.strip()\n",
    "df['Country Name'] = df['Country Name'].str.strip('**')\n",
    "df['Country Name'] = df['Country Name'].str.strip('*')"
   ]
  },
  {
   "cell_type": "code",
   "execution_count": null,
   "id": "d71da337",
   "metadata": {},
   "outputs": [],
   "source": [
    "df.head()"
   ]
  },
  {
   "cell_type": "code",
   "execution_count": null,
   "id": "dc6b3806",
   "metadata": {},
   "outputs": [],
   "source": [
    "# checking country names\n",
    "# sorted(df['Country Name'].unique().tolist())"
   ]
  },
  {
   "cell_type": "code",
   "execution_count": null,
   "id": "140f2e4d",
   "metadata": {},
   "outputs": [],
   "source": [
    "# average indicator scores per country\n",
    "agg_df = df.groupby(['Country Name']).agg({'new_rank_score':'mean','data_col':'count'})"
   ]
  },
  {
   "cell_type": "code",
   "execution_count": null,
   "id": "1b9d3aab",
   "metadata": {},
   "outputs": [],
   "source": [
    "agg_df.columns = ['agg_score', 'count_source' ]"
   ]
  },
  {
   "cell_type": "code",
   "execution_count": null,
   "id": "2762eedc",
   "metadata": {},
   "outputs": [],
   "source": [
    "max_number_sources = agg_df.describe()['count_source']['max']"
   ]
  },
  {
   "cell_type": "code",
   "execution_count": null,
   "id": "99a6cb0a",
   "metadata": {},
   "outputs": [],
   "source": [
    "agg_df['agg_score_wt'] = agg_df['agg_score']*(agg_df['count_source']/max_number_sources)"
   ]
  },
  {
   "cell_type": "code",
   "execution_count": null,
   "id": "0e02b603",
   "metadata": {},
   "outputs": [],
   "source": [
    "agg_df.sort_values(by='agg_score', ascending=False, inplace=True)"
   ]
  },
  {
   "cell_type": "code",
   "execution_count": null,
   "id": "afca90e6",
   "metadata": {},
   "outputs": [],
   "source": [
    "agg_df.head(25)"
   ]
  },
  {
   "cell_type": "code",
   "execution_count": null,
   "id": "9686516a",
   "metadata": {},
   "outputs": [],
   "source": [
    "agg_df.to_csv('../pillar_scores/government_scores_v0.csv')"
   ]
  },
  {
   "cell_type": "code",
   "execution_count": null,
   "id": "359a6333",
   "metadata": {},
   "outputs": [],
   "source": [
    "### Score Aggregating by Subpillars"
   ]
  },
  {
   "cell_type": "code",
   "execution_count": null,
   "id": "6bf365f4",
   "metadata": {},
   "outputs": [],
   "source": [
    "df.insert(0,'Pillar','Government')\n",
    "df"
   ]
  },
  {
   "cell_type": "code",
   "execution_count": null,
   "id": "cbb80d5c",
   "metadata": {},
   "outputs": [],
   "source": [
    "sub_df = df.groupby(['Pillar','Sub-Pillar','Country Name']).agg({'new_rank_score':'mean','data_col':'count'})"
   ]
  },
  {
   "cell_type": "code",
   "execution_count": null,
   "id": "46c468e5",
   "metadata": {},
   "outputs": [],
   "source": [
    "sub_df.columns = ['agg_score', 'count_source' ]"
   ]
  },
  {
   "cell_type": "code",
   "execution_count": null,
   "id": "b87d9552",
   "metadata": {},
   "outputs": [],
   "source": [
    "max_number_sources = sub_df.describe()['count_source']['max']"
   ]
  },
  {
   "cell_type": "code",
   "execution_count": null,
   "id": "0e80f71a",
   "metadata": {},
   "outputs": [],
   "source": [
    "sub_df['agg_score_wt'] = sub_df['agg_score']*(sub_df['count_source']/max_number_sources)"
   ]
  },
  {
   "cell_type": "code",
   "execution_count": null,
   "id": "729824de",
   "metadata": {},
   "outputs": [],
   "source": [
    "sub_df.to_csv('../subpillar_score/government_scores_subpillar_v0.csv')"
   ]
  },
  {
   "cell_type": "markdown",
   "id": "8bab6850",
   "metadata": {},
   "source": [
    "### Sources Generation"
   ]
  },
  {
   "cell_type": "code",
   "execution_count": null,
   "id": "c40fc038",
   "metadata": {},
   "outputs": [],
   "source": [
    "#Get all countries from Countries.xlsx\n",
    "countries = pd.read_excel('../../data/Countries.xlsx')\n",
    "col_names = ['Country or Area']\n",
    "countries = countries[col_names]\n",
    "countries.rename(columns = {'Country or Area': 'Country Name'}, inplace = True)"
   ]
  },
  {
   "cell_type": "code",
   "execution_count": null,
   "id": "65c86bbc",
   "metadata": {},
   "outputs": [],
   "source": [
    "#Get all indicators from names dataframe retrieve at the begining of the script\n",
    "bnames=bnames[['check','Sub-Pillar','Indicator','Data Source','Data Link']]\n",
    "bnames.rename(columns = {'check': 'Pillar'}, inplace = True)\n",
    "bnames = bnames.replace('\\n','', regex=True)"
   ]
  },
  {
   "cell_type": "code",
   "execution_count": null,
   "id": "e7576124",
   "metadata": {},
   "outputs": [],
   "source": [
    "#Do a nice cross join so that we have combination of all countries vs all indicators\n",
    "sources = countries.merge(bnames, how='cross')\n",
    "sources"
   ]
  },
  {
   "cell_type": "code",
   "execution_count": null,
   "id": "ea15b045",
   "metadata": {},
   "outputs": [],
   "source": [
    "#Make copy of a scores dataframe and add the column available, with value of 1 (string)\n",
    "#denoting all the country/indicator combinations that have value\n",
    "dfsources = df[['Country Name','Pillar','Sub-Pillar','Indicator']].copy()\n",
    "dfsources['Available'] = '1'"
   ]
  },
  {
   "cell_type": "code",
   "execution_count": null,
   "id": "e23c14e5",
   "metadata": {},
   "outputs": [],
   "source": [
    "#If sources.csv exists, get the contents, remove everyhing from this pillar, append prepared sources, save csv.\n",
    "#if sources.csv does not exist, create new file from sources.\n",
    "from os.path import exists\n",
    "\n",
    "if exists('../../dashboard/Sources.csv') :\n",
    "    CurrentSources = pd.read_csv('../../dashboard/Sources.csv', dtype=str)\n",
    "    CurrentSources = CurrentSources[['Country Name','Pillar','Sub-Pillar','Indicator','Data Source','Data Link','Available']]\n",
    "    CurrentSources = CurrentSources.loc[CurrentSources['Pillar'] != 'Government']\n",
    "    CurrentSources = CurrentSources.append(sources)\n",
    "else :\n",
    "    CurrentSources = sources\n",
    "CurrentSources"
   ]
  },
  {
   "cell_type": "code",
   "execution_count": null,
   "id": "1d4e8678",
   "metadata": {
    "scrolled": true
   },
   "outputs": [],
   "source": [
    "CurrentSources.to_csv('../../dashboard/Sources.csv', index=False)"
   ]
  }
 ],
 "metadata": {
  "kernelspec": {
   "display_name": "Python 3 (ipykernel)",
   "language": "python",
   "name": "python3"
  },
  "language_info": {
   "codemirror_mode": {
    "name": "ipython",
    "version": 3
   },
   "file_extension": ".py",
   "mimetype": "text/x-python",
   "name": "python",
   "nbconvert_exporter": "python",
   "pygments_lexer": "ipython3",
   "version": "3.8.8"
  },
  "toc": {
   "base_numbering": 1,
   "nav_menu": {},
   "number_sections": false,
   "sideBar": false,
   "skip_h1_title": false,
   "title_cell": "Table of Contents",
   "title_sidebar": "Contents",
   "toc_cell": false,
   "toc_position": {},
   "toc_section_display": false,
   "toc_window_display": false
  }
 },
 "nbformat": 4,
 "nbformat_minor": 5
}
