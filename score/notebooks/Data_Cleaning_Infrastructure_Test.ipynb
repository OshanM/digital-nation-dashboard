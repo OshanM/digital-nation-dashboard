{
 "cells": [
  {
   "cell_type": "code",
   "execution_count": 1,
   "id": "1700f079",
   "metadata": {},
   "outputs": [],
   "source": [
    "import pandas as pd\n",
    "import numpy as np"
   ]
  },
  {
   "cell_type": "code",
   "execution_count": 2,
   "id": "06fe08f5",
   "metadata": {},
   "outputs": [],
   "source": [
    "### Get all the pillar names from the excel"
   ]
  },
  {
   "cell_type": "code",
   "execution_count": 3,
   "id": "82b97b5f",
   "metadata": {},
   "outputs": [],
   "source": [
    "names = pd.read_excel('../../UNDP Digital Assessment Data Framework Filename Matching V7.xlsx')"
   ]
  },
  {
   "cell_type": "code",
   "execution_count": 4,
   "id": "0b14598d",
   "metadata": {},
   "outputs": [],
   "source": [
    "col_names = ['Indicator','check', 'Data Source','Index','Filename']"
   ]
  },
  {
   "cell_type": "code",
   "execution_count": 5,
   "id": "ebb8f4e3",
   "metadata": {},
   "outputs": [],
   "source": [
    "names = names[col_names]"
   ]
  },
  {
   "cell_type": "code",
   "execution_count": 6,
   "id": "1ca8e70a",
   "metadata": {},
   "outputs": [
    {
     "data": {
      "text/html": [
       "<div>\n",
       "<style scoped>\n",
       "    .dataframe tbody tr th:only-of-type {\n",
       "        vertical-align: middle;\n",
       "    }\n",
       "\n",
       "    .dataframe tbody tr th {\n",
       "        vertical-align: top;\n",
       "    }\n",
       "\n",
       "    .dataframe thead th {\n",
       "        text-align: right;\n",
       "    }\n",
       "</style>\n",
       "<table border=\"1\" class=\"dataframe\">\n",
       "  <thead>\n",
       "    <tr style=\"text-align: right;\">\n",
       "      <th></th>\n",
       "      <th>Indicator</th>\n",
       "      <th>check</th>\n",
       "      <th>Data Source</th>\n",
       "      <th>Index</th>\n",
       "      <th>Filename</th>\n",
       "    </tr>\n",
       "  </thead>\n",
       "  <tbody>\n",
       "    <tr>\n",
       "      <th>0</th>\n",
       "      <td>Countries</td>\n",
       "      <td>NaN</td>\n",
       "      <td>United Nations</td>\n",
       "      <td>False</td>\n",
       "      <td>Countries</td>\n",
       "    </tr>\n",
       "    <tr>\n",
       "      <th>1</th>\n",
       "      <td>Database of Global Administrative Areas (GADM,...</td>\n",
       "      <td>NaN</td>\n",
       "      <td>GADM maps and data</td>\n",
       "      <td>False</td>\n",
       "      <td>NaN</td>\n",
       "    </tr>\n",
       "    <tr>\n",
       "      <th>2</th>\n",
       "      <td>High Resolution Population Density Maps + Demo...</td>\n",
       "      <td>NaN</td>\n",
       "      <td>Facebook</td>\n",
       "      <td>False</td>\n",
       "      <td>NaN</td>\n",
       "    </tr>\n",
       "    <tr>\n",
       "      <th>3</th>\n",
       "      <td>population density vs openstreetmap object den...</td>\n",
       "      <td>NaN</td>\n",
       "      <td>Kontur</td>\n",
       "      <td>False</td>\n",
       "      <td>NaN</td>\n",
       "    </tr>\n",
       "    <tr>\n",
       "      <th>4</th>\n",
       "      <td>Population Density</td>\n",
       "      <td>Infrastructure</td>\n",
       "      <td>World Bank</td>\n",
       "      <td>False</td>\n",
       "      <td>population_density</td>\n",
       "    </tr>\n",
       "  </tbody>\n",
       "</table>\n",
       "</div>"
      ],
      "text/plain": [
       "                                           Indicator           check  \\\n",
       "0                                          Countries             NaN   \n",
       "1  Database of Global Administrative Areas (GADM,...             NaN   \n",
       "2  High Resolution Population Density Maps + Demo...             NaN   \n",
       "3  population density vs openstreetmap object den...             NaN   \n",
       "4                                 Population Density  Infrastructure   \n",
       "\n",
       "          Data Source  Index            Filename  \n",
       "0      United Nations  False           Countries  \n",
       "1  GADM maps and data  False                 NaN  \n",
       "2            Facebook  False                 NaN  \n",
       "3              Kontur  False                 NaN  \n",
       "4          World Bank  False  population_density  "
      ]
     },
     "execution_count": 6,
     "metadata": {},
     "output_type": "execute_result"
    }
   ],
   "source": [
    "names.head()"
   ]
  },
  {
   "cell_type": "code",
   "execution_count": 7,
   "id": "28108199",
   "metadata": {},
   "outputs": [],
   "source": [
    "# get all the files per pillar\n",
    "data_stats = names.groupby('check').agg({'Filename':'count','Indicator':'count'})"
   ]
  },
  {
   "cell_type": "code",
   "execution_count": 8,
   "id": "720cfe7c",
   "metadata": {},
   "outputs": [
    {
     "data": {
      "text/html": [
       "<div>\n",
       "<style scoped>\n",
       "    .dataframe tbody tr th:only-of-type {\n",
       "        vertical-align: middle;\n",
       "    }\n",
       "\n",
       "    .dataframe tbody tr th {\n",
       "        vertical-align: top;\n",
       "    }\n",
       "\n",
       "    .dataframe thead th {\n",
       "        text-align: right;\n",
       "    }\n",
       "</style>\n",
       "<table border=\"1\" class=\"dataframe\">\n",
       "  <thead>\n",
       "    <tr style=\"text-align: right;\">\n",
       "      <th></th>\n",
       "      <th>Filename</th>\n",
       "      <th>Indicator</th>\n",
       "    </tr>\n",
       "    <tr>\n",
       "      <th>check</th>\n",
       "      <th></th>\n",
       "      <th></th>\n",
       "    </tr>\n",
       "  </thead>\n",
       "  <tbody>\n",
       "    <tr>\n",
       "      <th>Business</th>\n",
       "      <td>20</td>\n",
       "      <td>25</td>\n",
       "    </tr>\n",
       "    <tr>\n",
       "      <th>Foundations</th>\n",
       "      <td>9</td>\n",
       "      <td>12</td>\n",
       "    </tr>\n",
       "    <tr>\n",
       "      <th>Government</th>\n",
       "      <td>11</td>\n",
       "      <td>15</td>\n",
       "    </tr>\n",
       "    <tr>\n",
       "      <th>Infrastructure</th>\n",
       "      <td>45</td>\n",
       "      <td>48</td>\n",
       "    </tr>\n",
       "    <tr>\n",
       "      <th>People</th>\n",
       "      <td>38</td>\n",
       "      <td>46</td>\n",
       "    </tr>\n",
       "    <tr>\n",
       "      <th>Regulation</th>\n",
       "      <td>6</td>\n",
       "      <td>7</td>\n",
       "    </tr>\n",
       "    <tr>\n",
       "      <th>Strategy</th>\n",
       "      <td>1</td>\n",
       "      <td>1</td>\n",
       "    </tr>\n",
       "  </tbody>\n",
       "</table>\n",
       "</div>"
      ],
      "text/plain": [
       "                Filename  Indicator\n",
       "check                              \n",
       "Business              20         25\n",
       "Foundations            9         12\n",
       "Government            11         15\n",
       "Infrastructure        45         48\n",
       "People                38         46\n",
       "Regulation             6          7\n",
       "Strategy               1          1"
      ]
     },
     "execution_count": 8,
     "metadata": {},
     "output_type": "execute_result"
    }
   ],
   "source": [
    "data_stats"
   ]
  },
  {
   "cell_type": "code",
   "execution_count": 9,
   "id": "92878799",
   "metadata": {},
   "outputs": [],
   "source": [
    "### Infrastructure"
   ]
  },
  {
   "cell_type": "code",
   "execution_count": 10,
   "id": "bad8837c",
   "metadata": {},
   "outputs": [
    {
     "data": {
      "text/html": [
       "<div>\n",
       "<style scoped>\n",
       "    .dataframe tbody tr th:only-of-type {\n",
       "        vertical-align: middle;\n",
       "    }\n",
       "\n",
       "    .dataframe tbody tr th {\n",
       "        vertical-align: top;\n",
       "    }\n",
       "\n",
       "    .dataframe thead th {\n",
       "        text-align: right;\n",
       "    }\n",
       "</style>\n",
       "<table border=\"1\" class=\"dataframe\">\n",
       "  <thead>\n",
       "    <tr style=\"text-align: right;\">\n",
       "      <th></th>\n",
       "      <th>Indicator</th>\n",
       "      <th>check</th>\n",
       "      <th>Data Source</th>\n",
       "      <th>Index</th>\n",
       "      <th>Filename</th>\n",
       "    </tr>\n",
       "  </thead>\n",
       "  <tbody>\n",
       "    <tr>\n",
       "      <th>4</th>\n",
       "      <td>Population Density</td>\n",
       "      <td>Infrastructure</td>\n",
       "      <td>World Bank</td>\n",
       "      <td>False</td>\n",
       "      <td>population_density</td>\n",
       "    </tr>\n",
       "    <tr>\n",
       "      <th>5</th>\n",
       "      <td>Broadband Density</td>\n",
       "      <td>Infrastructure</td>\n",
       "      <td>World Bank</td>\n",
       "      <td>False</td>\n",
       "      <td>fixed_broadband_density</td>\n",
       "    </tr>\n",
       "    <tr>\n",
       "      <th>6</th>\n",
       "      <td>% of population covered by internet connectivity</td>\n",
       "      <td>Infrastructure</td>\n",
       "      <td>World Bank</td>\n",
       "      <td>False</td>\n",
       "      <td>population_access_internet</td>\n",
       "    </tr>\n",
       "    <tr>\n",
       "      <th>7</th>\n",
       "      <td>% of population covered by mobile 2G+ data con...</td>\n",
       "      <td>Infrastructure</td>\n",
       "      <td>GSMA Mobile Connectivity Index</td>\n",
       "      <td>False</td>\n",
       "      <td>countries_mobile_connectivity</td>\n",
       "    </tr>\n",
       "    <tr>\n",
       "      <th>8</th>\n",
       "      <td>% of population covered by mobile 3G+ data con...</td>\n",
       "      <td>Infrastructure</td>\n",
       "      <td>GSMA Mobile Connectivity Index</td>\n",
       "      <td>False</td>\n",
       "      <td>countries_mobile_connectivity</td>\n",
       "    </tr>\n",
       "    <tr>\n",
       "      <th>9</th>\n",
       "      <td>% of population covered by mobile 4G+ data con...</td>\n",
       "      <td>Infrastructure</td>\n",
       "      <td>GSMA Mobile Connectivity Index</td>\n",
       "      <td>False</td>\n",
       "      <td>countries_mobile_connectivity</td>\n",
       "    </tr>\n",
       "    <tr>\n",
       "      <th>10</th>\n",
       "      <td>% of population covered by mobile 5G+ data con...</td>\n",
       "      <td>Infrastructure</td>\n",
       "      <td>GSMA Mobile Connectivity Index</td>\n",
       "      <td>False</td>\n",
       "      <td>countries_mobile_connectivity</td>\n",
       "    </tr>\n",
       "    <tr>\n",
       "      <th>11</th>\n",
       "      <td>Mobile Coverage Maps</td>\n",
       "      <td>Infrastructure</td>\n",
       "      <td>GSMA Mobile Connectivity Index</td>\n",
       "      <td>False</td>\n",
       "      <td>mobile_coverage</td>\n",
       "    </tr>\n",
       "    <tr>\n",
       "      <th>12</th>\n",
       "      <td>Electricity Density</td>\n",
       "      <td>Infrastructure</td>\n",
       "      <td>Energy Data</td>\n",
       "      <td>False</td>\n",
       "      <td>electricity_yearbook</td>\n",
       "    </tr>\n",
       "    <tr>\n",
       "      <th>13</th>\n",
       "      <td>% of population covered by electricity</td>\n",
       "      <td>Infrastructure</td>\n",
       "      <td>World Bank</td>\n",
       "      <td>False</td>\n",
       "      <td>population_electricity_coverage</td>\n",
       "    </tr>\n",
       "    <tr>\n",
       "      <th>14</th>\n",
       "      <td>Electricity supply quality</td>\n",
       "      <td>Infrastructure</td>\n",
       "      <td>International Energy Agency / Global Competiti...</td>\n",
       "      <td>False</td>\n",
       "      <td>elect_supply_quality</td>\n",
       "    </tr>\n",
       "    <tr>\n",
       "      <th>15</th>\n",
       "      <td>Electricity Environmental Sustainability</td>\n",
       "      <td>Infrastructure</td>\n",
       "      <td>The Sustainable Development Report/ Cambridge ...</td>\n",
       "      <td>False</td>\n",
       "      <td>sustainability_index</td>\n",
       "    </tr>\n",
       "    <tr>\n",
       "      <th>16</th>\n",
       "      <td>Electrical Distribution Grid Maps</td>\n",
       "      <td>Infrastructure</td>\n",
       "      <td>Facebook</td>\n",
       "      <td>False</td>\n",
       "      <td>elect_dist_grid_map</td>\n",
       "    </tr>\n",
       "    <tr>\n",
       "      <th>17</th>\n",
       "      <td>Cellphone Signal Density</td>\n",
       "      <td>Infrastructure</td>\n",
       "      <td>GSMA Mobile Connectivity Index</td>\n",
       "      <td>False</td>\n",
       "      <td>mobile_density</td>\n",
       "    </tr>\n",
       "    <tr>\n",
       "      <th>18</th>\n",
       "      <td>Telecommunication Infrastructure Index (TII)</td>\n",
       "      <td>Infrastructure</td>\n",
       "      <td>DESA</td>\n",
       "      <td>True</td>\n",
       "      <td>e_government_index</td>\n",
       "    </tr>\n",
       "    <tr>\n",
       "      <th>19</th>\n",
       "      <td>GSMA Mobile Connectivity Index</td>\n",
       "      <td>Infrastructure</td>\n",
       "      <td>GSMA Mobile Connectivity Index</td>\n",
       "      <td>True</td>\n",
       "      <td>countries_mobile_connectivity</td>\n",
       "    </tr>\n",
       "    <tr>\n",
       "      <th>20</th>\n",
       "      <td>Spectrum Allocated to Mobile Providers</td>\n",
       "      <td>Infrastructure</td>\n",
       "      <td>GSMA Mobile Connectivity Index</td>\n",
       "      <td>False</td>\n",
       "      <td>spectrum_allocated_mobile_providers</td>\n",
       "    </tr>\n",
       "    <tr>\n",
       "      <th>23</th>\n",
       "      <td>Internet Exchange Points (IXPs) map</td>\n",
       "      <td>Infrastructure</td>\n",
       "      <td>Packet Clearing House</td>\n",
       "      <td>False</td>\n",
       "      <td>countries_ixp</td>\n",
       "    </tr>\n",
       "    <tr>\n",
       "      <th>24</th>\n",
       "      <td>ISP Speeds - Fixed</td>\n",
       "      <td>Infrastructure</td>\n",
       "      <td>Ookla's Speedtest Intelligence/AWS</td>\n",
       "      <td>False</td>\n",
       "      <td>speedtest-global-performance.yaml</td>\n",
       "    </tr>\n",
       "    <tr>\n",
       "      <th>25</th>\n",
       "      <td>ISP Speeds - Mobile</td>\n",
       "      <td>Infrastructure</td>\n",
       "      <td>Ookla's Speedtest Intelligence/AWS</td>\n",
       "      <td>False</td>\n",
       "      <td>speedtest-global-performance.yaml</td>\n",
       "    </tr>\n",
       "    <tr>\n",
       "      <th>26</th>\n",
       "      <td>ISP internet download speed average</td>\n",
       "      <td>Infrastructure</td>\n",
       "      <td>Ookla's Speedtest Intelligence</td>\n",
       "      <td>False</td>\n",
       "      <td>internet_speed</td>\n",
       "    </tr>\n",
       "    <tr>\n",
       "      <th>28</th>\n",
       "      <td>Mobile dowload speed at the slowest hour of th...</td>\n",
       "      <td>Infrastructure</td>\n",
       "      <td>GSMA Mobile Connectivity Index</td>\n",
       "      <td>False</td>\n",
       "      <td>mobile_latency</td>\n",
       "    </tr>\n",
       "    <tr>\n",
       "      <th>29</th>\n",
       "      <td>Mobile download speed average</td>\n",
       "      <td>Infrastructure</td>\n",
       "      <td>Ookla's Speedtest Intelligence</td>\n",
       "      <td>False</td>\n",
       "      <td>mobile_speed</td>\n",
       "    </tr>\n",
       "    <tr>\n",
       "      <th>30</th>\n",
       "      <td>Individuals using the Internet (% of population)</td>\n",
       "      <td>Infrastructure</td>\n",
       "      <td>ITU</td>\n",
       "      <td>False</td>\n",
       "      <td>individual_internet_usage</td>\n",
       "    </tr>\n",
       "    <tr>\n",
       "      <th>31</th>\n",
       "      <td>Mobile cellular subscriptions (per 100 people)</td>\n",
       "      <td>Infrastructure</td>\n",
       "      <td>World Bank</td>\n",
       "      <td>False</td>\n",
       "      <td>mobile_cell_sub</td>\n",
       "    </tr>\n",
       "  </tbody>\n",
       "</table>\n",
       "</div>"
      ],
      "text/plain": [
       "                                            Indicator           check  \\\n",
       "4                                  Population Density  Infrastructure   \n",
       "5                                   Broadband Density  Infrastructure   \n",
       "6    % of population covered by internet connectivity  Infrastructure   \n",
       "7   % of population covered by mobile 2G+ data con...  Infrastructure   \n",
       "8   % of population covered by mobile 3G+ data con...  Infrastructure   \n",
       "9   % of population covered by mobile 4G+ data con...  Infrastructure   \n",
       "10  % of population covered by mobile 5G+ data con...  Infrastructure   \n",
       "11                               Mobile Coverage Maps  Infrastructure   \n",
       "12                                Electricity Density  Infrastructure   \n",
       "13             % of population covered by electricity  Infrastructure   \n",
       "14                         Electricity supply quality  Infrastructure   \n",
       "15           Electricity Environmental Sustainability  Infrastructure   \n",
       "16                  Electrical Distribution Grid Maps  Infrastructure   \n",
       "17                           Cellphone Signal Density  Infrastructure   \n",
       "18       Telecommunication Infrastructure Index (TII)  Infrastructure   \n",
       "19                    GSMA Mobile Connectivity Index   Infrastructure   \n",
       "20             Spectrum Allocated to Mobile Providers  Infrastructure   \n",
       "23                Internet Exchange Points (IXPs) map  Infrastructure   \n",
       "24                                 ISP Speeds - Fixed  Infrastructure   \n",
       "25                                ISP Speeds - Mobile  Infrastructure   \n",
       "26               ISP internet download speed average   Infrastructure   \n",
       "28  Mobile dowload speed at the slowest hour of th...  Infrastructure   \n",
       "29                     Mobile download speed average   Infrastructure   \n",
       "30   Individuals using the Internet (% of population)  Infrastructure   \n",
       "31     Mobile cellular subscriptions (per 100 people)  Infrastructure   \n",
       "\n",
       "                                          Data Source  Index  \\\n",
       "4                                          World Bank  False   \n",
       "5                                          World Bank  False   \n",
       "6                                          World Bank  False   \n",
       "7                      GSMA Mobile Connectivity Index  False   \n",
       "8                      GSMA Mobile Connectivity Index  False   \n",
       "9                      GSMA Mobile Connectivity Index  False   \n",
       "10                     GSMA Mobile Connectivity Index  False   \n",
       "11                     GSMA Mobile Connectivity Index  False   \n",
       "12                                        Energy Data  False   \n",
       "13                                        World Bank   False   \n",
       "14  International Energy Agency / Global Competiti...  False   \n",
       "15  The Sustainable Development Report/ Cambridge ...  False   \n",
       "16                                           Facebook  False   \n",
       "17                     GSMA Mobile Connectivity Index  False   \n",
       "18                                               DESA   True   \n",
       "19                     GSMA Mobile Connectivity Index   True   \n",
       "20                     GSMA Mobile Connectivity Index  False   \n",
       "23                              Packet Clearing House  False   \n",
       "24                 Ookla's Speedtest Intelligence/AWS  False   \n",
       "25                 Ookla's Speedtest Intelligence/AWS  False   \n",
       "26                     Ookla's Speedtest Intelligence  False   \n",
       "28                     GSMA Mobile Connectivity Index  False   \n",
       "29                     Ookla's Speedtest Intelligence  False   \n",
       "30                                                ITU  False   \n",
       "31                                         World Bank  False   \n",
       "\n",
       "                               Filename  \n",
       "4                    population_density  \n",
       "5               fixed_broadband_density  \n",
       "6            population_access_internet  \n",
       "7         countries_mobile_connectivity  \n",
       "8         countries_mobile_connectivity  \n",
       "9         countries_mobile_connectivity  \n",
       "10        countries_mobile_connectivity  \n",
       "11                      mobile_coverage  \n",
       "12                 electricity_yearbook  \n",
       "13      population_electricity_coverage  \n",
       "14                 elect_supply_quality  \n",
       "15                 sustainability_index  \n",
       "16                  elect_dist_grid_map  \n",
       "17                       mobile_density  \n",
       "18                   e_government_index  \n",
       "19        countries_mobile_connectivity  \n",
       "20  spectrum_allocated_mobile_providers  \n",
       "23                        countries_ixp  \n",
       "24    speedtest-global-performance.yaml  \n",
       "25    speedtest-global-performance.yaml  \n",
       "26                       internet_speed  \n",
       "28                       mobile_latency  \n",
       "29                         mobile_speed  \n",
       "30            individual_internet_usage  \n",
       "31                      mobile_cell_sub  "
      ]
     },
     "execution_count": 10,
     "metadata": {},
     "output_type": "execute_result"
    }
   ],
   "source": [
    "bnames = names[(names.check=='Infrastructure')&(~names.Filename.isna())]#&(names.Index==False)]\n",
    "bnames.head(25)"
   ]
  },
  {
   "cell_type": "code",
   "execution_count": 11,
   "id": "9fb575e2",
   "metadata": {},
   "outputs": [],
   "source": [
    "# get list of names for all indicators\n",
    "indicators = bnames.Indicator.unique()"
   ]
  },
  {
   "cell_type": "code",
   "execution_count": 12,
   "id": "c6705d41",
   "metadata": {},
   "outputs": [],
   "source": [
    "# get all file names\n",
    "bfiles = bnames.Filename.unique()"
   ]
  },
  {
   "cell_type": "code",
   "execution_count": 13,
   "id": "b810a370",
   "metadata": {},
   "outputs": [
    {
     "data": {
      "text/plain": [
       "array(['population_density', 'fixed_broadband_density',\n",
       "       'population_access_internet', 'countries_mobile_connectivity',\n",
       "       'mobile_coverage', 'electricity_yearbook',\n",
       "       'population_electricity_coverage', 'elect_supply_quality',\n",
       "       'sustainability_index', 'elect_dist_grid_map', 'mobile_density',\n",
       "       'e_government_index', 'spectrum_allocated_mobile_providers',\n",
       "       'countries_ixp', 'speedtest-global-performance.yaml',\n",
       "       'internet_speed', 'mobile_latency', 'mobile_speed',\n",
       "       'individual_internet_usage', 'mobile_cell_sub',\n",
       "       'fixed_bdbd_spd_dl_ul',\n",
       "       'fixed_broadband_speed_download_upload_latency', 'postal_coverage',\n",
       "       'World Bank The Logistics Performance Index 2007 to 2018.xlsx',\n",
       "       'schools_w_internet', 'national_cybersecurity_index',\n",
       "       'dice_export_global_cybersecurity_index',\n",
       "       'software_developer_ecosystem_size',\n",
       "       'digital_platform_economy_index', 'migration_skill',\n",
       "       'migration_industry', 'migration_country',\n",
       "       'global_fintech_ranking', 'tech_hubs', 'banking_sector_size',\n",
       "       'angel_investment', 'startup_eco_size',\n",
       "       'international_co_inventions'], dtype=object)"
      ]
     },
     "execution_count": 13,
     "metadata": {},
     "output_type": "execute_result"
    }
   ],
   "source": [
    "bfiles"
   ]
  },
  {
   "cell_type": "code",
   "execution_count": 14,
   "id": "ab444869",
   "metadata": {},
   "outputs": [],
   "source": [
    "# formula for converting scale\n",
    "def convert_rank(old_value, old_min=1, old_max=7, new_min=1, new_max=6 ):\n",
    "    \"\"\" Convert old scale values scale into new scale values\"\"\"\n",
    "    old_range = old_max - old_min\n",
    "    new_range = new_max - new_min\n",
    "    new_value = (((old_value-old_min)*new_range)/old_range)+new_min\n",
    "    return new_value"
   ]
  },
  {
   "cell_type": "code",
   "execution_count": 15,
   "id": "753b27b4",
   "metadata": {},
   "outputs": [],
   "source": [
    "### 2. Broadband Density"
   ]
  },
  {
   "cell_type": "code",
   "execution_count": 31,
   "id": "0a82521a",
   "metadata": {},
   "outputs": [
    {
     "name": "stdout",
     "output_type": "stream",
     "text": [
      "Broadband Density\n",
      "fixed_broadband_density\n"
     ]
    },
    {
     "ename": "FileNotFoundError",
     "evalue": "[Errno 2] No such file or directory: '../../processed/fixed_broadband_density.csv'",
     "output_type": "error",
     "traceback": [
      "\u001b[1;31m---------------------------------------------------------------------------\u001b[0m",
      "\u001b[1;31mFileNotFoundError\u001b[0m                         Traceback (most recent call last)",
      "\u001b[1;32m<ipython-input-31-72afceee5c73>\u001b[0m in \u001b[0;36m<module>\u001b[1;34m\u001b[0m\n\u001b[0;32m      7\u001b[0m \u001b[0mprint\u001b[0m\u001b[1;33m(\u001b[0m\u001b[0mbf\u001b[0m\u001b[1;33m)\u001b[0m\u001b[1;33m\u001b[0m\u001b[1;33m\u001b[0m\u001b[0m\n\u001b[0;32m      8\u001b[0m \u001b[1;33m\u001b[0m\u001b[0m\n\u001b[1;32m----> 9\u001b[1;33m \u001b[0mdf\u001b[0m \u001b[1;33m=\u001b[0m \u001b[0mpd\u001b[0m\u001b[1;33m.\u001b[0m\u001b[0mread_csv\u001b[0m\u001b[1;33m(\u001b[0m\u001b[1;34m'../../processed/{}.csv'\u001b[0m\u001b[1;33m.\u001b[0m\u001b[0mformat\u001b[0m\u001b[1;33m(\u001b[0m\u001b[0mbf\u001b[0m\u001b[1;33m)\u001b[0m\u001b[1;33m)\u001b[0m\u001b[1;33m\u001b[0m\u001b[1;33m\u001b[0m\u001b[0m\n\u001b[0m",
      "\u001b[1;32mD:\\Apps\\Anaconda\\lib\\site-packages\\pandas\\io\\parsers.py\u001b[0m in \u001b[0;36mread_csv\u001b[1;34m(filepath_or_buffer, sep, delimiter, header, names, index_col, usecols, squeeze, prefix, mangle_dupe_cols, dtype, engine, converters, true_values, false_values, skipinitialspace, skiprows, skipfooter, nrows, na_values, keep_default_na, na_filter, verbose, skip_blank_lines, parse_dates, infer_datetime_format, keep_date_col, date_parser, dayfirst, cache_dates, iterator, chunksize, compression, thousands, decimal, lineterminator, quotechar, quoting, doublequote, escapechar, comment, encoding, dialect, error_bad_lines, warn_bad_lines, delim_whitespace, low_memory, memory_map, float_precision, storage_options)\u001b[0m\n\u001b[0;32m    608\u001b[0m     \u001b[0mkwds\u001b[0m\u001b[1;33m.\u001b[0m\u001b[0mupdate\u001b[0m\u001b[1;33m(\u001b[0m\u001b[0mkwds_defaults\u001b[0m\u001b[1;33m)\u001b[0m\u001b[1;33m\u001b[0m\u001b[1;33m\u001b[0m\u001b[0m\n\u001b[0;32m    609\u001b[0m \u001b[1;33m\u001b[0m\u001b[0m\n\u001b[1;32m--> 610\u001b[1;33m     \u001b[1;32mreturn\u001b[0m \u001b[0m_read\u001b[0m\u001b[1;33m(\u001b[0m\u001b[0mfilepath_or_buffer\u001b[0m\u001b[1;33m,\u001b[0m \u001b[0mkwds\u001b[0m\u001b[1;33m)\u001b[0m\u001b[1;33m\u001b[0m\u001b[1;33m\u001b[0m\u001b[0m\n\u001b[0m\u001b[0;32m    611\u001b[0m \u001b[1;33m\u001b[0m\u001b[0m\n\u001b[0;32m    612\u001b[0m \u001b[1;33m\u001b[0m\u001b[0m\n",
      "\u001b[1;32mD:\\Apps\\Anaconda\\lib\\site-packages\\pandas\\io\\parsers.py\u001b[0m in \u001b[0;36m_read\u001b[1;34m(filepath_or_buffer, kwds)\u001b[0m\n\u001b[0;32m    460\u001b[0m \u001b[1;33m\u001b[0m\u001b[0m\n\u001b[0;32m    461\u001b[0m     \u001b[1;31m# Create the parser.\u001b[0m\u001b[1;33m\u001b[0m\u001b[1;33m\u001b[0m\u001b[1;33m\u001b[0m\u001b[0m\n\u001b[1;32m--> 462\u001b[1;33m     \u001b[0mparser\u001b[0m \u001b[1;33m=\u001b[0m \u001b[0mTextFileReader\u001b[0m\u001b[1;33m(\u001b[0m\u001b[0mfilepath_or_buffer\u001b[0m\u001b[1;33m,\u001b[0m \u001b[1;33m**\u001b[0m\u001b[0mkwds\u001b[0m\u001b[1;33m)\u001b[0m\u001b[1;33m\u001b[0m\u001b[1;33m\u001b[0m\u001b[0m\n\u001b[0m\u001b[0;32m    463\u001b[0m \u001b[1;33m\u001b[0m\u001b[0m\n\u001b[0;32m    464\u001b[0m     \u001b[1;32mif\u001b[0m \u001b[0mchunksize\u001b[0m \u001b[1;32mor\u001b[0m \u001b[0miterator\u001b[0m\u001b[1;33m:\u001b[0m\u001b[1;33m\u001b[0m\u001b[1;33m\u001b[0m\u001b[0m\n",
      "\u001b[1;32mD:\\Apps\\Anaconda\\lib\\site-packages\\pandas\\io\\parsers.py\u001b[0m in \u001b[0;36m__init__\u001b[1;34m(self, f, engine, **kwds)\u001b[0m\n\u001b[0;32m    817\u001b[0m             \u001b[0mself\u001b[0m\u001b[1;33m.\u001b[0m\u001b[0moptions\u001b[0m\u001b[1;33m[\u001b[0m\u001b[1;34m\"has_index_names\"\u001b[0m\u001b[1;33m]\u001b[0m \u001b[1;33m=\u001b[0m \u001b[0mkwds\u001b[0m\u001b[1;33m[\u001b[0m\u001b[1;34m\"has_index_names\"\u001b[0m\u001b[1;33m]\u001b[0m\u001b[1;33m\u001b[0m\u001b[1;33m\u001b[0m\u001b[0m\n\u001b[0;32m    818\u001b[0m \u001b[1;33m\u001b[0m\u001b[0m\n\u001b[1;32m--> 819\u001b[1;33m         \u001b[0mself\u001b[0m\u001b[1;33m.\u001b[0m\u001b[0m_engine\u001b[0m \u001b[1;33m=\u001b[0m \u001b[0mself\u001b[0m\u001b[1;33m.\u001b[0m\u001b[0m_make_engine\u001b[0m\u001b[1;33m(\u001b[0m\u001b[0mself\u001b[0m\u001b[1;33m.\u001b[0m\u001b[0mengine\u001b[0m\u001b[1;33m)\u001b[0m\u001b[1;33m\u001b[0m\u001b[1;33m\u001b[0m\u001b[0m\n\u001b[0m\u001b[0;32m    820\u001b[0m \u001b[1;33m\u001b[0m\u001b[0m\n\u001b[0;32m    821\u001b[0m     \u001b[1;32mdef\u001b[0m \u001b[0mclose\u001b[0m\u001b[1;33m(\u001b[0m\u001b[0mself\u001b[0m\u001b[1;33m)\u001b[0m\u001b[1;33m:\u001b[0m\u001b[1;33m\u001b[0m\u001b[1;33m\u001b[0m\u001b[0m\n",
      "\u001b[1;32mD:\\Apps\\Anaconda\\lib\\site-packages\\pandas\\io\\parsers.py\u001b[0m in \u001b[0;36m_make_engine\u001b[1;34m(self, engine)\u001b[0m\n\u001b[0;32m   1048\u001b[0m             )\n\u001b[0;32m   1049\u001b[0m         \u001b[1;31m# error: Too many arguments for \"ParserBase\"\u001b[0m\u001b[1;33m\u001b[0m\u001b[1;33m\u001b[0m\u001b[1;33m\u001b[0m\u001b[0m\n\u001b[1;32m-> 1050\u001b[1;33m         \u001b[1;32mreturn\u001b[0m \u001b[0mmapping\u001b[0m\u001b[1;33m[\u001b[0m\u001b[0mengine\u001b[0m\u001b[1;33m]\u001b[0m\u001b[1;33m(\u001b[0m\u001b[0mself\u001b[0m\u001b[1;33m.\u001b[0m\u001b[0mf\u001b[0m\u001b[1;33m,\u001b[0m \u001b[1;33m**\u001b[0m\u001b[0mself\u001b[0m\u001b[1;33m.\u001b[0m\u001b[0moptions\u001b[0m\u001b[1;33m)\u001b[0m  \u001b[1;31m# type: ignore[call-arg]\u001b[0m\u001b[1;33m\u001b[0m\u001b[1;33m\u001b[0m\u001b[0m\n\u001b[0m\u001b[0;32m   1051\u001b[0m \u001b[1;33m\u001b[0m\u001b[0m\n\u001b[0;32m   1052\u001b[0m     \u001b[1;32mdef\u001b[0m \u001b[0m_failover_to_python\u001b[0m\u001b[1;33m(\u001b[0m\u001b[0mself\u001b[0m\u001b[1;33m)\u001b[0m\u001b[1;33m:\u001b[0m\u001b[1;33m\u001b[0m\u001b[1;33m\u001b[0m\u001b[0m\n",
      "\u001b[1;32mD:\\Apps\\Anaconda\\lib\\site-packages\\pandas\\io\\parsers.py\u001b[0m in \u001b[0;36m__init__\u001b[1;34m(self, src, **kwds)\u001b[0m\n\u001b[0;32m   1865\u001b[0m \u001b[1;33m\u001b[0m\u001b[0m\n\u001b[0;32m   1866\u001b[0m         \u001b[1;31m# open handles\u001b[0m\u001b[1;33m\u001b[0m\u001b[1;33m\u001b[0m\u001b[1;33m\u001b[0m\u001b[0m\n\u001b[1;32m-> 1867\u001b[1;33m         \u001b[0mself\u001b[0m\u001b[1;33m.\u001b[0m\u001b[0m_open_handles\u001b[0m\u001b[1;33m(\u001b[0m\u001b[0msrc\u001b[0m\u001b[1;33m,\u001b[0m \u001b[0mkwds\u001b[0m\u001b[1;33m)\u001b[0m\u001b[1;33m\u001b[0m\u001b[1;33m\u001b[0m\u001b[0m\n\u001b[0m\u001b[0;32m   1868\u001b[0m         \u001b[1;32massert\u001b[0m \u001b[0mself\u001b[0m\u001b[1;33m.\u001b[0m\u001b[0mhandles\u001b[0m \u001b[1;32mis\u001b[0m \u001b[1;32mnot\u001b[0m \u001b[1;32mNone\u001b[0m\u001b[1;33m\u001b[0m\u001b[1;33m\u001b[0m\u001b[0m\n\u001b[0;32m   1869\u001b[0m         \u001b[1;32mfor\u001b[0m \u001b[0mkey\u001b[0m \u001b[1;32min\u001b[0m \u001b[1;33m(\u001b[0m\u001b[1;34m\"storage_options\"\u001b[0m\u001b[1;33m,\u001b[0m \u001b[1;34m\"encoding\"\u001b[0m\u001b[1;33m,\u001b[0m \u001b[1;34m\"memory_map\"\u001b[0m\u001b[1;33m,\u001b[0m \u001b[1;34m\"compression\"\u001b[0m\u001b[1;33m)\u001b[0m\u001b[1;33m:\u001b[0m\u001b[1;33m\u001b[0m\u001b[1;33m\u001b[0m\u001b[0m\n",
      "\u001b[1;32mD:\\Apps\\Anaconda\\lib\\site-packages\\pandas\\io\\parsers.py\u001b[0m in \u001b[0;36m_open_handles\u001b[1;34m(self, src, kwds)\u001b[0m\n\u001b[0;32m   1360\u001b[0m         \u001b[0mLet\u001b[0m \u001b[0mthe\u001b[0m \u001b[0mreaders\u001b[0m \u001b[0mopen\u001b[0m \u001b[0mIOHanldes\u001b[0m \u001b[0mafter\u001b[0m \u001b[0mthey\u001b[0m \u001b[0mare\u001b[0m \u001b[0mdone\u001b[0m \u001b[1;32mwith\u001b[0m \u001b[0mtheir\u001b[0m \u001b[0mpotential\u001b[0m \u001b[0mraises\u001b[0m\u001b[1;33m.\u001b[0m\u001b[1;33m\u001b[0m\u001b[1;33m\u001b[0m\u001b[0m\n\u001b[0;32m   1361\u001b[0m         \"\"\"\n\u001b[1;32m-> 1362\u001b[1;33m         self.handles = get_handle(\n\u001b[0m\u001b[0;32m   1363\u001b[0m             \u001b[0msrc\u001b[0m\u001b[1;33m,\u001b[0m\u001b[1;33m\u001b[0m\u001b[1;33m\u001b[0m\u001b[0m\n\u001b[0;32m   1364\u001b[0m             \u001b[1;34m\"r\"\u001b[0m\u001b[1;33m,\u001b[0m\u001b[1;33m\u001b[0m\u001b[1;33m\u001b[0m\u001b[0m\n",
      "\u001b[1;32mD:\\Apps\\Anaconda\\lib\\site-packages\\pandas\\io\\common.py\u001b[0m in \u001b[0;36mget_handle\u001b[1;34m(path_or_buf, mode, encoding, compression, memory_map, is_text, errors, storage_options)\u001b[0m\n\u001b[0;32m    640\u001b[0m                 \u001b[0merrors\u001b[0m \u001b[1;33m=\u001b[0m \u001b[1;34m\"replace\"\u001b[0m\u001b[1;33m\u001b[0m\u001b[1;33m\u001b[0m\u001b[0m\n\u001b[0;32m    641\u001b[0m             \u001b[1;31m# Encoding\u001b[0m\u001b[1;33m\u001b[0m\u001b[1;33m\u001b[0m\u001b[1;33m\u001b[0m\u001b[0m\n\u001b[1;32m--> 642\u001b[1;33m             handle = open(\n\u001b[0m\u001b[0;32m    643\u001b[0m                 \u001b[0mhandle\u001b[0m\u001b[1;33m,\u001b[0m\u001b[1;33m\u001b[0m\u001b[1;33m\u001b[0m\u001b[0m\n\u001b[0;32m    644\u001b[0m                 \u001b[0mioargs\u001b[0m\u001b[1;33m.\u001b[0m\u001b[0mmode\u001b[0m\u001b[1;33m,\u001b[0m\u001b[1;33m\u001b[0m\u001b[1;33m\u001b[0m\u001b[0m\n",
      "\u001b[1;31mFileNotFoundError\u001b[0m: [Errno 2] No such file or directory: '../../processed/fixed_broadband_density.csv'"
     ]
    }
   ],
   "source": [
    "indicators[1]\n",
    "\n",
    "# load data\n",
    "indicator = indicators[1]\n",
    "print(indicator)\n",
    "bf = bnames[bnames['Indicator']==indicator]['Filename'].values[0]\n",
    "print(bf)\n",
    "\n",
    "df = pd.read_csv('../../processed/{}.csv'.format(bf))"
   ]
  },
  {
   "cell_type": "code",
   "execution_count": null,
   "id": "53b0f8d5",
   "metadata": {},
   "outputs": [],
   "source": [
    "### 3. % of population covered by internet connectivity"
   ]
  },
  {
   "cell_type": "code",
   "execution_count": null,
   "id": "999e08b3",
   "metadata": {},
   "outputs": [],
   "source": [
    "indicators[2]\n",
    "\n",
    "# load data\n",
    "indicator = indicators[2]\n",
    "print(indicator)\n",
    "bf = bnames[bnames['Indicator']==indicator]['Filename'].values[0]\n",
    "print(bf)\n",
    "\n",
    "df = pd.read_csv('../../processed/{}.csv'.format(bf))"
   ]
  },
  {
   "cell_type": "code",
   "execution_count": null,
   "id": "53302f88",
   "metadata": {},
   "outputs": [],
   "source": [
    "### 4. % of population covered by mobile 2G"
   ]
  },
  {
   "cell_type": "code",
   "execution_count": null,
   "id": "41f62d02",
   "metadata": {},
   "outputs": [],
   "source": [
    "indicators[3]"
   ]
  },
  {
   "cell_type": "code",
   "execution_count": null,
   "id": "789c79af",
   "metadata": {},
   "outputs": [],
   "source": [
    "# load data\n",
    "indicator = indicators[3]\n",
    "print(indicator)\n",
    "bf = bnames[bnames['Indicator']==indicator]['Filename'].values[0]\n",
    "print(bf)\n",
    "\n",
    "df = pd.read_csv('../../processed/{}.csv'.format(bf))"
   ]
  },
  {
   "cell_type": "code",
   "execution_count": null,
   "id": "9504bf09",
   "metadata": {},
   "outputs": [],
   "source": [
    "df.head(10)"
   ]
  },
  {
   "cell_type": "code",
   "execution_count": null,
   "id": "5b1f2cd9",
   "metadata": {},
   "outputs": [],
   "source": [
    "# filter most recent year\n",
    "df = df[(df.Year==2019)]\n"
   ]
  },
  {
   "cell_type": "code",
   "execution_count": null,
   "id": "8e3e4e36",
   "metadata": {},
   "outputs": [],
   "source": [
    "# create standard columns\n",
    "# df.rename(columns={'COUNTRY/ECONOMY':'Country Name'}, inplace=True)\n",
    "df['higher_is_better'] = True\n",
    "df['Indicator'] = indicator\n",
    "df['data_col'] = df['2G Coverage'] \n",
    "\n",
    "min_rank = df['data_col'].min()\n",
    "max_rank = df['data_col'].max()\n",
    "\n",
    "# transform 0-1 rank into 1-6\n",
    "df['new_rank_score'] = df['data_col'].apply(lambda row: convert_rank(row,old_min=min_rank,old_max=max_rank))"
   ]
  },
  {
   "cell_type": "code",
   "execution_count": null,
   "id": "3184954d",
   "metadata": {},
   "outputs": [],
   "source": [
    "df[['Country','Year','Indicator','data_col','new_rank_score','higher_is_better']].head(15)"
   ]
  },
  {
   "cell_type": "code",
   "execution_count": null,
   "id": "f565ffe5",
   "metadata": {},
   "outputs": [],
   "source": [
    "### 5. % of population covered by mobile 3G"
   ]
  },
  {
   "cell_type": "code",
   "execution_count": null,
   "id": "b64b4113",
   "metadata": {},
   "outputs": [],
   "source": [
    "indicators[4]\n",
    "\n",
    "# load data\n",
    "indicator = indicators[4]\n",
    "print(indicator)\n",
    "bf = bnames[bnames['Indicator']==indicator]['Filename'].values[0]\n",
    "print(bf)\n",
    "\n",
    "df = pd.read_csv('../../processed/{}.csv'.format(bf))"
   ]
  },
  {
   "cell_type": "code",
   "execution_count": null,
   "id": "4eeafdcc",
   "metadata": {},
   "outputs": [],
   "source": [
    "df.head(10)"
   ]
  },
  {
   "cell_type": "code",
   "execution_count": null,
   "id": "73ca8fb5",
   "metadata": {},
   "outputs": [],
   "source": [
    "# filter most recent year\n",
    "df = df[(df.Year==2019)]\n",
    "\n",
    "# create standard columns\n",
    "# df.rename(columns={'COUNTRY/ECONOMY':'Country Name'}, inplace=True)\n",
    "df['higher_is_better'] = True\n",
    "df['Indicator'] = indicator\n",
    "df['data_col'] = df['3G Coverage'] \n",
    "\n",
    "min_rank = df['data_col'].min()\n",
    "max_rank = df['data_col'].max()\n",
    "\n",
    "# transform 0-1 rank into 1-6\n",
    "df['new_rank_score'] = df['data_col'].apply(lambda row: convert_rank(row,old_min=min_rank,old_max=max_rank))"
   ]
  },
  {
   "cell_type": "code",
   "execution_count": null,
   "id": "5ba49e65",
   "metadata": {},
   "outputs": [],
   "source": [
    "df[['Country','Year','Indicator','data_col','new_rank_score','higher_is_better']].head(15)"
   ]
  },
  {
   "cell_type": "code",
   "execution_count": null,
   "id": "bb3bd202",
   "metadata": {},
   "outputs": [],
   "source": [
    "### 6. % of population covered by mobile 4G"
   ]
  },
  {
   "cell_type": "code",
   "execution_count": null,
   "id": "e41294d4",
   "metadata": {},
   "outputs": [],
   "source": [
    "indicators[5]\n",
    "\n",
    "# load data\n",
    "indicator = indicators[5]\n",
    "print(indicator)\n",
    "bf = bnames[bnames['Indicator']==indicator]['Filename'].values[0]\n",
    "print(bf)\n",
    "\n",
    "df = pd.read_csv('../../processed/{}.csv'.format(bf))"
   ]
  },
  {
   "cell_type": "code",
   "execution_count": null,
   "id": "f389effe",
   "metadata": {},
   "outputs": [],
   "source": [
    "df.head(10)"
   ]
  },
  {
   "cell_type": "code",
   "execution_count": null,
   "id": "df354f02",
   "metadata": {},
   "outputs": [],
   "source": [
    "# filter most recent year\n",
    "df = df[(df.Year==2019)]\n",
    "\n",
    "# create standard columns\n",
    "# df.rename(columns={'COUNTRY/ECONOMY':'Country Name'}, inplace=True)\n",
    "df['higher_is_better'] = True\n",
    "df['Indicator'] = indicator\n",
    "df['data_col'] = df['4G Coverage'] \n",
    "\n",
    "min_rank = df['data_col'].min()\n",
    "max_rank = df['data_col'].max()\n",
    "\n",
    "# transform 0-1 rank into 1-6\n",
    "df['new_rank_score'] = df['data_col'].apply(lambda row: convert_rank(row,old_min=min_rank,old_max=max_rank))"
   ]
  },
  {
   "cell_type": "code",
   "execution_count": null,
   "id": "849e1438",
   "metadata": {},
   "outputs": [],
   "source": [
    "df[['Country','Year','Indicator','data_col','new_rank_score','higher_is_better']].head(15)"
   ]
  },
  {
   "cell_type": "code",
   "execution_count": null,
   "id": "6d70aef4",
   "metadata": {},
   "outputs": [],
   "source": [
    "### 7. % of population covered by mobile 5G"
   ]
  },
  {
   "cell_type": "code",
   "execution_count": null,
   "id": "c2f37fdb",
   "metadata": {},
   "outputs": [],
   "source": [
    "indicators[6]\n",
    "\n",
    "# load data\n",
    "indicator = indicators[6]\n",
    "print(indicator)\n",
    "bf = bnames[bnames['Indicator']==indicator]['Filename'].values[0]\n",
    "print(bf)\n",
    "\n",
    "df = pd.read_csv('../../processed/{}.csv'.format(bf))"
   ]
  },
  {
   "cell_type": "code",
   "execution_count": null,
   "id": "572363fc",
   "metadata": {},
   "outputs": [],
   "source": [
    "df.head(10)"
   ]
  },
  {
   "cell_type": "code",
   "execution_count": null,
   "id": "963432d6",
   "metadata": {},
   "outputs": [],
   "source": [
    "# filter most recent year\n",
    "df = df[(df.Year==2019)]\n",
    "\n",
    "# create standard columns\n",
    "# df.rename(columns={'COUNTRY/ECONOMY':'Country Name'}, inplace=True)\n",
    "df['higher_is_better'] = True\n",
    "df['Indicator'] = indicator\n",
    "df['data_col'] = df['5G Coverage'] \n",
    "\n",
    "min_rank = df['data_col'].min()\n",
    "max_rank = df['data_col'].max()\n",
    "\n",
    "# transform 0-1 rank into 1-6\n",
    "df['new_rank_score'] = df['data_col'].apply(lambda row: convert_rank(row,old_min=min_rank,old_max=max_rank))"
   ]
  },
  {
   "cell_type": "code",
   "execution_count": null,
   "id": "7a9c38bd",
   "metadata": {},
   "outputs": [],
   "source": [
    "df[['Country','Year','Indicator','data_col','new_rank_score','higher_is_better']].head(15)"
   ]
  },
  {
   "cell_type": "code",
   "execution_count": null,
   "id": "10d9ac90",
   "metadata": {},
   "outputs": [],
   "source": [
    "### 8. Mobile Coverage Maps"
   ]
  },
  {
   "cell_type": "code",
   "execution_count": null,
   "id": "2d680ea7",
   "metadata": {},
   "outputs": [],
   "source": [
    "indicators[7]\n",
    "\n",
    "# load data\n",
    "indicator = indicators[7]\n",
    "print(indicator)\n",
    "bf = bnames[bnames['Indicator']==indicator]['Filename'].values[0]\n",
    "print(bf)\n",
    "\n",
    "df = pd.read_csv('../../processed/{}.csv'.format(bf))"
   ]
  },
  {
   "cell_type": "code",
   "execution_count": null,
   "id": "b6c0893b",
   "metadata": {},
   "outputs": [],
   "source": [
    "### 9. Electricity Density"
   ]
  },
  {
   "cell_type": "code",
   "execution_count": null,
   "id": "6dfdbb3c",
   "metadata": {},
   "outputs": [],
   "source": [
    "indicators[8]\n",
    "\n",
    "# load data\n",
    "indicator = indicators[8]\n",
    "print(indicator)\n",
    "bf = bnames[bnames['Indicator']==indicator]['Filename'].values[0]\n",
    "print(bf)\n",
    "\n",
    "df = pd.read_csv('../../processed/{}.csv'.format(bf))"
   ]
  },
  {
   "cell_type": "code",
   "execution_count": null,
   "id": "043c02e2",
   "metadata": {},
   "outputs": [],
   "source": [
    "df.head(10)"
   ]
  },
  {
   "cell_type": "code",
   "execution_count": null,
   "id": "d038de98",
   "metadata": {},
   "outputs": [],
   "source": [
    "# create standard columns\n",
    "# df.rename(columns={'COUNTRY/ECONOMY':'Country Name'}, inplace=True)\n",
    "df['higher_is_better'] = True\n",
    "df['Indicator'] = indicator\n",
    "df['data_col'] = df['2017'] \n",
    "df['Country'] = df['Unnamed: 28']\n",
    "df['Year'] = 2017\n",
    "\n",
    "min_rank = df['data_col'].min()\n",
    "max_rank = df['data_col'].max()\n",
    "\n",
    "# transform 0-1 rank into 1-6\n",
    "df['new_rank_score'] = df['data_col'].apply(lambda row: convert_rank(row,old_min=min_rank,old_max=max_rank))"
   ]
  },
  {
   "cell_type": "code",
   "execution_count": null,
   "id": "f231c229",
   "metadata": {},
   "outputs": [],
   "source": [
    "df[['Country','Year','Indicator','data_col','new_rank_score','higher_is_better']].head(15)"
   ]
  },
  {
   "cell_type": "code",
   "execution_count": null,
   "id": "eae74b3d",
   "metadata": {},
   "outputs": [],
   "source": [
    "### 10. % of population covered by electricity"
   ]
  },
  {
   "cell_type": "code",
   "execution_count": null,
   "id": "af2344c9",
   "metadata": {},
   "outputs": [],
   "source": [
    "indicators[9]\n",
    "\n",
    "# load data\n",
    "indicator = indicators[9]\n",
    "print(indicator)\n",
    "bf = bnames[bnames['Indicator']==indicator]['Filename'].values[0]\n",
    "print(bf)\n",
    "\n",
    "df = pd.read_csv('../../processed/{}.csv'.format(bf))"
   ]
  },
  {
   "cell_type": "code",
   "execution_count": null,
   "id": "ec938a9f",
   "metadata": {},
   "outputs": [],
   "source": [
    "### 11. % of population covered by electricity"
   ]
  },
  {
   "cell_type": "code",
   "execution_count": null,
   "id": "60c61b5f",
   "metadata": {},
   "outputs": [],
   "source": [
    "indicators[10]\n",
    "\n",
    "# load data\n",
    "indicator = indicators[10]\n",
    "print(indicator)\n",
    "bf = bnames[bnames['Indicator']==indicator]['Filename'].values[0]\n",
    "print(bf)\n",
    "\n",
    "df = pd.read_csv('../../processed/{}.csv'.format(bf))"
   ]
  },
  {
   "cell_type": "code",
   "execution_count": null,
   "id": "4b8d2af9",
   "metadata": {},
   "outputs": [],
   "source": [
    "df.head(10)"
   ]
  },
  {
   "cell_type": "code",
   "execution_count": null,
   "id": "4ff55e09",
   "metadata": {},
   "outputs": [],
   "source": [
    "# The data needs to be transposed as countries are now in columns, not rows, which could present problems for later."
   ]
  },
  {
   "cell_type": "code",
   "execution_count": null,
   "id": "02400ad1",
   "metadata": {},
   "outputs": [],
   "source": [
    "### 12. Electricity Environmental Sustainability"
   ]
  },
  {
   "cell_type": "code",
   "execution_count": null,
   "id": "e8920862",
   "metadata": {},
   "outputs": [],
   "source": [
    "indicators[11]\n",
    "\n",
    "# load data\n",
    "indicator = indicators[11]\n",
    "print(indicator)\n",
    "bf = bnames[bnames['Indicator']==indicator]['Filename'].values[0]\n",
    "print(bf)\n",
    "\n",
    "df = pd.read_csv('../../processed/{}.csv'.format(bf))"
   ]
  },
  {
   "cell_type": "code",
   "execution_count": null,
   "id": "0fb83b05",
   "metadata": {},
   "outputs": [],
   "source": [
    "### 13. Electrical Distribution Grid Maps"
   ]
  },
  {
   "cell_type": "code",
   "execution_count": null,
   "id": "7f1b0e7a",
   "metadata": {},
   "outputs": [],
   "source": [
    "indicators[12]\n",
    "\n",
    "# load data\n",
    "indicator = indicators[12]\n",
    "print(indicator)\n",
    "bf = bnames[bnames['Indicator']==indicator]['Filename'].values[0]\n",
    "print(bf)\n",
    "\n",
    "df = pd.read_csv('../../processed/{}.csv'.format(bf))"
   ]
  },
  {
   "cell_type": "code",
   "execution_count": null,
   "id": "87a21c58",
   "metadata": {},
   "outputs": [],
   "source": [
    "df.head(10)\n",
    "#No country names in the data file"
   ]
  },
  {
   "cell_type": "code",
   "execution_count": null,
   "id": "628a8573",
   "metadata": {},
   "outputs": [],
   "source": []
  },
  {
   "cell_type": "code",
   "execution_count": null,
   "id": "ab7d7125",
   "metadata": {},
   "outputs": [],
   "source": [
    "### 14. Cellphone Signal Density"
   ]
  },
  {
   "cell_type": "code",
   "execution_count": null,
   "id": "20e92287",
   "metadata": {},
   "outputs": [],
   "source": [
    "indicators[13]\n",
    "\n",
    "# load data\n",
    "indicator = indicators[13]\n",
    "print(indicator)\n",
    "bf = bnames[bnames['Indicator']==indicator]['Filename'].values[0]\n",
    "print(bf)\n",
    "\n",
    "df = pd.read_csv('../../processed/{}.csv'.format(bf))"
   ]
  },
  {
   "cell_type": "code",
   "execution_count": null,
   "id": "90d879af",
   "metadata": {},
   "outputs": [],
   "source": [
    "df.head(10)"
   ]
  },
  {
   "cell_type": "code",
   "execution_count": null,
   "id": "a865531b",
   "metadata": {},
   "outputs": [],
   "source": [
    "# filter most recent year\n",
    "df = df[(df.Year==2019)]\n",
    "\n",
    "# create standard columns\n",
    "# df.rename(columns={'COUNTRY/ECONOMY':'Country Name'}, inplace=True)\n",
    "df['higher_is_better'] = True\n",
    "df['Indicator'] = indicator\n",
    "df['data_col'] = df['Network coverage'] \n",
    "\n",
    "min_rank = df['data_col'].min()\n",
    "max_rank = df['data_col'].max()\n",
    "\n",
    "# transform 0-1 rank into 1-6\n",
    "df['new_rank_score'] = df['data_col'].apply(lambda row: convert_rank(row,old_min=min_rank,old_max=max_rank))"
   ]
  },
  {
   "cell_type": "code",
   "execution_count": null,
   "id": "bc4a176f",
   "metadata": {},
   "outputs": [],
   "source": [
    "df[['Country','Year','Indicator','data_col','new_rank_score','higher_is_better']].head(15)"
   ]
  },
  {
   "cell_type": "code",
   "execution_count": null,
   "id": "c44107f5",
   "metadata": {},
   "outputs": [],
   "source": [
    "### 15. Telecommunication Infrastructure Index (TII)"
   ]
  },
  {
   "cell_type": "code",
   "execution_count": null,
   "id": "dd79d3fa",
   "metadata": {
    "scrolled": true
   },
   "outputs": [],
   "source": [
    "indicators[14]\n",
    "\n",
    "# load data\n",
    "indicator = indicators[14]\n",
    "print(indicator)\n",
    "bf = bnames[bnames['Indicator']==indicator]['Filename'].values[0]\n",
    "print(bf)\n",
    "\n",
    "df = pd.read_csv('../../processed/{}.csv'.format(bf))"
   ]
  },
  {
   "cell_type": "code",
   "execution_count": null,
   "id": "7516fda0",
   "metadata": {},
   "outputs": [],
   "source": [
    "df.head(10)"
   ]
  },
  {
   "cell_type": "code",
   "execution_count": null,
   "id": "cbbbc800",
   "metadata": {},
   "outputs": [],
   "source": [
    "# create standard columns\n",
    "# df.rename(columns={'COUNTRY/ECONOMY':'Country Name'}, inplace=True)\n",
    "\n",
    "df['higher_is_better'] = True\n",
    "df['Indicator'] = indicator\n",
    "df['data_col'] = df['Telecommunication Infrastructure Index'] \n",
    "df['Year'] = df['Survey Year']\n",
    "\n",
    "min_rank = df['data_col'].min()\n",
    "max_rank = df['data_col'].max()\n",
    "\n",
    "# transform 0-1 rank into 1-6\n",
    "df['new_rank_score'] = df['data_col'].apply(lambda row: convert_rank(row,old_min=min_rank,old_max=max_rank))\n",
    "\n",
    "df.rename(columns={'Country Name':'Country'}, inplace=True)"
   ]
  },
  {
   "cell_type": "code",
   "execution_count": null,
   "id": "1b069fed",
   "metadata": {},
   "outputs": [],
   "source": [
    "df[['Country','Year','Indicator','data_col','new_rank_score','higher_is_better']].head(15)"
   ]
  },
  {
   "cell_type": "code",
   "execution_count": null,
   "id": "617888fb",
   "metadata": {},
   "outputs": [],
   "source": [
    "### 16. GSMA Mobile Connectivity Index"
   ]
  },
  {
   "cell_type": "code",
   "execution_count": null,
   "id": "ec984cc4",
   "metadata": {},
   "outputs": [],
   "source": [
    "indicators[15]\n",
    "\n",
    "# load data\n",
    "indicator = indicators[15]\n",
    "print(indicator)\n",
    "bf = bnames[bnames['Indicator']==indicator]['Filename'].values[0]\n",
    "print(bf)\n",
    "\n",
    "df = pd.read_csv('../../processed/{}.csv'.format(bf))"
   ]
  },
  {
   "cell_type": "code",
   "execution_count": null,
   "id": "363c375f",
   "metadata": {},
   "outputs": [],
   "source": [
    "df.head(10)"
   ]
  },
  {
   "cell_type": "code",
   "execution_count": null,
   "id": "cfdd61b9",
   "metadata": {},
   "outputs": [],
   "source": [
    "# filter most recent year\n",
    "df = df[(df.Year==2019)]\n",
    "\n",
    "# create standard columns\n",
    "# df.rename(columns={'COUNTRY/ECONOMY':'Country Name'}, inplace=True)\n",
    "\n",
    "df['higher_is_better'] = True\n",
    "df['Indicator'] = indicator\n",
    "df['data_col'] = df['Index'] \n",
    "\n",
    "min_rank = df['data_col'].min()\n",
    "max_rank = df['data_col'].max()\n",
    "\n",
    "# transform 0-1 rank into 1-6\n",
    "df['new_rank_score'] = df['data_col'].apply(lambda row: convert_rank(row,old_min=min_rank,old_max=max_rank))"
   ]
  },
  {
   "cell_type": "code",
   "execution_count": null,
   "id": "236f5d44",
   "metadata": {},
   "outputs": [],
   "source": [
    "df[['Country','Year','Indicator','data_col','new_rank_score','higher_is_better']].head(15)"
   ]
  },
  {
   "cell_type": "code",
   "execution_count": null,
   "id": "5da6ca0d",
   "metadata": {},
   "outputs": [],
   "source": [
    "### 17. Spectrum Allocated to Mobile Providers"
   ]
  },
  {
   "cell_type": "code",
   "execution_count": null,
   "id": "3e3f2638",
   "metadata": {},
   "outputs": [],
   "source": [
    "indicators[16]\n",
    "\n",
    "# load data\n",
    "indicator = indicators[16]\n",
    "print(indicator)\n",
    "bf = bnames[bnames['Indicator']==indicator]['Filename'].values[0]\n",
    "print(bf)\n",
    "\n",
    "df = pd.read_csv('../../processed/{}.csv'.format(bf))"
   ]
  },
  {
   "cell_type": "code",
   "execution_count": null,
   "id": "b0d6e66d",
   "metadata": {},
   "outputs": [],
   "source": [
    "df.head(15)"
   ]
  },
  {
   "cell_type": "code",
   "execution_count": null,
   "id": "f9bb9371",
   "metadata": {},
   "outputs": [],
   "source": [
    "# filter most recent year\n",
    "df = df[(df.Year==2019)]\n",
    "\n",
    "# create standard columns\n",
    "# df.rename(columns={'COUNTRY/ECONOMY':'Country Name'}, inplace=True)\n",
    "\n",
    "df['higher_is_better'] = True\n",
    "df['Indicator'] = indicator\n",
    "df['data_col'] = df['Spectrum'] \n",
    "\n",
    "min_rank = df['data_col'].min()\n",
    "max_rank = df['data_col'].max()\n",
    "\n",
    "# transform 0-1 rank into 1-6\n",
    "df['new_rank_score'] = df['data_col'].apply(lambda row: convert_rank(row,old_min=min_rank,old_max=max_rank))"
   ]
  },
  {
   "cell_type": "code",
   "execution_count": null,
   "id": "1afc9ba6",
   "metadata": {},
   "outputs": [],
   "source": [
    "df[['Country','Year','Indicator','data_col','new_rank_score','higher_is_better']].head(15)"
   ]
  },
  {
   "cell_type": "code",
   "execution_count": null,
   "id": "01e22381",
   "metadata": {},
   "outputs": [],
   "source": [
    "### 18. Internet Exchange Points (IXPs) "
   ]
  },
  {
   "cell_type": "code",
   "execution_count": null,
   "id": "354a782c",
   "metadata": {},
   "outputs": [],
   "source": [
    "indicators[17]\n",
    "\n",
    "# load data\n",
    "indicator = indicators[17]\n",
    "print(indicator)\n",
    "bf = bnames[bnames['Indicator']==indicator]['Filename'].values[0]\n",
    "print(bf)\n",
    "\n",
    "df = pd.read_csv('../../processed/{}.csv'.format(bf))"
   ]
  },
  {
   "cell_type": "code",
   "execution_count": null,
   "id": "32702014",
   "metadata": {},
   "outputs": [],
   "source": [
    "df.head(15)"
   ]
  },
  {
   "cell_type": "code",
   "execution_count": null,
   "id": "a20ea337",
   "metadata": {},
   "outputs": [],
   "source": [
    "agg_df = df.groupby('Country')['Country'].count()\n",
    "agg_df"
   ]
  },
  {
   "cell_type": "code",
   "execution_count": null,
   "id": "ad98bd53",
   "metadata": {},
   "outputs": [],
   "source": [
    "count = df['Country'].value_counts()\n",
    "\n",
    "# create standard columns\n",
    "# df.rename(columns={'COUNTRY/ECONOMY':'Country Name'}, inplace=True)\n",
    "\n",
    "df['higher_is_better'] = True\n",
    "df['Indicator'] = indicator\n",
    "df['data_col'] = df['Spectrum'] \n",
    "\n",
    "min_rank = df['data_col'].min()\n",
    "max_rank = df['data_col'].max()\n",
    "\n",
    "# transform 0-1 rank into 1-6\n",
    "df['new_rank_score'] = df['data_col'].apply(lambda row: convert_rank(row,old_min=min_rank,old_max=max_rank))"
   ]
  },
  {
   "cell_type": "code",
   "execution_count": null,
   "id": "b3355e25",
   "metadata": {},
   "outputs": [],
   "source": [
    "### 19. ISP Speeds - Fixed"
   ]
  },
  {
   "cell_type": "code",
   "execution_count": null,
   "id": "ea073d16",
   "metadata": {},
   "outputs": [],
   "source": [
    "indicators[18]\n",
    "\n",
    "# load data\n",
    "indicator = indicators[18]\n",
    "print(indicator)\n",
    "bf = bnames[bnames['Indicator']==indicator]['Filename'].values[0]\n",
    "print(bf)\n",
    "\n",
    "df = pd.read_csv('../../processed/{}.csv'.format(bf))\n",
    "\n",
    "# Convert yaml to csv"
   ]
  },
  {
   "cell_type": "code",
   "execution_count": null,
   "id": "db96a823",
   "metadata": {},
   "outputs": [],
   "source": [
    "df.head(15)"
   ]
  },
  {
   "cell_type": "code",
   "execution_count": null,
   "id": "5ccab760",
   "metadata": {},
   "outputs": [],
   "source": [
    "### 20. SP Speeds - Mobile"
   ]
  },
  {
   "cell_type": "code",
   "execution_count": null,
   "id": "c525d729",
   "metadata": {},
   "outputs": [],
   "source": [
    "# May also have to convert yaml to csv"
   ]
  },
  {
   "cell_type": "code",
   "execution_count": null,
   "id": "059aeefb",
   "metadata": {},
   "outputs": [],
   "source": [
    "### 21. ISP internet download speed average"
   ]
  },
  {
   "cell_type": "code",
   "execution_count": null,
   "id": "e8f1579d",
   "metadata": {},
   "outputs": [],
   "source": [
    "indicators[20]\n",
    "\n",
    "# load data\n",
    "indicator = indicators[20]\n",
    "print(indicator)\n",
    "bf = bnames[bnames['Indicator']==indicator]['Filename'].values[0]\n",
    "print(bf)\n",
    "\n",
    "df = pd.read_csv('../../processed/{}.csv'.format(bf))\n",
    "\n",
    "# Waiting for internet_speed to be added to the processed folder"
   ]
  },
  {
   "cell_type": "code",
   "execution_count": null,
   "id": "5928e78b",
   "metadata": {},
   "outputs": [],
   "source": [
    "df.head(15)"
   ]
  },
  {
   "cell_type": "code",
   "execution_count": null,
   "id": "4f45e03b",
   "metadata": {},
   "outputs": [],
   "source": [
    "# create standard columns\n",
    "# df.rename(columns={'COUNTRY/ECONOMY':'Country Name'}, inplace=True)\n",
    "\n",
    "df['higher_is_better'] = True\n",
    "df['Indicator'] = indicator\n",
    "df['data_col'] = df['Download speed (Mbps)'] \n",
    "\n",
    "min_rank = df['data_col'].min()\n",
    "max_rank = df['data_col'].max()\n",
    "\n",
    "# transform 0-1 rank into 1-6\n",
    "df['new_rank_score'] = df['data_col'].apply(lambda row: convert_rank(row,old_min=min_rank,old_max=max_rank))"
   ]
  },
  {
   "cell_type": "code",
   "execution_count": null,
   "id": "9370b6b9",
   "metadata": {},
   "outputs": [],
   "source": [
    "df[['Country','Year','Indicator','data_col','new_rank_score','higher_is_better']].head(15)"
   ]
  },
  {
   "cell_type": "code",
   "execution_count": null,
   "id": "0727974b",
   "metadata": {},
   "outputs": [],
   "source": [
    "### 22. Mobile dowload speed at the slowest hour"
   ]
  },
  {
   "cell_type": "code",
   "execution_count": null,
   "id": "42f61ff7",
   "metadata": {},
   "outputs": [],
   "source": [
    "indicators[21]\n",
    "\n",
    "# load data\n",
    "indicator = indicators[21]\n",
    "print(indicator)\n",
    "bf = bnames[bnames['Indicator']==indicator]['Filename'].values[0]\n",
    "print(bf)\n",
    "\n",
    "df = pd.read_csv('../../processed/{}.csv'.format(bf))\n",
    "\n",
    "# Waiting for internet_speed to be added to the processed folder"
   ]
  },
  {
   "cell_type": "code",
   "execution_count": null,
   "id": "ebce9128",
   "metadata": {},
   "outputs": [],
   "source": [
    "df.head(15)"
   ]
  },
  {
   "cell_type": "code",
   "execution_count": null,
   "id": "002c38cf",
   "metadata": {},
   "outputs": [],
   "source": [
    "# filter most recent year\n",
    "df = df[(df.Year==2019)]\n",
    "\n",
    "# create standard columns\n",
    "# df.rename(columns={'COUNTRY/ECONOMY':'Country Name'}, inplace=True)\n",
    "\n",
    "df['higher_is_better'] = True\n",
    "df['Indicator'] = indicator\n",
    "df['data_col'] = df['Mobile latencies'] \n",
    "\n",
    "min_rank = df['data_col'].min()\n",
    "max_rank = df['data_col'].max()\n",
    "\n",
    "# transform 0-1 rank into 1-6\n",
    "df['new_rank_score'] = df['data_col'].apply(lambda row: convert_rank(row,old_min=min_rank,old_max=max_rank))"
   ]
  },
  {
   "cell_type": "code",
   "execution_count": null,
   "id": "75db7436",
   "metadata": {},
   "outputs": [],
   "source": [
    "df[['Country','Year','Indicator','data_col','new_rank_score','higher_is_better']].head(15)"
   ]
  },
  {
   "cell_type": "code",
   "execution_count": null,
   "id": "3b23dc4c",
   "metadata": {},
   "outputs": [],
   "source": []
  },
  {
   "cell_type": "code",
   "execution_count": null,
   "id": "ce590200",
   "metadata": {},
   "outputs": [],
   "source": [
    "### 23. Mobile download speed average"
   ]
  },
  {
   "cell_type": "code",
   "execution_count": null,
   "id": "3a77de64",
   "metadata": {},
   "outputs": [],
   "source": [
    "indicators[22]\n",
    "\n",
    "# load data\n",
    "indicator = indicators[22]\n",
    "print(indicator)\n",
    "bf = bnames[bnames['Indicator']==indicator]['Filename'].values[0]\n",
    "print(bf)\n",
    "\n",
    "df = pd.read_csv('../../processed/{}.csv'.format(bf))"
   ]
  },
  {
   "cell_type": "code",
   "execution_count": null,
   "id": "cc971a61",
   "metadata": {},
   "outputs": [],
   "source": [
    "df.head(15)"
   ]
  },
  {
   "cell_type": "code",
   "execution_count": null,
   "id": "31656971",
   "metadata": {},
   "outputs": [],
   "source": [
    "# create standard columns\n",
    "# df.rename(columns={'COUNTRY/ECONOMY':'Country Name'}, inplace=True)\n",
    "\n",
    "df['higher_is_better'] = True\n",
    "df['Indicator'] = indicator\n",
    "df['data_col'] = df['Mbps'] \n",
    "\n",
    "min_rank = df['data_col'].min()\n",
    "max_rank = df['data_col'].max()\n",
    "\n",
    "# transform 0-1 rank into 1-6\n",
    "df['new_rank_score'] = df['data_col'].apply(lambda row: convert_rank(row,old_min=min_rank,old_max=max_rank))"
   ]
  },
  {
   "cell_type": "code",
   "execution_count": null,
   "id": "18d122a2",
   "metadata": {},
   "outputs": [],
   "source": [
    "df[['Country','Year','Indicator','data_col','new_rank_score','higher_is_better']].head(15)"
   ]
  },
  {
   "cell_type": "code",
   "execution_count": null,
   "id": "99128c0b",
   "metadata": {},
   "outputs": [],
   "source": []
  },
  {
   "cell_type": "code",
   "execution_count": null,
   "id": "1a63b1d7",
   "metadata": {},
   "outputs": [],
   "source": [
    "### 24. Individuals using the Internet (% of population)"
   ]
  },
  {
   "cell_type": "code",
   "execution_count": null,
   "id": "0533b3d2",
   "metadata": {},
   "outputs": [],
   "source": [
    "indicators[23]\n",
    "\n",
    "# load data\n",
    "indicator = indicators[23]\n",
    "print(indicator)\n",
    "bf = bnames[bnames['Indicator']==indicator]['Filename'].values[0]\n",
    "print(bf)\n",
    "\n",
    "df = pd.read_csv('../../processed/{}.csv'.format(bf))"
   ]
  },
  {
   "cell_type": "code",
   "execution_count": null,
   "id": "6364d97e",
   "metadata": {},
   "outputs": [],
   "source": [
    "df.head(15)"
   ]
  },
  {
   "cell_type": "code",
   "execution_count": null,
   "id": "50143943",
   "metadata": {},
   "outputs": [],
   "source": [
    "# create standard columns\n",
    "# df.rename(columns={'COUNTRY/ECONOMY':'Country Name'}, inplace=True)\n",
    "\n",
    "df['higher_is_better'] = True\n",
    "df['Year'] = 2017\n",
    "df['Indicator'] = indicator\n",
    "df['data_col'] = df['2017_value'] \n",
    "df.rename(columns = {'ShortName':'Country'}, inplace=True)\n",
    "\n",
    "min_rank = df['data_col'].min()\n",
    "max_rank = df['data_col'].max()\n",
    "\n",
    "# transform 0-1 rank into 1-6\n",
    "df['new_rank_score'] = df['data_col'].apply(lambda row: convert_rank(row,old_min=min_rank,old_max=max_rank))"
   ]
  },
  {
   "cell_type": "code",
   "execution_count": null,
   "id": "3d4f4b76",
   "metadata": {},
   "outputs": [],
   "source": [
    "df[['Country','Year','Indicator','data_col','new_rank_score','higher_is_better']].head(15)\n",
    "#2019 data is missing too much, switching to 2017"
   ]
  },
  {
   "cell_type": "code",
   "execution_count": null,
   "id": "b3ac7b72",
   "metadata": {},
   "outputs": [],
   "source": [
    "### 25. Mobile cellular subscriptions (per 100 people)"
   ]
  },
  {
   "cell_type": "code",
   "execution_count": null,
   "id": "0093028d",
   "metadata": {},
   "outputs": [],
   "source": [
    "indicators[24]\n",
    "\n",
    "# load data\n",
    "indicator = indicators[24]\n",
    "print(indicator)\n",
    "bf = bnames[bnames['Indicator']==indicator]['Filename'].values[0]\n",
    "print(bf)\n",
    "\n",
    "df = pd.read_csv('../../processed/{}.csv'.format(bf))\n",
    "\n",
    "#Waiting for mobile_cell_sub to be added to processed folder"
   ]
  },
  {
   "cell_type": "code",
   "execution_count": null,
   "id": "69fff9e8",
   "metadata": {},
   "outputs": [],
   "source": [
    "### 26. Average fixed broadband download speeds\t"
   ]
  },
  {
   "cell_type": "code",
   "execution_count": null,
   "id": "f4120d56",
   "metadata": {},
   "outputs": [],
   "source": [
    "indicators[25]\n",
    "\n",
    "# load data\n",
    "indicator = indicators[25]\n",
    "print(indicator)\n",
    "bf = bnames[bnames['Indicator']==indicator]['Filename'].values[0]\n",
    "print(bf)\n",
    "\n",
    "df = pd.read_csv('../../processed/{}.csv'.format(bf))\n"
   ]
  },
  {
   "cell_type": "code",
   "execution_count": null,
   "id": "1c74bf12",
   "metadata": {},
   "outputs": [],
   "source": [
    "df.head(15)"
   ]
  },
  {
   "cell_type": "code",
   "execution_count": null,
   "id": "dda77656",
   "metadata": {},
   "outputs": [],
   "source": [
    "# create standard columns\n",
    "# df.rename(columns={'COUNTRY/ECONOMY':'Country Name'}, inplace=True)\n",
    "\n",
    "df['higher_is_better'] = True\n",
    "df['Year'] = 2021\n",
    "df['Indicator'] = indicator\n",
    "df['data_col'] = df['broadband'] \n",
    "df.rename(columns = {'country':'Country'}, inplace=True)\n",
    "\n",
    "min_rank = df['data_col'].min()\n",
    "max_rank = df['data_col'].max()\n",
    "\n",
    "# transform 0-1 rank into 1-6\n",
    "df['new_rank_score'] = df['data_col'].apply(lambda row: convert_rank(row,old_min=min_rank,old_max=max_rank))"
   ]
  },
  {
   "cell_type": "code",
   "execution_count": null,
   "id": "9bb8cb77",
   "metadata": {},
   "outputs": [],
   "source": [
    "df[['Country','Year','Indicator','data_col','new_rank_score','higher_is_better']].head(15)"
   ]
  },
  {
   "cell_type": "code",
   "execution_count": null,
   "id": "c35b8c69",
   "metadata": {},
   "outputs": [],
   "source": [
    "### 27. Average fixed broadband upload speeds\n",
    "# Must convert yaml to csv"
   ]
  },
  {
   "cell_type": "code",
   "execution_count": null,
   "id": "dc3b2a71",
   "metadata": {},
   "outputs": [],
   "source": [
    "### 28. Average fixed broadband latency\n",
    "# Must convert yaml to csv"
   ]
  },
  {
   "cell_type": "code",
   "execution_count": null,
   "id": "841dcf19",
   "metadata": {},
   "outputs": [],
   "source": [
    "### 29. Postal Coverage"
   ]
  },
  {
   "cell_type": "code",
   "execution_count": null,
   "id": "6696e90a",
   "metadata": {},
   "outputs": [],
   "source": [
    "indicators[28]\n",
    "\n",
    "# load data\n",
    "indicator = indicators[28]\n",
    "print(indicator)\n",
    "bf = bnames[bnames['Indicator']==indicator]['Filename'].values[0]\n",
    "print(bf)\n",
    "\n",
    "df = pd.read_csv('../../processed/{}.csv'.format(bf))"
   ]
  },
  {
   "cell_type": "code",
   "execution_count": null,
   "id": "2f02eb0f",
   "metadata": {},
   "outputs": [],
   "source": [
    "df.head(15)"
   ]
  },
  {
   "cell_type": "code",
   "execution_count": null,
   "id": "f019bbec",
   "metadata": {},
   "outputs": [],
   "source": [
    "#Choose 'Percent of Population Having Mail Delivered at Home' as the data column\n",
    "df = df[(df.Indicator=='Percent of Population Having Mail Delivered at Home')]\n",
    "df.head(15)\n",
    "\n",
    "# create standard columns\n",
    "# df.rename(columns={'COUNTRY/ECONOMY':'Country Name'}, inplace=True)\n",
    "\n",
    "df['higher_is_better'] = True\n",
    "df['Year'] = 2015\n",
    "df['Indicator'] = indicator\n",
    "df['data_col'] = df['2015'] \n",
    "\n",
    "min_rank = df['data_col'].min()\n",
    "max_rank = df['data_col'].max()\n",
    "\n",
    "# transform 0-1 rank into 1-6\n",
    "df['new_rank_score'] = df['data_col'].apply(lambda row: convert_rank(row,old_min=min_rank,old_max=max_rank))"
   ]
  },
  {
   "cell_type": "code",
   "execution_count": null,
   "id": "756654d8",
   "metadata": {},
   "outputs": [],
   "source": [
    "df[['Country Name','Year','Indicator','data_col','new_rank_score','higher_is_better']].head(15)"
   ]
  },
  {
   "cell_type": "code",
   "execution_count": null,
   "id": "3e82985a",
   "metadata": {},
   "outputs": [],
   "source": [
    "### 30. Logistics Performance Index (LPI) "
   ]
  },
  {
   "cell_type": "code",
   "execution_count": null,
   "id": "b461a7aa",
   "metadata": {},
   "outputs": [],
   "source": [
    "indicators[29]\n",
    "\n",
    "# load data\n",
    "indicator = indicators[29]\n",
    "print(indicator)\n",
    "bf = bnames[bnames['Indicator']==indicator]['Filename'].values[0]\n",
    "print(bf)\n",
    "\n",
    "df = pd.read_csv('../../processed/{}.csv'.format(bf))"
   ]
  },
  {
   "cell_type": "code",
   "execution_count": null,
   "id": "1ff8d718",
   "metadata": {},
   "outputs": [],
   "source": [
    "### 31.Schools with Internet proportion"
   ]
  },
  {
   "cell_type": "code",
   "execution_count": null,
   "id": "06512bcf",
   "metadata": {},
   "outputs": [],
   "source": [
    "indicators[30]\n",
    "\n",
    "# load data\n",
    "indicator = indicators[30]\n",
    "print(indicator)\n",
    "bf = bnames[bnames['Indicator']==indicator]['Filename'].values[0]\n",
    "print(bf)\n",
    "\n",
    "df = pd.read_csv('../../processed/{}.csv'.format(bf))"
   ]
  },
  {
   "cell_type": "code",
   "execution_count": null,
   "id": "b5d25921",
   "metadata": {},
   "outputs": [],
   "source": [
    "### 32.National cyber security index"
   ]
  },
  {
   "cell_type": "code",
   "execution_count": null,
   "id": "9cd1ea06",
   "metadata": {},
   "outputs": [],
   "source": [
    "indicators[31]\n",
    "\n",
    "# load data\n",
    "indicator = indicators[31]\n",
    "print(indicator)\n",
    "bf = bnames[bnames['Indicator']==indicator]['Filename'].values[0]\n",
    "print(bf)\n",
    "\n",
    "df = pd.read_csv('../../processed/{}.csv'.format(bf))"
   ]
  },
  {
   "cell_type": "code",
   "execution_count": null,
   "id": "bfabb51e",
   "metadata": {},
   "outputs": [],
   "source": [
    "df.head(15)"
   ]
  },
  {
   "cell_type": "code",
   "execution_count": null,
   "id": "10ec8dd2",
   "metadata": {},
   "outputs": [],
   "source": [
    "# create standard columns\n",
    "# df.rename(columns={'COUNTRY/ECONOMY':'Country Name'}, inplace=True)\n",
    "\n",
    "df['higher_is_better'] = True\n",
    "df['Year'] = 2021\n",
    "df['Indicator'] = indicator\n",
    "df['data_col'] = df['National Cyber Security Index'] \n",
    "\n",
    "min_rank = df['data_col'].min()\n",
    "max_rank = df['data_col'].max()\n",
    "\n",
    "# transform 0-1 rank into 1-6\n",
    "df['new_rank_score'] = df['data_col'].apply(lambda row: convert_rank(row,old_min=min_rank,old_max=max_rank))"
   ]
  },
  {
   "cell_type": "code",
   "execution_count": null,
   "id": "e2099e69",
   "metadata": {},
   "outputs": [],
   "source": [
    "df[['Country','Year','Indicator','data_col','new_rank_score','higher_is_better']].head(15)"
   ]
  },
  {
   "cell_type": "code",
   "execution_count": null,
   "id": "49d18d50",
   "metadata": {},
   "outputs": [],
   "source": [
    "### 33. Global Cybersecurity Index (GCI)\t"
   ]
  },
  {
   "cell_type": "code",
   "execution_count": null,
   "id": "aa963283",
   "metadata": {},
   "outputs": [],
   "source": [
    "indicators[32]\n",
    "\n",
    "# load data\n",
    "indicator = indicators[32]\n",
    "print(indicator)\n",
    "bf = bnames[bnames['Indicator']==indicator]['Filename'].values[0]\n",
    "print(bf)\n",
    "\n",
    "df = pd.read_csv('../../processed/{}.csv'.format(bf))"
   ]
  },
  {
   "cell_type": "code",
   "execution_count": null,
   "id": "7afbd7b5",
   "metadata": {},
   "outputs": [],
   "source": [
    "df.head(15)\n",
    "#The Data is practically unusable, find a new one"
   ]
  },
  {
   "cell_type": "code",
   "execution_count": null,
   "id": "721b59db",
   "metadata": {},
   "outputs": [],
   "source": [
    "### 34. Software Developer Ecosystem size"
   ]
  },
  {
   "cell_type": "code",
   "execution_count": 28,
   "id": "49f0c1e9",
   "metadata": {},
   "outputs": [
    {
     "name": "stdout",
     "output_type": "stream",
     "text": [
      "Software Developer Ecosystem size\n",
      "software_developer_ecosystem_size\n"
     ]
    }
   ],
   "source": [
    "indicators[33]\n",
    "\n",
    "# load data\n",
    "indicator = indicators[33]\n",
    "print(indicator)\n",
    "bf = bnames[bnames['Indicator']==indicator]['Filename'].values[0]\n",
    "print(bf)\n",
    "\n",
    "df = pd.read_csv('../../processed/{}.csv'.format(bf))"
   ]
  },
  {
   "cell_type": "code",
   "execution_count": 29,
   "id": "e13c80af",
   "metadata": {},
   "outputs": [
    {
     "data": {
      "text/html": [
       "<div>\n",
       "<style scoped>\n",
       "    .dataframe tbody tr th:only-of-type {\n",
       "        vertical-align: middle;\n",
       "    }\n",
       "\n",
       "    .dataframe tbody tr th {\n",
       "        vertical-align: top;\n",
       "    }\n",
       "\n",
       "    .dataframe thead th {\n",
       "        text-align: right;\n",
       "    }\n",
       "</style>\n",
       "<table border=\"1\" class=\"dataframe\">\n",
       "  <thead>\n",
       "    <tr style=\"text-align: right;\">\n",
       "      <th></th>\n",
       "      <th>Country</th>\n",
       "      <th>GitHub Accounts</th>\n",
       "    </tr>\n",
       "  </thead>\n",
       "  <tbody>\n",
       "    <tr>\n",
       "      <th>0</th>\n",
       "      <td>United States</td>\n",
       "      <td>651,017</td>\n",
       "    </tr>\n",
       "    <tr>\n",
       "      <th>1</th>\n",
       "      <td>China</td>\n",
       "      <td>183,805</td>\n",
       "    </tr>\n",
       "    <tr>\n",
       "      <th>2</th>\n",
       "      <td>India</td>\n",
       "      <td>168,328</td>\n",
       "    </tr>\n",
       "    <tr>\n",
       "      <th>3</th>\n",
       "      <td>United Kingdom</td>\n",
       "      <td>109,460</td>\n",
       "    </tr>\n",
       "    <tr>\n",
       "      <th>4</th>\n",
       "      <td>Germany</td>\n",
       "      <td>94,359</td>\n",
       "    </tr>\n",
       "    <tr>\n",
       "      <th>5</th>\n",
       "      <td>Brazil</td>\n",
       "      <td>80,903</td>\n",
       "    </tr>\n",
       "    <tr>\n",
       "      <th>6</th>\n",
       "      <td>Canada</td>\n",
       "      <td>77,318</td>\n",
       "    </tr>\n",
       "    <tr>\n",
       "      <th>7</th>\n",
       "      <td>France</td>\n",
       "      <td>66,367</td>\n",
       "    </tr>\n",
       "    <tr>\n",
       "      <th>8</th>\n",
       "      <td>Russia</td>\n",
       "      <td>58,767</td>\n",
       "    </tr>\n",
       "    <tr>\n",
       "      <th>9</th>\n",
       "      <td>Australia</td>\n",
       "      <td>41,790</td>\n",
       "    </tr>\n",
       "    <tr>\n",
       "      <th>10</th>\n",
       "      <td>Japan</td>\n",
       "      <td>39,263</td>\n",
       "    </tr>\n",
       "    <tr>\n",
       "      <th>11</th>\n",
       "      <td>Spain</td>\n",
       "      <td>38,020</td>\n",
       "    </tr>\n",
       "    <tr>\n",
       "      <th>12</th>\n",
       "      <td>Netherlands</td>\n",
       "      <td>35,782</td>\n",
       "    </tr>\n",
       "    <tr>\n",
       "      <th>13</th>\n",
       "      <td>Ukraine</td>\n",
       "      <td>33,032</td>\n",
       "    </tr>\n",
       "    <tr>\n",
       "      <th>14</th>\n",
       "      <td>Poland</td>\n",
       "      <td>30,928</td>\n",
       "    </tr>\n",
       "  </tbody>\n",
       "</table>\n",
       "</div>"
      ],
      "text/plain": [
       "           Country GitHub Accounts \n",
       "0    United States          651,017\n",
       "1            China          183,805\n",
       "2            India          168,328\n",
       "3   United Kingdom          109,460\n",
       "4          Germany           94,359\n",
       "5           Brazil           80,903\n",
       "6           Canada           77,318\n",
       "7           France           66,367\n",
       "8           Russia           58,767\n",
       "9        Australia           41,790\n",
       "10           Japan           39,263\n",
       "11           Spain           38,020\n",
       "12     Netherlands           35,782\n",
       "13         Ukraine           33,032\n",
       "14          Poland           30,928"
      ]
     },
     "execution_count": 29,
     "metadata": {},
     "output_type": "execute_result"
    }
   ],
   "source": [
    "df.head(15)"
   ]
  },
  {
   "cell_type": "code",
   "execution_count": 30,
   "id": "050e652d",
   "metadata": {},
   "outputs": [
    {
     "ename": "KeyError",
     "evalue": "'GitHub Accounts'",
     "output_type": "error",
     "traceback": [
      "\u001b[1;31m---------------------------------------------------------------------------\u001b[0m",
      "\u001b[1;31mKeyError\u001b[0m                                  Traceback (most recent call last)",
      "\u001b[1;32mD:\\Apps\\Anaconda\\lib\\site-packages\\pandas\\core\\indexes\\base.py\u001b[0m in \u001b[0;36mget_loc\u001b[1;34m(self, key, method, tolerance)\u001b[0m\n\u001b[0;32m   3079\u001b[0m             \u001b[1;32mtry\u001b[0m\u001b[1;33m:\u001b[0m\u001b[1;33m\u001b[0m\u001b[1;33m\u001b[0m\u001b[0m\n\u001b[1;32m-> 3080\u001b[1;33m                 \u001b[1;32mreturn\u001b[0m \u001b[0mself\u001b[0m\u001b[1;33m.\u001b[0m\u001b[0m_engine\u001b[0m\u001b[1;33m.\u001b[0m\u001b[0mget_loc\u001b[0m\u001b[1;33m(\u001b[0m\u001b[0mcasted_key\u001b[0m\u001b[1;33m)\u001b[0m\u001b[1;33m\u001b[0m\u001b[1;33m\u001b[0m\u001b[0m\n\u001b[0m\u001b[0;32m   3081\u001b[0m             \u001b[1;32mexcept\u001b[0m \u001b[0mKeyError\u001b[0m \u001b[1;32mas\u001b[0m \u001b[0merr\u001b[0m\u001b[1;33m:\u001b[0m\u001b[1;33m\u001b[0m\u001b[1;33m\u001b[0m\u001b[0m\n",
      "\u001b[1;32mpandas\\_libs\\index.pyx\u001b[0m in \u001b[0;36mpandas._libs.index.IndexEngine.get_loc\u001b[1;34m()\u001b[0m\n",
      "\u001b[1;32mpandas\\_libs\\index.pyx\u001b[0m in \u001b[0;36mpandas._libs.index.IndexEngine.get_loc\u001b[1;34m()\u001b[0m\n",
      "\u001b[1;32mpandas\\_libs\\hashtable_class_helper.pxi\u001b[0m in \u001b[0;36mpandas._libs.hashtable.PyObjectHashTable.get_item\u001b[1;34m()\u001b[0m\n",
      "\u001b[1;32mpandas\\_libs\\hashtable_class_helper.pxi\u001b[0m in \u001b[0;36mpandas._libs.hashtable.PyObjectHashTable.get_item\u001b[1;34m()\u001b[0m\n",
      "\u001b[1;31mKeyError\u001b[0m: 'GitHub Accounts'",
      "\nThe above exception was the direct cause of the following exception:\n",
      "\u001b[1;31mKeyError\u001b[0m                                  Traceback (most recent call last)",
      "\u001b[1;32m<ipython-input-30-e5ff39e2dc36>\u001b[0m in \u001b[0;36m<module>\u001b[1;34m\u001b[0m\n\u001b[0;32m      5\u001b[0m \u001b[0mdf\u001b[0m\u001b[1;33m[\u001b[0m\u001b[1;34m'Year'\u001b[0m\u001b[1;33m]\u001b[0m \u001b[1;33m=\u001b[0m \u001b[1;36m2018\u001b[0m\u001b[1;33m\u001b[0m\u001b[1;33m\u001b[0m\u001b[0m\n\u001b[0;32m      6\u001b[0m \u001b[0mdf\u001b[0m\u001b[1;33m[\u001b[0m\u001b[1;34m'Indicator'\u001b[0m\u001b[1;33m]\u001b[0m \u001b[1;33m=\u001b[0m \u001b[0mindicator\u001b[0m\u001b[1;33m\u001b[0m\u001b[1;33m\u001b[0m\u001b[0m\n\u001b[1;32m----> 7\u001b[1;33m \u001b[0mdf\u001b[0m\u001b[1;33m[\u001b[0m\u001b[1;34m'data_col'\u001b[0m\u001b[1;33m]\u001b[0m \u001b[1;33m=\u001b[0m \u001b[0mdf\u001b[0m\u001b[1;33m[\u001b[0m\u001b[1;34m'GitHub Accounts'\u001b[0m\u001b[1;33m]\u001b[0m\u001b[1;33m\u001b[0m\u001b[1;33m\u001b[0m\u001b[0m\n\u001b[0m\u001b[0;32m      8\u001b[0m \u001b[1;33m\u001b[0m\u001b[0m\n\u001b[0;32m      9\u001b[0m \u001b[0mmin_rank\u001b[0m \u001b[1;33m=\u001b[0m \u001b[0mdf\u001b[0m\u001b[1;33m[\u001b[0m\u001b[1;34m'data_col'\u001b[0m\u001b[1;33m]\u001b[0m\u001b[1;33m.\u001b[0m\u001b[0mmin\u001b[0m\u001b[1;33m(\u001b[0m\u001b[1;33m)\u001b[0m\u001b[1;33m\u001b[0m\u001b[1;33m\u001b[0m\u001b[0m\n",
      "\u001b[1;32mD:\\Apps\\Anaconda\\lib\\site-packages\\pandas\\core\\frame.py\u001b[0m in \u001b[0;36m__getitem__\u001b[1;34m(self, key)\u001b[0m\n\u001b[0;32m   3022\u001b[0m             \u001b[1;32mif\u001b[0m \u001b[0mself\u001b[0m\u001b[1;33m.\u001b[0m\u001b[0mcolumns\u001b[0m\u001b[1;33m.\u001b[0m\u001b[0mnlevels\u001b[0m \u001b[1;33m>\u001b[0m \u001b[1;36m1\u001b[0m\u001b[1;33m:\u001b[0m\u001b[1;33m\u001b[0m\u001b[1;33m\u001b[0m\u001b[0m\n\u001b[0;32m   3023\u001b[0m                 \u001b[1;32mreturn\u001b[0m \u001b[0mself\u001b[0m\u001b[1;33m.\u001b[0m\u001b[0m_getitem_multilevel\u001b[0m\u001b[1;33m(\u001b[0m\u001b[0mkey\u001b[0m\u001b[1;33m)\u001b[0m\u001b[1;33m\u001b[0m\u001b[1;33m\u001b[0m\u001b[0m\n\u001b[1;32m-> 3024\u001b[1;33m             \u001b[0mindexer\u001b[0m \u001b[1;33m=\u001b[0m \u001b[0mself\u001b[0m\u001b[1;33m.\u001b[0m\u001b[0mcolumns\u001b[0m\u001b[1;33m.\u001b[0m\u001b[0mget_loc\u001b[0m\u001b[1;33m(\u001b[0m\u001b[0mkey\u001b[0m\u001b[1;33m)\u001b[0m\u001b[1;33m\u001b[0m\u001b[1;33m\u001b[0m\u001b[0m\n\u001b[0m\u001b[0;32m   3025\u001b[0m             \u001b[1;32mif\u001b[0m \u001b[0mis_integer\u001b[0m\u001b[1;33m(\u001b[0m\u001b[0mindexer\u001b[0m\u001b[1;33m)\u001b[0m\u001b[1;33m:\u001b[0m\u001b[1;33m\u001b[0m\u001b[1;33m\u001b[0m\u001b[0m\n\u001b[0;32m   3026\u001b[0m                 \u001b[0mindexer\u001b[0m \u001b[1;33m=\u001b[0m \u001b[1;33m[\u001b[0m\u001b[0mindexer\u001b[0m\u001b[1;33m]\u001b[0m\u001b[1;33m\u001b[0m\u001b[1;33m\u001b[0m\u001b[0m\n",
      "\u001b[1;32mD:\\Apps\\Anaconda\\lib\\site-packages\\pandas\\core\\indexes\\base.py\u001b[0m in \u001b[0;36mget_loc\u001b[1;34m(self, key, method, tolerance)\u001b[0m\n\u001b[0;32m   3080\u001b[0m                 \u001b[1;32mreturn\u001b[0m \u001b[0mself\u001b[0m\u001b[1;33m.\u001b[0m\u001b[0m_engine\u001b[0m\u001b[1;33m.\u001b[0m\u001b[0mget_loc\u001b[0m\u001b[1;33m(\u001b[0m\u001b[0mcasted_key\u001b[0m\u001b[1;33m)\u001b[0m\u001b[1;33m\u001b[0m\u001b[1;33m\u001b[0m\u001b[0m\n\u001b[0;32m   3081\u001b[0m             \u001b[1;32mexcept\u001b[0m \u001b[0mKeyError\u001b[0m \u001b[1;32mas\u001b[0m \u001b[0merr\u001b[0m\u001b[1;33m:\u001b[0m\u001b[1;33m\u001b[0m\u001b[1;33m\u001b[0m\u001b[0m\n\u001b[1;32m-> 3082\u001b[1;33m                 \u001b[1;32mraise\u001b[0m \u001b[0mKeyError\u001b[0m\u001b[1;33m(\u001b[0m\u001b[0mkey\u001b[0m\u001b[1;33m)\u001b[0m \u001b[1;32mfrom\u001b[0m \u001b[0merr\u001b[0m\u001b[1;33m\u001b[0m\u001b[1;33m\u001b[0m\u001b[0m\n\u001b[0m\u001b[0;32m   3083\u001b[0m \u001b[1;33m\u001b[0m\u001b[0m\n\u001b[0;32m   3084\u001b[0m         \u001b[1;32mif\u001b[0m \u001b[0mtolerance\u001b[0m \u001b[1;32mis\u001b[0m \u001b[1;32mnot\u001b[0m \u001b[1;32mNone\u001b[0m\u001b[1;33m:\u001b[0m\u001b[1;33m\u001b[0m\u001b[1;33m\u001b[0m\u001b[0m\n",
      "\u001b[1;31mKeyError\u001b[0m: 'GitHub Accounts'"
     ]
    }
   ],
   "source": [
    "# create standard columns\n",
    "# df.rename(columns={'COUNTRY/ECONOMY':'Country Name'}, inplace=True)\n",
    "\n",
    "df['higher_is_better'] = True\n",
    "df['Year'] = 2018\n",
    "df['Indicator'] = indicator\n",
    "df['data_col'] = df['GitHub Accounts']\n",
    "\n",
    "min_rank = df['data_col'].min()\n",
    "max_rank = df['data_col'].max()\n",
    "\n",
    "# transform 0-1 rank into 1-6\n",
    "df['new_rank_score'] = df['data_col'].apply(lambda row: convert_rank(row,old_min=min_rank,old_max=max_rank))\n",
    "\n",
    "#There is a small error in the column name this has been addressed, waiting for files to be updated"
   ]
  },
  {
   "cell_type": "code",
   "execution_count": null,
   "id": "fb9c360f",
   "metadata": {},
   "outputs": [],
   "source": [
    "### 35. Digital Work Ecosystem size\t"
   ]
  },
  {
   "cell_type": "code",
   "execution_count": null,
   "id": "efd2c8a9",
   "metadata": {},
   "outputs": [],
   "source": [
    "indicators[34]\n",
    "\n",
    "# load data\n",
    "indicator = indicators[34]\n",
    "print(indicator)\n",
    "bf = bnames[bnames['Indicator']==indicator]['Filename'].values[0]\n",
    "print(bf)\n",
    "\n",
    "df = pd.read_csv('../../processed/{}.csv'.format(bf))"
   ]
  },
  {
   "cell_type": "code",
   "execution_count": null,
   "id": "85fb30f5",
   "metadata": {},
   "outputs": [],
   "source": [
    "df.head(15)"
   ]
  },
  {
   "cell_type": "code",
   "execution_count": null,
   "id": "62e6dcd8",
   "metadata": {},
   "outputs": [],
   "source": [
    "# create standard columns\n",
    "# df.rename(columns={'COUNTRY/ECONOMY':'Country Name'}, inplace=True)\n",
    "\n",
    "df['higher_is_better'] = False\n",
    "df['Year'] = 2020\n",
    "df['Indicator'] = indicator\n",
    "df['data_col'] = df.iloc[:,[0]].astype(float)\n",
    "\n",
    "min_rank = df['data_col'].min()\n",
    "max_rank = df['data_col'].max()\n",
    "\n",
    "# transform 0-1 rank into 1-6\n",
    "df['new_rank_score'] = df['data_col'].apply(lambda row: convert_rank(row,old_min=min_rank,old_max=max_rank))\n",
    "\n",
    "# invert since to lower rank is better\n",
    "df['new_rank_score'] = df['new_rank_score'].apply(lambda row: (6-row)+1)"
   ]
  },
  {
   "cell_type": "code",
   "execution_count": null,
   "id": "16ee36b0",
   "metadata": {},
   "outputs": [],
   "source": [
    "df[['Country','Year','Indicator','data_col','new_rank_score','higher_is_better']].head(15)\n",
    "# Two problems: 1. cannot use the name of the column, have to use iloc, 2. cannot use the index column\n",
    "# because the number format is not standard, have to use the rank column"
   ]
  },
  {
   "cell_type": "code",
   "execution_count": null,
   "id": "b5676cc8",
   "metadata": {},
   "outputs": [],
   "source": [
    "### 36. Country, Industry, Skill Migration Data (Skill) "
   ]
  },
  {
   "cell_type": "code",
   "execution_count": null,
   "id": "9d442b3c",
   "metadata": {},
   "outputs": [],
   "source": [
    "indicators[35]\n",
    "\n",
    "# load data\n",
    "indicator = indicators[35]\n",
    "print(indicator)\n",
    "bf = bnames[bnames['Indicator']==indicator]['Filename'].values[0]\n",
    "print(bf)\n",
    "\n",
    "df = pd.read_csv('../../processed/{}.csv'.format(bf))"
   ]
  },
  {
   "cell_type": "code",
   "execution_count": null,
   "id": "56a39d59",
   "metadata": {},
   "outputs": [],
   "source": [
    "df.head(15)"
   ]
  },
  {
   "cell_type": "code",
   "execution_count": null,
   "id": "522ffa62",
   "metadata": {},
   "outputs": [],
   "source": [
    "df['Country'] = df.iloc[:,[1]]\n",
    "\n",
    "df_sum = df.groupby('Country')[['net_per_10K_2019']].sum()\n",
    "df_sum"
   ]
  },
  {
   "cell_type": "code",
   "execution_count": null,
   "id": "9f0cec61",
   "metadata": {},
   "outputs": [],
   "source": [
    "# create standard columns\n",
    "# df.rename(columns={'COUNTRY/ECONOMY':'Country Name'}, inplace=True)\n",
    "\n",
    "df_sum['higher_is_better'] = True\n",
    "df_sum['Year'] = 2019\n",
    "df_sum['Indicator'] = indicator\n",
    "df_sum['data_col'] = df_sum['net_per_10K_2019']\n",
    "\n",
    "\n",
    "min_rank = df_sum['data_col'].min()\n",
    "max_rank = df_sum['data_col'].max()\n",
    "\n",
    "# transform 0-1 rank into 1-6\n",
    "df_sum['new_rank_score'] = df_sum['data_col'].apply(lambda row: convert_rank(row,old_min=min_rank,old_max=max_rank))"
   ]
  },
  {
   "cell_type": "code",
   "execution_count": null,
   "id": "5ccf01c2",
   "metadata": {},
   "outputs": [],
   "source": [
    "df_sum[['Year','Indicator','data_col','new_rank_score','higher_is_better']].head(15)"
   ]
  },
  {
   "cell_type": "code",
   "execution_count": null,
   "id": "63528ee9",
   "metadata": {},
   "outputs": [],
   "source": [
    "### 37. Country, Industry, Skill Migration Data (Industry)"
   ]
  },
  {
   "cell_type": "code",
   "execution_count": null,
   "id": "2a403555",
   "metadata": {},
   "outputs": [],
   "source": [
    "indicators[36]\n",
    "\n",
    "# load data\n",
    "indicator = indicators[36]\n",
    "print(indicator)\n",
    "bf = bnames[bnames['Indicator']==indicator]['Filename'].values[0]\n",
    "print(bf)\n",
    "\n",
    "df = pd.read_csv('../../processed/{}.csv'.format(bf))\n"
   ]
  },
  {
   "cell_type": "code",
   "execution_count": null,
   "id": "cc8971dd",
   "metadata": {},
   "outputs": [],
   "source": [
    "df.head(15)"
   ]
  },
  {
   "cell_type": "code",
   "execution_count": null,
   "id": "da69688e",
   "metadata": {},
   "outputs": [],
   "source": [
    "df['Country'] = df.iloc[:,[1]]\n",
    "\n",
    "df_sum = df.groupby('Country')[['net_per_10K_2019']].sum()\n",
    "df_sum"
   ]
  },
  {
   "cell_type": "code",
   "execution_count": null,
   "id": "61729b1b",
   "metadata": {},
   "outputs": [],
   "source": [
    "## create standard columns\n",
    "# df.rename(columns={'COUNTRY/ECONOMY':'Country Name'}, inplace=True)\n",
    "\n",
    "df_sum['higher_is_better'] = True\n",
    "df_sum['Year'] = 2019\n",
    "df_sum['Indicator'] = indicator\n",
    "df_sum['data_col'] = df_sum['net_per_10K_2019']\n",
    "\n",
    "\n",
    "min_rank = df_sum['data_col'].min()\n",
    "max_rank = df_sum['data_col'].max()\n",
    "\n",
    "# transform 0-1 rank into 1-6\n",
    "df_sum['new_rank_score'] = df_sum['data_col'].apply(lambda row: convert_rank(row,old_min=min_rank,old_max=max_rank))"
   ]
  },
  {
   "cell_type": "code",
   "execution_count": null,
   "id": "80ce44d1",
   "metadata": {},
   "outputs": [],
   "source": [
    "df_sum[['Year','Indicator','data_col','new_rank_score','higher_is_better']].head(15)"
   ]
  },
  {
   "cell_type": "code",
   "execution_count": null,
   "id": "c03ad134",
   "metadata": {},
   "outputs": [],
   "source": [
    "### 38. Country, Industry, Skill Migration Data (Nation)"
   ]
  },
  {
   "cell_type": "code",
   "execution_count": null,
   "id": "e38028cf",
   "metadata": {},
   "outputs": [],
   "source": [
    "indicators[37]\n",
    "\n",
    "# load data\n",
    "indicator = indicators[37]\n",
    "print(indicator)\n",
    "bf = bnames[bnames['Indicator']==indicator]['Filename'].values[0]\n",
    "print(bf)\n",
    "\n",
    "df = pd.read_csv('../../processed/{}.csv'.format(bf))"
   ]
  },
  {
   "cell_type": "code",
   "execution_count": null,
   "id": "946a6d29",
   "metadata": {},
   "outputs": [],
   "source": [
    "df.head(15)"
   ]
  },
  {
   "cell_type": "code",
   "execution_count": null,
   "id": "91f61c4b",
   "metadata": {},
   "outputs": [],
   "source": [
    "df['Country'] = df.iloc[:,[1]]\n",
    "\n",
    "df_sum = df.groupby('Country')[['net_per_10K_2019']].sum()\n",
    "df_sum"
   ]
  },
  {
   "cell_type": "code",
   "execution_count": null,
   "id": "a32b89e2",
   "metadata": {},
   "outputs": [],
   "source": [
    "## create standard columns\n",
    "# df.rename(columns={'COUNTRY/ECONOMY':'Country Name'}, inplace=True)\n",
    "\n",
    "df_sum['higher_is_better'] = True\n",
    "df_sum['Year'] = 2019\n",
    "df_sum['Indicator'] = indicator\n",
    "df_sum['data_col'] = df_sum['net_per_10K_2019']\n",
    "\n",
    "\n",
    "min_rank = df_sum['data_col'].min()\n",
    "max_rank = df_sum['data_col'].max()\n",
    "\n",
    "# transform 0-1 rank into 1-6\n",
    "df_sum['new_rank_score'] = df_sum['data_col'].apply(lambda row: convert_rank(row,old_min=min_rank,old_max=max_rank))"
   ]
  },
  {
   "cell_type": "code",
   "execution_count": null,
   "id": "2365e917",
   "metadata": {},
   "outputs": [],
   "source": [
    "df_sum[['Year','Indicator','data_col','new_rank_score','higher_is_better']].head(15)"
   ]
  },
  {
   "cell_type": "code",
   "execution_count": null,
   "id": "30478c51",
   "metadata": {},
   "outputs": [],
   "source": [
    "### 39. Digital Finance Ecosystem size"
   ]
  },
  {
   "cell_type": "code",
   "execution_count": null,
   "id": "eaa6b920",
   "metadata": {},
   "outputs": [],
   "source": [
    "indicators[38]\n",
    "\n",
    "# load data\n",
    "indicator = indicators[38]\n",
    "print(indicator)\n",
    "bf = bnames[bnames['Indicator']==indicator]['Filename'].values[0]\n",
    "print(bf)\n",
    "\n",
    "df = pd.read_csv('../../processed/{}.csv'.format(bf))"
   ]
  },
  {
   "cell_type": "code",
   "execution_count": null,
   "id": "11cdd6d1",
   "metadata": {},
   "outputs": [],
   "source": [
    "df.head(15)"
   ]
  },
  {
   "cell_type": "code",
   "execution_count": null,
   "id": "28160094",
   "metadata": {},
   "outputs": [],
   "source": [
    "# create standard columns\n",
    "# df.rename(columns={'COUNTRY/ECONOMY':'Country Name'}, inplace=True)\n",
    "\n",
    "df['higher_is_better'] = True\n",
    "df['Year'] = 2021\n",
    "df['Indicator'] = indicator\n",
    "df['data_col'] = df.iloc[:,[2]]\n",
    "\n",
    "min_rank = df['data_col'].min()\n",
    "max_rank = df['data_col'].max()\n",
    "\n",
    "# transform 0-1 rank into 1-6\n",
    "df['new_rank_score'] = df['data_col'].apply(lambda row: convert_rank(row,old_min=min_rank,old_max=max_rank))\n",
    "\n",
    "# Have to shorten the column names to see if this works"
   ]
  },
  {
   "cell_type": "code",
   "execution_count": null,
   "id": "f0480bc8",
   "metadata": {},
   "outputs": [],
   "source": [
    "### 40. Tech hubs & spaces size"
   ]
  },
  {
   "cell_type": "code",
   "execution_count": null,
   "id": "e7693ca0",
   "metadata": {},
   "outputs": [],
   "source": [
    "indicators[39]\n",
    "\n",
    "# load data\n",
    "indicator = indicators[39]\n",
    "print(indicator)\n",
    "bf = bnames[bnames['Indicator']==indicator]['Filename'].values[0]\n",
    "print(bf)\n",
    "\n",
    "df = pd.read_csv('../../processed/{}.csv'.format(bf))"
   ]
  },
  {
   "cell_type": "code",
   "execution_count": null,
   "id": "71e2fc56",
   "metadata": {},
   "outputs": [],
   "source": [
    "df.head(15)\n",
    "\n",
    "#There are two problems:\n",
    "#1. The column names need some overhaul (moving the second column to the top and make it the column names)\n",
    "#2. This is a list of cities, not countries, may present probkems later. "
   ]
  },
  {
   "cell_type": "code",
   "execution_count": null,
   "id": "8028b9a2",
   "metadata": {},
   "outputs": [],
   "source": [
    "### 41. Banking Ecosystem size"
   ]
  },
  {
   "cell_type": "code",
   "execution_count": null,
   "id": "6eb3626e",
   "metadata": {},
   "outputs": [],
   "source": [
    "indicators[40]\n",
    "\n",
    "# load data\n",
    "indicator = indicators[40]\n",
    "print(indicator)\n",
    "bf = bnames[bnames['Indicator']==indicator]['Filename'].values[0]\n",
    "print(bf)\n",
    "\n",
    "df = pd.read_csv('../../processed/{}.csv'.format(bf))"
   ]
  },
  {
   "cell_type": "code",
   "execution_count": null,
   "id": "3898ecbf",
   "metadata": {
    "scrolled": true
   },
   "outputs": [],
   "source": [
    "df.head(15)"
   ]
  },
  {
   "cell_type": "code",
   "execution_count": null,
   "id": "55e34e19",
   "metadata": {},
   "outputs": [],
   "source": [
    "# create standard columns\n",
    "# df.rename(columns={'COUNTRY/ECONOMY':'Country Name'}, inplace=True)\n",
    "\n",
    "df['higher_is_better'] = True\n",
    "df['Year'] = 2017\n",
    "df['Indicator'] = indicator\n",
    "df['data_col'] = df['Bank assets, percent of GDP, 2017']\n",
    "\n",
    "min_rank = df['data_col'].min()\n",
    "max_rank = df['data_col'].max()\n",
    "\n",
    "# transform 0-1 rank into 1-6\n",
    "df['new_rank_score'] = df['data_col'].apply(lambda row: convert_rank(row,old_min=min_rank,old_max=max_rank))"
   ]
  },
  {
   "cell_type": "code",
   "execution_count": null,
   "id": "23f3a0cb",
   "metadata": {},
   "outputs": [],
   "source": [
    "df[['Country','Year','Indicator','data_col','new_rank_score','higher_is_better']].head(15)\n",
    "\n",
    "# Okay but will have to remove number from the Country column, leaving only characters. "
   ]
  },
  {
   "cell_type": "code",
   "execution_count": null,
   "id": "e5025c17",
   "metadata": {},
   "outputs": [],
   "source": [
    "### 42. Angel Ecosystem size"
   ]
  },
  {
   "cell_type": "code",
   "execution_count": 17,
   "id": "2f4ee1d1",
   "metadata": {},
   "outputs": [
    {
     "name": "stdout",
     "output_type": "stream",
     "text": [
      "Angel Ecosystem size\n",
      "angel_investment\n"
     ]
    }
   ],
   "source": [
    "indicators[41]\n",
    "\n",
    "# load data\n",
    "indicator = indicators[41]\n",
    "print(indicator)\n",
    "bf = bnames[bnames['Indicator']==indicator]['Filename'].values[0]\n",
    "print(bf)\n",
    "\n",
    "df = pd.read_csv('../../processed/{}.csv'.format(bf))"
   ]
  },
  {
   "cell_type": "code",
   "execution_count": 20,
   "id": "85136754",
   "metadata": {},
   "outputs": [
    {
     "data": {
      "text/html": [
       "<div>\n",
       "<style scoped>\n",
       "    .dataframe tbody tr th:only-of-type {\n",
       "        vertical-align: middle;\n",
       "    }\n",
       "\n",
       "    .dataframe tbody tr th {\n",
       "        vertical-align: top;\n",
       "    }\n",
       "\n",
       "    .dataframe thead th {\n",
       "        text-align: right;\n",
       "    }\n",
       "</style>\n",
       "<table border=\"1\" class=\"dataframe\">\n",
       "  <thead>\n",
       "    <tr style=\"text-align: right;\">\n",
       "      <th></th>\n",
       "      <th>Country</th>\n",
       "      <th>Business angel investments (in million Euros)</th>\n",
       "    </tr>\n",
       "  </thead>\n",
       "  <tbody>\n",
       "    <tr>\n",
       "      <th>0</th>\n",
       "      <td>United Kingdom</td>\n",
       "      <td>153.08</td>\n",
       "    </tr>\n",
       "    <tr>\n",
       "      <th>1</th>\n",
       "      <td>Germany</td>\n",
       "      <td>81.77</td>\n",
       "    </tr>\n",
       "    <tr>\n",
       "      <th>2</th>\n",
       "      <td>Spain</td>\n",
       "      <td>78.66</td>\n",
       "    </tr>\n",
       "    <tr>\n",
       "      <th>3</th>\n",
       "      <td>Finland</td>\n",
       "      <td>54.00</td>\n",
       "    </tr>\n",
       "    <tr>\n",
       "      <th>4</th>\n",
       "      <td>Sweden</td>\n",
       "      <td>44.08</td>\n",
       "    </tr>\n",
       "    <tr>\n",
       "      <th>5</th>\n",
       "      <td>France</td>\n",
       "      <td>43.00</td>\n",
       "    </tr>\n",
       "    <tr>\n",
       "      <th>6</th>\n",
       "      <td>Denmark</td>\n",
       "      <td>33.34</td>\n",
       "    </tr>\n",
       "    <tr>\n",
       "      <th>7</th>\n",
       "      <td>Switzerland</td>\n",
       "      <td>32.60</td>\n",
       "    </tr>\n",
       "    <tr>\n",
       "      <th>8</th>\n",
       "      <td>Italy</td>\n",
       "      <td>28.20</td>\n",
       "    </tr>\n",
       "    <tr>\n",
       "      <th>9</th>\n",
       "      <td>Russia</td>\n",
       "      <td>26.08</td>\n",
       "    </tr>\n",
       "    <tr>\n",
       "      <th>10</th>\n",
       "      <td>Turkey</td>\n",
       "      <td>21.26</td>\n",
       "    </tr>\n",
       "    <tr>\n",
       "      <th>11</th>\n",
       "      <td>Austria</td>\n",
       "      <td>20.11</td>\n",
       "    </tr>\n",
       "    <tr>\n",
       "      <th>12</th>\n",
       "      <td>Netherlands</td>\n",
       "      <td>19.38</td>\n",
       "    </tr>\n",
       "    <tr>\n",
       "      <th>13</th>\n",
       "      <td>Belgium</td>\n",
       "      <td>17.09</td>\n",
       "    </tr>\n",
       "    <tr>\n",
       "      <th>14</th>\n",
       "      <td>Ireland</td>\n",
       "      <td>16.80</td>\n",
       "    </tr>\n",
       "  </tbody>\n",
       "</table>\n",
       "</div>"
      ],
      "text/plain": [
       "           Country  Business angel investments (in million Euros)\n",
       "0   United Kingdom                                         153.08\n",
       "1          Germany                                          81.77\n",
       "2            Spain                                          78.66\n",
       "3          Finland                                          54.00\n",
       "4           Sweden                                          44.08\n",
       "5           France                                          43.00\n",
       "6          Denmark                                          33.34\n",
       "7      Switzerland                                          32.60\n",
       "8            Italy                                          28.20\n",
       "9           Russia                                          26.08\n",
       "10          Turkey                                          21.26\n",
       "11         Austria                                          20.11\n",
       "12     Netherlands                                          19.38\n",
       "13         Belgium                                          17.09\n",
       "14         Ireland                                          16.80"
      ]
     },
     "execution_count": 20,
     "metadata": {},
     "output_type": "execute_result"
    }
   ],
   "source": [
    "df.head(15)"
   ]
  },
  {
   "cell_type": "code",
   "execution_count": 22,
   "id": "cd0d5ee9",
   "metadata": {},
   "outputs": [],
   "source": [
    "# create standard columns\n",
    "# df.rename(columns={'COUNTRY/ECONOMY':'Country Name'}, inplace=True)\n",
    "\n",
    "df['higher_is_better'] = True\n",
    "df['Year'] = 2019\n",
    "df['Indicator'] = indicator\n",
    "df['data_col'] = df['Business angel investments (in million Euros)']\n",
    "\n",
    "min_rank = df['data_col'].min()\n",
    "max_rank = df['data_col'].max()\n",
    "\n",
    "# transform 0-1 rank into 1-6\n",
    "df['new_rank_score'] = df['data_col'].apply(lambda row: convert_rank(row,old_min=min_rank,old_max=max_rank))"
   ]
  },
  {
   "cell_type": "code",
   "execution_count": 23,
   "id": "21764c58",
   "metadata": {},
   "outputs": [
    {
     "data": {
      "text/html": [
       "<div>\n",
       "<style scoped>\n",
       "    .dataframe tbody tr th:only-of-type {\n",
       "        vertical-align: middle;\n",
       "    }\n",
       "\n",
       "    .dataframe tbody tr th {\n",
       "        vertical-align: top;\n",
       "    }\n",
       "\n",
       "    .dataframe thead th {\n",
       "        text-align: right;\n",
       "    }\n",
       "</style>\n",
       "<table border=\"1\" class=\"dataframe\">\n",
       "  <thead>\n",
       "    <tr style=\"text-align: right;\">\n",
       "      <th></th>\n",
       "      <th>Country</th>\n",
       "      <th>Year</th>\n",
       "      <th>Indicator</th>\n",
       "      <th>data_col</th>\n",
       "      <th>new_rank_score</th>\n",
       "      <th>higher_is_better</th>\n",
       "    </tr>\n",
       "  </thead>\n",
       "  <tbody>\n",
       "    <tr>\n",
       "      <th>0</th>\n",
       "      <td>United Kingdom</td>\n",
       "      <td>2019</td>\n",
       "      <td>Angel Ecosystem size</td>\n",
       "      <td>153.08</td>\n",
       "      <td>6.000000</td>\n",
       "      <td>True</td>\n",
       "    </tr>\n",
       "    <tr>\n",
       "      <th>1</th>\n",
       "      <td>Germany</td>\n",
       "      <td>2019</td>\n",
       "      <td>Angel Ecosystem size</td>\n",
       "      <td>81.77</td>\n",
       "      <td>3.666099</td>\n",
       "      <td>True</td>\n",
       "    </tr>\n",
       "    <tr>\n",
       "      <th>2</th>\n",
       "      <td>Spain</td>\n",
       "      <td>2019</td>\n",
       "      <td>Angel Ecosystem size</td>\n",
       "      <td>78.66</td>\n",
       "      <td>3.564312</td>\n",
       "      <td>True</td>\n",
       "    </tr>\n",
       "    <tr>\n",
       "      <th>3</th>\n",
       "      <td>Finland</td>\n",
       "      <td>2019</td>\n",
       "      <td>Angel Ecosystem size</td>\n",
       "      <td>54.00</td>\n",
       "      <td>2.757217</td>\n",
       "      <td>True</td>\n",
       "    </tr>\n",
       "    <tr>\n",
       "      <th>4</th>\n",
       "      <td>Sweden</td>\n",
       "      <td>2019</td>\n",
       "      <td>Angel Ecosystem size</td>\n",
       "      <td>44.08</td>\n",
       "      <td>2.432546</td>\n",
       "      <td>True</td>\n",
       "    </tr>\n",
       "    <tr>\n",
       "      <th>5</th>\n",
       "      <td>France</td>\n",
       "      <td>2019</td>\n",
       "      <td>Angel Ecosystem size</td>\n",
       "      <td>43.00</td>\n",
       "      <td>2.397198</td>\n",
       "      <td>True</td>\n",
       "    </tr>\n",
       "    <tr>\n",
       "      <th>6</th>\n",
       "      <td>Denmark</td>\n",
       "      <td>2019</td>\n",
       "      <td>Angel Ecosystem size</td>\n",
       "      <td>33.34</td>\n",
       "      <td>2.081037</td>\n",
       "      <td>True</td>\n",
       "    </tr>\n",
       "    <tr>\n",
       "      <th>7</th>\n",
       "      <td>Switzerland</td>\n",
       "      <td>2019</td>\n",
       "      <td>Angel Ecosystem size</td>\n",
       "      <td>32.60</td>\n",
       "      <td>2.056817</td>\n",
       "      <td>True</td>\n",
       "    </tr>\n",
       "    <tr>\n",
       "      <th>8</th>\n",
       "      <td>Italy</td>\n",
       "      <td>2019</td>\n",
       "      <td>Angel Ecosystem size</td>\n",
       "      <td>28.20</td>\n",
       "      <td>1.912810</td>\n",
       "      <td>True</td>\n",
       "    </tr>\n",
       "    <tr>\n",
       "      <th>9</th>\n",
       "      <td>Russia</td>\n",
       "      <td>2019</td>\n",
       "      <td>Angel Ecosystem size</td>\n",
       "      <td>26.08</td>\n",
       "      <td>1.843425</td>\n",
       "      <td>True</td>\n",
       "    </tr>\n",
       "    <tr>\n",
       "      <th>10</th>\n",
       "      <td>Turkey</td>\n",
       "      <td>2019</td>\n",
       "      <td>Angel Ecosystem size</td>\n",
       "      <td>21.26</td>\n",
       "      <td>1.685671</td>\n",
       "      <td>True</td>\n",
       "    </tr>\n",
       "    <tr>\n",
       "      <th>11</th>\n",
       "      <td>Austria</td>\n",
       "      <td>2019</td>\n",
       "      <td>Angel Ecosystem size</td>\n",
       "      <td>20.11</td>\n",
       "      <td>1.648033</td>\n",
       "      <td>True</td>\n",
       "    </tr>\n",
       "    <tr>\n",
       "      <th>12</th>\n",
       "      <td>Netherlands</td>\n",
       "      <td>2019</td>\n",
       "      <td>Angel Ecosystem size</td>\n",
       "      <td>19.38</td>\n",
       "      <td>1.624141</td>\n",
       "      <td>True</td>\n",
       "    </tr>\n",
       "    <tr>\n",
       "      <th>13</th>\n",
       "      <td>Belgium</td>\n",
       "      <td>2019</td>\n",
       "      <td>Angel Ecosystem size</td>\n",
       "      <td>17.09</td>\n",
       "      <td>1.549192</td>\n",
       "      <td>True</td>\n",
       "    </tr>\n",
       "    <tr>\n",
       "      <th>14</th>\n",
       "      <td>Ireland</td>\n",
       "      <td>2019</td>\n",
       "      <td>Angel Ecosystem size</td>\n",
       "      <td>16.80</td>\n",
       "      <td>1.539700</td>\n",
       "      <td>True</td>\n",
       "    </tr>\n",
       "  </tbody>\n",
       "</table>\n",
       "</div>"
      ],
      "text/plain": [
       "           Country  Year             Indicator  data_col  new_rank_score  \\\n",
       "0   United Kingdom  2019  Angel Ecosystem size    153.08        6.000000   \n",
       "1          Germany  2019  Angel Ecosystem size     81.77        3.666099   \n",
       "2            Spain  2019  Angel Ecosystem size     78.66        3.564312   \n",
       "3          Finland  2019  Angel Ecosystem size     54.00        2.757217   \n",
       "4           Sweden  2019  Angel Ecosystem size     44.08        2.432546   \n",
       "5           France  2019  Angel Ecosystem size     43.00        2.397198   \n",
       "6          Denmark  2019  Angel Ecosystem size     33.34        2.081037   \n",
       "7      Switzerland  2019  Angel Ecosystem size     32.60        2.056817   \n",
       "8            Italy  2019  Angel Ecosystem size     28.20        1.912810   \n",
       "9           Russia  2019  Angel Ecosystem size     26.08        1.843425   \n",
       "10          Turkey  2019  Angel Ecosystem size     21.26        1.685671   \n",
       "11         Austria  2019  Angel Ecosystem size     20.11        1.648033   \n",
       "12     Netherlands  2019  Angel Ecosystem size     19.38        1.624141   \n",
       "13         Belgium  2019  Angel Ecosystem size     17.09        1.549192   \n",
       "14         Ireland  2019  Angel Ecosystem size     16.80        1.539700   \n",
       "\n",
       "    higher_is_better  \n",
       "0               True  \n",
       "1               True  \n",
       "2               True  \n",
       "3               True  \n",
       "4               True  \n",
       "5               True  \n",
       "6               True  \n",
       "7               True  \n",
       "8               True  \n",
       "9               True  \n",
       "10              True  \n",
       "11              True  \n",
       "12              True  \n",
       "13              True  \n",
       "14              True  "
      ]
     },
     "execution_count": 23,
     "metadata": {},
     "output_type": "execute_result"
    }
   ],
   "source": [
    "df[['Country','Year','Indicator','data_col','new_rank_score','higher_is_better']].head(15)\n",
    "\n",
    "# Okay but there are only EU countries"
   ]
  },
  {
   "cell_type": "code",
   "execution_count": null,
   "id": "bed6c54f",
   "metadata": {},
   "outputs": [],
   "source": [
    "### 43. Startup Ecosystem size"
   ]
  },
  {
   "cell_type": "code",
   "execution_count": null,
   "id": "094c01a9",
   "metadata": {},
   "outputs": [],
   "source": [
    "indicators[42]\n",
    "\n",
    "# load data\n",
    "indicator = indicators[42]\n",
    "print(indicator)\n",
    "bf = bnames[bnames['Indicator']==indicator]['Filename'].values[0]\n",
    "print(bf)\n",
    "\n",
    "df = pd.read_csv('../../processed/{}.csv'.format(bf))"
   ]
  },
  {
   "cell_type": "code",
   "execution_count": null,
   "id": "bdaa12d4",
   "metadata": {},
   "outputs": [],
   "source": [
    "df.head(15)\n",
    "\n",
    "# This is a list of cities, not countries, wonder if it will work "
   ]
  },
  {
   "cell_type": "code",
   "execution_count": null,
   "id": "e44c5a02",
   "metadata": {},
   "outputs": [],
   "source": [
    "### 44. Venture Ecosystem size\n",
    "\n",
    "# Similar to the previous one"
   ]
  },
  {
   "cell_type": "code",
   "execution_count": null,
   "id": "b76a8343",
   "metadata": {},
   "outputs": [],
   "source": [
    "### 45. International Co-Inventions"
   ]
  },
  {
   "cell_type": "code",
   "execution_count": null,
   "id": "b0d30c67",
   "metadata": {},
   "outputs": [],
   "source": [
    "indicators[44]\n",
    "\n",
    "# load data\n",
    "indicator = indicators[44]\n",
    "print(indicator)\n",
    "bf = bnames[bnames['Indicator']==indicator]['Filename'].values[0]\n",
    "print(bf)\n",
    "\n",
    "df = pd.read_csv('../../processed/{}.csv'.format(bf))"
   ]
  },
  {
   "cell_type": "code",
   "execution_count": null,
   "id": "96d9444d",
   "metadata": {},
   "outputs": [],
   "source": [
    "df.head(15)"
   ]
  },
  {
   "cell_type": "code",
   "execution_count": null,
   "id": "7e3bcd14",
   "metadata": {},
   "outputs": [],
   "source": [
    "# filter most recent year and global value\n",
    "df = df[(df.Time==2017)]\n",
    "df = df[(df.Country!='World')]\n",
    "df"
   ]
  },
  {
   "cell_type": "code",
   "execution_count": null,
   "id": "4e8c79ca",
   "metadata": {},
   "outputs": [],
   "source": [
    "# Create summarization\n",
    "df_sum = df.groupby('Country')[['Value']].sum()\n",
    "df_sum"
   ]
  },
  {
   "cell_type": "code",
   "execution_count": null,
   "id": "f0d10f25",
   "metadata": {},
   "outputs": [],
   "source": [
    "# create standard columns\n",
    "# df.rename(columns={'COUNTRY/ECONOMY':'Country Name'}, inplace=True)\n",
    "\n",
    "df_sum['higher_is_better'] = True\n",
    "df_sum['Year'] = 2017\n",
    "df_sum['Indicator'] = indicator\n",
    "df_sum['data_col'] = df_sum.iloc[:,[0]]\n",
    "\n",
    "min_rank = df_sum['data_col'].min()\n",
    "max_rank = df_sum['data_col'].max()\n",
    "\n",
    "# transform 0-1 rank into 1-6\n",
    "df_sum['new_rank_score'] = df_sum['data_col'].apply(lambda row: convert_rank(row,old_min=min_rank,old_max=max_rank))"
   ]
  },
  {
   "cell_type": "code",
   "execution_count": null,
   "id": "9b24fe8d",
   "metadata": {},
   "outputs": [],
   "source": [
    "df_sum[['Year','Indicator','data_col','new_rank_score','higher_is_better']].head(15)\n",
    "\n",
    "# Okay but the data is too general with many missing countries"
   ]
  },
  {
   "cell_type": "code",
   "execution_count": null,
   "id": "4fa9860a",
   "metadata": {},
   "outputs": [],
   "source": []
  }
 ],
 "metadata": {
  "kernelspec": {
   "display_name": "Python 3",
   "language": "python",
   "name": "python3"
  },
  "language_info": {
   "codemirror_mode": {
    "name": "ipython",
    "version": 3
   },
   "file_extension": ".py",
   "mimetype": "text/x-python",
   "name": "python",
   "nbconvert_exporter": "python",
   "pygments_lexer": "ipython3",
   "version": "3.8.8"
  }
 },
 "nbformat": 4,
 "nbformat_minor": 5
}
