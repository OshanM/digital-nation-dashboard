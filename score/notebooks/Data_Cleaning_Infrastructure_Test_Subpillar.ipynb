{
 "cells": [
  {
   "cell_type": "code",
   "execution_count": 1,
   "id": "1700f079",
   "metadata": {},
   "outputs": [],
   "source": [
    "import pandas as pd\n",
    "import numpy as np"
   ]
  },
  {
   "cell_type": "code",
   "execution_count": 2,
   "id": "06fe08f5",
   "metadata": {},
   "outputs": [],
   "source": [
    "### Get all the pillar names from the excel"
   ]
  },
  {
   "cell_type": "code",
   "execution_count": 3,
   "id": "82b97b5f",
   "metadata": {},
   "outputs": [],
   "source": [
    "names = pd.read_excel('../../UNDP Digital Assessment Data Framework Filename Matching V7.xlsx')"
   ]
  },
  {
   "cell_type": "code",
   "execution_count": 4,
   "id": "0b14598d",
   "metadata": {},
   "outputs": [],
   "source": [
    "col_names = ['Indicator','check', 'Data Source','Data Link','Index','Filename','Sub-Pillar']"
   ]
  },
  {
   "cell_type": "code",
   "execution_count": 5,
   "id": "ebb8f4e3",
   "metadata": {},
   "outputs": [
    {
     "ename": "KeyError",
     "evalue": "\"['Index'] not in index\"",
     "output_type": "error",
     "traceback": [
      "\u001b[1;31m---------------------------------------------------------------------------\u001b[0m",
      "\u001b[1;31mKeyError\u001b[0m                                  Traceback (most recent call last)",
      "\u001b[1;32m<ipython-input-5-fc72753a256d>\u001b[0m in \u001b[0;36m<module>\u001b[1;34m\u001b[0m\n\u001b[1;32m----> 1\u001b[1;33m \u001b[0mnames\u001b[0m \u001b[1;33m=\u001b[0m \u001b[0mnames\u001b[0m\u001b[1;33m[\u001b[0m\u001b[0mcol_names\u001b[0m\u001b[1;33m]\u001b[0m\u001b[1;33m\u001b[0m\u001b[1;33m\u001b[0m\u001b[0m\n\u001b[0m",
      "\u001b[1;32mD:\\Apps\\Anaconda\\lib\\site-packages\\pandas\\core\\frame.py\u001b[0m in \u001b[0;36m__getitem__\u001b[1;34m(self, key)\u001b[0m\n\u001b[0;32m   3028\u001b[0m             \u001b[1;32mif\u001b[0m \u001b[0mis_iterator\u001b[0m\u001b[1;33m(\u001b[0m\u001b[0mkey\u001b[0m\u001b[1;33m)\u001b[0m\u001b[1;33m:\u001b[0m\u001b[1;33m\u001b[0m\u001b[1;33m\u001b[0m\u001b[0m\n\u001b[0;32m   3029\u001b[0m                 \u001b[0mkey\u001b[0m \u001b[1;33m=\u001b[0m \u001b[0mlist\u001b[0m\u001b[1;33m(\u001b[0m\u001b[0mkey\u001b[0m\u001b[1;33m)\u001b[0m\u001b[1;33m\u001b[0m\u001b[1;33m\u001b[0m\u001b[0m\n\u001b[1;32m-> 3030\u001b[1;33m             \u001b[0mindexer\u001b[0m \u001b[1;33m=\u001b[0m \u001b[0mself\u001b[0m\u001b[1;33m.\u001b[0m\u001b[0mloc\u001b[0m\u001b[1;33m.\u001b[0m\u001b[0m_get_listlike_indexer\u001b[0m\u001b[1;33m(\u001b[0m\u001b[0mkey\u001b[0m\u001b[1;33m,\u001b[0m \u001b[0maxis\u001b[0m\u001b[1;33m=\u001b[0m\u001b[1;36m1\u001b[0m\u001b[1;33m,\u001b[0m \u001b[0mraise_missing\u001b[0m\u001b[1;33m=\u001b[0m\u001b[1;32mTrue\u001b[0m\u001b[1;33m)\u001b[0m\u001b[1;33m[\u001b[0m\u001b[1;36m1\u001b[0m\u001b[1;33m]\u001b[0m\u001b[1;33m\u001b[0m\u001b[1;33m\u001b[0m\u001b[0m\n\u001b[0m\u001b[0;32m   3031\u001b[0m \u001b[1;33m\u001b[0m\u001b[0m\n\u001b[0;32m   3032\u001b[0m         \u001b[1;31m# take() does not accept boolean indexers\u001b[0m\u001b[1;33m\u001b[0m\u001b[1;33m\u001b[0m\u001b[1;33m\u001b[0m\u001b[0m\n",
      "\u001b[1;32mD:\\Apps\\Anaconda\\lib\\site-packages\\pandas\\core\\indexing.py\u001b[0m in \u001b[0;36m_get_listlike_indexer\u001b[1;34m(self, key, axis, raise_missing)\u001b[0m\n\u001b[0;32m   1264\u001b[0m             \u001b[0mkeyarr\u001b[0m\u001b[1;33m,\u001b[0m \u001b[0mindexer\u001b[0m\u001b[1;33m,\u001b[0m \u001b[0mnew_indexer\u001b[0m \u001b[1;33m=\u001b[0m \u001b[0max\u001b[0m\u001b[1;33m.\u001b[0m\u001b[0m_reindex_non_unique\u001b[0m\u001b[1;33m(\u001b[0m\u001b[0mkeyarr\u001b[0m\u001b[1;33m)\u001b[0m\u001b[1;33m\u001b[0m\u001b[1;33m\u001b[0m\u001b[0m\n\u001b[0;32m   1265\u001b[0m \u001b[1;33m\u001b[0m\u001b[0m\n\u001b[1;32m-> 1266\u001b[1;33m         \u001b[0mself\u001b[0m\u001b[1;33m.\u001b[0m\u001b[0m_validate_read_indexer\u001b[0m\u001b[1;33m(\u001b[0m\u001b[0mkeyarr\u001b[0m\u001b[1;33m,\u001b[0m \u001b[0mindexer\u001b[0m\u001b[1;33m,\u001b[0m \u001b[0maxis\u001b[0m\u001b[1;33m,\u001b[0m \u001b[0mraise_missing\u001b[0m\u001b[1;33m=\u001b[0m\u001b[0mraise_missing\u001b[0m\u001b[1;33m)\u001b[0m\u001b[1;33m\u001b[0m\u001b[1;33m\u001b[0m\u001b[0m\n\u001b[0m\u001b[0;32m   1267\u001b[0m         \u001b[1;32mreturn\u001b[0m \u001b[0mkeyarr\u001b[0m\u001b[1;33m,\u001b[0m \u001b[0mindexer\u001b[0m\u001b[1;33m\u001b[0m\u001b[1;33m\u001b[0m\u001b[0m\n\u001b[0;32m   1268\u001b[0m \u001b[1;33m\u001b[0m\u001b[0m\n",
      "\u001b[1;32mD:\\Apps\\Anaconda\\lib\\site-packages\\pandas\\core\\indexing.py\u001b[0m in \u001b[0;36m_validate_read_indexer\u001b[1;34m(self, key, indexer, axis, raise_missing)\u001b[0m\n\u001b[0;32m   1314\u001b[0m             \u001b[1;32mif\u001b[0m \u001b[0mraise_missing\u001b[0m\u001b[1;33m:\u001b[0m\u001b[1;33m\u001b[0m\u001b[1;33m\u001b[0m\u001b[0m\n\u001b[0;32m   1315\u001b[0m                 \u001b[0mnot_found\u001b[0m \u001b[1;33m=\u001b[0m \u001b[0mlist\u001b[0m\u001b[1;33m(\u001b[0m\u001b[0mset\u001b[0m\u001b[1;33m(\u001b[0m\u001b[0mkey\u001b[0m\u001b[1;33m)\u001b[0m \u001b[1;33m-\u001b[0m \u001b[0mset\u001b[0m\u001b[1;33m(\u001b[0m\u001b[0max\u001b[0m\u001b[1;33m)\u001b[0m\u001b[1;33m)\u001b[0m\u001b[1;33m\u001b[0m\u001b[1;33m\u001b[0m\u001b[0m\n\u001b[1;32m-> 1316\u001b[1;33m                 \u001b[1;32mraise\u001b[0m \u001b[0mKeyError\u001b[0m\u001b[1;33m(\u001b[0m\u001b[1;34mf\"{not_found} not in index\"\u001b[0m\u001b[1;33m)\u001b[0m\u001b[1;33m\u001b[0m\u001b[1;33m\u001b[0m\u001b[0m\n\u001b[0m\u001b[0;32m   1317\u001b[0m \u001b[1;33m\u001b[0m\u001b[0m\n\u001b[0;32m   1318\u001b[0m             \u001b[0mnot_found\u001b[0m \u001b[1;33m=\u001b[0m \u001b[0mkey\u001b[0m\u001b[1;33m[\u001b[0m\u001b[0mmissing_mask\u001b[0m\u001b[1;33m]\u001b[0m\u001b[1;33m\u001b[0m\u001b[1;33m\u001b[0m\u001b[0m\n",
      "\u001b[1;31mKeyError\u001b[0m: \"['Index'] not in index\""
     ]
    }
   ],
   "source": [
    "names = names[col_names]"
   ]
  },
  {
   "cell_type": "code",
   "execution_count": null,
   "id": "1ca8e70a",
   "metadata": {},
   "outputs": [],
   "source": [
    "names.head()"
   ]
  },
  {
   "cell_type": "code",
   "execution_count": null,
   "id": "28108199",
   "metadata": {},
   "outputs": [],
   "source": [
    "# get all the files per pillar\n",
    "data_stats = names.groupby('check').agg({'Filename':'count','Indicator':'count'})"
   ]
  },
  {
   "cell_type": "code",
   "execution_count": null,
   "id": "720cfe7c",
   "metadata": {},
   "outputs": [],
   "source": [
    "data_stats"
   ]
  },
  {
   "cell_type": "code",
   "execution_count": null,
   "id": "92878799",
   "metadata": {},
   "outputs": [],
   "source": [
    "### Infrastructure"
   ]
  },
  {
   "cell_type": "code",
   "execution_count": null,
   "id": "bad8837c",
   "metadata": {},
   "outputs": [],
   "source": [
    "bnames = names[(names.check=='Infrastructure')&(~names.Filename.isna())]#&(names.Index==False)]\n",
    "bnames.head(25)"
   ]
  },
  {
   "cell_type": "code",
   "execution_count": null,
   "id": "9fb575e2",
   "metadata": {},
   "outputs": [],
   "source": [
    "# get list of names for all indicators\n",
    "indicators = bnames.Indicator.unique()\n",
    "subpillars = bnames['Sub-Pillar'].unique()"
   ]
  },
  {
   "cell_type": "code",
   "execution_count": null,
   "id": "c6705d41",
   "metadata": {},
   "outputs": [],
   "source": [
    "# get all file names\n",
    "bfiles = bnames.Filename.unique()"
   ]
  },
  {
   "cell_type": "code",
   "execution_count": null,
   "id": "b810a370",
   "metadata": {},
   "outputs": [],
   "source": [
    "bfiles"
   ]
  },
  {
   "cell_type": "code",
   "execution_count": null,
   "id": "b0f68220",
   "metadata": {},
   "outputs": [],
   "source": [
    "subpillars"
   ]
  },
  {
   "cell_type": "code",
   "execution_count": null,
   "id": "ab444869",
   "metadata": {},
   "outputs": [],
   "source": [
    "# formula for converting scale 0-100\n",
    "def convert_rank(old_value, old_min= 0, old_max= 100, new_min=1, new_max=6 ):\n",
    "    \"\"\" Convert old scale values scale into new scale values\"\"\"\n",
    "    old_range = old_max - old_min\n",
    "    new_range = new_max - new_min\n",
    "    new_value = (((old_value-old_min)*new_range)/old_range)+new_min\n",
    "    return new_value"
   ]
  },
  {
   "cell_type": "code",
   "execution_count": null,
   "id": "ba183c30",
   "metadata": {},
   "outputs": [],
   "source": [
    "# formula for converting scale 0-1\n",
    "def convert_rank_b(old_value, old_min= 0, old_max= 1, new_min=1, new_max=6 ):\n",
    "    \"\"\" Convert old scale values scale into new scale values\"\"\"\n",
    "    old_range = old_max - old_min\n",
    "    new_range = new_max - new_min\n",
    "    new_value = (((old_value-old_min)*new_range)/old_range)+new_min\n",
    "    return new_value"
   ]
  },
  {
   "cell_type": "code",
   "execution_count": null,
   "id": "3717fc1b",
   "metadata": {},
   "outputs": [],
   "source": [
    "# formula for converting scale 1-5\n",
    "def convert_rank_c(old_value, old_min= 1, old_max= 5, new_min=1, new_max=6 ):\n",
    "    \"\"\" Convert old scale values scale into new scale values\"\"\"\n",
    "    old_range = old_max - old_min\n",
    "    new_range = new_max - new_min\n",
    "    new_value = (((old_value-old_min)*new_range)/old_range)+new_min\n",
    "    return new_value"
   ]
  },
  {
   "cell_type": "code",
   "execution_count": null,
   "id": "657e819d",
   "metadata": {},
   "outputs": [],
   "source": [
    "# formula for converting scale 1-7\n",
    "def convert_rank_d(old_value, old_min= 1, old_max= 7, new_min=1, new_max=6 ):\n",
    "    \"\"\" Convert old scale values scale into new scale values\"\"\"\n",
    "    old_range = old_max - old_min\n",
    "    new_range = new_max - new_min\n",
    "    new_value = (((old_value-old_min)*new_range)/old_range)+new_min\n",
    "    return new_value"
   ]
  },
  {
   "cell_type": "code",
   "execution_count": null,
   "id": "2ef1ac5f",
   "metadata": {},
   "outputs": [],
   "source": [
    "### 1. Population Density"
   ]
  },
  {
   "cell_type": "code",
   "execution_count": null,
   "id": "472264cb",
   "metadata": {},
   "outputs": [],
   "source": [
    "### 2. Broadband Density"
   ]
  },
  {
   "cell_type": "code",
   "execution_count": null,
   "id": "d94de1d3",
   "metadata": {},
   "outputs": [],
   "source": [
    "indicators[1]\n",
    "\n",
    "# load data\n",
    "indicator = indicators[1]\n",
    "print(indicator)\n",
    "bf = bnames[bnames['Indicator']==indicator]['Filename'].values[0]\n",
    "print(bf)\n",
    "\n",
    "df = pd.read_csv('../../processed/{}.csv'.format(bf))\n",
    "df"
   ]
  },
  {
   "cell_type": "code",
   "execution_count": null,
   "id": "cbbaa92f",
   "metadata": {},
   "outputs": [],
   "source": [
    "df = df[(df.Year == 2020)]\n",
    "df = df[(df['Indicator name'] == 'Fixed broadband subscriptions per 100 inhabitants')]\n",
    "df.rename(columns={'Country':'Country Name'}, inplace=True)\n",
    "df"
   ]
  },
  {
   "cell_type": "code",
   "execution_count": null,
   "id": "ce5574a6",
   "metadata": {},
   "outputs": [],
   "source": [
    "subpillars[0]\n",
    "subpillar = subpillars[0]\n",
    "print(subpillar)"
   ]
  },
  {
   "cell_type": "code",
   "execution_count": null,
   "id": "f8327918",
   "metadata": {
    "scrolled": true
   },
   "outputs": [],
   "source": [
    "df['higher_is_better'] = True\n",
    "df['Year'] = 2020\n",
    "df['Indicator'] = indicator\n",
    "df['data_col'] = df['Value']\n",
    "df['Sub-Pillar'] = subpillar\n",
    "\n",
    "min_rank = df['data_col'].min()\n",
    "max_rank = df['data_col'].max()\n",
    "\n",
    "# transform 0-1 rank into 1-6\n",
    "df['new_rank_score'] = df['data_col'].apply(lambda row: convert_rank(row,old_min=0,old_max=100))"
   ]
  },
  {
   "cell_type": "code",
   "execution_count": null,
   "id": "a30afbbd",
   "metadata": {},
   "outputs": [],
   "source": [
    "df = df[['Country Name', 'Year','Indicator','data_col','new_rank_score','higher_is_better','Sub-Pillar']]\n",
    "df"
   ]
  },
  {
   "cell_type": "code",
   "execution_count": null,
   "id": "fb3b9073",
   "metadata": {},
   "outputs": [],
   "source": [
    "df.to_csv('../indicator_scores/infrastructure_{}_scores.csv'.format(indicator))"
   ]
  },
  {
   "cell_type": "code",
   "execution_count": null,
   "id": "53b0f8d5",
   "metadata": {},
   "outputs": [],
   "source": [
    "### 3. % of population covered by internet connectivity"
   ]
  },
  {
   "cell_type": "code",
   "execution_count": null,
   "id": "999e08b3",
   "metadata": {},
   "outputs": [],
   "source": [
    "indicators[2]\n",
    "\n",
    "# load data\n",
    "indicator = indicators[2]\n",
    "print(indicator)\n",
    "bf = bnames[bnames['Indicator']==indicator]['Filename'].values[0]\n",
    "print(bf)\n",
    "\n",
    "df = pd.read_csv('../../processed/{}.csv'.format(bf))"
   ]
  },
  {
   "cell_type": "code",
   "execution_count": null,
   "id": "e83c10d3",
   "metadata": {},
   "outputs": [],
   "source": [
    "df = df[(df.Year == 2019)]\n",
    "df = df[(df['Indicator name']== 'Individuals using the Internet, total (%)')]\n",
    "df"
   ]
  },
  {
   "cell_type": "code",
   "execution_count": null,
   "id": "ddb89fbe",
   "metadata": {},
   "outputs": [],
   "source": [
    "subpillars[0]\n",
    "subpillar = subpillars[0]\n",
    "print(subpillar)"
   ]
  },
  {
   "cell_type": "code",
   "execution_count": null,
   "id": "c40fbc45",
   "metadata": {},
   "outputs": [],
   "source": [
    "# create standard columns\n",
    "# df.rename(columns={'COUNTRY/ECONOMY':'Country Name'}, inplace=True)\n",
    "df['higher_is_better'] = True\n",
    "df['Indicator'] = indicator\n",
    "df['data_col'] = df['Value']\n",
    "df.rename(columns={'Country':'Country Name'}, inplace=True)\n",
    "df['Sub-Pillar'] = subpillar\n",
    "\n",
    "min_rank = df['data_col'].min()\n",
    "max_rank = df['data_col'].max()\n",
    "\n",
    "# transform 0-1 rank into 1-6\n",
    "df['new_rank_score'] = df['data_col'].apply(lambda row: convert_rank(row,old_min=0,old_max=100))"
   ]
  },
  {
   "cell_type": "code",
   "execution_count": null,
   "id": "3500a6a9",
   "metadata": {},
   "outputs": [],
   "source": [
    "df = df[['Country Name', 'Year','Indicator','data_col','new_rank_score','higher_is_better','Sub-Pillar']]\n",
    "df"
   ]
  },
  {
   "cell_type": "code",
   "execution_count": null,
   "id": "d8cc3e3d",
   "metadata": {},
   "outputs": [],
   "source": [
    "df.to_csv('../indicator_scores/infrastructure_{}_scores.csv'.format(indicator), index=False)"
   ]
  },
  {
   "cell_type": "code",
   "execution_count": null,
   "id": "53302f88",
   "metadata": {},
   "outputs": [],
   "source": [
    "### 4. % of population covered by mobile 2G"
   ]
  },
  {
   "cell_type": "code",
   "execution_count": null,
   "id": "41f62d02",
   "metadata": {},
   "outputs": [],
   "source": [
    "indicators[3]"
   ]
  },
  {
   "cell_type": "code",
   "execution_count": null,
   "id": "789c79af",
   "metadata": {},
   "outputs": [],
   "source": [
    "# load data\n",
    "indicator = indicators[3]\n",
    "print(indicator)\n",
    "bf = bnames[bnames['Indicator']==indicator]['Filename'].values[0]\n",
    "print(bf)\n",
    "\n",
    "df = pd.read_csv('../../processed/{}.csv'.format(bf))"
   ]
  },
  {
   "cell_type": "code",
   "execution_count": null,
   "id": "9504bf09",
   "metadata": {},
   "outputs": [],
   "source": [
    "df.head(10)"
   ]
  },
  {
   "cell_type": "code",
   "execution_count": null,
   "id": "7cf8df20",
   "metadata": {},
   "outputs": [],
   "source": [
    "subpillars[0]\n",
    "subpillar = subpillars[0]\n",
    "print(subpillar)"
   ]
  },
  {
   "cell_type": "code",
   "execution_count": null,
   "id": "5b1f2cd9",
   "metadata": {},
   "outputs": [],
   "source": [
    "# filter most recent year\n",
    "df = df[(df.Year==2019)]\n"
   ]
  },
  {
   "cell_type": "code",
   "execution_count": null,
   "id": "8e3e4e36",
   "metadata": {},
   "outputs": [],
   "source": [
    "# create standard columns\n",
    "df.rename(columns={'Country':'Country Name'}, inplace=True)\n",
    "df['higher_is_better'] = True\n",
    "df['Indicator'] = indicator\n",
    "df['data_col'] = df['2G Coverage'] \n",
    "df['Sub-Pillar'] = subpillar\n",
    "\n",
    "min_rank = df['data_col'].min()\n",
    "max_rank = df['data_col'].max()\n",
    "\n",
    "# transform 0-1 rank into 1-6\n",
    "df['new_rank_score'] = df['data_col'].apply(lambda row: convert_rank(row,old_min=0,old_max=100))"
   ]
  },
  {
   "cell_type": "code",
   "execution_count": null,
   "id": "3184954d",
   "metadata": {},
   "outputs": [],
   "source": [
    "df = df[['Country Name', 'Year','Indicator','data_col','new_rank_score','higher_is_better','Sub-Pillar']]\n",
    "df"
   ]
  },
  {
   "cell_type": "code",
   "execution_count": null,
   "id": "8757ae02",
   "metadata": {},
   "outputs": [],
   "source": [
    "df.to_csv('../indicator_scores/infrastructure_{}_scores.csv'.format(indicator), index=False)"
   ]
  },
  {
   "cell_type": "code",
   "execution_count": null,
   "id": "f565ffe5",
   "metadata": {},
   "outputs": [],
   "source": [
    "### 5. % of population covered by mobile 3G"
   ]
  },
  {
   "cell_type": "code",
   "execution_count": null,
   "id": "b64b4113",
   "metadata": {},
   "outputs": [],
   "source": [
    "indicators[4]\n",
    "\n",
    "# load data\n",
    "indicator = indicators[4]\n",
    "print(indicator)\n",
    "bf = bnames[bnames['Indicator']==indicator]['Filename'].values[0]\n",
    "print(bf)\n",
    "\n",
    "df = pd.read_csv('../../processed/{}.csv'.format(bf))"
   ]
  },
  {
   "cell_type": "code",
   "execution_count": null,
   "id": "4eeafdcc",
   "metadata": {},
   "outputs": [],
   "source": [
    "df.head(10)"
   ]
  },
  {
   "cell_type": "code",
   "execution_count": null,
   "id": "7c678475",
   "metadata": {},
   "outputs": [],
   "source": [
    "subpillars[0]\n",
    "subpillar = subpillars[0]\n",
    "print(subpillar)"
   ]
  },
  {
   "cell_type": "code",
   "execution_count": null,
   "id": "73ca8fb5",
   "metadata": {},
   "outputs": [],
   "source": [
    "# filter most recent year\n",
    "df = df[(df.Year==2019)]\n",
    "\n",
    "# create standard columns\n",
    "df.rename(columns={'Country':'Country Name'}, inplace=True)\n",
    "df['higher_is_better'] = True\n",
    "df['Indicator'] = indicator\n",
    "df['data_col'] = df['3G Coverage'] \n",
    "df['Sub-Pillar'] = subpillar\n",
    "\n",
    "min_rank = df['data_col'].min()\n",
    "max_rank = df['data_col'].max()\n",
    "\n",
    "# transform 0-1 rank into 1-6\n",
    "df['new_rank_score'] = df['data_col'].apply(lambda row: convert_rank(row,old_min=0,old_max=100))"
   ]
  },
  {
   "cell_type": "code",
   "execution_count": null,
   "id": "5ba49e65",
   "metadata": {},
   "outputs": [],
   "source": [
    "df = df[['Country Name', 'Year','Indicator','data_col','new_rank_score','higher_is_better','Sub-Pillar']]\n",
    "df"
   ]
  },
  {
   "cell_type": "code",
   "execution_count": null,
   "id": "38f830ad",
   "metadata": {},
   "outputs": [],
   "source": [
    "df.to_csv('../indicator_scores/infrastructure_{}_scores.csv'.format(indicator), index=False)"
   ]
  },
  {
   "cell_type": "code",
   "execution_count": null,
   "id": "bb3bd202",
   "metadata": {},
   "outputs": [],
   "source": [
    "### 6. % of population covered by mobile 4G"
   ]
  },
  {
   "cell_type": "code",
   "execution_count": null,
   "id": "e41294d4",
   "metadata": {},
   "outputs": [],
   "source": [
    "indicators[5]\n",
    "\n",
    "# load data\n",
    "indicator = indicators[5]\n",
    "print(indicator)\n",
    "bf = bnames[bnames['Indicator']==indicator]['Filename'].values[0]\n",
    "print(bf)\n",
    "\n",
    "df = pd.read_csv('../../processed/{}.csv'.format(bf))"
   ]
  },
  {
   "cell_type": "code",
   "execution_count": null,
   "id": "f389effe",
   "metadata": {},
   "outputs": [],
   "source": [
    "df.head(10)"
   ]
  },
  {
   "cell_type": "code",
   "execution_count": null,
   "id": "401b67a4",
   "metadata": {},
   "outputs": [],
   "source": [
    "subpillars[0]\n",
    "subpillar = subpillars[0]\n",
    "print(subpillar)"
   ]
  },
  {
   "cell_type": "code",
   "execution_count": null,
   "id": "df354f02",
   "metadata": {},
   "outputs": [],
   "source": [
    "# filter most recent year\n",
    "df = df[(df.Year==2019)]\n",
    "\n",
    "# create standard columns\n",
    "df.rename(columns={'Country':'Country Name'}, inplace=True)\n",
    "df['higher_is_better'] = True\n",
    "df['Indicator'] = indicator\n",
    "df['data_col'] = df['4G Coverage'] \n",
    "df['Sub-Pillar'] = subpillar\n",
    "\n",
    "min_rank = df['data_col'].min()\n",
    "max_rank = df['data_col'].max()\n",
    "\n",
    "# transform 0-1 rank into 1-6\n",
    "df['new_rank_score'] = df['data_col'].apply(lambda row: convert_rank(row,old_min=0,old_max=100))"
   ]
  },
  {
   "cell_type": "code",
   "execution_count": null,
   "id": "957e78ad",
   "metadata": {},
   "outputs": [],
   "source": [
    "df = df[['Country Name', 'Year','Indicator','data_col','new_rank_score','higher_is_better','Sub-Pillar']]\n",
    "df"
   ]
  },
  {
   "cell_type": "code",
   "execution_count": null,
   "id": "32361b6d",
   "metadata": {},
   "outputs": [],
   "source": [
    "df.to_csv('../indicator_scores/infrastructure_{}_scores.csv'.format(indicator), index=False)"
   ]
  },
  {
   "cell_type": "code",
   "execution_count": null,
   "id": "6d70aef4",
   "metadata": {},
   "outputs": [],
   "source": [
    "### 7. % of population covered by mobile 5G"
   ]
  },
  {
   "cell_type": "code",
   "execution_count": null,
   "id": "c2f37fdb",
   "metadata": {},
   "outputs": [],
   "source": [
    "indicators[6]\n",
    "\n",
    "# load data\n",
    "indicator = indicators[6]\n",
    "print(indicator)\n",
    "bf = bnames[bnames['Indicator']==indicator]['Filename'].values[0]\n",
    "print(bf)\n",
    "\n",
    "df = pd.read_csv('../../processed/{}.csv'.format(bf))"
   ]
  },
  {
   "cell_type": "code",
   "execution_count": null,
   "id": "572363fc",
   "metadata": {},
   "outputs": [],
   "source": [
    "df.head(10)"
   ]
  },
  {
   "cell_type": "code",
   "execution_count": null,
   "id": "0a44607b",
   "metadata": {},
   "outputs": [],
   "source": [
    "subpillars[0]\n",
    "subpillar = subpillars[0]\n",
    "print(subpillar)"
   ]
  },
  {
   "cell_type": "code",
   "execution_count": null,
   "id": "963432d6",
   "metadata": {},
   "outputs": [],
   "source": [
    "# filter most recent year\n",
    "df = df[(df.Year==2019)]\n",
    "\n",
    "# create standard columns\n",
    "df.rename(columns={'Country':'Country Name'}, inplace=True)\n",
    "df['higher_is_better'] = True\n",
    "df['Indicator'] = indicator\n",
    "df['data_col'] = df['5G Coverage'] \n",
    "df['Sub-Pillar'] = subpillar\n",
    "\n",
    "min_rank = df['data_col'].min()\n",
    "max_rank = df['data_col'].max()\n",
    "\n",
    "# transform 0-1 rank into 1-6\n",
    "df['new_rank_score'] = df['data_col'].apply(lambda row: convert_rank(row,old_min=0,old_max=100))"
   ]
  },
  {
   "cell_type": "code",
   "execution_count": null,
   "id": "7a9c38bd",
   "metadata": {},
   "outputs": [],
   "source": [
    "df = df[['Country Name', 'Year','Indicator','data_col','new_rank_score','higher_is_better','Sub-Pillar']]\n",
    "df"
   ]
  },
  {
   "cell_type": "code",
   "execution_count": null,
   "id": "03371f74",
   "metadata": {},
   "outputs": [],
   "source": [
    "df.to_csv('../indicator_scores/infrastructure_{}_scores.csv'.format(indicator), index=False)"
   ]
  },
  {
   "cell_type": "code",
   "execution_count": null,
   "id": "10d9ac90",
   "metadata": {},
   "outputs": [],
   "source": [
    "### 8. Mobile Coverage Maps"
   ]
  },
  {
   "cell_type": "code",
   "execution_count": null,
   "id": "2d680ea7",
   "metadata": {},
   "outputs": [],
   "source": [
    "indicators[7]\n",
    "\n",
    "# load data\n",
    "indicator = indicators[7]\n",
    "print(indicator)\n",
    "bf = bnames[bnames['Indicator']==indicator]['Filename'].values[0]\n",
    "print(bf)\n",
    "\n",
    "df = pd.read_csv('../../processed/{}.csv'.format(bf))"
   ]
  },
  {
   "cell_type": "code",
   "execution_count": null,
   "id": "b53fa911",
   "metadata": {},
   "outputs": [],
   "source": [
    "df.head(15)"
   ]
  },
  {
   "cell_type": "code",
   "execution_count": null,
   "id": "d144ceba",
   "metadata": {},
   "outputs": [],
   "source": [
    "subpillars[0]\n",
    "subpillar = subpillars[0]\n",
    "print(subpillar)"
   ]
  },
  {
   "cell_type": "code",
   "execution_count": null,
   "id": "e3840b36",
   "metadata": {},
   "outputs": [],
   "source": [
    "df = df[(df.Year == 2020)]\n",
    "df = df[(df['Indicator name']== 'Mobile-cellular subscriptions per 100 inhabitants')]\n",
    "df"
   ]
  },
  {
   "cell_type": "code",
   "execution_count": null,
   "id": "9aa31646",
   "metadata": {},
   "outputs": [],
   "source": [
    "# create standard columns\n",
    "df.rename(columns={'Country':'Country Name'}, inplace=True)\n",
    "df['higher_is_better'] = True\n",
    "df['Indicator'] = indicator\n",
    "df['data_col'] = df['Value'] \n",
    "df['Sub-Pillar'] = subpillar\n",
    "\n",
    "min_rank = df['data_col'].min()\n",
    "max_rank = df['data_col'].max()\n",
    "\n",
    "# transform 0-1 rank into 1-6\n",
    "df['new_rank_score'] = df['data_col'].apply(lambda row: convert_rank(row,old_min=0,old_max=max_rank))"
   ]
  },
  {
   "cell_type": "code",
   "execution_count": null,
   "id": "3779d6f8",
   "metadata": {},
   "outputs": [],
   "source": [
    "df = df[['Country Name', 'Year','Indicator','data_col','new_rank_score','higher_is_better','Sub-Pillar']]\n",
    "df"
   ]
  },
  {
   "cell_type": "code",
   "execution_count": null,
   "id": "05e14137",
   "metadata": {},
   "outputs": [],
   "source": [
    "df.to_csv('../indicator_scores/infrastructure_{}_scores.csv'.format(indicator), index=False)"
   ]
  },
  {
   "cell_type": "code",
   "execution_count": null,
   "id": "b6c0893b",
   "metadata": {},
   "outputs": [],
   "source": [
    "### 9. Electricity Density"
   ]
  },
  {
   "cell_type": "code",
   "execution_count": null,
   "id": "6dfdbb3c",
   "metadata": {},
   "outputs": [],
   "source": [
    "indicators[8]\n",
    "\n",
    "# load data\n",
    "indicator = indicators[8]\n",
    "print(indicator)\n",
    "bf = bnames[bnames['Indicator']==indicator]['Filename'].values[0]\n",
    "print(bf)\n",
    "\n",
    "df = pd.read_csv('../../processed/{}.csv'.format(bf))"
   ]
  },
  {
   "cell_type": "code",
   "execution_count": null,
   "id": "043c02e2",
   "metadata": {},
   "outputs": [],
   "source": [
    "df.head(20)"
   ]
  },
  {
   "cell_type": "code",
   "execution_count": null,
   "id": "d51ad659",
   "metadata": {},
   "outputs": [],
   "source": [
    "subpillars[0]\n",
    "subpillar = subpillars[0]\n",
    "print(subpillar)"
   ]
  },
  {
   "cell_type": "code",
   "execution_count": null,
   "id": "d8f10ca3",
   "metadata": {},
   "outputs": [],
   "source": [
    "# filter most recent year\n",
    "df = df[(df.year==2019)]"
   ]
  },
  {
   "cell_type": "code",
   "execution_count": null,
   "id": "d038de98",
   "metadata": {},
   "outputs": [],
   "source": [
    "# create standard columns\n",
    "df['higher_is_better'] = True\n",
    "df['Indicator'] = indicator\n",
    "df['data_col'] = df['per_capita_electricity'] \n",
    "df['Sub-Pillar'] = subpillar\n",
    "df['Country Name'] = df['country']\n",
    "df['Year'] = df['year']\n",
    "\n",
    "min_rank = df['data_col'].min()\n",
    "max_rank = df['data_col'].max()\n",
    "\n",
    "# transform 0-1 rank into 1-6\n",
    "df['new_rank_score'] = df['data_col'].apply(lambda row: convert_rank(row,old_min=min_rank,old_max=max_rank))"
   ]
  },
  {
   "cell_type": "code",
   "execution_count": null,
   "id": "f231c229",
   "metadata": {},
   "outputs": [],
   "source": [
    "df = df[['Country Name', 'Year','Indicator','data_col','new_rank_score','higher_is_better','Sub-Pillar']]\n",
    "df"
   ]
  },
  {
   "cell_type": "code",
   "execution_count": null,
   "id": "914fafdf",
   "metadata": {},
   "outputs": [],
   "source": [
    "df.to_csv('../indicator_scores/infrastructure_{}_scores.csv'.format(indicator), index=False)"
   ]
  },
  {
   "cell_type": "code",
   "execution_count": null,
   "id": "eae74b3d",
   "metadata": {},
   "outputs": [],
   "source": [
    "### 10. % of population covered by electricity"
   ]
  },
  {
   "cell_type": "code",
   "execution_count": null,
   "id": "af2344c9",
   "metadata": {},
   "outputs": [],
   "source": [
    "indicators[9]\n",
    "\n",
    "# load data\n",
    "indicator = indicators[9]\n",
    "print(indicator)\n",
    "bf = bnames[bnames['Indicator']==indicator]['Filename'].values[0]\n",
    "print(bf)\n",
    "\n",
    "df = pd.read_csv('../../processed/{}.csv'.format(bf))"
   ]
  },
  {
   "cell_type": "code",
   "execution_count": null,
   "id": "5d395a7b",
   "metadata": {},
   "outputs": [],
   "source": [
    "df.head(15)"
   ]
  },
  {
   "cell_type": "code",
   "execution_count": null,
   "id": "d2979d97",
   "metadata": {},
   "outputs": [],
   "source": [
    "subpillars[0]\n",
    "subpillar = subpillars[0]\n",
    "print(subpillar)"
   ]
  },
  {
   "cell_type": "code",
   "execution_count": null,
   "id": "685cc0ed",
   "metadata": {},
   "outputs": [],
   "source": [
    "# create standard columns\n",
    "df['higher_is_better'] = True\n",
    "df['Indicator'] = indicator\n",
    "df['data_col'] = df['2019'] \n",
    "df['Year'] = 2019\n",
    "df['Sub-Pillar'] = subpillar\n",
    "\n",
    "min_rank = df['data_col'].min()\n",
    "max_rank = df['data_col'].max()\n",
    "\n",
    "# transform 0-1 rank into 1-6\n",
    "df['new_rank_score'] = df['data_col'].apply(lambda row: convert_rank(row,old_min=0,old_max=100))"
   ]
  },
  {
   "cell_type": "code",
   "execution_count": null,
   "id": "6399e138",
   "metadata": {},
   "outputs": [],
   "source": [
    "df = df[['Country Name', 'Year','Indicator','data_col','new_rank_score','higher_is_better','Sub-Pillar']]\n",
    "df\n"
   ]
  },
  {
   "cell_type": "code",
   "execution_count": null,
   "id": "821e8ea3",
   "metadata": {},
   "outputs": [],
   "source": [
    "df.to_csv('../indicator_scores/infrastructure_{}_scores.csv'.format(indicator), index=False)"
   ]
  },
  {
   "cell_type": "code",
   "execution_count": null,
   "id": "ec938a9f",
   "metadata": {},
   "outputs": [],
   "source": [
    "### 11. Electricity Supply Quality"
   ]
  },
  {
   "cell_type": "code",
   "execution_count": null,
   "id": "60c61b5f",
   "metadata": {},
   "outputs": [],
   "source": [
    "indicators[10]\n",
    "\n",
    "# load data\n",
    "indicator = indicators[10]\n",
    "print(indicator)\n",
    "bf = bnames[bnames['Indicator']==indicator]['Filename'].values[0]\n",
    "print(bf)\n",
    "\n",
    "df = pd.read_csv('../../processed/{}.csv'.format(bf))"
   ]
  },
  {
   "cell_type": "code",
   "execution_count": null,
   "id": "4b8d2af9",
   "metadata": {
    "scrolled": true
   },
   "outputs": [],
   "source": [
    "df.head(10)"
   ]
  },
  {
   "cell_type": "code",
   "execution_count": null,
   "id": "bf5e2ba0",
   "metadata": {},
   "outputs": [],
   "source": [
    "subpillars[0]\n",
    "subpillar = subpillars[0]\n",
    "print(subpillar)"
   ]
  },
  {
   "cell_type": "code",
   "execution_count": null,
   "id": "ba482718",
   "metadata": {},
   "outputs": [],
   "source": [
    "df = df[(df.Indicator == 'Quality of electricity supply')]\n",
    "df = df[(df['Subindicator Type'] == '1-7 Best')]\n",
    "df"
   ]
  },
  {
   "cell_type": "code",
   "execution_count": null,
   "id": "9b0889bf",
   "metadata": {},
   "outputs": [],
   "source": [
    "df['higher_is_better'] = True\n",
    "df['Year'] = 2018\n",
    "df['Indicator'] = indicator\n",
    "df['data_col'] = df['2017-2018']\n",
    "df['Sub-Pillar'] = subpillar\n",
    "\n",
    "min_rank = df['data_col'].min()\n",
    "max_rank = df['data_col'].max()\n",
    "\n",
    "# transform 0-1 rank into 1-6\n",
    "df['new_rank_score'] = df['data_col'].apply(lambda row: convert_rank(row,old_min=1,old_max=7))"
   ]
  },
  {
   "cell_type": "code",
   "execution_count": null,
   "id": "a9c7324d",
   "metadata": {},
   "outputs": [],
   "source": [
    "df = df[['Country Name', 'Year','Indicator','data_col','new_rank_score','higher_is_better','Sub-Pillar']]\n",
    "df"
   ]
  },
  {
   "cell_type": "code",
   "execution_count": null,
   "id": "a030befa",
   "metadata": {},
   "outputs": [],
   "source": [
    "df.to_csv('../indicator_scores/infrastructure_{}_scores.csv'.format(indicator), index=False)"
   ]
  },
  {
   "cell_type": "code",
   "execution_count": null,
   "id": "02400ad1",
   "metadata": {},
   "outputs": [],
   "source": [
    "### 12. Electricity Environmental Sustainability"
   ]
  },
  {
   "cell_type": "code",
   "execution_count": null,
   "id": "e8920862",
   "metadata": {},
   "outputs": [],
   "source": [
    "indicators[11]\n",
    "\n",
    "# load data\n",
    "indicator = indicators[11]\n",
    "print(indicator)\n",
    "bf = bnames[bnames['Indicator']==indicator]['Filename'].values[0]\n",
    "print(bf)\n",
    "\n",
    "df = pd.read_csv('../../processed/{}.csv'.format(bf))"
   ]
  },
  {
   "cell_type": "code",
   "execution_count": null,
   "id": "74a1634f",
   "metadata": {},
   "outputs": [],
   "source": [
    "df.head(15)"
   ]
  },
  {
   "cell_type": "code",
   "execution_count": null,
   "id": "f30a702f",
   "metadata": {},
   "outputs": [],
   "source": [
    "subpillars[0]\n",
    "subpillar = subpillars[0]\n",
    "print(subpillar)"
   ]
  },
  {
   "cell_type": "code",
   "execution_count": null,
   "id": "43eb5edf",
   "metadata": {},
   "outputs": [],
   "source": [
    "# create standard columns\n",
    "df.rename(columns={'Country':'Country Name'}, inplace=True)\n",
    "df['higher_is_better'] = True\n",
    "df['Indicator'] = indicator\n",
    "df['data_col'] = df['2021 SDG Index Score'] \n",
    "df['Year'] = 2021\n",
    "df['Sub-Pillar'] = subpillar\n",
    "\n",
    "min_rank = df['data_col'].min()\n",
    "max_rank = df['data_col'].max()\n",
    "\n",
    "# transform 0-1 rank into 1-6\n",
    "df['new_rank_score'] = df['data_col'].apply(lambda row: convert_rank(row,old_min=0,old_max=100))"
   ]
  },
  {
   "cell_type": "code",
   "execution_count": null,
   "id": "4ddc2959",
   "metadata": {},
   "outputs": [],
   "source": [
    "df = df[['Country Name', 'Year','Indicator','data_col','new_rank_score','higher_is_better','Sub-Pillar']]\n",
    "df"
   ]
  },
  {
   "cell_type": "code",
   "execution_count": null,
   "id": "41815eef",
   "metadata": {},
   "outputs": [],
   "source": [
    "df.to_csv('../indicator_scores/infrastructure_{}_scores.csv'.format(indicator), index=False)"
   ]
  },
  {
   "cell_type": "code",
   "execution_count": null,
   "id": "0fb83b05",
   "metadata": {},
   "outputs": [],
   "source": [
    "### 13. Cellphone Signal Density"
   ]
  },
  {
   "cell_type": "code",
   "execution_count": null,
   "id": "7f1b0e7a",
   "metadata": {},
   "outputs": [],
   "source": [
    "indicators[12]\n",
    "\n",
    "# load data\n",
    "indicator = indicators[12]\n",
    "print(indicator)\n",
    "bf = bnames[bnames['Indicator']==indicator]['Filename'].values[0]\n",
    "print(bf)\n",
    "\n",
    "df = pd.read_csv('../../processed/{}.csv'.format(bf))"
   ]
  },
  {
   "cell_type": "code",
   "execution_count": null,
   "id": "87a21c58",
   "metadata": {},
   "outputs": [],
   "source": [
    "df.head(10)"
   ]
  },
  {
   "cell_type": "code",
   "execution_count": null,
   "id": "50509cce",
   "metadata": {},
   "outputs": [],
   "source": [
    "subpillars[0]\n",
    "subpillar = subpillars[0]\n",
    "print(subpillar)"
   ]
  },
  {
   "cell_type": "code",
   "execution_count": null,
   "id": "0d2227ca",
   "metadata": {},
   "outputs": [],
   "source": [
    "df = df[(df.Year == 2019)]\n",
    "\n",
    "# create standard columns\n",
    "df.rename(columns={'Country':'Country Name'}, inplace=True)\n",
    "df['higher_is_better'] = True\n",
    "df['Indicator'] = indicator\n",
    "df['data_col'] = df['Network coverage'] \n",
    "df['Sub-Pillar'] = subpillar\n",
    "\n",
    "min_rank = df['data_col'].min()\n",
    "max_rank = df['data_col'].max()\n",
    "\n",
    "# transform 0-1 rank into 1-6\n",
    "df['new_rank_score'] = df['data_col'].apply(lambda row: convert_rank(row,old_min=0,old_max=100))"
   ]
  },
  {
   "cell_type": "code",
   "execution_count": null,
   "id": "37fb5a3b",
   "metadata": {},
   "outputs": [],
   "source": [
    "df = df[['Country Name', 'Year','Indicator','data_col','new_rank_score','higher_is_better','Sub-Pillar']]\n",
    "df"
   ]
  },
  {
   "cell_type": "code",
   "execution_count": null,
   "id": "9ab59332",
   "metadata": {},
   "outputs": [],
   "source": [
    "df.to_csv('../indicator_scores/infrastructure_{}_scores.csv'.format(indicator), index=False)"
   ]
  },
  {
   "cell_type": "code",
   "execution_count": null,
   "id": "c44107f5",
   "metadata": {},
   "outputs": [],
   "source": [
    "### 14. Telecommunication Infrastructure Index (TII)"
   ]
  },
  {
   "cell_type": "code",
   "execution_count": null,
   "id": "dd79d3fa",
   "metadata": {
    "scrolled": true
   },
   "outputs": [],
   "source": [
    "indicators[13]\n",
    "\n",
    "# load data\n",
    "indicator = indicators[13]\n",
    "print(indicator)\n",
    "bf = bnames[bnames['Indicator']==indicator]['Filename'].values[0]\n",
    "print(bf)\n",
    "\n",
    "df = pd.read_csv('../../processed/{}.csv'.format(bf))"
   ]
  },
  {
   "cell_type": "code",
   "execution_count": null,
   "id": "7516fda0",
   "metadata": {},
   "outputs": [],
   "source": [
    "df.head(10)"
   ]
  },
  {
   "cell_type": "code",
   "execution_count": null,
   "id": "3d3c6b45",
   "metadata": {},
   "outputs": [],
   "source": [
    "subpillars[0]\n",
    "subpillar = subpillars[0]\n",
    "print(subpillar)"
   ]
  },
  {
   "cell_type": "code",
   "execution_count": null,
   "id": "cbbbc800",
   "metadata": {},
   "outputs": [],
   "source": [
    "# create standard columns\n",
    "# df.rename(columns={'COUNTRY/ECONOMY':'Country Name'}, inplace=True)\n",
    "\n",
    "df['higher_is_better'] = True\n",
    "df['Indicator'] = indicator\n",
    "df['data_col'] = df['Telecommunication Infrastructure Index'] \n",
    "df['Year'] = df['Survey Year']\n",
    "df['Sub-Pillar'] = subpillar\n",
    "\n",
    "min_rank = df['data_col'].min()\n",
    "max_rank = df['data_col'].max()\n",
    "\n",
    "# transform 0-1 rank into 1-6\n",
    "df['new_rank_score'] = df['data_col'].apply(lambda row: convert_rank_b(row,old_min=0,old_max=1))\n"
   ]
  },
  {
   "cell_type": "code",
   "execution_count": null,
   "id": "1b069fed",
   "metadata": {},
   "outputs": [],
   "source": [
    "df = df[['Country Name', 'Year','Indicator','data_col','new_rank_score','higher_is_better','Sub-Pillar']]\n",
    "df"
   ]
  },
  {
   "cell_type": "code",
   "execution_count": null,
   "id": "84fa6f80",
   "metadata": {},
   "outputs": [],
   "source": [
    "df.to_csv('../indicator_scores/infrastructure_{}_scores.csv'.format(indicator), index=False)"
   ]
  },
  {
   "cell_type": "code",
   "execution_count": null,
   "id": "617888fb",
   "metadata": {},
   "outputs": [],
   "source": [
    "### 15. GSMA Mobile Connectivity Index"
   ]
  },
  {
   "cell_type": "code",
   "execution_count": null,
   "id": "ec984cc4",
   "metadata": {},
   "outputs": [],
   "source": [
    "indicators[14]\n",
    "\n",
    "# load data\n",
    "indicator = indicators[14]\n",
    "print(indicator)\n",
    "bf = bnames[bnames['Indicator']==indicator]['Filename'].values[0]\n",
    "print(bf)\n",
    "\n",
    "df = pd.read_csv('../../processed/{}.csv'.format(bf))"
   ]
  },
  {
   "cell_type": "code",
   "execution_count": null,
   "id": "363c375f",
   "metadata": {},
   "outputs": [],
   "source": [
    "df.head(10)"
   ]
  },
  {
   "cell_type": "code",
   "execution_count": null,
   "id": "ee9e243e",
   "metadata": {},
   "outputs": [],
   "source": [
    "subpillars[0]\n",
    "subpillar = subpillars[0]\n",
    "print(subpillar)"
   ]
  },
  {
   "cell_type": "code",
   "execution_count": null,
   "id": "cfdd61b9",
   "metadata": {},
   "outputs": [],
   "source": [
    "# filter most recent year\n",
    "df = df[(df.Year==2019)]\n",
    "\n",
    "# create standard columns\n",
    "df.rename(columns={'Country':'Country Name'}, inplace=True)\n",
    "\n",
    "df['higher_is_better'] = True\n",
    "df['Indicator'] = indicator\n",
    "df['data_col'] = df['Index'] \n",
    "df['Sub-Pillar'] = subpillar\n",
    "\n",
    "min_rank = df['data_col'].min()\n",
    "max_rank = df['data_col'].max()\n",
    "\n",
    "# transform 0-1 rank into 1-6\n",
    "df['new_rank_score'] = df['data_col'].apply(lambda row: convert_rank(row,old_min=0,old_max=100))"
   ]
  },
  {
   "cell_type": "code",
   "execution_count": null,
   "id": "236f5d44",
   "metadata": {},
   "outputs": [],
   "source": [
    "df = df[['Country Name', 'Year','Indicator','data_col','new_rank_score','higher_is_better','Sub-Pillar']]\n",
    "df"
   ]
  },
  {
   "cell_type": "code",
   "execution_count": null,
   "id": "bded1ce7",
   "metadata": {},
   "outputs": [],
   "source": [
    "df.to_csv('../indicator_scores/infrastructure_{}_scores.csv'.format(indicator), index=False)"
   ]
  },
  {
   "cell_type": "code",
   "execution_count": null,
   "id": "5da6ca0d",
   "metadata": {},
   "outputs": [],
   "source": [
    "### 16. Spectrum Allocated to Mobile Providers"
   ]
  },
  {
   "cell_type": "code",
   "execution_count": null,
   "id": "3e3f2638",
   "metadata": {},
   "outputs": [],
   "source": [
    "indicators[15]\n",
    "\n",
    "# load data\n",
    "indicator = indicators[15]\n",
    "print(indicator)\n",
    "bf = bnames[bnames['Indicator']==indicator]['Filename'].values[0]\n",
    "print(bf)\n",
    "\n",
    "df = pd.read_csv('../../processed/{}.csv'.format(bf))"
   ]
  },
  {
   "cell_type": "code",
   "execution_count": null,
   "id": "b0d6e66d",
   "metadata": {},
   "outputs": [],
   "source": [
    "df.head(15)"
   ]
  },
  {
   "cell_type": "code",
   "execution_count": null,
   "id": "7d3dc482",
   "metadata": {},
   "outputs": [],
   "source": [
    "subpillars[0]\n",
    "subpillar = subpillars[0]\n",
    "print(subpillar)"
   ]
  },
  {
   "cell_type": "code",
   "execution_count": null,
   "id": "f9bb9371",
   "metadata": {},
   "outputs": [],
   "source": [
    "# filter most recent year\n",
    "df = df[(df.Year==2019)]\n",
    "\n",
    "# create standard columns\n",
    "df.rename(columns={'Country':'Country Name'}, inplace=True)\n",
    "\n",
    "df['higher_is_better'] = True\n",
    "df['Indicator'] = indicator\n",
    "df['data_col'] = df['Spectrum'] \n",
    "df['Sub-Pillar'] = subpillar\n",
    "\n",
    "min_rank = df['data_col'].min()\n",
    "max_rank = df['data_col'].max()\n",
    "\n",
    "# transform 0-1 rank into 1-6\n",
    "df['new_rank_score'] = df['data_col'].apply(lambda row: convert_rank(row,old_min=0,old_max=100))"
   ]
  },
  {
   "cell_type": "code",
   "execution_count": null,
   "id": "1afc9ba6",
   "metadata": {},
   "outputs": [],
   "source": [
    "df = df[['Country Name', 'Year','Indicator','data_col','new_rank_score','higher_is_better','Sub-Pillar']]\n",
    "df"
   ]
  },
  {
   "cell_type": "code",
   "execution_count": null,
   "id": "6caa93af",
   "metadata": {},
   "outputs": [],
   "source": [
    "df.to_csv('../indicator_scores/infrastructure_{}_scores.csv'.format(indicator), index=False)"
   ]
  },
  {
   "cell_type": "code",
   "execution_count": null,
   "id": "01e22381",
   "metadata": {},
   "outputs": [],
   "source": [
    "### 17. Internet Exchange Points (IXPs) "
   ]
  },
  {
   "cell_type": "code",
   "execution_count": null,
   "id": "354a782c",
   "metadata": {},
   "outputs": [],
   "source": [
    "indicators[16]\n",
    "\n",
    "# load data\n",
    "indicator = indicators[16]\n",
    "print(indicator)\n",
    "bf = bnames[bnames['Indicator']==indicator]['Filename'].values[0]\n",
    "print(bf)\n",
    "\n",
    "df = pd.read_csv('../../processed/{}.csv'.format(bf))\n",
    "\n"
   ]
  },
  {
   "cell_type": "code",
   "execution_count": null,
   "id": "32702014",
   "metadata": {},
   "outputs": [],
   "source": [
    "df['Country Name'] = df['Country']\n",
    "df.head(15)"
   ]
  },
  {
   "cell_type": "code",
   "execution_count": null,
   "id": "4493e558",
   "metadata": {},
   "outputs": [],
   "source": [
    "subpillars[0]\n",
    "subpillar = subpillars[0]\n",
    "print(subpillar)"
   ]
  },
  {
   "cell_type": "code",
   "execution_count": null,
   "id": "a20ea337",
   "metadata": {},
   "outputs": [],
   "source": [
    "agg_df = df.groupby('Country Name').agg({'Country':'count'})\n",
    "agg_df"
   ]
  },
  {
   "cell_type": "code",
   "execution_count": null,
   "id": "ad98bd53",
   "metadata": {},
   "outputs": [],
   "source": [
    "# create standard columns\n",
    "# df.rename(columns={'COUNTRY/ECONOMY':'Country Name'}, inplace=True)\n",
    "\n",
    "agg_df['higher_is_better'] = True\n",
    "agg_df['Indicator'] = indicator\n",
    "agg_df['data_col'] = agg_df['Country'] \n",
    "agg_df['Year'] = 2019\n",
    "agg_df['Sub-Pillar'] = subpillar\n",
    "\n",
    "min_rank = agg_df['data_col'].min()\n",
    "max_rank = agg_df['data_col'].max()\n",
    "\n",
    "# transform 0-1 rank into 1-6\n",
    "agg_df['new_rank_score'] = agg_df['data_col'].apply(lambda row: convert_rank(row,old_min=min_rank,old_max=max_rank))"
   ]
  },
  {
   "cell_type": "code",
   "execution_count": null,
   "id": "1020cfe5",
   "metadata": {},
   "outputs": [],
   "source": [
    "agg_df = agg_df[['Year','Indicator','data_col','new_rank_score','higher_is_better','Sub-Pillar']]\n",
    "agg_df"
   ]
  },
  {
   "cell_type": "code",
   "execution_count": null,
   "id": "fa541685",
   "metadata": {},
   "outputs": [],
   "source": [
    "agg_df.to_csv('../indicator_scores/infrastructure_{}_scores.csv'.format(indicator), index=False)"
   ]
  },
  {
   "cell_type": "code",
   "execution_count": null,
   "id": "becf5621",
   "metadata": {},
   "outputs": [],
   "source": [
    "### * 18. ISP Speeds - Mobile"
   ]
  },
  {
   "cell_type": "code",
   "execution_count": null,
   "id": "64380591",
   "metadata": {},
   "outputs": [],
   "source": [
    "indicators[17]\n",
    "\n",
    "# load data\n",
    "indicator = indicators[17]\n",
    "print(indicator)\n",
    "bf = bnames[bnames['Indicator']==indicator]['Filename'].values[0]\n",
    "print(bf)\n",
    "\n",
    "df = pd.read_csv('../../processed/{}.csv'.format(bf))"
   ]
  },
  {
   "cell_type": "code",
   "execution_count": null,
   "id": "4d318290",
   "metadata": {},
   "outputs": [],
   "source": [
    "df.head(15)"
   ]
  },
  {
   "cell_type": "code",
   "execution_count": null,
   "id": "ef1d2863",
   "metadata": {},
   "outputs": [],
   "source": [
    "subpillars[0]\n",
    "subpillar = subpillars[0]\n",
    "print(subpillar)"
   ]
  },
  {
   "cell_type": "code",
   "execution_count": null,
   "id": "30556c22",
   "metadata": {},
   "outputs": [],
   "source": [
    "# create standard columns\n",
    "# df.rename(columns={'COUNTRY/ECONOMY':'Country Name'}, inplace=True)\n",
    "\n",
    "df['higher_is_better'] = True\n",
    "df['Indicator'] = indicator\n",
    "df['data_col'] = df['Mbps'] \n",
    "df['Country Name'] = df['Country']\n",
    "df['Sub-Pillar'] = subpillar\n",
    "\n",
    "min_rank = df['data_col'].min()\n",
    "max_rank = df['data_col'].max()\n",
    "\n",
    "# transform 0-1 rank into 1-6\n",
    "df['new_rank_score'] = df['data_col'].apply(lambda row: convert_rank(row,old_min=min_rank,old_max=max_rank))"
   ]
  },
  {
   "cell_type": "code",
   "execution_count": null,
   "id": "8e7be719",
   "metadata": {},
   "outputs": [],
   "source": [
    "df = df[['Country Name', 'Year','Indicator','data_col','new_rank_score','higher_is_better','Sub-Pillar']]\n",
    "df"
   ]
  },
  {
   "cell_type": "code",
   "execution_count": null,
   "id": "7a43113b",
   "metadata": {},
   "outputs": [],
   "source": []
  },
  {
   "cell_type": "code",
   "execution_count": null,
   "id": "b3355e25",
   "metadata": {},
   "outputs": [],
   "source": [
    "### 19. Individuals using the Internet (% of population)"
   ]
  },
  {
   "cell_type": "code",
   "execution_count": null,
   "id": "ea073d16",
   "metadata": {},
   "outputs": [],
   "source": [
    "indicators[18]\n",
    "\n",
    "# load data\n",
    "indicator = indicators[18]\n",
    "print(indicator)\n",
    "bf = bnames[bnames['Indicator']==indicator]['Filename'].values[0]\n",
    "print(bf)\n",
    "\n",
    "df = pd.read_csv('../../processed/{}.csv'.format(bf))"
   ]
  },
  {
   "cell_type": "code",
   "execution_count": null,
   "id": "db96a823",
   "metadata": {},
   "outputs": [],
   "source": [
    "df.head(15)"
   ]
  },
  {
   "cell_type": "code",
   "execution_count": null,
   "id": "d398ce86",
   "metadata": {},
   "outputs": [],
   "source": [
    "subpillars[0]\n",
    "subpillar = subpillars[0]\n",
    "print(subpillar)"
   ]
  },
  {
   "cell_type": "code",
   "execution_count": null,
   "id": "87068a6f",
   "metadata": {},
   "outputs": [],
   "source": [
    "df = df[(df['Indicator name'] == 'Individuals using the Internet, total (%)')]\n",
    "df = df[(df.Year==2019)]\n",
    "df.head(15)"
   ]
  },
  {
   "cell_type": "code",
   "execution_count": null,
   "id": "97ab73ee",
   "metadata": {},
   "outputs": [],
   "source": [
    "# create standard columns\n",
    "# df.rename(columns={'COUNTRY/ECONOMY':'Country Name'}, inplace=True)\n",
    "\n",
    "df['higher_is_better'] = True\n",
    "df['Indicator'] = indicator\n",
    "df['data_col'] = df['Value'] \n",
    "df.rename(columns = {'Country':'Country Name'}, inplace=True)\n",
    "df['Sub-Pillar'] = subpillar\n",
    "\n",
    "min_rank = df['data_col'].min()\n",
    "max_rank = df['data_col'].max()\n",
    "\n",
    "# transform 0-1 rank into 1-6\n",
    "df['new_rank_score'] = df['data_col'].apply(lambda row: convert_rank(row,old_min=0,old_max=100))"
   ]
  },
  {
   "cell_type": "code",
   "execution_count": null,
   "id": "d3cb9f2d",
   "metadata": {},
   "outputs": [],
   "source": [
    "df = df[['Country Name', 'Year','Indicator','data_col','new_rank_score','higher_is_better','Sub-Pillar']]\n",
    "df"
   ]
  },
  {
   "cell_type": "code",
   "execution_count": null,
   "id": "19a7a216",
   "metadata": {},
   "outputs": [],
   "source": [
    "df.to_csv('../indicator_scores/infrastructure_{}_scores.csv'.format(indicator), index=False)"
   ]
  },
  {
   "cell_type": "code",
   "execution_count": null,
   "id": "0727974b",
   "metadata": {},
   "outputs": [],
   "source": [
    "### 20. Mobile-cellular subscriptions per 100 inhabitants"
   ]
  },
  {
   "cell_type": "code",
   "execution_count": null,
   "id": "42f61ff7",
   "metadata": {},
   "outputs": [],
   "source": [
    "indicators[19]\n",
    "\n",
    "# load data\n",
    "indicator = indicators[19]\n",
    "print(indicator)\n",
    "bf = bnames[bnames['Indicator']==indicator]['Filename'].values[0]\n",
    "print(bf)\n",
    "\n",
    "df = pd.read_csv('../../processed/{}.csv'.format(bf))\n",
    "\n",
    "# Waiting for internet_speed to be added to the processed folder"
   ]
  },
  {
   "cell_type": "code",
   "execution_count": null,
   "id": "ebce9128",
   "metadata": {},
   "outputs": [],
   "source": [
    "df.head(15)"
   ]
  },
  {
   "cell_type": "code",
   "execution_count": null,
   "id": "ff08361b",
   "metadata": {},
   "outputs": [],
   "source": [
    "subpillars[0]\n",
    "subpillar = subpillars[0]\n",
    "print(subpillar)"
   ]
  },
  {
   "cell_type": "code",
   "execution_count": null,
   "id": "dccfc14e",
   "metadata": {},
   "outputs": [],
   "source": [
    "df = df[(df['Indicator name'] == 'Mobile-cellular subscriptions per 100 inhabitants')]\n",
    "df = df[(df.Year==2020)]\n",
    "df.head(15)"
   ]
  },
  {
   "cell_type": "code",
   "execution_count": null,
   "id": "002c38cf",
   "metadata": {},
   "outputs": [],
   "source": [
    "# create standard columns\n",
    "# df.rename(columns={'COUNTRY/ECONOMY':'Country Name'}, inplace=True)\n",
    "\n",
    "df['higher_is_better'] = True\n",
    "df['Indicator'] = indicator\n",
    "df['data_col'] = df['Value'] \n",
    "df.rename(columns = {'Country':'Country Name'}, inplace=True)\n",
    "df['Sub-Pillar'] = subpillar\n",
    "\n",
    "min_rank = df['data_col'].min()\n",
    "max_rank = df['data_col'].max()\n",
    "\n",
    "# transform 0-1 rank into 1-6\n",
    "df['new_rank_score'] = df['data_col'].apply(lambda row: convert_rank(row,old_min=0,old_max=max_rank))"
   ]
  },
  {
   "cell_type": "code",
   "execution_count": null,
   "id": "75db7436",
   "metadata": {},
   "outputs": [],
   "source": [
    "df = df[['Country Name', 'Year','Indicator','data_col','new_rank_score','higher_is_better','Sub-Pillar']]\n",
    "df"
   ]
  },
  {
   "cell_type": "code",
   "execution_count": null,
   "id": "4bff3976",
   "metadata": {},
   "outputs": [],
   "source": [
    "df.to_csv('../indicator_scores/infrastructure_{}_scores.csv'.format(indicator), index=False)"
   ]
  },
  {
   "cell_type": "code",
   "execution_count": null,
   "id": "ce590200",
   "metadata": {},
   "outputs": [],
   "source": [
    "### 21. * Average fixed broadband download speeds"
   ]
  },
  {
   "cell_type": "code",
   "execution_count": null,
   "id": "3a77de64",
   "metadata": {},
   "outputs": [],
   "source": [
    "indicators[20]\n",
    "\n",
    "# load data\n",
    "indicator = indicators[20]\n",
    "print(indicator)\n",
    "bf = bnames[bnames['Indicator']==indicator]['Filename'].values[0]\n",
    "print(bf)\n",
    "\n",
    "df = pd.read_csv('../../processed/{}.csv'.format(bf))"
   ]
  },
  {
   "cell_type": "code",
   "execution_count": null,
   "id": "cc971a61",
   "metadata": {},
   "outputs": [],
   "source": [
    "df.head(15)"
   ]
  },
  {
   "cell_type": "code",
   "execution_count": null,
   "id": "1a7faac5",
   "metadata": {},
   "outputs": [],
   "source": [
    "subpillars[0]\n",
    "subpillar = subpillars[0]\n",
    "print(subpillar)"
   ]
  },
  {
   "cell_type": "code",
   "execution_count": null,
   "id": "31656971",
   "metadata": {},
   "outputs": [],
   "source": [
    "# create standard columns\n",
    "\n",
    "df.rename(columns={'Country':'Country Name'}, inplace=True)\n",
    "df['higher_is_better'] = True\n",
    "df['Year'] = 2021\n",
    "df['Indicator'] = indicator\n",
    "df['data_col'] = df['broadband'] \n",
    "df.rename(columns = {'country':'Country Name'}, inplace=True)\n",
    "df['Sub-Pillar'] = subpillar\n",
    "\n",
    "min_rank = df['data_col'].min()\n",
    "max_rank = df['data_col'].max()\n",
    "\n",
    "# transform 0-1 rank into 1-6\n",
    "df['new_rank_score'] = df['data_col'].apply(lambda row: convert_rank(row,old_min=0,old_max=100))"
   ]
  },
  {
   "cell_type": "code",
   "execution_count": null,
   "id": "18d122a2",
   "metadata": {},
   "outputs": [],
   "source": [
    "df = df[['Country Name', 'Year','Indicator','data_col','new_rank_score','higher_is_better','Sub-Pillar']]\n",
    "df"
   ]
  },
  {
   "cell_type": "code",
   "execution_count": null,
   "id": "ed4d5786",
   "metadata": {},
   "outputs": [],
   "source": []
  },
  {
   "cell_type": "code",
   "execution_count": null,
   "id": "1a63b1d7",
   "metadata": {},
   "outputs": [],
   "source": [
    "### 22. ISP internet download speed average"
   ]
  },
  {
   "cell_type": "code",
   "execution_count": null,
   "id": "0533b3d2",
   "metadata": {},
   "outputs": [],
   "source": [
    "indicators[21]\n",
    "\n",
    "# load data\n",
    "indicator = indicators[21]\n",
    "print(indicator)\n",
    "bf = bnames[bnames['Indicator']==indicator]['Filename'].values[0]\n",
    "print(bf)\n",
    "\n",
    "df = pd.read_csv('../../processed/{}.csv'.format(bf))"
   ]
  },
  {
   "cell_type": "code",
   "execution_count": null,
   "id": "6364d97e",
   "metadata": {},
   "outputs": [],
   "source": [
    "df.head(15)"
   ]
  },
  {
   "cell_type": "code",
   "execution_count": null,
   "id": "0d17ef30",
   "metadata": {},
   "outputs": [],
   "source": [
    "subpillars[0]\n",
    "subpillar = subpillars[0]\n",
    "print(subpillar)"
   ]
  },
  {
   "cell_type": "code",
   "execution_count": null,
   "id": "ad588a51",
   "metadata": {},
   "outputs": [],
   "source": [
    "# create standard columns\n",
    "# df.rename(columns={'COUNTRY/ECONOMY':'Country Name'}, inplace=True)\n",
    "\n",
    "df['higher_is_better'] = True\n",
    "df['Indicator'] = indicator\n",
    "df['data_col'] = df['Download speed (Mbps)'] \n",
    "df['Country Name'] = df['Country']\n",
    "df['Sub-Pillar'] = subpillar\n",
    "\n",
    "min_rank = df['data_col'].min()\n",
    "max_rank = df['data_col'].max()\n",
    "\n",
    "# transform 0-1 rank into 1-6\n",
    "df['new_rank_score'] = df['data_col'].apply(lambda row: convert_rank(row,old_min=min_rank,old_max=max_rank))"
   ]
  },
  {
   "cell_type": "code",
   "execution_count": null,
   "id": "3d4f4b76",
   "metadata": {},
   "outputs": [],
   "source": [
    "df = df[['Country Name', 'Year','Indicator','data_col','new_rank_score','higher_is_better','Sub-Pillar']]\n",
    "df"
   ]
  },
  {
   "cell_type": "code",
   "execution_count": null,
   "id": "da32b210",
   "metadata": {},
   "outputs": [],
   "source": [
    "df.to_csv('../indicator_scores/infrastructure_{}_scores.csv'.format(indicator), index=False)"
   ]
  },
  {
   "cell_type": "code",
   "execution_count": null,
   "id": "b3ac7b72",
   "metadata": {},
   "outputs": [],
   "source": [
    "### 23. Mobile dowload speed at the slowest hour"
   ]
  },
  {
   "cell_type": "code",
   "execution_count": null,
   "id": "0093028d",
   "metadata": {},
   "outputs": [],
   "source": [
    "indicators[22]\n",
    "\n",
    "# load data\n",
    "indicator = indicators[22]\n",
    "print(indicator)\n",
    "bf = bnames[bnames['Indicator']==indicator]['Filename'].values[0]\n",
    "print(bf)\n",
    "\n",
    "df = pd.read_csv('../../processed/{}.csv'.format(bf))"
   ]
  },
  {
   "cell_type": "code",
   "execution_count": null,
   "id": "684d4bd5",
   "metadata": {},
   "outputs": [],
   "source": [
    "subpillars[0]\n",
    "subpillar = subpillars[0]\n",
    "print(subpillar)"
   ]
  },
  {
   "cell_type": "code",
   "execution_count": null,
   "id": "c693772d",
   "metadata": {},
   "outputs": [],
   "source": [
    "# filter most recent year\n",
    "df = df[(df.Year==2019)]\n",
    "\n",
    "# create standard columns\n",
    "# df.rename(columns={'COUNTRY/ECONOMY':'Country Name'}, inplace=True)\n",
    "\n",
    "df['higher_is_better'] = True\n",
    "df['Indicator'] = indicator\n",
    "df['data_col'] = df['Mobile latencies'] \n",
    "df['Country Name'] = df['Country']\n",
    "df['Sub-Pillar'] = subpillar\n",
    "\n",
    "min_rank = df['data_col'].min()\n",
    "max_rank = df['data_col'].max()\n",
    "\n",
    "# transform 0-1 rank into 1-6\n",
    "df['new_rank_score'] = df['data_col'].apply(lambda row: convert_rank(row,old_min=0,old_max=100))\n",
    "\n",
    "\n",
    "# invert since to lower rank is better\n",
    "df['new_rank_score'] = df['new_rank_score'].apply(lambda row: (6-row)+1)"
   ]
  },
  {
   "cell_type": "code",
   "execution_count": null,
   "id": "330ccb6c",
   "metadata": {},
   "outputs": [],
   "source": [
    "df = df[['Country Name', 'Year','Indicator','data_col','new_rank_score','higher_is_better','Sub-Pillar']]\n",
    "df"
   ]
  },
  {
   "cell_type": "code",
   "execution_count": null,
   "id": "3f8b74c9",
   "metadata": {},
   "outputs": [],
   "source": [
    "df.to_csv('../indicator_scores/infrastructure_{}_scores.csv'.format(indicator), index=False)"
   ]
  },
  {
   "cell_type": "code",
   "execution_count": null,
   "id": "69fff9e8",
   "metadata": {},
   "outputs": [],
   "source": [
    "### * 24. Mobile download speed average"
   ]
  },
  {
   "cell_type": "code",
   "execution_count": null,
   "id": "f4120d56",
   "metadata": {},
   "outputs": [],
   "source": [
    "indicators[23]\n",
    "\n",
    "# load data\n",
    "indicator = indicators[23]\n",
    "print(indicator)\n",
    "bf = bnames[bnames['Indicator']==indicator]['Filename'].values[0]\n",
    "print(bf)\n",
    "\n",
    "df = pd.read_csv('../../processed/{}.csv'.format(bf))\n"
   ]
  },
  {
   "cell_type": "code",
   "execution_count": null,
   "id": "1c74bf12",
   "metadata": {},
   "outputs": [],
   "source": [
    "df.head(15)"
   ]
  },
  {
   "cell_type": "code",
   "execution_count": null,
   "id": "15113e47",
   "metadata": {},
   "outputs": [],
   "source": [
    "subpillars[0]\n",
    "subpillar = subpillars[0]\n",
    "print(subpillar)"
   ]
  },
  {
   "cell_type": "code",
   "execution_count": null,
   "id": "dda77656",
   "metadata": {},
   "outputs": [],
   "source": [
    "# create standard columns\n",
    "# df.rename(columns={'COUNTRY/ECONOMY':'Country Name'}, inplace=True)\n",
    "\n",
    "df['higher_is_better'] = True\n",
    "df['Indicator'] = indicator\n",
    "df['data_col'] = df['Mbps'] \n",
    "df['Country Name'] = df['Country']\n",
    "df['Sub-Pillar'] = subpillar\n",
    "\n",
    "min_rank = df['data_col'].min()\n",
    "max_rank = df['data_col'].max()\n",
    "\n",
    "# transform 0-1 rank into 1-6\n",
    "df['new_rank_score'] = df['data_col'].apply(lambda row: convert_rank(row,old_min=0,old_max=100))"
   ]
  },
  {
   "cell_type": "code",
   "execution_count": null,
   "id": "9bb8cb77",
   "metadata": {},
   "outputs": [],
   "source": [
    "df = df[['Country Name', 'Year','Indicator','data_col','new_rank_score','higher_is_better','Sub-Pillar']]\n",
    "df"
   ]
  },
  {
   "cell_type": "code",
   "execution_count": null,
   "id": "444fb667",
   "metadata": {},
   "outputs": [],
   "source": []
  },
  {
   "cell_type": "code",
   "execution_count": null,
   "id": "841dcf19",
   "metadata": {},
   "outputs": [],
   "source": [
    "### 25. Postal Coverage"
   ]
  },
  {
   "cell_type": "code",
   "execution_count": null,
   "id": "6696e90a",
   "metadata": {},
   "outputs": [],
   "source": [
    "indicators[24]\n",
    "\n",
    "# load data\n",
    "indicator = indicators[24]\n",
    "print(indicator)\n",
    "bf = bnames[bnames['Indicator']==indicator]['Filename'].values[0]\n",
    "print(bf)\n",
    "\n",
    "df = pd.read_csv('../../processed/{}.csv'.format(bf))"
   ]
  },
  {
   "cell_type": "code",
   "execution_count": null,
   "id": "5879d0eb",
   "metadata": {},
   "outputs": [],
   "source": [
    "df['2019'] = df['2019'].replace('ND',np.nan)\n",
    "df['2019'].describe"
   ]
  },
  {
   "cell_type": "code",
   "execution_count": null,
   "id": "2f02eb0f",
   "metadata": {},
   "outputs": [],
   "source": [
    "df.head(15)"
   ]
  },
  {
   "cell_type": "code",
   "execution_count": null,
   "id": "b54dcbe0",
   "metadata": {},
   "outputs": [],
   "source": [
    "subpillars[0]\n",
    "subpillar = subpillars[0]\n",
    "print(subpillar)"
   ]
  },
  {
   "cell_type": "code",
   "execution_count": null,
   "id": "f019bbec",
   "metadata": {},
   "outputs": [],
   "source": [
    "# create standard columns\n",
    "# df.rename(columns={'COUNTRY/ECONOMY':'Country Name'}, inplace=True)\n",
    "\n",
    "df['higher_is_better'] = True\n",
    "df['Year'] = 2019\n",
    "df['Indicator'] = indicator\n",
    "df['data_col'] = df['2019'].astype(float)\n",
    "df['Sub-Pillar'] = subpillar\n",
    "df['Country Name'] = df['Administrations']\n",
    "\n",
    "min_rank = df['data_col'].min()\n",
    "max_rank = df['data_col'].max()\n",
    "\n",
    "# transform 0-1 rank into 1-6\n",
    "df['new_rank_score'] = df['data_col'].apply(lambda row: convert_rank(row,old_min=0,old_max=100))"
   ]
  },
  {
   "cell_type": "code",
   "execution_count": null,
   "id": "756654d8",
   "metadata": {},
   "outputs": [],
   "source": [
    "df = df[['Country Name', 'Year','Indicator','data_col','new_rank_score','higher_is_better','Sub-Pillar']]\n",
    "df"
   ]
  },
  {
   "cell_type": "code",
   "execution_count": null,
   "id": "f4f43dfb",
   "metadata": {},
   "outputs": [],
   "source": [
    "df.to_csv('../indicator_scores/infrastructure_{}_scores.csv'.format(indicator), index=False)"
   ]
  },
  {
   "cell_type": "code",
   "execution_count": null,
   "id": "3e82985a",
   "metadata": {},
   "outputs": [],
   "source": [
    "### 26. Logistics Performance Index (LPI) "
   ]
  },
  {
   "cell_type": "code",
   "execution_count": null,
   "id": "b461a7aa",
   "metadata": {},
   "outputs": [],
   "source": [
    "indicators[25]\n",
    "\n",
    "# load data\n",
    "indicator = indicators[25]\n",
    "print(indicator)\n",
    "bf = bnames[bnames['Indicator']==indicator]['Filename'].values[0]\n",
    "print(bf)\n",
    "\n",
    "df = pd.read_csv('../../processed/{}.csv'.format(bf))"
   ]
  },
  {
   "cell_type": "code",
   "execution_count": null,
   "id": "66d91a97",
   "metadata": {},
   "outputs": [],
   "source": [
    "df.head(15)"
   ]
  },
  {
   "cell_type": "code",
   "execution_count": null,
   "id": "18ed9f24",
   "metadata": {},
   "outputs": [],
   "source": [
    "subpillars[0]\n",
    "subpillar = subpillars[0]\n",
    "print(subpillar)"
   ]
  },
  {
   "cell_type": "code",
   "execution_count": null,
   "id": "f5b2dfed",
   "metadata": {},
   "outputs": [],
   "source": [
    "# create standard columns\n",
    "# df.rename(columns={'COUNTRY/ECONOMY':'Country Name'}, inplace=True)\n",
    "\n",
    "df['higher_is_better'] = True\n",
    "df['Year'] = 2018\n",
    "df['Indicator'] = indicator\n",
    "df['data_col'] = df['score']\n",
    "df.rename(columns={'Country':'Country Name'}, inplace=True)\n",
    "df['Sub-Pillar'] = subpillar\n",
    "\n",
    "min_rank = df['data_col'].min()\n",
    "max_rank = df['data_col'].max()\n",
    "\n",
    "# transform 0-1 rank into 1-6\n",
    "df['new_rank_score'] = df['data_col'].apply(lambda row: convert_rank_c(row,old_min=1,old_max=5))"
   ]
  },
  {
   "cell_type": "code",
   "execution_count": null,
   "id": "f068b943",
   "metadata": {},
   "outputs": [],
   "source": [
    "df = df[['Country Name', 'Year','Indicator','data_col','new_rank_score','higher_is_better','Sub-Pillar']]\n",
    "df"
   ]
  },
  {
   "cell_type": "code",
   "execution_count": null,
   "id": "1178531e",
   "metadata": {},
   "outputs": [],
   "source": [
    "df.to_csv('../indicator_scores/infrastructure_{}_scores.csv'.format(indicator), index=False)"
   ]
  },
  {
   "cell_type": "code",
   "execution_count": null,
   "id": "1ff8d718",
   "metadata": {},
   "outputs": [],
   "source": [
    "### 27. National cyber security index"
   ]
  },
  {
   "cell_type": "code",
   "execution_count": null,
   "id": "06512bcf",
   "metadata": {},
   "outputs": [],
   "source": [
    "indicators[26]\n",
    "\n",
    "# load data\n",
    "indicator = indicators[26]\n",
    "print(indicator)\n",
    "bf = bnames[bnames['Indicator']==indicator]['Filename'].values[0]\n",
    "print(bf)\n",
    "\n",
    "df = pd.read_csv('../../processed/{}.csv'.format(bf))"
   ]
  },
  {
   "cell_type": "code",
   "execution_count": null,
   "id": "d1686f43",
   "metadata": {},
   "outputs": [],
   "source": [
    "df.head(15)"
   ]
  },
  {
   "cell_type": "code",
   "execution_count": null,
   "id": "ecda491f",
   "metadata": {},
   "outputs": [],
   "source": [
    "subpillars[0]\n",
    "subpillar = subpillars[0]\n",
    "print(subpillar)"
   ]
  },
  {
   "cell_type": "code",
   "execution_count": null,
   "id": "8e727ecf",
   "metadata": {},
   "outputs": [],
   "source": [
    "# create standard columns\n",
    "# df.rename(columns={'COUNTRY/ECONOMY':'Country Name'}, inplace=True)\n",
    "\n",
    "df['higher_is_better'] = True\n",
    "df['Year'] = 2021\n",
    "df['Indicator'] = indicator\n",
    "df['data_col'] = df['National Cyber Security Index']\n",
    "df.rename(columns={'Country':'Country Name'}, inplace=True)\n",
    "df['Sub-Pillar'] = subpillar\n",
    "\n",
    "min_rank = df['data_col'].min()\n",
    "max_rank = df['data_col'].max()\n",
    "\n",
    "# transform 0-1 rank into 1-6\n",
    "df['new_rank_score'] = df['data_col'].apply(lambda row: convert_rank(row,old_min=0,old_max=100))"
   ]
  },
  {
   "cell_type": "code",
   "execution_count": null,
   "id": "44d4cd2a",
   "metadata": {},
   "outputs": [],
   "source": [
    "df = df[['Country Name', 'Year','Indicator','data_col','new_rank_score','higher_is_better','Sub-Pillar']]\n",
    "df"
   ]
  },
  {
   "cell_type": "code",
   "execution_count": null,
   "id": "106f7c86",
   "metadata": {},
   "outputs": [],
   "source": [
    "df.to_csv('../indicator_scores/infrastructure_{}_scores.csv'.format(indicator), index=False)"
   ]
  },
  {
   "cell_type": "code",
   "execution_count": null,
   "id": "b5d25921",
   "metadata": {},
   "outputs": [],
   "source": [
    "### 28. Global Cybersecurity Index (GCI)"
   ]
  },
  {
   "cell_type": "code",
   "execution_count": null,
   "id": "9cd1ea06",
   "metadata": {},
   "outputs": [],
   "source": [
    "indicators[27]\n",
    "\n",
    "# load data\n",
    "indicator = indicators[27]\n",
    "print(indicator)\n",
    "bf = bnames[bnames['Indicator']==indicator]['Filename'].values[0]\n",
    "print(bf)\n",
    "\n",
    "df = pd.read_csv('../../processed/{}.csv'.format(bf))"
   ]
  },
  {
   "cell_type": "code",
   "execution_count": null,
   "id": "bfabb51e",
   "metadata": {},
   "outputs": [],
   "source": [
    "df.head(15)"
   ]
  },
  {
   "cell_type": "code",
   "execution_count": null,
   "id": "ad9dea29",
   "metadata": {},
   "outputs": [],
   "source": [
    "subpillars[0]\n",
    "subpillar = subpillars[0]\n",
    "print(subpillar)"
   ]
  },
  {
   "cell_type": "code",
   "execution_count": null,
   "id": "10ec8dd2",
   "metadata": {},
   "outputs": [],
   "source": [
    "# create standard columns\n",
    "# df.rename(columns={'COUNTRY/ECONOMY':'Country Name'}, inplace=True)\n",
    "\n",
    "df['higher_is_better'] = True\n",
    "df['Year'] = 2020\n",
    "df['Indicator'] = indicator\n",
    "df['data_col'] = df['Score (2020)'] \n",
    "df.rename(columns={'Country':'Country Name'}, inplace=True)\n",
    "df['Sub-Pillar'] = subpillar\n",
    "\n",
    "min_rank = df['data_col'].min()\n",
    "max_rank = df['data_col'].max()\n",
    "\n",
    "# transform 0-1 rank into 1-6\n",
    "df['new_rank_score'] = df['data_col'].apply(lambda row: convert_rank(row,old_min=0,old_max=100))"
   ]
  },
  {
   "cell_type": "code",
   "execution_count": null,
   "id": "e2099e69",
   "metadata": {},
   "outputs": [],
   "source": [
    "df = df[['Country Name', 'Year','Indicator','data_col','new_rank_score','higher_is_better','Sub-Pillar']]\n",
    "df"
   ]
  },
  {
   "cell_type": "code",
   "execution_count": null,
   "id": "e401005d",
   "metadata": {},
   "outputs": [],
   "source": [
    "df.to_csv('../indicator_scores/infrastructure_{}_scores.csv'.format(indicator), index=False)"
   ]
  },
  {
   "cell_type": "code",
   "execution_count": null,
   "id": "721b59db",
   "metadata": {},
   "outputs": [],
   "source": [
    "### 29. Software Developer Ecosystem size"
   ]
  },
  {
   "cell_type": "code",
   "execution_count": null,
   "id": "49f0c1e9",
   "metadata": {},
   "outputs": [],
   "source": [
    "indicators[28]\n",
    "\n",
    "# load data\n",
    "indicator = indicators[28]\n",
    "print(indicator)\n",
    "bf = bnames[bnames['Indicator']==indicator]['Filename'].values[0]\n",
    "print(bf)\n",
    "\n",
    "df = pd.read_csv('../../processed/{}.csv'.format(bf))"
   ]
  },
  {
   "cell_type": "code",
   "execution_count": null,
   "id": "e13c80af",
   "metadata": {},
   "outputs": [],
   "source": [
    "df.head(15)"
   ]
  },
  {
   "cell_type": "code",
   "execution_count": null,
   "id": "1bd09d48",
   "metadata": {},
   "outputs": [],
   "source": [
    "subpillars[1]\n",
    "subpillar = subpillars[1]\n",
    "print(subpillar)"
   ]
  },
  {
   "cell_type": "code",
   "execution_count": null,
   "id": "050e652d",
   "metadata": {},
   "outputs": [],
   "source": [
    "df['higher_is_better'] = True\n",
    "df['Year'] = 2018\n",
    "df['Indicator'] = indicator\n",
    "df['data_col'] = df.iloc[:,[1]]\n",
    "df.rename(columns={'Country':'Country Name'}, inplace=True)\n",
    "df['Sub-Pillar'] = subpillar\n",
    "    \n",
    "min_rank = df['data_col'].min()\n",
    "max_rank = df['data_col'].max()\n",
    "\n",
    "# transform 0-1 rank into 1-6\n",
    "df['new_rank_score'] = df['data_col'].apply(lambda row: convert_rank(row,old_min=min_rank,old_max=max_rank))"
   ]
  },
  {
   "cell_type": "code",
   "execution_count": null,
   "id": "c18241a0",
   "metadata": {},
   "outputs": [],
   "source": [
    "df = df[['Country Name', 'Year','Indicator','data_col','new_rank_score','higher_is_better','Sub-Pillar']]\n",
    "df"
   ]
  },
  {
   "cell_type": "code",
   "execution_count": null,
   "id": "efc2e020",
   "metadata": {},
   "outputs": [],
   "source": [
    "df.to_csv('../indicator_scores/infrastructure_{}_scores.csv'.format(indicator), index=False)"
   ]
  },
  {
   "cell_type": "code",
   "execution_count": null,
   "id": "fb9c360f",
   "metadata": {},
   "outputs": [],
   "source": [
    "### 30. Digital Work Ecosystem size"
   ]
  },
  {
   "cell_type": "code",
   "execution_count": null,
   "id": "efd2c8a9",
   "metadata": {},
   "outputs": [],
   "source": [
    "indicators[29]\n",
    "\n",
    "# load data\n",
    "indicator = indicators[29]\n",
    "print(indicator)\n",
    "bf = bnames[bnames['Indicator']==indicator]['Filename'].values[0]\n",
    "print(bf)\n",
    "\n",
    "df = pd.read_csv('../../processed/{}.csv'.format(bf))"
   ]
  },
  {
   "cell_type": "code",
   "execution_count": null,
   "id": "85fb30f5",
   "metadata": {},
   "outputs": [],
   "source": [
    "df.head(15)"
   ]
  },
  {
   "cell_type": "code",
   "execution_count": null,
   "id": "5b1ef2fa",
   "metadata": {},
   "outputs": [],
   "source": [
    "subpillars[1]\n",
    "subpillar = subpillars[1]\n",
    "print(subpillar)"
   ]
  },
  {
   "cell_type": "code",
   "execution_count": null,
   "id": "62e6dcd8",
   "metadata": {},
   "outputs": [],
   "source": [
    "# create standard columns\n",
    "# df.rename(columns={'COUNTRY/ECONOMY':'Country Name'}, inplace=True)\n",
    "\n",
    "df['higher_is_better'] = True\n",
    "df['Year'] = 2020\n",
    "df['Indicator'] = indicator\n",
    "df['data_col'] = df.iloc[:,[2]].astype(float)\n",
    "df.rename(columns={'Country':'Country Name'}, inplace=True)\n",
    "df['Sub-Pillar'] = subpillar\n",
    "    \n",
    "min_rank = df['data_col'].min()\n",
    "max_rank = df['data_col'].max()\n",
    "\n",
    "# transform 0-1 rank into 1-6\n",
    "df['new_rank_score'] = df['data_col'].apply(lambda row: convert_rank(row,old_min=0,old_max=100))"
   ]
  },
  {
   "cell_type": "code",
   "execution_count": null,
   "id": "16ee36b0",
   "metadata": {},
   "outputs": [],
   "source": [
    "df = df[['Country Name', 'Year','Indicator','data_col','new_rank_score','higher_is_better','Sub-Pillar']]\n",
    "df"
   ]
  },
  {
   "cell_type": "code",
   "execution_count": null,
   "id": "d560969b",
   "metadata": {},
   "outputs": [],
   "source": [
    "df.to_csv('../indicator_scores/infrastructure_{}_scores.csv'.format(indicator), index=False)"
   ]
  },
  {
   "cell_type": "code",
   "execution_count": null,
   "id": "b5676cc8",
   "metadata": {},
   "outputs": [],
   "source": [
    "### 31. Country, Industry, Skill Migration Data (Skill) "
   ]
  },
  {
   "cell_type": "code",
   "execution_count": null,
   "id": "9d442b3c",
   "metadata": {},
   "outputs": [],
   "source": [
    "indicators[30]\n",
    "\n",
    "# load data\n",
    "indicator = indicators[30]\n",
    "print(indicator)\n",
    "bf = bnames[bnames['Indicator']==indicator]['Filename'].values[0]\n",
    "print(bf)\n",
    "\n",
    "df = pd.read_csv('../../processed/{}.csv'.format(bf))"
   ]
  },
  {
   "cell_type": "code",
   "execution_count": null,
   "id": "56a39d59",
   "metadata": {},
   "outputs": [],
   "source": [
    "df.head(15)"
   ]
  },
  {
   "cell_type": "code",
   "execution_count": null,
   "id": "6e561a16",
   "metadata": {},
   "outputs": [],
   "source": [
    "subpillars[1]\n",
    "subpillar = subpillars[1]\n",
    "print(subpillar)"
   ]
  },
  {
   "cell_type": "code",
   "execution_count": null,
   "id": "522ffa62",
   "metadata": {},
   "outputs": [],
   "source": [
    "df['Country Name'] = df.iloc[:,[1]]\n",
    "\n",
    "df_sum = df.groupby('Country Name')[['net_per_10K_2019']].sum()\n",
    "df_sum"
   ]
  },
  {
   "cell_type": "code",
   "execution_count": null,
   "id": "9f0cec61",
   "metadata": {},
   "outputs": [],
   "source": [
    "# create standard columns\n",
    "# df.rename(columns={'COUNTRY/ECONOMY':'Country Name'}, inplace=True)\n",
    "\n",
    "df_sum['higher_is_better'] = True\n",
    "df_sum['Year'] = 2019\n",
    "df_sum['Indicator'] = indicator\n",
    "df_sum['data_col'] = df_sum['net_per_10K_2019']\n",
    "df_sum['Sub-Pillar'] = subpillar\n",
    "\n",
    "min_rank = df_sum['data_col'].min()\n",
    "max_rank = df_sum['data_col'].max()\n",
    "\n",
    "# transform 0-1 rank into 1-6\n",
    "df_sum['new_rank_score'] = df_sum['data_col'].apply(lambda row: convert_rank(row,old_min=min_rank,old_max=max_rank))"
   ]
  },
  {
   "cell_type": "code",
   "execution_count": null,
   "id": "5ccf01c2",
   "metadata": {},
   "outputs": [],
   "source": [
    "df_sum = df_sum[['Year','Indicator','data_col','new_rank_score','higher_is_better','Sub-Pillar']]\n",
    "df_sum"
   ]
  },
  {
   "cell_type": "code",
   "execution_count": null,
   "id": "92b00f03",
   "metadata": {},
   "outputs": [],
   "source": []
  },
  {
   "cell_type": "code",
   "execution_count": null,
   "id": "63528ee9",
   "metadata": {},
   "outputs": [],
   "source": [
    "### 32. Country, Industry, Skill Migration Data (Industry)"
   ]
  },
  {
   "cell_type": "code",
   "execution_count": null,
   "id": "2a403555",
   "metadata": {},
   "outputs": [],
   "source": [
    "indicators[31]\n",
    "\n",
    "# load data\n",
    "indicator = indicators[31]\n",
    "print(indicator)\n",
    "bf = bnames[bnames['Indicator']==indicator]['Filename'].values[0]\n",
    "print(bf)\n",
    "\n",
    "df = pd.read_csv('../../processed/{}.csv'.format(bf))\n"
   ]
  },
  {
   "cell_type": "code",
   "execution_count": null,
   "id": "cc8971dd",
   "metadata": {},
   "outputs": [],
   "source": [
    "df.head(15)"
   ]
  },
  {
   "cell_type": "code",
   "execution_count": null,
   "id": "be8748ec",
   "metadata": {},
   "outputs": [],
   "source": [
    "subpillars[1]\n",
    "subpillar = subpillars[1]\n",
    "print(subpillar)"
   ]
  },
  {
   "cell_type": "code",
   "execution_count": null,
   "id": "da69688e",
   "metadata": {},
   "outputs": [],
   "source": [
    "df['Country Name'] = df.iloc[:,[1]]\n",
    "\n",
    "df_sum = df.groupby('Country Name')[['net_per_10K_2019']].sum()\n",
    "df_sum"
   ]
  },
  {
   "cell_type": "code",
   "execution_count": null,
   "id": "61729b1b",
   "metadata": {},
   "outputs": [],
   "source": [
    "## create standard columns\n",
    "# df.rename(columns={'COUNTRY/ECONOMY':'Country Name'}, inplace=True)\n",
    "\n",
    "df_sum['higher_is_better'] = True\n",
    "df_sum['Year'] = 2019\n",
    "df_sum['Indicator'] = indicator\n",
    "df_sum['data_col'] = df_sum['net_per_10K_2019']\n",
    "df_sum['Sub-Pillar'] = subpillar\n",
    "\n",
    "min_rank = df_sum['data_col'].min()\n",
    "max_rank = df_sum['data_col'].max()\n",
    "\n",
    "# transform 0-1 rank into 1-6\n",
    "df_sum['new_rank_score'] = df_sum['data_col'].apply(lambda row: convert_rank(row,old_min=min_rank,old_max=max_rank))"
   ]
  },
  {
   "cell_type": "code",
   "execution_count": null,
   "id": "80ce44d1",
   "metadata": {},
   "outputs": [],
   "source": [
    "df_sum = df_sum[['Year','Indicator','data_col','new_rank_score','higher_is_better','Sub-Pillar']]\n",
    "df_sum"
   ]
  },
  {
   "cell_type": "code",
   "execution_count": null,
   "id": "69aef59e",
   "metadata": {},
   "outputs": [],
   "source": []
  },
  {
   "cell_type": "code",
   "execution_count": null,
   "id": "c03ad134",
   "metadata": {},
   "outputs": [],
   "source": [
    "### 33. Country, Industry, Skill Migration Data (Nation)"
   ]
  },
  {
   "cell_type": "code",
   "execution_count": null,
   "id": "e38028cf",
   "metadata": {},
   "outputs": [],
   "source": [
    "indicators[32]\n",
    "\n",
    "# load data\n",
    "indicator = indicators[32]\n",
    "print(indicator)\n",
    "bf = bnames[bnames['Indicator']==indicator]['Filename'].values[0]\n",
    "print(bf)\n",
    "\n",
    "df = pd.read_csv('../../processed/{}.csv'.format(bf))"
   ]
  },
  {
   "cell_type": "code",
   "execution_count": null,
   "id": "946a6d29",
   "metadata": {},
   "outputs": [],
   "source": [
    "df.head(15)"
   ]
  },
  {
   "cell_type": "code",
   "execution_count": null,
   "id": "8582cf00",
   "metadata": {},
   "outputs": [],
   "source": [
    "subpillars[1]\n",
    "subpillar = subpillars[1]\n",
    "print(subpillar)"
   ]
  },
  {
   "cell_type": "code",
   "execution_count": null,
   "id": "91f61c4b",
   "metadata": {},
   "outputs": [],
   "source": [
    "df['Country Name'] = df.iloc[:,[1]]\n",
    "\n",
    "df_sum = df.groupby('Country Name')[['net_per_10K_2019']].sum()\n",
    "df_sum"
   ]
  },
  {
   "cell_type": "code",
   "execution_count": null,
   "id": "a32b89e2",
   "metadata": {},
   "outputs": [],
   "source": [
    "## create standard columns\n",
    "# df.rename(columns={'COUNTRY/ECONOMY':'Country Name'}, inplace=True)\n",
    "\n",
    "df_sum['higher_is_better'] = True\n",
    "df_sum['Year'] = 2019\n",
    "df_sum['Indicator'] = indicator\n",
    "df_sum['data_col'] = df_sum['net_per_10K_2019']\n",
    "df_sum ['Sub-Pillar'] = subpillar\n",
    "\n",
    "min_rank = df_sum['data_col'].min()\n",
    "max_rank = df_sum['data_col'].max()\n",
    "\n",
    "# transform 0-1 rank into 1-6\n",
    "df_sum['new_rank_score'] = df_sum['data_col'].apply(lambda row: convert_rank(row,old_min=min_rank,old_max=max_rank))"
   ]
  },
  {
   "cell_type": "code",
   "execution_count": null,
   "id": "2365e917",
   "metadata": {},
   "outputs": [],
   "source": [
    "df_sum = df_sum[['Year','Indicator','data_col','new_rank_score','higher_is_better','Sub-Pillar']]\n",
    "df_sum"
   ]
  },
  {
   "cell_type": "code",
   "execution_count": null,
   "id": "3cc0c864",
   "metadata": {},
   "outputs": [],
   "source": []
  },
  {
   "cell_type": "code",
   "execution_count": null,
   "id": "30478c51",
   "metadata": {},
   "outputs": [],
   "source": [
    "### 34. Digital Finance Ecosystem size"
   ]
  },
  {
   "cell_type": "code",
   "execution_count": null,
   "id": "eaa6b920",
   "metadata": {},
   "outputs": [],
   "source": [
    "indicators[33]\n",
    "\n",
    "# load data\n",
    "indicator = indicators[33]\n",
    "print(indicator)\n",
    "bf = bnames[bnames['Indicator']==indicator]['Filename'].values[0]\n",
    "print(bf)\n",
    "\n",
    "df = pd.read_csv('../../processed/{}.csv'.format(bf))"
   ]
  },
  {
   "cell_type": "code",
   "execution_count": null,
   "id": "11cdd6d1",
   "metadata": {},
   "outputs": [],
   "source": [
    "df.head(15)"
   ]
  },
  {
   "cell_type": "code",
   "execution_count": null,
   "id": "93aa31e4",
   "metadata": {},
   "outputs": [],
   "source": [
    "subpillars[1]\n",
    "subpillar = subpillars[1]\n",
    "print(subpillar)"
   ]
  },
  {
   "cell_type": "code",
   "execution_count": null,
   "id": "28160094",
   "metadata": {},
   "outputs": [],
   "source": [
    "# create standard columns\n",
    "# df.rename(columns={'COUNTRY/ECONOMY':'Country Name'}, inplace=True)\n",
    "\n",
    "df['higher_is_better'] = True\n",
    "df['Year'] = 2021\n",
    "df['Indicator'] = indicator\n",
    "df['data_col'] = df.iloc[:,[2]]\n",
    "df['Country Name'] = df.iloc[:,[1]]\n",
    "df['Sub-Pillar'] = subpillar\n",
    "\n",
    "min_rank = df['data_col'].min()\n",
    "max_rank = df['data_col'].max()\n",
    "\n",
    "# transform 0-1 rank into 1-6\n",
    "df['new_rank_score'] = df['data_col'].apply(lambda row: convert_rank(row,old_min=0,old_max=100))\n",
    "\n",
    "# Have to shorten the column names to see if this works"
   ]
  },
  {
   "cell_type": "code",
   "execution_count": null,
   "id": "be8c6944",
   "metadata": {},
   "outputs": [],
   "source": [
    "df = df[['Country Name', 'Year','Indicator','data_col','new_rank_score','higher_is_better','Sub-Pillar']]\n",
    "df"
   ]
  },
  {
   "cell_type": "code",
   "execution_count": null,
   "id": "d03e3905",
   "metadata": {},
   "outputs": [],
   "source": [
    "df.to_csv('../indicator_scores/infrastructure_{}_scores.csv'.format(indicator))"
   ]
  },
  {
   "cell_type": "code",
   "execution_count": null,
   "id": "f0480bc8",
   "metadata": {},
   "outputs": [],
   "source": [
    "### 36. Banking Ecosystem size"
   ]
  },
  {
   "cell_type": "code",
   "execution_count": null,
   "id": "e7693ca0",
   "metadata": {},
   "outputs": [],
   "source": [
    "indicators[35]\n",
    "\n",
    "# load data\n",
    "indicator = indicators[35]\n",
    "print(indicator)\n",
    "bf = bnames[bnames['Indicator']==indicator]['Filename'].values[0]\n",
    "print(bf)\n",
    "\n",
    "df = pd.read_csv('../../processed/{}.csv'.format(bf))"
   ]
  },
  {
   "cell_type": "code",
   "execution_count": null,
   "id": "71e2fc56",
   "metadata": {},
   "outputs": [],
   "source": [
    "df.head(15)\n",
    "\n",
    "#There are two problems:\n",
    "#1. The column names need some overhaul (moving the second column to the top and make it the column names)\n",
    "#2. This is a list of cities, not countries, may present probkems later. "
   ]
  },
  {
   "cell_type": "code",
   "execution_count": null,
   "id": "8028b9a2",
   "metadata": {},
   "outputs": [],
   "source": [
    "### 36. Banking Ecosystem size"
   ]
  },
  {
   "cell_type": "code",
   "execution_count": null,
   "id": "6eb3626e",
   "metadata": {},
   "outputs": [],
   "source": [
    "indicators[35]\n",
    "\n",
    "# load data\n",
    "indicator = indicators[35]\n",
    "print(indicator)\n",
    "bf = bnames[bnames['Indicator']==indicator]['Filename'].values[0]\n",
    "print(bf)\n",
    "\n",
    "df = pd.read_csv('../../processed/{}.csv'.format(bf))"
   ]
  },
  {
   "cell_type": "code",
   "execution_count": null,
   "id": "3898ecbf",
   "metadata": {
    "scrolled": true
   },
   "outputs": [],
   "source": [
    "df.head(15)"
   ]
  },
  {
   "cell_type": "code",
   "execution_count": null,
   "id": "8564eda1",
   "metadata": {},
   "outputs": [],
   "source": [
    "subpillars[1]\n",
    "subpillar = subpillars[1]\n",
    "print(subpillar)"
   ]
  },
  {
   "cell_type": "code",
   "execution_count": null,
   "id": "55e34e19",
   "metadata": {},
   "outputs": [],
   "source": [
    "# create standard columns\n",
    "# df.rename(columns={'COUNTRY/ECONOMY':'Country Name'}, inplace=True)\n",
    "\n",
    "df['higher_is_better'] = True\n",
    "df['Year'] = 2017\n",
    "df['Indicator'] = indicator\n",
    "df['data_col'] = df['Bank assets, percent of GDP, 2017']\n",
    "df.rename(columns={'Country':'Country Name'}, inplace=True)\n",
    "df['Sub-Pillar'] = subpillar\n",
    "\n",
    "min_rank = df['data_col'].min()\n",
    "max_rank = df['data_col'].max()\n",
    "\n",
    "# transform 0-1 rank into 1-6\n",
    "df['new_rank_score'] = df['data_col'].apply(lambda row: convert_rank(row,old_min=0,old_max=max_rank))"
   ]
  },
  {
   "cell_type": "code",
   "execution_count": null,
   "id": "23f3a0cb",
   "metadata": {},
   "outputs": [],
   "source": [
    "df = df[['Country Name', 'Year','Indicator','data_col','new_rank_score','higher_is_better','Sub-Pillar']]\n",
    "df\n"
   ]
  },
  {
   "cell_type": "code",
   "execution_count": null,
   "id": "a34cab9c",
   "metadata": {},
   "outputs": [],
   "source": []
  },
  {
   "cell_type": "code",
   "execution_count": null,
   "id": "e5025c17",
   "metadata": {},
   "outputs": [],
   "source": [
    "### 37. Angel Ecosystem size"
   ]
  },
  {
   "cell_type": "code",
   "execution_count": null,
   "id": "2f4ee1d1",
   "metadata": {},
   "outputs": [],
   "source": [
    "indicators[36]\n",
    "\n",
    "# load data\n",
    "indicator = indicators[36]\n",
    "print(indicator)\n",
    "bf = bnames[bnames['Indicator']==indicator]['Filename'].values[0]\n",
    "print(bf)\n",
    "\n",
    "df = pd.read_csv('../../processed/{}.csv'.format(bf))"
   ]
  },
  {
   "cell_type": "code",
   "execution_count": null,
   "id": "85136754",
   "metadata": {},
   "outputs": [],
   "source": [
    "df.head(15)"
   ]
  },
  {
   "cell_type": "code",
   "execution_count": null,
   "id": "170188ab",
   "metadata": {},
   "outputs": [],
   "source": [
    "subpillars[1]\n",
    "subpillar = subpillars[1]\n",
    "print(subpillar)"
   ]
  },
  {
   "cell_type": "code",
   "execution_count": null,
   "id": "cd0d5ee9",
   "metadata": {},
   "outputs": [],
   "source": [
    "# create standard columns\n",
    "# df.rename(columns={'COUNTRY/ECONOMY':'Country Name'}, inplace=True)\n",
    "\n",
    "df['higher_is_better'] = True\n",
    "df['Year'] = 2019\n",
    "df['Indicator'] = indicator\n",
    "df['data_col'] = df['Business angel investments (in million Euros)']\n",
    "df.rename(columns={'Country':'Country Name'}, inplace=True)\n",
    "df['Sub-Pillar'] = subpillar\n",
    "\n",
    "min_rank = df['data_col'].min()\n",
    "max_rank = df['data_col'].max()\n",
    "\n",
    "# transform 0-1 rank into 1-6\n",
    "df['new_rank_score'] = df['data_col'].apply(lambda row: convert_rank(row,old_min=min_rank,old_max=max_rank))"
   ]
  },
  {
   "cell_type": "code",
   "execution_count": null,
   "id": "21764c58",
   "metadata": {},
   "outputs": [],
   "source": [
    "df = df[['Country Name', 'Year','Indicator','data_col','new_rank_score','higher_is_better','Sub-Pillar']]\n",
    "df\n",
    "\n",
    "# Okay but there are only EU countries"
   ]
  },
  {
   "cell_type": "code",
   "execution_count": null,
   "id": "c3d9cd1e",
   "metadata": {},
   "outputs": [],
   "source": []
  },
  {
   "cell_type": "code",
   "execution_count": null,
   "id": "bed6c54f",
   "metadata": {},
   "outputs": [],
   "source": [
    "### 38. Startup Ecosystem size"
   ]
  },
  {
   "cell_type": "code",
   "execution_count": null,
   "id": "094c01a9",
   "metadata": {},
   "outputs": [],
   "source": [
    "indicators[37]\n",
    "\n",
    "# load data\n",
    "indicator = indicators[37]\n",
    "print(indicator)\n",
    "bf = bnames[bnames['Indicator']==indicator]['Filename'].values[0]\n",
    "print(bf)\n",
    "\n",
    "df = pd.read_csv('../../processed/{}.csv'.format(bf))"
   ]
  },
  {
   "cell_type": "code",
   "execution_count": null,
   "id": "bdaa12d4",
   "metadata": {},
   "outputs": [],
   "source": [
    "df.head(15)\n",
    "\n",
    "# This is a list of cities, not countries, wonder if it will work "
   ]
  },
  {
   "cell_type": "code",
   "execution_count": null,
   "id": "e44c5a02",
   "metadata": {},
   "outputs": [],
   "source": [
    "### 39. Venture Ecosystem size\n",
    "\n",
    "indicators[38]\n",
    "\n",
    "# load data\n",
    "indicator = indicators[38]\n",
    "print(indicator)\n",
    "bf = bnames[bnames['Indicator']==indicator]['Filename'].values[0]\n",
    "print(bf)\n",
    "\n",
    "df = pd.read_csv('../../processed/{}.csv'.format(bf))"
   ]
  },
  {
   "cell_type": "code",
   "execution_count": null,
   "id": "0c2b80f9",
   "metadata": {},
   "outputs": [],
   "source": [
    "df.head(15)\n",
    "\n",
    "# Similar to the previous one"
   ]
  },
  {
   "cell_type": "code",
   "execution_count": null,
   "id": "b76a8343",
   "metadata": {},
   "outputs": [],
   "source": [
    "### 40. International Co-Inventions"
   ]
  },
  {
   "cell_type": "code",
   "execution_count": null,
   "id": "b0d30c67",
   "metadata": {},
   "outputs": [],
   "source": [
    "indicators[39]\n",
    "\n",
    "# load data\n",
    "indicator = indicators[39]\n",
    "print(indicator)\n",
    "bf = bnames[bnames['Indicator']==indicator]['Filename'].values[0]\n",
    "print(bf)\n",
    "\n",
    "df = pd.read_csv('../../processed/{}.csv'.format(bf))"
   ]
  },
  {
   "cell_type": "code",
   "execution_count": null,
   "id": "96d9444d",
   "metadata": {},
   "outputs": [],
   "source": [
    "df.head(15)"
   ]
  },
  {
   "cell_type": "code",
   "execution_count": null,
   "id": "9367c4aa",
   "metadata": {},
   "outputs": [],
   "source": [
    "subpillars[1]\n",
    "subpillar = subpillars[1]\n",
    "print(subpillar)"
   ]
  },
  {
   "cell_type": "code",
   "execution_count": null,
   "id": "7e3bcd14",
   "metadata": {},
   "outputs": [],
   "source": [
    "# filter most recent year and global value\n",
    "df = df[(df.Time==2017)]\n",
    "df = df[(df.Country!='World')]\n",
    "df ['Country Name'] = df ['Country']\n",
    "df"
   ]
  },
  {
   "cell_type": "code",
   "execution_count": null,
   "id": "4e8c79ca",
   "metadata": {},
   "outputs": [],
   "source": [
    "# Create summarization\n",
    "df_sum = df.groupby('Country Name')[['Value']].sum()\n",
    "df_sum"
   ]
  },
  {
   "cell_type": "code",
   "execution_count": null,
   "id": "f0d10f25",
   "metadata": {},
   "outputs": [],
   "source": [
    "# create standard columns\n",
    "# df.rename(columns={'COUNTRY/ECONOMY':'Country Name'}, inplace=True)\n",
    "\n",
    "df_sum['higher_is_better'] = True\n",
    "df_sum['Year'] = 2017\n",
    "df_sum['Indicator'] = indicator\n",
    "df_sum['data_col'] = df_sum.iloc[:,[0]]\n",
    "df_sum['Sub-Pillar'] = subpillar\n",
    "\n",
    "min_rank = df_sum['data_col'].min()\n",
    "max_rank = df_sum['data_col'].max()\n",
    "\n",
    "# transform 0-1 rank into 1-6\n",
    "df_sum['new_rank_score'] = df_sum['data_col'].apply(lambda row: convert_rank(row,old_min=min_rank,old_max=max_rank))"
   ]
  },
  {
   "cell_type": "code",
   "execution_count": null,
   "id": "9b24fe8d",
   "metadata": {},
   "outputs": [],
   "source": [
    "df_sum = df_sum[['Year','Indicator','data_col','new_rank_score','higher_is_better','Sub-Pillar']]\n",
    "df_sum\n",
    "# Okay but the data is too general with many missing countries"
   ]
  },
  {
   "cell_type": "code",
   "execution_count": null,
   "id": "c04d26a6",
   "metadata": {},
   "outputs": [],
   "source": []
  },
  {
   "cell_type": "code",
   "execution_count": null,
   "id": "6f25278c",
   "metadata": {},
   "outputs": [],
   "source": [
    "### 41. Availability of Scientists and Enginners"
   ]
  },
  {
   "cell_type": "code",
   "execution_count": null,
   "id": "edec953e",
   "metadata": {},
   "outputs": [],
   "source": [
    "indicators[40]\n",
    "\n",
    "# load data\n",
    "indicator = indicators[40]\n",
    "print(indicator)\n",
    "bf = bnames[bnames['Indicator']==indicator]['Filename'].values[0]\n",
    "print(bf)\n",
    "\n",
    "df = pd.read_csv('../../processed/{}.csv'.format(bf))"
   ]
  },
  {
   "cell_type": "code",
   "execution_count": null,
   "id": "a394e30b",
   "metadata": {},
   "outputs": [],
   "source": [
    "df.head(15)"
   ]
  },
  {
   "cell_type": "code",
   "execution_count": null,
   "id": "af298c57",
   "metadata": {},
   "outputs": [],
   "source": [
    "df = df[(df.Indicator == 'Availability of scientists and engineers')]\n",
    "df = df[(df['Subindicator Type'] == '1-7 Best')]\n",
    "df"
   ]
  },
  {
   "cell_type": "code",
   "execution_count": null,
   "id": "ff1884ee",
   "metadata": {},
   "outputs": [],
   "source": [
    "subpillars[1]\n",
    "subpillar = subpillars[1]\n",
    "print(subpillar)"
   ]
  },
  {
   "cell_type": "code",
   "execution_count": null,
   "id": "3ecaa6d7",
   "metadata": {},
   "outputs": [],
   "source": [
    "# create standard columns\n",
    "# df.rename(columns={'COUNTRY/ECONOMY':'Country Name'}, inplace=True)\n",
    "\n",
    "df['higher_is_better'] = True\n",
    "df['Year'] = 2018\n",
    "df['Indicator'] = indicator\n",
    "df['data_col'] = df['2017-2018']\n",
    "df['Sub-Pillar'] = subpillar\n",
    "\n",
    "min_rank = df['data_col'].min()\n",
    "max_rank = df['data_col'].max()\n",
    "\n",
    "# transform 0-1 rank into 1-6\n",
    "df['new_rank_score'] = df['data_col'].apply(lambda row: convert_rank_d(row,old_min=1,old_max=7))"
   ]
  },
  {
   "cell_type": "code",
   "execution_count": null,
   "id": "9ae02e44",
   "metadata": {},
   "outputs": [],
   "source": [
    "df = df[['Country Name', 'Year','Indicator','data_col','new_rank_score','higher_is_better','Sub-Pillar']]\n",
    "df"
   ]
  },
  {
   "cell_type": "code",
   "execution_count": null,
   "id": "64112190",
   "metadata": {},
   "outputs": [],
   "source": [
    "df.to_csv('../indicator_scores/infrastructure_{}_scores.csv'.format(indicator))"
   ]
  },
  {
   "cell_type": "code",
   "execution_count": null,
   "id": "93895b64",
   "metadata": {},
   "outputs": [],
   "source": [
    "### 42. Scientific and technical articles/bn PPP$ GDP"
   ]
  },
  {
   "cell_type": "code",
   "execution_count": null,
   "id": "d6328aac",
   "metadata": {},
   "outputs": [],
   "source": [
    "indicators[41]\n",
    "\n",
    "# load data\n",
    "indicator = indicators[41]\n",
    "print(indicator)\n",
    "bf = bnames[bnames['Indicator']==indicator]['Filename'].values[0]\n",
    "print(bf)\n",
    "\n",
    "df = pd.read_csv('../../processed/{}.csv'.format(bf))"
   ]
  },
  {
   "cell_type": "code",
   "execution_count": null,
   "id": "7147f3bb",
   "metadata": {},
   "outputs": [],
   "source": [
    "df.head(15)"
   ]
  },
  {
   "cell_type": "code",
   "execution_count": null,
   "id": "e76738fb",
   "metadata": {},
   "outputs": [],
   "source": [
    "subpillars[1]\n",
    "subpillar = subpillars[1]\n",
    "print(subpillar)"
   ]
  },
  {
   "cell_type": "code",
   "execution_count": null,
   "id": "ff70539a",
   "metadata": {
    "scrolled": true
   },
   "outputs": [],
   "source": [
    "df = df[(df.IndName == 'Scientific and technical articles/bn PPP$ GDP')]\n",
    "df"
   ]
  },
  {
   "cell_type": "code",
   "execution_count": null,
   "id": "a4da2bda",
   "metadata": {},
   "outputs": [],
   "source": [
    "df['higher_is_better'] = True\n",
    "df['Year'] = df['DataYear']\n",
    "df['Indicator'] = indicator\n",
    "df['data_col'] = df['Score']\n",
    "df['Sub-Pillar'] = subpillar\n",
    "df['Country Name'] = df['Economy']\n",
    "\n",
    "min_rank = df['data_col'].min()\n",
    "max_rank = df['data_col'].max()\n",
    "\n",
    "# transform 0-1 rank into 1-6\n",
    "df['new_rank_score'] = df['data_col'].apply(lambda row: convert_rank(row,old_min=min_rank,old_max=max_rank))"
   ]
  },
  {
   "cell_type": "code",
   "execution_count": null,
   "id": "d9482c0b",
   "metadata": {},
   "outputs": [],
   "source": [
    "df = df[['Country Name', 'Year','Indicator','data_col','new_rank_score','higher_is_better','Sub-Pillar']]\n",
    "df"
   ]
  },
  {
   "cell_type": "code",
   "execution_count": null,
   "id": "8a50d220",
   "metadata": {},
   "outputs": [],
   "source": [
    "df.to_csv('../indicator_scores/infrastructure_Scientific and technical articles_scores.csv')"
   ]
  },
  {
   "cell_type": "code",
   "execution_count": null,
   "id": "1ce19401",
   "metadata": {},
   "outputs": [],
   "source": [
    "### 43. Mobile app creation/bn PPP$ GDP"
   ]
  },
  {
   "cell_type": "code",
   "execution_count": null,
   "id": "48b092a9",
   "metadata": {},
   "outputs": [],
   "source": [
    "indicators[42]\n",
    "\n",
    "# load data\n",
    "indicator = indicators[42]\n",
    "print(indicator)\n",
    "bf = bnames[bnames['Indicator']==indicator]['Filename'].values[0]\n",
    "print(bf)\n",
    "\n",
    "df = pd.read_csv('../../processed/{}.csv'.format(bf))"
   ]
  },
  {
   "cell_type": "code",
   "execution_count": null,
   "id": "1283f018",
   "metadata": {},
   "outputs": [],
   "source": [
    "subpillars[1]\n",
    "subpillar = subpillars[1]\n",
    "print(subpillar)"
   ]
  },
  {
   "cell_type": "code",
   "execution_count": null,
   "id": "649bb8c4",
   "metadata": {},
   "outputs": [],
   "source": [
    "df = df[(df.IndName == 'Mobile app creation/bn PPP$ GDP')]\n",
    "df"
   ]
  },
  {
   "cell_type": "code",
   "execution_count": null,
   "id": "14ac8a93",
   "metadata": {},
   "outputs": [],
   "source": [
    "df['higher_is_better'] = True\n",
    "df['Year'] = df['DataYear']\n",
    "df['Indicator'] = indicator\n",
    "df['data_col'] = df['Score']\n",
    "df['Sub-Pillar'] = subpillar\n",
    "df['Country Name'] = df['Economy']\n",
    "\n",
    "min_rank = df['data_col'].min()\n",
    "max_rank = df['data_col'].max()\n",
    "\n",
    "# transform 0-1 rank into 1-6\n",
    "df['new_rank_score'] = df['data_col'].apply(lambda row: convert_rank(row,old_min=min_rank,old_max=max_rank))"
   ]
  },
  {
   "cell_type": "code",
   "execution_count": null,
   "id": "8fadfbfd",
   "metadata": {},
   "outputs": [],
   "source": [
    "df = df[['Country Name', 'Year','Indicator','data_col','new_rank_score','higher_is_better','Sub-Pillar']]\n",
    "df"
   ]
  },
  {
   "cell_type": "code",
   "execution_count": null,
   "id": "c840a65a",
   "metadata": {},
   "outputs": [],
   "source": [
    "df.to_csv('../indicator_scores/infrastructure_Mobile app creation_scores.csv')"
   ]
  },
  {
   "cell_type": "code",
   "execution_count": null,
   "id": "888429e3",
   "metadata": {},
   "outputs": [],
   "source": [
    "### 44. Patents by origin/bn PPP$ GDP"
   ]
  },
  {
   "cell_type": "code",
   "execution_count": null,
   "id": "472bef8c",
   "metadata": {},
   "outputs": [],
   "source": [
    "indicators[43]\n",
    "\n",
    "# load data\n",
    "indicator = indicators[43]\n",
    "print(indicator)\n",
    "bf = bnames[bnames['Indicator']==indicator]['Filename'].values[0]\n",
    "print(bf)\n",
    "\n",
    "df = pd.read_csv('../../processed/{}.csv'.format(bf))"
   ]
  },
  {
   "cell_type": "code",
   "execution_count": null,
   "id": "f102d36e",
   "metadata": {},
   "outputs": [],
   "source": [
    "subpillars[1]\n",
    "subpillar = subpillars[1]\n",
    "print(subpillar)"
   ]
  },
  {
   "cell_type": "code",
   "execution_count": null,
   "id": "a1d3fed3",
   "metadata": {},
   "outputs": [],
   "source": [
    "df = df[(df.IndName == 'Patents by origin/bn PPP$ GDP')]\n",
    "df"
   ]
  },
  {
   "cell_type": "code",
   "execution_count": null,
   "id": "613a6ba0",
   "metadata": {},
   "outputs": [],
   "source": [
    "df['higher_is_better'] = True\n",
    "df['Year'] = df['DataYear']\n",
    "df['Indicator'] = indicator\n",
    "df['data_col'] = df['Score']\n",
    "df['Sub-Pillar'] = subpillar\n",
    "df['Country Name'] = df['Economy']\n",
    "\n",
    "min_rank = df['data_col'].min()\n",
    "max_rank = df['data_col'].max()\n",
    "\n",
    "# transform 0-1 rank into 1-6\n",
    "df['new_rank_score'] = df['data_col'].apply(lambda row: convert_rank(row,old_min=min_rank,old_max=max_rank))"
   ]
  },
  {
   "cell_type": "code",
   "execution_count": null,
   "id": "b4327a5f",
   "metadata": {},
   "outputs": [],
   "source": [
    "df = df[['Country Name', 'Year','Indicator','data_col','new_rank_score','higher_is_better','Sub-Pillar']]\n",
    "df"
   ]
  },
  {
   "cell_type": "code",
   "execution_count": null,
   "id": "d97c6c8f",
   "metadata": {},
   "outputs": [],
   "source": [
    "df.to_csv('../indicator_scores/infrastructure_Patents by origin_scores.csv')"
   ]
  },
  {
   "cell_type": "code",
   "execution_count": null,
   "id": "4032a1f1",
   "metadata": {},
   "outputs": [],
   "source": [
    "### 45. International patent applications by origin (PCT System)"
   ]
  },
  {
   "cell_type": "code",
   "execution_count": null,
   "id": "27538b65",
   "metadata": {},
   "outputs": [],
   "source": [
    "indicators[44]\n",
    "\n",
    "# load data\n",
    "indicator = indicators[44]\n",
    "print(indicator)\n",
    "bf = bnames[bnames['Indicator']==indicator]['Filename'].values[0]\n",
    "print(bf)\n",
    "\n",
    "df = pd.read_csv('../../processed/{}.csv'.format(bf))"
   ]
  },
  {
   "cell_type": "code",
   "execution_count": null,
   "id": "39476784",
   "metadata": {},
   "outputs": [],
   "source": [
    "df.head(15)"
   ]
  },
  {
   "cell_type": "code",
   "execution_count": null,
   "id": "e780877a",
   "metadata": {},
   "outputs": [],
   "source": [
    "subpillars[1]\n",
    "subpillar = subpillars[1]\n",
    "print(subpillar)"
   ]
  },
  {
   "cell_type": "code",
   "execution_count": null,
   "id": "91de657a",
   "metadata": {},
   "outputs": [],
   "source": [
    "df['higher_is_better'] = True\n",
    "df['Year'] = 2019\n",
    "df['Indicator'] = indicator\n",
    "df['data_col'] = df['2019 Estimate']\n",
    "df['Sub-Pillar'] = subpillar\n",
    "df['Country Name'] = df['Origin']\n",
    "\n",
    "min_rank = df['data_col'].min()\n",
    "max_rank = df['data_col'].max()\n",
    "\n",
    "# transform 0-1 rank into 1-6\n",
    "df['new_rank_score'] = df['data_col'].apply(lambda row: convert_rank(row,old_min=min_rank,old_max=max_rank))"
   ]
  },
  {
   "cell_type": "code",
   "execution_count": null,
   "id": "57a2b2d5",
   "metadata": {},
   "outputs": [],
   "source": [
    "df = df[['Country Name', 'Year','Indicator','data_col','new_rank_score','higher_is_better','Sub-Pillar']]\n",
    "df"
   ]
  },
  {
   "cell_type": "code",
   "execution_count": null,
   "id": "7b0e0b89",
   "metadata": {},
   "outputs": [],
   "source": []
  },
  {
   "cell_type": "code",
   "execution_count": null,
   "id": "672f1838",
   "metadata": {},
   "outputs": [],
   "source": [
    "### 46. International industrial applications by origin (Hague System)"
   ]
  },
  {
   "cell_type": "code",
   "execution_count": null,
   "id": "9acec483",
   "metadata": {},
   "outputs": [],
   "source": [
    "indicators[45]\n",
    "\n",
    "# load data\n",
    "indicator = indicators[45]\n",
    "print(indicator)\n",
    "bf = bnames[bnames['Indicator']==indicator]['Filename'].values[0]\n",
    "print(bf)\n",
    "\n",
    "df = pd.read_csv('../../processed/{}.csv'.format(bf))\n",
    "df.head(15)"
   ]
  },
  {
   "cell_type": "code",
   "execution_count": null,
   "id": "f0af7e68",
   "metadata": {},
   "outputs": [],
   "source": [
    "subpillars[1]\n",
    "subpillar = subpillars[1]\n",
    "print(subpillar)"
   ]
  },
  {
   "cell_type": "code",
   "execution_count": null,
   "id": "e4266963",
   "metadata": {},
   "outputs": [],
   "source": [
    "df['higher_is_better'] = True\n",
    "df['Year'] = 2019\n",
    "df['Indicator'] = indicator\n",
    "df['data_col'] = df.iloc[:,2]\n",
    "df['Sub-Pillar'] = subpillar\n",
    "df['Country Name'] = df['Origin']\n",
    "\n",
    "min_rank = df['data_col'].min()\n",
    "max_rank = df['data_col'].max()\n",
    "\n",
    "# transform 0-1 rank into 1-6\n",
    "df['new_rank_score'] = df['data_col'].apply(lambda row: convert_rank(row,old_min=min_rank,old_max=max_rank))"
   ]
  },
  {
   "cell_type": "code",
   "execution_count": null,
   "id": "5ae3e7c6",
   "metadata": {},
   "outputs": [],
   "source": [
    "df = df[['Country Name', 'Year','Indicator','data_col','new_rank_score','higher_is_better','Sub-Pillar']]\n",
    "df"
   ]
  },
  {
   "cell_type": "code",
   "execution_count": null,
   "id": "dccf7af3",
   "metadata": {},
   "outputs": [],
   "source": []
  },
  {
   "cell_type": "code",
   "execution_count": null,
   "id": "aa71b56f",
   "metadata": {},
   "outputs": [],
   "source": [
    "### 47. International industrial designs by origin (Hague System)"
   ]
  },
  {
   "cell_type": "code",
   "execution_count": null,
   "id": "b240e113",
   "metadata": {},
   "outputs": [],
   "source": [
    "indicators[46]\n",
    "\n",
    "# load data\n",
    "indicator = indicators[46]\n",
    "print(indicator)\n",
    "bf = bnames[bnames['Indicator']==indicator]['Filename'].values[0]\n",
    "print(bf)\n",
    "\n",
    "df = pd.read_csv('../../processed/{}.csv'.format(bf))\n",
    "df.head(15)"
   ]
  },
  {
   "cell_type": "code",
   "execution_count": null,
   "id": "46e8af8f",
   "metadata": {},
   "outputs": [],
   "source": [
    "subpillars[1]\n",
    "subpillar = subpillars[1]\n",
    "print(subpillar)"
   ]
  },
  {
   "cell_type": "code",
   "execution_count": null,
   "id": "fa3e88b5",
   "metadata": {},
   "outputs": [],
   "source": [
    "df['higher_is_better'] = True\n",
    "df['Year'] = 2019\n",
    "df['Indicator'] = indicator\n",
    "df['data_col'] = df.iloc[:,4]\n",
    "df['Sub-Pillar'] = subpillar\n",
    "df['Country Name'] = df['Origin']\n",
    "\n",
    "min_rank = df['data_col'].min()\n",
    "max_rank = df['data_col'].max()\n",
    "\n",
    "# transform 0-1 rank into 1-6\n",
    "df['new_rank_score'] = df['data_col'].apply(lambda row: convert_rank(row,old_min=min_rank,old_max=max_rank))"
   ]
  },
  {
   "cell_type": "code",
   "execution_count": null,
   "id": "1cefa14d",
   "metadata": {},
   "outputs": [],
   "source": [
    "df = df[['Country Name', 'Year','Indicator','data_col','new_rank_score','higher_is_better','Sub-Pillar']]\n",
    "df"
   ]
  },
  {
   "cell_type": "code",
   "execution_count": null,
   "id": "4630b243",
   "metadata": {},
   "outputs": [],
   "source": []
  },
  {
   "cell_type": "code",
   "execution_count": null,
   "id": "7f45bab7",
   "metadata": {},
   "outputs": [],
   "source": [
    "### Score Aggregating"
   ]
  },
  {
   "cell_type": "code",
   "execution_count": null,
   "id": "9e141c17",
   "metadata": {},
   "outputs": [],
   "source": [
    "import os"
   ]
  },
  {
   "cell_type": "code",
   "execution_count": null,
   "id": "e41e9a2a",
   "metadata": {},
   "outputs": [],
   "source": [
    "# get list of files in scores folder\n",
    "scores = os.listdir('../indicator_scores/')\n",
    "scores = [s for s in scores if s.startswith('infrastructure')]"
   ]
  },
  {
   "cell_type": "code",
   "execution_count": null,
   "id": "a5924de4",
   "metadata": {},
   "outputs": [],
   "source": [
    "scores"
   ]
  },
  {
   "cell_type": "code",
   "execution_count": null,
   "id": "69e67457",
   "metadata": {},
   "outputs": [],
   "source": [
    "# create a dataframe that concatenates all these file into one table\n",
    "df = pd.concat([pd.read_csv('../indicator_scores/{}'.format(s)) for s in scores])    "
   ]
  },
  {
   "cell_type": "code",
   "execution_count": null,
   "id": "1507527c",
   "metadata": {},
   "outputs": [],
   "source": [
    "df"
   ]
  },
  {
   "cell_type": "code",
   "execution_count": null,
   "id": "cdf69306",
   "metadata": {},
   "outputs": [],
   "source": [
    "# Data cleaning\n",
    "df['new_rank_score'] = df['new_rank_score'].fillna(0)\n",
    "df.sort_values(by=['Country Name'], ascending=True, inplace=True)\n",
    "df.reset_index(drop=True, inplace=True)\n",
    "\n",
    "# remove trailing whitespaces from country name\n",
    "df['Country Name'] = df['Country Name'].str.strip()\n",
    "df['Country Name'] = df['Country Name'].str.strip('**')\n",
    "df['Country Name'] = df['Country Name'].str.strip('*')\n",
    "\n",
    "\n",
    "# Replace values that are not truly country names with nan\n",
    "df['Country Name'] = df['Country Name'].replace('n.a. : non avalaible',np.nan)\n",
    "df['Country Name'] = df['Country Name'].replace('nan',np.nan)\n",
    "df['Country Name'] = df['Country Name'].replace('Not classified',np.nan)\n",
    "df['Country Name'] = df['Country Name'].replace('Source :',np.nan)\n",
    "df['Country Name'] = df['Country Name'].replace('© Copyright Enerdata. Reproduction and diffusion prohibited (web, photocopy, intranet...) without written permission.',np.nan)\n",
    "\n",
    "# Dropping the columns having NaN/NaT values\n",
    "df = df[df['Country Name'].notna()]\n",
    "\n",
    "\n",
    "df['Country Name'] = df['Country Name'].astype(str, errors = 'ignore')\n",
    "\n"
   ]
  },
  {
   "cell_type": "code",
   "execution_count": null,
   "id": "5774d3ad",
   "metadata": {},
   "outputs": [],
   "source": [
    "df.info()"
   ]
  },
  {
   "cell_type": "code",
   "execution_count": null,
   "id": "1cf107ba",
   "metadata": {},
   "outputs": [],
   "source": [
    "df.head(15)"
   ]
  },
  {
   "cell_type": "code",
   "execution_count": null,
   "id": "a447a5ef",
   "metadata": {},
   "outputs": [],
   "source": [
    "sorted(df['Country Name'].unique().tolist())"
   ]
  },
  {
   "cell_type": "code",
   "execution_count": null,
   "id": "c7bbdf1e",
   "metadata": {},
   "outputs": [],
   "source": [
    "df.head(15)"
   ]
  },
  {
   "cell_type": "code",
   "execution_count": null,
   "id": "2a33e6c4",
   "metadata": {},
   "outputs": [],
   "source": [
    "# average indicator scores per country\n",
    "agg_df = df.groupby(['Country Name']).agg({'new_rank_score':'mean','data_col':'count'})"
   ]
  },
  {
   "cell_type": "code",
   "execution_count": null,
   "id": "9acd0096",
   "metadata": {},
   "outputs": [],
   "source": [
    "agg_df.columns = ['agg_score', 'count_source' ]"
   ]
  },
  {
   "cell_type": "code",
   "execution_count": null,
   "id": "d15d0d0d",
   "metadata": {},
   "outputs": [],
   "source": [
    "max_number_sources = agg_df.describe()['count_source']['max']"
   ]
  },
  {
   "cell_type": "code",
   "execution_count": null,
   "id": "e10bdf88",
   "metadata": {},
   "outputs": [],
   "source": [
    "agg_df['agg_score_wt'] = agg_df['agg_score']*(agg_df['count_source']/max_number_sources)"
   ]
  },
  {
   "cell_type": "code",
   "execution_count": null,
   "id": "fa3ff3f3",
   "metadata": {},
   "outputs": [],
   "source": [
    "agg_df.sort_values(by='agg_score', ascending=False, inplace=True)"
   ]
  },
  {
   "cell_type": "code",
   "execution_count": null,
   "id": "ead2eea2",
   "metadata": {},
   "outputs": [],
   "source": [
    "agg_df.head(25)"
   ]
  },
  {
   "cell_type": "code",
   "execution_count": null,
   "id": "a8327e1f",
   "metadata": {},
   "outputs": [],
   "source": [
    "agg_df.to_csv('../pillar_scores/infrastructure_scores_v0.csv')"
   ]
  },
  {
   "cell_type": "code",
   "execution_count": null,
   "id": "b4e98735",
   "metadata": {},
   "outputs": [],
   "source": [
    "### Score Aggregating by Subpillars"
   ]
  },
  {
   "cell_type": "code",
   "execution_count": null,
   "id": "a56938b4",
   "metadata": {
    "scrolled": true
   },
   "outputs": [],
   "source": [
    "df.insert(0,'Pillar','Infrastructure')\n",
    "df\n",
    "\n",
    "# remove trailing whitespaces from country name\n",
    "df['Country Name'] = df['Country Name'].str.strip()\n",
    "df['Country Name'] = df['Country Name'].str.strip('**')\n",
    "df['Country Name'] = df['Country Name'].str.strip('*')"
   ]
  },
  {
   "cell_type": "code",
   "execution_count": null,
   "id": "92c2fb9c",
   "metadata": {},
   "outputs": [],
   "source": [
    "sub_df = df.groupby(['Pillar','Sub-Pillar','Country Name']).agg({'new_rank_score':'mean','data_col':'count'})"
   ]
  },
  {
   "cell_type": "code",
   "execution_count": null,
   "id": "24937251",
   "metadata": {},
   "outputs": [],
   "source": [
    "sub_df.columns = ['agg_score', 'count_source' ]"
   ]
  },
  {
   "cell_type": "code",
   "execution_count": null,
   "id": "4fc06665",
   "metadata": {},
   "outputs": [],
   "source": [
    "max_number_sources = sub_df.describe()['count_source']['max']"
   ]
  },
  {
   "cell_type": "code",
   "execution_count": null,
   "id": "99542af1",
   "metadata": {},
   "outputs": [],
   "source": [
    "sub_df['agg_score_wt'] = sub_df['agg_score']*(sub_df['count_source']/max_number_sources)"
   ]
  },
  {
   "cell_type": "code",
   "execution_count": null,
   "id": "5769aaaa",
   "metadata": {},
   "outputs": [],
   "source": [
    "sub_df.to_csv('../subpillar_score/infrastructure_scores_subpillar_v0.csv')"
   ]
  },
  {
   "cell_type": "markdown",
   "id": "a31446a4",
   "metadata": {},
   "source": [
    "### Sources Generation"
   ]
  },
  {
   "cell_type": "code",
   "execution_count": null,
   "id": "a2fa8061",
   "metadata": {},
   "outputs": [],
   "source": [
    "#Get all countries from Countries.xlsx\n",
    "countries = pd.read_excel('../../data/Countries.xlsx')\n",
    "col_names = ['Country or Area']\n",
    "countries = countries[col_names]\n",
    "countries.rename(columns = {'Country or Area': 'Country Name'}, inplace = True)"
   ]
  },
  {
   "cell_type": "code",
   "execution_count": null,
   "id": "6cb0f85b",
   "metadata": {},
   "outputs": [],
   "source": [
    "#Get all indicators from names dataframe retrieve at the begining of the script\n",
    "bnames=bnames[['check','Sub-Pillar','Indicator','Data Source','Data Link']]\n",
    "bnames.rename(columns = {'check': 'Pillar'}, inplace = True)\n",
    "bnames = bnames.replace('\\n','', regex=True)"
   ]
  },
  {
   "cell_type": "code",
   "execution_count": null,
   "id": "9e7e2696",
   "metadata": {},
   "outputs": [],
   "source": [
    "#Do a nice cross join so that we have combination of all countries vs all indicators\n",
    "sources = countries.merge(bnames, how='cross')\n",
    "sources"
   ]
  },
  {
   "cell_type": "code",
   "execution_count": null,
   "id": "d1451f8e",
   "metadata": {},
   "outputs": [],
   "source": [
    "#Make copy of a scores dataframe and add the column available, with value of 1 (string)\n",
    "#denoting all the country/indicator combinations that have value\n",
    "dfsources = df[['Country Name','Pillar','Sub-Pillar','Indicator']].copy()\n",
    "dfsources['Available'] = '1'"
   ]
  },
  {
   "cell_type": "code",
   "execution_count": null,
   "id": "9b848bcc",
   "metadata": {},
   "outputs": [],
   "source": [
    "#Merge (left join) sources (all country indicator combinations)\n",
    "#with those in copied scores dataframe\n",
    "#resulting in a sources dataframe with values of 1 in Available column where there is a value for country/indicator\n",
    "#and there is a NaN where there's not. \n",
    "#subsequently replace NaN with 0 (string)\n",
    "sources = sources.merge(dfsources, how='left', on=['Country Name','Pillar','Sub-Pillar','Indicator'])\n",
    "sources['Available'] = sources['Available'].fillna('0')\n",
    "sources"
   ]
  },
  {
   "cell_type": "code",
   "execution_count": null,
   "id": "83265508",
   "metadata": {},
   "outputs": [],
   "source": [
    "#If sources.csv exists, get the contents, remove everyhing from this pillar, append prepared sources, save csv.\n",
    "#if sources.csv does not exist, create new file from sources.\n",
    "from os.path import exists\n",
    "\n",
    "if exists('../../dashboard/Sources.csv') :\n",
    "    CurrentSources = pd.read_csv('../../dashboard/Sources.csv', dtype=str)\n",
    "    CurrentSources = CurrentSources[['Country Name','Pillar','Sub-Pillar','Indicator','Data Source','Data Link','Available']]\n",
    "    CurrentSources = CurrentSources.loc[CurrentSources['Pillar'] != 'Infrastructure']\n",
    "    CurrentSources = CurrentSources.append(sources)\n",
    "else :\n",
    "    CurrentSources = sources\n",
    "CurrentSources"
   ]
  },
  {
   "cell_type": "code",
   "execution_count": null,
   "id": "6ec34ca9",
   "metadata": {},
   "outputs": [],
   "source": [
    "CurrentSources.to_csv('../../dashboard/Sources.csv', index=False)"
   ]
  }
 ],
 "metadata": {
  "kernelspec": {
   "display_name": "Python 3",
   "language": "python",
   "name": "python3"
  },
  "language_info": {
   "codemirror_mode": {
    "name": "ipython",
    "version": 3
   },
   "file_extension": ".py",
   "mimetype": "text/x-python",
   "name": "python",
   "nbconvert_exporter": "python",
   "pygments_lexer": "ipython3",
   "version": "3.8.8"
  }
 },
 "nbformat": 4,
 "nbformat_minor": 5
}
