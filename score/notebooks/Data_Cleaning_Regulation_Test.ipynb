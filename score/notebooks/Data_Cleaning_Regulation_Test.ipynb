{
 "cells": [
  {
   "cell_type": "code",
   "execution_count": 1,
   "id": "1625ba20",
   "metadata": {},
   "outputs": [],
   "source": [
    "import pandas as pd\n",
    "import numpy as np"
   ]
  },
  {
   "cell_type": "code",
   "execution_count": 2,
   "id": "9e3c7d23",
   "metadata": {},
   "outputs": [],
   "source": [
    "### Get all the pillar names from the excel"
   ]
  },
  {
   "cell_type": "code",
   "execution_count": 3,
   "id": "3ee47b8a",
   "metadata": {},
   "outputs": [],
   "source": [
    "names = pd.read_excel('../../UNDP Digital Assessment Data Framework Filename Matching V7.xlsx')"
   ]
  },
  {
   "cell_type": "code",
   "execution_count": 4,
   "id": "87493b99",
   "metadata": {},
   "outputs": [],
   "source": [
    "col_names = ['Indicator','check', 'Data Source','Index','Filename']"
   ]
  },
  {
   "cell_type": "code",
   "execution_count": 5,
   "id": "e8a3ec24",
   "metadata": {},
   "outputs": [],
   "source": [
    "names = names[col_names]"
   ]
  },
  {
   "cell_type": "code",
   "execution_count": 6,
   "id": "776e01d4",
   "metadata": {},
   "outputs": [
    {
     "data": {
      "text/html": [
       "<div>\n",
       "<style scoped>\n",
       "    .dataframe tbody tr th:only-of-type {\n",
       "        vertical-align: middle;\n",
       "    }\n",
       "\n",
       "    .dataframe tbody tr th {\n",
       "        vertical-align: top;\n",
       "    }\n",
       "\n",
       "    .dataframe thead th {\n",
       "        text-align: right;\n",
       "    }\n",
       "</style>\n",
       "<table border=\"1\" class=\"dataframe\">\n",
       "  <thead>\n",
       "    <tr style=\"text-align: right;\">\n",
       "      <th></th>\n",
       "      <th>Indicator</th>\n",
       "      <th>check</th>\n",
       "      <th>Data Source</th>\n",
       "      <th>Index</th>\n",
       "      <th>Filename</th>\n",
       "    </tr>\n",
       "  </thead>\n",
       "  <tbody>\n",
       "    <tr>\n",
       "      <th>0</th>\n",
       "      <td>Countries</td>\n",
       "      <td>NaN</td>\n",
       "      <td>United Nations</td>\n",
       "      <td>False</td>\n",
       "      <td>Countries</td>\n",
       "    </tr>\n",
       "    <tr>\n",
       "      <th>1</th>\n",
       "      <td>Database of Global Administrative Areas (GADM,...</td>\n",
       "      <td>NaN</td>\n",
       "      <td>GADM maps and data</td>\n",
       "      <td>False</td>\n",
       "      <td>NaN</td>\n",
       "    </tr>\n",
       "    <tr>\n",
       "      <th>2</th>\n",
       "      <td>High Resolution Population Density Maps + Demo...</td>\n",
       "      <td>NaN</td>\n",
       "      <td>Facebook</td>\n",
       "      <td>False</td>\n",
       "      <td>NaN</td>\n",
       "    </tr>\n",
       "    <tr>\n",
       "      <th>3</th>\n",
       "      <td>population density vs openstreetmap object den...</td>\n",
       "      <td>NaN</td>\n",
       "      <td>Kontur</td>\n",
       "      <td>False</td>\n",
       "      <td>NaN</td>\n",
       "    </tr>\n",
       "    <tr>\n",
       "      <th>4</th>\n",
       "      <td>Population Density</td>\n",
       "      <td>Infrastructure</td>\n",
       "      <td>World Bank</td>\n",
       "      <td>False</td>\n",
       "      <td>population_density</td>\n",
       "    </tr>\n",
       "  </tbody>\n",
       "</table>\n",
       "</div>"
      ],
      "text/plain": [
       "                                           Indicator           check  \\\n",
       "0                                          Countries             NaN   \n",
       "1  Database of Global Administrative Areas (GADM,...             NaN   \n",
       "2  High Resolution Population Density Maps + Demo...             NaN   \n",
       "3  population density vs openstreetmap object den...             NaN   \n",
       "4                                 Population Density  Infrastructure   \n",
       "\n",
       "          Data Source  Index            Filename  \n",
       "0      United Nations  False           Countries  \n",
       "1  GADM maps and data  False                 NaN  \n",
       "2            Facebook  False                 NaN  \n",
       "3              Kontur  False                 NaN  \n",
       "4          World Bank  False  population_density  "
      ]
     },
     "execution_count": 6,
     "metadata": {},
     "output_type": "execute_result"
    }
   ],
   "source": [
    "names.head()"
   ]
  },
  {
   "cell_type": "code",
   "execution_count": 7,
   "id": "8a4781ae",
   "metadata": {},
   "outputs": [],
   "source": [
    "# get all the files per pillar\n",
    "data_stats = names.groupby('check').agg({'Filename':'count','Indicator':'count'})"
   ]
  },
  {
   "cell_type": "code",
   "execution_count": 8,
   "id": "aa43ab44",
   "metadata": {},
   "outputs": [
    {
     "data": {
      "text/html": [
       "<div>\n",
       "<style scoped>\n",
       "    .dataframe tbody tr th:only-of-type {\n",
       "        vertical-align: middle;\n",
       "    }\n",
       "\n",
       "    .dataframe tbody tr th {\n",
       "        vertical-align: top;\n",
       "    }\n",
       "\n",
       "    .dataframe thead th {\n",
       "        text-align: right;\n",
       "    }\n",
       "</style>\n",
       "<table border=\"1\" class=\"dataframe\">\n",
       "  <thead>\n",
       "    <tr style=\"text-align: right;\">\n",
       "      <th></th>\n",
       "      <th>Filename</th>\n",
       "      <th>Indicator</th>\n",
       "    </tr>\n",
       "    <tr>\n",
       "      <th>check</th>\n",
       "      <th></th>\n",
       "      <th></th>\n",
       "    </tr>\n",
       "  </thead>\n",
       "  <tbody>\n",
       "    <tr>\n",
       "      <th>Business</th>\n",
       "      <td>16</td>\n",
       "      <td>25</td>\n",
       "    </tr>\n",
       "    <tr>\n",
       "      <th>Foundations</th>\n",
       "      <td>8</td>\n",
       "      <td>13</td>\n",
       "    </tr>\n",
       "    <tr>\n",
       "      <th>Government</th>\n",
       "      <td>9</td>\n",
       "      <td>15</td>\n",
       "    </tr>\n",
       "    <tr>\n",
       "      <th>Infrastructure</th>\n",
       "      <td>39</td>\n",
       "      <td>48</td>\n",
       "    </tr>\n",
       "    <tr>\n",
       "      <th>People</th>\n",
       "      <td>34</td>\n",
       "      <td>47</td>\n",
       "    </tr>\n",
       "    <tr>\n",
       "      <th>Regulation</th>\n",
       "      <td>6</td>\n",
       "      <td>7</td>\n",
       "    </tr>\n",
       "    <tr>\n",
       "      <th>Strategy</th>\n",
       "      <td>1</td>\n",
       "      <td>1</td>\n",
       "    </tr>\n",
       "  </tbody>\n",
       "</table>\n",
       "</div>"
      ],
      "text/plain": [
       "                Filename  Indicator\n",
       "check                              \n",
       "Business              16         25\n",
       "Foundations            8         13\n",
       "Government             9         15\n",
       "Infrastructure        39         48\n",
       "People                34         47\n",
       "Regulation             6          7\n",
       "Strategy               1          1"
      ]
     },
     "execution_count": 8,
     "metadata": {},
     "output_type": "execute_result"
    }
   ],
   "source": [
    "data_stats"
   ]
  },
  {
   "cell_type": "code",
   "execution_count": 9,
   "id": "29579128",
   "metadata": {},
   "outputs": [],
   "source": [
    "### Regulation"
   ]
  },
  {
   "cell_type": "code",
   "execution_count": 10,
   "id": "7cc39a95",
   "metadata": {},
   "outputs": [
    {
     "data": {
      "text/html": [
       "<div>\n",
       "<style scoped>\n",
       "    .dataframe tbody tr th:only-of-type {\n",
       "        vertical-align: middle;\n",
       "    }\n",
       "\n",
       "    .dataframe tbody tr th {\n",
       "        vertical-align: top;\n",
       "    }\n",
       "\n",
       "    .dataframe thead th {\n",
       "        text-align: right;\n",
       "    }\n",
       "</style>\n",
       "<table border=\"1\" class=\"dataframe\">\n",
       "  <thead>\n",
       "    <tr style=\"text-align: right;\">\n",
       "      <th></th>\n",
       "      <th>Indicator</th>\n",
       "      <th>check</th>\n",
       "      <th>Data Source</th>\n",
       "      <th>Index</th>\n",
       "      <th>Filename</th>\n",
       "    </tr>\n",
       "  </thead>\n",
       "  <tbody>\n",
       "    <tr>\n",
       "      <th>68</th>\n",
       "      <td>data protection laws</td>\n",
       "      <td>Regulation</td>\n",
       "      <td>UNCTAD</td>\n",
       "      <td>False</td>\n",
       "      <td>data_protect_privacy_legislation</td>\n",
       "    </tr>\n",
       "    <tr>\n",
       "      <th>69</th>\n",
       "      <td>Global Tables of Data Privacy Laws and Bills</td>\n",
       "      <td>Regulation</td>\n",
       "      <td>UNCTAD</td>\n",
       "      <td>False</td>\n",
       "      <td>data_protect_privacy_legislation</td>\n",
       "    </tr>\n",
       "    <tr>\n",
       "      <th>70</th>\n",
       "      <td>Data Protection and Privacy Legislation Worldwide</td>\n",
       "      <td>Regulation</td>\n",
       "      <td>UNCTAD</td>\n",
       "      <td>False</td>\n",
       "      <td>data_protect_privacy_legislation</td>\n",
       "    </tr>\n",
       "    <tr>\n",
       "      <th>72</th>\n",
       "      <td>Repo of laws on encryption</td>\n",
       "      <td>Regulation</td>\n",
       "      <td>Global Partners Digital</td>\n",
       "      <td>False</td>\n",
       "      <td>encrytion_data</td>\n",
       "    </tr>\n",
       "    <tr>\n",
       "      <th>73</th>\n",
       "      <td># key internet controls employed</td>\n",
       "      <td>Regulation</td>\n",
       "      <td>Freedom House</td>\n",
       "      <td>False</td>\n",
       "      <td>number_key_internet_controls_employed</td>\n",
       "    </tr>\n",
       "    <tr>\n",
       "      <th>74</th>\n",
       "      <td>Rule of Law Index</td>\n",
       "      <td>Regulation</td>\n",
       "      <td>World Justice Project</td>\n",
       "      <td>False</td>\n",
       "      <td>rli</td>\n",
       "    </tr>\n",
       "  </tbody>\n",
       "</table>\n",
       "</div>"
      ],
      "text/plain": [
       "                                            Indicator       check  \\\n",
       "68                               data protection laws  Regulation   \n",
       "69       Global Tables of Data Privacy Laws and Bills  Regulation   \n",
       "70  Data Protection and Privacy Legislation Worldwide  Regulation   \n",
       "72                         Repo of laws on encryption  Regulation   \n",
       "73                   # key internet controls employed  Regulation   \n",
       "74                                  Rule of Law Index  Regulation   \n",
       "\n",
       "                Data Source  Index                               Filename  \n",
       "68                   UNCTAD  False       data_protect_privacy_legislation  \n",
       "69                   UNCTAD  False       data_protect_privacy_legislation  \n",
       "70                   UNCTAD  False       data_protect_privacy_legislation  \n",
       "72  Global Partners Digital  False                         encrytion_data  \n",
       "73            Freedom House  False  number_key_internet_controls_employed  \n",
       "74    World Justice Project  False                                    rli  "
      ]
     },
     "execution_count": 10,
     "metadata": {},
     "output_type": "execute_result"
    }
   ],
   "source": [
    "bnames = names[(names.check=='Regulation')&(~names.Filename.isna())]#&(names.Index==False)]\n",
    "bnames.head(25)"
   ]
  },
  {
   "cell_type": "code",
   "execution_count": null,
   "id": "84814fdb",
   "metadata": {},
   "outputs": [],
   "source": []
  }
 ],
 "metadata": {
  "kernelspec": {
   "display_name": "Python 3",
   "language": "python",
   "name": "python3"
  },
  "language_info": {
   "codemirror_mode": {
    "name": "ipython",
    "version": 3
   },
   "file_extension": ".py",
   "mimetype": "text/x-python",
   "name": "python",
   "nbconvert_exporter": "python",
   "pygments_lexer": "ipython3",
   "version": "3.8.8"
  }
 },
 "nbformat": 4,
 "nbformat_minor": 5
}
