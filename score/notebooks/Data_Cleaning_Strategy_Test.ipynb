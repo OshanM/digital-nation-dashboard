{
 "cells": [
  {
   "cell_type": "code",
   "execution_count": 1,
   "id": "d2376578",
   "metadata": {},
   "outputs": [],
   "source": [
    "import pandas as pd\n",
    "import numpy as np"
   ]
  },
  {
   "cell_type": "code",
   "execution_count": 2,
   "id": "93a3b1ab",
   "metadata": {},
   "outputs": [],
   "source": [
    "### Get all the pillar names from the excel"
   ]
  },
  {
   "cell_type": "code",
   "execution_count": 3,
   "id": "44fd8566",
   "metadata": {},
   "outputs": [],
   "source": [
    "names = pd.read_excel('../../UNDP Digital Assessment Data Framework Filename Matching V7.xlsx')"
   ]
  },
  {
   "cell_type": "code",
   "execution_count": 4,
   "id": "b8a19cc5",
   "metadata": {},
   "outputs": [],
   "source": [
    "col_names = ['Indicator','check', 'Data Source','Index','Filename']"
   ]
  },
  {
   "cell_type": "code",
   "execution_count": 5,
   "id": "535ea42c",
   "metadata": {},
   "outputs": [],
   "source": [
    "names = names[col_names]"
   ]
  },
  {
   "cell_type": "code",
   "execution_count": 6,
   "id": "58666120",
   "metadata": {},
   "outputs": [
    {
     "data": {
      "text/html": [
       "<div>\n",
       "<style scoped>\n",
       "    .dataframe tbody tr th:only-of-type {\n",
       "        vertical-align: middle;\n",
       "    }\n",
       "\n",
       "    .dataframe tbody tr th {\n",
       "        vertical-align: top;\n",
       "    }\n",
       "\n",
       "    .dataframe thead th {\n",
       "        text-align: right;\n",
       "    }\n",
       "</style>\n",
       "<table border=\"1\" class=\"dataframe\">\n",
       "  <thead>\n",
       "    <tr style=\"text-align: right;\">\n",
       "      <th></th>\n",
       "      <th>Indicator</th>\n",
       "      <th>check</th>\n",
       "      <th>Data Source</th>\n",
       "      <th>Index</th>\n",
       "      <th>Filename</th>\n",
       "    </tr>\n",
       "  </thead>\n",
       "  <tbody>\n",
       "    <tr>\n",
       "      <th>0</th>\n",
       "      <td>Countries</td>\n",
       "      <td>NaN</td>\n",
       "      <td>United Nations</td>\n",
       "      <td>False</td>\n",
       "      <td>Countries</td>\n",
       "    </tr>\n",
       "    <tr>\n",
       "      <th>1</th>\n",
       "      <td>Database of Global Administrative Areas (GADM,...</td>\n",
       "      <td>NaN</td>\n",
       "      <td>GADM maps and data</td>\n",
       "      <td>False</td>\n",
       "      <td>NaN</td>\n",
       "    </tr>\n",
       "    <tr>\n",
       "      <th>2</th>\n",
       "      <td>High Resolution Population Density Maps + Demo...</td>\n",
       "      <td>NaN</td>\n",
       "      <td>Facebook</td>\n",
       "      <td>False</td>\n",
       "      <td>NaN</td>\n",
       "    </tr>\n",
       "    <tr>\n",
       "      <th>3</th>\n",
       "      <td>population density vs openstreetmap object den...</td>\n",
       "      <td>NaN</td>\n",
       "      <td>Kontur</td>\n",
       "      <td>False</td>\n",
       "      <td>NaN</td>\n",
       "    </tr>\n",
       "    <tr>\n",
       "      <th>4</th>\n",
       "      <td>Population Density</td>\n",
       "      <td>Infrastructure</td>\n",
       "      <td>World Bank</td>\n",
       "      <td>False</td>\n",
       "      <td>population_density</td>\n",
       "    </tr>\n",
       "  </tbody>\n",
       "</table>\n",
       "</div>"
      ],
      "text/plain": [
       "                                           Indicator           check  \\\n",
       "0                                          Countries             NaN   \n",
       "1  Database of Global Administrative Areas (GADM,...             NaN   \n",
       "2  High Resolution Population Density Maps + Demo...             NaN   \n",
       "3  population density vs openstreetmap object den...             NaN   \n",
       "4                                 Population Density  Infrastructure   \n",
       "\n",
       "          Data Source  Index            Filename  \n",
       "0      United Nations  False           Countries  \n",
       "1  GADM maps and data  False                 NaN  \n",
       "2            Facebook  False                 NaN  \n",
       "3              Kontur  False                 NaN  \n",
       "4          World Bank  False  population_density  "
      ]
     },
     "execution_count": 6,
     "metadata": {},
     "output_type": "execute_result"
    }
   ],
   "source": [
    "names.head()"
   ]
  },
  {
   "cell_type": "code",
   "execution_count": 7,
   "id": "fc0f0233",
   "metadata": {},
   "outputs": [],
   "source": [
    "# get all the files per pillar\n",
    "data_stats = names.groupby('check').agg({'Filename':'count','Indicator':'count'})"
   ]
  },
  {
   "cell_type": "code",
   "execution_count": 8,
   "id": "1cef7adf",
   "metadata": {},
   "outputs": [
    {
     "data": {
      "text/html": [
       "<div>\n",
       "<style scoped>\n",
       "    .dataframe tbody tr th:only-of-type {\n",
       "        vertical-align: middle;\n",
       "    }\n",
       "\n",
       "    .dataframe tbody tr th {\n",
       "        vertical-align: top;\n",
       "    }\n",
       "\n",
       "    .dataframe thead th {\n",
       "        text-align: right;\n",
       "    }\n",
       "</style>\n",
       "<table border=\"1\" class=\"dataframe\">\n",
       "  <thead>\n",
       "    <tr style=\"text-align: right;\">\n",
       "      <th></th>\n",
       "      <th>Filename</th>\n",
       "      <th>Indicator</th>\n",
       "    </tr>\n",
       "    <tr>\n",
       "      <th>check</th>\n",
       "      <th></th>\n",
       "      <th></th>\n",
       "    </tr>\n",
       "  </thead>\n",
       "  <tbody>\n",
       "    <tr>\n",
       "      <th>Business</th>\n",
       "      <td>16</td>\n",
       "      <td>25</td>\n",
       "    </tr>\n",
       "    <tr>\n",
       "      <th>Foundations</th>\n",
       "      <td>8</td>\n",
       "      <td>13</td>\n",
       "    </tr>\n",
       "    <tr>\n",
       "      <th>Government</th>\n",
       "      <td>9</td>\n",
       "      <td>15</td>\n",
       "    </tr>\n",
       "    <tr>\n",
       "      <th>Infrastructure</th>\n",
       "      <td>39</td>\n",
       "      <td>48</td>\n",
       "    </tr>\n",
       "    <tr>\n",
       "      <th>People</th>\n",
       "      <td>34</td>\n",
       "      <td>47</td>\n",
       "    </tr>\n",
       "    <tr>\n",
       "      <th>Regulation</th>\n",
       "      <td>6</td>\n",
       "      <td>7</td>\n",
       "    </tr>\n",
       "    <tr>\n",
       "      <th>Strategy</th>\n",
       "      <td>1</td>\n",
       "      <td>1</td>\n",
       "    </tr>\n",
       "  </tbody>\n",
       "</table>\n",
       "</div>"
      ],
      "text/plain": [
       "                Filename  Indicator\n",
       "check                              \n",
       "Business              16         25\n",
       "Foundations            8         13\n",
       "Government             9         15\n",
       "Infrastructure        39         48\n",
       "People                34         47\n",
       "Regulation             6          7\n",
       "Strategy               1          1"
      ]
     },
     "execution_count": 8,
     "metadata": {},
     "output_type": "execute_result"
    }
   ],
   "source": [
    "data_stats"
   ]
  },
  {
   "cell_type": "code",
   "execution_count": 9,
   "id": "0a3cecf3",
   "metadata": {},
   "outputs": [],
   "source": [
    "### Strategy"
   ]
  },
  {
   "cell_type": "code",
   "execution_count": 10,
   "id": "e419f7db",
   "metadata": {},
   "outputs": [
    {
     "data": {
      "text/html": [
       "<div>\n",
       "<style scoped>\n",
       "    .dataframe tbody tr th:only-of-type {\n",
       "        vertical-align: middle;\n",
       "    }\n",
       "\n",
       "    .dataframe tbody tr th {\n",
       "        vertical-align: top;\n",
       "    }\n",
       "\n",
       "    .dataframe thead th {\n",
       "        text-align: right;\n",
       "    }\n",
       "</style>\n",
       "<table border=\"1\" class=\"dataframe\">\n",
       "  <thead>\n",
       "    <tr style=\"text-align: right;\">\n",
       "      <th></th>\n",
       "      <th>Indicator</th>\n",
       "      <th>check</th>\n",
       "      <th>Data Source</th>\n",
       "      <th>Index</th>\n",
       "      <th>Filename</th>\n",
       "    </tr>\n",
       "  </thead>\n",
       "  <tbody>\n",
       "    <tr>\n",
       "      <th>147</th>\n",
       "      <td>SDG Index</td>\n",
       "      <td>Strategy</td>\n",
       "      <td>Sustainable Development Report</td>\n",
       "      <td>True</td>\n",
       "      <td>sdg_data</td>\n",
       "    </tr>\n",
       "  </tbody>\n",
       "</table>\n",
       "</div>"
      ],
      "text/plain": [
       "     Indicator     check                     Data Source Index  Filename\n",
       "147  SDG Index  Strategy  Sustainable Development Report  True  sdg_data"
      ]
     },
     "execution_count": 10,
     "metadata": {},
     "output_type": "execute_result"
    }
   ],
   "source": [
    "bnames = names[(names.check=='Strategy')&(~names.Filename.isna())]#&(names.Index==False)]\n",
    "bnames.head(25)"
   ]
  },
  {
   "cell_type": "code",
   "execution_count": 11,
   "id": "8f27b711",
   "metadata": {},
   "outputs": [],
   "source": [
    "# get list of names for all indicators\n",
    "indicators = bnames.Indicator.unique()"
   ]
  },
  {
   "cell_type": "code",
   "execution_count": 12,
   "id": "8b21dd61",
   "metadata": {},
   "outputs": [],
   "source": [
    "# get all file names\n",
    "bfiles = bnames.Filename.unique()"
   ]
  },
  {
   "cell_type": "code",
   "execution_count": 13,
   "id": "667712ec",
   "metadata": {},
   "outputs": [
    {
     "data": {
      "text/plain": [
       "array(['sdg_data'], dtype=object)"
      ]
     },
     "execution_count": 13,
     "metadata": {},
     "output_type": "execute_result"
    }
   ],
   "source": [
    "bfiles"
   ]
  },
  {
   "cell_type": "code",
   "execution_count": 14,
   "id": "30ad4d80",
   "metadata": {},
   "outputs": [],
   "source": [
    "# formula for converting scale\n",
    "def convert_rank(old_value, old_min=1, old_max=7, new_min=1, new_max=6 ):\n",
    "    \"\"\" Convert old scale values scale into new scale values\"\"\"\n",
    "    old_range = old_max - old_min\n",
    "    new_range = new_max - new_min\n",
    "    new_value = (((old_value-old_min)*new_range)/old_range)+new_min\n",
    "    return new_value"
   ]
  },
  {
   "cell_type": "code",
   "execution_count": null,
   "id": "2c62bba9",
   "metadata": {},
   "outputs": [],
   "source": [
    "### 2. % of population covered by internet connectivity"
   ]
  }
 ],
 "metadata": {
  "kernelspec": {
   "display_name": "Python 3",
   "language": "python",
   "name": "python3"
  },
  "language_info": {
   "codemirror_mode": {
    "name": "ipython",
    "version": 3
   },
   "file_extension": ".py",
   "mimetype": "text/x-python",
   "name": "python",
   "nbconvert_exporter": "python",
   "pygments_lexer": "ipython3",
   "version": "3.8.8"
  }
 },
 "nbformat": 4,
 "nbformat_minor": 5
}
