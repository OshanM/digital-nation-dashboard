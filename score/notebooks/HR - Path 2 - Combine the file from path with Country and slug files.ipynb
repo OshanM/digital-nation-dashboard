{
 "cells": [
  {
   "cell_type": "code",
   "execution_count": null,
   "id": "0c6e9638",
   "metadata": {},
   "outputs": [],
   "source": [
    "import pandas as pd\n",
    "import numpy as np\n",
    "import os \n",
    "import re"
   ]
  },
  {
   "cell_type": "code",
   "execution_count": null,
   "id": "77ea6cc4",
   "metadata": {},
   "outputs": [],
   "source": [
    "#Path 2"
   ]
  },
  {
   "cell_type": "code",
   "execution_count": null,
   "id": "0d89bd37",
   "metadata": {},
   "outputs": [],
   "source": [
    "slug = pd.read_csv('../../dashboard/DFP_slugs.csv')\n",
    "slug"
   ]
  },
  {
   "cell_type": "code",
   "execution_count": null,
   "id": "fc9462cf",
   "metadata": {},
   "outputs": [],
   "source": [
    "countries = pd.read_csv('../../processed/Countries.csv')\n",
    "countries = countries[['Region Name','Sub-region Name','English short','ISO-alpha3 Code','World Bank Income Level']]\n",
    "countries.rename(columns={'English short':'Country or Area'}, inplace=True)\n",
    "countries"
   ]
  },
  {
   "cell_type": "code",
   "execution_count": null,
   "id": "7b064702",
   "metadata": {},
   "outputs": [],
   "source": [
    "product = pd.merge(slug, countries, how=\"inner\", on=[\"ISO-alpha3 Code\"])\n",
    "product = product[['CMS slug','Region Name','Sub-region Name','Country or Area','World Bank Income Level']]\n",
    "product.rename\n",
    "product"
   ]
  },
  {
   "cell_type": "code",
   "execution_count": null,
   "id": "a8c73efd",
   "metadata": {},
   "outputs": [],
   "source": [
    "total_score = pd.read_csv('../../score/HR_country_scores/Total_Scores.csv')\n",
    "total_score.rename(columns={'Country Name':'Country or Area'}, inplace=True)\n",
    "total_score"
   ]
  },
  {
   "cell_type": "code",
   "execution_count": null,
   "id": "cebcc8a3",
   "metadata": {},
   "outputs": [],
   "source": [
    "flourish = pd.merge(product, total_score, how=\"inner\", on=[\"Country or Area\"])\n",
    "flourish.sort_values(by=['HRAssociation'], inplace=True)\n"
   ]
  },
  {
   "cell_type": "code",
   "execution_count": null,
   "id": "43d47b5c",
   "metadata": {},
   "outputs": [],
   "source": [
    "flourish.to_csv('../HR_country_scores/Flourish Data.csv',index = False)"
   ]
  }
 ],
 "metadata": {
  "kernelspec": {
   "display_name": "Python 3",
   "language": "python",
   "name": "python3"
  },
  "language_info": {
   "codemirror_mode": {
    "name": "ipython",
    "version": 3
   },
   "file_extension": ".py",
   "mimetype": "text/x-python",
   "name": "python",
   "nbconvert_exporter": "python",
   "pygments_lexer": "ipython3",
   "version": "3.8.8"
  }
 },
 "nbformat": 4,
 "nbformat_minor": 5
}
